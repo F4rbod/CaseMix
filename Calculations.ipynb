{
 "cells": [
  {
   "cell_type": "markdown",
   "id": "8fc60b63-72f8-440f-8ecf-b2c8a703e6e9",
   "metadata": {
    "tags": []
   },
   "source": [
    "# Setting up the environment\n",
    "\n",
    "We'll load the needed libraries:\n"
   ]
  },
  {
   "cell_type": "code",
   "execution_count": null,
   "id": "1daafa0d-e49a-44a4-b5a5-a35ab72cc77d",
   "metadata": {},
   "outputs": [],
   "source": [
    "#library(styler)\n",
    "#styler::style_file(path = \"Calculations.Rmd\")"
   ]
  },
  {
   "cell_type": "code",
   "execution_count": 7,
   "id": "7ff3d0ea-5883-4e18-b707-c5291b20b31e",
   "metadata": {},
   "outputs": [
    {
     "name": "stderr",
     "output_type": "stream",
     "text": [
      "Initializing packrat project in directory:\n",
      "- \"/work/postresearch/Shared/Projects/Farbod/CaseMix\"\n",
      "\n",
      "Initialization complete!\n",
      "\n"
     ]
    }
   ],
   "source": [
    "packrat::init()"
   ]
  },
  {
   "cell_type": "code",
   "execution_count": 9,
   "id": "d70bde80-4372-4997-b1b0-15e89bf976c8",
   "metadata": {},
   "outputs": [
    {
     "name": "stderr",
     "output_type": "stream",
     "text": [
      "Warning message in FUN(X[[i]], ...):\n",
      "“No DESCRIPTION file for installed package '00LOCK-caTools'”\n",
      "Warning message in FUN(X[[i]], ...):\n",
      "“No DESCRIPTION file for installed package '00LOCK-jsonlite'”\n"
     ]
    },
    {
     "ename": "ERROR",
     "evalue": "Error in if (pkg$name == pkgName) return(pkg): argument is of length zero\n",
     "output_type": "error",
     "traceback": [
      "Error in if (pkg$name == pkgName) return(pkg): argument is of length zero\nTraceback:\n",
      "1. packrat::status()",
      "2. prettyPrintPair(searchPackages(installedPkgRecords, missingFromPackrat), \n .     searchPackages(packratPackages, missingFromPackrat), \"The following packages have been updated in your library, but have not been recorded in packrat:\", \n .     \"Use packrat::snapshot() to record these packages in packrat.\", \n .     \"library\", \"packrat\")",
      "3. searchPackages(installedPkgRecords, missingFromPackrat)",
      "4. lapply(packageNames, function(pkgName) {\n .     for (pkg in packages) {\n .         if (pkg$name == pkgName) \n .             return(pkg)\n .         if (!is.null(pkg$depends)) {\n .             found <- searchPackages(pkg$depends, pkgName)[[1]]\n .             if (!is.null(found)) \n .                 return(found)\n .         }\n .     }\n .     return(NULL)\n . })",
      "5. FUN(X[[i]], ...)"
     ]
    }
   ],
   "source": [
    "packrat::status()"
   ]
  },
  {
   "cell_type": "code",
   "execution_count": 6,
   "id": "700e7ffd-09eb-4f1e-8c9d-16449c722c73",
   "metadata": {},
   "outputs": [
    {
     "ename": "ERROR",
     "evalue": "Error: package or namespace load failed for ‘tidyverse’ in dyn.load(file, DLLpath = DLLpath, ...):\n unable to load shared object '/work/postresearch/Shared/Projects/Farbod/CaseMix/packrat/lib/x86_64-pc-linux-gnu/4.2.0/xml2/libs/xml2.so':\n  libicui18n.so.58: cannot open shared object file: No such file or directory\n",
     "output_type": "error",
     "traceback": [
      "Error: package or namespace load failed for ‘tidyverse’ in dyn.load(file, DLLpath = DLLpath, ...):\n unable to load shared object '/work/postresearch/Shared/Projects/Farbod/CaseMix/packrat/lib/x86_64-pc-linux-gnu/4.2.0/xml2/libs/xml2.so':\n  libicui18n.so.58: cannot open shared object file: No such file or directory\nTraceback:\n",
      "1. library(tidyverse)",
      "2. tryCatch({\n .     attr(package, \"LibPath\") <- which.lib.loc\n .     ns <- loadNamespace(package, lib.loc)\n .     env <- attachNamespace(ns, pos = pos, deps, exclude, include.only)\n . }, error = function(e) {\n .     P <- if (!is.null(cc <- conditionCall(e))) \n .         paste(\" in\", deparse(cc)[1L])\n .     else \"\"\n .     msg <- gettextf(\"package or namespace load failed for %s%s:\\n %s\", \n .         sQuote(package), P, conditionMessage(e))\n .     if (logical.return && !quietly) \n .         message(paste(\"Error:\", msg), domain = NA)\n .     else stop(msg, call. = FALSE, domain = NA)\n . })",
      "3. tryCatchList(expr, classes, parentenv, handlers)",
      "4. tryCatchOne(expr, names, parentenv, handlers[[1L]])",
      "5. value[[3L]](cond)",
      "6. stop(msg, call. = FALSE, domain = NA)"
     ]
    }
   ],
   "source": [
    "options(repr.matrix.max.rows = 100, repr.matrix.max.cols = 300)\n",
    "options(repr.plot.width = 20, repr.plot.height = 15)\n",
    "options(width = 300)\n",
    "\n",
    "numcores <- 56\n",
    "\n",
    "library(tidyverse)\n",
    "library(data.table)\n",
    "library(fst)\n",
    "library(comorbidity)\n",
    "library(reshape)\n",
    "library(dtplyr)\n",
    "library(haven)\n",
    "library(vroom)\n",
    "library(dplyr)\n",
    "`%!in%` <- Negate(`%in%`)\n",
    "\n",
    "setDTthreads(numcores)"
   ]
  },
  {
   "cell_type": "markdown",
   "id": "aca6b5f1-4d6a-41dc-a78d-8ecd69abdec1",
   "metadata": {
    "tags": []
   },
   "source": [
    "# Codes\n",
    "\n",
    "First, we will add codes from ICD and Medicare:primary_care_specialty_codes"
   ]
  },
  {
   "cell_type": "code",
   "execution_count": 2,
   "id": "33b8775f-2883-4eea-a49a-4f7b77f86aa4",
   "metadata": {},
   "outputs": [],
   "source": [
    "# diagnosis codes\n",
    "\n",
    "office_visit_codes <- c(\n",
    "  \"99201\", \"99202\", \"99203\", \"99204\", \"99205\", \"99211\", \"99212\", \"99213\", \"99214\",\n",
    "  \"99215\"\n",
    ")\n",
    "\n",
    "IHD_icd_9_codes <- c(410, 411, 412, 413, 414)\n",
    "IHD_icd_10_codes <- c(\"I20\", \"I21\", \"I22\", \"I23\", \"I24\", \"I25\")\n",
    "\n",
    "non_us_state_codes <- c(40, 54, 56, 57, 58, 59, 60, 61, 62, 63, 64, 65, 66, 97, 98, 99)\n",
    "\n",
    "primary_care_specialty_codes <- c(\"01\", \"08\", \"11\", \"38\")\n",
    "\n",
    "# http://www.icd9data.com/2015/Volume1/390-459/401-405/default.htm\n",
    "# https://www.icd10data.com/ICD10CM/Codes/I00-I99/I10-I16\n",
    "hypertension_icd_9_codes <- c(\"401\", \"402\", \"403\", \"404\", \"405\")\n",
    "hypertension_icd_10_codes <- c(\"I10\", \"I11\", \"I12\", \"I13\", \"I15\", \"I16\")\n",
    "\n",
    "# http://www.icd9data.com/2014/Volume1/290-319/295-299/296/default.htm\n",
    "# https://www.icd10data.com/ICD10CM/Codes/F01-F99/F30-F39\n",
    "depression_icd_9_codes <- c(\"2962\", \"2963\")\n",
    "depression_icd_10_codes <- c(\"F32\", \"F33\")\n",
    "\n",
    "# http://www.icd9data.com/2015/Volume1/240-279/249-259/default.htm\n",
    "# https://www.icd10data.com/ICD10CM/Codes/E00-E89/E08-E13\n",
    "diabetes_icd_9_codes <- c(\"250\")\n",
    "diabetes_icd_10_codes <- c(\"E08\", \"E09\", \"E10\", \"E11\", \"E13\")\n",
    "\n",
    "# http://www.icd9data.com/2014/Volume1/710-739/710-719/714/default.htm\n",
    "# https://www.icd10data.com/ICD10CM/Codes/M00-M99/M05-M14\n",
    "arthritis_icd_9_codes <- c(\"714\")\n",
    "arthritis_icd_10_codes <- c(\"M05\", \"M06\", \"M07\", \"M08\", \"M09\", \"M10\", \"M11\", \"M12\", \"M13\", \"M14\")\n",
    "\n",
    "\n",
    "race_codes <- data.frame(\n",
    "  race_code = seq(0, 6),\n",
    "  race = c(\"Unknown\", \"White\", \"Black\", \"Other\", \"Asian\", \"Hispanic\", \"North American Native\")\n",
    ")\n",
    "\n",
    "sex_codes <- data.frame(\n",
    "  sex_code = seq(0, 2),\n",
    "  sex = c(\"Unknown\", \"Male\", \"Female\")\n",
    ")"
   ]
  },
  {
   "cell_type": "markdown",
   "id": "7cea606a-44b7-4e78-b934-4082653f025c",
   "metadata": {
    "incorrectly_encoded_metadata": "tags=[] toc-hr-collapsed=true jp-MarkdownHeadingCollapsed=true jp-MarkdownHeadingCollapsed=true jp-MarkdownHeadingCollapsed=true"
   },
   "source": [
    "# Patient level calculations"
   ]
  },
  {
   "cell_type": "markdown",
   "id": "68e65d5b-6108-4a8f-a5c1-1edd174294b5",
   "metadata": {
    "tags": []
   },
   "source": [
    "## Yearly Calculators\n",
    "\n",
    "These are the main functions that calculate yearly expenditures for patients and their corresponding physicians.\\"
   ]
  },
  {
   "cell_type": "markdown",
   "id": "75f45186-c2d4-44aa-b11e-4b4a50ba2770",
   "metadata": {
    "incorrectly_encoded_metadata": "jp-MarkdownHeadingCollapsed=true",
    "tags": []
   },
   "source": [
    "### Fixing the MBSF data"
   ]
  },
  {
   "cell_type": "code",
   "execution_count": 10,
   "id": "d049803c-2e01-4e19-8881-c3055d5ff632",
   "metadata": {
    "collapsed": true,
    "jupyter": {
     "outputs_hidden": true
    },
    "tags": []
   },
   "outputs": [
    {
     "name": "stderr",
     "output_type": "stream",
     "text": [
      "\u001b[1m\u001b[22mNew names:\n",
      "\u001b[36m•\u001b[39m `1` -> `1...5`\n",
      "\u001b[36m•\u001b[39m `1` -> `1...7`\n",
      "\u001b[36m•\u001b[39m `0` -> `0...8`\n",
      "\u001b[36m•\u001b[39m `0` -> `0...9`\n",
      "\u001b[36m•\u001b[39m `0` -> `0...11`\n",
      "\u001b[36m•\u001b[39m `0` -> `0...12`\n",
      "\u001b[36m•\u001b[39m `3` -> `3...13`\n",
      "\u001b[36m•\u001b[39m `3` -> `3...14`\n",
      "\u001b[36m•\u001b[39m `3` -> `3...15`\n",
      "\u001b[36m•\u001b[39m `3` -> `3...16`\n",
      "\u001b[36m•\u001b[39m `3` -> `3...17`\n",
      "\u001b[36m•\u001b[39m `3` -> `3...18`\n",
      "\u001b[36m•\u001b[39m `3` -> `3...19`\n",
      "\u001b[36m•\u001b[39m `3` -> `3...20`\n",
      "\u001b[36m•\u001b[39m `3` -> `3...21`\n",
      "\u001b[36m•\u001b[39m `3` -> `3...22`\n",
      "\u001b[36m•\u001b[39m `3` -> `3...23`\n",
      "\u001b[36m•\u001b[39m `3` -> `3...24`\n",
      "\u001b[36m•\u001b[39m `C` -> `C...25`\n",
      "\u001b[36m•\u001b[39m `C` -> `C...26`\n",
      "\u001b[36m•\u001b[39m `C` -> `C...27`\n",
      "\u001b[36m•\u001b[39m `C` -> `C...28`\n",
      "\u001b[36m•\u001b[39m `C` -> `C...29`\n",
      "\u001b[36m•\u001b[39m `C` -> `C...30`\n",
      "\u001b[36m•\u001b[39m `C` -> `C...31`\n",
      "\u001b[36m•\u001b[39m `C` -> `C...32`\n",
      "\u001b[36m•\u001b[39m `C` -> `C...33`\n",
      "\u001b[36m•\u001b[39m `C` -> `C...34`\n",
      "\u001b[36m•\u001b[39m `C` -> `C...35`\n",
      "\u001b[36m•\u001b[39m `C` -> `C...36`\n",
      "\u001b[36m•\u001b[39m `12` -> `12...37`\n",
      "\u001b[36m•\u001b[39m `12` -> `12...38`\n",
      "\u001b[36m•\u001b[39m `12` -> `12...39`\n",
      "\u001b[36m•\u001b[39m `0` -> `0...40`\n",
      "\u001b[36m•\u001b[39m `` -> `...41`\n",
      "\u001b[36m•\u001b[39m `` -> `...42`\n",
      "\u001b[1mRows: \u001b[22m\u001b[34m2758309\u001b[39m \u001b[1mColumns: \u001b[22m\u001b[34m43\u001b[39m\n",
      "\u001b[36m──\u001b[39m \u001b[1mColumn specification\u001b[22m \u001b[36m────────────────────────────────────────────────────────────────────────────────────────────────────────────────────\u001b[39m\n",
      "\u001b[1mDelimiter:\u001b[22m \",\"\n",
      "\u001b[31mchr\u001b[39m (29): 000000000, 05, 400, 0...9, 3...13, 3...14, 3...15, 3...16, 3...17, 3...18, 3...19, 3...20, 3...21, 3...22, 3...23, 3...24, C...25, C...26, C...27, C...28, C...29, C...30, C...31, C...32, C...33, C...34, C...35, C...36, ...41\n",
      "\u001b[32mdbl\u001b[39m (14): 2, 1...5, 70, 1...7, 0...8, 10, 0...11, 0...12, 12...37, 12...38, 12...39, 0...40, ...42, 13\n",
      "\n",
      "\u001b[36mℹ\u001b[39m Use `spec()` to retrieve the full column specification for this data.\n",
      "\u001b[36mℹ\u001b[39m Specify the column types or set `show_col_types = FALSE` to quiet this message.\n",
      "\u001b[1m\u001b[22mNew names:\n",
      "\u001b[36m•\u001b[39m `1` -> `1...5`\n",
      "\u001b[36m•\u001b[39m `1` -> `1...7`\n",
      "\u001b[36m•\u001b[39m `0` -> `0...8`\n",
      "\u001b[36m•\u001b[39m `0` -> `0...9`\n",
      "\u001b[36m•\u001b[39m `0` -> `0...11`\n",
      "\u001b[36m•\u001b[39m `0` -> `0...12`\n",
      "\u001b[36m•\u001b[39m `3` -> `3...13`\n",
      "\u001b[36m•\u001b[39m `3` -> `3...14`\n",
      "\u001b[36m•\u001b[39m `3` -> `3...15`\n",
      "\u001b[36m•\u001b[39m `3` -> `3...16`\n",
      "\u001b[36m•\u001b[39m `3` -> `3...17`\n",
      "\u001b[36m•\u001b[39m `3` -> `3...18`\n",
      "\u001b[36m•\u001b[39m `3` -> `3...19`\n",
      "\u001b[36m•\u001b[39m `3` -> `3...20`\n",
      "\u001b[36m•\u001b[39m `3` -> `3...21`\n",
      "\u001b[36m•\u001b[39m `3` -> `3...22`\n",
      "\u001b[36m•\u001b[39m `3` -> `3...23`\n",
      "\u001b[36m•\u001b[39m `3` -> `3...24`\n",
      "\u001b[36m•\u001b[39m `C` -> `C...25`\n",
      "\u001b[36m•\u001b[39m `C` -> `C...26`\n",
      "\u001b[36m•\u001b[39m `C` -> `C...27`\n",
      "\u001b[36m•\u001b[39m `C` -> `C...28`\n",
      "\u001b[36m•\u001b[39m `C` -> `C...29`\n",
      "\u001b[36m•\u001b[39m `C` -> `C...30`\n",
      "\u001b[36m•\u001b[39m `C` -> `C...31`\n",
      "\u001b[36m•\u001b[39m `C` -> `C...32`\n",
      "\u001b[36m•\u001b[39m `C` -> `C...33`\n",
      "\u001b[36m•\u001b[39m `C` -> `C...34`\n",
      "\u001b[36m•\u001b[39m `C` -> `C...35`\n",
      "\u001b[36m•\u001b[39m `C` -> `C...36`\n",
      "\u001b[36m•\u001b[39m `12` -> `12...37`\n",
      "\u001b[36m•\u001b[39m `12` -> `12...38`\n",
      "\u001b[36m•\u001b[39m `12` -> `12...39`\n",
      "\u001b[36m•\u001b[39m `0` -> `0...40`\n",
      "\u001b[36m•\u001b[39m `` -> `...41`\n",
      "\u001b[36m•\u001b[39m `` -> `...42`\n",
      "\u001b[1mRows: \u001b[22m\u001b[34m2836378\u001b[39m \u001b[1mColumns: \u001b[22m\u001b[34m43\u001b[39m\n",
      "\u001b[36m──\u001b[39m \u001b[1mColumn specification\u001b[22m \u001b[36m────────────────────────────────────────────────────────────────────────────────────────────────────────────────────\u001b[39m\n",
      "\u001b[1mDelimiter:\u001b[22m \",\"\n",
      "\u001b[31mchr\u001b[39m (29): 000000000, 05, 400, 0...9, 3...13, 3...14, 3...15, 3...16, 3...17, 3...18, 3...19, 3...20, 3...21, 3...22, 3...23, 3...24, C...25, C...26, C...27, C...28, C...29, C...30, C...31, C...32, C...33, C...34, C...35, C...36, ...41\n",
      "\u001b[32mdbl\u001b[39m (14): 2, 1...5, 71, 1...7, 0...8, 10, 0...11, 0...12, 12...37, 12...38, 12...39, 0...40, ...42, 14\n",
      "\n",
      "\u001b[36mℹ\u001b[39m Use `spec()` to retrieve the full column specification for this data.\n",
      "\u001b[36mℹ\u001b[39m Specify the column types or set `show_col_types = FALSE` to quiet this message.\n",
      "\u001b[1m\u001b[22mNew names:\n",
      "\u001b[36m•\u001b[39m `1` -> `1...5`\n",
      "\u001b[36m•\u001b[39m `1` -> `1...7`\n",
      "\u001b[36m•\u001b[39m `0` -> `0...8`\n",
      "\u001b[36m•\u001b[39m `0` -> `0...9`\n",
      "\u001b[36m•\u001b[39m `0` -> `0...11`\n",
      "\u001b[36m•\u001b[39m `0` -> `0...12`\n",
      "\u001b[36m•\u001b[39m `3` -> `3...13`\n",
      "\u001b[36m•\u001b[39m `3` -> `3...14`\n",
      "\u001b[36m•\u001b[39m `3` -> `3...15`\n",
      "\u001b[36m•\u001b[39m `3` -> `3...16`\n",
      "\u001b[36m•\u001b[39m `3` -> `3...17`\n",
      "\u001b[36m•\u001b[39m `3` -> `3...18`\n",
      "\u001b[36m•\u001b[39m `3` -> `3...19`\n",
      "\u001b[36m•\u001b[39m `3` -> `3...20`\n",
      "\u001b[36m•\u001b[39m `3` -> `3...21`\n",
      "\u001b[36m•\u001b[39m `3` -> `3...22`\n",
      "\u001b[36m•\u001b[39m `3` -> `3...23`\n",
      "\u001b[36m•\u001b[39m `3` -> `3...24`\n",
      "\u001b[36m•\u001b[39m `C` -> `C...25`\n",
      "\u001b[36m•\u001b[39m `C` -> `C...26`\n",
      "\u001b[36m•\u001b[39m `C` -> `C...27`\n",
      "\u001b[36m•\u001b[39m `C` -> `C...28`\n",
      "\u001b[36m•\u001b[39m `C` -> `C...29`\n",
      "\u001b[36m•\u001b[39m `C` -> `C...30`\n",
      "\u001b[36m•\u001b[39m `C` -> `C...31`\n",
      "\u001b[36m•\u001b[39m `C` -> `C...32`\n",
      "\u001b[36m•\u001b[39m `C` -> `C...33`\n",
      "\u001b[36m•\u001b[39m `C` -> `C...34`\n",
      "\u001b[36m•\u001b[39m `C` -> `C...35`\n",
      "\u001b[36m•\u001b[39m `C` -> `C...36`\n",
      "\u001b[36m•\u001b[39m `12` -> `12...37`\n",
      "\u001b[36m•\u001b[39m `12` -> `12...38`\n",
      "\u001b[36m•\u001b[39m `12` -> `12...39`\n",
      "\u001b[36m•\u001b[39m `0` -> `0...40`\n",
      "\u001b[36m•\u001b[39m `` -> `...41`\n",
      "\u001b[36m•\u001b[39m `` -> `...42`\n",
      "\u001b[1mRows: \u001b[22m\u001b[34m2912728\u001b[39m \u001b[1mColumns: \u001b[22m\u001b[34m43\u001b[39m\n",
      "\u001b[36m──\u001b[39m \u001b[1mColumn specification\u001b[22m \u001b[36m────────────────────────────────────────────────────────────────────────────────────────────────────────────────────\u001b[39m\n",
      "\u001b[1mDelimiter:\u001b[22m \",\"\n",
      "\u001b[31mchr\u001b[39m (29): 000000000, 05, 400, 0...9, 3...13, 3...14, 3...15, 3...16, 3...17, 3...18, 3...19, 3...20, 3...21, 3...22, 3...23, 3...24, C...25, C...26, C...27, C...28, C...29, C...30, C...31, C...32, C...33, C...34, C...35, C...36, ...41\n",
      "\u001b[32mdbl\u001b[39m (14): 2, 1...5, 72, 1...7, 0...8, 10, 0...11, 0...12, 12...37, 12...38, 12...39, 0...40, ...42, 15\n",
      "\n",
      "\u001b[36mℹ\u001b[39m Use `spec()` to retrieve the full column specification for this data.\n",
      "\u001b[36mℹ\u001b[39m Specify the column types or set `show_col_types = FALSE` to quiet this message.\n",
      "\u001b[1m\u001b[22mNew names:\n",
      "\u001b[36m•\u001b[39m `30029` -> `30029...6`\n",
      "\u001b[36m•\u001b[39m `30029` -> `30029...7`\n",
      "\u001b[36m•\u001b[39m `30029` -> `30029...8`\n",
      "\u001b[36m•\u001b[39m `30029` -> `30029...9`\n",
      "\u001b[36m•\u001b[39m `30029` -> `30029...10`\n",
      "\u001b[36m•\u001b[39m `30029` -> `30029...11`\n",
      "\u001b[36m•\u001b[39m `30029` -> `30029...12`\n",
      "\u001b[36m•\u001b[39m `30029` -> `30029...13`\n",
      "\u001b[36m•\u001b[39m `30029` -> `30029...14`\n",
      "\u001b[36m•\u001b[39m `30029` -> `30029...15`\n",
      "\u001b[36m•\u001b[39m `30029` -> `30029...16`\n",
      "\u001b[36m•\u001b[39m `30029` -> `30029...17`\n",
      "\u001b[36m•\u001b[39m `0` -> `0...21`\n",
      "\u001b[36m•\u001b[39m `0` -> `0...22`\n",
      "\u001b[36m•\u001b[39m `0` -> `0...23`\n",
      "\u001b[36m•\u001b[39m `10` -> `10...24`\n",
      "\u001b[36m•\u001b[39m `10` -> `10...25`\n",
      "\u001b[36m•\u001b[39m `10` -> `10...26`\n",
      "\u001b[36m•\u001b[39m `10` -> `10...27`\n",
      "\u001b[36m•\u001b[39m `10` -> `10...28`\n",
      "\u001b[36m•\u001b[39m `10` -> `10...29`\n",
      "\u001b[36m•\u001b[39m `10` -> `10...30`\n",
      "\u001b[36m•\u001b[39m `10` -> `10...31`\n",
      "\u001b[36m•\u001b[39m `10` -> `10...32`\n",
      "\u001b[36m•\u001b[39m `10` -> `10...33`\n",
      "\u001b[36m•\u001b[39m `10` -> `10...34`\n",
      "\u001b[36m•\u001b[39m `10` -> `10...35`\n",
      "\u001b[36m•\u001b[39m `0` -> `0...36`\n",
      "\u001b[36m•\u001b[39m `0` -> `0...37`\n",
      "\u001b[36m•\u001b[39m `3` -> `3...38`\n",
      "\u001b[36m•\u001b[39m `3` -> `3...39`\n",
      "\u001b[36m•\u001b[39m `3` -> `3...40`\n",
      "\u001b[36m•\u001b[39m `3` -> `3...41`\n",
      "\u001b[36m•\u001b[39m `3` -> `3...42`\n",
      "\u001b[36m•\u001b[39m `3` -> `3...43`\n",
      "\u001b[36m•\u001b[39m `3` -> `3...44`\n",
      "\u001b[36m•\u001b[39m `3` -> `3...45`\n",
      "\u001b[36m•\u001b[39m `3` -> `3...46`\n",
      "\u001b[36m•\u001b[39m `3` -> `3...47`\n",
      "\u001b[36m•\u001b[39m `3` -> `3...48`\n",
      "\u001b[36m•\u001b[39m `3` -> `3...49`\n",
      "\u001b[36m•\u001b[39m `C` -> `C...50`\n",
      "\u001b[36m•\u001b[39m `C` -> `C...51`\n",
      "\u001b[36m•\u001b[39m `C` -> `C...52`\n",
      "\u001b[36m•\u001b[39m `C` -> `C...53`\n",
      "\u001b[36m•\u001b[39m `C` -> `C...54`\n",
      "\u001b[36m•\u001b[39m `C` -> `C...55`\n",
      "\u001b[36m•\u001b[39m `C` -> `C...56`\n",
      "\u001b[36m•\u001b[39m `C` -> `C...57`\n",
      "\u001b[36m•\u001b[39m `C` -> `C...58`\n",
      "\u001b[36m•\u001b[39m `C` -> `C...59`\n",
      "\u001b[36m•\u001b[39m `C` -> `C...60`\n",
      "\u001b[36m•\u001b[39m `C` -> `C...61`\n",
      "\u001b[36m•\u001b[39m `12` -> `12...62`\n",
      "\u001b[36m•\u001b[39m `12` -> `12...63`\n",
      "\u001b[36m•\u001b[39m `12` -> `12...64`\n",
      "\u001b[36m•\u001b[39m `0` -> `0...65`\n",
      "\u001b[36m•\u001b[39m `` -> `...66`\n",
      "\u001b[36m•\u001b[39m `` -> `...67`\n",
      "\u001b[36m•\u001b[39m `NA` -> `NA...68`\n",
      "\u001b[36m•\u001b[39m `NA` -> `NA...69`\n",
      "\u001b[36m•\u001b[39m `NA` -> `NA...70`\n",
      "\u001b[36m•\u001b[39m `NA` -> `NA...71`\n",
      "\u001b[36m•\u001b[39m `NA` -> `NA...72`\n",
      "\u001b[36m•\u001b[39m `NA` -> `NA...73`\n",
      "\u001b[36m•\u001b[39m `NA` -> `NA...74`\n",
      "\u001b[36m•\u001b[39m `NA` -> `NA...75`\n",
      "\u001b[36m•\u001b[39m `NA` -> `NA...76`\n",
      "\u001b[36m•\u001b[39m `NA` -> `NA...77`\n",
      "\u001b[36m•\u001b[39m `NA` -> `NA...78`\n",
      "\u001b[36m•\u001b[39m `NA` -> `NA...79`\n",
      "\u001b[1mRows: \u001b[22m\u001b[34m2990263\u001b[39m \u001b[1mColumns: \u001b[22m\u001b[34m79\u001b[39m\n",
      "\u001b[36m──\u001b[39m \u001b[1mColumn specification\u001b[22m \u001b[36m────────────────────────────────────────────────────────────────────────────────────────────────────────────────────\u001b[39m\n",
      "\u001b[1mDelimiter:\u001b[22m \",\"\n",
      "\u001b[31mchr\u001b[39m (65): 04, 27, 140, 30029...6, 30029...7, 30029...8, 30029...9, 30029...10, 30029...11, 30029...12, 30029...13, 30029...14, 30029...15, 30029...16, 30029...17, 0...23, 10...24, 10...25, 10...26, 10...27, 10...28, 10...29, 10...30, 10...31, 10...32, 10...33, 10...34, 10...35, 3...38, 3...39, 3...\n",
      "\u001b[32mdbl\u001b[39m (14): 100000005, 2016, 2, 1, 79, 0...21, 0...22, 0...36, 0...37, 12...62, 12...63, 12...64, 0...65, ...67\n",
      "\n",
      "\u001b[36mℹ\u001b[39m Use `spec()` to retrieve the full column specification for this data.\n",
      "\u001b[36mℹ\u001b[39m Specify the column types or set `show_col_types = FALSE` to quiet this message.\n",
      "\u001b[1m\u001b[22mNew names:\n",
      "\u001b[36m•\u001b[39m `30029` -> `30029...6`\n",
      "\u001b[36m•\u001b[39m `30029` -> `30029...7`\n",
      "\u001b[36m•\u001b[39m `30029` -> `30029...8`\n",
      "\u001b[36m•\u001b[39m `30029` -> `30029...9`\n",
      "\u001b[36m•\u001b[39m `30029` -> `30029...10`\n",
      "\u001b[36m•\u001b[39m `30029` -> `30029...11`\n",
      "\u001b[36m•\u001b[39m `30029` -> `30029...12`\n",
      "\u001b[36m•\u001b[39m `30029` -> `30029...13`\n",
      "\u001b[36m•\u001b[39m `30029` -> `30029...14`\n",
      "\u001b[36m•\u001b[39m `30029` -> `30029...15`\n",
      "\u001b[36m•\u001b[39m `30029` -> `30029...16`\n",
      "\u001b[36m•\u001b[39m `30029` -> `30029...17`\n",
      "\u001b[36m•\u001b[39m `0` -> `0...21`\n",
      "\u001b[36m•\u001b[39m `0` -> `0...22`\n",
      "\u001b[36m•\u001b[39m `0` -> `0...23`\n",
      "\u001b[36m•\u001b[39m `10` -> `10...24`\n",
      "\u001b[36m•\u001b[39m `10` -> `10...25`\n",
      "\u001b[36m•\u001b[39m `10` -> `10...26`\n",
      "\u001b[36m•\u001b[39m `10` -> `10...27`\n",
      "\u001b[36m•\u001b[39m `10` -> `10...28`\n",
      "\u001b[36m•\u001b[39m `10` -> `10...29`\n",
      "\u001b[36m•\u001b[39m `10` -> `10...30`\n",
      "\u001b[36m•\u001b[39m `10` -> `10...31`\n",
      "\u001b[36m•\u001b[39m `10` -> `10...32`\n",
      "\u001b[36m•\u001b[39m `10` -> `10...33`\n",
      "\u001b[36m•\u001b[39m `10` -> `10...34`\n",
      "\u001b[36m•\u001b[39m `10` -> `10...35`\n",
      "\u001b[36m•\u001b[39m `0` -> `0...36`\n",
      "\u001b[36m•\u001b[39m `0` -> `0...37`\n",
      "\u001b[36m•\u001b[39m `3` -> `3...38`\n",
      "\u001b[36m•\u001b[39m `3` -> `3...39`\n",
      "\u001b[36m•\u001b[39m `3` -> `3...40`\n",
      "\u001b[36m•\u001b[39m `3` -> `3...41`\n",
      "\u001b[36m•\u001b[39m `3` -> `3...42`\n",
      "\u001b[36m•\u001b[39m `3` -> `3...43`\n",
      "\u001b[36m•\u001b[39m `3` -> `3...44`\n",
      "\u001b[36m•\u001b[39m `3` -> `3...45`\n",
      "\u001b[36m•\u001b[39m `3` -> `3...46`\n",
      "\u001b[36m•\u001b[39m `3` -> `3...47`\n",
      "\u001b[36m•\u001b[39m `3` -> `3...48`\n",
      "\u001b[36m•\u001b[39m `3` -> `3...49`\n",
      "\u001b[36m•\u001b[39m `C` -> `C...50`\n",
      "\u001b[36m•\u001b[39m `C` -> `C...51`\n",
      "\u001b[36m•\u001b[39m `C` -> `C...52`\n",
      "\u001b[36m•\u001b[39m `C` -> `C...53`\n",
      "\u001b[36m•\u001b[39m `C` -> `C...54`\n",
      "\u001b[36m•\u001b[39m `C` -> `C...55`\n",
      "\u001b[36m•\u001b[39m `C` -> `C...56`\n",
      "\u001b[36m•\u001b[39m `C` -> `C...57`\n",
      "\u001b[36m•\u001b[39m `C` -> `C...58`\n",
      "\u001b[36m•\u001b[39m `C` -> `C...59`\n",
      "\u001b[36m•\u001b[39m `C` -> `C...60`\n",
      "\u001b[36m•\u001b[39m `C` -> `C...61`\n",
      "\u001b[36m•\u001b[39m `12` -> `12...62`\n",
      "\u001b[36m•\u001b[39m `12` -> `12...63`\n",
      "\u001b[36m•\u001b[39m `12` -> `12...64`\n",
      "\u001b[36m•\u001b[39m `0` -> `0...65`\n",
      "\u001b[36m•\u001b[39m `` -> `...66`\n",
      "\u001b[36m•\u001b[39m `` -> `...67`\n",
      "\u001b[36m•\u001b[39m `NA` -> `NA...68`\n",
      "\u001b[36m•\u001b[39m `NA` -> `NA...69`\n",
      "\u001b[36m•\u001b[39m `NA` -> `NA...70`\n",
      "\u001b[36m•\u001b[39m `NA` -> `NA...71`\n",
      "\u001b[36m•\u001b[39m `NA` -> `NA...72`\n",
      "\u001b[36m•\u001b[39m `NA` -> `NA...73`\n",
      "\u001b[36m•\u001b[39m `NA` -> `NA...74`\n",
      "\u001b[36m•\u001b[39m `NA` -> `NA...75`\n",
      "\u001b[36m•\u001b[39m `NA` -> `NA...76`\n",
      "\u001b[36m•\u001b[39m `NA` -> `NA...77`\n",
      "\u001b[36m•\u001b[39m `NA` -> `NA...78`\n",
      "\u001b[36m•\u001b[39m `NA` -> `NA...79`\n",
      "\u001b[1mRows: \u001b[22m\u001b[34m3073461\u001b[39m \u001b[1mColumns: \u001b[22m\u001b[34m79\u001b[39m\n",
      "\u001b[36m──\u001b[39m \u001b[1mColumn specification\u001b[22m \u001b[36m────────────────────────────────────────────────────────────────────────────────────────────────────────────────────\u001b[39m\n",
      "\u001b[1mDelimiter:\u001b[22m \",\"\n",
      "\u001b[31mchr\u001b[39m (65): 04, 27, 140, 30029...6, 30029...7, 30029...8, 30029...9, 30029...10, 30029...11, 30029...12, 30029...13, 30029...14, 30029...15, 30029...16, 30029...17, 0...23, 10...24, 10...25, 10...26, 10...27, 10...28, 10...29, 10...30, 10...31, 10...32, 10...33, 10...34, 10...35, 3...38, 3...39, 3...\n",
      "\u001b[32mdbl\u001b[39m (14): 100000005, 2017, 2, 1, 80, 0...21, 0...22, 0...36, 0...37, 12...62, 12...63, 12...64, 0...65, ...67\n",
      "\n",
      "\u001b[36mℹ\u001b[39m Use `spec()` to retrieve the full column specification for this data.\n",
      "\u001b[36mℹ\u001b[39m Specify the column types or set `show_col_types = FALSE` to quiet this message.\n",
      "\u001b[1m\u001b[22mNew names:\n",
      "\u001b[36m•\u001b[39m `30029` -> `30029...6`\n",
      "\u001b[36m•\u001b[39m `30029` -> `30029...7`\n",
      "\u001b[36m•\u001b[39m `30029` -> `30029...8`\n",
      "\u001b[36m•\u001b[39m `30029` -> `30029...9`\n",
      "\u001b[36m•\u001b[39m `30029` -> `30029...10`\n",
      "\u001b[36m•\u001b[39m `30029` -> `30029...11`\n",
      "\u001b[36m•\u001b[39m `30029` -> `30029...12`\n",
      "\u001b[36m•\u001b[39m `30029` -> `30029...13`\n",
      "\u001b[36m•\u001b[39m `30029` -> `30029...14`\n",
      "\u001b[36m•\u001b[39m `30029` -> `30029...15`\n",
      "\u001b[36m•\u001b[39m `30029` -> `30029...16`\n",
      "\u001b[36m•\u001b[39m `30029` -> `30029...17`\n",
      "\u001b[36m•\u001b[39m `0` -> `0...21`\n",
      "\u001b[36m•\u001b[39m `0` -> `0...22`\n",
      "\u001b[36m•\u001b[39m `0` -> `0...23`\n",
      "\u001b[36m•\u001b[39m `10` -> `10...24`\n",
      "\u001b[36m•\u001b[39m `10` -> `10...25`\n",
      "\u001b[36m•\u001b[39m `10` -> `10...26`\n",
      "\u001b[36m•\u001b[39m `10` -> `10...27`\n",
      "\u001b[36m•\u001b[39m `10` -> `10...28`\n",
      "\u001b[36m•\u001b[39m `10` -> `10...29`\n",
      "\u001b[36m•\u001b[39m `10` -> `10...30`\n",
      "\u001b[36m•\u001b[39m `10` -> `10...31`\n",
      "\u001b[36m•\u001b[39m `10` -> `10...32`\n",
      "\u001b[36m•\u001b[39m `10` -> `10...33`\n",
      "\u001b[36m•\u001b[39m `10` -> `10...34`\n",
      "\u001b[36m•\u001b[39m `10` -> `10...35`\n",
      "\u001b[36m•\u001b[39m `0` -> `0...36`\n",
      "\u001b[36m•\u001b[39m `0` -> `0...37`\n",
      "\u001b[36m•\u001b[39m `3` -> `3...38`\n",
      "\u001b[36m•\u001b[39m `3` -> `3...39`\n",
      "\u001b[36m•\u001b[39m `3` -> `3...40`\n",
      "\u001b[36m•\u001b[39m `3` -> `3...41`\n",
      "\u001b[36m•\u001b[39m `3` -> `3...42`\n",
      "\u001b[36m•\u001b[39m `3` -> `3...43`\n",
      "\u001b[36m•\u001b[39m `3` -> `3...44`\n",
      "\u001b[36m•\u001b[39m `3` -> `3...45`\n",
      "\u001b[36m•\u001b[39m `3` -> `3...46`\n",
      "\u001b[36m•\u001b[39m `3` -> `3...47`\n",
      "\u001b[36m•\u001b[39m `3` -> `3...48`\n",
      "\u001b[36m•\u001b[39m `3` -> `3...49`\n",
      "\u001b[36m•\u001b[39m `C` -> `C...50`\n",
      "\u001b[36m•\u001b[39m `C` -> `C...51`\n",
      "\u001b[36m•\u001b[39m `C` -> `C...52`\n",
      "\u001b[36m•\u001b[39m `C` -> `C...53`\n",
      "\u001b[36m•\u001b[39m `C` -> `C...54`\n",
      "\u001b[36m•\u001b[39m `C` -> `C...55`\n",
      "\u001b[36m•\u001b[39m `C` -> `C...56`\n",
      "\u001b[36m•\u001b[39m `C` -> `C...57`\n",
      "\u001b[36m•\u001b[39m `C` -> `C...58`\n",
      "\u001b[36m•\u001b[39m `C` -> `C...59`\n",
      "\u001b[36m•\u001b[39m `C` -> `C...60`\n",
      "\u001b[36m•\u001b[39m `C` -> `C...61`\n",
      "\u001b[36m•\u001b[39m `12` -> `12...62`\n",
      "\u001b[36m•\u001b[39m `12` -> `12...63`\n",
      "\u001b[36m•\u001b[39m `12` -> `12...64`\n",
      "\u001b[36m•\u001b[39m `0` -> `0...65`\n",
      "\u001b[36m•\u001b[39m `` -> `...66`\n",
      "\u001b[36m•\u001b[39m `` -> `...67`\n",
      "\u001b[36m•\u001b[39m `NA` -> `NA...68`\n",
      "\u001b[36m•\u001b[39m `NA` -> `NA...69`\n",
      "\u001b[36m•\u001b[39m `NA` -> `NA...70`\n",
      "\u001b[36m•\u001b[39m `NA` -> `NA...71`\n",
      "\u001b[36m•\u001b[39m `NA` -> `NA...72`\n",
      "\u001b[36m•\u001b[39m `NA` -> `NA...73`\n",
      "\u001b[36m•\u001b[39m `NA` -> `NA...74`\n",
      "\u001b[36m•\u001b[39m `NA` -> `NA...75`\n",
      "\u001b[36m•\u001b[39m `NA` -> `NA...76`\n",
      "\u001b[36m•\u001b[39m `NA` -> `NA...77`\n",
      "\u001b[36m•\u001b[39m `NA` -> `NA...78`\n",
      "\u001b[36m•\u001b[39m `NA` -> `NA...79`\n",
      "\u001b[1mRows: \u001b[22m\u001b[34m3147695\u001b[39m \u001b[1mColumns: \u001b[22m\u001b[34m79\u001b[39m\n",
      "\u001b[36m──\u001b[39m \u001b[1mColumn specification\u001b[22m \u001b[36m────────────────────────────────────────────────────────────────────────────────────────────────────────────────────\u001b[39m\n",
      "\u001b[1mDelimiter:\u001b[22m \",\"\n",
      "\u001b[31mchr\u001b[39m (65): 04, 27, 140, 30029...6, 30029...7, 30029...8, 30029...9, 30029...10, 30029...11, 30029...12, 30029...13, 30029...14, 30029...15, 30029...16, 30029...17, 0...23, 10...24, 10...25, 10...26, 10...27, 10...28, 10...29, 10...30, 10...31, 10...32, 10...33, 10...34, 10...35, 3...38, 3...39, 3...\n",
      "\u001b[32mdbl\u001b[39m (14): 100000005, 2018, 2, 1, 81, 0...21, 0...22, 0...36, 0...37, 12...62, 12...63, 12...64, 0...65, ...67\n",
      "\n",
      "\u001b[36mℹ\u001b[39m Use `spec()` to retrieve the full column specification for this data.\n",
      "\u001b[36mℹ\u001b[39m Specify the column types or set `show_col_types = FALSE` to quiet this message.\n",
      "\u001b[1m\u001b[22mNew names:\n",
      "\u001b[36m•\u001b[39m `30029` -> `30029...6`\n",
      "\u001b[36m•\u001b[39m `30029` -> `30029...7`\n",
      "\u001b[36m•\u001b[39m `30029` -> `30029...8`\n",
      "\u001b[36m•\u001b[39m `30029` -> `30029...9`\n",
      "\u001b[36m•\u001b[39m `30029` -> `30029...10`\n",
      "\u001b[36m•\u001b[39m `30029` -> `30029...11`\n",
      "\u001b[36m•\u001b[39m `06071` -> `06071...12`\n",
      "\u001b[36m•\u001b[39m `06071` -> `06071...13`\n",
      "\u001b[36m•\u001b[39m `06071` -> `06071...14`\n",
      "\u001b[36m•\u001b[39m `06071` -> `06071...15`\n",
      "\u001b[36m•\u001b[39m `06071` -> `06071...16`\n",
      "\u001b[36m•\u001b[39m `06071` -> `06071...17`\n",
      "\u001b[36m•\u001b[39m `0` -> `0...21`\n",
      "\u001b[36m•\u001b[39m `0` -> `0...22`\n",
      "\u001b[36m•\u001b[39m `0` -> `0...23`\n",
      "\u001b[36m•\u001b[39m `10` -> `10...24`\n",
      "\u001b[36m•\u001b[39m `10` -> `10...25`\n",
      "\u001b[36m•\u001b[39m `10` -> `10...26`\n",
      "\u001b[36m•\u001b[39m `10` -> `10...27`\n",
      "\u001b[36m•\u001b[39m `10` -> `10...28`\n",
      "\u001b[36m•\u001b[39m `10` -> `10...29`\n",
      "\u001b[36m•\u001b[39m `10` -> `10...30`\n",
      "\u001b[36m•\u001b[39m `10` -> `10...31`\n",
      "\u001b[36m•\u001b[39m `10` -> `10...32`\n",
      "\u001b[36m•\u001b[39m `10` -> `10...33`\n",
      "\u001b[36m•\u001b[39m `10` -> `10...34`\n",
      "\u001b[36m•\u001b[39m `10` -> `10...35`\n",
      "\u001b[36m•\u001b[39m `0` -> `0...36`\n",
      "\u001b[36m•\u001b[39m `0` -> `0...37`\n",
      "\u001b[36m•\u001b[39m `3` -> `3...38`\n",
      "\u001b[36m•\u001b[39m `3` -> `3...39`\n",
      "\u001b[36m•\u001b[39m `3` -> `3...40`\n",
      "\u001b[36m•\u001b[39m `3` -> `3...41`\n",
      "\u001b[36m•\u001b[39m `3` -> `3...42`\n",
      "\u001b[36m•\u001b[39m `3` -> `3...43`\n",
      "\u001b[36m•\u001b[39m `3` -> `3...44`\n",
      "\u001b[36m•\u001b[39m `3` -> `3...45`\n",
      "\u001b[36m•\u001b[39m `3` -> `3...46`\n",
      "\u001b[36m•\u001b[39m `3` -> `3...47`\n",
      "\u001b[36m•\u001b[39m `3` -> `3...48`\n",
      "\u001b[36m•\u001b[39m `3` -> `3...49`\n",
      "\u001b[36m•\u001b[39m `C` -> `C...50`\n",
      "\u001b[36m•\u001b[39m `C` -> `C...51`\n",
      "\u001b[36m•\u001b[39m `C` -> `C...52`\n",
      "\u001b[36m•\u001b[39m `C` -> `C...53`\n",
      "\u001b[36m•\u001b[39m `C` -> `C...54`\n",
      "\u001b[36m•\u001b[39m `C` -> `C...55`\n",
      "\u001b[36m•\u001b[39m `C` -> `C...56`\n",
      "\u001b[36m•\u001b[39m `C` -> `C...57`\n",
      "\u001b[36m•\u001b[39m `C` -> `C...58`\n",
      "\u001b[36m•\u001b[39m `C` -> `C...59`\n",
      "\u001b[36m•\u001b[39m `C` -> `C...60`\n",
      "\u001b[36m•\u001b[39m `C` -> `C...61`\n",
      "\u001b[36m•\u001b[39m `12` -> `12...62`\n",
      "\u001b[36m•\u001b[39m `12` -> `12...63`\n",
      "\u001b[36m•\u001b[39m `12` -> `12...64`\n",
      "\u001b[36m•\u001b[39m `0` -> `0...65`\n",
      "\u001b[36m•\u001b[39m `` -> `...66`\n",
      "\u001b[36m•\u001b[39m `` -> `...67`\n",
      "\u001b[36m•\u001b[39m `NA` -> `NA...68`\n",
      "\u001b[36m•\u001b[39m `NA` -> `NA...69`\n",
      "\u001b[36m•\u001b[39m `NA` -> `NA...70`\n",
      "\u001b[36m•\u001b[39m `NA` -> `NA...71`\n",
      "\u001b[36m•\u001b[39m `NA` -> `NA...72`\n",
      "\u001b[36m•\u001b[39m `NA` -> `NA...73`\n",
      "\u001b[36m•\u001b[39m `NA` -> `NA...74`\n",
      "\u001b[36m•\u001b[39m `NA` -> `NA...75`\n",
      "\u001b[36m•\u001b[39m `NA` -> `NA...76`\n",
      "\u001b[36m•\u001b[39m `NA` -> `NA...77`\n",
      "\u001b[36m•\u001b[39m `NA` -> `NA...78`\n",
      "\u001b[36m•\u001b[39m `NA` -> `NA...79`\n",
      "\u001b[1mRows: \u001b[22m\u001b[34m3224704\u001b[39m \u001b[1mColumns: \u001b[22m\u001b[34m79\u001b[39m\n",
      "\u001b[36m──\u001b[39m \u001b[1mColumn specification\u001b[22m \u001b[36m────────────────────────────────────────────────────────────────────────────────────────────────────────────────────\u001b[39m\n",
      "\u001b[1mDelimiter:\u001b[22m \",\"\n",
      "\u001b[31mchr\u001b[39m (64): 04, 05, 460, 30029...6, 30029...7, 30029...8, 30029...9, 30029...10, 30029...11, 06071...12, 06071...13, 06071...14, 06071...15, 06071...16, 06071...17, 10...24, 10...25, 10...26, 10...27, 10...28, 10...29, 10...30, 10...31, 10...32, 10...33, 10...34, 10...35, 3...38, 3...39, 3...40, 3...\n",
      "\u001b[32mdbl\u001b[39m (15): 100000005, 2019, 2, 1, 82, 0...21, 0...22, 0...23, 0...36, 0...37, 12...62, 12...63, 12...64, 0...65, ...67\n",
      "\n",
      "\u001b[36mℹ\u001b[39m Use `spec()` to retrieve the full column specification for this data.\n",
      "\u001b[36mℹ\u001b[39m Specify the column types or set `show_col_types = FALSE` to quiet this message.\n",
      "Warning message:\n",
      "“One or more parsing issues, see `problems()` for details”\n",
      "\u001b[1m\u001b[22mNew names:\n",
      "\u001b[36m•\u001b[39m `06071` -> `06071...6`\n",
      "\u001b[36m•\u001b[39m `06071` -> `06071...7`\n",
      "\u001b[36m•\u001b[39m `06071` -> `06071...8`\n",
      "\u001b[36m•\u001b[39m `06071` -> `06071...9`\n",
      "\u001b[36m•\u001b[39m `06071` -> `06071...10`\n",
      "\u001b[36m•\u001b[39m `06071` -> `06071...11`\n",
      "\u001b[36m•\u001b[39m `06071` -> `06071...12`\n",
      "\u001b[36m•\u001b[39m `06071` -> `06071...13`\n",
      "\u001b[36m•\u001b[39m `06071` -> `06071...14`\n",
      "\u001b[36m•\u001b[39m `06071` -> `06071...15`\n",
      "\u001b[36m•\u001b[39m `06071` -> `06071...16`\n",
      "\u001b[36m•\u001b[39m `06071` -> `06071...17`\n",
      "\u001b[36m•\u001b[39m `0` -> `0...21`\n",
      "\u001b[36m•\u001b[39m `0` -> `0...22`\n",
      "\u001b[36m•\u001b[39m `0` -> `0...23`\n",
      "\u001b[36m•\u001b[39m `10` -> `10...24`\n",
      "\u001b[36m•\u001b[39m `10` -> `10...25`\n",
      "\u001b[36m•\u001b[39m `10` -> `10...26`\n",
      "\u001b[36m•\u001b[39m `10` -> `10...27`\n",
      "\u001b[36m•\u001b[39m `10` -> `10...28`\n",
      "\u001b[36m•\u001b[39m `10` -> `10...29`\n",
      "\u001b[36m•\u001b[39m `10` -> `10...30`\n",
      "\u001b[36m•\u001b[39m `10` -> `10...31`\n",
      "\u001b[36m•\u001b[39m `10` -> `10...32`\n",
      "\u001b[36m•\u001b[39m `10` -> `10...33`\n",
      "\u001b[36m•\u001b[39m `10` -> `10...34`\n",
      "\u001b[36m•\u001b[39m `10` -> `10...35`\n",
      "\u001b[36m•\u001b[39m `0` -> `0...36`\n",
      "\u001b[36m•\u001b[39m `0` -> `0...37`\n",
      "\u001b[36m•\u001b[39m `3` -> `3...38`\n",
      "\u001b[36m•\u001b[39m `3` -> `3...39`\n",
      "\u001b[36m•\u001b[39m `3` -> `3...40`\n",
      "\u001b[36m•\u001b[39m `3` -> `3...41`\n",
      "\u001b[36m•\u001b[39m `3` -> `3...42`\n",
      "\u001b[36m•\u001b[39m `3` -> `3...43`\n",
      "\u001b[36m•\u001b[39m `3` -> `3...44`\n",
      "\u001b[36m•\u001b[39m `3` -> `3...45`\n",
      "\u001b[36m•\u001b[39m `3` -> `3...46`\n",
      "\u001b[36m•\u001b[39m `3` -> `3...47`\n",
      "\u001b[36m•\u001b[39m `3` -> `3...48`\n",
      "\u001b[36m•\u001b[39m `3` -> `3...49`\n",
      "\u001b[36m•\u001b[39m `C` -> `C...50`\n",
      "\u001b[36m•\u001b[39m `C` -> `C...51`\n",
      "\u001b[36m•\u001b[39m `C` -> `C...52`\n",
      "\u001b[36m•\u001b[39m `C` -> `C...53`\n",
      "\u001b[36m•\u001b[39m `C` -> `C...54`\n",
      "\u001b[36m•\u001b[39m `C` -> `C...55`\n",
      "\u001b[36m•\u001b[39m `C` -> `C...56`\n",
      "\u001b[36m•\u001b[39m `C` -> `C...57`\n",
      "\u001b[36m•\u001b[39m `C` -> `C...58`\n",
      "\u001b[36m•\u001b[39m `C` -> `C...59`\n",
      "\u001b[36m•\u001b[39m `C` -> `C...60`\n",
      "\u001b[36m•\u001b[39m `C` -> `C...61`\n",
      "\u001b[36m•\u001b[39m `12` -> `12...62`\n",
      "\u001b[36m•\u001b[39m `12` -> `12...63`\n",
      "\u001b[36m•\u001b[39m `12` -> `12...64`\n",
      "\u001b[36m•\u001b[39m `0` -> `0...65`\n",
      "\u001b[36m•\u001b[39m `` -> `...66`\n",
      "\u001b[36m•\u001b[39m `` -> `...67`\n",
      "\u001b[36m•\u001b[39m `NA` -> `NA...68`\n",
      "\u001b[36m•\u001b[39m `NA` -> `NA...69`\n",
      "\u001b[36m•\u001b[39m `NA` -> `NA...70`\n",
      "\u001b[36m•\u001b[39m `NA` -> `NA...71`\n",
      "\u001b[36m•\u001b[39m `NA` -> `NA...72`\n",
      "\u001b[36m•\u001b[39m `NA` -> `NA...73`\n",
      "\u001b[36m•\u001b[39m `NA` -> `NA...74`\n",
      "\u001b[36m•\u001b[39m `NA` -> `NA...75`\n",
      "\u001b[36m•\u001b[39m `NA` -> `NA...76`\n",
      "\u001b[36m•\u001b[39m `NA` -> `NA...77`\n",
      "\u001b[36m•\u001b[39m `NA` -> `NA...78`\n",
      "\u001b[36m•\u001b[39m `NA` -> `NA...79`\n",
      "\u001b[1mRows: \u001b[22m\u001b[34m3296239\u001b[39m \u001b[1mColumns: \u001b[22m\u001b[34m79\u001b[39m\n",
      "\u001b[36m──\u001b[39m \u001b[1mColumn specification\u001b[22m \u001b[36m────────────────────────────────────────────────────────────────────────────────────────────────────────────────────\u001b[39m\n",
      "\u001b[1mDelimiter:\u001b[22m \",\"\n",
      "\u001b[31mchr\u001b[39m (64): 04, 05, 460, 06071...6, 06071...7, 06071...8, 06071...9, 06071...10, 06071...11, 06071...12, 06071...13, 06071...14, 06071...15, 06071...16, 06071...17, 10...24, 10...25, 10...26, 10...27, 10...28, 10...29, 10...30, 10...31, 10...32, 10...33, 10...34, 10...35, 3...38, 3...39, 3...40, 3...\n",
      "\u001b[32mdbl\u001b[39m (15): 100000005, 2020, 2, 1, 83, 0...21, 0...22, 0...23, 0...36, 0...37, 12...62, 12...63, 12...64, 0...65, ...67\n",
      "\n",
      "\u001b[36mℹ\u001b[39m Use `spec()` to retrieve the full column specification for this data.\n",
      "\u001b[36mℹ\u001b[39m Specify the column types or set `show_col_types = FALSE` to quiet this message.\n",
      "Warning message:\n",
      "“One or more parsing issues, see `problems()` for details”\n"
     ]
    }
   ],
   "source": [
    "mbsf_2013 <- vroom(file = \"/work/postresearch/Shared/Data_raw/Medicare/Claims/MBSF/den_saf_lds_5_2013.csv\", num_threads = numcores) %>% as.data.table()\n",
    "mbsf_2014 <- vroom(file = \"/work/postresearch/Shared/Data_raw/Medicare/Claims/MBSF/den_saf_lds_5_2014.csv\", num_threads = numcores) %>% as.data.table()\n",
    "mbsf_2015 <- vroom(file = \"/work/postresearch/Shared/Data_raw/Medicare/Claims/MBSF/den_saf_lds_5_2015.csv\", num_threads = numcores) %>% as.data.table()\n",
    "mbsf_2016 <- vroom(file = \"/work/postresearch/Shared/Data_raw/Medicare/Claims/MBSF/mbsf_lds_5_2016.csv\", num_threads = numcores) %>% as.data.table()\n",
    "mbsf_2017 <- vroom(file = \"/work/postresearch/Shared/Data_raw/Medicare/Claims/MBSF/mbsf_lds_5_2017.csv\", num_threads = numcores) %>% as.data.table()\n",
    "mbsf_2018 <- vroom(file = \"/work/postresearch/Shared/Data_raw/Medicare/Claims/MBSF/mbsf_lds_5_2018.csv\", num_threads = numcores) %>% as.data.table()\n",
    "mbsf_2019 <- vroom(file = \"/work/postresearch/Shared/Data_raw/Medicare/Claims/MBSF/mbsf_lds_5_2019.csv\", num_threads = numcores) %>% as.data.table()\n",
    "mbsf_2020 <- vroom(file = \"/work/postresearch/Shared/Data_raw/Medicare/Claims/MBSF/mbsf_lds_5_2020.csv\", num_threads = numcores) %>% as.data.table()"
   ]
  },
  {
   "cell_type": "code",
   "execution_count": 11,
   "id": "81c24ba0-e1b7-48c1-b69a-6612b5086a73",
   "metadata": {},
   "outputs": [],
   "source": [
    "mbsf_colnames_2013_2015 <- c(\"DESY_SORT_KEY\", \"STATE_CODE\", \"COUNTY_CODE\", \"SEX_CODE\", \"RACE_CODE\", \"AGE\", \"ORIG_REASON_FOR_ENTITLEMENT\", \"CURR_REASON_FOR_ENTITLEMENT\", \"ESRD_INDICATOR\", \"MEDICARE_STATUS_CD\", \"PART_A_TERMINATION_CODE\", \"PART_B_TERMINATION_CODE\", \"ENTITLEMENT_BUY_IN_IND01\", \"ENTITLEMENT_BUY_IN_IND02\", \"ENTITLEMENT_BUY_IN_IND03\", \"ENTITLEMENT_BUY_IN_IND04\", \"ENTITLEMENT_BUY_IN_IND05\", \"ENTITLEMENT_BUY_IN_IND06\", \"ENTITLEMENT_BUY_IN_IND07\", \"ENTITLEMENT_BUY_IN_IND08\", \"ENTITLEMENT_BUY_IN_IND09\", \"ENTITLEMENT_BUY_IN_IND10\", \"ENTITLEMENT_BUY_IN_IND11\", \"ENTITLEMENT_BUY_IN_IND12\", \"HMO_INDICATOR01\", \"HMO_INDICATOR02\", \"HMO_INDICATOR03\", \"HMO_INDICATOR04\", \"HMO_INDICATOR05\", \"HMO_INDICATOR06\", \"HMO_INDICATOR07\", \"HMO_INDICATOR08\", \"HMO_INDICATOR09\", \"HMO_INDICATOR10\", \"HMO_INDICATOR11\", \"HMO_INDICATOR12\", \"HI_COVERAGE\", \"SMI_COVERAGE\", \"HMO_COVERAGE\", \"STATE_BUY_IN_COVERAGE\", \"VALID_DATE_OF_DEATH_SWITCH\", \"DATE_OF_DEATH\", \"REFERENCE_YEAR\")\n",
    "\n",
    "mbsf_colnames_2016_2020 <- c(\"DESY_SORT_KEY\", \"REFERENCE_YEAR\", \"SAMPLE_GROUP\", \"STATE_CODE\", \"COUNTY_CODE\", \"STATE_CNTY_FIPS_CD_01\", \"STATE_CNTY_FIPS_CD_02\", \"STATE_CNTY_FIPS_CD_03\", \"STATE_CNTY_FIPS_CD_04\", \"STATE_CNTY_FIPS_CD_05\", \"STATE_CNTY_FIPS_CD_06\", \"STATE_CNTY_FIPS_CD_07\", \"STATE_CNTY_FIPS_CD_08\", \"STATE_CNTY_FIPS_CD_09\", \"STATE_CNTY_FIPS_CD_10\", \"STATE_CNTY_FIPS_CD_11\", \"STATE_CNTY_FIPS_CD_12\", \"SEX_CODE\", \"RACE_CODE\", \"AGE\", \"ORIG_REASON_FOR_ENTITLEMENT\", \"CURR_REASON_FOR_ENTITLEMENT\", \"ESRD_INDICATOR\", \"MDCR_STATUS_CODE_01\", \"MDCR_STATUS_CODE_02\", \"MDCR_STATUS_CODE_03\", \"MDCR_STATUS_CODE_04\", \"MDCR_STATUS_CODE_05\", \"MDCR_STATUS_CODE_06\", \"MDCR_STATUS_CODE_07\", \"MDCR_STATUS_CODE_08\", \"MDCR_STATUS_CODE_09\", \"MDCR_STATUS_CODE_10\", \"MDCR_STATUS_CODE_11\", \"MDCR_STATUS_CODE_12\", \"PART_A_TERMINATION_CODE\", \"PART_B_TERMINATION_CODE\", \"ENTITLEMENT_BUY_IN_IND01\", \"ENTITLEMENT_BUY_IN_IND02\", \"ENTITLEMENT_BUY_IN_IND03\", \"ENTITLEMENT_BUY_IN_IND04\", \"ENTITLEMENT_BUY_IN_IND05\", \"ENTITLEMENT_BUY_IN_IND06\", \"ENTITLEMENT_BUY_IN_IND07\", \"ENTITLEMENT_BUY_IN_IND08\", \"ENTITLEMENT_BUY_IN_IND09\", \"ENTITLEMENT_BUY_IN_IND10\", \"ENTITLEMENT_BUY_IN_IND11\", \"ENTITLEMENT_BUY_IN_IND12\", \"HMO_INDICATOR01\", \"HMO_INDICATOR02\", \"HMO_INDICATOR03\", \"HMO_INDICATOR04\", \"HMO_INDICATOR05\", \"HMO_INDICATOR06\", \"HMO_INDICATOR07\", \"HMO_INDICATOR08\", \"HMO_INDICATOR09\", \"HMO_INDICATOR10\", \"HMO_INDICATOR11\", \"HMO_INDICATOR12\", \"HI_COVERAGE\", \"SMI_COVERAGE\", \"HMO_COVERAGE\", \"STATE_BUY_IN_COVERAGE\", \"VALID_DATE_OF_DEATH_SWITCH\", \"DATE_OF_DEATH\", \"DUAL_STUS_CD_01\", \"DUAL_STUS_CD_02\", \"DUAL_STUS_CD_03\", \"DUAL_STUS_CD_04\", \"DUAL_STUS_CD_05\", \"DUAL_STUS_CD_06\", \"DUAL_STUS_CD_07\", \"DUAL_STUS_CD_08\", \"DUAL_STUS_CD_09\", \"DUAL_STUS_CD_10\", \"DUAL_STUS_CD_11\", \"DUAL_STUS_CD_12\")\n",
    "\n",
    "\n",
    "colnames(mbsf_2013) <- mbsf_colnames_2013_2015\n",
    "colnames(mbsf_2014) <- mbsf_colnames_2013_2015\n",
    "colnames(mbsf_2015) <- mbsf_colnames_2013_2015\n",
    "colnames(mbsf_2016) <- mbsf_colnames_2016_2020\n",
    "colnames(mbsf_2017) <- mbsf_colnames_2016_2020\n",
    "colnames(mbsf_2018) <- mbsf_colnames_2016_2020\n",
    "colnames(mbsf_2019) <- mbsf_colnames_2016_2020\n",
    "colnames(mbsf_2020) <- mbsf_colnames_2016_2020"
   ]
  },
  {
   "cell_type": "code",
   "execution_count": 35,
   "id": "3c4fb497-2757-4b26-8cf0-c1943ff0cb49",
   "metadata": {},
   "outputs": [],
   "source": [
    "mbsf_needed_cols <- c(\n",
    "  \"DESY_SORT_KEY\",\n",
    "  \"REFERENCE_YEAR\",\n",
    "  \"STATE_CODE\",\n",
    "  \"COUNTY_CODE\",\n",
    "  \"SEX_CODE\",\n",
    "  \"RACE_CODE\",\n",
    "  \"AGE\",\n",
    "  \"ORIG_REASON_FOR_ENTITLEMENT\",\n",
    "  \"CURR_REASON_FOR_ENTITLEMENT\",\n",
    "  \"ENTITLEMENT_BUY_IN_IND01\",\n",
    "  \"ENTITLEMENT_BUY_IN_IND02\",\n",
    "  \"ENTITLEMENT_BUY_IN_IND03\",\n",
    "  \"ENTITLEMENT_BUY_IN_IND04\",\n",
    "  \"ENTITLEMENT_BUY_IN_IND05\",\n",
    "  \"ENTITLEMENT_BUY_IN_IND06\",\n",
    "  \"ENTITLEMENT_BUY_IN_IND07\",\n",
    "  \"ENTITLEMENT_BUY_IN_IND08\",\n",
    "  \"ENTITLEMENT_BUY_IN_IND09\",\n",
    "  \"ENTITLEMENT_BUY_IN_IND10\",\n",
    "  \"ENTITLEMENT_BUY_IN_IND11\",\n",
    "  \"ENTITLEMENT_BUY_IN_IND12\",\n",
    "  \"HMO_INDICATOR01\",\n",
    "  \"HMO_INDICATOR02\",\n",
    "  \"HMO_INDICATOR03\",\n",
    "  \"HMO_INDICATOR04\",\n",
    "  \"HMO_INDICATOR05\",\n",
    "  \"HMO_INDICATOR06\",\n",
    "  \"HMO_INDICATOR07\",\n",
    "  \"HMO_INDICATOR08\",\n",
    "  \"HMO_INDICATOR09\",\n",
    "  \"HMO_INDICATOR10\",\n",
    "  \"HMO_INDICATOR11\",\n",
    "  \"HMO_INDICATOR12\",\n",
    "  \"VALID_DATE_OF_DEATH_SWITCH\",\n",
    "  \"DATE_OF_DEATH\"\n",
    ")\n",
    "\n",
    "mbsf_data <- list(mbsf_2013, mbsf_2014, mbsf_2015, mbsf_2016, mbsf_2017, mbsf_2018, mbsf_2019, mbsf_2020)\n",
    "\n",
    "for (a in 1:length(mbsf_data)) {\n",
    "  mbsf_data[[a]] <- mbsf_data[[a]][, ..mbsf_needed_cols]\n",
    "}\n",
    "\n",
    "# rename last n columns in a dataset\n",
    "rename_last <- function(data, how_many, new_names) {\n",
    "  total_cols <- ncol(data)\n",
    "  setnames(data, (total_cols - how_many + 1):(total_cols), new_names)\n",
    "}\n",
    "\n",
    "\n",
    "for (a in 1:length(mbsf_data)) {\n",
    "  mbsf_data[[a]][, year := 2012 + a]\n",
    "}\n",
    "\n",
    "\n",
    "\n",
    "mbsf_data <- reduce(mbsf_data, function(x, y) {\n",
    "  rbind(x, y)\n",
    "}) %>% as.data.table()"
   ]
  },
  {
   "cell_type": "code",
   "execution_count": 37,
   "id": "b3e9ea2a-31c0-4ecc-9ae9-b7dd8de41753",
   "metadata": {},
   "outputs": [
    {
     "data": {
      "text/html": [
       "<table class=\"dataframe\">\n",
       "<caption>A data.table: 6 × 36</caption>\n",
       "<thead>\n",
       "\t<tr><th scope=col>DESY_SORT_KEY</th><th scope=col>REFERENCE_YEAR</th><th scope=col>STATE_CODE</th><th scope=col>COUNTY_CODE</th><th scope=col>SEX_CODE</th><th scope=col>RACE_CODE</th><th scope=col>AGE</th><th scope=col>ORIG_REASON_FOR_ENTITLEMENT</th><th scope=col>CURR_REASON_FOR_ENTITLEMENT</th><th scope=col>ENTITLEMENT_BUY_IN_IND01</th><th scope=col>ENTITLEMENT_BUY_IN_IND02</th><th scope=col>ENTITLEMENT_BUY_IN_IND03</th><th scope=col>ENTITLEMENT_BUY_IN_IND04</th><th scope=col>ENTITLEMENT_BUY_IN_IND05</th><th scope=col>ENTITLEMENT_BUY_IN_IND06</th><th scope=col>ENTITLEMENT_BUY_IN_IND07</th><th scope=col>ENTITLEMENT_BUY_IN_IND08</th><th scope=col>ENTITLEMENT_BUY_IN_IND09</th><th scope=col>ENTITLEMENT_BUY_IN_IND10</th><th scope=col>ENTITLEMENT_BUY_IN_IND11</th><th scope=col>ENTITLEMENT_BUY_IN_IND12</th><th scope=col>HMO_INDICATOR01</th><th scope=col>HMO_INDICATOR02</th><th scope=col>HMO_INDICATOR03</th><th scope=col>HMO_INDICATOR04</th><th scope=col>HMO_INDICATOR05</th><th scope=col>HMO_INDICATOR06</th><th scope=col>HMO_INDICATOR07</th><th scope=col>HMO_INDICATOR08</th><th scope=col>HMO_INDICATOR09</th><th scope=col>HMO_INDICATOR10</th><th scope=col>HMO_INDICATOR11</th><th scope=col>HMO_INDICATOR12</th><th scope=col>VALID_DATE_OF_DEATH_SWITCH</th><th scope=col>DATE_OF_DEATH</th><th scope=col>year</th></tr>\n",
       "\t<tr><th scope=col>&lt;chr&gt;</th><th scope=col>&lt;dbl&gt;</th><th scope=col>&lt;chr&gt;</th><th scope=col>&lt;chr&gt;</th><th scope=col>&lt;dbl&gt;</th><th scope=col>&lt;dbl&gt;</th><th scope=col>&lt;dbl&gt;</th><th scope=col>&lt;dbl&gt;</th><th scope=col>&lt;dbl&gt;</th><th scope=col>&lt;chr&gt;</th><th scope=col>&lt;chr&gt;</th><th scope=col>&lt;chr&gt;</th><th scope=col>&lt;chr&gt;</th><th scope=col>&lt;chr&gt;</th><th scope=col>&lt;chr&gt;</th><th scope=col>&lt;chr&gt;</th><th scope=col>&lt;chr&gt;</th><th scope=col>&lt;chr&gt;</th><th scope=col>&lt;chr&gt;</th><th scope=col>&lt;chr&gt;</th><th scope=col>&lt;chr&gt;</th><th scope=col>&lt;chr&gt;</th><th scope=col>&lt;chr&gt;</th><th scope=col>&lt;chr&gt;</th><th scope=col>&lt;chr&gt;</th><th scope=col>&lt;chr&gt;</th><th scope=col>&lt;chr&gt;</th><th scope=col>&lt;chr&gt;</th><th scope=col>&lt;chr&gt;</th><th scope=col>&lt;chr&gt;</th><th scope=col>&lt;chr&gt;</th><th scope=col>&lt;chr&gt;</th><th scope=col>&lt;chr&gt;</th><th scope=col>&lt;chr&gt;</th><th scope=col>&lt;dbl&gt;</th><th scope=col>&lt;dbl&gt;</th></tr>\n",
       "</thead>\n",
       "<tbody>\n",
       "\t<tr><td>000000000</td><td>13</td><td>45</td><td>910</td><td>2</td><td>1</td><td>75</td><td>0</td><td>0</td><td>C</td><td>C</td><td>C</td><td>C</td><td>C</td><td>C</td><td>C</td><td>C</td><td>C</td><td>C</td><td>C</td><td>3</td><td>0</td><td>0</td><td>0</td><td>0</td><td>0</td><td>0</td><td>0</td><td>0</td><td>0</td><td>0</td><td>0</td><td>0</td><td>NA</td><td>NA</td><td>2013</td></tr>\n",
       "\t<tr><td>000000000</td><td>13</td><td>22</td><td>170</td><td>2</td><td>1</td><td>71</td><td>0</td><td>0</td><td>3</td><td>3</td><td>3</td><td>3</td><td>3</td><td>3</td><td>3</td><td>3</td><td>3</td><td>3</td><td>3</td><td>3</td><td>0</td><td>0</td><td>0</td><td>0</td><td>0</td><td>0</td><td>0</td><td>0</td><td>0</td><td>0</td><td>0</td><td>0</td><td>NA</td><td>NA</td><td>2013</td></tr>\n",
       "\t<tr><td>000000000</td><td>13</td><td>33</td><td>420</td><td>2</td><td>1</td><td>93</td><td>0</td><td>0</td><td>3</td><td>3</td><td>3</td><td>3</td><td>3</td><td>3</td><td>3</td><td>3</td><td>3</td><td>3</td><td>3</td><td>3</td><td>0</td><td>0</td><td>0</td><td>0</td><td>0</td><td>0</td><td>0</td><td>0</td><td>0</td><td>0</td><td>0</td><td>0</td><td>NA</td><td>NA</td><td>2013</td></tr>\n",
       "\t<tr><td>000000000</td><td>13</td><td>49</td><td>801</td><td>2</td><td>1</td><td>71</td><td>0</td><td>0</td><td>1</td><td>1</td><td>1</td><td>1</td><td>1</td><td>1</td><td>1</td><td>1</td><td>1</td><td>1</td><td>1</td><td>1</td><td>0</td><td>0</td><td>0</td><td>0</td><td>0</td><td>0</td><td>0</td><td>0</td><td>0</td><td>0</td><td>0</td><td>0</td><td>NA</td><td>NA</td><td>2013</td></tr>\n",
       "\t<tr><td>000000000</td><td>13</td><td>33</td><td>400</td><td>2</td><td>1</td><td>75</td><td>0</td><td>0</td><td>3</td><td>3</td><td>3</td><td>3</td><td>3</td><td>3</td><td>3</td><td>3</td><td>3</td><td>3</td><td>3</td><td>3</td><td>0</td><td>0</td><td>0</td><td>0</td><td>0</td><td>0</td><td>0</td><td>0</td><td>0</td><td>0</td><td>0</td><td>0</td><td>NA</td><td>NA</td><td>2013</td></tr>\n",
       "\t<tr><td>000000000</td><td>13</td><td>10</td><td>510</td><td>1</td><td>1</td><td>70</td><td>0</td><td>0</td><td>3</td><td>3</td><td>3</td><td>3</td><td>3</td><td>3</td><td>3</td><td>3</td><td>3</td><td>3</td><td>3</td><td>3</td><td>0</td><td>0</td><td>0</td><td>0</td><td>0</td><td>0</td><td>0</td><td>0</td><td>0</td><td>0</td><td>0</td><td>0</td><td>NA</td><td>NA</td><td>2013</td></tr>\n",
       "</tbody>\n",
       "</table>\n"
      ],
      "text/latex": [
       "A data.table: 6 × 36\n",
       "\\begin{tabular}{llllllllllllllllllllllllllllllllllll}\n",
       " DESY\\_SORT\\_KEY & REFERENCE\\_YEAR & STATE\\_CODE & COUNTY\\_CODE & SEX\\_CODE & RACE\\_CODE & AGE & ORIG\\_REASON\\_FOR\\_ENTITLEMENT & CURR\\_REASON\\_FOR\\_ENTITLEMENT & ENTITLEMENT\\_BUY\\_IN\\_IND01 & ENTITLEMENT\\_BUY\\_IN\\_IND02 & ENTITLEMENT\\_BUY\\_IN\\_IND03 & ENTITLEMENT\\_BUY\\_IN\\_IND04 & ENTITLEMENT\\_BUY\\_IN\\_IND05 & ENTITLEMENT\\_BUY\\_IN\\_IND06 & ENTITLEMENT\\_BUY\\_IN\\_IND07 & ENTITLEMENT\\_BUY\\_IN\\_IND08 & ENTITLEMENT\\_BUY\\_IN\\_IND09 & ENTITLEMENT\\_BUY\\_IN\\_IND10 & ENTITLEMENT\\_BUY\\_IN\\_IND11 & ENTITLEMENT\\_BUY\\_IN\\_IND12 & HMO\\_INDICATOR01 & HMO\\_INDICATOR02 & HMO\\_INDICATOR03 & HMO\\_INDICATOR04 & HMO\\_INDICATOR05 & HMO\\_INDICATOR06 & HMO\\_INDICATOR07 & HMO\\_INDICATOR08 & HMO\\_INDICATOR09 & HMO\\_INDICATOR10 & HMO\\_INDICATOR11 & HMO\\_INDICATOR12 & VALID\\_DATE\\_OF\\_DEATH\\_SWITCH & DATE\\_OF\\_DEATH & year\\\\\n",
       " <chr> & <dbl> & <chr> & <chr> & <dbl> & <dbl> & <dbl> & <dbl> & <dbl> & <chr> & <chr> & <chr> & <chr> & <chr> & <chr> & <chr> & <chr> & <chr> & <chr> & <chr> & <chr> & <chr> & <chr> & <chr> & <chr> & <chr> & <chr> & <chr> & <chr> & <chr> & <chr> & <chr> & <chr> & <chr> & <dbl> & <dbl>\\\\\n",
       "\\hline\n",
       "\t 000000000 & 13 & 45 & 910 & 2 & 1 & 75 & 0 & 0 & C & C & C & C & C & C & C & C & C & C & C & 3 & 0 & 0 & 0 & 0 & 0 & 0 & 0 & 0 & 0 & 0 & 0 & 0 & NA & NA & 2013\\\\\n",
       "\t 000000000 & 13 & 22 & 170 & 2 & 1 & 71 & 0 & 0 & 3 & 3 & 3 & 3 & 3 & 3 & 3 & 3 & 3 & 3 & 3 & 3 & 0 & 0 & 0 & 0 & 0 & 0 & 0 & 0 & 0 & 0 & 0 & 0 & NA & NA & 2013\\\\\n",
       "\t 000000000 & 13 & 33 & 420 & 2 & 1 & 93 & 0 & 0 & 3 & 3 & 3 & 3 & 3 & 3 & 3 & 3 & 3 & 3 & 3 & 3 & 0 & 0 & 0 & 0 & 0 & 0 & 0 & 0 & 0 & 0 & 0 & 0 & NA & NA & 2013\\\\\n",
       "\t 000000000 & 13 & 49 & 801 & 2 & 1 & 71 & 0 & 0 & 1 & 1 & 1 & 1 & 1 & 1 & 1 & 1 & 1 & 1 & 1 & 1 & 0 & 0 & 0 & 0 & 0 & 0 & 0 & 0 & 0 & 0 & 0 & 0 & NA & NA & 2013\\\\\n",
       "\t 000000000 & 13 & 33 & 400 & 2 & 1 & 75 & 0 & 0 & 3 & 3 & 3 & 3 & 3 & 3 & 3 & 3 & 3 & 3 & 3 & 3 & 0 & 0 & 0 & 0 & 0 & 0 & 0 & 0 & 0 & 0 & 0 & 0 & NA & NA & 2013\\\\\n",
       "\t 000000000 & 13 & 10 & 510 & 1 & 1 & 70 & 0 & 0 & 3 & 3 & 3 & 3 & 3 & 3 & 3 & 3 & 3 & 3 & 3 & 3 & 0 & 0 & 0 & 0 & 0 & 0 & 0 & 0 & 0 & 0 & 0 & 0 & NA & NA & 2013\\\\\n",
       "\\end{tabular}\n"
      ],
      "text/markdown": [
       "\n",
       "A data.table: 6 × 36\n",
       "\n",
       "| DESY_SORT_KEY &lt;chr&gt; | REFERENCE_YEAR &lt;dbl&gt; | STATE_CODE &lt;chr&gt; | COUNTY_CODE &lt;chr&gt; | SEX_CODE &lt;dbl&gt; | RACE_CODE &lt;dbl&gt; | AGE &lt;dbl&gt; | ORIG_REASON_FOR_ENTITLEMENT &lt;dbl&gt; | CURR_REASON_FOR_ENTITLEMENT &lt;dbl&gt; | ENTITLEMENT_BUY_IN_IND01 &lt;chr&gt; | ENTITLEMENT_BUY_IN_IND02 &lt;chr&gt; | ENTITLEMENT_BUY_IN_IND03 &lt;chr&gt; | ENTITLEMENT_BUY_IN_IND04 &lt;chr&gt; | ENTITLEMENT_BUY_IN_IND05 &lt;chr&gt; | ENTITLEMENT_BUY_IN_IND06 &lt;chr&gt; | ENTITLEMENT_BUY_IN_IND07 &lt;chr&gt; | ENTITLEMENT_BUY_IN_IND08 &lt;chr&gt; | ENTITLEMENT_BUY_IN_IND09 &lt;chr&gt; | ENTITLEMENT_BUY_IN_IND10 &lt;chr&gt; | ENTITLEMENT_BUY_IN_IND11 &lt;chr&gt; | ENTITLEMENT_BUY_IN_IND12 &lt;chr&gt; | HMO_INDICATOR01 &lt;chr&gt; | HMO_INDICATOR02 &lt;chr&gt; | HMO_INDICATOR03 &lt;chr&gt; | HMO_INDICATOR04 &lt;chr&gt; | HMO_INDICATOR05 &lt;chr&gt; | HMO_INDICATOR06 &lt;chr&gt; | HMO_INDICATOR07 &lt;chr&gt; | HMO_INDICATOR08 &lt;chr&gt; | HMO_INDICATOR09 &lt;chr&gt; | HMO_INDICATOR10 &lt;chr&gt; | HMO_INDICATOR11 &lt;chr&gt; | HMO_INDICATOR12 &lt;chr&gt; | VALID_DATE_OF_DEATH_SWITCH &lt;chr&gt; | DATE_OF_DEATH &lt;dbl&gt; | year &lt;dbl&gt; |\n",
       "|---|---|---|---|---|---|---|---|---|---|---|---|---|---|---|---|---|---|---|---|---|---|---|---|---|---|---|---|---|---|---|---|---|---|---|---|\n",
       "| 000000000 | 13 | 45 | 910 | 2 | 1 | 75 | 0 | 0 | C | C | C | C | C | C | C | C | C | C | C | 3 | 0 | 0 | 0 | 0 | 0 | 0 | 0 | 0 | 0 | 0 | 0 | 0 | NA | NA | 2013 |\n",
       "| 000000000 | 13 | 22 | 170 | 2 | 1 | 71 | 0 | 0 | 3 | 3 | 3 | 3 | 3 | 3 | 3 | 3 | 3 | 3 | 3 | 3 | 0 | 0 | 0 | 0 | 0 | 0 | 0 | 0 | 0 | 0 | 0 | 0 | NA | NA | 2013 |\n",
       "| 000000000 | 13 | 33 | 420 | 2 | 1 | 93 | 0 | 0 | 3 | 3 | 3 | 3 | 3 | 3 | 3 | 3 | 3 | 3 | 3 | 3 | 0 | 0 | 0 | 0 | 0 | 0 | 0 | 0 | 0 | 0 | 0 | 0 | NA | NA | 2013 |\n",
       "| 000000000 | 13 | 49 | 801 | 2 | 1 | 71 | 0 | 0 | 1 | 1 | 1 | 1 | 1 | 1 | 1 | 1 | 1 | 1 | 1 | 1 | 0 | 0 | 0 | 0 | 0 | 0 | 0 | 0 | 0 | 0 | 0 | 0 | NA | NA | 2013 |\n",
       "| 000000000 | 13 | 33 | 400 | 2 | 1 | 75 | 0 | 0 | 3 | 3 | 3 | 3 | 3 | 3 | 3 | 3 | 3 | 3 | 3 | 3 | 0 | 0 | 0 | 0 | 0 | 0 | 0 | 0 | 0 | 0 | 0 | 0 | NA | NA | 2013 |\n",
       "| 000000000 | 13 | 10 | 510 | 1 | 1 | 70 | 0 | 0 | 3 | 3 | 3 | 3 | 3 | 3 | 3 | 3 | 3 | 3 | 3 | 3 | 0 | 0 | 0 | 0 | 0 | 0 | 0 | 0 | 0 | 0 | 0 | 0 | NA | NA | 2013 |\n",
       "\n"
      ],
      "text/plain": [
       "  DESY_SORT_KEY REFERENCE_YEAR STATE_CODE COUNTY_CODE SEX_CODE RACE_CODE AGE ORIG_REASON_FOR_ENTITLEMENT CURR_REASON_FOR_ENTITLEMENT ENTITLEMENT_BUY_IN_IND01 ENTITLEMENT_BUY_IN_IND02 ENTITLEMENT_BUY_IN_IND03 ENTITLEMENT_BUY_IN_IND04 ENTITLEMENT_BUY_IN_IND05 ENTITLEMENT_BUY_IN_IND06\n",
       "1 000000000     13             45         910         2        1         75  0                           0                           C                        C                        C                        C                        C                        C                       \n",
       "2 000000000     13             22         170         2        1         71  0                           0                           3                        3                        3                        3                        3                        3                       \n",
       "3 000000000     13             33         420         2        1         93  0                           0                           3                        3                        3                        3                        3                        3                       \n",
       "4 000000000     13             49         801         2        1         71  0                           0                           1                        1                        1                        1                        1                        1                       \n",
       "5 000000000     13             33         400         2        1         75  0                           0                           3                        3                        3                        3                        3                        3                       \n",
       "6 000000000     13             10         510         1        1         70  0                           0                           3                        3                        3                        3                        3                        3                       \n",
       "  ENTITLEMENT_BUY_IN_IND07 ENTITLEMENT_BUY_IN_IND08 ENTITLEMENT_BUY_IN_IND09 ENTITLEMENT_BUY_IN_IND10 ENTITLEMENT_BUY_IN_IND11 ENTITLEMENT_BUY_IN_IND12 HMO_INDICATOR01 HMO_INDICATOR02 HMO_INDICATOR03 HMO_INDICATOR04 HMO_INDICATOR05 HMO_INDICATOR06 HMO_INDICATOR07 HMO_INDICATOR08 HMO_INDICATOR09\n",
       "1 C                        C                        C                        C                        C                        3                        0               0               0               0               0               0               0               0               0              \n",
       "2 3                        3                        3                        3                        3                        3                        0               0               0               0               0               0               0               0               0              \n",
       "3 3                        3                        3                        3                        3                        3                        0               0               0               0               0               0               0               0               0              \n",
       "4 1                        1                        1                        1                        1                        1                        0               0               0               0               0               0               0               0               0              \n",
       "5 3                        3                        3                        3                        3                        3                        0               0               0               0               0               0               0               0               0              \n",
       "6 3                        3                        3                        3                        3                        3                        0               0               0               0               0               0               0               0               0              \n",
       "  HMO_INDICATOR10 HMO_INDICATOR11 HMO_INDICATOR12 VALID_DATE_OF_DEATH_SWITCH DATE_OF_DEATH year\n",
       "1 0               0               0               NA                         NA            2013\n",
       "2 0               0               0               NA                         NA            2013\n",
       "3 0               0               0               NA                         NA            2013\n",
       "4 0               0               0               NA                         NA            2013\n",
       "5 0               0               0               NA                         NA            2013\n",
       "6 0               0               0               NA                         NA            2013"
      ]
     },
     "metadata": {},
     "output_type": "display_data"
    }
   ],
   "source": [
    "head(mbsf_data)"
   ]
  },
  {
   "cell_type": "code",
   "execution_count": 38,
   "id": "27b8a7b7-810f-4b06-887f-73bf41a97069",
   "metadata": {},
   "outputs": [
    {
     "data": {
      "text/html": [
       "<table class=\"dataframe\">\n",
       "<caption>A data.table: 6 × 37</caption>\n",
       "<thead>\n",
       "\t<tr><th scope=col>DESY_SORT_KEY</th><th scope=col>REFERENCE_YEAR</th><th scope=col>STATE_CODE</th><th scope=col>COUNTY_CODE</th><th scope=col>SEX_CODE</th><th scope=col>RACE_CODE</th><th scope=col>AGE</th><th scope=col>ORIG_REASON_FOR_ENTITLEMENT</th><th scope=col>CURR_REASON_FOR_ENTITLEMENT</th><th scope=col>ENTITLEMENT_BUY_IN_IND01</th><th scope=col>ENTITLEMENT_BUY_IN_IND02</th><th scope=col>ENTITLEMENT_BUY_IN_IND03</th><th scope=col>ENTITLEMENT_BUY_IN_IND04</th><th scope=col>ENTITLEMENT_BUY_IN_IND05</th><th scope=col>ENTITLEMENT_BUY_IN_IND06</th><th scope=col>ENTITLEMENT_BUY_IN_IND07</th><th scope=col>ENTITLEMENT_BUY_IN_IND08</th><th scope=col>ENTITLEMENT_BUY_IN_IND09</th><th scope=col>ENTITLEMENT_BUY_IN_IND10</th><th scope=col>ENTITLEMENT_BUY_IN_IND11</th><th scope=col>ENTITLEMENT_BUY_IN_IND12</th><th scope=col>HMO_INDICATOR01</th><th scope=col>HMO_INDICATOR02</th><th scope=col>HMO_INDICATOR03</th><th scope=col>HMO_INDICATOR04</th><th scope=col>HMO_INDICATOR05</th><th scope=col>HMO_INDICATOR06</th><th scope=col>HMO_INDICATOR07</th><th scope=col>HMO_INDICATOR08</th><th scope=col>HMO_INDICATOR09</th><th scope=col>HMO_INDICATOR10</th><th scope=col>HMO_INDICATOR11</th><th scope=col>HMO_INDICATOR12</th><th scope=col>VALID_DATE_OF_DEATH_SWITCH</th><th scope=col>DATE_OF_DEATH</th><th scope=col>year</th><th scope=col>date_died</th></tr>\n",
       "\t<tr><th scope=col>&lt;chr&gt;</th><th scope=col>&lt;dbl&gt;</th><th scope=col>&lt;chr&gt;</th><th scope=col>&lt;chr&gt;</th><th scope=col>&lt;dbl&gt;</th><th scope=col>&lt;dbl&gt;</th><th scope=col>&lt;dbl&gt;</th><th scope=col>&lt;dbl&gt;</th><th scope=col>&lt;dbl&gt;</th><th scope=col>&lt;chr&gt;</th><th scope=col>&lt;chr&gt;</th><th scope=col>&lt;chr&gt;</th><th scope=col>&lt;chr&gt;</th><th scope=col>&lt;chr&gt;</th><th scope=col>&lt;chr&gt;</th><th scope=col>&lt;chr&gt;</th><th scope=col>&lt;chr&gt;</th><th scope=col>&lt;chr&gt;</th><th scope=col>&lt;chr&gt;</th><th scope=col>&lt;chr&gt;</th><th scope=col>&lt;chr&gt;</th><th scope=col>&lt;chr&gt;</th><th scope=col>&lt;chr&gt;</th><th scope=col>&lt;chr&gt;</th><th scope=col>&lt;chr&gt;</th><th scope=col>&lt;chr&gt;</th><th scope=col>&lt;chr&gt;</th><th scope=col>&lt;chr&gt;</th><th scope=col>&lt;chr&gt;</th><th scope=col>&lt;chr&gt;</th><th scope=col>&lt;chr&gt;</th><th scope=col>&lt;chr&gt;</th><th scope=col>&lt;chr&gt;</th><th scope=col>&lt;chr&gt;</th><th scope=col>&lt;dbl&gt;</th><th scope=col>&lt;dbl&gt;</th><th scope=col>&lt;dbl&gt;</th></tr>\n",
       "</thead>\n",
       "<tbody>\n",
       "\t<tr><td>000000000</td><td>13</td><td>45</td><td>910</td><td>2</td><td>1</td><td>75</td><td>0</td><td>0</td><td>C</td><td>C</td><td>C</td><td>C</td><td>C</td><td>C</td><td>C</td><td>C</td><td>C</td><td>C</td><td>C</td><td>3</td><td>0</td><td>0</td><td>0</td><td>0</td><td>0</td><td>0</td><td>0</td><td>0</td><td>0</td><td>0</td><td>0</td><td>0</td><td>NA</td><td>NA</td><td>2013</td><td>20131017</td></tr>\n",
       "\t<tr><td>000000000</td><td>13</td><td>45</td><td>910</td><td>2</td><td>1</td><td>75</td><td>0</td><td>0</td><td>C</td><td>C</td><td>C</td><td>C</td><td>C</td><td>C</td><td>C</td><td>C</td><td>C</td><td>C</td><td>C</td><td>3</td><td>0</td><td>0</td><td>0</td><td>0</td><td>0</td><td>0</td><td>0</td><td>0</td><td>0</td><td>0</td><td>0</td><td>0</td><td>NA</td><td>NA</td><td>2013</td><td>20150627</td></tr>\n",
       "\t<tr><td>000000000</td><td>13</td><td>22</td><td>170</td><td>2</td><td>1</td><td>71</td><td>0</td><td>0</td><td>3</td><td>3</td><td>3</td><td>3</td><td>3</td><td>3</td><td>3</td><td>3</td><td>3</td><td>3</td><td>3</td><td>3</td><td>0</td><td>0</td><td>0</td><td>0</td><td>0</td><td>0</td><td>0</td><td>0</td><td>0</td><td>0</td><td>0</td><td>0</td><td>NA</td><td>NA</td><td>2013</td><td>20131017</td></tr>\n",
       "\t<tr><td>000000000</td><td>13</td><td>22</td><td>170</td><td>2</td><td>1</td><td>71</td><td>0</td><td>0</td><td>3</td><td>3</td><td>3</td><td>3</td><td>3</td><td>3</td><td>3</td><td>3</td><td>3</td><td>3</td><td>3</td><td>3</td><td>0</td><td>0</td><td>0</td><td>0</td><td>0</td><td>0</td><td>0</td><td>0</td><td>0</td><td>0</td><td>0</td><td>0</td><td>NA</td><td>NA</td><td>2013</td><td>20150627</td></tr>\n",
       "\t<tr><td>000000000</td><td>13</td><td>33</td><td>420</td><td>2</td><td>1</td><td>93</td><td>0</td><td>0</td><td>3</td><td>3</td><td>3</td><td>3</td><td>3</td><td>3</td><td>3</td><td>3</td><td>3</td><td>3</td><td>3</td><td>3</td><td>0</td><td>0</td><td>0</td><td>0</td><td>0</td><td>0</td><td>0</td><td>0</td><td>0</td><td>0</td><td>0</td><td>0</td><td>NA</td><td>NA</td><td>2013</td><td>20131017</td></tr>\n",
       "\t<tr><td>000000000</td><td>13</td><td>33</td><td>420</td><td>2</td><td>1</td><td>93</td><td>0</td><td>0</td><td>3</td><td>3</td><td>3</td><td>3</td><td>3</td><td>3</td><td>3</td><td>3</td><td>3</td><td>3</td><td>3</td><td>3</td><td>0</td><td>0</td><td>0</td><td>0</td><td>0</td><td>0</td><td>0</td><td>0</td><td>0</td><td>0</td><td>0</td><td>0</td><td>NA</td><td>NA</td><td>2013</td><td>20150627</td></tr>\n",
       "</tbody>\n",
       "</table>\n"
      ],
      "text/latex": [
       "A data.table: 6 × 37\n",
       "\\begin{tabular}{lllllllllllllllllllllllllllllllllllll}\n",
       " DESY\\_SORT\\_KEY & REFERENCE\\_YEAR & STATE\\_CODE & COUNTY\\_CODE & SEX\\_CODE & RACE\\_CODE & AGE & ORIG\\_REASON\\_FOR\\_ENTITLEMENT & CURR\\_REASON\\_FOR\\_ENTITLEMENT & ENTITLEMENT\\_BUY\\_IN\\_IND01 & ENTITLEMENT\\_BUY\\_IN\\_IND02 & ENTITLEMENT\\_BUY\\_IN\\_IND03 & ENTITLEMENT\\_BUY\\_IN\\_IND04 & ENTITLEMENT\\_BUY\\_IN\\_IND05 & ENTITLEMENT\\_BUY\\_IN\\_IND06 & ENTITLEMENT\\_BUY\\_IN\\_IND07 & ENTITLEMENT\\_BUY\\_IN\\_IND08 & ENTITLEMENT\\_BUY\\_IN\\_IND09 & ENTITLEMENT\\_BUY\\_IN\\_IND10 & ENTITLEMENT\\_BUY\\_IN\\_IND11 & ENTITLEMENT\\_BUY\\_IN\\_IND12 & HMO\\_INDICATOR01 & HMO\\_INDICATOR02 & HMO\\_INDICATOR03 & HMO\\_INDICATOR04 & HMO\\_INDICATOR05 & HMO\\_INDICATOR06 & HMO\\_INDICATOR07 & HMO\\_INDICATOR08 & HMO\\_INDICATOR09 & HMO\\_INDICATOR10 & HMO\\_INDICATOR11 & HMO\\_INDICATOR12 & VALID\\_DATE\\_OF\\_DEATH\\_SWITCH & DATE\\_OF\\_DEATH & year & date\\_died\\\\\n",
       " <chr> & <dbl> & <chr> & <chr> & <dbl> & <dbl> & <dbl> & <dbl> & <dbl> & <chr> & <chr> & <chr> & <chr> & <chr> & <chr> & <chr> & <chr> & <chr> & <chr> & <chr> & <chr> & <chr> & <chr> & <chr> & <chr> & <chr> & <chr> & <chr> & <chr> & <chr> & <chr> & <chr> & <chr> & <chr> & <dbl> & <dbl> & <dbl>\\\\\n",
       "\\hline\n",
       "\t 000000000 & 13 & 45 & 910 & 2 & 1 & 75 & 0 & 0 & C & C & C & C & C & C & C & C & C & C & C & 3 & 0 & 0 & 0 & 0 & 0 & 0 & 0 & 0 & 0 & 0 & 0 & 0 & NA & NA & 2013 & 20131017\\\\\n",
       "\t 000000000 & 13 & 45 & 910 & 2 & 1 & 75 & 0 & 0 & C & C & C & C & C & C & C & C & C & C & C & 3 & 0 & 0 & 0 & 0 & 0 & 0 & 0 & 0 & 0 & 0 & 0 & 0 & NA & NA & 2013 & 20150627\\\\\n",
       "\t 000000000 & 13 & 22 & 170 & 2 & 1 & 71 & 0 & 0 & 3 & 3 & 3 & 3 & 3 & 3 & 3 & 3 & 3 & 3 & 3 & 3 & 0 & 0 & 0 & 0 & 0 & 0 & 0 & 0 & 0 & 0 & 0 & 0 & NA & NA & 2013 & 20131017\\\\\n",
       "\t 000000000 & 13 & 22 & 170 & 2 & 1 & 71 & 0 & 0 & 3 & 3 & 3 & 3 & 3 & 3 & 3 & 3 & 3 & 3 & 3 & 3 & 0 & 0 & 0 & 0 & 0 & 0 & 0 & 0 & 0 & 0 & 0 & 0 & NA & NA & 2013 & 20150627\\\\\n",
       "\t 000000000 & 13 & 33 & 420 & 2 & 1 & 93 & 0 & 0 & 3 & 3 & 3 & 3 & 3 & 3 & 3 & 3 & 3 & 3 & 3 & 3 & 0 & 0 & 0 & 0 & 0 & 0 & 0 & 0 & 0 & 0 & 0 & 0 & NA & NA & 2013 & 20131017\\\\\n",
       "\t 000000000 & 13 & 33 & 420 & 2 & 1 & 93 & 0 & 0 & 3 & 3 & 3 & 3 & 3 & 3 & 3 & 3 & 3 & 3 & 3 & 3 & 0 & 0 & 0 & 0 & 0 & 0 & 0 & 0 & 0 & 0 & 0 & 0 & NA & NA & 2013 & 20150627\\\\\n",
       "\\end{tabular}\n"
      ],
      "text/markdown": [
       "\n",
       "A data.table: 6 × 37\n",
       "\n",
       "| DESY_SORT_KEY &lt;chr&gt; | REFERENCE_YEAR &lt;dbl&gt; | STATE_CODE &lt;chr&gt; | COUNTY_CODE &lt;chr&gt; | SEX_CODE &lt;dbl&gt; | RACE_CODE &lt;dbl&gt; | AGE &lt;dbl&gt; | ORIG_REASON_FOR_ENTITLEMENT &lt;dbl&gt; | CURR_REASON_FOR_ENTITLEMENT &lt;dbl&gt; | ENTITLEMENT_BUY_IN_IND01 &lt;chr&gt; | ENTITLEMENT_BUY_IN_IND02 &lt;chr&gt; | ENTITLEMENT_BUY_IN_IND03 &lt;chr&gt; | ENTITLEMENT_BUY_IN_IND04 &lt;chr&gt; | ENTITLEMENT_BUY_IN_IND05 &lt;chr&gt; | ENTITLEMENT_BUY_IN_IND06 &lt;chr&gt; | ENTITLEMENT_BUY_IN_IND07 &lt;chr&gt; | ENTITLEMENT_BUY_IN_IND08 &lt;chr&gt; | ENTITLEMENT_BUY_IN_IND09 &lt;chr&gt; | ENTITLEMENT_BUY_IN_IND10 &lt;chr&gt; | ENTITLEMENT_BUY_IN_IND11 &lt;chr&gt; | ENTITLEMENT_BUY_IN_IND12 &lt;chr&gt; | HMO_INDICATOR01 &lt;chr&gt; | HMO_INDICATOR02 &lt;chr&gt; | HMO_INDICATOR03 &lt;chr&gt; | HMO_INDICATOR04 &lt;chr&gt; | HMO_INDICATOR05 &lt;chr&gt; | HMO_INDICATOR06 &lt;chr&gt; | HMO_INDICATOR07 &lt;chr&gt; | HMO_INDICATOR08 &lt;chr&gt; | HMO_INDICATOR09 &lt;chr&gt; | HMO_INDICATOR10 &lt;chr&gt; | HMO_INDICATOR11 &lt;chr&gt; | HMO_INDICATOR12 &lt;chr&gt; | VALID_DATE_OF_DEATH_SWITCH &lt;chr&gt; | DATE_OF_DEATH &lt;dbl&gt; | year &lt;dbl&gt; | date_died &lt;dbl&gt; |\n",
       "|---|---|---|---|---|---|---|---|---|---|---|---|---|---|---|---|---|---|---|---|---|---|---|---|---|---|---|---|---|---|---|---|---|---|---|---|---|\n",
       "| 000000000 | 13 | 45 | 910 | 2 | 1 | 75 | 0 | 0 | C | C | C | C | C | C | C | C | C | C | C | 3 | 0 | 0 | 0 | 0 | 0 | 0 | 0 | 0 | 0 | 0 | 0 | 0 | NA | NA | 2013 | 20131017 |\n",
       "| 000000000 | 13 | 45 | 910 | 2 | 1 | 75 | 0 | 0 | C | C | C | C | C | C | C | C | C | C | C | 3 | 0 | 0 | 0 | 0 | 0 | 0 | 0 | 0 | 0 | 0 | 0 | 0 | NA | NA | 2013 | 20150627 |\n",
       "| 000000000 | 13 | 22 | 170 | 2 | 1 | 71 | 0 | 0 | 3 | 3 | 3 | 3 | 3 | 3 | 3 | 3 | 3 | 3 | 3 | 3 | 0 | 0 | 0 | 0 | 0 | 0 | 0 | 0 | 0 | 0 | 0 | 0 | NA | NA | 2013 | 20131017 |\n",
       "| 000000000 | 13 | 22 | 170 | 2 | 1 | 71 | 0 | 0 | 3 | 3 | 3 | 3 | 3 | 3 | 3 | 3 | 3 | 3 | 3 | 3 | 0 | 0 | 0 | 0 | 0 | 0 | 0 | 0 | 0 | 0 | 0 | 0 | NA | NA | 2013 | 20150627 |\n",
       "| 000000000 | 13 | 33 | 420 | 2 | 1 | 93 | 0 | 0 | 3 | 3 | 3 | 3 | 3 | 3 | 3 | 3 | 3 | 3 | 3 | 3 | 0 | 0 | 0 | 0 | 0 | 0 | 0 | 0 | 0 | 0 | 0 | 0 | NA | NA | 2013 | 20131017 |\n",
       "| 000000000 | 13 | 33 | 420 | 2 | 1 | 93 | 0 | 0 | 3 | 3 | 3 | 3 | 3 | 3 | 3 | 3 | 3 | 3 | 3 | 3 | 0 | 0 | 0 | 0 | 0 | 0 | 0 | 0 | 0 | 0 | 0 | 0 | NA | NA | 2013 | 20150627 |\n",
       "\n"
      ],
      "text/plain": [
       "  DESY_SORT_KEY REFERENCE_YEAR STATE_CODE COUNTY_CODE SEX_CODE RACE_CODE AGE ORIG_REASON_FOR_ENTITLEMENT CURR_REASON_FOR_ENTITLEMENT ENTITLEMENT_BUY_IN_IND01 ENTITLEMENT_BUY_IN_IND02 ENTITLEMENT_BUY_IN_IND03 ENTITLEMENT_BUY_IN_IND04 ENTITLEMENT_BUY_IN_IND05 ENTITLEMENT_BUY_IN_IND06\n",
       "1 000000000     13             45         910         2        1         75  0                           0                           C                        C                        C                        C                        C                        C                       \n",
       "2 000000000     13             45         910         2        1         75  0                           0                           C                        C                        C                        C                        C                        C                       \n",
       "3 000000000     13             22         170         2        1         71  0                           0                           3                        3                        3                        3                        3                        3                       \n",
       "4 000000000     13             22         170         2        1         71  0                           0                           3                        3                        3                        3                        3                        3                       \n",
       "5 000000000     13             33         420         2        1         93  0                           0                           3                        3                        3                        3                        3                        3                       \n",
       "6 000000000     13             33         420         2        1         93  0                           0                           3                        3                        3                        3                        3                        3                       \n",
       "  ENTITLEMENT_BUY_IN_IND07 ENTITLEMENT_BUY_IN_IND08 ENTITLEMENT_BUY_IN_IND09 ENTITLEMENT_BUY_IN_IND10 ENTITLEMENT_BUY_IN_IND11 ENTITLEMENT_BUY_IN_IND12 HMO_INDICATOR01 HMO_INDICATOR02 HMO_INDICATOR03 HMO_INDICATOR04 HMO_INDICATOR05 HMO_INDICATOR06 HMO_INDICATOR07 HMO_INDICATOR08 HMO_INDICATOR09\n",
       "1 C                        C                        C                        C                        C                        3                        0               0               0               0               0               0               0               0               0              \n",
       "2 C                        C                        C                        C                        C                        3                        0               0               0               0               0               0               0               0               0              \n",
       "3 3                        3                        3                        3                        3                        3                        0               0               0               0               0               0               0               0               0              \n",
       "4 3                        3                        3                        3                        3                        3                        0               0               0               0               0               0               0               0               0              \n",
       "5 3                        3                        3                        3                        3                        3                        0               0               0               0               0               0               0               0               0              \n",
       "6 3                        3                        3                        3                        3                        3                        0               0               0               0               0               0               0               0               0              \n",
       "  HMO_INDICATOR10 HMO_INDICATOR11 HMO_INDICATOR12 VALID_DATE_OF_DEATH_SWITCH DATE_OF_DEATH year date_died\n",
       "1 0               0               0               NA                         NA            2013 20131017 \n",
       "2 0               0               0               NA                         NA            2013 20150627 \n",
       "3 0               0               0               NA                         NA            2013 20131017 \n",
       "4 0               0               0               NA                         NA            2013 20150627 \n",
       "5 0               0               0               NA                         NA            2013 20131017 \n",
       "6 0               0               0               NA                         NA            2013 20150627 "
      ]
     },
     "metadata": {},
     "output_type": "display_data"
    }
   ],
   "source": [
    "mbsf_data_death_collapsed <- mbsf_data[!is.na(DATE_OF_DEATH)]\n",
    "\n",
    "mbsf_data_death_collapsed$date_died <- mbsf_data_death_collapsed$DATE_OF_DEATH\n",
    "\n",
    "mbsf_data <-\n",
    "  left_join(mbsf_data,\n",
    "    mbsf_data_death_collapsed[, .(\n",
    "      DESY_SORT_KEY,\n",
    "      date_died\n",
    "    )],\n",
    "    by = (\"DESY_SORT_KEY\")\n",
    "  ) %>% as.data.table()\n",
    "\n",
    "mbsf_data_death_collapsed <- mbsf_data[!is.na(VALID_DATE_OF_DEATH_SWITCH)]\n",
    "\n",
    "mbsf_data_death_collapsed$date_died_valid <- mbsf_data_death_collapsed$VALID_DATE_OF_DEATH_SWITCH\n",
    "\n",
    "mbsf_data <-\n",
    "  left_join(mbsf_data,\n",
    "    mbsf_data_death_collapsed[, .(\n",
    "      DESY_SORT_KEY,\n",
    "      date_died_valid\n",
    "    )],\n",
    "    by = (\"DESY_SORT_KEY\")\n",
    "  ) %>% as.data.table()\n",
    "\n",
    "\n",
    "head(mbsf_data)"
   ]
  },
  {
   "cell_type": "code",
   "execution_count": 43,
   "id": "95847b72-2610-4697-91c2-2ccc11b6fc56",
   "metadata": {},
   "outputs": [],
   "source": [
    "write_fst(mbsf_data, \"/work/postresearch/Shared/Projects/Farbod/CaseMix/mbsf_data_long.fst\")"
   ]
  },
  {
   "cell_type": "markdown",
   "id": "100463da-d595-4af8-8fb5-0438caf28d53",
   "metadata": {
    "tags": []
   },
   "source": [
    "### Read data\n",
    "\n"
   ]
  },
  {
   "cell_type": "code",
   "execution_count": 190,
   "id": "6e36d11f-ce73-4b98-a279-3c12b6f344e6",
   "metadata": {},
   "outputs": [],
   "source": [
    "carrier_data_all_years <- read_fst(\n",
    "  \"/work/postresearch/Shared/Projects/Farbod/carrier_data_all_years.fst\",\n",
    "  as.data.table = T\n",
    ")\n",
    "# mbsf_data = read_fst(\n",
    "#  \"/work/postresearch/Shared/Projects/Farbod/CaseMix/mbsf_data_long.fst\", as.data.table = T)\n",
    "# mbsf_data[,DESY_SORT_KEY := as.integer(DESY_SORT_KEY)]"
   ]
  },
  {
   "cell_type": "code",
   "execution_count": 191,
   "id": "da7b9349-023f-48c7-95d7-5e2421cb78d9",
   "metadata": {},
   "outputs": [
    {
     "data": {
      "text/html": [
       "<table class=\"dataframe\">\n",
       "<caption>A data.table: 6 × 15</caption>\n",
       "<thead>\n",
       "\t<tr><th scope=col>DESY_SORT_KEY</th><th scope=col>CLAIM_NO</th><th scope=col>LINE_NUM</th><th scope=col>CLM_THRU_DT</th><th scope=col>LINE_PLACE_OF_SRVC_CD</th><th scope=col>HCPCS_CD</th><th scope=col>LINE_ICD_DGNS_VRSN_CD</th><th scope=col>LINE_ICD_DGNS_CD</th><th scope=col>LINE_ALOWD_CHRG_AMT</th><th scope=col>PRF_PHYSN_NPI</th><th scope=col>PRVDR_SPCLTY</th><th scope=col>PRVDR_STATE_CD</th><th scope=col>date</th><th scope=col>year</th><th scope=col>month_year</th></tr>\n",
       "\t<tr><th scope=col>&lt;int&gt;</th><th scope=col>&lt;int&gt;</th><th scope=col>&lt;int&gt;</th><th scope=col>&lt;int&gt;</th><th scope=col>&lt;int&gt;</th><th scope=col>&lt;chr&gt;</th><th scope=col>&lt;int&gt;</th><th scope=col>&lt;chr&gt;</th><th scope=col>&lt;dbl&gt;</th><th scope=col>&lt;chr&gt;</th><th scope=col>&lt;chr&gt;</th><th scope=col>&lt;int&gt;</th><th scope=col>&lt;date&gt;</th><th scope=col>&lt;dbl&gt;</th><th scope=col>&lt;chr&gt;</th></tr>\n",
       "</thead>\n",
       "<tbody>\n",
       "\t<tr><td>100000015</td><td>2</td><td>1</td><td>20130425</td><td>22</td><td>94375</td><td>9</td><td>496  </td><td> 15.26</td><td>1073503884</td><td>29</td><td>22</td><td>2013-04-25</td><td>2013</td><td>2013-04</td></tr>\n",
       "\t<tr><td>100000015</td><td>2</td><td>2</td><td>20130425</td><td>22</td><td>94726</td><td>9</td><td>496  </td><td> 13.54</td><td>1073503884</td><td>29</td><td>22</td><td>2013-04-25</td><td>2013</td><td>2013-04</td></tr>\n",
       "\t<tr><td>100000015</td><td>2</td><td>3</td><td>20130425</td><td>22</td><td>94729</td><td>9</td><td>496  </td><td>  9.95</td><td>1073503884</td><td>29</td><td>22</td><td>2013-04-25</td><td>2013</td><td>2013-04</td></tr>\n",
       "\t<tr><td>100000015</td><td>3</td><td>1</td><td>20130528</td><td>11</td><td>99214</td><td>9</td><td>41400</td><td>114.64</td><td>1285600932</td><td>11</td><td>22</td><td>2013-05-28</td><td>2013</td><td>2013-05</td></tr>\n",
       "\t<tr><td>100000015</td><td>3</td><td>2</td><td>20130528</td><td>11</td><td>93000</td><td>9</td><td>41400</td><td> 20.08</td><td>1285600932</td><td>11</td><td>22</td><td>2013-05-28</td><td>2013</td><td>2013-05</td></tr>\n",
       "\t<tr><td>100000015</td><td>4</td><td>1</td><td>20130719</td><td>22</td><td>99213</td><td>9</td><td>496  </td><td> 51.76</td><td>1659344091</td><td>29</td><td>22</td><td>2013-07-19</td><td>2013</td><td>2013-07</td></tr>\n",
       "</tbody>\n",
       "</table>\n"
      ],
      "text/latex": [
       "A data.table: 6 × 15\n",
       "\\begin{tabular}{lllllllllllllll}\n",
       " DESY\\_SORT\\_KEY & CLAIM\\_NO & LINE\\_NUM & CLM\\_THRU\\_DT & LINE\\_PLACE\\_OF\\_SRVC\\_CD & HCPCS\\_CD & LINE\\_ICD\\_DGNS\\_VRSN\\_CD & LINE\\_ICD\\_DGNS\\_CD & LINE\\_ALOWD\\_CHRG\\_AMT & PRF\\_PHYSN\\_NPI & PRVDR\\_SPCLTY & PRVDR\\_STATE\\_CD & date & year & month\\_year\\\\\n",
       " <int> & <int> & <int> & <int> & <int> & <chr> & <int> & <chr> & <dbl> & <chr> & <chr> & <int> & <date> & <dbl> & <chr>\\\\\n",
       "\\hline\n",
       "\t 100000015 & 2 & 1 & 20130425 & 22 & 94375 & 9 & 496   &  15.26 & 1073503884 & 29 & 22 & 2013-04-25 & 2013 & 2013-04\\\\\n",
       "\t 100000015 & 2 & 2 & 20130425 & 22 & 94726 & 9 & 496   &  13.54 & 1073503884 & 29 & 22 & 2013-04-25 & 2013 & 2013-04\\\\\n",
       "\t 100000015 & 2 & 3 & 20130425 & 22 & 94729 & 9 & 496   &   9.95 & 1073503884 & 29 & 22 & 2013-04-25 & 2013 & 2013-04\\\\\n",
       "\t 100000015 & 3 & 1 & 20130528 & 11 & 99214 & 9 & 41400 & 114.64 & 1285600932 & 11 & 22 & 2013-05-28 & 2013 & 2013-05\\\\\n",
       "\t 100000015 & 3 & 2 & 20130528 & 11 & 93000 & 9 & 41400 &  20.08 & 1285600932 & 11 & 22 & 2013-05-28 & 2013 & 2013-05\\\\\n",
       "\t 100000015 & 4 & 1 & 20130719 & 22 & 99213 & 9 & 496   &  51.76 & 1659344091 & 29 & 22 & 2013-07-19 & 2013 & 2013-07\\\\\n",
       "\\end{tabular}\n"
      ],
      "text/markdown": [
       "\n",
       "A data.table: 6 × 15\n",
       "\n",
       "| DESY_SORT_KEY &lt;int&gt; | CLAIM_NO &lt;int&gt; | LINE_NUM &lt;int&gt; | CLM_THRU_DT &lt;int&gt; | LINE_PLACE_OF_SRVC_CD &lt;int&gt; | HCPCS_CD &lt;chr&gt; | LINE_ICD_DGNS_VRSN_CD &lt;int&gt; | LINE_ICD_DGNS_CD &lt;chr&gt; | LINE_ALOWD_CHRG_AMT &lt;dbl&gt; | PRF_PHYSN_NPI &lt;chr&gt; | PRVDR_SPCLTY &lt;chr&gt; | PRVDR_STATE_CD &lt;int&gt; | date &lt;date&gt; | year &lt;dbl&gt; | month_year &lt;chr&gt; |\n",
       "|---|---|---|---|---|---|---|---|---|---|---|---|---|---|---|\n",
       "| 100000015 | 2 | 1 | 20130425 | 22 | 94375 | 9 | 496   |  15.26 | 1073503884 | 29 | 22 | 2013-04-25 | 2013 | 2013-04 |\n",
       "| 100000015 | 2 | 2 | 20130425 | 22 | 94726 | 9 | 496   |  13.54 | 1073503884 | 29 | 22 | 2013-04-25 | 2013 | 2013-04 |\n",
       "| 100000015 | 2 | 3 | 20130425 | 22 | 94729 | 9 | 496   |   9.95 | 1073503884 | 29 | 22 | 2013-04-25 | 2013 | 2013-04 |\n",
       "| 100000015 | 3 | 1 | 20130528 | 11 | 99214 | 9 | 41400 | 114.64 | 1285600932 | 11 | 22 | 2013-05-28 | 2013 | 2013-05 |\n",
       "| 100000015 | 3 | 2 | 20130528 | 11 | 93000 | 9 | 41400 |  20.08 | 1285600932 | 11 | 22 | 2013-05-28 | 2013 | 2013-05 |\n",
       "| 100000015 | 4 | 1 | 20130719 | 22 | 99213 | 9 | 496   |  51.76 | 1659344091 | 29 | 22 | 2013-07-19 | 2013 | 2013-07 |\n",
       "\n"
      ],
      "text/plain": [
       "  DESY_SORT_KEY CLAIM_NO LINE_NUM CLM_THRU_DT LINE_PLACE_OF_SRVC_CD HCPCS_CD LINE_ICD_DGNS_VRSN_CD LINE_ICD_DGNS_CD LINE_ALOWD_CHRG_AMT PRF_PHYSN_NPI PRVDR_SPCLTY PRVDR_STATE_CD date       year month_year\n",
       "1 100000015     2        1        20130425    22                    94375    9                     496               15.26              1073503884    29           22             2013-04-25 2013 2013-04   \n",
       "2 100000015     2        2        20130425    22                    94726    9                     496               13.54              1073503884    29           22             2013-04-25 2013 2013-04   \n",
       "3 100000015     2        3        20130425    22                    94729    9                     496                9.95              1073503884    29           22             2013-04-25 2013 2013-04   \n",
       "4 100000015     3        1        20130528    11                    99214    9                     41400            114.64              1285600932    11           22             2013-05-28 2013 2013-05   \n",
       "5 100000015     3        2        20130528    11                    93000    9                     41400             20.08              1285600932    11           22             2013-05-28 2013 2013-05   \n",
       "6 100000015     4        1        20130719    22                    99213    9                     496               51.76              1659344091    29           22             2013-07-19 2013 2013-07   "
      ]
     },
     "metadata": {},
     "output_type": "display_data"
    },
    {
     "data": {
      "text/html": [
       "<table class=\"dataframe\">\n",
       "<caption>A data.table: 6 × 38</caption>\n",
       "<thead>\n",
       "\t<tr><th scope=col>DESY_SORT_KEY</th><th scope=col>REFERENCE_YEAR</th><th scope=col>STATE_CODE</th><th scope=col>COUNTY_CODE</th><th scope=col>SEX_CODE</th><th scope=col>RACE_CODE</th><th scope=col>AGE</th><th scope=col>ORIG_REASON_FOR_ENTITLEMENT</th><th scope=col>CURR_REASON_FOR_ENTITLEMENT</th><th scope=col>ENTITLEMENT_BUY_IN_IND01</th><th scope=col>ENTITLEMENT_BUY_IN_IND02</th><th scope=col>ENTITLEMENT_BUY_IN_IND03</th><th scope=col>ENTITLEMENT_BUY_IN_IND04</th><th scope=col>ENTITLEMENT_BUY_IN_IND05</th><th scope=col>ENTITLEMENT_BUY_IN_IND06</th><th scope=col>ENTITLEMENT_BUY_IN_IND07</th><th scope=col>ENTITLEMENT_BUY_IN_IND08</th><th scope=col>ENTITLEMENT_BUY_IN_IND09</th><th scope=col>ENTITLEMENT_BUY_IN_IND10</th><th scope=col>ENTITLEMENT_BUY_IN_IND11</th><th scope=col>ENTITLEMENT_BUY_IN_IND12</th><th scope=col>HMO_INDICATOR01</th><th scope=col>HMO_INDICATOR02</th><th scope=col>HMO_INDICATOR03</th><th scope=col>HMO_INDICATOR04</th><th scope=col>HMO_INDICATOR05</th><th scope=col>HMO_INDICATOR06</th><th scope=col>HMO_INDICATOR07</th><th scope=col>HMO_INDICATOR08</th><th scope=col>HMO_INDICATOR09</th><th scope=col>HMO_INDICATOR10</th><th scope=col>HMO_INDICATOR11</th><th scope=col>HMO_INDICATOR12</th><th scope=col>VALID_DATE_OF_DEATH_SWITCH</th><th scope=col>DATE_OF_DEATH</th><th scope=col>year</th><th scope=col>date_died</th><th scope=col>date_died_valid</th></tr>\n",
       "\t<tr><th scope=col>&lt;int&gt;</th><th scope=col>&lt;dbl&gt;</th><th scope=col>&lt;chr&gt;</th><th scope=col>&lt;chr&gt;</th><th scope=col>&lt;dbl&gt;</th><th scope=col>&lt;dbl&gt;</th><th scope=col>&lt;dbl&gt;</th><th scope=col>&lt;dbl&gt;</th><th scope=col>&lt;dbl&gt;</th><th scope=col>&lt;chr&gt;</th><th scope=col>&lt;chr&gt;</th><th scope=col>&lt;chr&gt;</th><th scope=col>&lt;chr&gt;</th><th scope=col>&lt;chr&gt;</th><th scope=col>&lt;chr&gt;</th><th scope=col>&lt;chr&gt;</th><th scope=col>&lt;chr&gt;</th><th scope=col>&lt;chr&gt;</th><th scope=col>&lt;chr&gt;</th><th scope=col>&lt;chr&gt;</th><th scope=col>&lt;chr&gt;</th><th scope=col>&lt;chr&gt;</th><th scope=col>&lt;chr&gt;</th><th scope=col>&lt;chr&gt;</th><th scope=col>&lt;chr&gt;</th><th scope=col>&lt;chr&gt;</th><th scope=col>&lt;chr&gt;</th><th scope=col>&lt;chr&gt;</th><th scope=col>&lt;chr&gt;</th><th scope=col>&lt;chr&gt;</th><th scope=col>&lt;chr&gt;</th><th scope=col>&lt;chr&gt;</th><th scope=col>&lt;chr&gt;</th><th scope=col>&lt;chr&gt;</th><th scope=col>&lt;dbl&gt;</th><th scope=col>&lt;dbl&gt;</th><th scope=col>&lt;dbl&gt;</th><th scope=col>&lt;chr&gt;</th></tr>\n",
       "</thead>\n",
       "<tbody>\n",
       "\t<tr><td>0</td><td>13</td><td>45</td><td>910</td><td>2</td><td>1</td><td>75</td><td>0</td><td>0</td><td>C</td><td>C</td><td>C</td><td>C</td><td>C</td><td>C</td><td>C</td><td>C</td><td>C</td><td>C</td><td>C</td><td>3</td><td>0</td><td>0</td><td>0</td><td>0</td><td>0</td><td>0</td><td>0</td><td>0</td><td>0</td><td>0</td><td>0</td><td>0</td><td>NA</td><td>NA</td><td>2013</td><td>20131017</td><td>V</td></tr>\n",
       "\t<tr><td>0</td><td>13</td><td>45</td><td>910</td><td>2</td><td>1</td><td>75</td><td>0</td><td>0</td><td>C</td><td>C</td><td>C</td><td>C</td><td>C</td><td>C</td><td>C</td><td>C</td><td>C</td><td>C</td><td>C</td><td>3</td><td>0</td><td>0</td><td>0</td><td>0</td><td>0</td><td>0</td><td>0</td><td>0</td><td>0</td><td>0</td><td>0</td><td>0</td><td>NA</td><td>NA</td><td>2013</td><td>20131017</td><td>V</td></tr>\n",
       "\t<tr><td>0</td><td>13</td><td>45</td><td>910</td><td>2</td><td>1</td><td>75</td><td>0</td><td>0</td><td>C</td><td>C</td><td>C</td><td>C</td><td>C</td><td>C</td><td>C</td><td>C</td><td>C</td><td>C</td><td>C</td><td>3</td><td>0</td><td>0</td><td>0</td><td>0</td><td>0</td><td>0</td><td>0</td><td>0</td><td>0</td><td>0</td><td>0</td><td>0</td><td>NA</td><td>NA</td><td>2013</td><td>20150627</td><td>V</td></tr>\n",
       "\t<tr><td>0</td><td>13</td><td>45</td><td>910</td><td>2</td><td>1</td><td>75</td><td>0</td><td>0</td><td>C</td><td>C</td><td>C</td><td>C</td><td>C</td><td>C</td><td>C</td><td>C</td><td>C</td><td>C</td><td>C</td><td>3</td><td>0</td><td>0</td><td>0</td><td>0</td><td>0</td><td>0</td><td>0</td><td>0</td><td>0</td><td>0</td><td>0</td><td>0</td><td>NA</td><td>NA</td><td>2013</td><td>20150627</td><td>V</td></tr>\n",
       "\t<tr><td>0</td><td>13</td><td>22</td><td>170</td><td>2</td><td>1</td><td>71</td><td>0</td><td>0</td><td>3</td><td>3</td><td>3</td><td>3</td><td>3</td><td>3</td><td>3</td><td>3</td><td>3</td><td>3</td><td>3</td><td>3</td><td>0</td><td>0</td><td>0</td><td>0</td><td>0</td><td>0</td><td>0</td><td>0</td><td>0</td><td>0</td><td>0</td><td>0</td><td>NA</td><td>NA</td><td>2013</td><td>20131017</td><td>V</td></tr>\n",
       "\t<tr><td>0</td><td>13</td><td>22</td><td>170</td><td>2</td><td>1</td><td>71</td><td>0</td><td>0</td><td>3</td><td>3</td><td>3</td><td>3</td><td>3</td><td>3</td><td>3</td><td>3</td><td>3</td><td>3</td><td>3</td><td>3</td><td>0</td><td>0</td><td>0</td><td>0</td><td>0</td><td>0</td><td>0</td><td>0</td><td>0</td><td>0</td><td>0</td><td>0</td><td>NA</td><td>NA</td><td>2013</td><td>20131017</td><td>V</td></tr>\n",
       "</tbody>\n",
       "</table>\n"
      ],
      "text/latex": [
       "A data.table: 6 × 38\n",
       "\\begin{tabular}{llllllllllllllllllllllllllllllllllllll}\n",
       " DESY\\_SORT\\_KEY & REFERENCE\\_YEAR & STATE\\_CODE & COUNTY\\_CODE & SEX\\_CODE & RACE\\_CODE & AGE & ORIG\\_REASON\\_FOR\\_ENTITLEMENT & CURR\\_REASON\\_FOR\\_ENTITLEMENT & ENTITLEMENT\\_BUY\\_IN\\_IND01 & ENTITLEMENT\\_BUY\\_IN\\_IND02 & ENTITLEMENT\\_BUY\\_IN\\_IND03 & ENTITLEMENT\\_BUY\\_IN\\_IND04 & ENTITLEMENT\\_BUY\\_IN\\_IND05 & ENTITLEMENT\\_BUY\\_IN\\_IND06 & ENTITLEMENT\\_BUY\\_IN\\_IND07 & ENTITLEMENT\\_BUY\\_IN\\_IND08 & ENTITLEMENT\\_BUY\\_IN\\_IND09 & ENTITLEMENT\\_BUY\\_IN\\_IND10 & ENTITLEMENT\\_BUY\\_IN\\_IND11 & ENTITLEMENT\\_BUY\\_IN\\_IND12 & HMO\\_INDICATOR01 & HMO\\_INDICATOR02 & HMO\\_INDICATOR03 & HMO\\_INDICATOR04 & HMO\\_INDICATOR05 & HMO\\_INDICATOR06 & HMO\\_INDICATOR07 & HMO\\_INDICATOR08 & HMO\\_INDICATOR09 & HMO\\_INDICATOR10 & HMO\\_INDICATOR11 & HMO\\_INDICATOR12 & VALID\\_DATE\\_OF\\_DEATH\\_SWITCH & DATE\\_OF\\_DEATH & year & date\\_died & date\\_died\\_valid\\\\\n",
       " <int> & <dbl> & <chr> & <chr> & <dbl> & <dbl> & <dbl> & <dbl> & <dbl> & <chr> & <chr> & <chr> & <chr> & <chr> & <chr> & <chr> & <chr> & <chr> & <chr> & <chr> & <chr> & <chr> & <chr> & <chr> & <chr> & <chr> & <chr> & <chr> & <chr> & <chr> & <chr> & <chr> & <chr> & <chr> & <dbl> & <dbl> & <dbl> & <chr>\\\\\n",
       "\\hline\n",
       "\t 0 & 13 & 45 & 910 & 2 & 1 & 75 & 0 & 0 & C & C & C & C & C & C & C & C & C & C & C & 3 & 0 & 0 & 0 & 0 & 0 & 0 & 0 & 0 & 0 & 0 & 0 & 0 & NA & NA & 2013 & 20131017 & V\\\\\n",
       "\t 0 & 13 & 45 & 910 & 2 & 1 & 75 & 0 & 0 & C & C & C & C & C & C & C & C & C & C & C & 3 & 0 & 0 & 0 & 0 & 0 & 0 & 0 & 0 & 0 & 0 & 0 & 0 & NA & NA & 2013 & 20131017 & V\\\\\n",
       "\t 0 & 13 & 45 & 910 & 2 & 1 & 75 & 0 & 0 & C & C & C & C & C & C & C & C & C & C & C & 3 & 0 & 0 & 0 & 0 & 0 & 0 & 0 & 0 & 0 & 0 & 0 & 0 & NA & NA & 2013 & 20150627 & V\\\\\n",
       "\t 0 & 13 & 45 & 910 & 2 & 1 & 75 & 0 & 0 & C & C & C & C & C & C & C & C & C & C & C & 3 & 0 & 0 & 0 & 0 & 0 & 0 & 0 & 0 & 0 & 0 & 0 & 0 & NA & NA & 2013 & 20150627 & V\\\\\n",
       "\t 0 & 13 & 22 & 170 & 2 & 1 & 71 & 0 & 0 & 3 & 3 & 3 & 3 & 3 & 3 & 3 & 3 & 3 & 3 & 3 & 3 & 0 & 0 & 0 & 0 & 0 & 0 & 0 & 0 & 0 & 0 & 0 & 0 & NA & NA & 2013 & 20131017 & V\\\\\n",
       "\t 0 & 13 & 22 & 170 & 2 & 1 & 71 & 0 & 0 & 3 & 3 & 3 & 3 & 3 & 3 & 3 & 3 & 3 & 3 & 3 & 3 & 0 & 0 & 0 & 0 & 0 & 0 & 0 & 0 & 0 & 0 & 0 & 0 & NA & NA & 2013 & 20131017 & V\\\\\n",
       "\\end{tabular}\n"
      ],
      "text/markdown": [
       "\n",
       "A data.table: 6 × 38\n",
       "\n",
       "| DESY_SORT_KEY &lt;int&gt; | REFERENCE_YEAR &lt;dbl&gt; | STATE_CODE &lt;chr&gt; | COUNTY_CODE &lt;chr&gt; | SEX_CODE &lt;dbl&gt; | RACE_CODE &lt;dbl&gt; | AGE &lt;dbl&gt; | ORIG_REASON_FOR_ENTITLEMENT &lt;dbl&gt; | CURR_REASON_FOR_ENTITLEMENT &lt;dbl&gt; | ENTITLEMENT_BUY_IN_IND01 &lt;chr&gt; | ENTITLEMENT_BUY_IN_IND02 &lt;chr&gt; | ENTITLEMENT_BUY_IN_IND03 &lt;chr&gt; | ENTITLEMENT_BUY_IN_IND04 &lt;chr&gt; | ENTITLEMENT_BUY_IN_IND05 &lt;chr&gt; | ENTITLEMENT_BUY_IN_IND06 &lt;chr&gt; | ENTITLEMENT_BUY_IN_IND07 &lt;chr&gt; | ENTITLEMENT_BUY_IN_IND08 &lt;chr&gt; | ENTITLEMENT_BUY_IN_IND09 &lt;chr&gt; | ENTITLEMENT_BUY_IN_IND10 &lt;chr&gt; | ENTITLEMENT_BUY_IN_IND11 &lt;chr&gt; | ENTITLEMENT_BUY_IN_IND12 &lt;chr&gt; | HMO_INDICATOR01 &lt;chr&gt; | HMO_INDICATOR02 &lt;chr&gt; | HMO_INDICATOR03 &lt;chr&gt; | HMO_INDICATOR04 &lt;chr&gt; | HMO_INDICATOR05 &lt;chr&gt; | HMO_INDICATOR06 &lt;chr&gt; | HMO_INDICATOR07 &lt;chr&gt; | HMO_INDICATOR08 &lt;chr&gt; | HMO_INDICATOR09 &lt;chr&gt; | HMO_INDICATOR10 &lt;chr&gt; | HMO_INDICATOR11 &lt;chr&gt; | HMO_INDICATOR12 &lt;chr&gt; | VALID_DATE_OF_DEATH_SWITCH &lt;chr&gt; | DATE_OF_DEATH &lt;dbl&gt; | year &lt;dbl&gt; | date_died &lt;dbl&gt; | date_died_valid &lt;chr&gt; |\n",
       "|---|---|---|---|---|---|---|---|---|---|---|---|---|---|---|---|---|---|---|---|---|---|---|---|---|---|---|---|---|---|---|---|---|---|---|---|---|---|\n",
       "| 0 | 13 | 45 | 910 | 2 | 1 | 75 | 0 | 0 | C | C | C | C | C | C | C | C | C | C | C | 3 | 0 | 0 | 0 | 0 | 0 | 0 | 0 | 0 | 0 | 0 | 0 | 0 | NA | NA | 2013 | 20131017 | V |\n",
       "| 0 | 13 | 45 | 910 | 2 | 1 | 75 | 0 | 0 | C | C | C | C | C | C | C | C | C | C | C | 3 | 0 | 0 | 0 | 0 | 0 | 0 | 0 | 0 | 0 | 0 | 0 | 0 | NA | NA | 2013 | 20131017 | V |\n",
       "| 0 | 13 | 45 | 910 | 2 | 1 | 75 | 0 | 0 | C | C | C | C | C | C | C | C | C | C | C | 3 | 0 | 0 | 0 | 0 | 0 | 0 | 0 | 0 | 0 | 0 | 0 | 0 | NA | NA | 2013 | 20150627 | V |\n",
       "| 0 | 13 | 45 | 910 | 2 | 1 | 75 | 0 | 0 | C | C | C | C | C | C | C | C | C | C | C | 3 | 0 | 0 | 0 | 0 | 0 | 0 | 0 | 0 | 0 | 0 | 0 | 0 | NA | NA | 2013 | 20150627 | V |\n",
       "| 0 | 13 | 22 | 170 | 2 | 1 | 71 | 0 | 0 | 3 | 3 | 3 | 3 | 3 | 3 | 3 | 3 | 3 | 3 | 3 | 3 | 0 | 0 | 0 | 0 | 0 | 0 | 0 | 0 | 0 | 0 | 0 | 0 | NA | NA | 2013 | 20131017 | V |\n",
       "| 0 | 13 | 22 | 170 | 2 | 1 | 71 | 0 | 0 | 3 | 3 | 3 | 3 | 3 | 3 | 3 | 3 | 3 | 3 | 3 | 3 | 0 | 0 | 0 | 0 | 0 | 0 | 0 | 0 | 0 | 0 | 0 | 0 | NA | NA | 2013 | 20131017 | V |\n",
       "\n"
      ],
      "text/plain": [
       "  DESY_SORT_KEY REFERENCE_YEAR STATE_CODE COUNTY_CODE SEX_CODE RACE_CODE AGE ORIG_REASON_FOR_ENTITLEMENT CURR_REASON_FOR_ENTITLEMENT ENTITLEMENT_BUY_IN_IND01 ENTITLEMENT_BUY_IN_IND02 ENTITLEMENT_BUY_IN_IND03 ENTITLEMENT_BUY_IN_IND04 ENTITLEMENT_BUY_IN_IND05 ENTITLEMENT_BUY_IN_IND06\n",
       "1 0             13             45         910         2        1         75  0                           0                           C                        C                        C                        C                        C                        C                       \n",
       "2 0             13             45         910         2        1         75  0                           0                           C                        C                        C                        C                        C                        C                       \n",
       "3 0             13             45         910         2        1         75  0                           0                           C                        C                        C                        C                        C                        C                       \n",
       "4 0             13             45         910         2        1         75  0                           0                           C                        C                        C                        C                        C                        C                       \n",
       "5 0             13             22         170         2        1         71  0                           0                           3                        3                        3                        3                        3                        3                       \n",
       "6 0             13             22         170         2        1         71  0                           0                           3                        3                        3                        3                        3                        3                       \n",
       "  ENTITLEMENT_BUY_IN_IND07 ENTITLEMENT_BUY_IN_IND08 ENTITLEMENT_BUY_IN_IND09 ENTITLEMENT_BUY_IN_IND10 ENTITLEMENT_BUY_IN_IND11 ENTITLEMENT_BUY_IN_IND12 HMO_INDICATOR01 HMO_INDICATOR02 HMO_INDICATOR03 HMO_INDICATOR04 HMO_INDICATOR05 HMO_INDICATOR06 HMO_INDICATOR07 HMO_INDICATOR08 HMO_INDICATOR09\n",
       "1 C                        C                        C                        C                        C                        3                        0               0               0               0               0               0               0               0               0              \n",
       "2 C                        C                        C                        C                        C                        3                        0               0               0               0               0               0               0               0               0              \n",
       "3 C                        C                        C                        C                        C                        3                        0               0               0               0               0               0               0               0               0              \n",
       "4 C                        C                        C                        C                        C                        3                        0               0               0               0               0               0               0               0               0              \n",
       "5 3                        3                        3                        3                        3                        3                        0               0               0               0               0               0               0               0               0              \n",
       "6 3                        3                        3                        3                        3                        3                        0               0               0               0               0               0               0               0               0              \n",
       "  HMO_INDICATOR10 HMO_INDICATOR11 HMO_INDICATOR12 VALID_DATE_OF_DEATH_SWITCH DATE_OF_DEATH year date_died date_died_valid\n",
       "1 0               0               0               NA                         NA            2013 20131017  V              \n",
       "2 0               0               0               NA                         NA            2013 20131017  V              \n",
       "3 0               0               0               NA                         NA            2013 20150627  V              \n",
       "4 0               0               0               NA                         NA            2013 20150627  V              \n",
       "5 0               0               0               NA                         NA            2013 20131017  V              \n",
       "6 0               0               0               NA                         NA            2013 20131017  V              "
      ]
     },
     "metadata": {},
     "output_type": "display_data"
    }
   ],
   "source": [
    "head(carrier_data_all_years)\n",
    "head(mbsf_data)"
   ]
  },
  {
   "cell_type": "markdown",
   "id": "f451aea9-2711-4a54-b939-1549783a2eba",
   "metadata": {
    "incorrectly_encoded_metadata": "jp-MarkdownHeadingCollapsed=true",
    "tags": []
   },
   "source": [
    "### Loading sample data (for pc)"
   ]
  },
  {
   "cell_type": "code",
   "execution_count": 4,
   "id": "612bc3ad-4fd8-41a0-8c55-e2a45011592d",
   "metadata": {},
   "outputs": [],
   "source": [
    "sample_data <- readRDS(file = \"sample_data.RDS\")"
   ]
  },
  {
   "cell_type": "code",
   "execution_count": 5,
   "id": "cf4b6136-7150-4e85-8498-9f2d5327b6c5",
   "metadata": {},
   "outputs": [],
   "source": [
    "carrier_data_all_years <- sample_data[[1]]\n",
    "outpatient_data_all_years <- sample_data[[2]]\n",
    "inpatient_data_all_years <- sample_data[[3]]\n",
    "mbsf_data <- read_fst(\"mbsf_data_long.fst\", as.data.table = T)\n",
    "revenue_center_outpatient_all_years <- sample_data[[5]]\n",
    "outpatient_and_revenue_center_data <- sample_data[[6]]"
   ]
  },
  {
   "cell_type": "markdown",
   "id": "49f2391b-8fe9-417a-a991-1ac1adedcdb7",
   "metadata": {
    "tags": []
   },
   "source": [
    "### Patient yearly expenditures and use of services carrier\n",
    "\n",
    "I will first create a function that adds conditions of interest to the data.\n"
   ]
  },
  {
   "cell_type": "markdown",
   "id": "67c9078e-76e0-4da6-999e-77e6c8a9cc40",
   "metadata": {},
   "source": [
    "#### Finding conditions for each claim line"
   ]
  },
  {
   "cell_type": "code",
   "execution_count": 46,
   "id": "e02722bf-fc90-400e-9e29-faa6285560e4",
   "metadata": {
    "tags": []
   },
   "outputs": [
    {
     "data": {
      "text/html": [
       "<table class=\"dataframe\">\n",
       "<caption>A data.table: 6 × 22</caption>\n",
       "<thead>\n",
       "\t<tr><th scope=col>DESY_SORT_KEY</th><th scope=col>CLAIM_NO</th><th scope=col>LINE_NUM</th><th scope=col>CLM_THRU_DT</th><th scope=col>LINE_PLACE_OF_SRVC_CD</th><th scope=col>HCPCS_CD</th><th scope=col>LINE_ICD_DGNS_VRSN_CD</th><th scope=col>LINE_ICD_DGNS_CD</th><th scope=col>LINE_ALOWD_CHRG_AMT</th><th scope=col>PRF_PHYSN_NPI</th><th scope=col>PRVDR_SPCLTY</th><th scope=col>PRVDR_STATE_CD</th><th scope=col>date</th><th scope=col>year</th><th scope=col>month_year</th><th scope=col>is_office_visit</th><th scope=col>is_by_primary_care_physician</th><th scope=col>is_hypertension</th><th scope=col>is_arthritis</th><th scope=col>is_IHD</th><th scope=col>is_diabetes</th><th scope=col>is_depression</th></tr>\n",
       "\t<tr><th scope=col>&lt;int&gt;</th><th scope=col>&lt;int&gt;</th><th scope=col>&lt;int&gt;</th><th scope=col>&lt;int&gt;</th><th scope=col>&lt;int&gt;</th><th scope=col>&lt;chr&gt;</th><th scope=col>&lt;int&gt;</th><th scope=col>&lt;chr&gt;</th><th scope=col>&lt;dbl&gt;</th><th scope=col>&lt;chr&gt;</th><th scope=col>&lt;chr&gt;</th><th scope=col>&lt;int&gt;</th><th scope=col>&lt;date&gt;</th><th scope=col>&lt;dbl&gt;</th><th scope=col>&lt;chr&gt;</th><th scope=col>&lt;lgl&gt;</th><th scope=col>&lt;lgl&gt;</th><th scope=col>&lt;lgl&gt;</th><th scope=col>&lt;lgl&gt;</th><th scope=col>&lt;lgl&gt;</th><th scope=col>&lt;lgl&gt;</th><th scope=col>&lt;lgl&gt;</th></tr>\n",
       "</thead>\n",
       "<tbody>\n",
       "\t<tr><td>100000015</td><td>2</td><td>1</td><td>20130425</td><td>22</td><td>94375</td><td>9</td><td>496  </td><td> 15.26</td><td>1073503884</td><td>29</td><td>22</td><td>2013-04-25</td><td>2013</td><td>2013-04</td><td>FALSE</td><td>FALSE</td><td>FALSE</td><td>FALSE</td><td>FALSE</td><td>FALSE</td><td>FALSE</td></tr>\n",
       "\t<tr><td>100000015</td><td>2</td><td>2</td><td>20130425</td><td>22</td><td>94726</td><td>9</td><td>496  </td><td> 13.54</td><td>1073503884</td><td>29</td><td>22</td><td>2013-04-25</td><td>2013</td><td>2013-04</td><td>FALSE</td><td>FALSE</td><td>FALSE</td><td>FALSE</td><td>FALSE</td><td>FALSE</td><td>FALSE</td></tr>\n",
       "\t<tr><td>100000015</td><td>2</td><td>3</td><td>20130425</td><td>22</td><td>94729</td><td>9</td><td>496  </td><td>  9.95</td><td>1073503884</td><td>29</td><td>22</td><td>2013-04-25</td><td>2013</td><td>2013-04</td><td>FALSE</td><td>FALSE</td><td>FALSE</td><td>FALSE</td><td>FALSE</td><td>FALSE</td><td>FALSE</td></tr>\n",
       "\t<tr><td>100000015</td><td>3</td><td>1</td><td>20130528</td><td>11</td><td>99214</td><td>9</td><td>41400</td><td>114.64</td><td>1285600932</td><td>11</td><td>22</td><td>2013-05-28</td><td>2013</td><td>2013-05</td><td> TRUE</td><td> TRUE</td><td>FALSE</td><td>FALSE</td><td> TRUE</td><td>FALSE</td><td>FALSE</td></tr>\n",
       "\t<tr><td>100000015</td><td>3</td><td>2</td><td>20130528</td><td>11</td><td>93000</td><td>9</td><td>41400</td><td> 20.08</td><td>1285600932</td><td>11</td><td>22</td><td>2013-05-28</td><td>2013</td><td>2013-05</td><td>FALSE</td><td> TRUE</td><td>FALSE</td><td>FALSE</td><td> TRUE</td><td>FALSE</td><td>FALSE</td></tr>\n",
       "\t<tr><td>100000015</td><td>4</td><td>1</td><td>20130719</td><td>22</td><td>99213</td><td>9</td><td>496  </td><td> 51.76</td><td>1659344091</td><td>29</td><td>22</td><td>2013-07-19</td><td>2013</td><td>2013-07</td><td> TRUE</td><td>FALSE</td><td>FALSE</td><td>FALSE</td><td>FALSE</td><td>FALSE</td><td>FALSE</td></tr>\n",
       "</tbody>\n",
       "</table>\n"
      ],
      "text/latex": [
       "A data.table: 6 × 22\n",
       "\\begin{tabular}{llllllllllllllllllllll}\n",
       " DESY\\_SORT\\_KEY & CLAIM\\_NO & LINE\\_NUM & CLM\\_THRU\\_DT & LINE\\_PLACE\\_OF\\_SRVC\\_CD & HCPCS\\_CD & LINE\\_ICD\\_DGNS\\_VRSN\\_CD & LINE\\_ICD\\_DGNS\\_CD & LINE\\_ALOWD\\_CHRG\\_AMT & PRF\\_PHYSN\\_NPI & PRVDR\\_SPCLTY & PRVDR\\_STATE\\_CD & date & year & month\\_year & is\\_office\\_visit & is\\_by\\_primary\\_care\\_physician & is\\_hypertension & is\\_arthritis & is\\_IHD & is\\_diabetes & is\\_depression\\\\\n",
       " <int> & <int> & <int> & <int> & <int> & <chr> & <int> & <chr> & <dbl> & <chr> & <chr> & <int> & <date> & <dbl> & <chr> & <lgl> & <lgl> & <lgl> & <lgl> & <lgl> & <lgl> & <lgl>\\\\\n",
       "\\hline\n",
       "\t 100000015 & 2 & 1 & 20130425 & 22 & 94375 & 9 & 496   &  15.26 & 1073503884 & 29 & 22 & 2013-04-25 & 2013 & 2013-04 & FALSE & FALSE & FALSE & FALSE & FALSE & FALSE & FALSE\\\\\n",
       "\t 100000015 & 2 & 2 & 20130425 & 22 & 94726 & 9 & 496   &  13.54 & 1073503884 & 29 & 22 & 2013-04-25 & 2013 & 2013-04 & FALSE & FALSE & FALSE & FALSE & FALSE & FALSE & FALSE\\\\\n",
       "\t 100000015 & 2 & 3 & 20130425 & 22 & 94729 & 9 & 496   &   9.95 & 1073503884 & 29 & 22 & 2013-04-25 & 2013 & 2013-04 & FALSE & FALSE & FALSE & FALSE & FALSE & FALSE & FALSE\\\\\n",
       "\t 100000015 & 3 & 1 & 20130528 & 11 & 99214 & 9 & 41400 & 114.64 & 1285600932 & 11 & 22 & 2013-05-28 & 2013 & 2013-05 &  TRUE &  TRUE & FALSE & FALSE &  TRUE & FALSE & FALSE\\\\\n",
       "\t 100000015 & 3 & 2 & 20130528 & 11 & 93000 & 9 & 41400 &  20.08 & 1285600932 & 11 & 22 & 2013-05-28 & 2013 & 2013-05 & FALSE &  TRUE & FALSE & FALSE &  TRUE & FALSE & FALSE\\\\\n",
       "\t 100000015 & 4 & 1 & 20130719 & 22 & 99213 & 9 & 496   &  51.76 & 1659344091 & 29 & 22 & 2013-07-19 & 2013 & 2013-07 &  TRUE & FALSE & FALSE & FALSE & FALSE & FALSE & FALSE\\\\\n",
       "\\end{tabular}\n"
      ],
      "text/markdown": [
       "\n",
       "A data.table: 6 × 22\n",
       "\n",
       "| DESY_SORT_KEY &lt;int&gt; | CLAIM_NO &lt;int&gt; | LINE_NUM &lt;int&gt; | CLM_THRU_DT &lt;int&gt; | LINE_PLACE_OF_SRVC_CD &lt;int&gt; | HCPCS_CD &lt;chr&gt; | LINE_ICD_DGNS_VRSN_CD &lt;int&gt; | LINE_ICD_DGNS_CD &lt;chr&gt; | LINE_ALOWD_CHRG_AMT &lt;dbl&gt; | PRF_PHYSN_NPI &lt;chr&gt; | PRVDR_SPCLTY &lt;chr&gt; | PRVDR_STATE_CD &lt;int&gt; | date &lt;date&gt; | year &lt;dbl&gt; | month_year &lt;chr&gt; | is_office_visit &lt;lgl&gt; | is_by_primary_care_physician &lt;lgl&gt; | is_hypertension &lt;lgl&gt; | is_arthritis &lt;lgl&gt; | is_IHD &lt;lgl&gt; | is_diabetes &lt;lgl&gt; | is_depression &lt;lgl&gt; |\n",
       "|---|---|---|---|---|---|---|---|---|---|---|---|---|---|---|---|---|---|---|---|---|---|\n",
       "| 100000015 | 2 | 1 | 20130425 | 22 | 94375 | 9 | 496   |  15.26 | 1073503884 | 29 | 22 | 2013-04-25 | 2013 | 2013-04 | FALSE | FALSE | FALSE | FALSE | FALSE | FALSE | FALSE |\n",
       "| 100000015 | 2 | 2 | 20130425 | 22 | 94726 | 9 | 496   |  13.54 | 1073503884 | 29 | 22 | 2013-04-25 | 2013 | 2013-04 | FALSE | FALSE | FALSE | FALSE | FALSE | FALSE | FALSE |\n",
       "| 100000015 | 2 | 3 | 20130425 | 22 | 94729 | 9 | 496   |   9.95 | 1073503884 | 29 | 22 | 2013-04-25 | 2013 | 2013-04 | FALSE | FALSE | FALSE | FALSE | FALSE | FALSE | FALSE |\n",
       "| 100000015 | 3 | 1 | 20130528 | 11 | 99214 | 9 | 41400 | 114.64 | 1285600932 | 11 | 22 | 2013-05-28 | 2013 | 2013-05 |  TRUE |  TRUE | FALSE | FALSE |  TRUE | FALSE | FALSE |\n",
       "| 100000015 | 3 | 2 | 20130528 | 11 | 93000 | 9 | 41400 |  20.08 | 1285600932 | 11 | 22 | 2013-05-28 | 2013 | 2013-05 | FALSE |  TRUE | FALSE | FALSE |  TRUE | FALSE | FALSE |\n",
       "| 100000015 | 4 | 1 | 20130719 | 22 | 99213 | 9 | 496   |  51.76 | 1659344091 | 29 | 22 | 2013-07-19 | 2013 | 2013-07 |  TRUE | FALSE | FALSE | FALSE | FALSE | FALSE | FALSE |\n",
       "\n"
      ],
      "text/plain": [
       "  DESY_SORT_KEY CLAIM_NO LINE_NUM CLM_THRU_DT LINE_PLACE_OF_SRVC_CD HCPCS_CD LINE_ICD_DGNS_VRSN_CD LINE_ICD_DGNS_CD LINE_ALOWD_CHRG_AMT PRF_PHYSN_NPI PRVDR_SPCLTY PRVDR_STATE_CD date       year month_year is_office_visit is_by_primary_care_physician is_hypertension is_arthritis is_IHD is_diabetes\n",
       "1 100000015     2        1        20130425    22                    94375    9                     496               15.26              1073503884    29           22             2013-04-25 2013 2013-04    FALSE           FALSE                        FALSE           FALSE        FALSE  FALSE      \n",
       "2 100000015     2        2        20130425    22                    94726    9                     496               13.54              1073503884    29           22             2013-04-25 2013 2013-04    FALSE           FALSE                        FALSE           FALSE        FALSE  FALSE      \n",
       "3 100000015     2        3        20130425    22                    94729    9                     496                9.95              1073503884    29           22             2013-04-25 2013 2013-04    FALSE           FALSE                        FALSE           FALSE        FALSE  FALSE      \n",
       "4 100000015     3        1        20130528    11                    99214    9                     41400            114.64              1285600932    11           22             2013-05-28 2013 2013-05     TRUE            TRUE                        FALSE           FALSE         TRUE  FALSE      \n",
       "5 100000015     3        2        20130528    11                    93000    9                     41400             20.08              1285600932    11           22             2013-05-28 2013 2013-05    FALSE            TRUE                        FALSE           FALSE         TRUE  FALSE      \n",
       "6 100000015     4        1        20130719    22                    99213    9                     496               51.76              1659344091    29           22             2013-07-19 2013 2013-07     TRUE           FALSE                        FALSE           FALSE        FALSE  FALSE      \n",
       "  is_depression\n",
       "1 FALSE        \n",
       "2 FALSE        \n",
       "3 FALSE        \n",
       "4 FALSE        \n",
       "5 FALSE        \n",
       "6 FALSE        "
      ]
     },
     "metadata": {},
     "output_type": "display_data"
    }
   ],
   "source": [
    "yearly_calculator_patient_conditions <- function(data) {\n",
    "\n",
    "  # requirements\n",
    "  require(data.table)\n",
    "  require(dtplyr)\n",
    "  require(tidyverse)\n",
    "  require(lubridate)\n",
    "\n",
    "  data %>%\n",
    "    mutate(\n",
    "      is_office_visit = HCPCS_CD %in% office_visit_codes,\n",
    "      is_by_primary_care_physician = PRVDR_SPCLTY %in% primary_care_specialty_codes,\n",
    "      is_hypertension = if_else(\n",
    "        LINE_ICD_DGNS_VRSN_CD == 0,\n",
    "        substr(LINE_ICD_DGNS_CD, 0, 3) %in% hypertension_icd_10_codes,\n",
    "        if_else(\n",
    "          LINE_ICD_DGNS_VRSN_CD == 9,\n",
    "          substr(LINE_ICD_DGNS_CD, 0, 3) %in% hypertension_icd_9_codes, NA\n",
    "        )\n",
    "      ),\n",
    "      is_arthritis = if_else(\n",
    "        LINE_ICD_DGNS_VRSN_CD == 0,\n",
    "        substr(LINE_ICD_DGNS_CD, 0, 3) %in% arthritis_icd_10_codes,\n",
    "        if_else(\n",
    "          LINE_ICD_DGNS_VRSN_CD == 9,\n",
    "          substr(LINE_ICD_DGNS_CD, 0, 3) %in% arthritis_icd_9_codes, NA\n",
    "        )\n",
    "      ),\n",
    "      is_IHD = if_else(\n",
    "        LINE_ICD_DGNS_VRSN_CD == 0,\n",
    "        substr(LINE_ICD_DGNS_CD, 0, 3) %in% IHD_icd_10_codes,\n",
    "        if_else(\n",
    "          LINE_ICD_DGNS_VRSN_CD == 9,\n",
    "          substr(LINE_ICD_DGNS_CD, 0, 3) %in% IHD_icd_9_codes, NA\n",
    "        )\n",
    "      ),\n",
    "      is_diabetes = if_else(\n",
    "        LINE_ICD_DGNS_VRSN_CD == 0,\n",
    "        substr(LINE_ICD_DGNS_CD, 0, 3) %in% diabetes_icd_10_codes,\n",
    "        if_else(\n",
    "          LINE_ICD_DGNS_VRSN_CD == 9,\n",
    "          substr(LINE_ICD_DGNS_CD, 0, 3) %in% diabetes_icd_9_codes, NA\n",
    "        )\n",
    "      ),\n",
    "      is_depression = if_else(\n",
    "        LINE_ICD_DGNS_VRSN_CD == 0,\n",
    "        substr(LINE_ICD_DGNS_CD, 0, 3) %in% depression_icd_10_codes,\n",
    "        if_else(\n",
    "          LINE_ICD_DGNS_VRSN_CD == 9,\n",
    "          substr(LINE_ICD_DGNS_CD, 0, 4) %in% depression_icd_9_codes, NA\n",
    "        )\n",
    "      )\n",
    "    ) %>%\n",
    "    as.data.table()\n",
    "}\n",
    "\n",
    "yearly_patient_conditions_carrier <- yearly_calculator_patient_conditions(carrier_data_all_years)\n",
    "head(yearly_patient_conditions_carrier)"
   ]
  },
  {
   "cell_type": "markdown",
   "id": "e096caae-f181-4f25-8161-41b921b66bfd",
   "metadata": {
    "tags": []
   },
   "source": [
    "#### Summarizing patient data\n",
    "I will now summarise the data for each patient.\n"
   ]
  },
  {
   "cell_type": "code",
   "execution_count": null,
   "id": "15c4ddb5-5f21-4158-9dfd-0e66e5dfffcc",
   "metadata": {},
   "outputs": [
    {
     "name": "stderr",
     "output_type": "stream",
     "text": [
      "`summarise()` has grouped output by 'DESY_SORT_KEY'. You can override using the `.groups` argument.\n"
     ]
    }
   ],
   "source": [
    "summarise_carrier <- function(data, time_frame = 365) {\n",
    "  data %>%\n",
    "    group_by(DESY_SORT_KEY, year) %>%\n",
    "    summarise(\n",
    "      # tot_allowed_carrier = sum(na.rm = T, LINE_ALOWD_CHRG_AMT),\n",
    "\n",
    "      # office_visit_count = sum(na.rm = T, is_office_visit),\n",
    "\n",
    "      # office_visit_cost_carrier = sum(na.rm = T, LINE_ALOWD_CHRG_AMT * is_office_visit),\n",
    "      distinct_clinicians = length(unique(PRF_PHYSN_NPI)),\n",
    "      distinct_primary_care_physicians = length(.[is_by_primary_care_physician, unique(PRF_PHYSN_NPI)]),\n",
    "      hypertension = sum(is_hypertension, na.rm = T) > 0,\n",
    "      arthritis = sum(is_arthritis, na.rm = T) > 0,\n",
    "      IHD = sum(is_IHD, na.rm = T) > 0,\n",
    "      diabetes = sum(is_diabetes, na.rm = T) > 0,\n",
    "      depression = sum(is_depression, na.rm = T) > 0,\n",
    "      icd_9_pure = ifelse(prod(LINE_ICD_DGNS_VRSN_CD, na.rm = T) == 0, F, T),\n",
    "      icd_10_pure = ifelse(sum(LINE_ICD_DGNS_VRSN_CD, na.rm = T) == 0, T, F),\n",
    "    ) %>%\n",
    "    as.data.table()\n",
    "}\n",
    "\n",
    "\n",
    "summary_patient_by_year <- summarise_carrier(yearly_patient_conditions_carrier)\n",
    "head(summary_patient_by_year)"
   ]
  },
  {
   "cell_type": "code",
   "execution_count": 184,
   "id": "81010465-c439-4ac4-9875-63f69689788e",
   "metadata": {
    "tags": []
   },
   "outputs": [
    {
     "data": {
      "text/html": [
       "<table class=\"dataframe\">\n",
       "<caption>A data.table: 6 × 48</caption>\n",
       "<thead>\n",
       "\t<tr><th scope=col>DESY_SORT_KEY</th><th scope=col>year</th><th scope=col>distinct_clinicians</th><th scope=col>distinct_primary_care_physicians</th><th scope=col>hypertension</th><th scope=col>arthritis</th><th scope=col>IHD</th><th scope=col>diabetes</th><th scope=col>depression</th><th scope=col>icd_9_pure</th><th scope=col>icd_10_pure</th><th scope=col>REFERENCE_YEAR</th><th scope=col>STATE_CODE</th><th scope=col>COUNTY_CODE</th><th scope=col>SEX_CODE</th><th scope=col>RACE_CODE</th><th scope=col>AGE</th><th scope=col>ORIG_REASON_FOR_ENTITLEMENT</th><th scope=col>CURR_REASON_FOR_ENTITLEMENT</th><th scope=col>ENTITLEMENT_BUY_IN_IND01</th><th scope=col>ENTITLEMENT_BUY_IN_IND02</th><th scope=col>ENTITLEMENT_BUY_IN_IND03</th><th scope=col>ENTITLEMENT_BUY_IN_IND04</th><th scope=col>ENTITLEMENT_BUY_IN_IND05</th><th scope=col>ENTITLEMENT_BUY_IN_IND06</th><th scope=col>ENTITLEMENT_BUY_IN_IND07</th><th scope=col>ENTITLEMENT_BUY_IN_IND08</th><th scope=col>ENTITLEMENT_BUY_IN_IND09</th><th scope=col>ENTITLEMENT_BUY_IN_IND10</th><th scope=col>ENTITLEMENT_BUY_IN_IND11</th><th scope=col>ENTITLEMENT_BUY_IN_IND12</th><th scope=col>HMO_INDICATOR01</th><th scope=col>HMO_INDICATOR02</th><th scope=col>HMO_INDICATOR03</th><th scope=col>HMO_INDICATOR04</th><th scope=col>HMO_INDICATOR05</th><th scope=col>HMO_INDICATOR06</th><th scope=col>HMO_INDICATOR07</th><th scope=col>HMO_INDICATOR08</th><th scope=col>HMO_INDICATOR09</th><th scope=col>HMO_INDICATOR10</th><th scope=col>HMO_INDICATOR11</th><th scope=col>HMO_INDICATOR12</th><th scope=col>VALID_DATE_OF_DEATH_SWITCH</th><th scope=col>DATE_OF_DEATH</th><th scope=col>date_died</th><th scope=col>date_died_valid</th><th scope=col>year_of_death</th></tr>\n",
       "\t<tr><th scope=col>&lt;int&gt;</th><th scope=col>&lt;dbl&gt;</th><th scope=col>&lt;int&gt;</th><th scope=col>&lt;int&gt;</th><th scope=col>&lt;lgl&gt;</th><th scope=col>&lt;lgl&gt;</th><th scope=col>&lt;lgl&gt;</th><th scope=col>&lt;lgl&gt;</th><th scope=col>&lt;lgl&gt;</th><th scope=col>&lt;lgl&gt;</th><th scope=col>&lt;lgl&gt;</th><th scope=col>&lt;dbl&gt;</th><th scope=col>&lt;chr&gt;</th><th scope=col>&lt;chr&gt;</th><th scope=col>&lt;dbl&gt;</th><th scope=col>&lt;dbl&gt;</th><th scope=col>&lt;dbl&gt;</th><th scope=col>&lt;dbl&gt;</th><th scope=col>&lt;dbl&gt;</th><th scope=col>&lt;chr&gt;</th><th scope=col>&lt;chr&gt;</th><th scope=col>&lt;chr&gt;</th><th scope=col>&lt;chr&gt;</th><th scope=col>&lt;chr&gt;</th><th scope=col>&lt;chr&gt;</th><th scope=col>&lt;chr&gt;</th><th scope=col>&lt;chr&gt;</th><th scope=col>&lt;chr&gt;</th><th scope=col>&lt;chr&gt;</th><th scope=col>&lt;chr&gt;</th><th scope=col>&lt;chr&gt;</th><th scope=col>&lt;chr&gt;</th><th scope=col>&lt;chr&gt;</th><th scope=col>&lt;chr&gt;</th><th scope=col>&lt;chr&gt;</th><th scope=col>&lt;chr&gt;</th><th scope=col>&lt;chr&gt;</th><th scope=col>&lt;chr&gt;</th><th scope=col>&lt;chr&gt;</th><th scope=col>&lt;chr&gt;</th><th scope=col>&lt;chr&gt;</th><th scope=col>&lt;chr&gt;</th><th scope=col>&lt;chr&gt;</th><th scope=col>&lt;chr&gt;</th><th scope=col>&lt;dbl&gt;</th><th scope=col>&lt;dbl&gt;</th><th scope=col>&lt;chr&gt;</th><th scope=col>&lt;chr&gt;</th></tr>\n",
       "</thead>\n",
       "<tbody>\n",
       "\t<tr><td>100000015</td><td>2013</td><td> 7</td><td>1</td><td>FALSE</td><td>FALSE</td><td> TRUE</td><td>FALSE</td><td>FALSE</td><td> TRUE</td><td>FALSE</td><td>  13</td><td>22</td><td>160</td><td>1</td><td>1</td><td>76</td><td>0</td><td>0</td><td>3</td><td>3</td><td>3</td><td>3</td><td>3</td><td>3</td><td>3</td><td>3</td><td>3</td><td>3</td><td>3</td><td>3</td><td>0</td><td>0</td><td>0</td><td>0</td><td>0</td><td>0</td><td>0</td><td>0</td><td>0</td><td>0</td><td>0</td><td>0</td><td>NA</td><td>NA</td><td>NA</td><td>NA</td><td>NA</td></tr>\n",
       "\t<tr><td>100000015</td><td>2014</td><td>10</td><td>1</td><td>FALSE</td><td>FALSE</td><td> TRUE</td><td>FALSE</td><td>FALSE</td><td> TRUE</td><td>FALSE</td><td>  14</td><td>22</td><td>160</td><td>1</td><td>1</td><td>77</td><td>0</td><td>0</td><td>3</td><td>3</td><td>3</td><td>3</td><td>3</td><td>3</td><td>3</td><td>3</td><td>3</td><td>3</td><td>3</td><td>3</td><td>0</td><td>0</td><td>0</td><td>0</td><td>0</td><td>0</td><td>0</td><td>0</td><td>0</td><td>0</td><td>0</td><td>0</td><td>NA</td><td>NA</td><td>NA</td><td>NA</td><td>NA</td></tr>\n",
       "\t<tr><td>100000015</td><td>2015</td><td> 6</td><td>2</td><td> TRUE</td><td>FALSE</td><td>FALSE</td><td> TRUE</td><td>FALSE</td><td>FALSE</td><td>FALSE</td><td>  15</td><td>22</td><td>160</td><td>1</td><td>1</td><td>78</td><td>0</td><td>0</td><td>3</td><td>3</td><td>3</td><td>3</td><td>3</td><td>3</td><td>3</td><td>3</td><td>3</td><td>3</td><td>3</td><td>3</td><td>0</td><td>0</td><td>0</td><td>0</td><td>0</td><td>0</td><td>0</td><td>0</td><td>0</td><td>0</td><td>0</td><td>0</td><td>NA</td><td>NA</td><td>NA</td><td>NA</td><td>NA</td></tr>\n",
       "\t<tr><td>100000015</td><td>2016</td><td> 9</td><td>2</td><td> TRUE</td><td>FALSE</td><td> TRUE</td><td> TRUE</td><td>FALSE</td><td>FALSE</td><td> TRUE</td><td>2016</td><td>22</td><td>160</td><td>1</td><td>1</td><td>79</td><td>0</td><td>0</td><td>3</td><td>3</td><td>3</td><td>3</td><td>3</td><td>3</td><td>3</td><td>3</td><td>3</td><td>3</td><td>3</td><td>3</td><td>0</td><td>0</td><td>0</td><td>0</td><td>0</td><td>0</td><td>0</td><td>0</td><td>0</td><td>0</td><td>0</td><td>0</td><td>NA</td><td>NA</td><td>NA</td><td>NA</td><td>NA</td></tr>\n",
       "\t<tr><td>100000015</td><td>2017</td><td>14</td><td>3</td><td>FALSE</td><td>FALSE</td><td> TRUE</td><td> TRUE</td><td>FALSE</td><td>FALSE</td><td> TRUE</td><td>2017</td><td>22</td><td>160</td><td>1</td><td>1</td><td>80</td><td>0</td><td>0</td><td>3</td><td>3</td><td>3</td><td>3</td><td>3</td><td>3</td><td>3</td><td>3</td><td>3</td><td>3</td><td>3</td><td>3</td><td>0</td><td>0</td><td>0</td><td>0</td><td>0</td><td>0</td><td>0</td><td>0</td><td>0</td><td>0</td><td>0</td><td>0</td><td>NA</td><td>NA</td><td>NA</td><td>NA</td><td>NA</td></tr>\n",
       "\t<tr><td>100000015</td><td>2018</td><td>16</td><td>2</td><td>FALSE</td><td>FALSE</td><td> TRUE</td><td> TRUE</td><td>FALSE</td><td>FALSE</td><td> TRUE</td><td>2018</td><td>22</td><td>160</td><td>1</td><td>1</td><td>81</td><td>0</td><td>0</td><td>3</td><td>3</td><td>3</td><td>3</td><td>3</td><td>3</td><td>3</td><td>3</td><td>3</td><td>3</td><td>3</td><td>3</td><td>0</td><td>0</td><td>0</td><td>0</td><td>0</td><td>0</td><td>0</td><td>0</td><td>0</td><td>0</td><td>0</td><td>0</td><td>NA</td><td>NA</td><td>NA</td><td>NA</td><td>NA</td></tr>\n",
       "</tbody>\n",
       "</table>\n"
      ],
      "text/latex": [
       "A data.table: 6 × 48\n",
       "\\begin{tabular}{llllllllllllllllllllllllllllllllllllllllllllllll}\n",
       " DESY\\_SORT\\_KEY & year & distinct\\_clinicians & distinct\\_primary\\_care\\_physicians & hypertension & arthritis & IHD & diabetes & depression & icd\\_9\\_pure & icd\\_10\\_pure & REFERENCE\\_YEAR & STATE\\_CODE & COUNTY\\_CODE & SEX\\_CODE & RACE\\_CODE & AGE & ORIG\\_REASON\\_FOR\\_ENTITLEMENT & CURR\\_REASON\\_FOR\\_ENTITLEMENT & ENTITLEMENT\\_BUY\\_IN\\_IND01 & ENTITLEMENT\\_BUY\\_IN\\_IND02 & ENTITLEMENT\\_BUY\\_IN\\_IND03 & ENTITLEMENT\\_BUY\\_IN\\_IND04 & ENTITLEMENT\\_BUY\\_IN\\_IND05 & ENTITLEMENT\\_BUY\\_IN\\_IND06 & ENTITLEMENT\\_BUY\\_IN\\_IND07 & ENTITLEMENT\\_BUY\\_IN\\_IND08 & ENTITLEMENT\\_BUY\\_IN\\_IND09 & ENTITLEMENT\\_BUY\\_IN\\_IND10 & ENTITLEMENT\\_BUY\\_IN\\_IND11 & ENTITLEMENT\\_BUY\\_IN\\_IND12 & HMO\\_INDICATOR01 & HMO\\_INDICATOR02 & HMO\\_INDICATOR03 & HMO\\_INDICATOR04 & HMO\\_INDICATOR05 & HMO\\_INDICATOR06 & HMO\\_INDICATOR07 & HMO\\_INDICATOR08 & HMO\\_INDICATOR09 & HMO\\_INDICATOR10 & HMO\\_INDICATOR11 & HMO\\_INDICATOR12 & VALID\\_DATE\\_OF\\_DEATH\\_SWITCH & DATE\\_OF\\_DEATH & date\\_died & date\\_died\\_valid & year\\_of\\_death\\\\\n",
       " <int> & <dbl> & <int> & <int> & <lgl> & <lgl> & <lgl> & <lgl> & <lgl> & <lgl> & <lgl> & <dbl> & <chr> & <chr> & <dbl> & <dbl> & <dbl> & <dbl> & <dbl> & <chr> & <chr> & <chr> & <chr> & <chr> & <chr> & <chr> & <chr> & <chr> & <chr> & <chr> & <chr> & <chr> & <chr> & <chr> & <chr> & <chr> & <chr> & <chr> & <chr> & <chr> & <chr> & <chr> & <chr> & <chr> & <dbl> & <dbl> & <chr> & <chr>\\\\\n",
       "\\hline\n",
       "\t 100000015 & 2013 &  7 & 1 & FALSE & FALSE &  TRUE & FALSE & FALSE &  TRUE & FALSE &   13 & 22 & 160 & 1 & 1 & 76 & 0 & 0 & 3 & 3 & 3 & 3 & 3 & 3 & 3 & 3 & 3 & 3 & 3 & 3 & 0 & 0 & 0 & 0 & 0 & 0 & 0 & 0 & 0 & 0 & 0 & 0 & NA & NA & NA & NA & NA\\\\\n",
       "\t 100000015 & 2014 & 10 & 1 & FALSE & FALSE &  TRUE & FALSE & FALSE &  TRUE & FALSE &   14 & 22 & 160 & 1 & 1 & 77 & 0 & 0 & 3 & 3 & 3 & 3 & 3 & 3 & 3 & 3 & 3 & 3 & 3 & 3 & 0 & 0 & 0 & 0 & 0 & 0 & 0 & 0 & 0 & 0 & 0 & 0 & NA & NA & NA & NA & NA\\\\\n",
       "\t 100000015 & 2015 &  6 & 2 &  TRUE & FALSE & FALSE &  TRUE & FALSE & FALSE & FALSE &   15 & 22 & 160 & 1 & 1 & 78 & 0 & 0 & 3 & 3 & 3 & 3 & 3 & 3 & 3 & 3 & 3 & 3 & 3 & 3 & 0 & 0 & 0 & 0 & 0 & 0 & 0 & 0 & 0 & 0 & 0 & 0 & NA & NA & NA & NA & NA\\\\\n",
       "\t 100000015 & 2016 &  9 & 2 &  TRUE & FALSE &  TRUE &  TRUE & FALSE & FALSE &  TRUE & 2016 & 22 & 160 & 1 & 1 & 79 & 0 & 0 & 3 & 3 & 3 & 3 & 3 & 3 & 3 & 3 & 3 & 3 & 3 & 3 & 0 & 0 & 0 & 0 & 0 & 0 & 0 & 0 & 0 & 0 & 0 & 0 & NA & NA & NA & NA & NA\\\\\n",
       "\t 100000015 & 2017 & 14 & 3 & FALSE & FALSE &  TRUE &  TRUE & FALSE & FALSE &  TRUE & 2017 & 22 & 160 & 1 & 1 & 80 & 0 & 0 & 3 & 3 & 3 & 3 & 3 & 3 & 3 & 3 & 3 & 3 & 3 & 3 & 0 & 0 & 0 & 0 & 0 & 0 & 0 & 0 & 0 & 0 & 0 & 0 & NA & NA & NA & NA & NA\\\\\n",
       "\t 100000015 & 2018 & 16 & 2 & FALSE & FALSE &  TRUE &  TRUE & FALSE & FALSE &  TRUE & 2018 & 22 & 160 & 1 & 1 & 81 & 0 & 0 & 3 & 3 & 3 & 3 & 3 & 3 & 3 & 3 & 3 & 3 & 3 & 3 & 0 & 0 & 0 & 0 & 0 & 0 & 0 & 0 & 0 & 0 & 0 & 0 & NA & NA & NA & NA & NA\\\\\n",
       "\\end{tabular}\n"
      ],
      "text/markdown": [
       "\n",
       "A data.table: 6 × 48\n",
       "\n",
       "| DESY_SORT_KEY &lt;int&gt; | year &lt;dbl&gt; | distinct_clinicians &lt;int&gt; | distinct_primary_care_physicians &lt;int&gt; | hypertension &lt;lgl&gt; | arthritis &lt;lgl&gt; | IHD &lt;lgl&gt; | diabetes &lt;lgl&gt; | depression &lt;lgl&gt; | icd_9_pure &lt;lgl&gt; | icd_10_pure &lt;lgl&gt; | REFERENCE_YEAR &lt;dbl&gt; | STATE_CODE &lt;chr&gt; | COUNTY_CODE &lt;chr&gt; | SEX_CODE &lt;dbl&gt; | RACE_CODE &lt;dbl&gt; | AGE &lt;dbl&gt; | ORIG_REASON_FOR_ENTITLEMENT &lt;dbl&gt; | CURR_REASON_FOR_ENTITLEMENT &lt;dbl&gt; | ENTITLEMENT_BUY_IN_IND01 &lt;chr&gt; | ENTITLEMENT_BUY_IN_IND02 &lt;chr&gt; | ENTITLEMENT_BUY_IN_IND03 &lt;chr&gt; | ENTITLEMENT_BUY_IN_IND04 &lt;chr&gt; | ENTITLEMENT_BUY_IN_IND05 &lt;chr&gt; | ENTITLEMENT_BUY_IN_IND06 &lt;chr&gt; | ENTITLEMENT_BUY_IN_IND07 &lt;chr&gt; | ENTITLEMENT_BUY_IN_IND08 &lt;chr&gt; | ENTITLEMENT_BUY_IN_IND09 &lt;chr&gt; | ENTITLEMENT_BUY_IN_IND10 &lt;chr&gt; | ENTITLEMENT_BUY_IN_IND11 &lt;chr&gt; | ENTITLEMENT_BUY_IN_IND12 &lt;chr&gt; | HMO_INDICATOR01 &lt;chr&gt; | HMO_INDICATOR02 &lt;chr&gt; | HMO_INDICATOR03 &lt;chr&gt; | HMO_INDICATOR04 &lt;chr&gt; | HMO_INDICATOR05 &lt;chr&gt; | HMO_INDICATOR06 &lt;chr&gt; | HMO_INDICATOR07 &lt;chr&gt; | HMO_INDICATOR08 &lt;chr&gt; | HMO_INDICATOR09 &lt;chr&gt; | HMO_INDICATOR10 &lt;chr&gt; | HMO_INDICATOR11 &lt;chr&gt; | HMO_INDICATOR12 &lt;chr&gt; | VALID_DATE_OF_DEATH_SWITCH &lt;chr&gt; | DATE_OF_DEATH &lt;dbl&gt; | date_died &lt;dbl&gt; | date_died_valid &lt;chr&gt; | year_of_death &lt;chr&gt; |\n",
       "|---|---|---|---|---|---|---|---|---|---|---|---|---|---|---|---|---|---|---|---|---|---|---|---|---|---|---|---|---|---|---|---|---|---|---|---|---|---|---|---|---|---|---|---|---|---|---|---|\n",
       "| 100000015 | 2013 |  7 | 1 | FALSE | FALSE |  TRUE | FALSE | FALSE |  TRUE | FALSE |   13 | 22 | 160 | 1 | 1 | 76 | 0 | 0 | 3 | 3 | 3 | 3 | 3 | 3 | 3 | 3 | 3 | 3 | 3 | 3 | 0 | 0 | 0 | 0 | 0 | 0 | 0 | 0 | 0 | 0 | 0 | 0 | NA | NA | NA | NA | NA |\n",
       "| 100000015 | 2014 | 10 | 1 | FALSE | FALSE |  TRUE | FALSE | FALSE |  TRUE | FALSE |   14 | 22 | 160 | 1 | 1 | 77 | 0 | 0 | 3 | 3 | 3 | 3 | 3 | 3 | 3 | 3 | 3 | 3 | 3 | 3 | 0 | 0 | 0 | 0 | 0 | 0 | 0 | 0 | 0 | 0 | 0 | 0 | NA | NA | NA | NA | NA |\n",
       "| 100000015 | 2015 |  6 | 2 |  TRUE | FALSE | FALSE |  TRUE | FALSE | FALSE | FALSE |   15 | 22 | 160 | 1 | 1 | 78 | 0 | 0 | 3 | 3 | 3 | 3 | 3 | 3 | 3 | 3 | 3 | 3 | 3 | 3 | 0 | 0 | 0 | 0 | 0 | 0 | 0 | 0 | 0 | 0 | 0 | 0 | NA | NA | NA | NA | NA |\n",
       "| 100000015 | 2016 |  9 | 2 |  TRUE | FALSE |  TRUE |  TRUE | FALSE | FALSE |  TRUE | 2016 | 22 | 160 | 1 | 1 | 79 | 0 | 0 | 3 | 3 | 3 | 3 | 3 | 3 | 3 | 3 | 3 | 3 | 3 | 3 | 0 | 0 | 0 | 0 | 0 | 0 | 0 | 0 | 0 | 0 | 0 | 0 | NA | NA | NA | NA | NA |\n",
       "| 100000015 | 2017 | 14 | 3 | FALSE | FALSE |  TRUE |  TRUE | FALSE | FALSE |  TRUE | 2017 | 22 | 160 | 1 | 1 | 80 | 0 | 0 | 3 | 3 | 3 | 3 | 3 | 3 | 3 | 3 | 3 | 3 | 3 | 3 | 0 | 0 | 0 | 0 | 0 | 0 | 0 | 0 | 0 | 0 | 0 | 0 | NA | NA | NA | NA | NA |\n",
       "| 100000015 | 2018 | 16 | 2 | FALSE | FALSE |  TRUE |  TRUE | FALSE | FALSE |  TRUE | 2018 | 22 | 160 | 1 | 1 | 81 | 0 | 0 | 3 | 3 | 3 | 3 | 3 | 3 | 3 | 3 | 3 | 3 | 3 | 3 | 0 | 0 | 0 | 0 | 0 | 0 | 0 | 0 | 0 | 0 | 0 | 0 | NA | NA | NA | NA | NA |\n",
       "\n"
      ],
      "text/plain": [
       "  DESY_SORT_KEY year distinct_clinicians distinct_primary_care_physicians hypertension arthritis IHD   diabetes depression icd_9_pure icd_10_pure REFERENCE_YEAR STATE_CODE COUNTY_CODE SEX_CODE RACE_CODE AGE ORIG_REASON_FOR_ENTITLEMENT CURR_REASON_FOR_ENTITLEMENT ENTITLEMENT_BUY_IN_IND01\n",
       "1 100000015     2013  7                  1                                FALSE        FALSE      TRUE FALSE    FALSE       TRUE      FALSE         13           22         160         1        1         76  0                           0                           3                       \n",
       "2 100000015     2014 10                  1                                FALSE        FALSE      TRUE FALSE    FALSE       TRUE      FALSE         14           22         160         1        1         77  0                           0                           3                       \n",
       "3 100000015     2015  6                  2                                 TRUE        FALSE     FALSE  TRUE    FALSE      FALSE      FALSE         15           22         160         1        1         78  0                           0                           3                       \n",
       "4 100000015     2016  9                  2                                 TRUE        FALSE      TRUE  TRUE    FALSE      FALSE       TRUE       2016           22         160         1        1         79  0                           0                           3                       \n",
       "5 100000015     2017 14                  3                                FALSE        FALSE      TRUE  TRUE    FALSE      FALSE       TRUE       2017           22         160         1        1         80  0                           0                           3                       \n",
       "6 100000015     2018 16                  2                                FALSE        FALSE      TRUE  TRUE    FALSE      FALSE       TRUE       2018           22         160         1        1         81  0                           0                           3                       \n",
       "  ENTITLEMENT_BUY_IN_IND02 ENTITLEMENT_BUY_IN_IND03 ENTITLEMENT_BUY_IN_IND04 ENTITLEMENT_BUY_IN_IND05 ENTITLEMENT_BUY_IN_IND06 ENTITLEMENT_BUY_IN_IND07 ENTITLEMENT_BUY_IN_IND08 ENTITLEMENT_BUY_IN_IND09 ENTITLEMENT_BUY_IN_IND10 ENTITLEMENT_BUY_IN_IND11 ENTITLEMENT_BUY_IN_IND12 HMO_INDICATOR01\n",
       "1 3                        3                        3                        3                        3                        3                        3                        3                        3                        3                        3                        0              \n",
       "2 3                        3                        3                        3                        3                        3                        3                        3                        3                        3                        3                        0              \n",
       "3 3                        3                        3                        3                        3                        3                        3                        3                        3                        3                        3                        0              \n",
       "4 3                        3                        3                        3                        3                        3                        3                        3                        3                        3                        3                        0              \n",
       "5 3                        3                        3                        3                        3                        3                        3                        3                        3                        3                        3                        0              \n",
       "6 3                        3                        3                        3                        3                        3                        3                        3                        3                        3                        3                        0              \n",
       "  HMO_INDICATOR02 HMO_INDICATOR03 HMO_INDICATOR04 HMO_INDICATOR05 HMO_INDICATOR06 HMO_INDICATOR07 HMO_INDICATOR08 HMO_INDICATOR09 HMO_INDICATOR10 HMO_INDICATOR11 HMO_INDICATOR12 VALID_DATE_OF_DEATH_SWITCH DATE_OF_DEATH date_died date_died_valid year_of_death\n",
       "1 0               0               0               0               0               0               0               0               0               0               0               NA                         NA            NA        NA              NA           \n",
       "2 0               0               0               0               0               0               0               0               0               0               0               NA                         NA            NA        NA              NA           \n",
       "3 0               0               0               0               0               0               0               0               0               0               0               NA                         NA            NA        NA              NA           \n",
       "4 0               0               0               0               0               0               0               0               0               0               0               NA                         NA            NA        NA              NA           \n",
       "5 0               0               0               0               0               0               0               0               0               0               0               NA                         NA            NA        NA              NA           \n",
       "6 0               0               0               0               0               0               0               0               0               0               0               NA                         NA            NA        NA              NA           "
      ]
     },
     "metadata": {},
     "output_type": "display_data"
    }
   ],
   "source": [
    "add_patient_characteristics <- function(mbsf_data, summary_data) {\n",
    "  mbsf_data <- unique(mbsf_data)\n",
    "  require(dtplyr)\n",
    "  require(lubridate)\n",
    "  require(tidyverse)\n",
    "  data <- left_join(summary_data, mbsf_data, by = c(\"DESY_SORT_KEY\", \"year\")) %>% as.data.table()\n",
    "\n",
    "  data %>%\n",
    "    mutate(\n",
    "      year_of_death = substr(date_died, 0, 4)\n",
    "    ) %>%\n",
    "    as.data.table()\n",
    "}\n",
    "\n",
    "summary_with_patient_characteristics <- add_patient_characteristics(mbsf_data, summary_patient_by_year)\n",
    "head(summary_with_patient_characteristics)"
   ]
  },
  {
   "cell_type": "code",
   "execution_count": 188,
   "id": "82fd44aa-ca6d-4258-b359-1e38e9b08143",
   "metadata": {},
   "outputs": [],
   "source": [
    "write.fst(summary_with_patient_characteristics, \"summary_with_patient_characteristics_before_join.fst\")\n",
    "write.fst(summary_patient_by_year, \"summary_patient_by_year_before_join.fst\")"
   ]
  },
  {
   "cell_type": "markdown",
   "id": "93d2a35f-3de8-4bdf-a25c-0dfc40f0f6db",
   "metadata": {
    "incorrectly_encoded_metadata": "tags=[] toc-hr-collapsed=true"
   },
   "source": [
    "### Most common physicians for each patient\n",
    "\n",
    "Now, we will find most common physicians and cardiologists for each patient.\n"
   ]
  },
  {
   "cell_type": "code",
   "execution_count": null,
   "id": "8aca29a6-f51d-45e4-af4e-8a56077dd6cf",
   "metadata": {},
   "outputs": [],
   "source": [
    "summary_with_patient_characteristics <- read.fst(\"summary_with_patient_characteristics_before_join.fst\", as.data.table = T)\n",
    "summary_patient_by_year <- read.fst(\"summary_patient_by_year_before_join.fst\", as.data.table = T)"
   ]
  },
  {
   "cell_type": "code",
   "execution_count": 192,
   "id": "4b9aecc3-1c64-44fa-a301-02d7f6933920",
   "metadata": {
    "tags": []
   },
   "outputs": [
    {
     "name": "stderr",
     "output_type": "stream",
     "text": [
      "`summarise()` has grouped output by 'DESY_SORT_KEY', 'year'. You can override using the `.groups` argument.\n"
     ]
    },
    {
     "ename": "ERROR",
     "evalue": "Error: cannot allocate vector of size 5.5 Gb\n",
     "output_type": "error",
     "traceback": [
      "Error: cannot allocate vector of size 5.5 Gb\nTraceback:\n",
      "1. add_patient_NPI(data = carrier_data_all_years, summary_data = summary_with_patient_characteristics)",
      "2. find_most_common(patient_NPI_counts)   # at line 41 of file <text>",
      "3. data %>% group_by(DESY_SORT_KEY, year) %>% arrange(.by_group = T, \n .     desc(n)) %>% slice(1) %>% as.data.table()   # at line 25-29 of file <text>",
      "4. as.data.table(.)",
      "5. as.data.table.dtplyr_step(.)",
      "6. dt_eval(x)",
      "7. eval(x$locals[[var]], env)",
      "8. eval(x$locals[[var]], env)",
      "9. copy(`_DT46`)"
     ]
    }
   ],
   "source": [
    "# adding most common physicians\n",
    "add_patient_NPI <- function(data, summary_data, time_frame = 365) {\n",
    "  comorbidity_and_phys_data <-\n",
    "    inner_join(data, summary_data[, c(\n",
    "      \"DESY_SORT_KEY\", \"year\",\n",
    "      \"icd_9_pure\",\n",
    "      \"icd_10_pure\"\n",
    "    )], by = c(\"DESY_SORT_KEY\", \"year\")) %>%\n",
    "    as.data.table()\n",
    "\n",
    "  patient_NPI_count_finder <- function(data) {\n",
    "    result <- data %>%\n",
    "      mutate(is_office_visit = HCPCS_CD %in% office_visit_codes) %>%\n",
    "      group_by(DESY_SORT_KEY, year, PRF_PHYSN_NPI) %>%\n",
    "      summarise(n = sum(is_office_visit, na.rm = T)) %>%\n",
    "      filter(n > 0) %>%\n",
    "      arrange(.by_group = T, desc(n))\n",
    "  }\n",
    "\n",
    "  patient_NPI_counts <- patient_NPI_count_finder(comorbidity_and_phys_data)\n",
    "\n",
    "  patient_NPI_counts <- left_join(patient_NPI_counts,\n",
    "    distinct(data[, .(PRF_PHYSN_NPI, PRVDR_SPCLTY)]),\n",
    "    by = \"PRF_PHYSN_NPI\"\n",
    "  )\n",
    "\n",
    "  find_most_common <- function(data) {\n",
    "    data %>%\n",
    "      group_by(DESY_SORT_KEY, year) %>%\n",
    "      arrange(.by_group = T, desc(n)) %>%\n",
    "      slice(1) %>%\n",
    "      as.data.table()\n",
    "  }\n",
    "\n",
    "  find_most_common_by_specialty <- function(data, specialty_code) {\n",
    "    data %>%\n",
    "      filter(PRVDR_SPCLTY %in% specialty_code) %>%\n",
    "      group_by(DESY_SORT_KEY, year) %>%\n",
    "      arrange(.by_group = T, desc(n)) %>%\n",
    "      slice(1) %>%\n",
    "      as.data.table()\n",
    "  }\n",
    "\n",
    "  most_common_physician <- find_most_common(patient_NPI_counts)\n",
    "  most_common_primary_care_physician <- find_most_common_by_specialty(patient_NPI_counts,\n",
    "    specialty_code = c(\"01\", \"08\", \"11\", \"38\")\n",
    "  )\n",
    "  most_common_physician <- data.frame(most_common_physician) %>%\n",
    "    rename_with(~ paste0(\"most_common_physician_\", .x))\n",
    "  most_common_primary_care_physician <- data.frame(most_common_primary_care_physician) %>%\n",
    "    rename_with(~ paste0(\"most_common_primary_care_physician_\", .x))\n",
    "\n",
    "  summary_data <- left_join(\n",
    "    summary_data,\n",
    "    most_common_physician,\n",
    "    by = c(\"DESY_SORT_KEY\" = \"most_common_physician_DESY_SORT_KEY\", \"year\" = \"most_common_physician_year\")\n",
    "  )\n",
    "  summary_data <- left_join(\n",
    "    summary_data,\n",
    "    most_common_primary_care_physician,\n",
    "    by = c(\"DESY_SORT_KEY\" = \"most_common_primary_care_physician_DESY_SORT_KEY\", \"year\" = \"most_common_primary_care_physician_year\")\n",
    "  ) %>%\n",
    "    as.data.table()\n",
    "}\n",
    "\n",
    "summary_with_npi <- add_patient_NPI(data = carrier_data_all_years, summary_data = summary_with_patient_characteristics)\n",
    "head(summary_with_npi)"
   ]
  },
  {
   "cell_type": "code",
   "execution_count": null,
   "id": "9df4e41e-927c-4eb2-a317-e789cbbee087",
   "metadata": {},
   "outputs": [],
   "source": [
    "write.fst(summary_with_npi, \"summary_with_npi_before_join.fst\")"
   ]
  },
  {
   "cell_type": "markdown",
   "id": "8d1a156c-5c67-4b41-9528-e2eb1a6a221d",
   "metadata": {
    "tags": []
   },
   "source": [
    "## Physician integration status\n",
    "\n",
    "Here, I will find which physicians are integrated.\n"
   ]
  },
  {
   "cell_type": "markdown",
   "id": "c653561c-1c38-4f66-8ca4-02ceaaed397f",
   "metadata": {
    "tags": []
   },
   "source": [
    "### A method of finding codes that are not exclusive to hospitals or non-hospital places\n",
    "We can exclude these HCPCS codes and only include codes that are not exclusive to hospitals."
   ]
  },
  {
   "cell_type": "code",
   "execution_count": 10,
   "id": "85c3aeba-6ea4-4287-9a86-fd669301aa69",
   "metadata": {},
   "outputs": [],
   "source": [
    "exclusive_hospital_code_finder <- function(data,\n",
    "                                           threshold = 0.05,\n",
    "                                           integrated_place_of_service_codes = c(\"19\", \"22\"),\n",
    "                                           all_place_of_service_codes = c(\"11\", \"19\", \"22\")) {\n",
    "  require(dtplyr)\n",
    "  require(tidyverse)\n",
    "\n",
    "  result <- data %>%\n",
    "    filter(LINE_PLACE_OF_SRVC_CD %in% all_place_of_service_codes) %>%\n",
    "    group_by(HCPCS_CD) %>%\n",
    "    summarise(prp_in_facility = nrow(.[LINE_PLACE_OF_SRVC_CD %in% integrated_place_of_service_codes]) / n()) %>%\n",
    "    as.data.table()\n",
    "\n",
    "  exclusive_codes <- result[prp_in_facility < threshold | prp_in_facility > (1 - threshold), HCPCS_CD]\n",
    "\n",
    "\n",
    "  return(exclusive_codes)\n",
    "}\n",
    "\n",
    "exclusive_hospital_codes <- exclusive_hospital_code_finder(carrier_data_all_years)"
   ]
  },
  {
   "cell_type": "raw",
   "id": "0238534d-d664-4a88-ad89-90370b10549e",
   "metadata": {
    "jupyter": {
     "outputs_hidden": true
    },
    "tags": []
   },
   "source": [
    "exclusive_hospital_codes"
   ]
  },
  {
   "cell_type": "markdown",
   "id": "b51769d5-843e-4e75-ae1e-b8d024043f80",
   "metadata": {},
   "source": [
    "### A function to find integrated docs"
   ]
  },
  {
   "cell_type": "code",
   "execution_count": 12,
   "id": "a21db480-1618-407a-8c70-5d598bb0bd69",
   "metadata": {
    "tags": []
   },
   "outputs": [
    {
     "name": "stderr",
     "output_type": "stream",
     "text": [
      "`summarise()` has grouped output by 'PRF_PHYSN_NPI'. You can override using the `.groups` argument.\n"
     ]
    }
   ],
   "source": [
    "# calculate and add physician integration data\n",
    "# this only uses visits to see if a physician is integrated or not (codde list)\n",
    "\n",
    "physician_integration_finder <- function(data,\n",
    "                                         integrated_place_of_service_codes = c(\"19\", \"22\"),\n",
    "                                         all_place_of_service_codes = c(\"11\", \"19\", \"22\"),\n",
    "                                         # integration_threshold = 0.5,\n",
    "                                         office_code_list = c(\n",
    "                                           \"99201\",\n",
    "                                           \"99202\",\n",
    "                                           \"99203\",\n",
    "                                           \"99204\",\n",
    "                                           \"99205\",\n",
    "                                           \"99211\",\n",
    "                                           \"99212\",\n",
    "                                           \"99213\",\n",
    "                                           \"99214\",\n",
    "                                           \"99215\"\n",
    "                                         ),\n",
    "                                         exclusive_hospital_codes) {\n",
    "  require(dtplyr)\n",
    "  require(tidyverse)\n",
    "\n",
    "  # data = subset(data, HCPCS_CD %in% code_list)\n",
    "  result <- data %>%\n",
    "    mutate(\n",
    "      is_facility = LINE_PLACE_OF_SRVC_CD %in% integrated_place_of_service_codes,\n",
    "      is_all = LINE_PLACE_OF_SRVC_CD %in% all_place_of_service_codes,\n",
    "      is_office_visit = HCPCS_CD %in% office_code_list,\n",
    "      has_non_exclusive_code = HCPCS_CD %!in% exclusive_hospital_codes\n",
    "    ) %>%\n",
    "    group_by(PRF_PHYSN_NPI, year) %>%\n",
    "    summarise(\n",
    "      in_facility_visits_count = sum(is_facility * is_office_visit, na.rm = T),\n",
    "      in_all_visits_count = sum(is_all * is_office_visit, na.rm = T),\n",
    "      in_facility_non_exclusive_HCPCS_count = sum(is_facility * has_non_exclusive_code, na.rm = T),\n",
    "      in_all_non_exclusive_HCPCS_count = sum(is_all * has_non_exclusive_code, na.rm = T),\n",
    "      in_facility_count = sum(is_facility, na.rm = T),\n",
    "      in_all_count = sum(is_all, na.rm = T)\n",
    "    ) %>%\n",
    "    mutate(\n",
    "      in_facility_visits_prp = in_facility_visits_count / in_all_visits_count,\n",
    "      in_facility_non_exclusive_HCPCS_prp = in_facility_non_exclusive_HCPCS_count / in_all_non_exclusive_HCPCS_count,\n",
    "      in_facility_prp = in_facility_count / in_all_count\n",
    "    ) %>%\n",
    "    as.data.table()\n",
    "}\n",
    "\n",
    "physician_integration_stats <- physician_integration_finder(carrier_data_all_years, exclusive_hospital_codes = exclusive_hospital_codes)"
   ]
  },
  {
   "cell_type": "code",
   "execution_count": 13,
   "id": "38b19384-e11e-4a16-8a6f-e8bce0d628d1",
   "metadata": {
    "tags": []
   },
   "outputs": [
    {
     "data": {
      "text/html": [
       "<table class=\"dataframe\">\n",
       "<caption>A data.table: 6 × 11</caption>\n",
       "<thead>\n",
       "\t<tr><th scope=col>PRF_PHYSN_NPI</th><th scope=col>year</th><th scope=col>in_facility_visits_count</th><th scope=col>in_all_visits_count</th><th scope=col>in_facility_non_exclusive_HCPCS_count</th><th scope=col>in_all_non_exclusive_HCPCS_count</th><th scope=col>in_facility_count</th><th scope=col>in_all_count</th><th scope=col>in_facility_visits_prp</th><th scope=col>in_facility_non_exclusive_HCPCS_prp</th><th scope=col>in_facility_prp</th></tr>\n",
       "\t<tr><th scope=col>&lt;chr&gt;</th><th scope=col>&lt;dbl&gt;</th><th scope=col>&lt;int&gt;</th><th scope=col>&lt;int&gt;</th><th scope=col>&lt;int&gt;</th><th scope=col>&lt;int&gt;</th><th scope=col>&lt;int&gt;</th><th scope=col>&lt;int&gt;</th><th scope=col>&lt;dbl&gt;</th><th scope=col>&lt;dbl&gt;</th><th scope=col>&lt;dbl&gt;</th></tr>\n",
       "</thead>\n",
       "<tbody>\n",
       "\t<tr><td>1992997522</td><td>2013</td><td>2</td><td>2</td><td>10</td><td>10</td><td>10</td><td>10</td><td>  1</td><td>  1</td><td>  1</td></tr>\n",
       "\t<tr><td>1992998157</td><td>2013</td><td>0</td><td>0</td><td> 0</td><td> 0</td><td> 0</td><td> 0</td><td>NaN</td><td>NaN</td><td>NaN</td></tr>\n",
       "\t<tr><td>1992998207</td><td>2013</td><td>0</td><td>0</td><td> 0</td><td> 0</td><td> 0</td><td> 5</td><td>NaN</td><td>NaN</td><td>  0</td></tr>\n",
       "\t<tr><td>1992999122</td><td>2013</td><td>0</td><td>8</td><td> 0</td><td> 8</td><td> 0</td><td> 8</td><td>  0</td><td>  0</td><td>  0</td></tr>\n",
       "\t<tr><td>9999999991</td><td>2013</td><td>0</td><td>1</td><td> 0</td><td> 2</td><td> 0</td><td> 2</td><td>  0</td><td>  0</td><td>  0</td></tr>\n",
       "\t<tr><td>9999999992</td><td>2013</td><td>0</td><td>3</td><td> 0</td><td>16</td><td> 0</td><td>71</td><td>  0</td><td>  0</td><td>  0</td></tr>\n",
       "</tbody>\n",
       "</table>\n"
      ],
      "text/latex": [
       "A data.table: 6 × 11\n",
       "\\begin{tabular}{lllllllllll}\n",
       " PRF\\_PHYSN\\_NPI & year & in\\_facility\\_visits\\_count & in\\_all\\_visits\\_count & in\\_facility\\_non\\_exclusive\\_HCPCS\\_count & in\\_all\\_non\\_exclusive\\_HCPCS\\_count & in\\_facility\\_count & in\\_all\\_count & in\\_facility\\_visits\\_prp & in\\_facility\\_non\\_exclusive\\_HCPCS\\_prp & in\\_facility\\_prp\\\\\n",
       " <chr> & <dbl> & <int> & <int> & <int> & <int> & <int> & <int> & <dbl> & <dbl> & <dbl>\\\\\n",
       "\\hline\n",
       "\t 1992997522 & 2013 & 2 & 2 & 10 & 10 & 10 & 10 &   1 &   1 &   1\\\\\n",
       "\t 1992998157 & 2013 & 0 & 0 &  0 &  0 &  0 &  0 & NaN & NaN & NaN\\\\\n",
       "\t 1992998207 & 2013 & 0 & 0 &  0 &  0 &  0 &  5 & NaN & NaN &   0\\\\\n",
       "\t 1992999122 & 2013 & 0 & 8 &  0 &  8 &  0 &  8 &   0 &   0 &   0\\\\\n",
       "\t 9999999991 & 2013 & 0 & 1 &  0 &  2 &  0 &  2 &   0 &   0 &   0\\\\\n",
       "\t 9999999992 & 2013 & 0 & 3 &  0 & 16 &  0 & 71 &   0 &   0 &   0\\\\\n",
       "\\end{tabular}\n"
      ],
      "text/markdown": [
       "\n",
       "A data.table: 6 × 11\n",
       "\n",
       "| PRF_PHYSN_NPI &lt;chr&gt; | year &lt;dbl&gt; | in_facility_visits_count &lt;int&gt; | in_all_visits_count &lt;int&gt; | in_facility_non_exclusive_HCPCS_count &lt;int&gt; | in_all_non_exclusive_HCPCS_count &lt;int&gt; | in_facility_count &lt;int&gt; | in_all_count &lt;int&gt; | in_facility_visits_prp &lt;dbl&gt; | in_facility_non_exclusive_HCPCS_prp &lt;dbl&gt; | in_facility_prp &lt;dbl&gt; |\n",
       "|---|---|---|---|---|---|---|---|---|---|---|\n",
       "| 1992997522 | 2013 | 2 | 2 | 10 | 10 | 10 | 10 |   1 |   1 |   1 |\n",
       "| 1992998157 | 2013 | 0 | 0 |  0 |  0 |  0 |  0 | NaN | NaN | NaN |\n",
       "| 1992998207 | 2013 | 0 | 0 |  0 |  0 |  0 |  5 | NaN | NaN |   0 |\n",
       "| 1992999122 | 2013 | 0 | 8 |  0 |  8 |  0 |  8 |   0 |   0 |   0 |\n",
       "| 9999999991 | 2013 | 0 | 1 |  0 |  2 |  0 |  2 |   0 |   0 |   0 |\n",
       "| 9999999992 | 2013 | 0 | 3 |  0 | 16 |  0 | 71 |   0 |   0 |   0 |\n",
       "\n"
      ],
      "text/plain": [
       "  PRF_PHYSN_NPI year in_facility_visits_count in_all_visits_count in_facility_non_exclusive_HCPCS_count in_all_non_exclusive_HCPCS_count in_facility_count in_all_count in_facility_visits_prp in_facility_non_exclusive_HCPCS_prp in_facility_prp\n",
       "1 1992997522    2013 2                        2                   10                                    10                               10                10             1                      1                                   1            \n",
       "2 1992998157    2013 0                        0                    0                                     0                                0                 0           NaN                    NaN                                 NaN            \n",
       "3 1992998207    2013 0                        0                    0                                     0                                0                 5           NaN                    NaN                                   0            \n",
       "4 1992999122    2013 0                        8                    0                                     8                                0                 8             0                      0                                   0            \n",
       "5 9999999991    2013 0                        1                    0                                     2                                0                 2             0                      0                                   0            \n",
       "6 9999999992    2013 0                        3                    0                                    16                                0                71             0                      0                                   0            "
      ]
     },
     "metadata": {},
     "output_type": "display_data"
    }
   ],
   "source": [
    "tail(physician_integration_stats)"
   ]
  },
  {
   "cell_type": "markdown",
   "id": "1f927ee1-bb7c-4f1b-a904-3ddb372d84ad",
   "metadata": {},
   "source": [
    "### Add integration status of physicians\n",
    "This function will add the integration status of most common physicians to each patient's summary data."
   ]
  },
  {
   "cell_type": "code",
   "execution_count": 148,
   "id": "a73c0f89-97b3-4048-8aad-9034bea61346",
   "metadata": {},
   "outputs": [],
   "source": [
    "summary_with_npi <- read.fst(\"./summary_with_npi_before_join.fst\", as.data.table = T)\n",
    "\n",
    "physician_integration_stats <- read.fst(\"./physician_integration_stats_before_join.fst\", as.data.table = T)"
   ]
  },
  {
   "cell_type": "code",
   "execution_count": null,
   "id": "f919b3b8-8ac1-4ac2-93e8-1f8dcc129b98",
   "metadata": {
    "tags": []
   },
   "outputs": [],
   "source": [
    "# rename columns\n",
    "rename_last <- function(data, how_many, new_names) {\n",
    "  total_cols <- ncol(data)\n",
    "  setnames(data, (total_cols - how_many + 1):(total_cols), new_names)\n",
    "}\n",
    "add_integration_status <- function(data, physician_integration_stats) {\n",
    "  data_selected <- data[, c(\n",
    "    \"DESY_SORT_KEY\",\n",
    "    \"year\",\n",
    "    \"most_common_physician_PRF_PHYSN_NPI\",\n",
    "    \"most_common_primary_care_physician_PRF_PHYSN_NPI\"\n",
    "  )]\n",
    "\n",
    "  most_common_physician <- left_join(\n",
    "    data_selected,\n",
    "    physician_integration_stats,\n",
    "    by = c(\n",
    "      \"most_common_physician_PRF_PHYSN_NPI\" = \"PRF_PHYSN_NPI\", \"year\" = \"year\"\n",
    "    )\n",
    "  ) %>% as.data.table()\n",
    "\n",
    "  most_common_physician <- most_common_physician[, -c(\"most_common_primary_care_physician_PRF_PHYSN_NPI\")]\n",
    "\n",
    "  rename_last(\n",
    "    most_common_physician,\n",
    "    ncol(physician_integration_stats) - 2,\n",
    "    paste(\"most_common_physician_\", colnames(physician_integration_stats)[3:ncol(physician_integration_stats)], sep = \"\")\n",
    "  )\n",
    "\n",
    "\n",
    "  most_common_primary_care <- left_join(\n",
    "    data_selected,\n",
    "    physician_integration_stats,\n",
    "    by = c(\n",
    "      \"most_common_primary_care_physician_PRF_PHYSN_NPI\" = \"PRF_PHYSN_NPI\", \"year\" = \"year\"\n",
    "    )\n",
    "  ) %>% as.data.table()\n",
    "\n",
    "  most_common_primary_care <- most_common_primary_care[, -c(\"most_common_physician_PRF_PHYSN_NPI\")]\n",
    "\n",
    "  rename_last(\n",
    "    most_common_primary_care,\n",
    "    ncol(physician_integration_stats) - 2,\n",
    "    paste(\"most_common_primary_care_physician_\", colnames(physician_integration_stats)[3:ncol(physician_integration_stats)], sep = \"\")\n",
    "  )\n",
    "\n",
    "  physician_data <-\n",
    "    full_join(most_common_physician[, -(\"most_common_physician_PRF_PHYSN_NPI\")],\n",
    "      most_common_primary_care[, -(\"most_common_primary_care_physician_PRF_PHYSN_NPI\")],\n",
    "      by = c(\"DESY_SORT_KEY\", \"year\")\n",
    "    )\n",
    "  result <- full_join(data,\n",
    "    physician_data,\n",
    "    by = c(\"DESY_SORT_KEY\", \"year\")\n",
    "  ) %>%\n",
    "    as.data.table()\n",
    "\n",
    "\n",
    "  return(result)\n",
    "}\n",
    "\n",
    "summary_with_physician_integration_stats <- add_integration_status(\n",
    "  data = summary_with_npi,\n",
    "  physician_integration_stats = physician_integration_stats\n",
    ")"
   ]
  },
  {
   "cell_type": "code",
   "execution_count": null,
   "id": "ea866490-9ce5-40a2-99c0-89747b921ae5",
   "metadata": {
    "tags": []
   },
   "outputs": [],
   "source": [
    "head(summary_with_physician_integration_stats)"
   ]
  },
  {
   "cell_type": "code",
   "execution_count": null,
   "id": "5c9a53ae-19ce-45bb-a5d5-638ea3370077",
   "metadata": {},
   "outputs": [],
   "source": [
    "write.fst(summary_with_physician_integration_stats, \"summary_with_physician_integration_stats.fst\")"
   ]
  },
  {
   "cell_type": "code",
   "execution_count": 149,
   "id": "6de3eabb-96ea-485a-8f20-72216d93bcba",
   "metadata": {},
   "outputs": [
    {
     "data": {
      "text/html": [
       "<table class=\"dataframe\">\n",
       "<caption>A data.table: 8 × 54</caption>\n",
       "<thead>\n",
       "\t<tr><th scope=col>DESY_SORT_KEY</th><th scope=col>year</th><th scope=col>distinct_clinicians</th><th scope=col>distinct_primary_care_physicians</th><th scope=col>hypertension</th><th scope=col>arthritis</th><th scope=col>IHD</th><th scope=col>diabetes</th><th scope=col>depression</th><th scope=col>icd_9_pure</th><th scope=col>icd_10_pure</th><th scope=col>REFERENCE_YEAR</th><th scope=col>STATE_CODE</th><th scope=col>COUNTY_CODE</th><th scope=col>SEX_CODE</th><th scope=col>RACE_CODE</th><th scope=col>AGE</th><th scope=col>ORIG_REASON_FOR_ENTITLEMENT</th><th scope=col>CURR_REASON_FOR_ENTITLEMENT</th><th scope=col>ENTITLEMENT_BUY_IN_IND01</th><th scope=col>ENTITLEMENT_BUY_IN_IND02</th><th scope=col>ENTITLEMENT_BUY_IN_IND03</th><th scope=col>ENTITLEMENT_BUY_IN_IND04</th><th scope=col>ENTITLEMENT_BUY_IN_IND05</th><th scope=col>ENTITLEMENT_BUY_IN_IND06</th><th scope=col>ENTITLEMENT_BUY_IN_IND07</th><th scope=col>ENTITLEMENT_BUY_IN_IND08</th><th scope=col>ENTITLEMENT_BUY_IN_IND09</th><th scope=col>ENTITLEMENT_BUY_IN_IND10</th><th scope=col>ENTITLEMENT_BUY_IN_IND11</th><th scope=col>ENTITLEMENT_BUY_IN_IND12</th><th scope=col>HMO_INDICATOR01</th><th scope=col>HMO_INDICATOR02</th><th scope=col>HMO_INDICATOR03</th><th scope=col>HMO_INDICATOR04</th><th scope=col>HMO_INDICATOR05</th><th scope=col>HMO_INDICATOR06</th><th scope=col>HMO_INDICATOR07</th><th scope=col>HMO_INDICATOR08</th><th scope=col>HMO_INDICATOR09</th><th scope=col>HMO_INDICATOR10</th><th scope=col>HMO_INDICATOR11</th><th scope=col>HMO_INDICATOR12</th><th scope=col>VALID_DATE_OF_DEATH_SWITCH</th><th scope=col>DATE_OF_DEATH</th><th scope=col>date_died</th><th scope=col>date_died_valid</th><th scope=col>year_of_death</th><th scope=col>most_common_physician_PRF_PHYSN_NPI</th><th scope=col>most_common_physician_n</th><th scope=col>most_common_physician_PRVDR_SPCLTY</th><th scope=col>most_common_primary_care_physician_PRF_PHYSN_NPI</th><th scope=col>most_common_primary_care_physician_n</th><th scope=col>most_common_primary_care_physician_PRVDR_SPCLTY</th></tr>\n",
       "\t<tr><th scope=col>&lt;int&gt;</th><th scope=col>&lt;dbl&gt;</th><th scope=col>&lt;int&gt;</th><th scope=col>&lt;int&gt;</th><th scope=col>&lt;lgl&gt;</th><th scope=col>&lt;lgl&gt;</th><th scope=col>&lt;lgl&gt;</th><th scope=col>&lt;lgl&gt;</th><th scope=col>&lt;lgl&gt;</th><th scope=col>&lt;lgl&gt;</th><th scope=col>&lt;lgl&gt;</th><th scope=col>&lt;dbl&gt;</th><th scope=col>&lt;chr&gt;</th><th scope=col>&lt;chr&gt;</th><th scope=col>&lt;dbl&gt;</th><th scope=col>&lt;dbl&gt;</th><th scope=col>&lt;dbl&gt;</th><th scope=col>&lt;dbl&gt;</th><th scope=col>&lt;dbl&gt;</th><th scope=col>&lt;chr&gt;</th><th scope=col>&lt;chr&gt;</th><th scope=col>&lt;chr&gt;</th><th scope=col>&lt;chr&gt;</th><th scope=col>&lt;chr&gt;</th><th scope=col>&lt;chr&gt;</th><th scope=col>&lt;chr&gt;</th><th scope=col>&lt;chr&gt;</th><th scope=col>&lt;chr&gt;</th><th scope=col>&lt;chr&gt;</th><th scope=col>&lt;chr&gt;</th><th scope=col>&lt;chr&gt;</th><th scope=col>&lt;chr&gt;</th><th scope=col>&lt;chr&gt;</th><th scope=col>&lt;chr&gt;</th><th scope=col>&lt;chr&gt;</th><th scope=col>&lt;chr&gt;</th><th scope=col>&lt;chr&gt;</th><th scope=col>&lt;chr&gt;</th><th scope=col>&lt;chr&gt;</th><th scope=col>&lt;chr&gt;</th><th scope=col>&lt;chr&gt;</th><th scope=col>&lt;chr&gt;</th><th scope=col>&lt;chr&gt;</th><th scope=col>&lt;chr&gt;</th><th scope=col>&lt;dbl&gt;</th><th scope=col>&lt;dbl&gt;</th><th scope=col>&lt;chr&gt;</th><th scope=col>&lt;chr&gt;</th><th scope=col>&lt;chr&gt;</th><th scope=col>&lt;int&gt;</th><th scope=col>&lt;chr&gt;</th><th scope=col>&lt;chr&gt;</th><th scope=col>&lt;int&gt;</th><th scope=col>&lt;chr&gt;</th></tr>\n",
       "</thead>\n",
       "<tbody>\n",
       "\t<tr><td>100005325</td><td>2013</td><td>10</td><td>3</td><td>FALSE</td><td>FALSE</td><td>FALSE</td><td>FALSE</td><td>FALSE</td><td>TRUE</td><td>FALSE</td><td>13</td><td>20</td><td>140</td><td>2</td><td>1</td><td>76</td><td>0</td><td>0</td><td>C</td><td>C</td><td>3</td><td>3</td><td>3</td><td>3</td><td>3</td><td>3</td><td>3</td><td>3</td><td>3</td><td>3</td><td>0</td><td>0</td><td>0</td><td>0</td><td>0</td><td>0</td><td>0</td><td>0</td><td>0</td><td>0</td><td>0</td><td>0</td><td>V</td><td>20140125</td><td>20140125</td><td>V</td><td>2014</td><td>1578594818</td><td>56</td><td>11</td><td>1578594818</td><td>56</td><td>11</td></tr>\n",
       "\t<tr><td>100005325</td><td>2013</td><td>10</td><td>3</td><td>FALSE</td><td>FALSE</td><td>FALSE</td><td>FALSE</td><td>FALSE</td><td>TRUE</td><td>FALSE</td><td>13</td><td>20</td><td>140</td><td>2</td><td>1</td><td>76</td><td>0</td><td>0</td><td>C</td><td>C</td><td>3</td><td>3</td><td>3</td><td>3</td><td>3</td><td>3</td><td>3</td><td>3</td><td>3</td><td>3</td><td>0</td><td>0</td><td>0</td><td>0</td><td>0</td><td>0</td><td>0</td><td>0</td><td>0</td><td>0</td><td>0</td><td>0</td><td>V</td><td>20140125</td><td>20140125</td><td>V</td><td>2014</td><td>1578594818</td><td>56</td><td>11</td><td>1578594818</td><td>56</td><td>11</td></tr>\n",
       "\t<tr><td>100005325</td><td>2013</td><td>10</td><td>3</td><td>FALSE</td><td>FALSE</td><td>FALSE</td><td>FALSE</td><td>FALSE</td><td>TRUE</td><td>FALSE</td><td>13</td><td>20</td><td>140</td><td>2</td><td>1</td><td>76</td><td>0</td><td>0</td><td>C</td><td>C</td><td>3</td><td>3</td><td>3</td><td>3</td><td>3</td><td>3</td><td>3</td><td>3</td><td>3</td><td>3</td><td>0</td><td>0</td><td>0</td><td>0</td><td>0</td><td>0</td><td>0</td><td>0</td><td>0</td><td>0</td><td>0</td><td>0</td><td>V</td><td>20140125</td><td>20140125</td><td>V</td><td>2014</td><td>1578594818</td><td>56</td><td>11</td><td>1578594818</td><td>56</td><td>11</td></tr>\n",
       "\t<tr><td>100005325</td><td>2013</td><td>10</td><td>3</td><td>FALSE</td><td>FALSE</td><td>FALSE</td><td>FALSE</td><td>FALSE</td><td>TRUE</td><td>FALSE</td><td>13</td><td>20</td><td>140</td><td>2</td><td>1</td><td>76</td><td>0</td><td>0</td><td>C</td><td>C</td><td>3</td><td>3</td><td>3</td><td>3</td><td>3</td><td>3</td><td>3</td><td>3</td><td>3</td><td>3</td><td>0</td><td>0</td><td>0</td><td>0</td><td>0</td><td>0</td><td>0</td><td>0</td><td>0</td><td>0</td><td>0</td><td>0</td><td>V</td><td>20140125</td><td>20140125</td><td>V</td><td>2014</td><td>1578594818</td><td>56</td><td>11</td><td>1578594818</td><td>56</td><td>11</td></tr>\n",
       "\t<tr><td>100005325</td><td>2014</td><td>13</td><td>2</td><td>FALSE</td><td>FALSE</td><td>FALSE</td><td>FALSE</td><td>FALSE</td><td>TRUE</td><td>FALSE</td><td>14</td><td>20</td><td>140</td><td>2</td><td>1</td><td>77</td><td>0</td><td>0</td><td>3</td><td>0</td><td>0</td><td>0</td><td>0</td><td>0</td><td>0</td><td>0</td><td>0</td><td>0</td><td>0</td><td>0</td><td>0</td><td>0</td><td>0</td><td>0</td><td>0</td><td>0</td><td>0</td><td>0</td><td>0</td><td>0</td><td>0</td><td>0</td><td>V</td><td>20140125</td><td>20140125</td><td>V</td><td>2014</td><td>1578594818</td><td> 4</td><td>11</td><td>1578594818</td><td> 4</td><td>11</td></tr>\n",
       "\t<tr><td>100005325</td><td>2014</td><td>13</td><td>2</td><td>FALSE</td><td>FALSE</td><td>FALSE</td><td>FALSE</td><td>FALSE</td><td>TRUE</td><td>FALSE</td><td>14</td><td>20</td><td>140</td><td>2</td><td>1</td><td>77</td><td>0</td><td>0</td><td>3</td><td>0</td><td>0</td><td>0</td><td>0</td><td>0</td><td>0</td><td>0</td><td>0</td><td>0</td><td>0</td><td>0</td><td>0</td><td>0</td><td>0</td><td>0</td><td>0</td><td>0</td><td>0</td><td>0</td><td>0</td><td>0</td><td>0</td><td>0</td><td>V</td><td>20140125</td><td>20140125</td><td>V</td><td>2014</td><td>1578594818</td><td> 4</td><td>11</td><td>1578594818</td><td> 4</td><td>11</td></tr>\n",
       "\t<tr><td>100005325</td><td>2014</td><td>13</td><td>2</td><td>FALSE</td><td>FALSE</td><td>FALSE</td><td>FALSE</td><td>FALSE</td><td>TRUE</td><td>FALSE</td><td>14</td><td>20</td><td>140</td><td>2</td><td>1</td><td>77</td><td>0</td><td>0</td><td>3</td><td>0</td><td>0</td><td>0</td><td>0</td><td>0</td><td>0</td><td>0</td><td>0</td><td>0</td><td>0</td><td>0</td><td>0</td><td>0</td><td>0</td><td>0</td><td>0</td><td>0</td><td>0</td><td>0</td><td>0</td><td>0</td><td>0</td><td>0</td><td>V</td><td>20140125</td><td>20140125</td><td>V</td><td>2014</td><td>1578594818</td><td> 4</td><td>11</td><td>1578594818</td><td> 4</td><td>11</td></tr>\n",
       "\t<tr><td>100005325</td><td>2014</td><td>13</td><td>2</td><td>FALSE</td><td>FALSE</td><td>FALSE</td><td>FALSE</td><td>FALSE</td><td>TRUE</td><td>FALSE</td><td>14</td><td>20</td><td>140</td><td>2</td><td>1</td><td>77</td><td>0</td><td>0</td><td>3</td><td>0</td><td>0</td><td>0</td><td>0</td><td>0</td><td>0</td><td>0</td><td>0</td><td>0</td><td>0</td><td>0</td><td>0</td><td>0</td><td>0</td><td>0</td><td>0</td><td>0</td><td>0</td><td>0</td><td>0</td><td>0</td><td>0</td><td>0</td><td>V</td><td>20140125</td><td>20140125</td><td>V</td><td>2014</td><td>1578594818</td><td> 4</td><td>11</td><td>1578594818</td><td> 4</td><td>11</td></tr>\n",
       "</tbody>\n",
       "</table>\n"
      ],
      "text/latex": [
       "A data.table: 8 × 54\n",
       "\\begin{tabular}{llllllllllllllllllllllllllllllllllllllllllllllllllllll}\n",
       " DESY\\_SORT\\_KEY & year & distinct\\_clinicians & distinct\\_primary\\_care\\_physicians & hypertension & arthritis & IHD & diabetes & depression & icd\\_9\\_pure & icd\\_10\\_pure & REFERENCE\\_YEAR & STATE\\_CODE & COUNTY\\_CODE & SEX\\_CODE & RACE\\_CODE & AGE & ORIG\\_REASON\\_FOR\\_ENTITLEMENT & CURR\\_REASON\\_FOR\\_ENTITLEMENT & ENTITLEMENT\\_BUY\\_IN\\_IND01 & ENTITLEMENT\\_BUY\\_IN\\_IND02 & ENTITLEMENT\\_BUY\\_IN\\_IND03 & ENTITLEMENT\\_BUY\\_IN\\_IND04 & ENTITLEMENT\\_BUY\\_IN\\_IND05 & ENTITLEMENT\\_BUY\\_IN\\_IND06 & ENTITLEMENT\\_BUY\\_IN\\_IND07 & ENTITLEMENT\\_BUY\\_IN\\_IND08 & ENTITLEMENT\\_BUY\\_IN\\_IND09 & ENTITLEMENT\\_BUY\\_IN\\_IND10 & ENTITLEMENT\\_BUY\\_IN\\_IND11 & ENTITLEMENT\\_BUY\\_IN\\_IND12 & HMO\\_INDICATOR01 & HMO\\_INDICATOR02 & HMO\\_INDICATOR03 & HMO\\_INDICATOR04 & HMO\\_INDICATOR05 & HMO\\_INDICATOR06 & HMO\\_INDICATOR07 & HMO\\_INDICATOR08 & HMO\\_INDICATOR09 & HMO\\_INDICATOR10 & HMO\\_INDICATOR11 & HMO\\_INDICATOR12 & VALID\\_DATE\\_OF\\_DEATH\\_SWITCH & DATE\\_OF\\_DEATH & date\\_died & date\\_died\\_valid & year\\_of\\_death & most\\_common\\_physician\\_PRF\\_PHYSN\\_NPI & most\\_common\\_physician\\_n & most\\_common\\_physician\\_PRVDR\\_SPCLTY & most\\_common\\_primary\\_care\\_physician\\_PRF\\_PHYSN\\_NPI & most\\_common\\_primary\\_care\\_physician\\_n & most\\_common\\_primary\\_care\\_physician\\_PRVDR\\_SPCLTY\\\\\n",
       " <int> & <dbl> & <int> & <int> & <lgl> & <lgl> & <lgl> & <lgl> & <lgl> & <lgl> & <lgl> & <dbl> & <chr> & <chr> & <dbl> & <dbl> & <dbl> & <dbl> & <dbl> & <chr> & <chr> & <chr> & <chr> & <chr> & <chr> & <chr> & <chr> & <chr> & <chr> & <chr> & <chr> & <chr> & <chr> & <chr> & <chr> & <chr> & <chr> & <chr> & <chr> & <chr> & <chr> & <chr> & <chr> & <chr> & <dbl> & <dbl> & <chr> & <chr> & <chr> & <int> & <chr> & <chr> & <int> & <chr>\\\\\n",
       "\\hline\n",
       "\t 100005325 & 2013 & 10 & 3 & FALSE & FALSE & FALSE & FALSE & FALSE & TRUE & FALSE & 13 & 20 & 140 & 2 & 1 & 76 & 0 & 0 & C & C & 3 & 3 & 3 & 3 & 3 & 3 & 3 & 3 & 3 & 3 & 0 & 0 & 0 & 0 & 0 & 0 & 0 & 0 & 0 & 0 & 0 & 0 & V & 20140125 & 20140125 & V & 2014 & 1578594818 & 56 & 11 & 1578594818 & 56 & 11\\\\\n",
       "\t 100005325 & 2013 & 10 & 3 & FALSE & FALSE & FALSE & FALSE & FALSE & TRUE & FALSE & 13 & 20 & 140 & 2 & 1 & 76 & 0 & 0 & C & C & 3 & 3 & 3 & 3 & 3 & 3 & 3 & 3 & 3 & 3 & 0 & 0 & 0 & 0 & 0 & 0 & 0 & 0 & 0 & 0 & 0 & 0 & V & 20140125 & 20140125 & V & 2014 & 1578594818 & 56 & 11 & 1578594818 & 56 & 11\\\\\n",
       "\t 100005325 & 2013 & 10 & 3 & FALSE & FALSE & FALSE & FALSE & FALSE & TRUE & FALSE & 13 & 20 & 140 & 2 & 1 & 76 & 0 & 0 & C & C & 3 & 3 & 3 & 3 & 3 & 3 & 3 & 3 & 3 & 3 & 0 & 0 & 0 & 0 & 0 & 0 & 0 & 0 & 0 & 0 & 0 & 0 & V & 20140125 & 20140125 & V & 2014 & 1578594818 & 56 & 11 & 1578594818 & 56 & 11\\\\\n",
       "\t 100005325 & 2013 & 10 & 3 & FALSE & FALSE & FALSE & FALSE & FALSE & TRUE & FALSE & 13 & 20 & 140 & 2 & 1 & 76 & 0 & 0 & C & C & 3 & 3 & 3 & 3 & 3 & 3 & 3 & 3 & 3 & 3 & 0 & 0 & 0 & 0 & 0 & 0 & 0 & 0 & 0 & 0 & 0 & 0 & V & 20140125 & 20140125 & V & 2014 & 1578594818 & 56 & 11 & 1578594818 & 56 & 11\\\\\n",
       "\t 100005325 & 2014 & 13 & 2 & FALSE & FALSE & FALSE & FALSE & FALSE & TRUE & FALSE & 14 & 20 & 140 & 2 & 1 & 77 & 0 & 0 & 3 & 0 & 0 & 0 & 0 & 0 & 0 & 0 & 0 & 0 & 0 & 0 & 0 & 0 & 0 & 0 & 0 & 0 & 0 & 0 & 0 & 0 & 0 & 0 & V & 20140125 & 20140125 & V & 2014 & 1578594818 &  4 & 11 & 1578594818 &  4 & 11\\\\\n",
       "\t 100005325 & 2014 & 13 & 2 & FALSE & FALSE & FALSE & FALSE & FALSE & TRUE & FALSE & 14 & 20 & 140 & 2 & 1 & 77 & 0 & 0 & 3 & 0 & 0 & 0 & 0 & 0 & 0 & 0 & 0 & 0 & 0 & 0 & 0 & 0 & 0 & 0 & 0 & 0 & 0 & 0 & 0 & 0 & 0 & 0 & V & 20140125 & 20140125 & V & 2014 & 1578594818 &  4 & 11 & 1578594818 &  4 & 11\\\\\n",
       "\t 100005325 & 2014 & 13 & 2 & FALSE & FALSE & FALSE & FALSE & FALSE & TRUE & FALSE & 14 & 20 & 140 & 2 & 1 & 77 & 0 & 0 & 3 & 0 & 0 & 0 & 0 & 0 & 0 & 0 & 0 & 0 & 0 & 0 & 0 & 0 & 0 & 0 & 0 & 0 & 0 & 0 & 0 & 0 & 0 & 0 & V & 20140125 & 20140125 & V & 2014 & 1578594818 &  4 & 11 & 1578594818 &  4 & 11\\\\\n",
       "\t 100005325 & 2014 & 13 & 2 & FALSE & FALSE & FALSE & FALSE & FALSE & TRUE & FALSE & 14 & 20 & 140 & 2 & 1 & 77 & 0 & 0 & 3 & 0 & 0 & 0 & 0 & 0 & 0 & 0 & 0 & 0 & 0 & 0 & 0 & 0 & 0 & 0 & 0 & 0 & 0 & 0 & 0 & 0 & 0 & 0 & V & 20140125 & 20140125 & V & 2014 & 1578594818 &  4 & 11 & 1578594818 &  4 & 11\\\\\n",
       "\\end{tabular}\n"
      ],
      "text/markdown": [
       "\n",
       "A data.table: 8 × 54\n",
       "\n",
       "| DESY_SORT_KEY &lt;int&gt; | year &lt;dbl&gt; | distinct_clinicians &lt;int&gt; | distinct_primary_care_physicians &lt;int&gt; | hypertension &lt;lgl&gt; | arthritis &lt;lgl&gt; | IHD &lt;lgl&gt; | diabetes &lt;lgl&gt; | depression &lt;lgl&gt; | icd_9_pure &lt;lgl&gt; | icd_10_pure &lt;lgl&gt; | REFERENCE_YEAR &lt;dbl&gt; | STATE_CODE &lt;chr&gt; | COUNTY_CODE &lt;chr&gt; | SEX_CODE &lt;dbl&gt; | RACE_CODE &lt;dbl&gt; | AGE &lt;dbl&gt; | ORIG_REASON_FOR_ENTITLEMENT &lt;dbl&gt; | CURR_REASON_FOR_ENTITLEMENT &lt;dbl&gt; | ENTITLEMENT_BUY_IN_IND01 &lt;chr&gt; | ENTITLEMENT_BUY_IN_IND02 &lt;chr&gt; | ENTITLEMENT_BUY_IN_IND03 &lt;chr&gt; | ENTITLEMENT_BUY_IN_IND04 &lt;chr&gt; | ENTITLEMENT_BUY_IN_IND05 &lt;chr&gt; | ENTITLEMENT_BUY_IN_IND06 &lt;chr&gt; | ENTITLEMENT_BUY_IN_IND07 &lt;chr&gt; | ENTITLEMENT_BUY_IN_IND08 &lt;chr&gt; | ENTITLEMENT_BUY_IN_IND09 &lt;chr&gt; | ENTITLEMENT_BUY_IN_IND10 &lt;chr&gt; | ENTITLEMENT_BUY_IN_IND11 &lt;chr&gt; | ENTITLEMENT_BUY_IN_IND12 &lt;chr&gt; | HMO_INDICATOR01 &lt;chr&gt; | HMO_INDICATOR02 &lt;chr&gt; | HMO_INDICATOR03 &lt;chr&gt; | HMO_INDICATOR04 &lt;chr&gt; | HMO_INDICATOR05 &lt;chr&gt; | HMO_INDICATOR06 &lt;chr&gt; | HMO_INDICATOR07 &lt;chr&gt; | HMO_INDICATOR08 &lt;chr&gt; | HMO_INDICATOR09 &lt;chr&gt; | HMO_INDICATOR10 &lt;chr&gt; | HMO_INDICATOR11 &lt;chr&gt; | HMO_INDICATOR12 &lt;chr&gt; | VALID_DATE_OF_DEATH_SWITCH &lt;chr&gt; | DATE_OF_DEATH &lt;dbl&gt; | date_died &lt;dbl&gt; | date_died_valid &lt;chr&gt; | year_of_death &lt;chr&gt; | most_common_physician_PRF_PHYSN_NPI &lt;chr&gt; | most_common_physician_n &lt;int&gt; | most_common_physician_PRVDR_SPCLTY &lt;chr&gt; | most_common_primary_care_physician_PRF_PHYSN_NPI &lt;chr&gt; | most_common_primary_care_physician_n &lt;int&gt; | most_common_primary_care_physician_PRVDR_SPCLTY &lt;chr&gt; |\n",
       "|---|---|---|---|---|---|---|---|---|---|---|---|---|---|---|---|---|---|---|---|---|---|---|---|---|---|---|---|---|---|---|---|---|---|---|---|---|---|---|---|---|---|---|---|---|---|---|---|---|---|---|---|---|---|\n",
       "| 100005325 | 2013 | 10 | 3 | FALSE | FALSE | FALSE | FALSE | FALSE | TRUE | FALSE | 13 | 20 | 140 | 2 | 1 | 76 | 0 | 0 | C | C | 3 | 3 | 3 | 3 | 3 | 3 | 3 | 3 | 3 | 3 | 0 | 0 | 0 | 0 | 0 | 0 | 0 | 0 | 0 | 0 | 0 | 0 | V | 20140125 | 20140125 | V | 2014 | 1578594818 | 56 | 11 | 1578594818 | 56 | 11 |\n",
       "| 100005325 | 2013 | 10 | 3 | FALSE | FALSE | FALSE | FALSE | FALSE | TRUE | FALSE | 13 | 20 | 140 | 2 | 1 | 76 | 0 | 0 | C | C | 3 | 3 | 3 | 3 | 3 | 3 | 3 | 3 | 3 | 3 | 0 | 0 | 0 | 0 | 0 | 0 | 0 | 0 | 0 | 0 | 0 | 0 | V | 20140125 | 20140125 | V | 2014 | 1578594818 | 56 | 11 | 1578594818 | 56 | 11 |\n",
       "| 100005325 | 2013 | 10 | 3 | FALSE | FALSE | FALSE | FALSE | FALSE | TRUE | FALSE | 13 | 20 | 140 | 2 | 1 | 76 | 0 | 0 | C | C | 3 | 3 | 3 | 3 | 3 | 3 | 3 | 3 | 3 | 3 | 0 | 0 | 0 | 0 | 0 | 0 | 0 | 0 | 0 | 0 | 0 | 0 | V | 20140125 | 20140125 | V | 2014 | 1578594818 | 56 | 11 | 1578594818 | 56 | 11 |\n",
       "| 100005325 | 2013 | 10 | 3 | FALSE | FALSE | FALSE | FALSE | FALSE | TRUE | FALSE | 13 | 20 | 140 | 2 | 1 | 76 | 0 | 0 | C | C | 3 | 3 | 3 | 3 | 3 | 3 | 3 | 3 | 3 | 3 | 0 | 0 | 0 | 0 | 0 | 0 | 0 | 0 | 0 | 0 | 0 | 0 | V | 20140125 | 20140125 | V | 2014 | 1578594818 | 56 | 11 | 1578594818 | 56 | 11 |\n",
       "| 100005325 | 2014 | 13 | 2 | FALSE | FALSE | FALSE | FALSE | FALSE | TRUE | FALSE | 14 | 20 | 140 | 2 | 1 | 77 | 0 | 0 | 3 | 0 | 0 | 0 | 0 | 0 | 0 | 0 | 0 | 0 | 0 | 0 | 0 | 0 | 0 | 0 | 0 | 0 | 0 | 0 | 0 | 0 | 0 | 0 | V | 20140125 | 20140125 | V | 2014 | 1578594818 |  4 | 11 | 1578594818 |  4 | 11 |\n",
       "| 100005325 | 2014 | 13 | 2 | FALSE | FALSE | FALSE | FALSE | FALSE | TRUE | FALSE | 14 | 20 | 140 | 2 | 1 | 77 | 0 | 0 | 3 | 0 | 0 | 0 | 0 | 0 | 0 | 0 | 0 | 0 | 0 | 0 | 0 | 0 | 0 | 0 | 0 | 0 | 0 | 0 | 0 | 0 | 0 | 0 | V | 20140125 | 20140125 | V | 2014 | 1578594818 |  4 | 11 | 1578594818 |  4 | 11 |\n",
       "| 100005325 | 2014 | 13 | 2 | FALSE | FALSE | FALSE | FALSE | FALSE | TRUE | FALSE | 14 | 20 | 140 | 2 | 1 | 77 | 0 | 0 | 3 | 0 | 0 | 0 | 0 | 0 | 0 | 0 | 0 | 0 | 0 | 0 | 0 | 0 | 0 | 0 | 0 | 0 | 0 | 0 | 0 | 0 | 0 | 0 | V | 20140125 | 20140125 | V | 2014 | 1578594818 |  4 | 11 | 1578594818 |  4 | 11 |\n",
       "| 100005325 | 2014 | 13 | 2 | FALSE | FALSE | FALSE | FALSE | FALSE | TRUE | FALSE | 14 | 20 | 140 | 2 | 1 | 77 | 0 | 0 | 3 | 0 | 0 | 0 | 0 | 0 | 0 | 0 | 0 | 0 | 0 | 0 | 0 | 0 | 0 | 0 | 0 | 0 | 0 | 0 | 0 | 0 | 0 | 0 | V | 20140125 | 20140125 | V | 2014 | 1578594818 |  4 | 11 | 1578594818 |  4 | 11 |\n",
       "\n"
      ],
      "text/plain": [
       "  DESY_SORT_KEY year distinct_clinicians distinct_primary_care_physicians hypertension arthritis IHD   diabetes depression icd_9_pure icd_10_pure REFERENCE_YEAR STATE_CODE COUNTY_CODE SEX_CODE RACE_CODE AGE ORIG_REASON_FOR_ENTITLEMENT CURR_REASON_FOR_ENTITLEMENT ENTITLEMENT_BUY_IN_IND01\n",
       "1 100005325     2013 10                  3                                FALSE        FALSE     FALSE FALSE    FALSE      TRUE       FALSE       13             20         140         2        1         76  0                           0                           C                       \n",
       "2 100005325     2013 10                  3                                FALSE        FALSE     FALSE FALSE    FALSE      TRUE       FALSE       13             20         140         2        1         76  0                           0                           C                       \n",
       "3 100005325     2013 10                  3                                FALSE        FALSE     FALSE FALSE    FALSE      TRUE       FALSE       13             20         140         2        1         76  0                           0                           C                       \n",
       "4 100005325     2013 10                  3                                FALSE        FALSE     FALSE FALSE    FALSE      TRUE       FALSE       13             20         140         2        1         76  0                           0                           C                       \n",
       "5 100005325     2014 13                  2                                FALSE        FALSE     FALSE FALSE    FALSE      TRUE       FALSE       14             20         140         2        1         77  0                           0                           3                       \n",
       "6 100005325     2014 13                  2                                FALSE        FALSE     FALSE FALSE    FALSE      TRUE       FALSE       14             20         140         2        1         77  0                           0                           3                       \n",
       "7 100005325     2014 13                  2                                FALSE        FALSE     FALSE FALSE    FALSE      TRUE       FALSE       14             20         140         2        1         77  0                           0                           3                       \n",
       "8 100005325     2014 13                  2                                FALSE        FALSE     FALSE FALSE    FALSE      TRUE       FALSE       14             20         140         2        1         77  0                           0                           3                       \n",
       "  ENTITLEMENT_BUY_IN_IND02 ENTITLEMENT_BUY_IN_IND03 ENTITLEMENT_BUY_IN_IND04 ENTITLEMENT_BUY_IN_IND05 ENTITLEMENT_BUY_IN_IND06 ENTITLEMENT_BUY_IN_IND07 ENTITLEMENT_BUY_IN_IND08 ENTITLEMENT_BUY_IN_IND09 ENTITLEMENT_BUY_IN_IND10 ENTITLEMENT_BUY_IN_IND11 ENTITLEMENT_BUY_IN_IND12 HMO_INDICATOR01\n",
       "1 C                        3                        3                        3                        3                        3                        3                        3                        3                        3                        3                        0              \n",
       "2 C                        3                        3                        3                        3                        3                        3                        3                        3                        3                        3                        0              \n",
       "3 C                        3                        3                        3                        3                        3                        3                        3                        3                        3                        3                        0              \n",
       "4 C                        3                        3                        3                        3                        3                        3                        3                        3                        3                        3                        0              \n",
       "5 0                        0                        0                        0                        0                        0                        0                        0                        0                        0                        0                        0              \n",
       "6 0                        0                        0                        0                        0                        0                        0                        0                        0                        0                        0                        0              \n",
       "7 0                        0                        0                        0                        0                        0                        0                        0                        0                        0                        0                        0              \n",
       "8 0                        0                        0                        0                        0                        0                        0                        0                        0                        0                        0                        0              \n",
       "  HMO_INDICATOR02 HMO_INDICATOR03 HMO_INDICATOR04 HMO_INDICATOR05 HMO_INDICATOR06 HMO_INDICATOR07 HMO_INDICATOR08 HMO_INDICATOR09 HMO_INDICATOR10 HMO_INDICATOR11 HMO_INDICATOR12 VALID_DATE_OF_DEATH_SWITCH DATE_OF_DEATH date_died date_died_valid year_of_death most_common_physician_PRF_PHYSN_NPI\n",
       "1 0               0               0               0               0               0               0               0               0               0               0               V                          20140125      20140125  V               2014          1578594818                         \n",
       "2 0               0               0               0               0               0               0               0               0               0               0               V                          20140125      20140125  V               2014          1578594818                         \n",
       "3 0               0               0               0               0               0               0               0               0               0               0               V                          20140125      20140125  V               2014          1578594818                         \n",
       "4 0               0               0               0               0               0               0               0               0               0               0               V                          20140125      20140125  V               2014          1578594818                         \n",
       "5 0               0               0               0               0               0               0               0               0               0               0               V                          20140125      20140125  V               2014          1578594818                         \n",
       "6 0               0               0               0               0               0               0               0               0               0               0               V                          20140125      20140125  V               2014          1578594818                         \n",
       "7 0               0               0               0               0               0               0               0               0               0               0               V                          20140125      20140125  V               2014          1578594818                         \n",
       "8 0               0               0               0               0               0               0               0               0               0               0               V                          20140125      20140125  V               2014          1578594818                         \n",
       "  most_common_physician_n most_common_physician_PRVDR_SPCLTY most_common_primary_care_physician_PRF_PHYSN_NPI most_common_primary_care_physician_n most_common_primary_care_physician_PRVDR_SPCLTY\n",
       "1 56                      11                                 1578594818                                       56                                   11                                             \n",
       "2 56                      11                                 1578594818                                       56                                   11                                             \n",
       "3 56                      11                                 1578594818                                       56                                   11                                             \n",
       "4 56                      11                                 1578594818                                       56                                   11                                             \n",
       "5  4                      11                                 1578594818                                        4                                   11                                             \n",
       "6  4                      11                                 1578594818                                        4                                   11                                             \n",
       "7  4                      11                                 1578594818                                        4                                   11                                             \n",
       "8  4                      11                                 1578594818                                        4                                   11                                             "
      ]
     },
     "metadata": {},
     "output_type": "display_data"
    }
   ],
   "source": [
    "summary_with_npi[DESY_SORT_KEY == \"100005325\"]"
   ]
  },
  {
   "cell_type": "markdown",
   "id": "0831929e-0518-4550-bfef-225baf5d5949",
   "metadata": {
    "incorrectly_encoded_metadata": "tags=[] jp-MarkdownHeadingCollapsed=true tags=[] jp-MarkdownHeadingCollapsed=true"
   },
   "source": [
    "# Comparisons and analyses"
   ]
  },
  {
   "cell_type": "markdown",
   "id": "a0281bb5-be80-4122-9421-c06688b24699",
   "metadata": {
    "tags": []
   },
   "source": [
    "## Reading the patient and physician integration results"
   ]
  },
  {
   "cell_type": "code",
   "execution_count": 5,
   "id": "e4846f2a-aa7c-4f4c-9945-a9f408d8515f",
   "metadata": {
    "tags": []
   },
   "outputs": [],
   "source": [
    "yearly_calculations <-\n",
    "  read_fst(\"calculation_results.fst\", as.data.table = T)\n",
    "\n",
    "yearly_calculations <- unique(yearly_calculations)"
   ]
  },
  {
   "cell_type": "code",
   "execution_count": null,
   "id": "a665272f-2c3c-4b40-a15e-225241c3e3a9",
   "metadata": {},
   "outputs": [],
   "source": [
    "yearly_calculations[DESY_SORT_KEY == \"100005325\"]"
   ]
  },
  {
   "cell_type": "markdown",
   "id": "5f711fa2-8b37-4ca3-b393-8ed11eab67e5",
   "metadata": {
    "tags": []
   },
   "source": [
    "## Adding metropolitan status\n",
    "I will add the metropolitan statuses of the patient counties using the USDA data"
   ]
  },
  {
   "cell_type": "code",
   "execution_count": 11,
   "id": "1a7e1e72-5f6c-4223-bba5-6d36a258315f",
   "metadata": {},
   "outputs": [
    {
     "data": {
      "text/html": [
       "<table class=\"dataframe\">\n",
       "<caption>A data.table: 6 × 6</caption>\n",
       "<thead>\n",
       "\t<tr><th scope=col>FIPS</th><th scope=col>State</th><th scope=col>County_Name</th><th scope=col>Population_2010</th><th scope=col>RUCC_2013</th><th scope=col>Description</th></tr>\n",
       "\t<tr><th scope=col>&lt;chr&gt;</th><th scope=col>&lt;chr&gt;</th><th scope=col>&lt;chr&gt;</th><th scope=col>&lt;dbl&gt;</th><th scope=col>&lt;dbl&gt;</th><th scope=col>&lt;chr&gt;</th></tr>\n",
       "</thead>\n",
       "<tbody>\n",
       "\t<tr><td>01001</td><td>AL</td><td>Autauga County</td><td> 54571</td><td>2</td><td>Metro - Counties in metro areas of 250,000 to 1 million population      </td></tr>\n",
       "\t<tr><td>01003</td><td>AL</td><td>Baldwin County</td><td>182265</td><td>3</td><td>Metro - Counties in metro areas of fewer than 250,000 population        </td></tr>\n",
       "\t<tr><td>01005</td><td>AL</td><td>Barbour County</td><td> 27457</td><td>6</td><td>Nonmetro - Urban population of 2,500 to 19,999, adjacent to a metro area</td></tr>\n",
       "\t<tr><td>01007</td><td>AL</td><td>Bibb County   </td><td> 22915</td><td>1</td><td>Metro - Counties in metro areas of 1 million population or more         </td></tr>\n",
       "\t<tr><td>01009</td><td>AL</td><td>Blount County </td><td> 57322</td><td>1</td><td>Metro - Counties in metro areas of 1 million population or more         </td></tr>\n",
       "\t<tr><td>01011</td><td>AL</td><td>Bullock County</td><td> 10914</td><td>6</td><td>Nonmetro - Urban population of 2,500 to 19,999, adjacent to a metro area</td></tr>\n",
       "</tbody>\n",
       "</table>\n"
      ],
      "text/latex": [
       "A data.table: 6 × 6\n",
       "\\begin{tabular}{llllll}\n",
       " FIPS & State & County\\_Name & Population\\_2010 & RUCC\\_2013 & Description\\\\\n",
       " <chr> & <chr> & <chr> & <dbl> & <dbl> & <chr>\\\\\n",
       "\\hline\n",
       "\t 01001 & AL & Autauga County &  54571 & 2 & Metro - Counties in metro areas of 250,000 to 1 million population      \\\\\n",
       "\t 01003 & AL & Baldwin County & 182265 & 3 & Metro - Counties in metro areas of fewer than 250,000 population        \\\\\n",
       "\t 01005 & AL & Barbour County &  27457 & 6 & Nonmetro - Urban population of 2,500 to 19,999, adjacent to a metro area\\\\\n",
       "\t 01007 & AL & Bibb County    &  22915 & 1 & Metro - Counties in metro areas of 1 million population or more         \\\\\n",
       "\t 01009 & AL & Blount County  &  57322 & 1 & Metro - Counties in metro areas of 1 million population or more         \\\\\n",
       "\t 01011 & AL & Bullock County &  10914 & 6 & Nonmetro - Urban population of 2,500 to 19,999, adjacent to a metro area\\\\\n",
       "\\end{tabular}\n"
      ],
      "text/markdown": [
       "\n",
       "A data.table: 6 × 6\n",
       "\n",
       "| FIPS &lt;chr&gt; | State &lt;chr&gt; | County_Name &lt;chr&gt; | Population_2010 &lt;dbl&gt; | RUCC_2013 &lt;dbl&gt; | Description &lt;chr&gt; |\n",
       "|---|---|---|---|---|---|\n",
       "| 01001 | AL | Autauga County |  54571 | 2 | Metro - Counties in metro areas of 250,000 to 1 million population       |\n",
       "| 01003 | AL | Baldwin County | 182265 | 3 | Metro - Counties in metro areas of fewer than 250,000 population         |\n",
       "| 01005 | AL | Barbour County |  27457 | 6 | Nonmetro - Urban population of 2,500 to 19,999, adjacent to a metro area |\n",
       "| 01007 | AL | Bibb County    |  22915 | 1 | Metro - Counties in metro areas of 1 million population or more          |\n",
       "| 01009 | AL | Blount County  |  57322 | 1 | Metro - Counties in metro areas of 1 million population or more          |\n",
       "| 01011 | AL | Bullock County |  10914 | 6 | Nonmetro - Urban population of 2,500 to 19,999, adjacent to a metro area |\n",
       "\n"
      ],
      "text/plain": [
       "  FIPS  State County_Name    Population_2010 RUCC_2013 Description                                                             \n",
       "1 01001 AL    Autauga County  54571          2         Metro - Counties in metro areas of 250,000 to 1 million population      \n",
       "2 01003 AL    Baldwin County 182265          3         Metro - Counties in metro areas of fewer than 250,000 population        \n",
       "3 01005 AL    Barbour County  27457          6         Nonmetro - Urban population of 2,500 to 19,999, adjacent to a metro area\n",
       "4 01007 AL    Bibb County     22915          1         Metro - Counties in metro areas of 1 million population or more         \n",
       "5 01009 AL    Blount County   57322          1         Metro - Counties in metro areas of 1 million population or more         \n",
       "6 01011 AL    Bullock County  10914          6         Nonmetro - Urban population of 2,500 to 19,999, adjacent to a metro area"
      ]
     },
     "metadata": {},
     "output_type": "display_data"
    },
    {
     "data": {
      "text/html": [
       "<table class=\"dataframe\">\n",
       "<caption>A data.table: 6 × 6</caption>\n",
       "<thead>\n",
       "\t<tr><th scope=col>County.Name</th><th scope=col>State</th><th scope=col>SSACD</th><th scope=col>FIPS.County.Code</th><th scope=col>CBSA</th><th scope=col>CBSA.Name</th></tr>\n",
       "\t<tr><th scope=col>&lt;chr&gt;</th><th scope=col>&lt;chr&gt;</th><th scope=col>&lt;int&gt;</th><th scope=col>&lt;int&gt;</th><th scope=col>&lt;int&gt;</th><th scope=col>&lt;chr&gt;</th></tr>\n",
       "</thead>\n",
       "<tbody>\n",
       "\t<tr><td>AUTAUGA</td><td>AL</td><td>1000</td><td>1001</td><td>33860</td><td>Montgomery, AL           </td></tr>\n",
       "\t<tr><td>BALDWIN</td><td>AL</td><td>1010</td><td>1003</td><td>19300</td><td>Daphne-Fairhope-Foley, AL</td></tr>\n",
       "\t<tr><td>BARBOUR</td><td>AL</td><td>1020</td><td>1005</td><td>   NA</td><td>                         </td></tr>\n",
       "\t<tr><td>BIBB   </td><td>AL</td><td>1030</td><td>1007</td><td>13820</td><td>Birmingham-Hoover, AL    </td></tr>\n",
       "\t<tr><td>BLOUNT </td><td>AL</td><td>1040</td><td>1009</td><td>13820</td><td>Birmingham-Hoover, AL    </td></tr>\n",
       "\t<tr><td>BULLOCK</td><td>AL</td><td>1050</td><td>1011</td><td>   NA</td><td>                         </td></tr>\n",
       "</tbody>\n",
       "</table>\n"
      ],
      "text/latex": [
       "A data.table: 6 × 6\n",
       "\\begin{tabular}{llllll}\n",
       " County.Name & State & SSACD & FIPS.County.Code & CBSA & CBSA.Name\\\\\n",
       " <chr> & <chr> & <int> & <int> & <int> & <chr>\\\\\n",
       "\\hline\n",
       "\t AUTAUGA & AL & 1000 & 1001 & 33860 & Montgomery, AL           \\\\\n",
       "\t BALDWIN & AL & 1010 & 1003 & 19300 & Daphne-Fairhope-Foley, AL\\\\\n",
       "\t BARBOUR & AL & 1020 & 1005 &    NA &                          \\\\\n",
       "\t BIBB    & AL & 1030 & 1007 & 13820 & Birmingham-Hoover, AL    \\\\\n",
       "\t BLOUNT  & AL & 1040 & 1009 & 13820 & Birmingham-Hoover, AL    \\\\\n",
       "\t BULLOCK & AL & 1050 & 1011 &    NA &                          \\\\\n",
       "\\end{tabular}\n"
      ],
      "text/markdown": [
       "\n",
       "A data.table: 6 × 6\n",
       "\n",
       "| County.Name &lt;chr&gt; | State &lt;chr&gt; | SSACD &lt;int&gt; | FIPS.County.Code &lt;int&gt; | CBSA &lt;int&gt; | CBSA.Name &lt;chr&gt; |\n",
       "|---|---|---|---|---|---|\n",
       "| AUTAUGA | AL | 1000 | 1001 | 33860 | Montgomery, AL            |\n",
       "| BALDWIN | AL | 1010 | 1003 | 19300 | Daphne-Fairhope-Foley, AL |\n",
       "| BARBOUR | AL | 1020 | 1005 |    NA | <!----> |\n",
       "| BIBB    | AL | 1030 | 1007 | 13820 | Birmingham-Hoover, AL     |\n",
       "| BLOUNT  | AL | 1040 | 1009 | 13820 | Birmingham-Hoover, AL     |\n",
       "| BULLOCK | AL | 1050 | 1011 |    NA | <!----> |\n",
       "\n"
      ],
      "text/plain": [
       "  County.Name State SSACD FIPS.County.Code CBSA  CBSA.Name                \n",
       "1 AUTAUGA     AL    1000  1001             33860 Montgomery, AL           \n",
       "2 BALDWIN     AL    1010  1003             19300 Daphne-Fairhope-Foley, AL\n",
       "3 BARBOUR     AL    1020  1005                NA                          \n",
       "4 BIBB        AL    1030  1007             13820 Birmingham-Hoover, AL    \n",
       "5 BLOUNT      AL    1040  1009             13820 Birmingham-Hoover, AL    \n",
       "6 BULLOCK     AL    1050  1011                NA                          "
      ]
     },
     "metadata": {},
     "output_type": "display_data"
    }
   ],
   "source": [
    "rural_urban_data <- readxl::read_xls(\"physician_data/ruralurbancodes2013.xls\") %>% as.data.table()\n",
    "head(rural_urban_data)\n",
    "cross_walk_rural_urban <- read.csv(file = \"physician_data/xwalk2018.csv\") %>% as.data.table()\n",
    "head(cross_walk_rural_urban)"
   ]
  },
  {
   "cell_type": "code",
   "execution_count": 12,
   "id": "ad158aa6-b485-4024-8dd8-ec679d1ef374",
   "metadata": {},
   "outputs": [
    {
     "name": "stderr",
     "output_type": "stream",
     "text": [
      "Warning message in eval(jsub, SDenv, parent.frame()):\n",
      "“NAs introduced by coercion”\n"
     ]
    },
    {
     "data": {
      "text/html": [
       "<table class=\"dataframe\">\n",
       "<caption>A data.table: 6 × 73</caption>\n",
       "<thead>\n",
       "\t<tr><th scope=col>DESY_SORT_KEY</th><th scope=col>year</th><th scope=col>distinct_clinicians</th><th scope=col>distinct_primary_care_physicians</th><th scope=col>hypertension</th><th scope=col>arthritis</th><th scope=col>IHD</th><th scope=col>diabetes</th><th scope=col>depression</th><th scope=col>icd_9_pure</th><th scope=col>icd_10_pure</th><th scope=col>REFERENCE_YEAR</th><th scope=col>STATE_CODE</th><th scope=col>COUNTY_CODE</th><th scope=col>SEX_CODE</th><th scope=col>RACE_CODE</th><th scope=col>AGE</th><th scope=col>ORIG_REASON_FOR_ENTITLEMENT</th><th scope=col>CURR_REASON_FOR_ENTITLEMENT</th><th scope=col>ENTITLEMENT_BUY_IN_IND01</th><th scope=col>ENTITLEMENT_BUY_IN_IND02</th><th scope=col>ENTITLEMENT_BUY_IN_IND03</th><th scope=col>ENTITLEMENT_BUY_IN_IND04</th><th scope=col>ENTITLEMENT_BUY_IN_IND05</th><th scope=col>ENTITLEMENT_BUY_IN_IND06</th><th scope=col>ENTITLEMENT_BUY_IN_IND07</th><th scope=col>ENTITLEMENT_BUY_IN_IND08</th><th scope=col>ENTITLEMENT_BUY_IN_IND09</th><th scope=col>ENTITLEMENT_BUY_IN_IND10</th><th scope=col>ENTITLEMENT_BUY_IN_IND11</th><th scope=col>ENTITLEMENT_BUY_IN_IND12</th><th scope=col>HMO_INDICATOR01</th><th scope=col>HMO_INDICATOR02</th><th scope=col>HMO_INDICATOR03</th><th scope=col>HMO_INDICATOR04</th><th scope=col>HMO_INDICATOR05</th><th scope=col>HMO_INDICATOR06</th><th scope=col>HMO_INDICATOR07</th><th scope=col>HMO_INDICATOR08</th><th scope=col>HMO_INDICATOR09</th><th scope=col>HMO_INDICATOR10</th><th scope=col>HMO_INDICATOR11</th><th scope=col>HMO_INDICATOR12</th><th scope=col>VALID_DATE_OF_DEATH_SWITCH</th><th scope=col>DATE_OF_DEATH</th><th scope=col>date_died</th><th scope=col>date_died_valid</th><th scope=col>year_of_death</th><th scope=col>most_common_physician_PRF_PHYSN_NPI</th><th scope=col>most_common_physician_n</th><th scope=col>most_common_physician_PRVDR_SPCLTY</th><th scope=col>most_common_primary_care_physician_PRF_PHYSN_NPI</th><th scope=col>most_common_primary_care_physician_n</th><th scope=col>most_common_primary_care_physician_PRVDR_SPCLTY</th><th scope=col>most_common_physician_in_facility_visits_count</th><th scope=col>most_common_physician_in_all_visits_count</th><th scope=col>most_common_physician_in_facility_non_exclusive_HCPCS_count</th><th scope=col>most_common_physician_in_all_non_exclusive_HCPCS_count</th><th scope=col>most_common_physician_in_facility_count</th><th scope=col>most_common_physician_in_all_count</th><th scope=col>most_common_physician_in_facility_visits_prp</th><th scope=col>most_common_physician_in_facility_non_exclusive_HCPCS_prp</th><th scope=col>most_common_physician_in_facility_prp</th><th scope=col>most_common_primary_care_physician_in_facility_visits_count</th><th scope=col>most_common_primary_care_physician_in_all_visits_count</th><th scope=col>most_common_primary_care_physician_in_facility_non_exclusive_HCPCS_count</th><th scope=col>most_common_primary_care_physician_in_all_non_exclusive_HCPCS_count</th><th scope=col>most_common_primary_care_physician_in_facility_count</th><th scope=col>most_common_primary_care_physician_in_all_count</th><th scope=col>most_common_primary_care_physician_in_facility_visits_prp</th><th scope=col>most_common_primary_care_physician_in_facility_non_exclusive_HCPCS_prp</th><th scope=col>most_common_primary_care_physician_in_facility_prp</th><th scope=col>RUCC_2013</th></tr>\n",
       "\t<tr><th scope=col>&lt;int&gt;</th><th scope=col>&lt;dbl&gt;</th><th scope=col>&lt;int&gt;</th><th scope=col>&lt;int&gt;</th><th scope=col>&lt;lgl&gt;</th><th scope=col>&lt;lgl&gt;</th><th scope=col>&lt;lgl&gt;</th><th scope=col>&lt;lgl&gt;</th><th scope=col>&lt;lgl&gt;</th><th scope=col>&lt;lgl&gt;</th><th scope=col>&lt;lgl&gt;</th><th scope=col>&lt;dbl&gt;</th><th scope=col>&lt;chr&gt;</th><th scope=col>&lt;chr&gt;</th><th scope=col>&lt;dbl&gt;</th><th scope=col>&lt;dbl&gt;</th><th scope=col>&lt;dbl&gt;</th><th scope=col>&lt;dbl&gt;</th><th scope=col>&lt;dbl&gt;</th><th scope=col>&lt;chr&gt;</th><th scope=col>&lt;chr&gt;</th><th scope=col>&lt;chr&gt;</th><th scope=col>&lt;chr&gt;</th><th scope=col>&lt;chr&gt;</th><th scope=col>&lt;chr&gt;</th><th scope=col>&lt;chr&gt;</th><th scope=col>&lt;chr&gt;</th><th scope=col>&lt;chr&gt;</th><th scope=col>&lt;chr&gt;</th><th scope=col>&lt;chr&gt;</th><th scope=col>&lt;chr&gt;</th><th scope=col>&lt;chr&gt;</th><th scope=col>&lt;chr&gt;</th><th scope=col>&lt;chr&gt;</th><th scope=col>&lt;chr&gt;</th><th scope=col>&lt;chr&gt;</th><th scope=col>&lt;chr&gt;</th><th scope=col>&lt;chr&gt;</th><th scope=col>&lt;chr&gt;</th><th scope=col>&lt;chr&gt;</th><th scope=col>&lt;chr&gt;</th><th scope=col>&lt;chr&gt;</th><th scope=col>&lt;chr&gt;</th><th scope=col>&lt;chr&gt;</th><th scope=col>&lt;dbl&gt;</th><th scope=col>&lt;dbl&gt;</th><th scope=col>&lt;chr&gt;</th><th scope=col>&lt;chr&gt;</th><th scope=col>&lt;chr&gt;</th><th scope=col>&lt;int&gt;</th><th scope=col>&lt;chr&gt;</th><th scope=col>&lt;chr&gt;</th><th scope=col>&lt;int&gt;</th><th scope=col>&lt;chr&gt;</th><th scope=col>&lt;int&gt;</th><th scope=col>&lt;int&gt;</th><th scope=col>&lt;int&gt;</th><th scope=col>&lt;int&gt;</th><th scope=col>&lt;int&gt;</th><th scope=col>&lt;int&gt;</th><th scope=col>&lt;dbl&gt;</th><th scope=col>&lt;dbl&gt;</th><th scope=col>&lt;dbl&gt;</th><th scope=col>&lt;int&gt;</th><th scope=col>&lt;int&gt;</th><th scope=col>&lt;int&gt;</th><th scope=col>&lt;int&gt;</th><th scope=col>&lt;int&gt;</th><th scope=col>&lt;int&gt;</th><th scope=col>&lt;dbl&gt;</th><th scope=col>&lt;dbl&gt;</th><th scope=col>&lt;dbl&gt;</th><th scope=col>&lt;dbl&gt;</th></tr>\n",
       "</thead>\n",
       "<tbody>\n",
       "\t<tr><td>100000015</td><td>2013</td><td> 7</td><td>1</td><td>FALSE</td><td>FALSE</td><td> TRUE</td><td>FALSE</td><td>FALSE</td><td> TRUE</td><td>FALSE</td><td>  13</td><td>22</td><td>160</td><td>1</td><td>1</td><td>76</td><td>0</td><td>0</td><td>3</td><td>3</td><td>3</td><td>3</td><td>3</td><td>3</td><td>3</td><td>3</td><td>3</td><td>3</td><td>3</td><td>3</td><td>0</td><td>0</td><td>0</td><td>0</td><td>0</td><td>0</td><td>0</td><td>0</td><td>0</td><td>0</td><td>0</td><td>0</td><td>NA</td><td>NA</td><td>NA</td><td>NA</td><td>NA</td><td>1285600932</td><td>2</td><td>11</td><td>1285600932</td><td>2</td><td>11</td><td> 7</td><td>96</td><td>62</td><td>242</td><td>66</td><td>341</td><td>0.07291667</td><td>0.2561983</td><td>0.19354839</td><td> 7</td><td>96</td><td>62</td><td>242</td><td>66</td><td>341</td><td>0.07291667</td><td>0.2561983</td><td>0.19354839</td><td>1</td></tr>\n",
       "\t<tr><td>100000015</td><td>2014</td><td>10</td><td>1</td><td>FALSE</td><td>FALSE</td><td> TRUE</td><td>FALSE</td><td>FALSE</td><td> TRUE</td><td>FALSE</td><td>  14</td><td>22</td><td>160</td><td>1</td><td>1</td><td>77</td><td>0</td><td>0</td><td>3</td><td>3</td><td>3</td><td>3</td><td>3</td><td>3</td><td>3</td><td>3</td><td>3</td><td>3</td><td>3</td><td>3</td><td>0</td><td>0</td><td>0</td><td>0</td><td>0</td><td>0</td><td>0</td><td>0</td><td>0</td><td>0</td><td>0</td><td>0</td><td>NA</td><td>NA</td><td>NA</td><td>NA</td><td>NA</td><td>1770514119</td><td>4</td><td>11</td><td>1770514119</td><td>4</td><td>11</td><td>16</td><td>16</td><td>22</td><td> 22</td><td>27</td><td> 27</td><td>1.00000000</td><td>1.0000000</td><td>1.00000000</td><td>16</td><td>16</td><td>22</td><td> 22</td><td>27</td><td> 27</td><td>1.00000000</td><td>1.0000000</td><td>1.00000000</td><td>1</td></tr>\n",
       "\t<tr><td>100000015</td><td>2015</td><td> 6</td><td>2</td><td> TRUE</td><td>FALSE</td><td>FALSE</td><td> TRUE</td><td>FALSE</td><td>FALSE</td><td>FALSE</td><td>  15</td><td>22</td><td>160</td><td>1</td><td>1</td><td>78</td><td>0</td><td>0</td><td>3</td><td>3</td><td>3</td><td>3</td><td>3</td><td>3</td><td>3</td><td>3</td><td>3</td><td>3</td><td>3</td><td>3</td><td>0</td><td>0</td><td>0</td><td>0</td><td>0</td><td>0</td><td>0</td><td>0</td><td>0</td><td>0</td><td>0</td><td>0</td><td>NA</td><td>NA</td><td>NA</td><td>NA</td><td>NA</td><td>1770514119</td><td>4</td><td>11</td><td>1770514119</td><td>4</td><td>11</td><td>48</td><td>48</td><td>57</td><td> 57</td><td>57</td><td> 57</td><td>1.00000000</td><td>1.0000000</td><td>1.00000000</td><td>48</td><td>48</td><td>57</td><td> 57</td><td>57</td><td> 57</td><td>1.00000000</td><td>1.0000000</td><td>1.00000000</td><td>1</td></tr>\n",
       "\t<tr><td>100000015</td><td>2016</td><td> 9</td><td>2</td><td> TRUE</td><td>FALSE</td><td> TRUE</td><td> TRUE</td><td>FALSE</td><td>FALSE</td><td> TRUE</td><td>2016</td><td>22</td><td>160</td><td>1</td><td>1</td><td>79</td><td>0</td><td>0</td><td>3</td><td>3</td><td>3</td><td>3</td><td>3</td><td>3</td><td>3</td><td>3</td><td>3</td><td>3</td><td>3</td><td>3</td><td>0</td><td>0</td><td>0</td><td>0</td><td>0</td><td>0</td><td>0</td><td>0</td><td>0</td><td>0</td><td>0</td><td>0</td><td>NA</td><td>NA</td><td>NA</td><td>NA</td><td>NA</td><td>1730170630</td><td>4</td><td>06</td><td>1730170630</td><td>4</td><td>11</td><td> 0</td><td>21</td><td> 0</td><td> 21</td><td> 4</td><td> 41</td><td>0.00000000</td><td>0.0000000</td><td>0.09756098</td><td> 0</td><td>21</td><td> 0</td><td> 21</td><td> 4</td><td> 41</td><td>0.00000000</td><td>0.0000000</td><td>0.09756098</td><td>1</td></tr>\n",
       "\t<tr><td>100000015</td><td>2017</td><td>14</td><td>3</td><td>FALSE</td><td>FALSE</td><td> TRUE</td><td> TRUE</td><td>FALSE</td><td>FALSE</td><td> TRUE</td><td>2017</td><td>22</td><td>160</td><td>1</td><td>1</td><td>80</td><td>0</td><td>0</td><td>3</td><td>3</td><td>3</td><td>3</td><td>3</td><td>3</td><td>3</td><td>3</td><td>3</td><td>3</td><td>3</td><td>3</td><td>0</td><td>0</td><td>0</td><td>0</td><td>0</td><td>0</td><td>0</td><td>0</td><td>0</td><td>0</td><td>0</td><td>0</td><td>NA</td><td>NA</td><td>NA</td><td>NA</td><td>NA</td><td>1043207350</td><td>3</td><td>11</td><td>1043207350</td><td>3</td><td>11</td><td>58</td><td>58</td><td>68</td><td> 68</td><td>69</td><td> 69</td><td>1.00000000</td><td>1.0000000</td><td>1.00000000</td><td>58</td><td>58</td><td>68</td><td> 68</td><td>69</td><td> 69</td><td>1.00000000</td><td>1.0000000</td><td>1.00000000</td><td>1</td></tr>\n",
       "\t<tr><td>100000015</td><td>2018</td><td>16</td><td>2</td><td>FALSE</td><td>FALSE</td><td> TRUE</td><td> TRUE</td><td>FALSE</td><td>FALSE</td><td> TRUE</td><td>2018</td><td>22</td><td>160</td><td>1</td><td>1</td><td>81</td><td>0</td><td>0</td><td>3</td><td>3</td><td>3</td><td>3</td><td>3</td><td>3</td><td>3</td><td>3</td><td>3</td><td>3</td><td>3</td><td>3</td><td>0</td><td>0</td><td>0</td><td>0</td><td>0</td><td>0</td><td>0</td><td>0</td><td>0</td><td>0</td><td>0</td><td>0</td><td>NA</td><td>NA</td><td>NA</td><td>NA</td><td>NA</td><td>1043207350</td><td>2</td><td>11</td><td>1043207350</td><td>2</td><td>11</td><td>52</td><td>52</td><td>62</td><td> 62</td><td>62</td><td> 62</td><td>1.00000000</td><td>1.0000000</td><td>1.00000000</td><td>52</td><td>52</td><td>62</td><td> 62</td><td>62</td><td> 62</td><td>1.00000000</td><td>1.0000000</td><td>1.00000000</td><td>1</td></tr>\n",
       "</tbody>\n",
       "</table>\n"
      ],
      "text/latex": [
       "A data.table: 6 × 73\n",
       "\\begin{tabular}{lllllllllllllllllllllllllllllllllllllllllllllllllllllllllllllllllllllllll}\n",
       " DESY\\_SORT\\_KEY & year & distinct\\_clinicians & distinct\\_primary\\_care\\_physicians & hypertension & arthritis & IHD & diabetes & depression & icd\\_9\\_pure & icd\\_10\\_pure & REFERENCE\\_YEAR & STATE\\_CODE & COUNTY\\_CODE & SEX\\_CODE & RACE\\_CODE & AGE & ORIG\\_REASON\\_FOR\\_ENTITLEMENT & CURR\\_REASON\\_FOR\\_ENTITLEMENT & ENTITLEMENT\\_BUY\\_IN\\_IND01 & ENTITLEMENT\\_BUY\\_IN\\_IND02 & ENTITLEMENT\\_BUY\\_IN\\_IND03 & ENTITLEMENT\\_BUY\\_IN\\_IND04 & ENTITLEMENT\\_BUY\\_IN\\_IND05 & ENTITLEMENT\\_BUY\\_IN\\_IND06 & ENTITLEMENT\\_BUY\\_IN\\_IND07 & ENTITLEMENT\\_BUY\\_IN\\_IND08 & ENTITLEMENT\\_BUY\\_IN\\_IND09 & ENTITLEMENT\\_BUY\\_IN\\_IND10 & ENTITLEMENT\\_BUY\\_IN\\_IND11 & ENTITLEMENT\\_BUY\\_IN\\_IND12 & HMO\\_INDICATOR01 & HMO\\_INDICATOR02 & HMO\\_INDICATOR03 & HMO\\_INDICATOR04 & HMO\\_INDICATOR05 & HMO\\_INDICATOR06 & HMO\\_INDICATOR07 & HMO\\_INDICATOR08 & HMO\\_INDICATOR09 & HMO\\_INDICATOR10 & HMO\\_INDICATOR11 & HMO\\_INDICATOR12 & VALID\\_DATE\\_OF\\_DEATH\\_SWITCH & DATE\\_OF\\_DEATH & date\\_died & date\\_died\\_valid & year\\_of\\_death & most\\_common\\_physician\\_PRF\\_PHYSN\\_NPI & most\\_common\\_physician\\_n & most\\_common\\_physician\\_PRVDR\\_SPCLTY & most\\_common\\_primary\\_care\\_physician\\_PRF\\_PHYSN\\_NPI & most\\_common\\_primary\\_care\\_physician\\_n & most\\_common\\_primary\\_care\\_physician\\_PRVDR\\_SPCLTY & most\\_common\\_physician\\_in\\_facility\\_visits\\_count & most\\_common\\_physician\\_in\\_all\\_visits\\_count & most\\_common\\_physician\\_in\\_facility\\_non\\_exclusive\\_HCPCS\\_count & most\\_common\\_physician\\_in\\_all\\_non\\_exclusive\\_HCPCS\\_count & most\\_common\\_physician\\_in\\_facility\\_count & most\\_common\\_physician\\_in\\_all\\_count & most\\_common\\_physician\\_in\\_facility\\_visits\\_prp & most\\_common\\_physician\\_in\\_facility\\_non\\_exclusive\\_HCPCS\\_prp & most\\_common\\_physician\\_in\\_facility\\_prp & most\\_common\\_primary\\_care\\_physician\\_in\\_facility\\_visits\\_count & most\\_common\\_primary\\_care\\_physician\\_in\\_all\\_visits\\_count & most\\_common\\_primary\\_care\\_physician\\_in\\_facility\\_non\\_exclusive\\_HCPCS\\_count & most\\_common\\_primary\\_care\\_physician\\_in\\_all\\_non\\_exclusive\\_HCPCS\\_count & most\\_common\\_primary\\_care\\_physician\\_in\\_facility\\_count & most\\_common\\_primary\\_care\\_physician\\_in\\_all\\_count & most\\_common\\_primary\\_care\\_physician\\_in\\_facility\\_visits\\_prp & most\\_common\\_primary\\_care\\_physician\\_in\\_facility\\_non\\_exclusive\\_HCPCS\\_prp & most\\_common\\_primary\\_care\\_physician\\_in\\_facility\\_prp & RUCC\\_2013\\\\\n",
       " <int> & <dbl> & <int> & <int> & <lgl> & <lgl> & <lgl> & <lgl> & <lgl> & <lgl> & <lgl> & <dbl> & <chr> & <chr> & <dbl> & <dbl> & <dbl> & <dbl> & <dbl> & <chr> & <chr> & <chr> & <chr> & <chr> & <chr> & <chr> & <chr> & <chr> & <chr> & <chr> & <chr> & <chr> & <chr> & <chr> & <chr> & <chr> & <chr> & <chr> & <chr> & <chr> & <chr> & <chr> & <chr> & <chr> & <dbl> & <dbl> & <chr> & <chr> & <chr> & <int> & <chr> & <chr> & <int> & <chr> & <int> & <int> & <int> & <int> & <int> & <int> & <dbl> & <dbl> & <dbl> & <int> & <int> & <int> & <int> & <int> & <int> & <dbl> & <dbl> & <dbl> & <dbl>\\\\\n",
       "\\hline\n",
       "\t 100000015 & 2013 &  7 & 1 & FALSE & FALSE &  TRUE & FALSE & FALSE &  TRUE & FALSE &   13 & 22 & 160 & 1 & 1 & 76 & 0 & 0 & 3 & 3 & 3 & 3 & 3 & 3 & 3 & 3 & 3 & 3 & 3 & 3 & 0 & 0 & 0 & 0 & 0 & 0 & 0 & 0 & 0 & 0 & 0 & 0 & NA & NA & NA & NA & NA & 1285600932 & 2 & 11 & 1285600932 & 2 & 11 &  7 & 96 & 62 & 242 & 66 & 341 & 0.07291667 & 0.2561983 & 0.19354839 &  7 & 96 & 62 & 242 & 66 & 341 & 0.07291667 & 0.2561983 & 0.19354839 & 1\\\\\n",
       "\t 100000015 & 2014 & 10 & 1 & FALSE & FALSE &  TRUE & FALSE & FALSE &  TRUE & FALSE &   14 & 22 & 160 & 1 & 1 & 77 & 0 & 0 & 3 & 3 & 3 & 3 & 3 & 3 & 3 & 3 & 3 & 3 & 3 & 3 & 0 & 0 & 0 & 0 & 0 & 0 & 0 & 0 & 0 & 0 & 0 & 0 & NA & NA & NA & NA & NA & 1770514119 & 4 & 11 & 1770514119 & 4 & 11 & 16 & 16 & 22 &  22 & 27 &  27 & 1.00000000 & 1.0000000 & 1.00000000 & 16 & 16 & 22 &  22 & 27 &  27 & 1.00000000 & 1.0000000 & 1.00000000 & 1\\\\\n",
       "\t 100000015 & 2015 &  6 & 2 &  TRUE & FALSE & FALSE &  TRUE & FALSE & FALSE & FALSE &   15 & 22 & 160 & 1 & 1 & 78 & 0 & 0 & 3 & 3 & 3 & 3 & 3 & 3 & 3 & 3 & 3 & 3 & 3 & 3 & 0 & 0 & 0 & 0 & 0 & 0 & 0 & 0 & 0 & 0 & 0 & 0 & NA & NA & NA & NA & NA & 1770514119 & 4 & 11 & 1770514119 & 4 & 11 & 48 & 48 & 57 &  57 & 57 &  57 & 1.00000000 & 1.0000000 & 1.00000000 & 48 & 48 & 57 &  57 & 57 &  57 & 1.00000000 & 1.0000000 & 1.00000000 & 1\\\\\n",
       "\t 100000015 & 2016 &  9 & 2 &  TRUE & FALSE &  TRUE &  TRUE & FALSE & FALSE &  TRUE & 2016 & 22 & 160 & 1 & 1 & 79 & 0 & 0 & 3 & 3 & 3 & 3 & 3 & 3 & 3 & 3 & 3 & 3 & 3 & 3 & 0 & 0 & 0 & 0 & 0 & 0 & 0 & 0 & 0 & 0 & 0 & 0 & NA & NA & NA & NA & NA & 1730170630 & 4 & 06 & 1730170630 & 4 & 11 &  0 & 21 &  0 &  21 &  4 &  41 & 0.00000000 & 0.0000000 & 0.09756098 &  0 & 21 &  0 &  21 &  4 &  41 & 0.00000000 & 0.0000000 & 0.09756098 & 1\\\\\n",
       "\t 100000015 & 2017 & 14 & 3 & FALSE & FALSE &  TRUE &  TRUE & FALSE & FALSE &  TRUE & 2017 & 22 & 160 & 1 & 1 & 80 & 0 & 0 & 3 & 3 & 3 & 3 & 3 & 3 & 3 & 3 & 3 & 3 & 3 & 3 & 0 & 0 & 0 & 0 & 0 & 0 & 0 & 0 & 0 & 0 & 0 & 0 & NA & NA & NA & NA & NA & 1043207350 & 3 & 11 & 1043207350 & 3 & 11 & 58 & 58 & 68 &  68 & 69 &  69 & 1.00000000 & 1.0000000 & 1.00000000 & 58 & 58 & 68 &  68 & 69 &  69 & 1.00000000 & 1.0000000 & 1.00000000 & 1\\\\\n",
       "\t 100000015 & 2018 & 16 & 2 & FALSE & FALSE &  TRUE &  TRUE & FALSE & FALSE &  TRUE & 2018 & 22 & 160 & 1 & 1 & 81 & 0 & 0 & 3 & 3 & 3 & 3 & 3 & 3 & 3 & 3 & 3 & 3 & 3 & 3 & 0 & 0 & 0 & 0 & 0 & 0 & 0 & 0 & 0 & 0 & 0 & 0 & NA & NA & NA & NA & NA & 1043207350 & 2 & 11 & 1043207350 & 2 & 11 & 52 & 52 & 62 &  62 & 62 &  62 & 1.00000000 & 1.0000000 & 1.00000000 & 52 & 52 & 62 &  62 & 62 &  62 & 1.00000000 & 1.0000000 & 1.00000000 & 1\\\\\n",
       "\\end{tabular}\n"
      ],
      "text/markdown": [
       "\n",
       "A data.table: 6 × 73\n",
       "\n",
       "| DESY_SORT_KEY &lt;int&gt; | year &lt;dbl&gt; | distinct_clinicians &lt;int&gt; | distinct_primary_care_physicians &lt;int&gt; | hypertension &lt;lgl&gt; | arthritis &lt;lgl&gt; | IHD &lt;lgl&gt; | diabetes &lt;lgl&gt; | depression &lt;lgl&gt; | icd_9_pure &lt;lgl&gt; | icd_10_pure &lt;lgl&gt; | REFERENCE_YEAR &lt;dbl&gt; | STATE_CODE &lt;chr&gt; | COUNTY_CODE &lt;chr&gt; | SEX_CODE &lt;dbl&gt; | RACE_CODE &lt;dbl&gt; | AGE &lt;dbl&gt; | ORIG_REASON_FOR_ENTITLEMENT &lt;dbl&gt; | CURR_REASON_FOR_ENTITLEMENT &lt;dbl&gt; | ENTITLEMENT_BUY_IN_IND01 &lt;chr&gt; | ENTITLEMENT_BUY_IN_IND02 &lt;chr&gt; | ENTITLEMENT_BUY_IN_IND03 &lt;chr&gt; | ENTITLEMENT_BUY_IN_IND04 &lt;chr&gt; | ENTITLEMENT_BUY_IN_IND05 &lt;chr&gt; | ENTITLEMENT_BUY_IN_IND06 &lt;chr&gt; | ENTITLEMENT_BUY_IN_IND07 &lt;chr&gt; | ENTITLEMENT_BUY_IN_IND08 &lt;chr&gt; | ENTITLEMENT_BUY_IN_IND09 &lt;chr&gt; | ENTITLEMENT_BUY_IN_IND10 &lt;chr&gt; | ENTITLEMENT_BUY_IN_IND11 &lt;chr&gt; | ENTITLEMENT_BUY_IN_IND12 &lt;chr&gt; | HMO_INDICATOR01 &lt;chr&gt; | HMO_INDICATOR02 &lt;chr&gt; | HMO_INDICATOR03 &lt;chr&gt; | HMO_INDICATOR04 &lt;chr&gt; | HMO_INDICATOR05 &lt;chr&gt; | HMO_INDICATOR06 &lt;chr&gt; | HMO_INDICATOR07 &lt;chr&gt; | HMO_INDICATOR08 &lt;chr&gt; | HMO_INDICATOR09 &lt;chr&gt; | HMO_INDICATOR10 &lt;chr&gt; | HMO_INDICATOR11 &lt;chr&gt; | HMO_INDICATOR12 &lt;chr&gt; | VALID_DATE_OF_DEATH_SWITCH &lt;chr&gt; | DATE_OF_DEATH &lt;dbl&gt; | date_died &lt;dbl&gt; | date_died_valid &lt;chr&gt; | year_of_death &lt;chr&gt; | most_common_physician_PRF_PHYSN_NPI &lt;chr&gt; | most_common_physician_n &lt;int&gt; | most_common_physician_PRVDR_SPCLTY &lt;chr&gt; | most_common_primary_care_physician_PRF_PHYSN_NPI &lt;chr&gt; | most_common_primary_care_physician_n &lt;int&gt; | most_common_primary_care_physician_PRVDR_SPCLTY &lt;chr&gt; | most_common_physician_in_facility_visits_count &lt;int&gt; | most_common_physician_in_all_visits_count &lt;int&gt; | most_common_physician_in_facility_non_exclusive_HCPCS_count &lt;int&gt; | most_common_physician_in_all_non_exclusive_HCPCS_count &lt;int&gt; | most_common_physician_in_facility_count &lt;int&gt; | most_common_physician_in_all_count &lt;int&gt; | most_common_physician_in_facility_visits_prp &lt;dbl&gt; | most_common_physician_in_facility_non_exclusive_HCPCS_prp &lt;dbl&gt; | most_common_physician_in_facility_prp &lt;dbl&gt; | most_common_primary_care_physician_in_facility_visits_count &lt;int&gt; | most_common_primary_care_physician_in_all_visits_count &lt;int&gt; | most_common_primary_care_physician_in_facility_non_exclusive_HCPCS_count &lt;int&gt; | most_common_primary_care_physician_in_all_non_exclusive_HCPCS_count &lt;int&gt; | most_common_primary_care_physician_in_facility_count &lt;int&gt; | most_common_primary_care_physician_in_all_count &lt;int&gt; | most_common_primary_care_physician_in_facility_visits_prp &lt;dbl&gt; | most_common_primary_care_physician_in_facility_non_exclusive_HCPCS_prp &lt;dbl&gt; | most_common_primary_care_physician_in_facility_prp &lt;dbl&gt; | RUCC_2013 &lt;dbl&gt; |\n",
       "|---|---|---|---|---|---|---|---|---|---|---|---|---|---|---|---|---|---|---|---|---|---|---|---|---|---|---|---|---|---|---|---|---|---|---|---|---|---|---|---|---|---|---|---|---|---|---|---|---|---|---|---|---|---|---|---|---|---|---|---|---|---|---|---|---|---|---|---|---|---|---|---|---|\n",
       "| 100000015 | 2013 |  7 | 1 | FALSE | FALSE |  TRUE | FALSE | FALSE |  TRUE | FALSE |   13 | 22 | 160 | 1 | 1 | 76 | 0 | 0 | 3 | 3 | 3 | 3 | 3 | 3 | 3 | 3 | 3 | 3 | 3 | 3 | 0 | 0 | 0 | 0 | 0 | 0 | 0 | 0 | 0 | 0 | 0 | 0 | NA | NA | NA | NA | NA | 1285600932 | 2 | 11 | 1285600932 | 2 | 11 |  7 | 96 | 62 | 242 | 66 | 341 | 0.07291667 | 0.2561983 | 0.19354839 |  7 | 96 | 62 | 242 | 66 | 341 | 0.07291667 | 0.2561983 | 0.19354839 | 1 |\n",
       "| 100000015 | 2014 | 10 | 1 | FALSE | FALSE |  TRUE | FALSE | FALSE |  TRUE | FALSE |   14 | 22 | 160 | 1 | 1 | 77 | 0 | 0 | 3 | 3 | 3 | 3 | 3 | 3 | 3 | 3 | 3 | 3 | 3 | 3 | 0 | 0 | 0 | 0 | 0 | 0 | 0 | 0 | 0 | 0 | 0 | 0 | NA | NA | NA | NA | NA | 1770514119 | 4 | 11 | 1770514119 | 4 | 11 | 16 | 16 | 22 |  22 | 27 |  27 | 1.00000000 | 1.0000000 | 1.00000000 | 16 | 16 | 22 |  22 | 27 |  27 | 1.00000000 | 1.0000000 | 1.00000000 | 1 |\n",
       "| 100000015 | 2015 |  6 | 2 |  TRUE | FALSE | FALSE |  TRUE | FALSE | FALSE | FALSE |   15 | 22 | 160 | 1 | 1 | 78 | 0 | 0 | 3 | 3 | 3 | 3 | 3 | 3 | 3 | 3 | 3 | 3 | 3 | 3 | 0 | 0 | 0 | 0 | 0 | 0 | 0 | 0 | 0 | 0 | 0 | 0 | NA | NA | NA | NA | NA | 1770514119 | 4 | 11 | 1770514119 | 4 | 11 | 48 | 48 | 57 |  57 | 57 |  57 | 1.00000000 | 1.0000000 | 1.00000000 | 48 | 48 | 57 |  57 | 57 |  57 | 1.00000000 | 1.0000000 | 1.00000000 | 1 |\n",
       "| 100000015 | 2016 |  9 | 2 |  TRUE | FALSE |  TRUE |  TRUE | FALSE | FALSE |  TRUE | 2016 | 22 | 160 | 1 | 1 | 79 | 0 | 0 | 3 | 3 | 3 | 3 | 3 | 3 | 3 | 3 | 3 | 3 | 3 | 3 | 0 | 0 | 0 | 0 | 0 | 0 | 0 | 0 | 0 | 0 | 0 | 0 | NA | NA | NA | NA | NA | 1730170630 | 4 | 06 | 1730170630 | 4 | 11 |  0 | 21 |  0 |  21 |  4 |  41 | 0.00000000 | 0.0000000 | 0.09756098 |  0 | 21 |  0 |  21 |  4 |  41 | 0.00000000 | 0.0000000 | 0.09756098 | 1 |\n",
       "| 100000015 | 2017 | 14 | 3 | FALSE | FALSE |  TRUE |  TRUE | FALSE | FALSE |  TRUE | 2017 | 22 | 160 | 1 | 1 | 80 | 0 | 0 | 3 | 3 | 3 | 3 | 3 | 3 | 3 | 3 | 3 | 3 | 3 | 3 | 0 | 0 | 0 | 0 | 0 | 0 | 0 | 0 | 0 | 0 | 0 | 0 | NA | NA | NA | NA | NA | 1043207350 | 3 | 11 | 1043207350 | 3 | 11 | 58 | 58 | 68 |  68 | 69 |  69 | 1.00000000 | 1.0000000 | 1.00000000 | 58 | 58 | 68 |  68 | 69 |  69 | 1.00000000 | 1.0000000 | 1.00000000 | 1 |\n",
       "| 100000015 | 2018 | 16 | 2 | FALSE | FALSE |  TRUE |  TRUE | FALSE | FALSE |  TRUE | 2018 | 22 | 160 | 1 | 1 | 81 | 0 | 0 | 3 | 3 | 3 | 3 | 3 | 3 | 3 | 3 | 3 | 3 | 3 | 3 | 0 | 0 | 0 | 0 | 0 | 0 | 0 | 0 | 0 | 0 | 0 | 0 | NA | NA | NA | NA | NA | 1043207350 | 2 | 11 | 1043207350 | 2 | 11 | 52 | 52 | 62 |  62 | 62 |  62 | 1.00000000 | 1.0000000 | 1.00000000 | 52 | 52 | 62 |  62 | 62 |  62 | 1.00000000 | 1.0000000 | 1.00000000 | 1 |\n",
       "\n"
      ],
      "text/plain": [
       "  DESY_SORT_KEY year distinct_clinicians distinct_primary_care_physicians hypertension arthritis IHD   diabetes depression icd_9_pure icd_10_pure REFERENCE_YEAR STATE_CODE COUNTY_CODE SEX_CODE RACE_CODE AGE ORIG_REASON_FOR_ENTITLEMENT CURR_REASON_FOR_ENTITLEMENT ENTITLEMENT_BUY_IN_IND01\n",
       "1 100000015     2013  7                  1                                FALSE        FALSE      TRUE FALSE    FALSE       TRUE      FALSE         13           22         160         1        1         76  0                           0                           3                       \n",
       "2 100000015     2014 10                  1                                FALSE        FALSE      TRUE FALSE    FALSE       TRUE      FALSE         14           22         160         1        1         77  0                           0                           3                       \n",
       "3 100000015     2015  6                  2                                 TRUE        FALSE     FALSE  TRUE    FALSE      FALSE      FALSE         15           22         160         1        1         78  0                           0                           3                       \n",
       "4 100000015     2016  9                  2                                 TRUE        FALSE      TRUE  TRUE    FALSE      FALSE       TRUE       2016           22         160         1        1         79  0                           0                           3                       \n",
       "5 100000015     2017 14                  3                                FALSE        FALSE      TRUE  TRUE    FALSE      FALSE       TRUE       2017           22         160         1        1         80  0                           0                           3                       \n",
       "6 100000015     2018 16                  2                                FALSE        FALSE      TRUE  TRUE    FALSE      FALSE       TRUE       2018           22         160         1        1         81  0                           0                           3                       \n",
       "  ENTITLEMENT_BUY_IN_IND02 ENTITLEMENT_BUY_IN_IND03 ENTITLEMENT_BUY_IN_IND04 ENTITLEMENT_BUY_IN_IND05 ENTITLEMENT_BUY_IN_IND06 ENTITLEMENT_BUY_IN_IND07 ENTITLEMENT_BUY_IN_IND08 ENTITLEMENT_BUY_IN_IND09 ENTITLEMENT_BUY_IN_IND10 ENTITLEMENT_BUY_IN_IND11 ENTITLEMENT_BUY_IN_IND12 HMO_INDICATOR01\n",
       "1 3                        3                        3                        3                        3                        3                        3                        3                        3                        3                        3                        0              \n",
       "2 3                        3                        3                        3                        3                        3                        3                        3                        3                        3                        3                        0              \n",
       "3 3                        3                        3                        3                        3                        3                        3                        3                        3                        3                        3                        0              \n",
       "4 3                        3                        3                        3                        3                        3                        3                        3                        3                        3                        3                        0              \n",
       "5 3                        3                        3                        3                        3                        3                        3                        3                        3                        3                        3                        0              \n",
       "6 3                        3                        3                        3                        3                        3                        3                        3                        3                        3                        3                        0              \n",
       "  HMO_INDICATOR02 HMO_INDICATOR03 HMO_INDICATOR04 HMO_INDICATOR05 HMO_INDICATOR06 HMO_INDICATOR07 HMO_INDICATOR08 HMO_INDICATOR09 HMO_INDICATOR10 HMO_INDICATOR11 HMO_INDICATOR12 VALID_DATE_OF_DEATH_SWITCH DATE_OF_DEATH date_died date_died_valid year_of_death most_common_physician_PRF_PHYSN_NPI\n",
       "1 0               0               0               0               0               0               0               0               0               0               0               NA                         NA            NA        NA              NA            1285600932                         \n",
       "2 0               0               0               0               0               0               0               0               0               0               0               NA                         NA            NA        NA              NA            1770514119                         \n",
       "3 0               0               0               0               0               0               0               0               0               0               0               NA                         NA            NA        NA              NA            1770514119                         \n",
       "4 0               0               0               0               0               0               0               0               0               0               0               NA                         NA            NA        NA              NA            1730170630                         \n",
       "5 0               0               0               0               0               0               0               0               0               0               0               NA                         NA            NA        NA              NA            1043207350                         \n",
       "6 0               0               0               0               0               0               0               0               0               0               0               NA                         NA            NA        NA              NA            1043207350                         \n",
       "  most_common_physician_n most_common_physician_PRVDR_SPCLTY most_common_primary_care_physician_PRF_PHYSN_NPI most_common_primary_care_physician_n most_common_primary_care_physician_PRVDR_SPCLTY most_common_physician_in_facility_visits_count most_common_physician_in_all_visits_count\n",
       "1 2                       11                                 1285600932                                       2                                    11                                               7                                             96                                       \n",
       "2 4                       11                                 1770514119                                       4                                    11                                              16                                             16                                       \n",
       "3 4                       11                                 1770514119                                       4                                    11                                              48                                             48                                       \n",
       "4 4                       06                                 1730170630                                       4                                    11                                               0                                             21                                       \n",
       "5 3                       11                                 1043207350                                       3                                    11                                              58                                             58                                       \n",
       "6 2                       11                                 1043207350                                       2                                    11                                              52                                             52                                       \n",
       "  most_common_physician_in_facility_non_exclusive_HCPCS_count most_common_physician_in_all_non_exclusive_HCPCS_count most_common_physician_in_facility_count most_common_physician_in_all_count most_common_physician_in_facility_visits_prp most_common_physician_in_facility_non_exclusive_HCPCS_prp\n",
       "1 62                                                          242                                                    66                                      341                                0.07291667                                   0.2561983                                                \n",
       "2 22                                                           22                                                    27                                       27                                1.00000000                                   1.0000000                                                \n",
       "3 57                                                           57                                                    57                                       57                                1.00000000                                   1.0000000                                                \n",
       "4  0                                                           21                                                     4                                       41                                0.00000000                                   0.0000000                                                \n",
       "5 68                                                           68                                                    69                                       69                                1.00000000                                   1.0000000                                                \n",
       "6 62                                                           62                                                    62                                       62                                1.00000000                                   1.0000000                                                \n",
       "  most_common_physician_in_facility_prp most_common_primary_care_physician_in_facility_visits_count most_common_primary_care_physician_in_all_visits_count most_common_primary_care_physician_in_facility_non_exclusive_HCPCS_count most_common_primary_care_physician_in_all_non_exclusive_HCPCS_count\n",
       "1 0.19354839                             7                                                          96                                                     62                                                                       242                                                                \n",
       "2 1.00000000                            16                                                          16                                                     22                                                                        22                                                                \n",
       "3 1.00000000                            48                                                          48                                                     57                                                                        57                                                                \n",
       "4 0.09756098                             0                                                          21                                                      0                                                                        21                                                                \n",
       "5 1.00000000                            58                                                          58                                                     68                                                                        68                                                                \n",
       "6 1.00000000                            52                                                          52                                                     62                                                                        62                                                                \n",
       "  most_common_primary_care_physician_in_facility_count most_common_primary_care_physician_in_all_count most_common_primary_care_physician_in_facility_visits_prp most_common_primary_care_physician_in_facility_non_exclusive_HCPCS_prp most_common_primary_care_physician_in_facility_prp RUCC_2013\n",
       "1 66                                                   341                                             0.07291667                                                0.2561983                                                              0.19354839                                         1        \n",
       "2 27                                                    27                                             1.00000000                                                1.0000000                                                              1.00000000                                         1        \n",
       "3 57                                                    57                                             1.00000000                                                1.0000000                                                              1.00000000                                         1        \n",
       "4  4                                                    41                                             0.00000000                                                0.0000000                                                              0.09756098                                         1        \n",
       "5 69                                                    69                                             1.00000000                                                1.0000000                                                              1.00000000                                         1        \n",
       "6 62                                                    62                                             1.00000000                                                1.0000000                                                              1.00000000                                         1        "
      ]
     },
     "metadata": {},
     "output_type": "display_data"
    }
   ],
   "source": [
    "yearly_calculations[, SSACD := as.integer(paste(STATE_CODE, COUNTY_CODE, sep = \"\"))]\n",
    "yearly_calculations <- left_join(yearly_calculations, cross_walk_rural_urban, by = \"SSACD\") %>%\n",
    "  mutate(FIPS.County.Code = as.character(FIPS.County.Code)) %>%\n",
    "  left_join(., rural_urban_data, by = c(\"FIPS.County.Code\" = \"FIPS\")) %>%\n",
    "  as.data.table()\n",
    "yearly_calculations[, c(\"SSACD\", \"County.Name\", \"State.x\", \"FIPS.County.Code\", \"CBSA\", \"CBSA.Name\", \"State.y\", \"County_Name\", \"Population_2010\", \"Description\") := NULL]\n",
    "head(yearly_calculations)\n",
    "\n",
    "\n",
    "# STATE_CODE\tCOUNTY_CODE\tSEX_CODE\tRACE_CODE"
   ]
  },
  {
   "cell_type": "markdown",
   "id": "ac4075a8-4878-4b70-8134-8faed1f39495",
   "metadata": {
    "tags": []
   },
   "source": [
    "## Adding sex, race, and state names from codes"
   ]
  },
  {
   "cell_type": "code",
   "execution_count": 13,
   "id": "fc5aaa54-746a-4fdc-b012-c3415e6c511f",
   "metadata": {},
   "outputs": [],
   "source": [
    "add_personal_details <- function(data) {\n",
    "  require(tidyverse)\n",
    "  require(dtplyr)\n",
    "  require(lubridate)\n",
    "\n",
    "  result <- data %>%\n",
    "    # left_join(.,census_and_state_codes[,-1],by=c(\"STATE_CODE\"=\"state_code\"))%>%\n",
    "    left_join(., race_codes, by = c(\"RACE_CODE\" = \"race_code\")) %>%\n",
    "    left_join(., sex_codes, by = c(\"SEX_CODE\" = \"sex_code\")) %>%\n",
    "    mutate(\n",
    "      age_group = case_when(\n",
    "        AGE < 75 & AGE > 64 ~ \"65-74\",\n",
    "        AGE > 74 & AGE < 85 ~ \"75-84\",\n",
    "        AGE > 84 ~ \"85+\"\n",
    "      ),\n",
    "      urban = (RUCC_2013 <= 3)\n",
    "    ) %>%\n",
    "    as.data.table()\n",
    "\n",
    "  return(result)\n",
    "}\n",
    "\n",
    "# STATE_CODE\tCOUNTY_CODE\tSEX_CODE\tRACE_CODE"
   ]
  },
  {
   "cell_type": "code",
   "execution_count": 14,
   "id": "429c1510-8ea8-4e76-b13f-614cd4d0f703",
   "metadata": {},
   "outputs": [
    {
     "name": "stderr",
     "output_type": "stream",
     "text": [
      "Loading required package: lubridate\n",
      "\n",
      "\n",
      "Attaching package: ‘lubridate’\n",
      "\n",
      "\n",
      "The following object is masked from ‘package:reshape’:\n",
      "\n",
      "    stamp\n",
      "\n",
      "\n",
      "The following objects are masked from ‘package:data.table’:\n",
      "\n",
      "    hour, isoweek, mday, minute, month, quarter, second, wday, week, yday, year\n",
      "\n",
      "\n",
      "The following objects are masked from ‘package:base’:\n",
      "\n",
      "    date, intersect, setdiff, union\n",
      "\n",
      "\n"
     ]
    }
   ],
   "source": [
    "yearly_calculations <- add_personal_details(yearly_calculations)"
   ]
  },
  {
   "cell_type": "markdown",
   "id": "fbcf7a3c-c808-4772-9da9-25b8cba21300",
   "metadata": {},
   "source": [
    "## Adding HMO indicator and buy in sums"
   ]
  },
  {
   "cell_type": "code",
   "execution_count": 15,
   "id": "ad4f3232-7b2c-40f4-9a12-de873f995854",
   "metadata": {},
   "outputs": [],
   "source": [
    "yearly_calculations[, HMO_INDICATOR_sum := sum(\n",
    "  HMO_INDICATOR01 == 0,\n",
    "  HMO_INDICATOR02 == 0,\n",
    "  HMO_INDICATOR03 == 0,\n",
    "  HMO_INDICATOR04 == 0,\n",
    "  HMO_INDICATOR05 == 0,\n",
    "  HMO_INDICATOR06 == 0,\n",
    "  HMO_INDICATOR07 == 0,\n",
    "  HMO_INDICATOR08 == 0,\n",
    "  HMO_INDICATOR09 == 0,\n",
    "  HMO_INDICATOR10 == 0,\n",
    "  HMO_INDICATOR11 == 0,\n",
    "  HMO_INDICATOR12 == 0,\n",
    "  na.rm = T\n",
    "), by = 1:nrow(yearly_calculations)]\n",
    "\n",
    "yearly_calculations[, ENTITLEMENT_BUY_IN_IND_sum := sum(\n",
    "  ENTITLEMENT_BUY_IN_IND01 %in% c(\"3\", \"C\"),\n",
    "  ENTITLEMENT_BUY_IN_IND02 %in% c(\"3\", \"C\"),\n",
    "  ENTITLEMENT_BUY_IN_IND03 %in% c(\"3\", \"C\"),\n",
    "  ENTITLEMENT_BUY_IN_IND04 %in% c(\"3\", \"C\"),\n",
    "  ENTITLEMENT_BUY_IN_IND05 %in% c(\"3\", \"C\"),\n",
    "  ENTITLEMENT_BUY_IN_IND06 %in% c(\"3\", \"C\"),\n",
    "  ENTITLEMENT_BUY_IN_IND07 %in% c(\"3\", \"C\"),\n",
    "  ENTITLEMENT_BUY_IN_IND08 %in% c(\"3\", \"C\"),\n",
    "  ENTITLEMENT_BUY_IN_IND09 %in% c(\"3\", \"C\"),\n",
    "  ENTITLEMENT_BUY_IN_IND10 %in% c(\"3\", \"C\"),\n",
    "  ENTITLEMENT_BUY_IN_IND11 %in% c(\"3\", \"C\"),\n",
    "  ENTITLEMENT_BUY_IN_IND12 %in% c(\"3\", \"C\"),\n",
    "  na.rm = T\n",
    "), by = 1:nrow(yearly_calculations)]"
   ]
  },
  {
   "cell_type": "markdown",
   "id": "83ed2c86-9dd4-4424-952f-72b17e6331fd",
   "metadata": {},
   "source": [
    "## Adding months alive within the year of death"
   ]
  },
  {
   "cell_type": "code",
   "execution_count": 16,
   "id": "2d04cc6f-c2b5-46eb-9c02-9ef567a006ca",
   "metadata": {},
   "outputs": [],
   "source": [
    "yearly_calculations[, months_alive := as.numeric(substr(DATE_OF_DEATH, 5, 6))]"
   ]
  },
  {
   "cell_type": "markdown",
   "id": "d0007ea2-d788-4ee8-8061-853e297740e9",
   "metadata": {},
   "source": [
    "## Filtering the data for analysis"
   ]
  },
  {
   "cell_type": "code",
   "execution_count": 17,
   "id": "4dc8ef0e-1b4c-49d0-826d-ffd9a60dfabd",
   "metadata": {},
   "outputs": [
    {
     "data": {
      "text/html": [
       "14342911"
      ],
      "text/latex": [
       "14342911"
      ],
      "text/markdown": [
       "14342911"
      ],
      "text/plain": [
       "[1] 14342911"
      ]
     },
     "metadata": {},
     "output_type": "display_data"
    }
   ],
   "source": [
    "length(yearly_calculations$DESY_SORT_KEY)"
   ]
  },
  {
   "cell_type": "code",
   "execution_count": 18,
   "id": "f47725d4-9768-4bd8-8be8-fd8b81c9adcf",
   "metadata": {},
   "outputs": [],
   "source": [
    "data_for_modelling_filter <- function(data) {\n",
    "  library(tidyverse)\n",
    "  library(dtplyr)\n",
    "\n",
    "  data %>%\n",
    "    filter(STATE_CODE %!in% non_us_state_codes &\n",
    "\n",
    "      AGE >= 65 &\n",
    "\n",
    "      ((!is.na(months_alive) & HMO_INDICATOR_sum >= months_alive) |\n",
    "        (is.na(months_alive) & HMO_INDICATOR_sum == 12)) &\n",
    "\n",
    "      ((!is.na(months_alive) & ENTITLEMENT_BUY_IN_IND_sum >= months_alive) |\n",
    "        (is.na(months_alive) & ENTITLEMENT_BUY_IN_IND_sum == 12))) %>%\n",
    "    as.data.table()\n",
    "}"
   ]
  },
  {
   "cell_type": "code",
   "execution_count": 19,
   "id": "f1957eb0-51bf-4e67-865f-0661e82b589a",
   "metadata": {},
   "outputs": [],
   "source": [
    "yearly_calculations <- data_for_modelling_filter(yearly_calculations)"
   ]
  },
  {
   "cell_type": "code",
   "execution_count": 20,
   "id": "1a838ad5-ca21-454d-a0db-3d7b9993e064",
   "metadata": {
    "tags": []
   },
   "outputs": [
    {
     "data": {
      "text/html": [
       "10012783"
      ],
      "text/latex": [
       "10012783"
      ],
      "text/markdown": [
       "10012783"
      ],
      "text/plain": [
       "[1] 10012783"
      ]
     },
     "metadata": {},
     "output_type": "display_data"
    }
   ],
   "source": [
    "length(yearly_calculations$DESY_SORT_KEY)"
   ]
  },
  {
   "cell_type": "markdown",
   "id": "31b4f665-c3fc-4998-8609-26efd990d4c1",
   "metadata": {},
   "source": [
    "## Counting number of conditions"
   ]
  },
  {
   "cell_type": "code",
   "execution_count": 21,
   "id": "0b663919-eed4-492a-bf07-2bddb57dcbed",
   "metadata": {},
   "outputs": [],
   "source": [
    "yearly_calculations[, number_of_conditions := sum(hypertension, arthritis, IHD, diabetes, depression, na.rm = T), ,\n",
    "  by = 1:nrow(yearly_calculations)\n",
    "]"
   ]
  },
  {
   "cell_type": "code",
   "execution_count": 22,
   "id": "44ed3e60-4166-4bde-8aa6-5e93a86f463e",
   "metadata": {},
   "outputs": [
    {
     "data": {
      "text/html": [
       "<table class=\"dataframe\">\n",
       "<caption>A data.table: 20 × 81</caption>\n",
       "<thead>\n",
       "\t<tr><th scope=col>DESY_SORT_KEY</th><th scope=col>year</th><th scope=col>distinct_clinicians</th><th scope=col>distinct_primary_care_physicians</th><th scope=col>hypertension</th><th scope=col>arthritis</th><th scope=col>IHD</th><th scope=col>diabetes</th><th scope=col>depression</th><th scope=col>icd_9_pure</th><th scope=col>icd_10_pure</th><th scope=col>REFERENCE_YEAR</th><th scope=col>STATE_CODE</th><th scope=col>COUNTY_CODE</th><th scope=col>SEX_CODE</th><th scope=col>RACE_CODE</th><th scope=col>AGE</th><th scope=col>ORIG_REASON_FOR_ENTITLEMENT</th><th scope=col>CURR_REASON_FOR_ENTITLEMENT</th><th scope=col>ENTITLEMENT_BUY_IN_IND01</th><th scope=col>ENTITLEMENT_BUY_IN_IND02</th><th scope=col>ENTITLEMENT_BUY_IN_IND03</th><th scope=col>ENTITLEMENT_BUY_IN_IND04</th><th scope=col>ENTITLEMENT_BUY_IN_IND05</th><th scope=col>ENTITLEMENT_BUY_IN_IND06</th><th scope=col>ENTITLEMENT_BUY_IN_IND07</th><th scope=col>ENTITLEMENT_BUY_IN_IND08</th><th scope=col>ENTITLEMENT_BUY_IN_IND09</th><th scope=col>ENTITLEMENT_BUY_IN_IND10</th><th scope=col>ENTITLEMENT_BUY_IN_IND11</th><th scope=col>ENTITLEMENT_BUY_IN_IND12</th><th scope=col>HMO_INDICATOR01</th><th scope=col>HMO_INDICATOR02</th><th scope=col>HMO_INDICATOR03</th><th scope=col>HMO_INDICATOR04</th><th scope=col>HMO_INDICATOR05</th><th scope=col>HMO_INDICATOR06</th><th scope=col>HMO_INDICATOR07</th><th scope=col>HMO_INDICATOR08</th><th scope=col>HMO_INDICATOR09</th><th scope=col>HMO_INDICATOR10</th><th scope=col>HMO_INDICATOR11</th><th scope=col>HMO_INDICATOR12</th><th scope=col>VALID_DATE_OF_DEATH_SWITCH</th><th scope=col>DATE_OF_DEATH</th><th scope=col>date_died</th><th scope=col>date_died_valid</th><th scope=col>year_of_death</th><th scope=col>most_common_physician_PRF_PHYSN_NPI</th><th scope=col>most_common_physician_n</th><th scope=col>most_common_physician_PRVDR_SPCLTY</th><th scope=col>most_common_primary_care_physician_PRF_PHYSN_NPI</th><th scope=col>most_common_primary_care_physician_n</th><th scope=col>most_common_primary_care_physician_PRVDR_SPCLTY</th><th scope=col>most_common_physician_in_facility_visits_count</th><th scope=col>most_common_physician_in_all_visits_count</th><th scope=col>most_common_physician_in_facility_non_exclusive_HCPCS_count</th><th scope=col>most_common_physician_in_all_non_exclusive_HCPCS_count</th><th scope=col>most_common_physician_in_facility_count</th><th scope=col>most_common_physician_in_all_count</th><th scope=col>most_common_physician_in_facility_visits_prp</th><th scope=col>most_common_physician_in_facility_non_exclusive_HCPCS_prp</th><th scope=col>most_common_physician_in_facility_prp</th><th scope=col>most_common_primary_care_physician_in_facility_visits_count</th><th scope=col>most_common_primary_care_physician_in_all_visits_count</th><th scope=col>most_common_primary_care_physician_in_facility_non_exclusive_HCPCS_count</th><th scope=col>most_common_primary_care_physician_in_all_non_exclusive_HCPCS_count</th><th scope=col>most_common_primary_care_physician_in_facility_count</th><th scope=col>most_common_primary_care_physician_in_all_count</th><th scope=col>most_common_primary_care_physician_in_facility_visits_prp</th><th scope=col>most_common_primary_care_physician_in_facility_non_exclusive_HCPCS_prp</th><th scope=col>most_common_primary_care_physician_in_facility_prp</th><th scope=col>RUCC_2013</th><th scope=col>race</th><th scope=col>sex</th><th scope=col>age_group</th><th scope=col>urban</th><th scope=col>HMO_INDICATOR_sum</th><th scope=col>ENTITLEMENT_BUY_IN_IND_sum</th><th scope=col>months_alive</th><th scope=col>number_of_conditions</th></tr>\n",
       "\t<tr><th scope=col>&lt;int&gt;</th><th scope=col>&lt;dbl&gt;</th><th scope=col>&lt;int&gt;</th><th scope=col>&lt;int&gt;</th><th scope=col>&lt;lgl&gt;</th><th scope=col>&lt;lgl&gt;</th><th scope=col>&lt;lgl&gt;</th><th scope=col>&lt;lgl&gt;</th><th scope=col>&lt;lgl&gt;</th><th scope=col>&lt;lgl&gt;</th><th scope=col>&lt;lgl&gt;</th><th scope=col>&lt;dbl&gt;</th><th scope=col>&lt;chr&gt;</th><th scope=col>&lt;chr&gt;</th><th scope=col>&lt;int&gt;</th><th scope=col>&lt;int&gt;</th><th scope=col>&lt;dbl&gt;</th><th scope=col>&lt;dbl&gt;</th><th scope=col>&lt;dbl&gt;</th><th scope=col>&lt;chr&gt;</th><th scope=col>&lt;chr&gt;</th><th scope=col>&lt;chr&gt;</th><th scope=col>&lt;chr&gt;</th><th scope=col>&lt;chr&gt;</th><th scope=col>&lt;chr&gt;</th><th scope=col>&lt;chr&gt;</th><th scope=col>&lt;chr&gt;</th><th scope=col>&lt;chr&gt;</th><th scope=col>&lt;chr&gt;</th><th scope=col>&lt;chr&gt;</th><th scope=col>&lt;chr&gt;</th><th scope=col>&lt;chr&gt;</th><th scope=col>&lt;chr&gt;</th><th scope=col>&lt;chr&gt;</th><th scope=col>&lt;chr&gt;</th><th scope=col>&lt;chr&gt;</th><th scope=col>&lt;chr&gt;</th><th scope=col>&lt;chr&gt;</th><th scope=col>&lt;chr&gt;</th><th scope=col>&lt;chr&gt;</th><th scope=col>&lt;chr&gt;</th><th scope=col>&lt;chr&gt;</th><th scope=col>&lt;chr&gt;</th><th scope=col>&lt;chr&gt;</th><th scope=col>&lt;dbl&gt;</th><th scope=col>&lt;dbl&gt;</th><th scope=col>&lt;chr&gt;</th><th scope=col>&lt;chr&gt;</th><th scope=col>&lt;chr&gt;</th><th scope=col>&lt;int&gt;</th><th scope=col>&lt;chr&gt;</th><th scope=col>&lt;chr&gt;</th><th scope=col>&lt;int&gt;</th><th scope=col>&lt;chr&gt;</th><th scope=col>&lt;int&gt;</th><th scope=col>&lt;int&gt;</th><th scope=col>&lt;int&gt;</th><th scope=col>&lt;int&gt;</th><th scope=col>&lt;int&gt;</th><th scope=col>&lt;int&gt;</th><th scope=col>&lt;dbl&gt;</th><th scope=col>&lt;dbl&gt;</th><th scope=col>&lt;dbl&gt;</th><th scope=col>&lt;int&gt;</th><th scope=col>&lt;int&gt;</th><th scope=col>&lt;int&gt;</th><th scope=col>&lt;int&gt;</th><th scope=col>&lt;int&gt;</th><th scope=col>&lt;int&gt;</th><th scope=col>&lt;dbl&gt;</th><th scope=col>&lt;dbl&gt;</th><th scope=col>&lt;dbl&gt;</th><th scope=col>&lt;dbl&gt;</th><th scope=col>&lt;chr&gt;</th><th scope=col>&lt;chr&gt;</th><th scope=col>&lt;chr&gt;</th><th scope=col>&lt;lgl&gt;</th><th scope=col>&lt;int&gt;</th><th scope=col>&lt;int&gt;</th><th scope=col>&lt;dbl&gt;</th><th scope=col>&lt;int&gt;</th></tr>\n",
       "</thead>\n",
       "<tbody>\n",
       "\t<tr><td>100000015</td><td>2013</td><td> 7</td><td>1</td><td>FALSE</td><td>FALSE</td><td> TRUE</td><td>FALSE</td><td>FALSE</td><td> TRUE</td><td>FALSE</td><td>  13</td><td>22</td><td>160</td><td>1</td><td>1</td><td>76</td><td>0</td><td>0</td><td>3</td><td>3</td><td>3</td><td>3</td><td>3</td><td>3</td><td>3</td><td>3</td><td>3</td><td>3</td><td>3</td><td>3</td><td>0</td><td>0</td><td>0</td><td>0</td><td>0</td><td>0</td><td>0</td><td>0</td><td>0</td><td>0</td><td>0</td><td>0</td><td>NA</td><td>NA</td><td>NA</td><td>NA</td><td>NA</td><td>1285600932</td><td> 2</td><td>11</td><td>1285600932</td><td> 2</td><td>11</td><td> 7</td><td> 96</td><td>62</td><td>242</td><td>66</td><td> 341</td><td>0.07291667</td><td>0.25619835</td><td>0.19354839</td><td> 7</td><td>96</td><td>62</td><td>242</td><td>66</td><td>341</td><td>0.07291667</td><td>0.25619835</td><td>0.19354839</td><td> 1</td><td>White</td><td>Male  </td><td>75-84</td><td>TRUE</td><td>12</td><td>12</td><td>NA</td><td>1</td></tr>\n",
       "\t<tr><td>100000015</td><td>2014</td><td>10</td><td>1</td><td>FALSE</td><td>FALSE</td><td> TRUE</td><td>FALSE</td><td>FALSE</td><td> TRUE</td><td>FALSE</td><td>  14</td><td>22</td><td>160</td><td>1</td><td>1</td><td>77</td><td>0</td><td>0</td><td>3</td><td>3</td><td>3</td><td>3</td><td>3</td><td>3</td><td>3</td><td>3</td><td>3</td><td>3</td><td>3</td><td>3</td><td>0</td><td>0</td><td>0</td><td>0</td><td>0</td><td>0</td><td>0</td><td>0</td><td>0</td><td>0</td><td>0</td><td>0</td><td>NA</td><td>NA</td><td>NA</td><td>NA</td><td>NA</td><td>1770514119</td><td> 4</td><td>11</td><td>1770514119</td><td> 4</td><td>11</td><td>16</td><td> 16</td><td>22</td><td> 22</td><td>27</td><td>  27</td><td>1.00000000</td><td>1.00000000</td><td>1.00000000</td><td>16</td><td>16</td><td>22</td><td> 22</td><td>27</td><td> 27</td><td>1.00000000</td><td>1.00000000</td><td>1.00000000</td><td> 1</td><td>White</td><td>Male  </td><td>75-84</td><td>TRUE</td><td>12</td><td>12</td><td>NA</td><td>1</td></tr>\n",
       "\t<tr><td>100000015</td><td>2015</td><td> 6</td><td>2</td><td> TRUE</td><td>FALSE</td><td>FALSE</td><td> TRUE</td><td>FALSE</td><td>FALSE</td><td>FALSE</td><td>  15</td><td>22</td><td>160</td><td>1</td><td>1</td><td>78</td><td>0</td><td>0</td><td>3</td><td>3</td><td>3</td><td>3</td><td>3</td><td>3</td><td>3</td><td>3</td><td>3</td><td>3</td><td>3</td><td>3</td><td>0</td><td>0</td><td>0</td><td>0</td><td>0</td><td>0</td><td>0</td><td>0</td><td>0</td><td>0</td><td>0</td><td>0</td><td>NA</td><td>NA</td><td>NA</td><td>NA</td><td>NA</td><td>1770514119</td><td> 4</td><td>11</td><td>1770514119</td><td> 4</td><td>11</td><td>48</td><td> 48</td><td>57</td><td> 57</td><td>57</td><td>  57</td><td>1.00000000</td><td>1.00000000</td><td>1.00000000</td><td>48</td><td>48</td><td>57</td><td> 57</td><td>57</td><td> 57</td><td>1.00000000</td><td>1.00000000</td><td>1.00000000</td><td> 1</td><td>White</td><td>Male  </td><td>75-84</td><td>TRUE</td><td>12</td><td>12</td><td>NA</td><td>2</td></tr>\n",
       "\t<tr><td>100000015</td><td>2016</td><td> 9</td><td>2</td><td> TRUE</td><td>FALSE</td><td> TRUE</td><td> TRUE</td><td>FALSE</td><td>FALSE</td><td> TRUE</td><td>2016</td><td>22</td><td>160</td><td>1</td><td>1</td><td>79</td><td>0</td><td>0</td><td>3</td><td>3</td><td>3</td><td>3</td><td>3</td><td>3</td><td>3</td><td>3</td><td>3</td><td>3</td><td>3</td><td>3</td><td>0</td><td>0</td><td>0</td><td>0</td><td>0</td><td>0</td><td>0</td><td>0</td><td>0</td><td>0</td><td>0</td><td>0</td><td>NA</td><td>NA</td><td>NA</td><td>NA</td><td>NA</td><td>1730170630</td><td> 4</td><td>06</td><td>1730170630</td><td> 4</td><td>11</td><td> 0</td><td> 21</td><td> 0</td><td> 21</td><td> 4</td><td>  41</td><td>0.00000000</td><td>0.00000000</td><td>0.09756098</td><td> 0</td><td>21</td><td> 0</td><td> 21</td><td> 4</td><td> 41</td><td>0.00000000</td><td>0.00000000</td><td>0.09756098</td><td> 1</td><td>White</td><td>Male  </td><td>75-84</td><td>TRUE</td><td>12</td><td>12</td><td>NA</td><td>3</td></tr>\n",
       "\t<tr><td>100000015</td><td>2017</td><td>14</td><td>3</td><td>FALSE</td><td>FALSE</td><td> TRUE</td><td> TRUE</td><td>FALSE</td><td>FALSE</td><td> TRUE</td><td>2017</td><td>22</td><td>160</td><td>1</td><td>1</td><td>80</td><td>0</td><td>0</td><td>3</td><td>3</td><td>3</td><td>3</td><td>3</td><td>3</td><td>3</td><td>3</td><td>3</td><td>3</td><td>3</td><td>3</td><td>0</td><td>0</td><td>0</td><td>0</td><td>0</td><td>0</td><td>0</td><td>0</td><td>0</td><td>0</td><td>0</td><td>0</td><td>NA</td><td>NA</td><td>NA</td><td>NA</td><td>NA</td><td>1043207350</td><td> 3</td><td>11</td><td>1043207350</td><td> 3</td><td>11</td><td>58</td><td> 58</td><td>68</td><td> 68</td><td>69</td><td>  69</td><td>1.00000000</td><td>1.00000000</td><td>1.00000000</td><td>58</td><td>58</td><td>68</td><td> 68</td><td>69</td><td> 69</td><td>1.00000000</td><td>1.00000000</td><td>1.00000000</td><td> 1</td><td>White</td><td>Male  </td><td>75-84</td><td>TRUE</td><td>12</td><td>12</td><td>NA</td><td>2</td></tr>\n",
       "\t<tr><td>100000015</td><td>2018</td><td>16</td><td>2</td><td>FALSE</td><td>FALSE</td><td> TRUE</td><td> TRUE</td><td>FALSE</td><td>FALSE</td><td> TRUE</td><td>2018</td><td>22</td><td>160</td><td>1</td><td>1</td><td>81</td><td>0</td><td>0</td><td>3</td><td>3</td><td>3</td><td>3</td><td>3</td><td>3</td><td>3</td><td>3</td><td>3</td><td>3</td><td>3</td><td>3</td><td>0</td><td>0</td><td>0</td><td>0</td><td>0</td><td>0</td><td>0</td><td>0</td><td>0</td><td>0</td><td>0</td><td>0</td><td>NA</td><td>NA</td><td>NA</td><td>NA</td><td>NA</td><td>1043207350</td><td> 2</td><td>11</td><td>1043207350</td><td> 2</td><td>11</td><td>52</td><td> 52</td><td>62</td><td> 62</td><td>62</td><td>  62</td><td>1.00000000</td><td>1.00000000</td><td>1.00000000</td><td>52</td><td>52</td><td>62</td><td> 62</td><td>62</td><td> 62</td><td>1.00000000</td><td>1.00000000</td><td>1.00000000</td><td> 1</td><td>White</td><td>Male  </td><td>75-84</td><td>TRUE</td><td>12</td><td>12</td><td>NA</td><td>2</td></tr>\n",
       "\t<tr><td>100000015</td><td>2019</td><td>15</td><td>2</td><td>FALSE</td><td>FALSE</td><td> TRUE</td><td> TRUE</td><td>FALSE</td><td>FALSE</td><td> TRUE</td><td>2019</td><td>22</td><td>160</td><td>1</td><td>1</td><td>82</td><td>0</td><td>0</td><td>3</td><td>3</td><td>3</td><td>3</td><td>3</td><td>3</td><td>3</td><td>3</td><td>3</td><td>3</td><td>3</td><td>3</td><td>0</td><td>0</td><td>0</td><td>0</td><td>0</td><td>0</td><td>0</td><td>0</td><td>0</td><td>0</td><td>0</td><td>0</td><td>NA</td><td>NA</td><td>NA</td><td>NA</td><td>NA</td><td>1043207350</td><td> 4</td><td>11</td><td>1043207350</td><td> 4</td><td>11</td><td>50</td><td> 50</td><td>57</td><td> 57</td><td>57</td><td>  57</td><td>1.00000000</td><td>1.00000000</td><td>1.00000000</td><td>50</td><td>50</td><td>57</td><td> 57</td><td>57</td><td> 57</td><td>1.00000000</td><td>1.00000000</td><td>1.00000000</td><td> 1</td><td>White</td><td>Male  </td><td>75-84</td><td>TRUE</td><td>12</td><td>12</td><td>NA</td><td>2</td></tr>\n",
       "\t<tr><td>100000015</td><td>2020</td><td>28</td><td>1</td><td> TRUE</td><td>FALSE</td><td> TRUE</td><td> TRUE</td><td>FALSE</td><td>FALSE</td><td> TRUE</td><td>2020</td><td>22</td><td>160</td><td>1</td><td>1</td><td>83</td><td>0</td><td>0</td><td>3</td><td>3</td><td>3</td><td>3</td><td>3</td><td>3</td><td>3</td><td>3</td><td>3</td><td>3</td><td>3</td><td>3</td><td>0</td><td>0</td><td>0</td><td>0</td><td>0</td><td>0</td><td>0</td><td>0</td><td>0</td><td>0</td><td>0</td><td>0</td><td>NA</td><td>NA</td><td>NA</td><td>NA</td><td>NA</td><td>1558359257</td><td> 3</td><td>33</td><td>1043207350</td><td> 2</td><td>11</td><td> 1</td><td> 23</td><td> 1</td><td> 31</td><td> 1</td><td>  31</td><td>0.04347826</td><td>0.03225806</td><td>0.03225806</td><td>25</td><td>25</td><td>46</td><td> 46</td><td>46</td><td> 46</td><td>1.00000000</td><td>1.00000000</td><td>1.00000000</td><td> 1</td><td>White</td><td>Male  </td><td>75-84</td><td>TRUE</td><td>12</td><td>12</td><td>NA</td><td>3</td></tr>\n",
       "\t<tr><td>100000019</td><td>2013</td><td>27</td><td>2</td><td> TRUE</td><td>FALSE</td><td>FALSE</td><td>FALSE</td><td>FALSE</td><td> TRUE</td><td>FALSE</td><td>  13</td><td>07</td><td>050</td><td>2</td><td>4</td><td>76</td><td>0</td><td>0</td><td>C</td><td>C</td><td>C</td><td>C</td><td>C</td><td>C</td><td>C</td><td>C</td><td>C</td><td>C</td><td>C</td><td>C</td><td>0</td><td>0</td><td>0</td><td>0</td><td>0</td><td>0</td><td>0</td><td>0</td><td>0</td><td>0</td><td>0</td><td>0</td><td>NA</td><td>NA</td><td>NA</td><td>NA</td><td>NA</td><td>1609857119</td><td>14</td><td>90</td><td>1558465849</td><td> 3</td><td>11</td><td> 0</td><td>122</td><td> 0</td><td>349</td><td> 0</td><td> 889</td><td>0.00000000</td><td>0.00000000</td><td>0.00000000</td><td> 0</td><td>38</td><td> 0</td><td> 65</td><td> 0</td><td>701</td><td>0.00000000</td><td>0.00000000</td><td>0.00000000</td><td>NA</td><td>Asian</td><td>Female</td><td>75-84</td><td>  NA</td><td>12</td><td>12</td><td>NA</td><td>1</td></tr>\n",
       "\t<tr><td>100000019</td><td>2014</td><td>17</td><td>1</td><td> TRUE</td><td>FALSE</td><td>FALSE</td><td>FALSE</td><td>FALSE</td><td> TRUE</td><td>FALSE</td><td>  14</td><td>07</td><td>050</td><td>2</td><td>4</td><td>77</td><td>0</td><td>0</td><td>C</td><td>C</td><td>C</td><td>C</td><td>C</td><td>C</td><td>C</td><td>C</td><td>C</td><td>C</td><td>C</td><td>3</td><td>0</td><td>0</td><td>0</td><td>0</td><td>0</td><td>0</td><td>0</td><td>0</td><td>0</td><td>0</td><td>0</td><td>0</td><td>NA</td><td>NA</td><td>NA</td><td>NA</td><td>NA</td><td>1609857119</td><td>13</td><td>90</td><td>1558465849</td><td> 2</td><td>11</td><td> 0</td><td> 88</td><td> 0</td><td>438</td><td> 0</td><td> 826</td><td>0.00000000</td><td>0.00000000</td><td>0.00000000</td><td> 0</td><td>27</td><td> 0</td><td> 40</td><td> 0</td><td>700</td><td>0.00000000</td><td>0.00000000</td><td>0.00000000</td><td>NA</td><td>Asian</td><td>Female</td><td>75-84</td><td>  NA</td><td>12</td><td>12</td><td>NA</td><td>1</td></tr>\n",
       "\t<tr><td>100000019</td><td>2015</td><td>10</td><td>1</td><td> TRUE</td><td>FALSE</td><td>FALSE</td><td>FALSE</td><td>FALSE</td><td>FALSE</td><td>FALSE</td><td>  15</td><td>07</td><td>050</td><td>2</td><td>4</td><td>78</td><td>0</td><td>0</td><td>C</td><td>C</td><td>C</td><td>C</td><td>C</td><td>C</td><td>C</td><td>C</td><td>C</td><td>C</td><td>C</td><td>C</td><td>0</td><td>0</td><td>0</td><td>0</td><td>0</td><td>0</td><td>0</td><td>0</td><td>0</td><td>0</td><td>0</td><td>0</td><td>NA</td><td>NA</td><td>NA</td><td>NA</td><td>NA</td><td>1609857119</td><td> 5</td><td>90</td><td>1558465849</td><td> 2</td><td>11</td><td> 0</td><td> 70</td><td> 0</td><td>410</td><td> 0</td><td> 797</td><td>0.00000000</td><td>0.00000000</td><td>0.00000000</td><td> 0</td><td>29</td><td> 0</td><td> 41</td><td> 0</td><td>665</td><td>0.00000000</td><td>0.00000000</td><td>0.00000000</td><td>NA</td><td>Asian</td><td>Female</td><td>75-84</td><td>  NA</td><td>12</td><td>12</td><td>NA</td><td>1</td></tr>\n",
       "\t<tr><td>100000019</td><td>2016</td><td> 4</td><td>1</td><td> TRUE</td><td>FALSE</td><td>FALSE</td><td>FALSE</td><td>FALSE</td><td>FALSE</td><td> TRUE</td><td>2016</td><td>07</td><td>050</td><td>2</td><td>4</td><td>79</td><td>0</td><td>0</td><td>C</td><td>C</td><td>C</td><td>C</td><td>C</td><td>C</td><td>C</td><td>C</td><td>C</td><td>C</td><td>3</td><td>3</td><td>0</td><td>0</td><td>0</td><td>0</td><td>0</td><td>0</td><td>0</td><td>0</td><td>0</td><td>0</td><td>0</td><td>0</td><td>NA</td><td>NA</td><td>NA</td><td>NA</td><td>NA</td><td>1609857119</td><td> 3</td><td>90</td><td>1558465849</td><td> 1</td><td>11</td><td> 0</td><td> 87</td><td> 0</td><td>722</td><td> 0</td><td>1253</td><td>0.00000000</td><td>0.00000000</td><td>0.00000000</td><td> 0</td><td>30</td><td> 0</td><td> 47</td><td> 0</td><td>670</td><td>0.00000000</td><td>0.00000000</td><td>0.00000000</td><td>NA</td><td>Asian</td><td>Female</td><td>75-84</td><td>  NA</td><td>12</td><td>12</td><td>NA</td><td>1</td></tr>\n",
       "\t<tr><td>100000053</td><td>2013</td><td> 6</td><td>0</td><td>FALSE</td><td>FALSE</td><td>FALSE</td><td>FALSE</td><td>FALSE</td><td> TRUE</td><td>FALSE</td><td>  13</td><td>33</td><td>331</td><td>1</td><td>2</td><td>77</td><td>0</td><td>0</td><td>C</td><td>C</td><td>C</td><td>C</td><td>C</td><td>C</td><td>C</td><td>C</td><td>C</td><td>C</td><td>C</td><td>C</td><td>0</td><td>0</td><td>0</td><td>0</td><td>0</td><td>0</td><td>0</td><td>0</td><td>0</td><td>0</td><td>0</td><td>0</td><td>NA</td><td>NA</td><td>NA</td><td>NA</td><td>NA</td><td>1417030412</td><td> 5</td><td>48</td><td>NA        </td><td>NA</td><td>NA</td><td> 0</td><td>112</td><td> 0</td><td>117</td><td> 0</td><td> 125</td><td>0.00000000</td><td>0.00000000</td><td>0.00000000</td><td>NA</td><td>NA</td><td>NA</td><td> NA</td><td>NA</td><td> NA</td><td>        NA</td><td>        NA</td><td>        NA</td><td> 1</td><td>Black</td><td>Male  </td><td>75-84</td><td>TRUE</td><td>12</td><td>12</td><td>NA</td><td>0</td></tr>\n",
       "\t<tr><td>100000053</td><td>2014</td><td>15</td><td>2</td><td> TRUE</td><td>FALSE</td><td>FALSE</td><td>FALSE</td><td>FALSE</td><td> TRUE</td><td>FALSE</td><td>  14</td><td>33</td><td>331</td><td>1</td><td>2</td><td>78</td><td>0</td><td>0</td><td>C</td><td>C</td><td>C</td><td>C</td><td>C</td><td>C</td><td>C</td><td>C</td><td>C</td><td>C</td><td>C</td><td>C</td><td>0</td><td>0</td><td>0</td><td>0</td><td>0</td><td>0</td><td>0</td><td>0</td><td>0</td><td>0</td><td>0</td><td>0</td><td>NA</td><td>NA</td><td>NA</td><td>NA</td><td>NA</td><td>1790725125</td><td> 4</td><td>06</td><td>1235124496</td><td> 2</td><td>08</td><td> 0</td><td> 24</td><td> 1</td><td> 77</td><td> 7</td><td>  90</td><td>0.00000000</td><td>0.01298701</td><td>0.07777778</td><td>13</td><td>13</td><td>13</td><td> 13</td><td>13</td><td> 13</td><td>1.00000000</td><td>1.00000000</td><td>1.00000000</td><td> 1</td><td>Black</td><td>Male  </td><td>75-84</td><td>TRUE</td><td>12</td><td>12</td><td>NA</td><td>1</td></tr>\n",
       "\t<tr><td>100000053</td><td>2015</td><td> 5</td><td>0</td><td>FALSE</td><td>FALSE</td><td>FALSE</td><td> TRUE</td><td>FALSE</td><td>FALSE</td><td>FALSE</td><td>  15</td><td>33</td><td>331</td><td>1</td><td>2</td><td>79</td><td>0</td><td>0</td><td>C</td><td>C</td><td>C</td><td>C</td><td>C</td><td>C</td><td>C</td><td>C</td><td>C</td><td>C</td><td>C</td><td>C</td><td>0</td><td>0</td><td>0</td><td>0</td><td>0</td><td>0</td><td>0</td><td>0</td><td>0</td><td>0</td><td>0</td><td>0</td><td>NA</td><td>NA</td><td>NA</td><td>NA</td><td>NA</td><td>1417030412</td><td> 4</td><td>48</td><td>NA        </td><td>NA</td><td>NA</td><td> 0</td><td>103</td><td> 0</td><td>116</td><td> 0</td><td> 126</td><td>0.00000000</td><td>0.00000000</td><td>0.00000000</td><td>NA</td><td>NA</td><td>NA</td><td> NA</td><td>NA</td><td> NA</td><td>        NA</td><td>        NA</td><td>        NA</td><td> 1</td><td>Black</td><td>Male  </td><td>75-84</td><td>TRUE</td><td>12</td><td>12</td><td>NA</td><td>1</td></tr>\n",
       "\t<tr><td>100000053</td><td>2016</td><td> 7</td><td>3</td><td> TRUE</td><td>FALSE</td><td>FALSE</td><td> TRUE</td><td>FALSE</td><td>FALSE</td><td> TRUE</td><td>2016</td><td>33</td><td>331</td><td>1</td><td>2</td><td>80</td><td>0</td><td>0</td><td>C</td><td>C</td><td>C</td><td>C</td><td>C</td><td>C</td><td>C</td><td>C</td><td>C</td><td>C</td><td>C</td><td>C</td><td>0</td><td>0</td><td>0</td><td>0</td><td>0</td><td>0</td><td>0</td><td>0</td><td>0</td><td>0</td><td>0</td><td>0</td><td>NA</td><td>NA</td><td>NA</td><td>NA</td><td>NA</td><td>1790725125</td><td> 4</td><td>06</td><td>1154359321</td><td> 1</td><td>11</td><td> 0</td><td> 23</td><td> 0</td><td> 47</td><td> 0</td><td>  47</td><td>0.00000000</td><td>0.00000000</td><td>0.00000000</td><td> 8</td><td>36</td><td> 8</td><td>106</td><td> 9</td><td>156</td><td>0.22222222</td><td>0.07547170</td><td>0.05769231</td><td> 1</td><td>Black</td><td>Male  </td><td>75-84</td><td>TRUE</td><td>12</td><td>12</td><td>NA</td><td>2</td></tr>\n",
       "\t<tr><td>100000053</td><td>2017</td><td> 6</td><td>1</td><td> TRUE</td><td> TRUE</td><td>FALSE</td><td>FALSE</td><td>FALSE</td><td>FALSE</td><td> TRUE</td><td>2017</td><td>33</td><td>331</td><td>1</td><td>2</td><td>81</td><td>0</td><td>0</td><td>C</td><td>C</td><td>C</td><td>C</td><td>C</td><td>C</td><td>C</td><td>C</td><td>C</td><td>C</td><td>C</td><td>C</td><td>0</td><td>0</td><td>0</td><td>0</td><td>0</td><td>0</td><td>0</td><td>0</td><td>0</td><td>0</td><td>0</td><td>0</td><td>NA</td><td>NA</td><td>NA</td><td>NA</td><td>NA</td><td>1417030412</td><td> 3</td><td>48</td><td>1720073976</td><td> 3</td><td>08</td><td> 0</td><td>104</td><td> 0</td><td>122</td><td> 0</td><td> 140</td><td>0.00000000</td><td>0.00000000</td><td>0.00000000</td><td>11</td><td>11</td><td> 7</td><td>  7</td><td>11</td><td> 11</td><td>1.00000000</td><td>1.00000000</td><td>1.00000000</td><td> 1</td><td>Black</td><td>Male  </td><td>75-84</td><td>TRUE</td><td>12</td><td>12</td><td>NA</td><td>2</td></tr>\n",
       "\t<tr><td>100000053</td><td>2018</td><td> 9</td><td>4</td><td> TRUE</td><td> TRUE</td><td>FALSE</td><td>FALSE</td><td>FALSE</td><td>FALSE</td><td> TRUE</td><td>2018</td><td>33</td><td>331</td><td>1</td><td>2</td><td>82</td><td>0</td><td>0</td><td>C</td><td>C</td><td>C</td><td>C</td><td>C</td><td>C</td><td>C</td><td>C</td><td>C</td><td>C</td><td>C</td><td>C</td><td>0</td><td>0</td><td>0</td><td>0</td><td>0</td><td>0</td><td>0</td><td>0</td><td>0</td><td>0</td><td>0</td><td>0</td><td>NA</td><td>NA</td><td>NA</td><td>NA</td><td>NA</td><td>1790725125</td><td> 4</td><td>06</td><td>1205820453</td><td> 1</td><td>08</td><td> 0</td><td> 21</td><td>29</td><td> 77</td><td>31</td><td>  87</td><td>0.00000000</td><td>0.37662338</td><td>0.35632184</td><td>10</td><td>10</td><td>10</td><td> 10</td><td>10</td><td> 10</td><td>1.00000000</td><td>1.00000000</td><td>1.00000000</td><td> 1</td><td>Black</td><td>Male  </td><td>75-84</td><td>TRUE</td><td>12</td><td>12</td><td>NA</td><td>2</td></tr>\n",
       "\t<tr><td>100000053</td><td>2019</td><td>16</td><td>3</td><td> TRUE</td><td> TRUE</td><td>FALSE</td><td> TRUE</td><td>FALSE</td><td>FALSE</td><td> TRUE</td><td>2019</td><td>33</td><td>331</td><td>1</td><td>2</td><td>83</td><td>0</td><td>0</td><td>C</td><td>C</td><td>C</td><td>C</td><td>C</td><td>C</td><td>C</td><td>C</td><td>C</td><td>C</td><td>C</td><td>C</td><td>0</td><td>0</td><td>0</td><td>0</td><td>0</td><td>0</td><td>0</td><td>0</td><td>0</td><td>0</td><td>0</td><td>0</td><td>NA</td><td>NA</td><td>NA</td><td>NA</td><td>NA</td><td>1154487528</td><td> 3</td><td>25</td><td>1154359321</td><td> 2</td><td>11</td><td> 0</td><td> 19</td><td> 0</td><td> 34</td><td> 0</td><td>  63</td><td>0.00000000</td><td>0.00000000</td><td>0.00000000</td><td> 8</td><td>27</td><td> 9</td><td> 56</td><td>10</td><td>103</td><td>0.29629630</td><td>0.16071429</td><td>0.09708738</td><td> 1</td><td>Black</td><td>Male  </td><td>75-84</td><td>TRUE</td><td>12</td><td>12</td><td>NA</td><td>3</td></tr>\n",
       "\t<tr><td>100000053</td><td>2020</td><td> 5</td><td>2</td><td>FALSE</td><td> TRUE</td><td>FALSE</td><td> TRUE</td><td>FALSE</td><td>FALSE</td><td> TRUE</td><td>2020</td><td>33</td><td>331</td><td>1</td><td>2</td><td>84</td><td>0</td><td>0</td><td>C</td><td>C</td><td>C</td><td>C</td><td>C</td><td>C</td><td>C</td><td>C</td><td>C</td><td>C</td><td>C</td><td>C</td><td>0</td><td>0</td><td>0</td><td>0</td><td>0</td><td>0</td><td>0</td><td>0</td><td>0</td><td>0</td><td>0</td><td>0</td><td>NA</td><td>NA</td><td>NA</td><td>NA</td><td>NA</td><td>1790725125</td><td> 2</td><td>06</td><td>1154359321</td><td> 1</td><td>11</td><td> 2</td><td> 27</td><td>21</td><td>100</td><td>26</td><td> 164</td><td>0.07407407</td><td>0.21000000</td><td>0.15853659</td><td> 2</td><td>18</td><td> 3</td><td> 44</td><td> 3</td><td> 86</td><td>0.11111111</td><td>0.06818182</td><td>0.03488372</td><td> 1</td><td>Black</td><td>Male  </td><td>75-84</td><td>TRUE</td><td>12</td><td>12</td><td>NA</td><td>2</td></tr>\n",
       "</tbody>\n",
       "</table>\n"
      ],
      "text/latex": [
       "A data.table: 20 × 81\n",
       "\\begin{tabular}{lllllllllllllllllllllllllllllllllllllllllllllllllllllllllllllllllllllllllllllllll}\n",
       " DESY\\_SORT\\_KEY & year & distinct\\_clinicians & distinct\\_primary\\_care\\_physicians & hypertension & arthritis & IHD & diabetes & depression & icd\\_9\\_pure & icd\\_10\\_pure & REFERENCE\\_YEAR & STATE\\_CODE & COUNTY\\_CODE & SEX\\_CODE & RACE\\_CODE & AGE & ORIG\\_REASON\\_FOR\\_ENTITLEMENT & CURR\\_REASON\\_FOR\\_ENTITLEMENT & ENTITLEMENT\\_BUY\\_IN\\_IND01 & ENTITLEMENT\\_BUY\\_IN\\_IND02 & ENTITLEMENT\\_BUY\\_IN\\_IND03 & ENTITLEMENT\\_BUY\\_IN\\_IND04 & ENTITLEMENT\\_BUY\\_IN\\_IND05 & ENTITLEMENT\\_BUY\\_IN\\_IND06 & ENTITLEMENT\\_BUY\\_IN\\_IND07 & ENTITLEMENT\\_BUY\\_IN\\_IND08 & ENTITLEMENT\\_BUY\\_IN\\_IND09 & ENTITLEMENT\\_BUY\\_IN\\_IND10 & ENTITLEMENT\\_BUY\\_IN\\_IND11 & ENTITLEMENT\\_BUY\\_IN\\_IND12 & HMO\\_INDICATOR01 & HMO\\_INDICATOR02 & HMO\\_INDICATOR03 & HMO\\_INDICATOR04 & HMO\\_INDICATOR05 & HMO\\_INDICATOR06 & HMO\\_INDICATOR07 & HMO\\_INDICATOR08 & HMO\\_INDICATOR09 & HMO\\_INDICATOR10 & HMO\\_INDICATOR11 & HMO\\_INDICATOR12 & VALID\\_DATE\\_OF\\_DEATH\\_SWITCH & DATE\\_OF\\_DEATH & date\\_died & date\\_died\\_valid & year\\_of\\_death & most\\_common\\_physician\\_PRF\\_PHYSN\\_NPI & most\\_common\\_physician\\_n & most\\_common\\_physician\\_PRVDR\\_SPCLTY & most\\_common\\_primary\\_care\\_physician\\_PRF\\_PHYSN\\_NPI & most\\_common\\_primary\\_care\\_physician\\_n & most\\_common\\_primary\\_care\\_physician\\_PRVDR\\_SPCLTY & most\\_common\\_physician\\_in\\_facility\\_visits\\_count & most\\_common\\_physician\\_in\\_all\\_visits\\_count & most\\_common\\_physician\\_in\\_facility\\_non\\_exclusive\\_HCPCS\\_count & most\\_common\\_physician\\_in\\_all\\_non\\_exclusive\\_HCPCS\\_count & most\\_common\\_physician\\_in\\_facility\\_count & most\\_common\\_physician\\_in\\_all\\_count & most\\_common\\_physician\\_in\\_facility\\_visits\\_prp & most\\_common\\_physician\\_in\\_facility\\_non\\_exclusive\\_HCPCS\\_prp & most\\_common\\_physician\\_in\\_facility\\_prp & most\\_common\\_primary\\_care\\_physician\\_in\\_facility\\_visits\\_count & most\\_common\\_primary\\_care\\_physician\\_in\\_all\\_visits\\_count & most\\_common\\_primary\\_care\\_physician\\_in\\_facility\\_non\\_exclusive\\_HCPCS\\_count & most\\_common\\_primary\\_care\\_physician\\_in\\_all\\_non\\_exclusive\\_HCPCS\\_count & most\\_common\\_primary\\_care\\_physician\\_in\\_facility\\_count & most\\_common\\_primary\\_care\\_physician\\_in\\_all\\_count & most\\_common\\_primary\\_care\\_physician\\_in\\_facility\\_visits\\_prp & most\\_common\\_primary\\_care\\_physician\\_in\\_facility\\_non\\_exclusive\\_HCPCS\\_prp & most\\_common\\_primary\\_care\\_physician\\_in\\_facility\\_prp & RUCC\\_2013 & race & sex & age\\_group & urban & HMO\\_INDICATOR\\_sum & ENTITLEMENT\\_BUY\\_IN\\_IND\\_sum & months\\_alive & number\\_of\\_conditions\\\\\n",
       " <int> & <dbl> & <int> & <int> & <lgl> & <lgl> & <lgl> & <lgl> & <lgl> & <lgl> & <lgl> & <dbl> & <chr> & <chr> & <int> & <int> & <dbl> & <dbl> & <dbl> & <chr> & <chr> & <chr> & <chr> & <chr> & <chr> & <chr> & <chr> & <chr> & <chr> & <chr> & <chr> & <chr> & <chr> & <chr> & <chr> & <chr> & <chr> & <chr> & <chr> & <chr> & <chr> & <chr> & <chr> & <chr> & <dbl> & <dbl> & <chr> & <chr> & <chr> & <int> & <chr> & <chr> & <int> & <chr> & <int> & <int> & <int> & <int> & <int> & <int> & <dbl> & <dbl> & <dbl> & <int> & <int> & <int> & <int> & <int> & <int> & <dbl> & <dbl> & <dbl> & <dbl> & <chr> & <chr> & <chr> & <lgl> & <int> & <int> & <dbl> & <int>\\\\\n",
       "\\hline\n",
       "\t 100000015 & 2013 &  7 & 1 & FALSE & FALSE &  TRUE & FALSE & FALSE &  TRUE & FALSE &   13 & 22 & 160 & 1 & 1 & 76 & 0 & 0 & 3 & 3 & 3 & 3 & 3 & 3 & 3 & 3 & 3 & 3 & 3 & 3 & 0 & 0 & 0 & 0 & 0 & 0 & 0 & 0 & 0 & 0 & 0 & 0 & NA & NA & NA & NA & NA & 1285600932 &  2 & 11 & 1285600932 &  2 & 11 &  7 &  96 & 62 & 242 & 66 &  341 & 0.07291667 & 0.25619835 & 0.19354839 &  7 & 96 & 62 & 242 & 66 & 341 & 0.07291667 & 0.25619835 & 0.19354839 &  1 & White & Male   & 75-84 & TRUE & 12 & 12 & NA & 1\\\\\n",
       "\t 100000015 & 2014 & 10 & 1 & FALSE & FALSE &  TRUE & FALSE & FALSE &  TRUE & FALSE &   14 & 22 & 160 & 1 & 1 & 77 & 0 & 0 & 3 & 3 & 3 & 3 & 3 & 3 & 3 & 3 & 3 & 3 & 3 & 3 & 0 & 0 & 0 & 0 & 0 & 0 & 0 & 0 & 0 & 0 & 0 & 0 & NA & NA & NA & NA & NA & 1770514119 &  4 & 11 & 1770514119 &  4 & 11 & 16 &  16 & 22 &  22 & 27 &   27 & 1.00000000 & 1.00000000 & 1.00000000 & 16 & 16 & 22 &  22 & 27 &  27 & 1.00000000 & 1.00000000 & 1.00000000 &  1 & White & Male   & 75-84 & TRUE & 12 & 12 & NA & 1\\\\\n",
       "\t 100000015 & 2015 &  6 & 2 &  TRUE & FALSE & FALSE &  TRUE & FALSE & FALSE & FALSE &   15 & 22 & 160 & 1 & 1 & 78 & 0 & 0 & 3 & 3 & 3 & 3 & 3 & 3 & 3 & 3 & 3 & 3 & 3 & 3 & 0 & 0 & 0 & 0 & 0 & 0 & 0 & 0 & 0 & 0 & 0 & 0 & NA & NA & NA & NA & NA & 1770514119 &  4 & 11 & 1770514119 &  4 & 11 & 48 &  48 & 57 &  57 & 57 &   57 & 1.00000000 & 1.00000000 & 1.00000000 & 48 & 48 & 57 &  57 & 57 &  57 & 1.00000000 & 1.00000000 & 1.00000000 &  1 & White & Male   & 75-84 & TRUE & 12 & 12 & NA & 2\\\\\n",
       "\t 100000015 & 2016 &  9 & 2 &  TRUE & FALSE &  TRUE &  TRUE & FALSE & FALSE &  TRUE & 2016 & 22 & 160 & 1 & 1 & 79 & 0 & 0 & 3 & 3 & 3 & 3 & 3 & 3 & 3 & 3 & 3 & 3 & 3 & 3 & 0 & 0 & 0 & 0 & 0 & 0 & 0 & 0 & 0 & 0 & 0 & 0 & NA & NA & NA & NA & NA & 1730170630 &  4 & 06 & 1730170630 &  4 & 11 &  0 &  21 &  0 &  21 &  4 &   41 & 0.00000000 & 0.00000000 & 0.09756098 &  0 & 21 &  0 &  21 &  4 &  41 & 0.00000000 & 0.00000000 & 0.09756098 &  1 & White & Male   & 75-84 & TRUE & 12 & 12 & NA & 3\\\\\n",
       "\t 100000015 & 2017 & 14 & 3 & FALSE & FALSE &  TRUE &  TRUE & FALSE & FALSE &  TRUE & 2017 & 22 & 160 & 1 & 1 & 80 & 0 & 0 & 3 & 3 & 3 & 3 & 3 & 3 & 3 & 3 & 3 & 3 & 3 & 3 & 0 & 0 & 0 & 0 & 0 & 0 & 0 & 0 & 0 & 0 & 0 & 0 & NA & NA & NA & NA & NA & 1043207350 &  3 & 11 & 1043207350 &  3 & 11 & 58 &  58 & 68 &  68 & 69 &   69 & 1.00000000 & 1.00000000 & 1.00000000 & 58 & 58 & 68 &  68 & 69 &  69 & 1.00000000 & 1.00000000 & 1.00000000 &  1 & White & Male   & 75-84 & TRUE & 12 & 12 & NA & 2\\\\\n",
       "\t 100000015 & 2018 & 16 & 2 & FALSE & FALSE &  TRUE &  TRUE & FALSE & FALSE &  TRUE & 2018 & 22 & 160 & 1 & 1 & 81 & 0 & 0 & 3 & 3 & 3 & 3 & 3 & 3 & 3 & 3 & 3 & 3 & 3 & 3 & 0 & 0 & 0 & 0 & 0 & 0 & 0 & 0 & 0 & 0 & 0 & 0 & NA & NA & NA & NA & NA & 1043207350 &  2 & 11 & 1043207350 &  2 & 11 & 52 &  52 & 62 &  62 & 62 &   62 & 1.00000000 & 1.00000000 & 1.00000000 & 52 & 52 & 62 &  62 & 62 &  62 & 1.00000000 & 1.00000000 & 1.00000000 &  1 & White & Male   & 75-84 & TRUE & 12 & 12 & NA & 2\\\\\n",
       "\t 100000015 & 2019 & 15 & 2 & FALSE & FALSE &  TRUE &  TRUE & FALSE & FALSE &  TRUE & 2019 & 22 & 160 & 1 & 1 & 82 & 0 & 0 & 3 & 3 & 3 & 3 & 3 & 3 & 3 & 3 & 3 & 3 & 3 & 3 & 0 & 0 & 0 & 0 & 0 & 0 & 0 & 0 & 0 & 0 & 0 & 0 & NA & NA & NA & NA & NA & 1043207350 &  4 & 11 & 1043207350 &  4 & 11 & 50 &  50 & 57 &  57 & 57 &   57 & 1.00000000 & 1.00000000 & 1.00000000 & 50 & 50 & 57 &  57 & 57 &  57 & 1.00000000 & 1.00000000 & 1.00000000 &  1 & White & Male   & 75-84 & TRUE & 12 & 12 & NA & 2\\\\\n",
       "\t 100000015 & 2020 & 28 & 1 &  TRUE & FALSE &  TRUE &  TRUE & FALSE & FALSE &  TRUE & 2020 & 22 & 160 & 1 & 1 & 83 & 0 & 0 & 3 & 3 & 3 & 3 & 3 & 3 & 3 & 3 & 3 & 3 & 3 & 3 & 0 & 0 & 0 & 0 & 0 & 0 & 0 & 0 & 0 & 0 & 0 & 0 & NA & NA & NA & NA & NA & 1558359257 &  3 & 33 & 1043207350 &  2 & 11 &  1 &  23 &  1 &  31 &  1 &   31 & 0.04347826 & 0.03225806 & 0.03225806 & 25 & 25 & 46 &  46 & 46 &  46 & 1.00000000 & 1.00000000 & 1.00000000 &  1 & White & Male   & 75-84 & TRUE & 12 & 12 & NA & 3\\\\\n",
       "\t 100000019 & 2013 & 27 & 2 &  TRUE & FALSE & FALSE & FALSE & FALSE &  TRUE & FALSE &   13 & 07 & 050 & 2 & 4 & 76 & 0 & 0 & C & C & C & C & C & C & C & C & C & C & C & C & 0 & 0 & 0 & 0 & 0 & 0 & 0 & 0 & 0 & 0 & 0 & 0 & NA & NA & NA & NA & NA & 1609857119 & 14 & 90 & 1558465849 &  3 & 11 &  0 & 122 &  0 & 349 &  0 &  889 & 0.00000000 & 0.00000000 & 0.00000000 &  0 & 38 &  0 &  65 &  0 & 701 & 0.00000000 & 0.00000000 & 0.00000000 & NA & Asian & Female & 75-84 &   NA & 12 & 12 & NA & 1\\\\\n",
       "\t 100000019 & 2014 & 17 & 1 &  TRUE & FALSE & FALSE & FALSE & FALSE &  TRUE & FALSE &   14 & 07 & 050 & 2 & 4 & 77 & 0 & 0 & C & C & C & C & C & C & C & C & C & C & C & 3 & 0 & 0 & 0 & 0 & 0 & 0 & 0 & 0 & 0 & 0 & 0 & 0 & NA & NA & NA & NA & NA & 1609857119 & 13 & 90 & 1558465849 &  2 & 11 &  0 &  88 &  0 & 438 &  0 &  826 & 0.00000000 & 0.00000000 & 0.00000000 &  0 & 27 &  0 &  40 &  0 & 700 & 0.00000000 & 0.00000000 & 0.00000000 & NA & Asian & Female & 75-84 &   NA & 12 & 12 & NA & 1\\\\\n",
       "\t 100000019 & 2015 & 10 & 1 &  TRUE & FALSE & FALSE & FALSE & FALSE & FALSE & FALSE &   15 & 07 & 050 & 2 & 4 & 78 & 0 & 0 & C & C & C & C & C & C & C & C & C & C & C & C & 0 & 0 & 0 & 0 & 0 & 0 & 0 & 0 & 0 & 0 & 0 & 0 & NA & NA & NA & NA & NA & 1609857119 &  5 & 90 & 1558465849 &  2 & 11 &  0 &  70 &  0 & 410 &  0 &  797 & 0.00000000 & 0.00000000 & 0.00000000 &  0 & 29 &  0 &  41 &  0 & 665 & 0.00000000 & 0.00000000 & 0.00000000 & NA & Asian & Female & 75-84 &   NA & 12 & 12 & NA & 1\\\\\n",
       "\t 100000019 & 2016 &  4 & 1 &  TRUE & FALSE & FALSE & FALSE & FALSE & FALSE &  TRUE & 2016 & 07 & 050 & 2 & 4 & 79 & 0 & 0 & C & C & C & C & C & C & C & C & C & C & 3 & 3 & 0 & 0 & 0 & 0 & 0 & 0 & 0 & 0 & 0 & 0 & 0 & 0 & NA & NA & NA & NA & NA & 1609857119 &  3 & 90 & 1558465849 &  1 & 11 &  0 &  87 &  0 & 722 &  0 & 1253 & 0.00000000 & 0.00000000 & 0.00000000 &  0 & 30 &  0 &  47 &  0 & 670 & 0.00000000 & 0.00000000 & 0.00000000 & NA & Asian & Female & 75-84 &   NA & 12 & 12 & NA & 1\\\\\n",
       "\t 100000053 & 2013 &  6 & 0 & FALSE & FALSE & FALSE & FALSE & FALSE &  TRUE & FALSE &   13 & 33 & 331 & 1 & 2 & 77 & 0 & 0 & C & C & C & C & C & C & C & C & C & C & C & C & 0 & 0 & 0 & 0 & 0 & 0 & 0 & 0 & 0 & 0 & 0 & 0 & NA & NA & NA & NA & NA & 1417030412 &  5 & 48 & NA         & NA & NA &  0 & 112 &  0 & 117 &  0 &  125 & 0.00000000 & 0.00000000 & 0.00000000 & NA & NA & NA &  NA & NA &  NA &         NA &         NA &         NA &  1 & Black & Male   & 75-84 & TRUE & 12 & 12 & NA & 0\\\\\n",
       "\t 100000053 & 2014 & 15 & 2 &  TRUE & FALSE & FALSE & FALSE & FALSE &  TRUE & FALSE &   14 & 33 & 331 & 1 & 2 & 78 & 0 & 0 & C & C & C & C & C & C & C & C & C & C & C & C & 0 & 0 & 0 & 0 & 0 & 0 & 0 & 0 & 0 & 0 & 0 & 0 & NA & NA & NA & NA & NA & 1790725125 &  4 & 06 & 1235124496 &  2 & 08 &  0 &  24 &  1 &  77 &  7 &   90 & 0.00000000 & 0.01298701 & 0.07777778 & 13 & 13 & 13 &  13 & 13 &  13 & 1.00000000 & 1.00000000 & 1.00000000 &  1 & Black & Male   & 75-84 & TRUE & 12 & 12 & NA & 1\\\\\n",
       "\t 100000053 & 2015 &  5 & 0 & FALSE & FALSE & FALSE &  TRUE & FALSE & FALSE & FALSE &   15 & 33 & 331 & 1 & 2 & 79 & 0 & 0 & C & C & C & C & C & C & C & C & C & C & C & C & 0 & 0 & 0 & 0 & 0 & 0 & 0 & 0 & 0 & 0 & 0 & 0 & NA & NA & NA & NA & NA & 1417030412 &  4 & 48 & NA         & NA & NA &  0 & 103 &  0 & 116 &  0 &  126 & 0.00000000 & 0.00000000 & 0.00000000 & NA & NA & NA &  NA & NA &  NA &         NA &         NA &         NA &  1 & Black & Male   & 75-84 & TRUE & 12 & 12 & NA & 1\\\\\n",
       "\t 100000053 & 2016 &  7 & 3 &  TRUE & FALSE & FALSE &  TRUE & FALSE & FALSE &  TRUE & 2016 & 33 & 331 & 1 & 2 & 80 & 0 & 0 & C & C & C & C & C & C & C & C & C & C & C & C & 0 & 0 & 0 & 0 & 0 & 0 & 0 & 0 & 0 & 0 & 0 & 0 & NA & NA & NA & NA & NA & 1790725125 &  4 & 06 & 1154359321 &  1 & 11 &  0 &  23 &  0 &  47 &  0 &   47 & 0.00000000 & 0.00000000 & 0.00000000 &  8 & 36 &  8 & 106 &  9 & 156 & 0.22222222 & 0.07547170 & 0.05769231 &  1 & Black & Male   & 75-84 & TRUE & 12 & 12 & NA & 2\\\\\n",
       "\t 100000053 & 2017 &  6 & 1 &  TRUE &  TRUE & FALSE & FALSE & FALSE & FALSE &  TRUE & 2017 & 33 & 331 & 1 & 2 & 81 & 0 & 0 & C & C & C & C & C & C & C & C & C & C & C & C & 0 & 0 & 0 & 0 & 0 & 0 & 0 & 0 & 0 & 0 & 0 & 0 & NA & NA & NA & NA & NA & 1417030412 &  3 & 48 & 1720073976 &  3 & 08 &  0 & 104 &  0 & 122 &  0 &  140 & 0.00000000 & 0.00000000 & 0.00000000 & 11 & 11 &  7 &   7 & 11 &  11 & 1.00000000 & 1.00000000 & 1.00000000 &  1 & Black & Male   & 75-84 & TRUE & 12 & 12 & NA & 2\\\\\n",
       "\t 100000053 & 2018 &  9 & 4 &  TRUE &  TRUE & FALSE & FALSE & FALSE & FALSE &  TRUE & 2018 & 33 & 331 & 1 & 2 & 82 & 0 & 0 & C & C & C & C & C & C & C & C & C & C & C & C & 0 & 0 & 0 & 0 & 0 & 0 & 0 & 0 & 0 & 0 & 0 & 0 & NA & NA & NA & NA & NA & 1790725125 &  4 & 06 & 1205820453 &  1 & 08 &  0 &  21 & 29 &  77 & 31 &   87 & 0.00000000 & 0.37662338 & 0.35632184 & 10 & 10 & 10 &  10 & 10 &  10 & 1.00000000 & 1.00000000 & 1.00000000 &  1 & Black & Male   & 75-84 & TRUE & 12 & 12 & NA & 2\\\\\n",
       "\t 100000053 & 2019 & 16 & 3 &  TRUE &  TRUE & FALSE &  TRUE & FALSE & FALSE &  TRUE & 2019 & 33 & 331 & 1 & 2 & 83 & 0 & 0 & C & C & C & C & C & C & C & C & C & C & C & C & 0 & 0 & 0 & 0 & 0 & 0 & 0 & 0 & 0 & 0 & 0 & 0 & NA & NA & NA & NA & NA & 1154487528 &  3 & 25 & 1154359321 &  2 & 11 &  0 &  19 &  0 &  34 &  0 &   63 & 0.00000000 & 0.00000000 & 0.00000000 &  8 & 27 &  9 &  56 & 10 & 103 & 0.29629630 & 0.16071429 & 0.09708738 &  1 & Black & Male   & 75-84 & TRUE & 12 & 12 & NA & 3\\\\\n",
       "\t 100000053 & 2020 &  5 & 2 & FALSE &  TRUE & FALSE &  TRUE & FALSE & FALSE &  TRUE & 2020 & 33 & 331 & 1 & 2 & 84 & 0 & 0 & C & C & C & C & C & C & C & C & C & C & C & C & 0 & 0 & 0 & 0 & 0 & 0 & 0 & 0 & 0 & 0 & 0 & 0 & NA & NA & NA & NA & NA & 1790725125 &  2 & 06 & 1154359321 &  1 & 11 &  2 &  27 & 21 & 100 & 26 &  164 & 0.07407407 & 0.21000000 & 0.15853659 &  2 & 18 &  3 &  44 &  3 &  86 & 0.11111111 & 0.06818182 & 0.03488372 &  1 & Black & Male   & 75-84 & TRUE & 12 & 12 & NA & 2\\\\\n",
       "\\end{tabular}\n"
      ],
      "text/markdown": [
       "\n",
       "A data.table: 20 × 81\n",
       "\n",
       "| DESY_SORT_KEY &lt;int&gt; | year &lt;dbl&gt; | distinct_clinicians &lt;int&gt; | distinct_primary_care_physicians &lt;int&gt; | hypertension &lt;lgl&gt; | arthritis &lt;lgl&gt; | IHD &lt;lgl&gt; | diabetes &lt;lgl&gt; | depression &lt;lgl&gt; | icd_9_pure &lt;lgl&gt; | icd_10_pure &lt;lgl&gt; | REFERENCE_YEAR &lt;dbl&gt; | STATE_CODE &lt;chr&gt; | COUNTY_CODE &lt;chr&gt; | SEX_CODE &lt;int&gt; | RACE_CODE &lt;int&gt; | AGE &lt;dbl&gt; | ORIG_REASON_FOR_ENTITLEMENT &lt;dbl&gt; | CURR_REASON_FOR_ENTITLEMENT &lt;dbl&gt; | ENTITLEMENT_BUY_IN_IND01 &lt;chr&gt; | ENTITLEMENT_BUY_IN_IND02 &lt;chr&gt; | ENTITLEMENT_BUY_IN_IND03 &lt;chr&gt; | ENTITLEMENT_BUY_IN_IND04 &lt;chr&gt; | ENTITLEMENT_BUY_IN_IND05 &lt;chr&gt; | ENTITLEMENT_BUY_IN_IND06 &lt;chr&gt; | ENTITLEMENT_BUY_IN_IND07 &lt;chr&gt; | ENTITLEMENT_BUY_IN_IND08 &lt;chr&gt; | ENTITLEMENT_BUY_IN_IND09 &lt;chr&gt; | ENTITLEMENT_BUY_IN_IND10 &lt;chr&gt; | ENTITLEMENT_BUY_IN_IND11 &lt;chr&gt; | ENTITLEMENT_BUY_IN_IND12 &lt;chr&gt; | HMO_INDICATOR01 &lt;chr&gt; | HMO_INDICATOR02 &lt;chr&gt; | HMO_INDICATOR03 &lt;chr&gt; | HMO_INDICATOR04 &lt;chr&gt; | HMO_INDICATOR05 &lt;chr&gt; | HMO_INDICATOR06 &lt;chr&gt; | HMO_INDICATOR07 &lt;chr&gt; | HMO_INDICATOR08 &lt;chr&gt; | HMO_INDICATOR09 &lt;chr&gt; | HMO_INDICATOR10 &lt;chr&gt; | HMO_INDICATOR11 &lt;chr&gt; | HMO_INDICATOR12 &lt;chr&gt; | VALID_DATE_OF_DEATH_SWITCH &lt;chr&gt; | DATE_OF_DEATH &lt;dbl&gt; | date_died &lt;dbl&gt; | date_died_valid &lt;chr&gt; | year_of_death &lt;chr&gt; | most_common_physician_PRF_PHYSN_NPI &lt;chr&gt; | most_common_physician_n &lt;int&gt; | most_common_physician_PRVDR_SPCLTY &lt;chr&gt; | most_common_primary_care_physician_PRF_PHYSN_NPI &lt;chr&gt; | most_common_primary_care_physician_n &lt;int&gt; | most_common_primary_care_physician_PRVDR_SPCLTY &lt;chr&gt; | most_common_physician_in_facility_visits_count &lt;int&gt; | most_common_physician_in_all_visits_count &lt;int&gt; | most_common_physician_in_facility_non_exclusive_HCPCS_count &lt;int&gt; | most_common_physician_in_all_non_exclusive_HCPCS_count &lt;int&gt; | most_common_physician_in_facility_count &lt;int&gt; | most_common_physician_in_all_count &lt;int&gt; | most_common_physician_in_facility_visits_prp &lt;dbl&gt; | most_common_physician_in_facility_non_exclusive_HCPCS_prp &lt;dbl&gt; | most_common_physician_in_facility_prp &lt;dbl&gt; | most_common_primary_care_physician_in_facility_visits_count &lt;int&gt; | most_common_primary_care_physician_in_all_visits_count &lt;int&gt; | most_common_primary_care_physician_in_facility_non_exclusive_HCPCS_count &lt;int&gt; | most_common_primary_care_physician_in_all_non_exclusive_HCPCS_count &lt;int&gt; | most_common_primary_care_physician_in_facility_count &lt;int&gt; | most_common_primary_care_physician_in_all_count &lt;int&gt; | most_common_primary_care_physician_in_facility_visits_prp &lt;dbl&gt; | most_common_primary_care_physician_in_facility_non_exclusive_HCPCS_prp &lt;dbl&gt; | most_common_primary_care_physician_in_facility_prp &lt;dbl&gt; | RUCC_2013 &lt;dbl&gt; | race &lt;chr&gt; | sex &lt;chr&gt; | age_group &lt;chr&gt; | urban &lt;lgl&gt; | HMO_INDICATOR_sum &lt;int&gt; | ENTITLEMENT_BUY_IN_IND_sum &lt;int&gt; | months_alive &lt;dbl&gt; | number_of_conditions &lt;int&gt; |\n",
       "|---|---|---|---|---|---|---|---|---|---|---|---|---|---|---|---|---|---|---|---|---|---|---|---|---|---|---|---|---|---|---|---|---|---|---|---|---|---|---|---|---|---|---|---|---|---|---|---|---|---|---|---|---|---|---|---|---|---|---|---|---|---|---|---|---|---|---|---|---|---|---|---|---|---|---|---|---|---|---|---|---|\n",
       "| 100000015 | 2013 |  7 | 1 | FALSE | FALSE |  TRUE | FALSE | FALSE |  TRUE | FALSE |   13 | 22 | 160 | 1 | 1 | 76 | 0 | 0 | 3 | 3 | 3 | 3 | 3 | 3 | 3 | 3 | 3 | 3 | 3 | 3 | 0 | 0 | 0 | 0 | 0 | 0 | 0 | 0 | 0 | 0 | 0 | 0 | NA | NA | NA | NA | NA | 1285600932 |  2 | 11 | 1285600932 |  2 | 11 |  7 |  96 | 62 | 242 | 66 |  341 | 0.07291667 | 0.25619835 | 0.19354839 |  7 | 96 | 62 | 242 | 66 | 341 | 0.07291667 | 0.25619835 | 0.19354839 |  1 | White | Male   | 75-84 | TRUE | 12 | 12 | NA | 1 |\n",
       "| 100000015 | 2014 | 10 | 1 | FALSE | FALSE |  TRUE | FALSE | FALSE |  TRUE | FALSE |   14 | 22 | 160 | 1 | 1 | 77 | 0 | 0 | 3 | 3 | 3 | 3 | 3 | 3 | 3 | 3 | 3 | 3 | 3 | 3 | 0 | 0 | 0 | 0 | 0 | 0 | 0 | 0 | 0 | 0 | 0 | 0 | NA | NA | NA | NA | NA | 1770514119 |  4 | 11 | 1770514119 |  4 | 11 | 16 |  16 | 22 |  22 | 27 |   27 | 1.00000000 | 1.00000000 | 1.00000000 | 16 | 16 | 22 |  22 | 27 |  27 | 1.00000000 | 1.00000000 | 1.00000000 |  1 | White | Male   | 75-84 | TRUE | 12 | 12 | NA | 1 |\n",
       "| 100000015 | 2015 |  6 | 2 |  TRUE | FALSE | FALSE |  TRUE | FALSE | FALSE | FALSE |   15 | 22 | 160 | 1 | 1 | 78 | 0 | 0 | 3 | 3 | 3 | 3 | 3 | 3 | 3 | 3 | 3 | 3 | 3 | 3 | 0 | 0 | 0 | 0 | 0 | 0 | 0 | 0 | 0 | 0 | 0 | 0 | NA | NA | NA | NA | NA | 1770514119 |  4 | 11 | 1770514119 |  4 | 11 | 48 |  48 | 57 |  57 | 57 |   57 | 1.00000000 | 1.00000000 | 1.00000000 | 48 | 48 | 57 |  57 | 57 |  57 | 1.00000000 | 1.00000000 | 1.00000000 |  1 | White | Male   | 75-84 | TRUE | 12 | 12 | NA | 2 |\n",
       "| 100000015 | 2016 |  9 | 2 |  TRUE | FALSE |  TRUE |  TRUE | FALSE | FALSE |  TRUE | 2016 | 22 | 160 | 1 | 1 | 79 | 0 | 0 | 3 | 3 | 3 | 3 | 3 | 3 | 3 | 3 | 3 | 3 | 3 | 3 | 0 | 0 | 0 | 0 | 0 | 0 | 0 | 0 | 0 | 0 | 0 | 0 | NA | NA | NA | NA | NA | 1730170630 |  4 | 06 | 1730170630 |  4 | 11 |  0 |  21 |  0 |  21 |  4 |   41 | 0.00000000 | 0.00000000 | 0.09756098 |  0 | 21 |  0 |  21 |  4 |  41 | 0.00000000 | 0.00000000 | 0.09756098 |  1 | White | Male   | 75-84 | TRUE | 12 | 12 | NA | 3 |\n",
       "| 100000015 | 2017 | 14 | 3 | FALSE | FALSE |  TRUE |  TRUE | FALSE | FALSE |  TRUE | 2017 | 22 | 160 | 1 | 1 | 80 | 0 | 0 | 3 | 3 | 3 | 3 | 3 | 3 | 3 | 3 | 3 | 3 | 3 | 3 | 0 | 0 | 0 | 0 | 0 | 0 | 0 | 0 | 0 | 0 | 0 | 0 | NA | NA | NA | NA | NA | 1043207350 |  3 | 11 | 1043207350 |  3 | 11 | 58 |  58 | 68 |  68 | 69 |   69 | 1.00000000 | 1.00000000 | 1.00000000 | 58 | 58 | 68 |  68 | 69 |  69 | 1.00000000 | 1.00000000 | 1.00000000 |  1 | White | Male   | 75-84 | TRUE | 12 | 12 | NA | 2 |\n",
       "| 100000015 | 2018 | 16 | 2 | FALSE | FALSE |  TRUE |  TRUE | FALSE | FALSE |  TRUE | 2018 | 22 | 160 | 1 | 1 | 81 | 0 | 0 | 3 | 3 | 3 | 3 | 3 | 3 | 3 | 3 | 3 | 3 | 3 | 3 | 0 | 0 | 0 | 0 | 0 | 0 | 0 | 0 | 0 | 0 | 0 | 0 | NA | NA | NA | NA | NA | 1043207350 |  2 | 11 | 1043207350 |  2 | 11 | 52 |  52 | 62 |  62 | 62 |   62 | 1.00000000 | 1.00000000 | 1.00000000 | 52 | 52 | 62 |  62 | 62 |  62 | 1.00000000 | 1.00000000 | 1.00000000 |  1 | White | Male   | 75-84 | TRUE | 12 | 12 | NA | 2 |\n",
       "| 100000015 | 2019 | 15 | 2 | FALSE | FALSE |  TRUE |  TRUE | FALSE | FALSE |  TRUE | 2019 | 22 | 160 | 1 | 1 | 82 | 0 | 0 | 3 | 3 | 3 | 3 | 3 | 3 | 3 | 3 | 3 | 3 | 3 | 3 | 0 | 0 | 0 | 0 | 0 | 0 | 0 | 0 | 0 | 0 | 0 | 0 | NA | NA | NA | NA | NA | 1043207350 |  4 | 11 | 1043207350 |  4 | 11 | 50 |  50 | 57 |  57 | 57 |   57 | 1.00000000 | 1.00000000 | 1.00000000 | 50 | 50 | 57 |  57 | 57 |  57 | 1.00000000 | 1.00000000 | 1.00000000 |  1 | White | Male   | 75-84 | TRUE | 12 | 12 | NA | 2 |\n",
       "| 100000015 | 2020 | 28 | 1 |  TRUE | FALSE |  TRUE |  TRUE | FALSE | FALSE |  TRUE | 2020 | 22 | 160 | 1 | 1 | 83 | 0 | 0 | 3 | 3 | 3 | 3 | 3 | 3 | 3 | 3 | 3 | 3 | 3 | 3 | 0 | 0 | 0 | 0 | 0 | 0 | 0 | 0 | 0 | 0 | 0 | 0 | NA | NA | NA | NA | NA | 1558359257 |  3 | 33 | 1043207350 |  2 | 11 |  1 |  23 |  1 |  31 |  1 |   31 | 0.04347826 | 0.03225806 | 0.03225806 | 25 | 25 | 46 |  46 | 46 |  46 | 1.00000000 | 1.00000000 | 1.00000000 |  1 | White | Male   | 75-84 | TRUE | 12 | 12 | NA | 3 |\n",
       "| 100000019 | 2013 | 27 | 2 |  TRUE | FALSE | FALSE | FALSE | FALSE |  TRUE | FALSE |   13 | 07 | 050 | 2 | 4 | 76 | 0 | 0 | C | C | C | C | C | C | C | C | C | C | C | C | 0 | 0 | 0 | 0 | 0 | 0 | 0 | 0 | 0 | 0 | 0 | 0 | NA | NA | NA | NA | NA | 1609857119 | 14 | 90 | 1558465849 |  3 | 11 |  0 | 122 |  0 | 349 |  0 |  889 | 0.00000000 | 0.00000000 | 0.00000000 |  0 | 38 |  0 |  65 |  0 | 701 | 0.00000000 | 0.00000000 | 0.00000000 | NA | Asian | Female | 75-84 |   NA | 12 | 12 | NA | 1 |\n",
       "| 100000019 | 2014 | 17 | 1 |  TRUE | FALSE | FALSE | FALSE | FALSE |  TRUE | FALSE |   14 | 07 | 050 | 2 | 4 | 77 | 0 | 0 | C | C | C | C | C | C | C | C | C | C | C | 3 | 0 | 0 | 0 | 0 | 0 | 0 | 0 | 0 | 0 | 0 | 0 | 0 | NA | NA | NA | NA | NA | 1609857119 | 13 | 90 | 1558465849 |  2 | 11 |  0 |  88 |  0 | 438 |  0 |  826 | 0.00000000 | 0.00000000 | 0.00000000 |  0 | 27 |  0 |  40 |  0 | 700 | 0.00000000 | 0.00000000 | 0.00000000 | NA | Asian | Female | 75-84 |   NA | 12 | 12 | NA | 1 |\n",
       "| 100000019 | 2015 | 10 | 1 |  TRUE | FALSE | FALSE | FALSE | FALSE | FALSE | FALSE |   15 | 07 | 050 | 2 | 4 | 78 | 0 | 0 | C | C | C | C | C | C | C | C | C | C | C | C | 0 | 0 | 0 | 0 | 0 | 0 | 0 | 0 | 0 | 0 | 0 | 0 | NA | NA | NA | NA | NA | 1609857119 |  5 | 90 | 1558465849 |  2 | 11 |  0 |  70 |  0 | 410 |  0 |  797 | 0.00000000 | 0.00000000 | 0.00000000 |  0 | 29 |  0 |  41 |  0 | 665 | 0.00000000 | 0.00000000 | 0.00000000 | NA | Asian | Female | 75-84 |   NA | 12 | 12 | NA | 1 |\n",
       "| 100000019 | 2016 |  4 | 1 |  TRUE | FALSE | FALSE | FALSE | FALSE | FALSE |  TRUE | 2016 | 07 | 050 | 2 | 4 | 79 | 0 | 0 | C | C | C | C | C | C | C | C | C | C | 3 | 3 | 0 | 0 | 0 | 0 | 0 | 0 | 0 | 0 | 0 | 0 | 0 | 0 | NA | NA | NA | NA | NA | 1609857119 |  3 | 90 | 1558465849 |  1 | 11 |  0 |  87 |  0 | 722 |  0 | 1253 | 0.00000000 | 0.00000000 | 0.00000000 |  0 | 30 |  0 |  47 |  0 | 670 | 0.00000000 | 0.00000000 | 0.00000000 | NA | Asian | Female | 75-84 |   NA | 12 | 12 | NA | 1 |\n",
       "| 100000053 | 2013 |  6 | 0 | FALSE | FALSE | FALSE | FALSE | FALSE |  TRUE | FALSE |   13 | 33 | 331 | 1 | 2 | 77 | 0 | 0 | C | C | C | C | C | C | C | C | C | C | C | C | 0 | 0 | 0 | 0 | 0 | 0 | 0 | 0 | 0 | 0 | 0 | 0 | NA | NA | NA | NA | NA | 1417030412 |  5 | 48 | NA         | NA | NA |  0 | 112 |  0 | 117 |  0 |  125 | 0.00000000 | 0.00000000 | 0.00000000 | NA | NA | NA |  NA | NA |  NA |         NA |         NA |         NA |  1 | Black | Male   | 75-84 | TRUE | 12 | 12 | NA | 0 |\n",
       "| 100000053 | 2014 | 15 | 2 |  TRUE | FALSE | FALSE | FALSE | FALSE |  TRUE | FALSE |   14 | 33 | 331 | 1 | 2 | 78 | 0 | 0 | C | C | C | C | C | C | C | C | C | C | C | C | 0 | 0 | 0 | 0 | 0 | 0 | 0 | 0 | 0 | 0 | 0 | 0 | NA | NA | NA | NA | NA | 1790725125 |  4 | 06 | 1235124496 |  2 | 08 |  0 |  24 |  1 |  77 |  7 |   90 | 0.00000000 | 0.01298701 | 0.07777778 | 13 | 13 | 13 |  13 | 13 |  13 | 1.00000000 | 1.00000000 | 1.00000000 |  1 | Black | Male   | 75-84 | TRUE | 12 | 12 | NA | 1 |\n",
       "| 100000053 | 2015 |  5 | 0 | FALSE | FALSE | FALSE |  TRUE | FALSE | FALSE | FALSE |   15 | 33 | 331 | 1 | 2 | 79 | 0 | 0 | C | C | C | C | C | C | C | C | C | C | C | C | 0 | 0 | 0 | 0 | 0 | 0 | 0 | 0 | 0 | 0 | 0 | 0 | NA | NA | NA | NA | NA | 1417030412 |  4 | 48 | NA         | NA | NA |  0 | 103 |  0 | 116 |  0 |  126 | 0.00000000 | 0.00000000 | 0.00000000 | NA | NA | NA |  NA | NA |  NA |         NA |         NA |         NA |  1 | Black | Male   | 75-84 | TRUE | 12 | 12 | NA | 1 |\n",
       "| 100000053 | 2016 |  7 | 3 |  TRUE | FALSE | FALSE |  TRUE | FALSE | FALSE |  TRUE | 2016 | 33 | 331 | 1 | 2 | 80 | 0 | 0 | C | C | C | C | C | C | C | C | C | C | C | C | 0 | 0 | 0 | 0 | 0 | 0 | 0 | 0 | 0 | 0 | 0 | 0 | NA | NA | NA | NA | NA | 1790725125 |  4 | 06 | 1154359321 |  1 | 11 |  0 |  23 |  0 |  47 |  0 |   47 | 0.00000000 | 0.00000000 | 0.00000000 |  8 | 36 |  8 | 106 |  9 | 156 | 0.22222222 | 0.07547170 | 0.05769231 |  1 | Black | Male   | 75-84 | TRUE | 12 | 12 | NA | 2 |\n",
       "| 100000053 | 2017 |  6 | 1 |  TRUE |  TRUE | FALSE | FALSE | FALSE | FALSE |  TRUE | 2017 | 33 | 331 | 1 | 2 | 81 | 0 | 0 | C | C | C | C | C | C | C | C | C | C | C | C | 0 | 0 | 0 | 0 | 0 | 0 | 0 | 0 | 0 | 0 | 0 | 0 | NA | NA | NA | NA | NA | 1417030412 |  3 | 48 | 1720073976 |  3 | 08 |  0 | 104 |  0 | 122 |  0 |  140 | 0.00000000 | 0.00000000 | 0.00000000 | 11 | 11 |  7 |   7 | 11 |  11 | 1.00000000 | 1.00000000 | 1.00000000 |  1 | Black | Male   | 75-84 | TRUE | 12 | 12 | NA | 2 |\n",
       "| 100000053 | 2018 |  9 | 4 |  TRUE |  TRUE | FALSE | FALSE | FALSE | FALSE |  TRUE | 2018 | 33 | 331 | 1 | 2 | 82 | 0 | 0 | C | C | C | C | C | C | C | C | C | C | C | C | 0 | 0 | 0 | 0 | 0 | 0 | 0 | 0 | 0 | 0 | 0 | 0 | NA | NA | NA | NA | NA | 1790725125 |  4 | 06 | 1205820453 |  1 | 08 |  0 |  21 | 29 |  77 | 31 |   87 | 0.00000000 | 0.37662338 | 0.35632184 | 10 | 10 | 10 |  10 | 10 |  10 | 1.00000000 | 1.00000000 | 1.00000000 |  1 | Black | Male   | 75-84 | TRUE | 12 | 12 | NA | 2 |\n",
       "| 100000053 | 2019 | 16 | 3 |  TRUE |  TRUE | FALSE |  TRUE | FALSE | FALSE |  TRUE | 2019 | 33 | 331 | 1 | 2 | 83 | 0 | 0 | C | C | C | C | C | C | C | C | C | C | C | C | 0 | 0 | 0 | 0 | 0 | 0 | 0 | 0 | 0 | 0 | 0 | 0 | NA | NA | NA | NA | NA | 1154487528 |  3 | 25 | 1154359321 |  2 | 11 |  0 |  19 |  0 |  34 |  0 |   63 | 0.00000000 | 0.00000000 | 0.00000000 |  8 | 27 |  9 |  56 | 10 | 103 | 0.29629630 | 0.16071429 | 0.09708738 |  1 | Black | Male   | 75-84 | TRUE | 12 | 12 | NA | 3 |\n",
       "| 100000053 | 2020 |  5 | 2 | FALSE |  TRUE | FALSE |  TRUE | FALSE | FALSE |  TRUE | 2020 | 33 | 331 | 1 | 2 | 84 | 0 | 0 | C | C | C | C | C | C | C | C | C | C | C | C | 0 | 0 | 0 | 0 | 0 | 0 | 0 | 0 | 0 | 0 | 0 | 0 | NA | NA | NA | NA | NA | 1790725125 |  2 | 06 | 1154359321 |  1 | 11 |  2 |  27 | 21 | 100 | 26 |  164 | 0.07407407 | 0.21000000 | 0.15853659 |  2 | 18 |  3 |  44 |  3 |  86 | 0.11111111 | 0.06818182 | 0.03488372 |  1 | Black | Male   | 75-84 | TRUE | 12 | 12 | NA | 2 |\n",
       "\n"
      ],
      "text/plain": [
       "   DESY_SORT_KEY year distinct_clinicians distinct_primary_care_physicians hypertension arthritis IHD   diabetes depression icd_9_pure icd_10_pure REFERENCE_YEAR STATE_CODE COUNTY_CODE SEX_CODE RACE_CODE AGE ORIG_REASON_FOR_ENTITLEMENT CURR_REASON_FOR_ENTITLEMENT ENTITLEMENT_BUY_IN_IND01\n",
       "1  100000015     2013  7                  1                                FALSE        FALSE      TRUE FALSE    FALSE       TRUE      FALSE         13           22         160         1        1         76  0                           0                           3                       \n",
       "2  100000015     2014 10                  1                                FALSE        FALSE      TRUE FALSE    FALSE       TRUE      FALSE         14           22         160         1        1         77  0                           0                           3                       \n",
       "3  100000015     2015  6                  2                                 TRUE        FALSE     FALSE  TRUE    FALSE      FALSE      FALSE         15           22         160         1        1         78  0                           0                           3                       \n",
       "4  100000015     2016  9                  2                                 TRUE        FALSE      TRUE  TRUE    FALSE      FALSE       TRUE       2016           22         160         1        1         79  0                           0                           3                       \n",
       "5  100000015     2017 14                  3                                FALSE        FALSE      TRUE  TRUE    FALSE      FALSE       TRUE       2017           22         160         1        1         80  0                           0                           3                       \n",
       "6  100000015     2018 16                  2                                FALSE        FALSE      TRUE  TRUE    FALSE      FALSE       TRUE       2018           22         160         1        1         81  0                           0                           3                       \n",
       "7  100000015     2019 15                  2                                FALSE        FALSE      TRUE  TRUE    FALSE      FALSE       TRUE       2019           22         160         1        1         82  0                           0                           3                       \n",
       "8  100000015     2020 28                  1                                 TRUE        FALSE      TRUE  TRUE    FALSE      FALSE       TRUE       2020           22         160         1        1         83  0                           0                           3                       \n",
       "9  100000019     2013 27                  2                                 TRUE        FALSE     FALSE FALSE    FALSE       TRUE      FALSE         13           07         050         2        4         76  0                           0                           C                       \n",
       "10 100000019     2014 17                  1                                 TRUE        FALSE     FALSE FALSE    FALSE       TRUE      FALSE         14           07         050         2        4         77  0                           0                           C                       \n",
       "11 100000019     2015 10                  1                                 TRUE        FALSE     FALSE FALSE    FALSE      FALSE      FALSE         15           07         050         2        4         78  0                           0                           C                       \n",
       "12 100000019     2016  4                  1                                 TRUE        FALSE     FALSE FALSE    FALSE      FALSE       TRUE       2016           07         050         2        4         79  0                           0                           C                       \n",
       "13 100000053     2013  6                  0                                FALSE        FALSE     FALSE FALSE    FALSE       TRUE      FALSE         13           33         331         1        2         77  0                           0                           C                       \n",
       "14 100000053     2014 15                  2                                 TRUE        FALSE     FALSE FALSE    FALSE       TRUE      FALSE         14           33         331         1        2         78  0                           0                           C                       \n",
       "15 100000053     2015  5                  0                                FALSE        FALSE     FALSE  TRUE    FALSE      FALSE      FALSE         15           33         331         1        2         79  0                           0                           C                       \n",
       "16 100000053     2016  7                  3                                 TRUE        FALSE     FALSE  TRUE    FALSE      FALSE       TRUE       2016           33         331         1        2         80  0                           0                           C                       \n",
       "17 100000053     2017  6                  1                                 TRUE         TRUE     FALSE FALSE    FALSE      FALSE       TRUE       2017           33         331         1        2         81  0                           0                           C                       \n",
       "18 100000053     2018  9                  4                                 TRUE         TRUE     FALSE FALSE    FALSE      FALSE       TRUE       2018           33         331         1        2         82  0                           0                           C                       \n",
       "19 100000053     2019 16                  3                                 TRUE         TRUE     FALSE  TRUE    FALSE      FALSE       TRUE       2019           33         331         1        2         83  0                           0                           C                       \n",
       "20 100000053     2020  5                  2                                FALSE         TRUE     FALSE  TRUE    FALSE      FALSE       TRUE       2020           33         331         1        2         84  0                           0                           C                       \n",
       "   ENTITLEMENT_BUY_IN_IND02 ENTITLEMENT_BUY_IN_IND03 ENTITLEMENT_BUY_IN_IND04 ENTITLEMENT_BUY_IN_IND05 ENTITLEMENT_BUY_IN_IND06 ENTITLEMENT_BUY_IN_IND07 ENTITLEMENT_BUY_IN_IND08 ENTITLEMENT_BUY_IN_IND09 ENTITLEMENT_BUY_IN_IND10 ENTITLEMENT_BUY_IN_IND11 ENTITLEMENT_BUY_IN_IND12 HMO_INDICATOR01\n",
       "1  3                        3                        3                        3                        3                        3                        3                        3                        3                        3                        3                        0              \n",
       "2  3                        3                        3                        3                        3                        3                        3                        3                        3                        3                        3                        0              \n",
       "3  3                        3                        3                        3                        3                        3                        3                        3                        3                        3                        3                        0              \n",
       "4  3                        3                        3                        3                        3                        3                        3                        3                        3                        3                        3                        0              \n",
       "5  3                        3                        3                        3                        3                        3                        3                        3                        3                        3                        3                        0              \n",
       "6  3                        3                        3                        3                        3                        3                        3                        3                        3                        3                        3                        0              \n",
       "7  3                        3                        3                        3                        3                        3                        3                        3                        3                        3                        3                        0              \n",
       "8  3                        3                        3                        3                        3                        3                        3                        3                        3                        3                        3                        0              \n",
       "9  C                        C                        C                        C                        C                        C                        C                        C                        C                        C                        C                        0              \n",
       "10 C                        C                        C                        C                        C                        C                        C                        C                        C                        C                        3                        0              \n",
       "11 C                        C                        C                        C                        C                        C                        C                        C                        C                        C                        C                        0              \n",
       "12 C                        C                        C                        C                        C                        C                        C                        C                        C                        3                        3                        0              \n",
       "13 C                        C                        C                        C                        C                        C                        C                        C                        C                        C                        C                        0              \n",
       "14 C                        C                        C                        C                        C                        C                        C                        C                        C                        C                        C                        0              \n",
       "15 C                        C                        C                        C                        C                        C                        C                        C                        C                        C                        C                        0              \n",
       "16 C                        C                        C                        C                        C                        C                        C                        C                        C                        C                        C                        0              \n",
       "17 C                        C                        C                        C                        C                        C                        C                        C                        C                        C                        C                        0              \n",
       "18 C                        C                        C                        C                        C                        C                        C                        C                        C                        C                        C                        0              \n",
       "19 C                        C                        C                        C                        C                        C                        C                        C                        C                        C                        C                        0              \n",
       "20 C                        C                        C                        C                        C                        C                        C                        C                        C                        C                        C                        0              \n",
       "   HMO_INDICATOR02 HMO_INDICATOR03 HMO_INDICATOR04 HMO_INDICATOR05 HMO_INDICATOR06 HMO_INDICATOR07 HMO_INDICATOR08 HMO_INDICATOR09 HMO_INDICATOR10 HMO_INDICATOR11 HMO_INDICATOR12 VALID_DATE_OF_DEATH_SWITCH DATE_OF_DEATH date_died date_died_valid year_of_death most_common_physician_PRF_PHYSN_NPI\n",
       "1  0               0               0               0               0               0               0               0               0               0               0               NA                         NA            NA        NA              NA            1285600932                         \n",
       "2  0               0               0               0               0               0               0               0               0               0               0               NA                         NA            NA        NA              NA            1770514119                         \n",
       "3  0               0               0               0               0               0               0               0               0               0               0               NA                         NA            NA        NA              NA            1770514119                         \n",
       "4  0               0               0               0               0               0               0               0               0               0               0               NA                         NA            NA        NA              NA            1730170630                         \n",
       "5  0               0               0               0               0               0               0               0               0               0               0               NA                         NA            NA        NA              NA            1043207350                         \n",
       "6  0               0               0               0               0               0               0               0               0               0               0               NA                         NA            NA        NA              NA            1043207350                         \n",
       "7  0               0               0               0               0               0               0               0               0               0               0               NA                         NA            NA        NA              NA            1043207350                         \n",
       "8  0               0               0               0               0               0               0               0               0               0               0               NA                         NA            NA        NA              NA            1558359257                         \n",
       "9  0               0               0               0               0               0               0               0               0               0               0               NA                         NA            NA        NA              NA            1609857119                         \n",
       "10 0               0               0               0               0               0               0               0               0               0               0               NA                         NA            NA        NA              NA            1609857119                         \n",
       "11 0               0               0               0               0               0               0               0               0               0               0               NA                         NA            NA        NA              NA            1609857119                         \n",
       "12 0               0               0               0               0               0               0               0               0               0               0               NA                         NA            NA        NA              NA            1609857119                         \n",
       "13 0               0               0               0               0               0               0               0               0               0               0               NA                         NA            NA        NA              NA            1417030412                         \n",
       "14 0               0               0               0               0               0               0               0               0               0               0               NA                         NA            NA        NA              NA            1790725125                         \n",
       "15 0               0               0               0               0               0               0               0               0               0               0               NA                         NA            NA        NA              NA            1417030412                         \n",
       "16 0               0               0               0               0               0               0               0               0               0               0               NA                         NA            NA        NA              NA            1790725125                         \n",
       "17 0               0               0               0               0               0               0               0               0               0               0               NA                         NA            NA        NA              NA            1417030412                         \n",
       "18 0               0               0               0               0               0               0               0               0               0               0               NA                         NA            NA        NA              NA            1790725125                         \n",
       "19 0               0               0               0               0               0               0               0               0               0               0               NA                         NA            NA        NA              NA            1154487528                         \n",
       "20 0               0               0               0               0               0               0               0               0               0               0               NA                         NA            NA        NA              NA            1790725125                         \n",
       "   most_common_physician_n most_common_physician_PRVDR_SPCLTY most_common_primary_care_physician_PRF_PHYSN_NPI most_common_primary_care_physician_n most_common_primary_care_physician_PRVDR_SPCLTY most_common_physician_in_facility_visits_count most_common_physician_in_all_visits_count\n",
       "1   2                      11                                 1285600932                                        2                                   11                                               7                                              96                                      \n",
       "2   4                      11                                 1770514119                                        4                                   11                                              16                                              16                                      \n",
       "3   4                      11                                 1770514119                                        4                                   11                                              48                                              48                                      \n",
       "4   4                      06                                 1730170630                                        4                                   11                                               0                                              21                                      \n",
       "5   3                      11                                 1043207350                                        3                                   11                                              58                                              58                                      \n",
       "6   2                      11                                 1043207350                                        2                                   11                                              52                                              52                                      \n",
       "7   4                      11                                 1043207350                                        4                                   11                                              50                                              50                                      \n",
       "8   3                      33                                 1043207350                                        2                                   11                                               1                                              23                                      \n",
       "9  14                      90                                 1558465849                                        3                                   11                                               0                                             122                                      \n",
       "10 13                      90                                 1558465849                                        2                                   11                                               0                                              88                                      \n",
       "11  5                      90                                 1558465849                                        2                                   11                                               0                                              70                                      \n",
       "12  3                      90                                 1558465849                                        1                                   11                                               0                                              87                                      \n",
       "13  5                      48                                 NA                                               NA                                   NA                                               0                                             112                                      \n",
       "14  4                      06                                 1235124496                                        2                                   08                                               0                                              24                                      \n",
       "15  4                      48                                 NA                                               NA                                   NA                                               0                                             103                                      \n",
       "16  4                      06                                 1154359321                                        1                                   11                                               0                                              23                                      \n",
       "17  3                      48                                 1720073976                                        3                                   08                                               0                                             104                                      \n",
       "18  4                      06                                 1205820453                                        1                                   08                                               0                                              21                                      \n",
       "19  3                      25                                 1154359321                                        2                                   11                                               0                                              19                                      \n",
       "20  2                      06                                 1154359321                                        1                                   11                                               2                                              27                                      \n",
       "   most_common_physician_in_facility_non_exclusive_HCPCS_count most_common_physician_in_all_non_exclusive_HCPCS_count most_common_physician_in_facility_count most_common_physician_in_all_count most_common_physician_in_facility_visits_prp most_common_physician_in_facility_non_exclusive_HCPCS_prp\n",
       "1  62                                                          242                                                    66                                       341                               0.07291667                                   0.25619835                                               \n",
       "2  22                                                           22                                                    27                                        27                               1.00000000                                   1.00000000                                               \n",
       "3  57                                                           57                                                    57                                        57                               1.00000000                                   1.00000000                                               \n",
       "4   0                                                           21                                                     4                                        41                               0.00000000                                   0.00000000                                               \n",
       "5  68                                                           68                                                    69                                        69                               1.00000000                                   1.00000000                                               \n",
       "6  62                                                           62                                                    62                                        62                               1.00000000                                   1.00000000                                               \n",
       "7  57                                                           57                                                    57                                        57                               1.00000000                                   1.00000000                                               \n",
       "8   1                                                           31                                                     1                                        31                               0.04347826                                   0.03225806                                               \n",
       "9   0                                                          349                                                     0                                       889                               0.00000000                                   0.00000000                                               \n",
       "10  0                                                          438                                                     0                                       826                               0.00000000                                   0.00000000                                               \n",
       "11  0                                                          410                                                     0                                       797                               0.00000000                                   0.00000000                                               \n",
       "12  0                                                          722                                                     0                                      1253                               0.00000000                                   0.00000000                                               \n",
       "13  0                                                          117                                                     0                                       125                               0.00000000                                   0.00000000                                               \n",
       "14  1                                                           77                                                     7                                        90                               0.00000000                                   0.01298701                                               \n",
       "15  0                                                          116                                                     0                                       126                               0.00000000                                   0.00000000                                               \n",
       "16  0                                                           47                                                     0                                        47                               0.00000000                                   0.00000000                                               \n",
       "17  0                                                          122                                                     0                                       140                               0.00000000                                   0.00000000                                               \n",
       "18 29                                                           77                                                    31                                        87                               0.00000000                                   0.37662338                                               \n",
       "19  0                                                           34                                                     0                                        63                               0.00000000                                   0.00000000                                               \n",
       "20 21                                                          100                                                    26                                       164                               0.07407407                                   0.21000000                                               \n",
       "   most_common_physician_in_facility_prp most_common_primary_care_physician_in_facility_visits_count most_common_primary_care_physician_in_all_visits_count most_common_primary_care_physician_in_facility_non_exclusive_HCPCS_count most_common_primary_care_physician_in_all_non_exclusive_HCPCS_count\n",
       "1  0.19354839                             7                                                          96                                                     62                                                                       242                                                                \n",
       "2  1.00000000                            16                                                          16                                                     22                                                                        22                                                                \n",
       "3  1.00000000                            48                                                          48                                                     57                                                                        57                                                                \n",
       "4  0.09756098                             0                                                          21                                                      0                                                                        21                                                                \n",
       "5  1.00000000                            58                                                          58                                                     68                                                                        68                                                                \n",
       "6  1.00000000                            52                                                          52                                                     62                                                                        62                                                                \n",
       "7  1.00000000                            50                                                          50                                                     57                                                                        57                                                                \n",
       "8  0.03225806                            25                                                          25                                                     46                                                                        46                                                                \n",
       "9  0.00000000                             0                                                          38                                                      0                                                                        65                                                                \n",
       "10 0.00000000                             0                                                          27                                                      0                                                                        40                                                                \n",
       "11 0.00000000                             0                                                          29                                                      0                                                                        41                                                                \n",
       "12 0.00000000                             0                                                          30                                                      0                                                                        47                                                                \n",
       "13 0.00000000                            NA                                                          NA                                                     NA                                                                        NA                                                                \n",
       "14 0.07777778                            13                                                          13                                                     13                                                                        13                                                                \n",
       "15 0.00000000                            NA                                                          NA                                                     NA                                                                        NA                                                                \n",
       "16 0.00000000                             8                                                          36                                                      8                                                                       106                                                                \n",
       "17 0.00000000                            11                                                          11                                                      7                                                                         7                                                                \n",
       "18 0.35632184                            10                                                          10                                                     10                                                                        10                                                                \n",
       "19 0.00000000                             8                                                          27                                                      9                                                                        56                                                                \n",
       "20 0.15853659                             2                                                          18                                                      3                                                                        44                                                                \n",
       "   most_common_primary_care_physician_in_facility_count most_common_primary_care_physician_in_all_count most_common_primary_care_physician_in_facility_visits_prp most_common_primary_care_physician_in_facility_non_exclusive_HCPCS_prp most_common_primary_care_physician_in_facility_prp RUCC_2013 race \n",
       "1  66                                                   341                                             0.07291667                                                0.25619835                                                             0.19354839                                          1        White\n",
       "2  27                                                    27                                             1.00000000                                                1.00000000                                                             1.00000000                                          1        White\n",
       "3  57                                                    57                                             1.00000000                                                1.00000000                                                             1.00000000                                          1        White\n",
       "4   4                                                    41                                             0.00000000                                                0.00000000                                                             0.09756098                                          1        White\n",
       "5  69                                                    69                                             1.00000000                                                1.00000000                                                             1.00000000                                          1        White\n",
       "6  62                                                    62                                             1.00000000                                                1.00000000                                                             1.00000000                                          1        White\n",
       "7  57                                                    57                                             1.00000000                                                1.00000000                                                             1.00000000                                          1        White\n",
       "8  46                                                    46                                             1.00000000                                                1.00000000                                                             1.00000000                                          1        White\n",
       "9   0                                                   701                                             0.00000000                                                0.00000000                                                             0.00000000                                         NA        Asian\n",
       "10  0                                                   700                                             0.00000000                                                0.00000000                                                             0.00000000                                         NA        Asian\n",
       "11  0                                                   665                                             0.00000000                                                0.00000000                                                             0.00000000                                         NA        Asian\n",
       "12  0                                                   670                                             0.00000000                                                0.00000000                                                             0.00000000                                         NA        Asian\n",
       "13 NA                                                    NA                                                     NA                                                        NA                                                                     NA                                          1        Black\n",
       "14 13                                                    13                                             1.00000000                                                1.00000000                                                             1.00000000                                          1        Black\n",
       "15 NA                                                    NA                                                     NA                                                        NA                                                                     NA                                          1        Black\n",
       "16  9                                                   156                                             0.22222222                                                0.07547170                                                             0.05769231                                          1        Black\n",
       "17 11                                                    11                                             1.00000000                                                1.00000000                                                             1.00000000                                          1        Black\n",
       "18 10                                                    10                                             1.00000000                                                1.00000000                                                             1.00000000                                          1        Black\n",
       "19 10                                                   103                                             0.29629630                                                0.16071429                                                             0.09708738                                          1        Black\n",
       "20  3                                                    86                                             0.11111111                                                0.06818182                                                             0.03488372                                          1        Black\n",
       "   sex    age_group urban HMO_INDICATOR_sum ENTITLEMENT_BUY_IN_IND_sum months_alive number_of_conditions\n",
       "1  Male   75-84     TRUE  12                12                         NA           1                   \n",
       "2  Male   75-84     TRUE  12                12                         NA           1                   \n",
       "3  Male   75-84     TRUE  12                12                         NA           2                   \n",
       "4  Male   75-84     TRUE  12                12                         NA           3                   \n",
       "5  Male   75-84     TRUE  12                12                         NA           2                   \n",
       "6  Male   75-84     TRUE  12                12                         NA           2                   \n",
       "7  Male   75-84     TRUE  12                12                         NA           2                   \n",
       "8  Male   75-84     TRUE  12                12                         NA           3                   \n",
       "9  Female 75-84       NA  12                12                         NA           1                   \n",
       "10 Female 75-84       NA  12                12                         NA           1                   \n",
       "11 Female 75-84       NA  12                12                         NA           1                   \n",
       "12 Female 75-84       NA  12                12                         NA           1                   \n",
       "13 Male   75-84     TRUE  12                12                         NA           0                   \n",
       "14 Male   75-84     TRUE  12                12                         NA           1                   \n",
       "15 Male   75-84     TRUE  12                12                         NA           1                   \n",
       "16 Male   75-84     TRUE  12                12                         NA           2                   \n",
       "17 Male   75-84     TRUE  12                12                         NA           2                   \n",
       "18 Male   75-84     TRUE  12                12                         NA           2                   \n",
       "19 Male   75-84     TRUE  12                12                         NA           3                   \n",
       "20 Male   75-84     TRUE  12                12                         NA           2                   "
      ]
     },
     "metadata": {},
     "output_type": "display_data"
    }
   ],
   "source": [
    "head(yearly_calculations, 20)"
   ]
  },
  {
   "cell_type": "code",
   "execution_count": 23,
   "id": "19fa49c3-4fc6-46fb-96d3-9cc869d2279e",
   "metadata": {},
   "outputs": [],
   "source": [
    "write_fst(yearly_calculations, \"yearly_calculations_cleaned.fst\")"
   ]
  },
  {
   "cell_type": "markdown",
   "id": "1626aab5-e785-4e7a-a522-9a882cd54443",
   "metadata": {
    "incorrectly_encoded_metadata": "jp-MarkdownHeadingCollapsed=true",
    "tags": []
   },
   "source": [
    "# Add MDPPAS"
   ]
  },
  {
   "cell_type": "markdown",
   "id": "580350db-cc86-4c56-a69d-b3865a7b7b61",
   "metadata": {},
   "source": [
    "## Read from SAS file and convert to fst"
   ]
  },
  {
   "cell_type": "code",
   "execution_count": 2,
   "id": "d2b98854-1d5b-4b5a-8fe5-b5b8aff48f59",
   "metadata": {
    "tags": []
   },
   "outputs": [],
   "source": [
    "library(haven)\n",
    "mdppas_data=read_sas(\n",
    "  data_file=\n",
    "  \"/work/postresearch/Shared/Data_raw/Medicare/MDPPAS/mdppas0819.sas7bdat\")"
   ]
  },
  {
   "cell_type": "code",
   "execution_count": 3,
   "id": "8ebcd9d3-1fce-4fc6-ad92-d46fef735476",
   "metadata": {},
   "outputs": [
    {
     "data": {
      "text/html": [
       "<table class=\"dataframe\">\n",
       "<caption>A tibble: 6 × 49</caption>\n",
       "<thead>\n",
       "\t<tr><th scope=col>npi</th><th scope=col>year</th><th scope=col>viclaims</th><th scope=col>vikeyword</th><th scope=col>tin1_nu</th><th scope=col>tin1_legal_name</th><th scope=col>tin2_nu</th><th scope=col>tin2_legal_name</th><th scope=col>name_last</th><th scope=col>name_first</th><th scope=col>name_middle</th><th scope=col>SPEC_PRIM_1_NAME</th><th scope=col>SPEC_PRIM_1</th><th scope=col>SPEC_BROAD</th><th scope=col>SEX</th><th scope=col>SPEC_PRIM_2</th><th scope=col>SPEC_PRIM_2_NAME</th><th scope=col>SPEC_SOURCE</th><th scope=col>SPEC_SOURCE_HOSP</th><th scope=col>POS_OFFICE</th><th scope=col>POS_INPAT</th><th scope=col>POS_OPD</th><th scope=col>POS_ER</th><th scope=col>POS_NURSING</th><th scope=col>POS_ASC</th><th scope=col>POS_RESID</th><th scope=col>POS_RETAIL</th><th scope=col>POS_URGENT</th><th scope=col>POS_OTHER</th><th scope=col>STATE</th><th scope=col>STATE_MULTI</th><th scope=col>CBSA_TYPE</th><th scope=col>CBSA_CD</th><th scope=col>CBSA_NAME</th><th scope=col>CBSA_MULTI</th><th scope=col>NPI_SRVC_LINES</th><th scope=col>NPI_ALLOWED_AMT</th><th scope=col>NPI_UNQ_BENES</th><th scope=col>TIN1_SRVC_MONTH</th><th scope=col>TIN1_SRVC_LINES</th><th scope=col>TIN1_ALLOWED_AMT</th><th scope=col>TIN1_UNQ_BENES</th><th scope=col>TIN2_SRVC_MONTH</th><th scope=col>TIN2_SRVC_LINES</th><th scope=col>TIN2_ALLOWED_AMT</th><th scope=col>TIN2_UNQ_BENES</th><th scope=col>BIRTH_YR</th><th scope=col>lns_office</th><th scope=col>lns_opd</th></tr>\n",
       "\t<tr><th scope=col>&lt;chr&gt;</th><th scope=col>&lt;dbl&gt;</th><th scope=col>&lt;dbl&gt;</th><th scope=col>&lt;dbl&gt;</th><th scope=col>&lt;chr&gt;</th><th scope=col>&lt;chr&gt;</th><th scope=col>&lt;chr&gt;</th><th scope=col>&lt;chr&gt;</th><th scope=col>&lt;chr&gt;</th><th scope=col>&lt;chr&gt;</th><th scope=col>&lt;chr&gt;</th><th scope=col>&lt;chr&gt;</th><th scope=col>&lt;chr&gt;</th><th scope=col>&lt;dbl&gt;</th><th scope=col>&lt;chr&gt;</th><th scope=col>&lt;chr&gt;</th><th scope=col>&lt;chr&gt;</th><th scope=col>&lt;dbl&gt;</th><th scope=col>&lt;dbl&gt;</th><th scope=col>&lt;dbl&gt;</th><th scope=col>&lt;dbl&gt;</th><th scope=col>&lt;dbl&gt;</th><th scope=col>&lt;dbl&gt;</th><th scope=col>&lt;dbl&gt;</th><th scope=col>&lt;dbl&gt;</th><th scope=col>&lt;dbl&gt;</th><th scope=col>&lt;dbl&gt;</th><th scope=col>&lt;dbl&gt;</th><th scope=col>&lt;dbl&gt;</th><th scope=col>&lt;chr&gt;</th><th scope=col>&lt;dbl&gt;</th><th scope=col>&lt;dbl&gt;</th><th scope=col>&lt;chr&gt;</th><th scope=col>&lt;chr&gt;</th><th scope=col>&lt;dbl&gt;</th><th scope=col>&lt;dbl&gt;</th><th scope=col>&lt;dbl&gt;</th><th scope=col>&lt;dbl&gt;</th><th scope=col>&lt;chr&gt;</th><th scope=col>&lt;dbl&gt;</th><th scope=col>&lt;dbl&gt;</th><th scope=col>&lt;dbl&gt;</th><th scope=col>&lt;chr&gt;</th><th scope=col>&lt;dbl&gt;</th><th scope=col>&lt;dbl&gt;</th><th scope=col>&lt;dbl&gt;</th><th scope=col>&lt;dbl&gt;</th><th scope=col>&lt;dbl&gt;</th><th scope=col>&lt;dbl&gt;</th></tr>\n",
       "</thead>\n",
       "<tbody>\n",
       "\t<tr><td>1003000126</td><td>2009</td><td>NA</td><td>0</td><td>NU00286134</td><td>UPMC WESTERN MARYLAND CORPORATION             </td><td>          </td><td>                                 </td><td>ENKESHAFI</td><td>ARDALAN</td><td></td><td>Hospitalist</td><td>C6</td><td>5</td><td>M</td><td>11</td><td>Internal Medicine</td><td>1</td><td>2</td><td>0.0000000000</td><td>1.0000000</td><td>0.000000000</td><td>0.0000000000</td><td>0</td><td>0</td><td>0</td><td>0</td><td>0</td><td>0.000000000</td><td>MD</td><td>0</td><td>1</td><td>19060</td><td>Cumberland, MD-WV            </td><td>0</td><td> 405</td><td> 28669.86</td><td>176</td><td>000000001111</td><td> 405</td><td> 28669.86</td><td>176</td><td>            </td><td> NA</td><td>     NA</td><td> NA</td><td>1968</td><td>0</td><td> 0</td></tr>\n",
       "\t<tr><td>1003000126</td><td>2010</td><td> 1</td><td>0</td><td>NU00286134</td><td>UPMC WESTERN MARYLAND CORPORATION             </td><td>          </td><td>                                 </td><td>ENKESHAFI</td><td>ARDALAN</td><td></td><td>Hospitalist</td><td>C6</td><td>5</td><td>M</td><td>11</td><td>Internal Medicine</td><td>1</td><td>2</td><td>0.0000000000</td><td>0.9922280</td><td>0.003454231</td><td>0.0000000000</td><td>0</td><td>0</td><td>0</td><td>0</td><td>0</td><td>0.004317789</td><td>MD</td><td>0</td><td>1</td><td>19060</td><td>Cumberland, MD-WV            </td><td>0</td><td>1158</td><td>101834.65</td><td>510</td><td>111111111111</td><td>1158</td><td>101834.65</td><td>510</td><td>            </td><td> NA</td><td>     NA</td><td> NA</td><td>1968</td><td>0</td><td> 4</td></tr>\n",
       "\t<tr><td>1003000126</td><td>2011</td><td> 1</td><td>0</td><td>NU00286134</td><td>UPMC WESTERN MARYLAND CORPORATION             </td><td>          </td><td>                                 </td><td>ENKESHAFI</td><td>ARDALAN</td><td></td><td>Hospitalist</td><td>C6</td><td>5</td><td>M</td><td>11</td><td>Internal Medicine</td><td>1</td><td>2</td><td>0.0000000000</td><td>0.9738520</td><td>0.022321429</td><td>0.0006377551</td><td>0</td><td>0</td><td>0</td><td>0</td><td>0</td><td>0.003188776</td><td>MD</td><td>0</td><td>1</td><td>19060</td><td>Cumberland, MD-WV            </td><td>0</td><td>1568</td><td>130586.46</td><td>685</td><td>111111111111</td><td>1568</td><td>130586.46</td><td>685</td><td>            </td><td> NA</td><td>     NA</td><td> NA</td><td>1968</td><td>0</td><td>35</td></tr>\n",
       "\t<tr><td>1003000126</td><td>2012</td><td> 1</td><td>0</td><td>NU00286134</td><td>UPMC WESTERN MARYLAND CORPORATION             </td><td>          </td><td>                                 </td><td>ENKESHAFI</td><td>ARDALAN</td><td></td><td>Hospitalist</td><td>C6</td><td>5</td><td>M</td><td>11</td><td>Internal Medicine</td><td>1</td><td>2</td><td>0.0008045052</td><td>0.9903459</td><td>0.005631537</td><td>0.0000000000</td><td>0</td><td>0</td><td>0</td><td>0</td><td>0</td><td>0.003218021</td><td>MD</td><td>0</td><td>1</td><td>19060</td><td>Cumberland, MD-WV            </td><td>0</td><td>1243</td><td>113956.76</td><td>581</td><td>111111111111</td><td>1243</td><td>113956.76</td><td>581</td><td>            </td><td> NA</td><td>     NA</td><td> NA</td><td>1968</td><td>1</td><td> 7</td></tr>\n",
       "\t<tr><td>1003000126</td><td>2013</td><td> 1</td><td>1</td><td>NU00145029</td><td>HOSPITALIST MEDICINE PHYSICIANS OF MARYLAND PC</td><td>NU00286134</td><td>UPMC WESTERN MARYLAND CORPORATION</td><td>ENKESHAFI</td><td>ARDALAN</td><td></td><td>Hospitalist</td><td>C6</td><td>5</td><td>M</td><td>11</td><td>Internal Medicine</td><td>1</td><td>2</td><td>0.0000000000</td><td>0.9836066</td><td>0.006678810</td><td>0.0042501518</td><td>0</td><td>0</td><td>0</td><td>0</td><td>0</td><td>0.005464481</td><td>MD</td><td>0</td><td>1</td><td>12580</td><td>Baltimore-Columbia-Towson, MD</td><td>1</td><td>1647</td><td>146521.84</td><td>660</td><td>000111111111</td><td>1217</td><td>107567.04</td><td>487</td><td>111101000000</td><td>430</td><td>38954.8</td><td>197</td><td>1968</td><td>0</td><td>11</td></tr>\n",
       "\t<tr><td>1003000126</td><td>2014</td><td> 1</td><td>1</td><td>NU00145029</td><td>HOSPITALIST MEDICINE PHYSICIANS OF MARYLAND PC</td><td>          </td><td>                                 </td><td>ENKESHAFI</td><td>ARDALAN</td><td></td><td>Hospitalist</td><td>C6</td><td>5</td><td>M</td><td>11</td><td>Internal Medicine</td><td>1</td><td>2</td><td>0.0000000000</td><td>0.9930884</td><td>0.001818843</td><td>0.0000000000</td><td>0</td><td>0</td><td>0</td><td>0</td><td>0</td><td>0.005092761</td><td>MD</td><td>0</td><td>1</td><td>12580</td><td>Baltimore-Columbia-Towson, MD</td><td>0</td><td>2749</td><td>248222.87</td><td>907</td><td>111111111111</td><td>2749</td><td>248222.87</td><td>907</td><td>            </td><td> NA</td><td>     NA</td><td> NA</td><td>1968</td><td>0</td><td> 5</td></tr>\n",
       "</tbody>\n",
       "</table>\n"
      ],
      "text/latex": [
       "A tibble: 6 × 49\n",
       "\\begin{tabular}{lllllllllllllllllllllllllllllllllllllllllllllllll}\n",
       " npi & year & viclaims & vikeyword & tin1\\_nu & tin1\\_legal\\_name & tin2\\_nu & tin2\\_legal\\_name & name\\_last & name\\_first & name\\_middle & SPEC\\_PRIM\\_1\\_NAME & SPEC\\_PRIM\\_1 & SPEC\\_BROAD & SEX & SPEC\\_PRIM\\_2 & SPEC\\_PRIM\\_2\\_NAME & SPEC\\_SOURCE & SPEC\\_SOURCE\\_HOSP & POS\\_OFFICE & POS\\_INPAT & POS\\_OPD & POS\\_ER & POS\\_NURSING & POS\\_ASC & POS\\_RESID & POS\\_RETAIL & POS\\_URGENT & POS\\_OTHER & STATE & STATE\\_MULTI & CBSA\\_TYPE & CBSA\\_CD & CBSA\\_NAME & CBSA\\_MULTI & NPI\\_SRVC\\_LINES & NPI\\_ALLOWED\\_AMT & NPI\\_UNQ\\_BENES & TIN1\\_SRVC\\_MONTH & TIN1\\_SRVC\\_LINES & TIN1\\_ALLOWED\\_AMT & TIN1\\_UNQ\\_BENES & TIN2\\_SRVC\\_MONTH & TIN2\\_SRVC\\_LINES & TIN2\\_ALLOWED\\_AMT & TIN2\\_UNQ\\_BENES & BIRTH\\_YR & lns\\_office & lns\\_opd\\\\\n",
       " <chr> & <dbl> & <dbl> & <dbl> & <chr> & <chr> & <chr> & <chr> & <chr> & <chr> & <chr> & <chr> & <chr> & <dbl> & <chr> & <chr> & <chr> & <dbl> & <dbl> & <dbl> & <dbl> & <dbl> & <dbl> & <dbl> & <dbl> & <dbl> & <dbl> & <dbl> & <dbl> & <chr> & <dbl> & <dbl> & <chr> & <chr> & <dbl> & <dbl> & <dbl> & <dbl> & <chr> & <dbl> & <dbl> & <dbl> & <chr> & <dbl> & <dbl> & <dbl> & <dbl> & <dbl> & <dbl>\\\\\n",
       "\\hline\n",
       "\t 1003000126 & 2009 & NA & 0 & NU00286134 & UPMC WESTERN MARYLAND CORPORATION              &            &                                   & ENKESHAFI & ARDALAN &  & Hospitalist & C6 & 5 & M & 11 & Internal Medicine & 1 & 2 & 0.0000000000 & 1.0000000 & 0.000000000 & 0.0000000000 & 0 & 0 & 0 & 0 & 0 & 0.000000000 & MD & 0 & 1 & 19060 & Cumberland, MD-WV             & 0 &  405 &  28669.86 & 176 & 000000001111 &  405 &  28669.86 & 176 &              &  NA &      NA &  NA & 1968 & 0 &  0\\\\\n",
       "\t 1003000126 & 2010 &  1 & 0 & NU00286134 & UPMC WESTERN MARYLAND CORPORATION              &            &                                   & ENKESHAFI & ARDALAN &  & Hospitalist & C6 & 5 & M & 11 & Internal Medicine & 1 & 2 & 0.0000000000 & 0.9922280 & 0.003454231 & 0.0000000000 & 0 & 0 & 0 & 0 & 0 & 0.004317789 & MD & 0 & 1 & 19060 & Cumberland, MD-WV             & 0 & 1158 & 101834.65 & 510 & 111111111111 & 1158 & 101834.65 & 510 &              &  NA &      NA &  NA & 1968 & 0 &  4\\\\\n",
       "\t 1003000126 & 2011 &  1 & 0 & NU00286134 & UPMC WESTERN MARYLAND CORPORATION              &            &                                   & ENKESHAFI & ARDALAN &  & Hospitalist & C6 & 5 & M & 11 & Internal Medicine & 1 & 2 & 0.0000000000 & 0.9738520 & 0.022321429 & 0.0006377551 & 0 & 0 & 0 & 0 & 0 & 0.003188776 & MD & 0 & 1 & 19060 & Cumberland, MD-WV             & 0 & 1568 & 130586.46 & 685 & 111111111111 & 1568 & 130586.46 & 685 &              &  NA &      NA &  NA & 1968 & 0 & 35\\\\\n",
       "\t 1003000126 & 2012 &  1 & 0 & NU00286134 & UPMC WESTERN MARYLAND CORPORATION              &            &                                   & ENKESHAFI & ARDALAN &  & Hospitalist & C6 & 5 & M & 11 & Internal Medicine & 1 & 2 & 0.0008045052 & 0.9903459 & 0.005631537 & 0.0000000000 & 0 & 0 & 0 & 0 & 0 & 0.003218021 & MD & 0 & 1 & 19060 & Cumberland, MD-WV             & 0 & 1243 & 113956.76 & 581 & 111111111111 & 1243 & 113956.76 & 581 &              &  NA &      NA &  NA & 1968 & 1 &  7\\\\\n",
       "\t 1003000126 & 2013 &  1 & 1 & NU00145029 & HOSPITALIST MEDICINE PHYSICIANS OF MARYLAND PC & NU00286134 & UPMC WESTERN MARYLAND CORPORATION & ENKESHAFI & ARDALAN &  & Hospitalist & C6 & 5 & M & 11 & Internal Medicine & 1 & 2 & 0.0000000000 & 0.9836066 & 0.006678810 & 0.0042501518 & 0 & 0 & 0 & 0 & 0 & 0.005464481 & MD & 0 & 1 & 12580 & Baltimore-Columbia-Towson, MD & 1 & 1647 & 146521.84 & 660 & 000111111111 & 1217 & 107567.04 & 487 & 111101000000 & 430 & 38954.8 & 197 & 1968 & 0 & 11\\\\\n",
       "\t 1003000126 & 2014 &  1 & 1 & NU00145029 & HOSPITALIST MEDICINE PHYSICIANS OF MARYLAND PC &            &                                   & ENKESHAFI & ARDALAN &  & Hospitalist & C6 & 5 & M & 11 & Internal Medicine & 1 & 2 & 0.0000000000 & 0.9930884 & 0.001818843 & 0.0000000000 & 0 & 0 & 0 & 0 & 0 & 0.005092761 & MD & 0 & 1 & 12580 & Baltimore-Columbia-Towson, MD & 0 & 2749 & 248222.87 & 907 & 111111111111 & 2749 & 248222.87 & 907 &              &  NA &      NA &  NA & 1968 & 0 &  5\\\\\n",
       "\\end{tabular}\n"
      ],
      "text/markdown": [
       "\n",
       "A tibble: 6 × 49\n",
       "\n",
       "| npi &lt;chr&gt; | year &lt;dbl&gt; | viclaims &lt;dbl&gt; | vikeyword &lt;dbl&gt; | tin1_nu &lt;chr&gt; | tin1_legal_name &lt;chr&gt; | tin2_nu &lt;chr&gt; | tin2_legal_name &lt;chr&gt; | name_last &lt;chr&gt; | name_first &lt;chr&gt; | name_middle &lt;chr&gt; | SPEC_PRIM_1_NAME &lt;chr&gt; | SPEC_PRIM_1 &lt;chr&gt; | SPEC_BROAD &lt;dbl&gt; | SEX &lt;chr&gt; | SPEC_PRIM_2 &lt;chr&gt; | SPEC_PRIM_2_NAME &lt;chr&gt; | SPEC_SOURCE &lt;dbl&gt; | SPEC_SOURCE_HOSP &lt;dbl&gt; | POS_OFFICE &lt;dbl&gt; | POS_INPAT &lt;dbl&gt; | POS_OPD &lt;dbl&gt; | POS_ER &lt;dbl&gt; | POS_NURSING &lt;dbl&gt; | POS_ASC &lt;dbl&gt; | POS_RESID &lt;dbl&gt; | POS_RETAIL &lt;dbl&gt; | POS_URGENT &lt;dbl&gt; | POS_OTHER &lt;dbl&gt; | STATE &lt;chr&gt; | STATE_MULTI &lt;dbl&gt; | CBSA_TYPE &lt;dbl&gt; | CBSA_CD &lt;chr&gt; | CBSA_NAME &lt;chr&gt; | CBSA_MULTI &lt;dbl&gt; | NPI_SRVC_LINES &lt;dbl&gt; | NPI_ALLOWED_AMT &lt;dbl&gt; | NPI_UNQ_BENES &lt;dbl&gt; | TIN1_SRVC_MONTH &lt;chr&gt; | TIN1_SRVC_LINES &lt;dbl&gt; | TIN1_ALLOWED_AMT &lt;dbl&gt; | TIN1_UNQ_BENES &lt;dbl&gt; | TIN2_SRVC_MONTH &lt;chr&gt; | TIN2_SRVC_LINES &lt;dbl&gt; | TIN2_ALLOWED_AMT &lt;dbl&gt; | TIN2_UNQ_BENES &lt;dbl&gt; | BIRTH_YR &lt;dbl&gt; | lns_office &lt;dbl&gt; | lns_opd &lt;dbl&gt; |\n",
       "|---|---|---|---|---|---|---|---|---|---|---|---|---|---|---|---|---|---|---|---|---|---|---|---|---|---|---|---|---|---|---|---|---|---|---|---|---|---|---|---|---|---|---|---|---|---|---|---|---|\n",
       "| 1003000126 | 2009 | NA | 0 | NU00286134 | UPMC WESTERN MARYLAND CORPORATION              | <!----> | <!----> | ENKESHAFI | ARDALAN | <!----> | Hospitalist | C6 | 5 | M | 11 | Internal Medicine | 1 | 2 | 0.0000000000 | 1.0000000 | 0.000000000 | 0.0000000000 | 0 | 0 | 0 | 0 | 0 | 0.000000000 | MD | 0 | 1 | 19060 | Cumberland, MD-WV             | 0 |  405 |  28669.86 | 176 | 000000001111 |  405 |  28669.86 | 176 | <!----> |  NA |      NA |  NA | 1968 | 0 |  0 |\n",
       "| 1003000126 | 2010 |  1 | 0 | NU00286134 | UPMC WESTERN MARYLAND CORPORATION              | <!----> | <!----> | ENKESHAFI | ARDALAN | <!----> | Hospitalist | C6 | 5 | M | 11 | Internal Medicine | 1 | 2 | 0.0000000000 | 0.9922280 | 0.003454231 | 0.0000000000 | 0 | 0 | 0 | 0 | 0 | 0.004317789 | MD | 0 | 1 | 19060 | Cumberland, MD-WV             | 0 | 1158 | 101834.65 | 510 | 111111111111 | 1158 | 101834.65 | 510 | <!----> |  NA |      NA |  NA | 1968 | 0 |  4 |\n",
       "| 1003000126 | 2011 |  1 | 0 | NU00286134 | UPMC WESTERN MARYLAND CORPORATION              | <!----> | <!----> | ENKESHAFI | ARDALAN | <!----> | Hospitalist | C6 | 5 | M | 11 | Internal Medicine | 1 | 2 | 0.0000000000 | 0.9738520 | 0.022321429 | 0.0006377551 | 0 | 0 | 0 | 0 | 0 | 0.003188776 | MD | 0 | 1 | 19060 | Cumberland, MD-WV             | 0 | 1568 | 130586.46 | 685 | 111111111111 | 1568 | 130586.46 | 685 | <!----> |  NA |      NA |  NA | 1968 | 0 | 35 |\n",
       "| 1003000126 | 2012 |  1 | 0 | NU00286134 | UPMC WESTERN MARYLAND CORPORATION              | <!----> | <!----> | ENKESHAFI | ARDALAN | <!----> | Hospitalist | C6 | 5 | M | 11 | Internal Medicine | 1 | 2 | 0.0008045052 | 0.9903459 | 0.005631537 | 0.0000000000 | 0 | 0 | 0 | 0 | 0 | 0.003218021 | MD | 0 | 1 | 19060 | Cumberland, MD-WV             | 0 | 1243 | 113956.76 | 581 | 111111111111 | 1243 | 113956.76 | 581 | <!----> |  NA |      NA |  NA | 1968 | 1 |  7 |\n",
       "| 1003000126 | 2013 |  1 | 1 | NU00145029 | HOSPITALIST MEDICINE PHYSICIANS OF MARYLAND PC | NU00286134 | UPMC WESTERN MARYLAND CORPORATION | ENKESHAFI | ARDALAN | <!----> | Hospitalist | C6 | 5 | M | 11 | Internal Medicine | 1 | 2 | 0.0000000000 | 0.9836066 | 0.006678810 | 0.0042501518 | 0 | 0 | 0 | 0 | 0 | 0.005464481 | MD | 0 | 1 | 12580 | Baltimore-Columbia-Towson, MD | 1 | 1647 | 146521.84 | 660 | 000111111111 | 1217 | 107567.04 | 487 | 111101000000 | 430 | 38954.8 | 197 | 1968 | 0 | 11 |\n",
       "| 1003000126 | 2014 |  1 | 1 | NU00145029 | HOSPITALIST MEDICINE PHYSICIANS OF MARYLAND PC | <!----> | <!----> | ENKESHAFI | ARDALAN | <!----> | Hospitalist | C6 | 5 | M | 11 | Internal Medicine | 1 | 2 | 0.0000000000 | 0.9930884 | 0.001818843 | 0.0000000000 | 0 | 0 | 0 | 0 | 0 | 0.005092761 | MD | 0 | 1 | 12580 | Baltimore-Columbia-Towson, MD | 0 | 2749 | 248222.87 | 907 | 111111111111 | 2749 | 248222.87 | 907 | <!----> |  NA |      NA |  NA | 1968 | 0 |  5 |\n",
       "\n"
      ],
      "text/plain": [
       "  npi        year viclaims vikeyword tin1_nu    tin1_legal_name                                tin2_nu    tin2_legal_name                   name_last name_first name_middle SPEC_PRIM_1_NAME SPEC_PRIM_1 SPEC_BROAD SEX SPEC_PRIM_2 SPEC_PRIM_2_NAME  SPEC_SOURCE SPEC_SOURCE_HOSP POS_OFFICE   POS_INPAT\n",
       "1 1003000126 2009 NA       0         NU00286134 UPMC WESTERN MARYLAND CORPORATION                                                           ENKESHAFI ARDALAN                Hospitalist      C6          5          M   11          Internal Medicine 1           2                0.0000000000 1.0000000\n",
       "2 1003000126 2010  1       0         NU00286134 UPMC WESTERN MARYLAND CORPORATION                                                           ENKESHAFI ARDALAN                Hospitalist      C6          5          M   11          Internal Medicine 1           2                0.0000000000 0.9922280\n",
       "3 1003000126 2011  1       0         NU00286134 UPMC WESTERN MARYLAND CORPORATION                                                           ENKESHAFI ARDALAN                Hospitalist      C6          5          M   11          Internal Medicine 1           2                0.0000000000 0.9738520\n",
       "4 1003000126 2012  1       0         NU00286134 UPMC WESTERN MARYLAND CORPORATION                                                           ENKESHAFI ARDALAN                Hospitalist      C6          5          M   11          Internal Medicine 1           2                0.0008045052 0.9903459\n",
       "5 1003000126 2013  1       1         NU00145029 HOSPITALIST MEDICINE PHYSICIANS OF MARYLAND PC NU00286134 UPMC WESTERN MARYLAND CORPORATION ENKESHAFI ARDALAN                Hospitalist      C6          5          M   11          Internal Medicine 1           2                0.0000000000 0.9836066\n",
       "6 1003000126 2014  1       1         NU00145029 HOSPITALIST MEDICINE PHYSICIANS OF MARYLAND PC                                              ENKESHAFI ARDALAN                Hospitalist      C6          5          M   11          Internal Medicine 1           2                0.0000000000 0.9930884\n",
       "  POS_OPD     POS_ER       POS_NURSING POS_ASC POS_RESID POS_RETAIL POS_URGENT POS_OTHER   STATE STATE_MULTI CBSA_TYPE CBSA_CD CBSA_NAME                     CBSA_MULTI NPI_SRVC_LINES NPI_ALLOWED_AMT NPI_UNQ_BENES TIN1_SRVC_MONTH TIN1_SRVC_LINES TIN1_ALLOWED_AMT TIN1_UNQ_BENES TIN2_SRVC_MONTH\n",
       "1 0.000000000 0.0000000000 0           0       0         0          0          0.000000000 MD    0           1         19060   Cumberland, MD-WV             0           405            28669.86       176           000000001111     405             28669.86        176                           \n",
       "2 0.003454231 0.0000000000 0           0       0         0          0          0.004317789 MD    0           1         19060   Cumberland, MD-WV             0          1158           101834.65       510           111111111111    1158            101834.65        510                           \n",
       "3 0.022321429 0.0006377551 0           0       0         0          0          0.003188776 MD    0           1         19060   Cumberland, MD-WV             0          1568           130586.46       685           111111111111    1568            130586.46        685                           \n",
       "4 0.005631537 0.0000000000 0           0       0         0          0          0.003218021 MD    0           1         19060   Cumberland, MD-WV             0          1243           113956.76       581           111111111111    1243            113956.76        581                           \n",
       "5 0.006678810 0.0042501518 0           0       0         0          0          0.005464481 MD    0           1         12580   Baltimore-Columbia-Towson, MD 1          1647           146521.84       660           000111111111    1217            107567.04        487            111101000000   \n",
       "6 0.001818843 0.0000000000 0           0       0         0          0          0.005092761 MD    0           1         12580   Baltimore-Columbia-Towson, MD 0          2749           248222.87       907           111111111111    2749            248222.87        907                           \n",
       "  TIN2_SRVC_LINES TIN2_ALLOWED_AMT TIN2_UNQ_BENES BIRTH_YR lns_office lns_opd\n",
       "1  NA                  NA           NA            1968     0           0     \n",
       "2  NA                  NA           NA            1968     0           4     \n",
       "3  NA                  NA           NA            1968     0          35     \n",
       "4  NA                  NA           NA            1968     1           7     \n",
       "5 430             38954.8          197            1968     0          11     \n",
       "6  NA                  NA           NA            1968     0           5     "
      ]
     },
     "metadata": {},
     "output_type": "display_data"
    }
   ],
   "source": [
    "head(mdppas_data)"
   ]
  },
  {
   "cell_type": "code",
   "execution_count": 4,
   "id": "fb323251-c18d-484d-8637-6230e422369e",
   "metadata": {},
   "outputs": [],
   "source": [
    "write_fst(x = mdppas_data, path = \"/work/postresearch/Shared/Data_raw/Medicare/MDPPAS/mdppas.fst\" , compress = 0)"
   ]
  },
  {
   "cell_type": "markdown",
   "id": "731ae3b8-f61b-4b70-bd6a-2d901957731f",
   "metadata": {
    "tags": []
   },
   "source": [
    "## Read from fst"
   ]
  },
  {
   "cell_type": "code",
   "execution_count": 5,
   "id": "2e2ab504-cf77-417c-b748-b867e160f423",
   "metadata": {},
   "outputs": [],
   "source": [
    "mdppas_data <-\n",
    "read_fst(path = \"/work/postresearch/Shared/Data_raw/Medicare/MDPPAS/mdppas.fst\" , as.data.table = T)"
   ]
  },
  {
   "cell_type": "code",
   "execution_count": 6,
   "id": "632a8b07-f3ed-445e-b6a0-384f53f14cd5",
   "metadata": {},
   "outputs": [
    {
     "data": {
      "text/html": [
       "<table class=\"dataframe\">\n",
       "<caption>A data.table: 6 × 49</caption>\n",
       "<thead>\n",
       "\t<tr><th scope=col>npi</th><th scope=col>year</th><th scope=col>viclaims</th><th scope=col>vikeyword</th><th scope=col>tin1_nu</th><th scope=col>tin1_legal_name</th><th scope=col>tin2_nu</th><th scope=col>tin2_legal_name</th><th scope=col>name_last</th><th scope=col>name_first</th><th scope=col>name_middle</th><th scope=col>SPEC_PRIM_1_NAME</th><th scope=col>SPEC_PRIM_1</th><th scope=col>SPEC_BROAD</th><th scope=col>SEX</th><th scope=col>SPEC_PRIM_2</th><th scope=col>SPEC_PRIM_2_NAME</th><th scope=col>SPEC_SOURCE</th><th scope=col>SPEC_SOURCE_HOSP</th><th scope=col>POS_OFFICE</th><th scope=col>POS_INPAT</th><th scope=col>POS_OPD</th><th scope=col>POS_ER</th><th scope=col>POS_NURSING</th><th scope=col>POS_ASC</th><th scope=col>POS_RESID</th><th scope=col>POS_RETAIL</th><th scope=col>POS_URGENT</th><th scope=col>POS_OTHER</th><th scope=col>STATE</th><th scope=col>STATE_MULTI</th><th scope=col>CBSA_TYPE</th><th scope=col>CBSA_CD</th><th scope=col>CBSA_NAME</th><th scope=col>CBSA_MULTI</th><th scope=col>NPI_SRVC_LINES</th><th scope=col>NPI_ALLOWED_AMT</th><th scope=col>NPI_UNQ_BENES</th><th scope=col>TIN1_SRVC_MONTH</th><th scope=col>TIN1_SRVC_LINES</th><th scope=col>TIN1_ALLOWED_AMT</th><th scope=col>TIN1_UNQ_BENES</th><th scope=col>TIN2_SRVC_MONTH</th><th scope=col>TIN2_SRVC_LINES</th><th scope=col>TIN2_ALLOWED_AMT</th><th scope=col>TIN2_UNQ_BENES</th><th scope=col>BIRTH_YR</th><th scope=col>lns_office</th><th scope=col>lns_opd</th></tr>\n",
       "\t<tr><th scope=col>&lt;chr&gt;</th><th scope=col>&lt;dbl&gt;</th><th scope=col>&lt;dbl&gt;</th><th scope=col>&lt;dbl&gt;</th><th scope=col>&lt;chr&gt;</th><th scope=col>&lt;chr&gt;</th><th scope=col>&lt;chr&gt;</th><th scope=col>&lt;chr&gt;</th><th scope=col>&lt;chr&gt;</th><th scope=col>&lt;chr&gt;</th><th scope=col>&lt;chr&gt;</th><th scope=col>&lt;chr&gt;</th><th scope=col>&lt;chr&gt;</th><th scope=col>&lt;dbl&gt;</th><th scope=col>&lt;chr&gt;</th><th scope=col>&lt;chr&gt;</th><th scope=col>&lt;chr&gt;</th><th scope=col>&lt;dbl&gt;</th><th scope=col>&lt;dbl&gt;</th><th scope=col>&lt;dbl&gt;</th><th scope=col>&lt;dbl&gt;</th><th scope=col>&lt;dbl&gt;</th><th scope=col>&lt;dbl&gt;</th><th scope=col>&lt;dbl&gt;</th><th scope=col>&lt;dbl&gt;</th><th scope=col>&lt;dbl&gt;</th><th scope=col>&lt;dbl&gt;</th><th scope=col>&lt;dbl&gt;</th><th scope=col>&lt;dbl&gt;</th><th scope=col>&lt;chr&gt;</th><th scope=col>&lt;dbl&gt;</th><th scope=col>&lt;dbl&gt;</th><th scope=col>&lt;chr&gt;</th><th scope=col>&lt;chr&gt;</th><th scope=col>&lt;dbl&gt;</th><th scope=col>&lt;dbl&gt;</th><th scope=col>&lt;dbl&gt;</th><th scope=col>&lt;dbl&gt;</th><th scope=col>&lt;chr&gt;</th><th scope=col>&lt;dbl&gt;</th><th scope=col>&lt;dbl&gt;</th><th scope=col>&lt;dbl&gt;</th><th scope=col>&lt;chr&gt;</th><th scope=col>&lt;dbl&gt;</th><th scope=col>&lt;dbl&gt;</th><th scope=col>&lt;dbl&gt;</th><th scope=col>&lt;dbl&gt;</th><th scope=col>&lt;dbl&gt;</th><th scope=col>&lt;dbl&gt;</th></tr>\n",
       "</thead>\n",
       "<tbody>\n",
       "\t<tr><td>1003000126</td><td>2009</td><td>NA</td><td>0</td><td>NU00286134</td><td>UPMC WESTERN MARYLAND CORPORATION             </td><td>          </td><td>                                 </td><td>ENKESHAFI</td><td>ARDALAN</td><td></td><td>Hospitalist</td><td>C6</td><td>5</td><td>M</td><td>11</td><td>Internal Medicine</td><td>1</td><td>2</td><td>0.0000000000</td><td>1.0000000</td><td>0.000000000</td><td>0.0000000000</td><td>0</td><td>0</td><td>0</td><td>0</td><td>0</td><td>0.000000000</td><td>MD</td><td>0</td><td>1</td><td>19060</td><td>Cumberland, MD-WV            </td><td>0</td><td> 405</td><td> 28669.86</td><td>176</td><td>000000001111</td><td> 405</td><td> 28669.86</td><td>176</td><td>            </td><td> NA</td><td>     NA</td><td> NA</td><td>1968</td><td>0</td><td> 0</td></tr>\n",
       "\t<tr><td>1003000126</td><td>2010</td><td> 1</td><td>0</td><td>NU00286134</td><td>UPMC WESTERN MARYLAND CORPORATION             </td><td>          </td><td>                                 </td><td>ENKESHAFI</td><td>ARDALAN</td><td></td><td>Hospitalist</td><td>C6</td><td>5</td><td>M</td><td>11</td><td>Internal Medicine</td><td>1</td><td>2</td><td>0.0000000000</td><td>0.9922280</td><td>0.003454231</td><td>0.0000000000</td><td>0</td><td>0</td><td>0</td><td>0</td><td>0</td><td>0.004317789</td><td>MD</td><td>0</td><td>1</td><td>19060</td><td>Cumberland, MD-WV            </td><td>0</td><td>1158</td><td>101834.65</td><td>510</td><td>111111111111</td><td>1158</td><td>101834.65</td><td>510</td><td>            </td><td> NA</td><td>     NA</td><td> NA</td><td>1968</td><td>0</td><td> 4</td></tr>\n",
       "\t<tr><td>1003000126</td><td>2011</td><td> 1</td><td>0</td><td>NU00286134</td><td>UPMC WESTERN MARYLAND CORPORATION             </td><td>          </td><td>                                 </td><td>ENKESHAFI</td><td>ARDALAN</td><td></td><td>Hospitalist</td><td>C6</td><td>5</td><td>M</td><td>11</td><td>Internal Medicine</td><td>1</td><td>2</td><td>0.0000000000</td><td>0.9738520</td><td>0.022321429</td><td>0.0006377551</td><td>0</td><td>0</td><td>0</td><td>0</td><td>0</td><td>0.003188776</td><td>MD</td><td>0</td><td>1</td><td>19060</td><td>Cumberland, MD-WV            </td><td>0</td><td>1568</td><td>130586.46</td><td>685</td><td>111111111111</td><td>1568</td><td>130586.46</td><td>685</td><td>            </td><td> NA</td><td>     NA</td><td> NA</td><td>1968</td><td>0</td><td>35</td></tr>\n",
       "\t<tr><td>1003000126</td><td>2012</td><td> 1</td><td>0</td><td>NU00286134</td><td>UPMC WESTERN MARYLAND CORPORATION             </td><td>          </td><td>                                 </td><td>ENKESHAFI</td><td>ARDALAN</td><td></td><td>Hospitalist</td><td>C6</td><td>5</td><td>M</td><td>11</td><td>Internal Medicine</td><td>1</td><td>2</td><td>0.0008045052</td><td>0.9903459</td><td>0.005631537</td><td>0.0000000000</td><td>0</td><td>0</td><td>0</td><td>0</td><td>0</td><td>0.003218021</td><td>MD</td><td>0</td><td>1</td><td>19060</td><td>Cumberland, MD-WV            </td><td>0</td><td>1243</td><td>113956.76</td><td>581</td><td>111111111111</td><td>1243</td><td>113956.76</td><td>581</td><td>            </td><td> NA</td><td>     NA</td><td> NA</td><td>1968</td><td>1</td><td> 7</td></tr>\n",
       "\t<tr><td>1003000126</td><td>2013</td><td> 1</td><td>1</td><td>NU00145029</td><td>HOSPITALIST MEDICINE PHYSICIANS OF MARYLAND PC</td><td>NU00286134</td><td>UPMC WESTERN MARYLAND CORPORATION</td><td>ENKESHAFI</td><td>ARDALAN</td><td></td><td>Hospitalist</td><td>C6</td><td>5</td><td>M</td><td>11</td><td>Internal Medicine</td><td>1</td><td>2</td><td>0.0000000000</td><td>0.9836066</td><td>0.006678810</td><td>0.0042501518</td><td>0</td><td>0</td><td>0</td><td>0</td><td>0</td><td>0.005464481</td><td>MD</td><td>0</td><td>1</td><td>12580</td><td>Baltimore-Columbia-Towson, MD</td><td>1</td><td>1647</td><td>146521.84</td><td>660</td><td>000111111111</td><td>1217</td><td>107567.04</td><td>487</td><td>111101000000</td><td>430</td><td>38954.8</td><td>197</td><td>1968</td><td>0</td><td>11</td></tr>\n",
       "\t<tr><td>1003000126</td><td>2014</td><td> 1</td><td>1</td><td>NU00145029</td><td>HOSPITALIST MEDICINE PHYSICIANS OF MARYLAND PC</td><td>          </td><td>                                 </td><td>ENKESHAFI</td><td>ARDALAN</td><td></td><td>Hospitalist</td><td>C6</td><td>5</td><td>M</td><td>11</td><td>Internal Medicine</td><td>1</td><td>2</td><td>0.0000000000</td><td>0.9930884</td><td>0.001818843</td><td>0.0000000000</td><td>0</td><td>0</td><td>0</td><td>0</td><td>0</td><td>0.005092761</td><td>MD</td><td>0</td><td>1</td><td>12580</td><td>Baltimore-Columbia-Towson, MD</td><td>0</td><td>2749</td><td>248222.87</td><td>907</td><td>111111111111</td><td>2749</td><td>248222.87</td><td>907</td><td>            </td><td> NA</td><td>     NA</td><td> NA</td><td>1968</td><td>0</td><td> 5</td></tr>\n",
       "</tbody>\n",
       "</table>\n"
      ],
      "text/latex": [
       "A data.table: 6 × 49\n",
       "\\begin{tabular}{lllllllllllllllllllllllllllllllllllllllllllllllll}\n",
       " npi & year & viclaims & vikeyword & tin1\\_nu & tin1\\_legal\\_name & tin2\\_nu & tin2\\_legal\\_name & name\\_last & name\\_first & name\\_middle & SPEC\\_PRIM\\_1\\_NAME & SPEC\\_PRIM\\_1 & SPEC\\_BROAD & SEX & SPEC\\_PRIM\\_2 & SPEC\\_PRIM\\_2\\_NAME & SPEC\\_SOURCE & SPEC\\_SOURCE\\_HOSP & POS\\_OFFICE & POS\\_INPAT & POS\\_OPD & POS\\_ER & POS\\_NURSING & POS\\_ASC & POS\\_RESID & POS\\_RETAIL & POS\\_URGENT & POS\\_OTHER & STATE & STATE\\_MULTI & CBSA\\_TYPE & CBSA\\_CD & CBSA\\_NAME & CBSA\\_MULTI & NPI\\_SRVC\\_LINES & NPI\\_ALLOWED\\_AMT & NPI\\_UNQ\\_BENES & TIN1\\_SRVC\\_MONTH & TIN1\\_SRVC\\_LINES & TIN1\\_ALLOWED\\_AMT & TIN1\\_UNQ\\_BENES & TIN2\\_SRVC\\_MONTH & TIN2\\_SRVC\\_LINES & TIN2\\_ALLOWED\\_AMT & TIN2\\_UNQ\\_BENES & BIRTH\\_YR & lns\\_office & lns\\_opd\\\\\n",
       " <chr> & <dbl> & <dbl> & <dbl> & <chr> & <chr> & <chr> & <chr> & <chr> & <chr> & <chr> & <chr> & <chr> & <dbl> & <chr> & <chr> & <chr> & <dbl> & <dbl> & <dbl> & <dbl> & <dbl> & <dbl> & <dbl> & <dbl> & <dbl> & <dbl> & <dbl> & <dbl> & <chr> & <dbl> & <dbl> & <chr> & <chr> & <dbl> & <dbl> & <dbl> & <dbl> & <chr> & <dbl> & <dbl> & <dbl> & <chr> & <dbl> & <dbl> & <dbl> & <dbl> & <dbl> & <dbl>\\\\\n",
       "\\hline\n",
       "\t 1003000126 & 2009 & NA & 0 & NU00286134 & UPMC WESTERN MARYLAND CORPORATION              &            &                                   & ENKESHAFI & ARDALAN &  & Hospitalist & C6 & 5 & M & 11 & Internal Medicine & 1 & 2 & 0.0000000000 & 1.0000000 & 0.000000000 & 0.0000000000 & 0 & 0 & 0 & 0 & 0 & 0.000000000 & MD & 0 & 1 & 19060 & Cumberland, MD-WV             & 0 &  405 &  28669.86 & 176 & 000000001111 &  405 &  28669.86 & 176 &              &  NA &      NA &  NA & 1968 & 0 &  0\\\\\n",
       "\t 1003000126 & 2010 &  1 & 0 & NU00286134 & UPMC WESTERN MARYLAND CORPORATION              &            &                                   & ENKESHAFI & ARDALAN &  & Hospitalist & C6 & 5 & M & 11 & Internal Medicine & 1 & 2 & 0.0000000000 & 0.9922280 & 0.003454231 & 0.0000000000 & 0 & 0 & 0 & 0 & 0 & 0.004317789 & MD & 0 & 1 & 19060 & Cumberland, MD-WV             & 0 & 1158 & 101834.65 & 510 & 111111111111 & 1158 & 101834.65 & 510 &              &  NA &      NA &  NA & 1968 & 0 &  4\\\\\n",
       "\t 1003000126 & 2011 &  1 & 0 & NU00286134 & UPMC WESTERN MARYLAND CORPORATION              &            &                                   & ENKESHAFI & ARDALAN &  & Hospitalist & C6 & 5 & M & 11 & Internal Medicine & 1 & 2 & 0.0000000000 & 0.9738520 & 0.022321429 & 0.0006377551 & 0 & 0 & 0 & 0 & 0 & 0.003188776 & MD & 0 & 1 & 19060 & Cumberland, MD-WV             & 0 & 1568 & 130586.46 & 685 & 111111111111 & 1568 & 130586.46 & 685 &              &  NA &      NA &  NA & 1968 & 0 & 35\\\\\n",
       "\t 1003000126 & 2012 &  1 & 0 & NU00286134 & UPMC WESTERN MARYLAND CORPORATION              &            &                                   & ENKESHAFI & ARDALAN &  & Hospitalist & C6 & 5 & M & 11 & Internal Medicine & 1 & 2 & 0.0008045052 & 0.9903459 & 0.005631537 & 0.0000000000 & 0 & 0 & 0 & 0 & 0 & 0.003218021 & MD & 0 & 1 & 19060 & Cumberland, MD-WV             & 0 & 1243 & 113956.76 & 581 & 111111111111 & 1243 & 113956.76 & 581 &              &  NA &      NA &  NA & 1968 & 1 &  7\\\\\n",
       "\t 1003000126 & 2013 &  1 & 1 & NU00145029 & HOSPITALIST MEDICINE PHYSICIANS OF MARYLAND PC & NU00286134 & UPMC WESTERN MARYLAND CORPORATION & ENKESHAFI & ARDALAN &  & Hospitalist & C6 & 5 & M & 11 & Internal Medicine & 1 & 2 & 0.0000000000 & 0.9836066 & 0.006678810 & 0.0042501518 & 0 & 0 & 0 & 0 & 0 & 0.005464481 & MD & 0 & 1 & 12580 & Baltimore-Columbia-Towson, MD & 1 & 1647 & 146521.84 & 660 & 000111111111 & 1217 & 107567.04 & 487 & 111101000000 & 430 & 38954.8 & 197 & 1968 & 0 & 11\\\\\n",
       "\t 1003000126 & 2014 &  1 & 1 & NU00145029 & HOSPITALIST MEDICINE PHYSICIANS OF MARYLAND PC &            &                                   & ENKESHAFI & ARDALAN &  & Hospitalist & C6 & 5 & M & 11 & Internal Medicine & 1 & 2 & 0.0000000000 & 0.9930884 & 0.001818843 & 0.0000000000 & 0 & 0 & 0 & 0 & 0 & 0.005092761 & MD & 0 & 1 & 12580 & Baltimore-Columbia-Towson, MD & 0 & 2749 & 248222.87 & 907 & 111111111111 & 2749 & 248222.87 & 907 &              &  NA &      NA &  NA & 1968 & 0 &  5\\\\\n",
       "\\end{tabular}\n"
      ],
      "text/markdown": [
       "\n",
       "A data.table: 6 × 49\n",
       "\n",
       "| npi &lt;chr&gt; | year &lt;dbl&gt; | viclaims &lt;dbl&gt; | vikeyword &lt;dbl&gt; | tin1_nu &lt;chr&gt; | tin1_legal_name &lt;chr&gt; | tin2_nu &lt;chr&gt; | tin2_legal_name &lt;chr&gt; | name_last &lt;chr&gt; | name_first &lt;chr&gt; | name_middle &lt;chr&gt; | SPEC_PRIM_1_NAME &lt;chr&gt; | SPEC_PRIM_1 &lt;chr&gt; | SPEC_BROAD &lt;dbl&gt; | SEX &lt;chr&gt; | SPEC_PRIM_2 &lt;chr&gt; | SPEC_PRIM_2_NAME &lt;chr&gt; | SPEC_SOURCE &lt;dbl&gt; | SPEC_SOURCE_HOSP &lt;dbl&gt; | POS_OFFICE &lt;dbl&gt; | POS_INPAT &lt;dbl&gt; | POS_OPD &lt;dbl&gt; | POS_ER &lt;dbl&gt; | POS_NURSING &lt;dbl&gt; | POS_ASC &lt;dbl&gt; | POS_RESID &lt;dbl&gt; | POS_RETAIL &lt;dbl&gt; | POS_URGENT &lt;dbl&gt; | POS_OTHER &lt;dbl&gt; | STATE &lt;chr&gt; | STATE_MULTI &lt;dbl&gt; | CBSA_TYPE &lt;dbl&gt; | CBSA_CD &lt;chr&gt; | CBSA_NAME &lt;chr&gt; | CBSA_MULTI &lt;dbl&gt; | NPI_SRVC_LINES &lt;dbl&gt; | NPI_ALLOWED_AMT &lt;dbl&gt; | NPI_UNQ_BENES &lt;dbl&gt; | TIN1_SRVC_MONTH &lt;chr&gt; | TIN1_SRVC_LINES &lt;dbl&gt; | TIN1_ALLOWED_AMT &lt;dbl&gt; | TIN1_UNQ_BENES &lt;dbl&gt; | TIN2_SRVC_MONTH &lt;chr&gt; | TIN2_SRVC_LINES &lt;dbl&gt; | TIN2_ALLOWED_AMT &lt;dbl&gt; | TIN2_UNQ_BENES &lt;dbl&gt; | BIRTH_YR &lt;dbl&gt; | lns_office &lt;dbl&gt; | lns_opd &lt;dbl&gt; |\n",
       "|---|---|---|---|---|---|---|---|---|---|---|---|---|---|---|---|---|---|---|---|---|---|---|---|---|---|---|---|---|---|---|---|---|---|---|---|---|---|---|---|---|---|---|---|---|---|---|---|---|\n",
       "| 1003000126 | 2009 | NA | 0 | NU00286134 | UPMC WESTERN MARYLAND CORPORATION              | <!----> | <!----> | ENKESHAFI | ARDALAN | <!----> | Hospitalist | C6 | 5 | M | 11 | Internal Medicine | 1 | 2 | 0.0000000000 | 1.0000000 | 0.000000000 | 0.0000000000 | 0 | 0 | 0 | 0 | 0 | 0.000000000 | MD | 0 | 1 | 19060 | Cumberland, MD-WV             | 0 |  405 |  28669.86 | 176 | 000000001111 |  405 |  28669.86 | 176 | <!----> |  NA |      NA |  NA | 1968 | 0 |  0 |\n",
       "| 1003000126 | 2010 |  1 | 0 | NU00286134 | UPMC WESTERN MARYLAND CORPORATION              | <!----> | <!----> | ENKESHAFI | ARDALAN | <!----> | Hospitalist | C6 | 5 | M | 11 | Internal Medicine | 1 | 2 | 0.0000000000 | 0.9922280 | 0.003454231 | 0.0000000000 | 0 | 0 | 0 | 0 | 0 | 0.004317789 | MD | 0 | 1 | 19060 | Cumberland, MD-WV             | 0 | 1158 | 101834.65 | 510 | 111111111111 | 1158 | 101834.65 | 510 | <!----> |  NA |      NA |  NA | 1968 | 0 |  4 |\n",
       "| 1003000126 | 2011 |  1 | 0 | NU00286134 | UPMC WESTERN MARYLAND CORPORATION              | <!----> | <!----> | ENKESHAFI | ARDALAN | <!----> | Hospitalist | C6 | 5 | M | 11 | Internal Medicine | 1 | 2 | 0.0000000000 | 0.9738520 | 0.022321429 | 0.0006377551 | 0 | 0 | 0 | 0 | 0 | 0.003188776 | MD | 0 | 1 | 19060 | Cumberland, MD-WV             | 0 | 1568 | 130586.46 | 685 | 111111111111 | 1568 | 130586.46 | 685 | <!----> |  NA |      NA |  NA | 1968 | 0 | 35 |\n",
       "| 1003000126 | 2012 |  1 | 0 | NU00286134 | UPMC WESTERN MARYLAND CORPORATION              | <!----> | <!----> | ENKESHAFI | ARDALAN | <!----> | Hospitalist | C6 | 5 | M | 11 | Internal Medicine | 1 | 2 | 0.0008045052 | 0.9903459 | 0.005631537 | 0.0000000000 | 0 | 0 | 0 | 0 | 0 | 0.003218021 | MD | 0 | 1 | 19060 | Cumberland, MD-WV             | 0 | 1243 | 113956.76 | 581 | 111111111111 | 1243 | 113956.76 | 581 | <!----> |  NA |      NA |  NA | 1968 | 1 |  7 |\n",
       "| 1003000126 | 2013 |  1 | 1 | NU00145029 | HOSPITALIST MEDICINE PHYSICIANS OF MARYLAND PC | NU00286134 | UPMC WESTERN MARYLAND CORPORATION | ENKESHAFI | ARDALAN | <!----> | Hospitalist | C6 | 5 | M | 11 | Internal Medicine | 1 | 2 | 0.0000000000 | 0.9836066 | 0.006678810 | 0.0042501518 | 0 | 0 | 0 | 0 | 0 | 0.005464481 | MD | 0 | 1 | 12580 | Baltimore-Columbia-Towson, MD | 1 | 1647 | 146521.84 | 660 | 000111111111 | 1217 | 107567.04 | 487 | 111101000000 | 430 | 38954.8 | 197 | 1968 | 0 | 11 |\n",
       "| 1003000126 | 2014 |  1 | 1 | NU00145029 | HOSPITALIST MEDICINE PHYSICIANS OF MARYLAND PC | <!----> | <!----> | ENKESHAFI | ARDALAN | <!----> | Hospitalist | C6 | 5 | M | 11 | Internal Medicine | 1 | 2 | 0.0000000000 | 0.9930884 | 0.001818843 | 0.0000000000 | 0 | 0 | 0 | 0 | 0 | 0.005092761 | MD | 0 | 1 | 12580 | Baltimore-Columbia-Towson, MD | 0 | 2749 | 248222.87 | 907 | 111111111111 | 2749 | 248222.87 | 907 | <!----> |  NA |      NA |  NA | 1968 | 0 |  5 |\n",
       "\n"
      ],
      "text/plain": [
       "  npi        year viclaims vikeyword tin1_nu    tin1_legal_name                                tin2_nu    tin2_legal_name                   name_last name_first name_middle SPEC_PRIM_1_NAME SPEC_PRIM_1 SPEC_BROAD SEX SPEC_PRIM_2 SPEC_PRIM_2_NAME  SPEC_SOURCE SPEC_SOURCE_HOSP POS_OFFICE   POS_INPAT\n",
       "1 1003000126 2009 NA       0         NU00286134 UPMC WESTERN MARYLAND CORPORATION                                                           ENKESHAFI ARDALAN                Hospitalist      C6          5          M   11          Internal Medicine 1           2                0.0000000000 1.0000000\n",
       "2 1003000126 2010  1       0         NU00286134 UPMC WESTERN MARYLAND CORPORATION                                                           ENKESHAFI ARDALAN                Hospitalist      C6          5          M   11          Internal Medicine 1           2                0.0000000000 0.9922280\n",
       "3 1003000126 2011  1       0         NU00286134 UPMC WESTERN MARYLAND CORPORATION                                                           ENKESHAFI ARDALAN                Hospitalist      C6          5          M   11          Internal Medicine 1           2                0.0000000000 0.9738520\n",
       "4 1003000126 2012  1       0         NU00286134 UPMC WESTERN MARYLAND CORPORATION                                                           ENKESHAFI ARDALAN                Hospitalist      C6          5          M   11          Internal Medicine 1           2                0.0008045052 0.9903459\n",
       "5 1003000126 2013  1       1         NU00145029 HOSPITALIST MEDICINE PHYSICIANS OF MARYLAND PC NU00286134 UPMC WESTERN MARYLAND CORPORATION ENKESHAFI ARDALAN                Hospitalist      C6          5          M   11          Internal Medicine 1           2                0.0000000000 0.9836066\n",
       "6 1003000126 2014  1       1         NU00145029 HOSPITALIST MEDICINE PHYSICIANS OF MARYLAND PC                                              ENKESHAFI ARDALAN                Hospitalist      C6          5          M   11          Internal Medicine 1           2                0.0000000000 0.9930884\n",
       "  POS_OPD     POS_ER       POS_NURSING POS_ASC POS_RESID POS_RETAIL POS_URGENT POS_OTHER   STATE STATE_MULTI CBSA_TYPE CBSA_CD CBSA_NAME                     CBSA_MULTI NPI_SRVC_LINES NPI_ALLOWED_AMT NPI_UNQ_BENES TIN1_SRVC_MONTH TIN1_SRVC_LINES TIN1_ALLOWED_AMT TIN1_UNQ_BENES TIN2_SRVC_MONTH\n",
       "1 0.000000000 0.0000000000 0           0       0         0          0          0.000000000 MD    0           1         19060   Cumberland, MD-WV             0           405            28669.86       176           000000001111     405             28669.86        176                           \n",
       "2 0.003454231 0.0000000000 0           0       0         0          0          0.004317789 MD    0           1         19060   Cumberland, MD-WV             0          1158           101834.65       510           111111111111    1158            101834.65        510                           \n",
       "3 0.022321429 0.0006377551 0           0       0         0          0          0.003188776 MD    0           1         19060   Cumberland, MD-WV             0          1568           130586.46       685           111111111111    1568            130586.46        685                           \n",
       "4 0.005631537 0.0000000000 0           0       0         0          0          0.003218021 MD    0           1         19060   Cumberland, MD-WV             0          1243           113956.76       581           111111111111    1243            113956.76        581                           \n",
       "5 0.006678810 0.0042501518 0           0       0         0          0          0.005464481 MD    0           1         12580   Baltimore-Columbia-Towson, MD 1          1647           146521.84       660           000111111111    1217            107567.04        487            111101000000   \n",
       "6 0.001818843 0.0000000000 0           0       0         0          0          0.005092761 MD    0           1         12580   Baltimore-Columbia-Towson, MD 0          2749           248222.87       907           111111111111    2749            248222.87        907                           \n",
       "  TIN2_SRVC_LINES TIN2_ALLOWED_AMT TIN2_UNQ_BENES BIRTH_YR lns_office lns_opd\n",
       "1  NA                  NA           NA            1968     0           0     \n",
       "2  NA                  NA           NA            1968     0           4     \n",
       "3  NA                  NA           NA            1968     0          35     \n",
       "4  NA                  NA           NA            1968     1           7     \n",
       "5 430             38954.8          197            1968     0          11     \n",
       "6  NA                  NA           NA            1968     0           5     "
      ]
     },
     "metadata": {},
     "output_type": "display_data"
    }
   ],
   "source": [
    "head(mdppas_data)"
   ]
  },
  {
   "cell_type": "markdown",
   "id": "b2fd9222-ee85-46a6-99a6-81c880d890c3",
   "metadata": {},
   "source": [
    "## Add to calculations and integration stats"
   ]
  },
  {
   "cell_type": "code",
   "execution_count": 7,
   "id": "51ad5886-5b59-4b8e-9b55-cd964fda1f27",
   "metadata": {},
   "outputs": [],
   "source": [
    "yearly_calculations <- read_fst(\"yearly_calculations_cleaned.fst\", as.data.table = T)"
   ]
  },
  {
   "cell_type": "code",
   "execution_count": 9,
   "id": "3be346af-b84f-4fd0-9088-e223d21fd44c",
   "metadata": {},
   "outputs": [
    {
     "data": {
      "text/html": [
       "<table class=\"dataframe\">\n",
       "<caption>A data.table: 6 × 128</caption>\n",
       "<thead>\n",
       "\t<tr><th scope=col>DESY_SORT_KEY</th><th scope=col>year</th><th scope=col>distinct_clinicians</th><th scope=col>distinct_primary_care_physicians</th><th scope=col>hypertension</th><th scope=col>arthritis</th><th scope=col>IHD</th><th scope=col>diabetes</th><th scope=col>depression</th><th scope=col>icd_9_pure</th><th scope=col>icd_10_pure</th><th scope=col>REFERENCE_YEAR</th><th scope=col>STATE_CODE</th><th scope=col>COUNTY_CODE</th><th scope=col>SEX_CODE</th><th scope=col>RACE_CODE</th><th scope=col>AGE</th><th scope=col>ORIG_REASON_FOR_ENTITLEMENT</th><th scope=col>CURR_REASON_FOR_ENTITLEMENT</th><th scope=col>ENTITLEMENT_BUY_IN_IND01</th><th scope=col>ENTITLEMENT_BUY_IN_IND02</th><th scope=col>ENTITLEMENT_BUY_IN_IND03</th><th scope=col>ENTITLEMENT_BUY_IN_IND04</th><th scope=col>ENTITLEMENT_BUY_IN_IND05</th><th scope=col>ENTITLEMENT_BUY_IN_IND06</th><th scope=col>ENTITLEMENT_BUY_IN_IND07</th><th scope=col>ENTITLEMENT_BUY_IN_IND08</th><th scope=col>ENTITLEMENT_BUY_IN_IND09</th><th scope=col>ENTITLEMENT_BUY_IN_IND10</th><th scope=col>ENTITLEMENT_BUY_IN_IND11</th><th scope=col>ENTITLEMENT_BUY_IN_IND12</th><th scope=col>HMO_INDICATOR01</th><th scope=col>HMO_INDICATOR02</th><th scope=col>HMO_INDICATOR03</th><th scope=col>HMO_INDICATOR04</th><th scope=col>HMO_INDICATOR05</th><th scope=col>HMO_INDICATOR06</th><th scope=col>HMO_INDICATOR07</th><th scope=col>HMO_INDICATOR08</th><th scope=col>HMO_INDICATOR09</th><th scope=col>HMO_INDICATOR10</th><th scope=col>HMO_INDICATOR11</th><th scope=col>HMO_INDICATOR12</th><th scope=col>VALID_DATE_OF_DEATH_SWITCH</th><th scope=col>DATE_OF_DEATH</th><th scope=col>date_died</th><th scope=col>date_died_valid</th><th scope=col>year_of_death</th><th scope=col>most_common_physician_PRF_PHYSN_NPI</th><th scope=col>most_common_physician_n</th><th scope=col>most_common_physician_PRVDR_SPCLTY</th><th scope=col>most_common_primary_care_physician_PRF_PHYSN_NPI</th><th scope=col>most_common_primary_care_physician_n</th><th scope=col>most_common_primary_care_physician_PRVDR_SPCLTY</th><th scope=col>most_common_physician_in_facility_visits_count</th><th scope=col>most_common_physician_in_all_visits_count</th><th scope=col>most_common_physician_in_facility_non_exclusive_HCPCS_count</th><th scope=col>most_common_physician_in_all_non_exclusive_HCPCS_count</th><th scope=col>most_common_physician_in_facility_count</th><th scope=col>most_common_physician_in_all_count</th><th scope=col>most_common_physician_in_facility_visits_prp</th><th scope=col>most_common_physician_in_facility_non_exclusive_HCPCS_prp</th><th scope=col>most_common_physician_in_facility_prp</th><th scope=col>most_common_primary_care_physician_in_facility_visits_count</th><th scope=col>most_common_primary_care_physician_in_all_visits_count</th><th scope=col>most_common_primary_care_physician_in_facility_non_exclusive_HCPCS_count</th><th scope=col>most_common_primary_care_physician_in_all_non_exclusive_HCPCS_count</th><th scope=col>most_common_primary_care_physician_in_facility_count</th><th scope=col>most_common_primary_care_physician_in_all_count</th><th scope=col>most_common_primary_care_physician_in_facility_visits_prp</th><th scope=col>most_common_primary_care_physician_in_facility_non_exclusive_HCPCS_prp</th><th scope=col>most_common_primary_care_physician_in_facility_prp</th><th scope=col>RUCC_2013</th><th scope=col>race</th><th scope=col>sex</th><th scope=col>age_group</th><th scope=col>urban</th><th scope=col>HMO_INDICATOR_sum</th><th scope=col>ENTITLEMENT_BUY_IN_IND_sum</th><th scope=col>months_alive</th><th scope=col>number_of_conditions</th><th scope=col>viclaims</th><th scope=col>vikeyword</th><th scope=col>tin1_nu</th><th scope=col>tin1_legal_name</th><th scope=col>tin2_nu</th><th scope=col>tin2_legal_name</th><th scope=col>name_last</th><th scope=col>name_first</th><th scope=col>name_middle</th><th scope=col>SPEC_PRIM_1_NAME</th><th scope=col>SPEC_PRIM_1</th><th scope=col>SPEC_BROAD</th><th scope=col>SEX</th><th scope=col>SPEC_PRIM_2</th><th scope=col>SPEC_PRIM_2_NAME</th><th scope=col>SPEC_SOURCE</th><th scope=col>SPEC_SOURCE_HOSP</th><th scope=col>POS_OFFICE</th><th scope=col>POS_INPAT</th><th scope=col>POS_OPD</th><th scope=col>POS_ER</th><th scope=col>POS_NURSING</th><th scope=col>POS_ASC</th><th scope=col>POS_RESID</th><th scope=col>POS_RETAIL</th><th scope=col>POS_URGENT</th><th scope=col>POS_OTHER</th><th scope=col>STATE</th><th scope=col>STATE_MULTI</th><th scope=col>CBSA_TYPE</th><th scope=col>CBSA_CD</th><th scope=col>CBSA_NAME</th><th scope=col>CBSA_MULTI</th><th scope=col>NPI_SRVC_LINES</th><th scope=col>NPI_ALLOWED_AMT</th><th scope=col>NPI_UNQ_BENES</th><th scope=col>TIN1_SRVC_MONTH</th><th scope=col>TIN1_SRVC_LINES</th><th scope=col>TIN1_ALLOWED_AMT</th><th scope=col>TIN1_UNQ_BENES</th><th scope=col>TIN2_SRVC_MONTH</th><th scope=col>TIN2_SRVC_LINES</th><th scope=col>TIN2_ALLOWED_AMT</th><th scope=col>TIN2_UNQ_BENES</th><th scope=col>BIRTH_YR</th><th scope=col>lns_office</th><th scope=col>lns_opd</th></tr>\n",
       "\t<tr><th scope=col>&lt;int&gt;</th><th scope=col>&lt;dbl&gt;</th><th scope=col>&lt;int&gt;</th><th scope=col>&lt;int&gt;</th><th scope=col>&lt;lgl&gt;</th><th scope=col>&lt;lgl&gt;</th><th scope=col>&lt;lgl&gt;</th><th scope=col>&lt;lgl&gt;</th><th scope=col>&lt;lgl&gt;</th><th scope=col>&lt;lgl&gt;</th><th scope=col>&lt;lgl&gt;</th><th scope=col>&lt;dbl&gt;</th><th scope=col>&lt;chr&gt;</th><th scope=col>&lt;chr&gt;</th><th scope=col>&lt;int&gt;</th><th scope=col>&lt;int&gt;</th><th scope=col>&lt;dbl&gt;</th><th scope=col>&lt;dbl&gt;</th><th scope=col>&lt;dbl&gt;</th><th scope=col>&lt;chr&gt;</th><th scope=col>&lt;chr&gt;</th><th scope=col>&lt;chr&gt;</th><th scope=col>&lt;chr&gt;</th><th scope=col>&lt;chr&gt;</th><th scope=col>&lt;chr&gt;</th><th scope=col>&lt;chr&gt;</th><th scope=col>&lt;chr&gt;</th><th scope=col>&lt;chr&gt;</th><th scope=col>&lt;chr&gt;</th><th scope=col>&lt;chr&gt;</th><th scope=col>&lt;chr&gt;</th><th scope=col>&lt;chr&gt;</th><th scope=col>&lt;chr&gt;</th><th scope=col>&lt;chr&gt;</th><th scope=col>&lt;chr&gt;</th><th scope=col>&lt;chr&gt;</th><th scope=col>&lt;chr&gt;</th><th scope=col>&lt;chr&gt;</th><th scope=col>&lt;chr&gt;</th><th scope=col>&lt;chr&gt;</th><th scope=col>&lt;chr&gt;</th><th scope=col>&lt;chr&gt;</th><th scope=col>&lt;chr&gt;</th><th scope=col>&lt;chr&gt;</th><th scope=col>&lt;dbl&gt;</th><th scope=col>&lt;dbl&gt;</th><th scope=col>&lt;chr&gt;</th><th scope=col>&lt;chr&gt;</th><th scope=col>&lt;chr&gt;</th><th scope=col>&lt;int&gt;</th><th scope=col>&lt;chr&gt;</th><th scope=col>&lt;chr&gt;</th><th scope=col>&lt;int&gt;</th><th scope=col>&lt;chr&gt;</th><th scope=col>&lt;int&gt;</th><th scope=col>&lt;int&gt;</th><th scope=col>&lt;int&gt;</th><th scope=col>&lt;int&gt;</th><th scope=col>&lt;int&gt;</th><th scope=col>&lt;int&gt;</th><th scope=col>&lt;dbl&gt;</th><th scope=col>&lt;dbl&gt;</th><th scope=col>&lt;dbl&gt;</th><th scope=col>&lt;int&gt;</th><th scope=col>&lt;int&gt;</th><th scope=col>&lt;int&gt;</th><th scope=col>&lt;int&gt;</th><th scope=col>&lt;int&gt;</th><th scope=col>&lt;int&gt;</th><th scope=col>&lt;dbl&gt;</th><th scope=col>&lt;dbl&gt;</th><th scope=col>&lt;dbl&gt;</th><th scope=col>&lt;dbl&gt;</th><th scope=col>&lt;chr&gt;</th><th scope=col>&lt;chr&gt;</th><th scope=col>&lt;chr&gt;</th><th scope=col>&lt;lgl&gt;</th><th scope=col>&lt;int&gt;</th><th scope=col>&lt;int&gt;</th><th scope=col>&lt;dbl&gt;</th><th scope=col>&lt;int&gt;</th><th scope=col>&lt;dbl&gt;</th><th scope=col>&lt;dbl&gt;</th><th scope=col>&lt;chr&gt;</th><th scope=col>&lt;chr&gt;</th><th scope=col>&lt;chr&gt;</th><th scope=col>&lt;chr&gt;</th><th scope=col>&lt;chr&gt;</th><th scope=col>&lt;chr&gt;</th><th scope=col>&lt;chr&gt;</th><th scope=col>&lt;chr&gt;</th><th scope=col>&lt;chr&gt;</th><th scope=col>&lt;dbl&gt;</th><th scope=col>&lt;chr&gt;</th><th scope=col>&lt;chr&gt;</th><th scope=col>&lt;chr&gt;</th><th scope=col>&lt;dbl&gt;</th><th scope=col>&lt;dbl&gt;</th><th scope=col>&lt;dbl&gt;</th><th scope=col>&lt;dbl&gt;</th><th scope=col>&lt;dbl&gt;</th><th scope=col>&lt;dbl&gt;</th><th scope=col>&lt;dbl&gt;</th><th scope=col>&lt;dbl&gt;</th><th scope=col>&lt;dbl&gt;</th><th scope=col>&lt;dbl&gt;</th><th scope=col>&lt;dbl&gt;</th><th scope=col>&lt;dbl&gt;</th><th scope=col>&lt;chr&gt;</th><th scope=col>&lt;dbl&gt;</th><th scope=col>&lt;dbl&gt;</th><th scope=col>&lt;chr&gt;</th><th scope=col>&lt;chr&gt;</th><th scope=col>&lt;dbl&gt;</th><th scope=col>&lt;dbl&gt;</th><th scope=col>&lt;dbl&gt;</th><th scope=col>&lt;dbl&gt;</th><th scope=col>&lt;chr&gt;</th><th scope=col>&lt;dbl&gt;</th><th scope=col>&lt;dbl&gt;</th><th scope=col>&lt;dbl&gt;</th><th scope=col>&lt;chr&gt;</th><th scope=col>&lt;dbl&gt;</th><th scope=col>&lt;dbl&gt;</th><th scope=col>&lt;dbl&gt;</th><th scope=col>&lt;dbl&gt;</th><th scope=col>&lt;dbl&gt;</th><th scope=col>&lt;dbl&gt;</th></tr>\n",
       "</thead>\n",
       "<tbody>\n",
       "\t<tr><td>100000015</td><td>2013</td><td> 7</td><td>1</td><td>FALSE</td><td>FALSE</td><td> TRUE</td><td>FALSE</td><td>FALSE</td><td> TRUE</td><td>FALSE</td><td>  13</td><td>22</td><td>160</td><td>1</td><td>1</td><td>76</td><td>0</td><td>0</td><td>3</td><td>3</td><td>3</td><td>3</td><td>3</td><td>3</td><td>3</td><td>3</td><td>3</td><td>3</td><td>3</td><td>3</td><td>0</td><td>0</td><td>0</td><td>0</td><td>0</td><td>0</td><td>0</td><td>0</td><td>0</td><td>0</td><td>0</td><td>0</td><td>NA</td><td>NA</td><td>NA</td><td>NA</td><td>NA</td><td>1285600932</td><td>2</td><td>11</td><td>1285600932</td><td>2</td><td>11</td><td> 7</td><td>96</td><td>62</td><td>242</td><td>66</td><td>341</td><td>0.07291667</td><td>0.2561983</td><td>0.19354839</td><td> 7</td><td>96</td><td>62</td><td>242</td><td>66</td><td>341</td><td>0.07291667</td><td>0.2561983</td><td>0.19354839</td><td>1</td><td>White</td><td>Male</td><td>75-84</td><td>TRUE</td><td>12</td><td>12</td><td>NA</td><td>1</td><td>0</td><td>0</td><td>NU00015773</td><td>SALIL K MIDHA, MD, PC                            </td><td>          </td><td>                                                 </td><td>MIDHA </td><td>SALIL    </td><td>K </td><td>Internal Medicine</td><td>11</td><td>1</td><td>M</td><td></td><td>NONE</td><td>1</td><td>NA</td><td>0.6718430</td><td>0.19323176</td><td>0.13492529</td><td>0.000000000</td><td>0</td><td>0</td><td>0</td><td>0</td><td>0</td><td>0.00000000</td><td>MA</td><td>0</td><td>1</td><td>14460</td><td>Boston-Cambridge-Newton, MA-NH</td><td>0</td><td>6826</td><td>510422.97</td><td>1608</td><td>111111111111</td><td>6826</td><td>510422.97</td><td>1608</td><td>            </td><td> NA</td><td>      NA</td><td>NA</td><td>1951</td><td>4586</td><td>921</td></tr>\n",
       "\t<tr><td>100000015</td><td>2014</td><td>10</td><td>1</td><td>FALSE</td><td>FALSE</td><td> TRUE</td><td>FALSE</td><td>FALSE</td><td> TRUE</td><td>FALSE</td><td>  14</td><td>22</td><td>160</td><td>1</td><td>1</td><td>77</td><td>0</td><td>0</td><td>3</td><td>3</td><td>3</td><td>3</td><td>3</td><td>3</td><td>3</td><td>3</td><td>3</td><td>3</td><td>3</td><td>3</td><td>0</td><td>0</td><td>0</td><td>0</td><td>0</td><td>0</td><td>0</td><td>0</td><td>0</td><td>0</td><td>0</td><td>0</td><td>NA</td><td>NA</td><td>NA</td><td>NA</td><td>NA</td><td>1770514119</td><td>4</td><td>11</td><td>1770514119</td><td>4</td><td>11</td><td>16</td><td>16</td><td>22</td><td> 22</td><td>27</td><td> 27</td><td>1.00000000</td><td>1.0000000</td><td>1.00000000</td><td>16</td><td>16</td><td>22</td><td> 22</td><td>27</td><td> 27</td><td>1.00000000</td><td>1.0000000</td><td>1.00000000</td><td>1</td><td>White</td><td>Male</td><td>75-84</td><td>TRUE</td><td>12</td><td>12</td><td>NA</td><td>1</td><td>1</td><td>1</td><td>NU00013485</td><td>THE GENERAL HOSPITAL CORPORATION                 </td><td>NU00014364</td><td>NORTH SHORE PHYSICIANS GROUP INC                 </td><td>MOPALA</td><td>PRASHANTH</td><td>R </td><td>Internal Medicine</td><td>11</td><td>1</td><td>M</td><td></td><td>NONE</td><td>1</td><td>NA</td><td>0.0000000</td><td>0.08988764</td><td>0.81573034</td><td>0.065168539</td><td>0</td><td>0</td><td>0</td><td>0</td><td>0</td><td>0.02921348</td><td>MA</td><td>0</td><td>1</td><td>14460</td><td>Boston-Cambridge-Newton, MA-NH</td><td>0</td><td> 445</td><td> 45397.52</td><td> 241</td><td>111111111111</td><td> 313</td><td> 28835.45</td><td> 140</td><td>111111111111</td><td>100</td><td>14872.70</td><td>96</td><td>1976</td><td>   0</td><td>363</td></tr>\n",
       "\t<tr><td>100000015</td><td>2015</td><td> 6</td><td>2</td><td> TRUE</td><td>FALSE</td><td>FALSE</td><td> TRUE</td><td>FALSE</td><td>FALSE</td><td>FALSE</td><td>  15</td><td>22</td><td>160</td><td>1</td><td>1</td><td>78</td><td>0</td><td>0</td><td>3</td><td>3</td><td>3</td><td>3</td><td>3</td><td>3</td><td>3</td><td>3</td><td>3</td><td>3</td><td>3</td><td>3</td><td>0</td><td>0</td><td>0</td><td>0</td><td>0</td><td>0</td><td>0</td><td>0</td><td>0</td><td>0</td><td>0</td><td>0</td><td>NA</td><td>NA</td><td>NA</td><td>NA</td><td>NA</td><td>1770514119</td><td>4</td><td>11</td><td>1770514119</td><td>4</td><td>11</td><td>48</td><td>48</td><td>57</td><td> 57</td><td>57</td><td> 57</td><td>1.00000000</td><td>1.0000000</td><td>1.00000000</td><td>48</td><td>48</td><td>57</td><td> 57</td><td>57</td><td> 57</td><td>1.00000000</td><td>1.0000000</td><td>1.00000000</td><td>1</td><td>White</td><td>Male</td><td>75-84</td><td>TRUE</td><td>12</td><td>12</td><td>NA</td><td>2</td><td>1</td><td>1</td><td>NU00013485</td><td>THE GENERAL HOSPITAL CORPORATION                 </td><td>NU00013835</td><td>MASSACHUSETTS GENERAL PHYSICIANS ORGANIZATION INC</td><td>MOPALA</td><td>PRASHANTH</td><td>R </td><td>Internal Medicine</td><td>11</td><td>1</td><td>M</td><td></td><td>NONE</td><td>1</td><td>NA</td><td>0.0000000</td><td>0.11174242</td><td>0.88636364</td><td>0.001893939</td><td>0</td><td>0</td><td>0</td><td>0</td><td>0</td><td>0.00000000</td><td>MA</td><td>0</td><td>1</td><td>14460</td><td>Boston-Cambridge-Newton, MA-NH</td><td>0</td><td> 528</td><td> 47201.44</td><td> 207</td><td>111111111111</td><td> 439</td><td> 39579.08</td><td> 182</td><td>100111111111</td><td> 76</td><td> 5296.59</td><td>29</td><td>1976</td><td>   0</td><td>468</td></tr>\n",
       "\t<tr><td>100000015</td><td>2016</td><td> 9</td><td>2</td><td> TRUE</td><td>FALSE</td><td> TRUE</td><td> TRUE</td><td>FALSE</td><td>FALSE</td><td> TRUE</td><td>2016</td><td>22</td><td>160</td><td>1</td><td>1</td><td>79</td><td>0</td><td>0</td><td>3</td><td>3</td><td>3</td><td>3</td><td>3</td><td>3</td><td>3</td><td>3</td><td>3</td><td>3</td><td>3</td><td>3</td><td>0</td><td>0</td><td>0</td><td>0</td><td>0</td><td>0</td><td>0</td><td>0</td><td>0</td><td>0</td><td>0</td><td>0</td><td>NA</td><td>NA</td><td>NA</td><td>NA</td><td>NA</td><td>1730170630</td><td>4</td><td>06</td><td>1730170630</td><td>4</td><td>11</td><td> 0</td><td>21</td><td> 0</td><td> 21</td><td> 4</td><td> 41</td><td>0.00000000</td><td>0.0000000</td><td>0.09756098</td><td> 0</td><td>21</td><td> 0</td><td> 21</td><td> 4</td><td> 41</td><td>0.00000000</td><td>0.0000000</td><td>0.09756098</td><td>1</td><td>White</td><td>Male</td><td>75-84</td><td>TRUE</td><td>12</td><td>12</td><td>NA</td><td>3</td><td>0</td><td>0</td><td>NU00013835</td><td>MASSACHUSETTS GENERAL PHYSICIANS ORGANIZATION INC</td><td>          </td><td>                                                 </td><td>FIFER </td><td>MICHAEL  </td><td>A </td><td>Cardiology       </td><td>06</td><td>2</td><td>M</td><td></td><td>NONE</td><td>1</td><td>NA</td><td>0.5901926</td><td>0.31873905</td><td>0.08669002</td><td>0.004378284</td><td>0</td><td>0</td><td>0</td><td>0</td><td>0</td><td>0.00000000</td><td>MA</td><td>0</td><td>1</td><td>14460</td><td>Boston-Cambridge-Newton, MA-NH</td><td>0</td><td>1142</td><td>111404.39</td><td> 497</td><td>111111111111</td><td>1142</td><td>111404.39</td><td> 497</td><td>            </td><td> NA</td><td>      NA</td><td>NA</td><td>1953</td><td> 674</td><td> 99</td></tr>\n",
       "\t<tr><td>100000015</td><td>2017</td><td>14</td><td>3</td><td>FALSE</td><td>FALSE</td><td> TRUE</td><td> TRUE</td><td>FALSE</td><td>FALSE</td><td> TRUE</td><td>2017</td><td>22</td><td>160</td><td>1</td><td>1</td><td>80</td><td>0</td><td>0</td><td>3</td><td>3</td><td>3</td><td>3</td><td>3</td><td>3</td><td>3</td><td>3</td><td>3</td><td>3</td><td>3</td><td>3</td><td>0</td><td>0</td><td>0</td><td>0</td><td>0</td><td>0</td><td>0</td><td>0</td><td>0</td><td>0</td><td>0</td><td>0</td><td>NA</td><td>NA</td><td>NA</td><td>NA</td><td>NA</td><td>1043207350</td><td>3</td><td>11</td><td>1043207350</td><td>3</td><td>11</td><td>58</td><td>58</td><td>68</td><td> 68</td><td>69</td><td> 69</td><td>1.00000000</td><td>1.0000000</td><td>1.00000000</td><td>58</td><td>58</td><td>68</td><td> 68</td><td>69</td><td> 69</td><td>1.00000000</td><td>1.0000000</td><td>1.00000000</td><td>1</td><td>White</td><td>Male</td><td>75-84</td><td>TRUE</td><td>12</td><td>12</td><td>NA</td><td>2</td><td>1</td><td>1</td><td>NU00013485</td><td>THE GENERAL HOSPITAL CORPORATION                 </td><td>NU00013835</td><td>MASSACHUSETTS GENERAL PHYSICIANS ORGANIZATION INC</td><td>DALY  </td><td>PHILIP   </td><td>F.</td><td>Internal Medicine</td><td>11</td><td>1</td><td>M</td><td></td><td>NONE</td><td>1</td><td>NA</td><td>0.0000000</td><td>0.02160864</td><td>0.97599040</td><td>0.002400960</td><td>0</td><td>0</td><td>0</td><td>0</td><td>0</td><td>0.00000000</td><td>MA</td><td>0</td><td>1</td><td>14460</td><td>Boston-Cambridge-Newton, MA-NH</td><td>0</td><td> 833</td><td> 63587.63</td><td> 301</td><td>111111111111</td><td> 815</td><td> 61565.85</td><td> 293</td><td>010100110101</td><td> 18</td><td> 2021.78</td><td> 9</td><td>1965</td><td>   0</td><td>813</td></tr>\n",
       "\t<tr><td>100000015</td><td>2018</td><td>16</td><td>2</td><td>FALSE</td><td>FALSE</td><td> TRUE</td><td> TRUE</td><td>FALSE</td><td>FALSE</td><td> TRUE</td><td>2018</td><td>22</td><td>160</td><td>1</td><td>1</td><td>81</td><td>0</td><td>0</td><td>3</td><td>3</td><td>3</td><td>3</td><td>3</td><td>3</td><td>3</td><td>3</td><td>3</td><td>3</td><td>3</td><td>3</td><td>0</td><td>0</td><td>0</td><td>0</td><td>0</td><td>0</td><td>0</td><td>0</td><td>0</td><td>0</td><td>0</td><td>0</td><td>NA</td><td>NA</td><td>NA</td><td>NA</td><td>NA</td><td>1043207350</td><td>2</td><td>11</td><td>1043207350</td><td>2</td><td>11</td><td>52</td><td>52</td><td>62</td><td> 62</td><td>62</td><td> 62</td><td>1.00000000</td><td>1.0000000</td><td>1.00000000</td><td>52</td><td>52</td><td>62</td><td> 62</td><td>62</td><td> 62</td><td>1.00000000</td><td>1.0000000</td><td>1.00000000</td><td>1</td><td>White</td><td>Male</td><td>75-84</td><td>TRUE</td><td>12</td><td>12</td><td>NA</td><td>2</td><td>1</td><td>1</td><td>NU00013485</td><td>THE GENERAL HOSPITAL CORPORATION                 </td><td>NU00013835</td><td>MASSACHUSETTS GENERAL PHYSICIANS ORGANIZATION INC</td><td>DALY  </td><td>PHILIP   </td><td>F.</td><td>Internal Medicine</td><td>11</td><td>1</td><td>M</td><td></td><td>NONE</td><td>1</td><td>NA</td><td>0.0000000</td><td>0.02263084</td><td>0.97595474</td><td>0.001414427</td><td>0</td><td>0</td><td>0</td><td>0</td><td>0</td><td>0.00000000</td><td>MA</td><td>0</td><td>1</td><td>14460</td><td>Boston-Cambridge-Newton, MA-NH</td><td>0</td><td> 707</td><td> 54859.59</td><td> 281</td><td>111111111111</td><td> 691</td><td> 53253.76</td><td> 272</td><td>110100111100</td><td> 16</td><td> 1605.83</td><td>10</td><td>1965</td><td>   0</td><td>690</td></tr>\n",
       "</tbody>\n",
       "</table>\n"
      ],
      "text/latex": [
       "A data.table: 6 × 128\n",
       "\\begin{tabular}{llllllllllllllllllllllllllllllllllllllllllllllllllllllllllllllllllllllllllllllllllllllllllllllllllllllllllllllllllllllllllllllll}\n",
       " DESY\\_SORT\\_KEY & year & distinct\\_clinicians & distinct\\_primary\\_care\\_physicians & hypertension & arthritis & IHD & diabetes & depression & icd\\_9\\_pure & icd\\_10\\_pure & REFERENCE\\_YEAR & STATE\\_CODE & COUNTY\\_CODE & SEX\\_CODE & RACE\\_CODE & AGE & ORIG\\_REASON\\_FOR\\_ENTITLEMENT & CURR\\_REASON\\_FOR\\_ENTITLEMENT & ENTITLEMENT\\_BUY\\_IN\\_IND01 & ENTITLEMENT\\_BUY\\_IN\\_IND02 & ENTITLEMENT\\_BUY\\_IN\\_IND03 & ENTITLEMENT\\_BUY\\_IN\\_IND04 & ENTITLEMENT\\_BUY\\_IN\\_IND05 & ENTITLEMENT\\_BUY\\_IN\\_IND06 & ENTITLEMENT\\_BUY\\_IN\\_IND07 & ENTITLEMENT\\_BUY\\_IN\\_IND08 & ENTITLEMENT\\_BUY\\_IN\\_IND09 & ENTITLEMENT\\_BUY\\_IN\\_IND10 & ENTITLEMENT\\_BUY\\_IN\\_IND11 & ENTITLEMENT\\_BUY\\_IN\\_IND12 & HMO\\_INDICATOR01 & HMO\\_INDICATOR02 & HMO\\_INDICATOR03 & HMO\\_INDICATOR04 & HMO\\_INDICATOR05 & HMO\\_INDICATOR06 & HMO\\_INDICATOR07 & HMO\\_INDICATOR08 & HMO\\_INDICATOR09 & HMO\\_INDICATOR10 & HMO\\_INDICATOR11 & HMO\\_INDICATOR12 & VALID\\_DATE\\_OF\\_DEATH\\_SWITCH & DATE\\_OF\\_DEATH & date\\_died & date\\_died\\_valid & year\\_of\\_death & most\\_common\\_physician\\_PRF\\_PHYSN\\_NPI & most\\_common\\_physician\\_n & most\\_common\\_physician\\_PRVDR\\_SPCLTY & most\\_common\\_primary\\_care\\_physician\\_PRF\\_PHYSN\\_NPI & most\\_common\\_primary\\_care\\_physician\\_n & most\\_common\\_primary\\_care\\_physician\\_PRVDR\\_SPCLTY & most\\_common\\_physician\\_in\\_facility\\_visits\\_count & most\\_common\\_physician\\_in\\_all\\_visits\\_count & most\\_common\\_physician\\_in\\_facility\\_non\\_exclusive\\_HCPCS\\_count & most\\_common\\_physician\\_in\\_all\\_non\\_exclusive\\_HCPCS\\_count & most\\_common\\_physician\\_in\\_facility\\_count & most\\_common\\_physician\\_in\\_all\\_count & most\\_common\\_physician\\_in\\_facility\\_visits\\_prp & most\\_common\\_physician\\_in\\_facility\\_non\\_exclusive\\_HCPCS\\_prp & most\\_common\\_physician\\_in\\_facility\\_prp & most\\_common\\_primary\\_care\\_physician\\_in\\_facility\\_visits\\_count & most\\_common\\_primary\\_care\\_physician\\_in\\_all\\_visits\\_count & most\\_common\\_primary\\_care\\_physician\\_in\\_facility\\_non\\_exclusive\\_HCPCS\\_count & most\\_common\\_primary\\_care\\_physician\\_in\\_all\\_non\\_exclusive\\_HCPCS\\_count & most\\_common\\_primary\\_care\\_physician\\_in\\_facility\\_count & most\\_common\\_primary\\_care\\_physician\\_in\\_all\\_count & most\\_common\\_primary\\_care\\_physician\\_in\\_facility\\_visits\\_prp & most\\_common\\_primary\\_care\\_physician\\_in\\_facility\\_non\\_exclusive\\_HCPCS\\_prp & most\\_common\\_primary\\_care\\_physician\\_in\\_facility\\_prp & RUCC\\_2013 & race & sex & age\\_group & urban & HMO\\_INDICATOR\\_sum & ENTITLEMENT\\_BUY\\_IN\\_IND\\_sum & months\\_alive & number\\_of\\_conditions & viclaims & vikeyword & tin1\\_nu & tin1\\_legal\\_name & tin2\\_nu & tin2\\_legal\\_name & name\\_last & name\\_first & name\\_middle & SPEC\\_PRIM\\_1\\_NAME & SPEC\\_PRIM\\_1 & SPEC\\_BROAD & SEX & SPEC\\_PRIM\\_2 & SPEC\\_PRIM\\_2\\_NAME & SPEC\\_SOURCE & SPEC\\_SOURCE\\_HOSP & POS\\_OFFICE & POS\\_INPAT & POS\\_OPD & POS\\_ER & POS\\_NURSING & POS\\_ASC & POS\\_RESID & POS\\_RETAIL & POS\\_URGENT & POS\\_OTHER & STATE & STATE\\_MULTI & CBSA\\_TYPE & CBSA\\_CD & CBSA\\_NAME & CBSA\\_MULTI & NPI\\_SRVC\\_LINES & NPI\\_ALLOWED\\_AMT & NPI\\_UNQ\\_BENES & TIN1\\_SRVC\\_MONTH & TIN1\\_SRVC\\_LINES & TIN1\\_ALLOWED\\_AMT & TIN1\\_UNQ\\_BENES & TIN2\\_SRVC\\_MONTH & TIN2\\_SRVC\\_LINES & TIN2\\_ALLOWED\\_AMT & TIN2\\_UNQ\\_BENES & BIRTH\\_YR & lns\\_office & lns\\_opd\\\\\n",
       " <int> & <dbl> & <int> & <int> & <lgl> & <lgl> & <lgl> & <lgl> & <lgl> & <lgl> & <lgl> & <dbl> & <chr> & <chr> & <int> & <int> & <dbl> & <dbl> & <dbl> & <chr> & <chr> & <chr> & <chr> & <chr> & <chr> & <chr> & <chr> & <chr> & <chr> & <chr> & <chr> & <chr> & <chr> & <chr> & <chr> & <chr> & <chr> & <chr> & <chr> & <chr> & <chr> & <chr> & <chr> & <chr> & <dbl> & <dbl> & <chr> & <chr> & <chr> & <int> & <chr> & <chr> & <int> & <chr> & <int> & <int> & <int> & <int> & <int> & <int> & <dbl> & <dbl> & <dbl> & <int> & <int> & <int> & <int> & <int> & <int> & <dbl> & <dbl> & <dbl> & <dbl> & <chr> & <chr> & <chr> & <lgl> & <int> & <int> & <dbl> & <int> & <dbl> & <dbl> & <chr> & <chr> & <chr> & <chr> & <chr> & <chr> & <chr> & <chr> & <chr> & <dbl> & <chr> & <chr> & <chr> & <dbl> & <dbl> & <dbl> & <dbl> & <dbl> & <dbl> & <dbl> & <dbl> & <dbl> & <dbl> & <dbl> & <dbl> & <chr> & <dbl> & <dbl> & <chr> & <chr> & <dbl> & <dbl> & <dbl> & <dbl> & <chr> & <dbl> & <dbl> & <dbl> & <chr> & <dbl> & <dbl> & <dbl> & <dbl> & <dbl> & <dbl>\\\\\n",
       "\\hline\n",
       "\t 100000015 & 2013 &  7 & 1 & FALSE & FALSE &  TRUE & FALSE & FALSE &  TRUE & FALSE &   13 & 22 & 160 & 1 & 1 & 76 & 0 & 0 & 3 & 3 & 3 & 3 & 3 & 3 & 3 & 3 & 3 & 3 & 3 & 3 & 0 & 0 & 0 & 0 & 0 & 0 & 0 & 0 & 0 & 0 & 0 & 0 & NA & NA & NA & NA & NA & 1285600932 & 2 & 11 & 1285600932 & 2 & 11 &  7 & 96 & 62 & 242 & 66 & 341 & 0.07291667 & 0.2561983 & 0.19354839 &  7 & 96 & 62 & 242 & 66 & 341 & 0.07291667 & 0.2561983 & 0.19354839 & 1 & White & Male & 75-84 & TRUE & 12 & 12 & NA & 1 & 0 & 0 & NU00015773 & SALIL K MIDHA, MD, PC                             &            &                                                   & MIDHA  & SALIL     & K  & Internal Medicine & 11 & 1 & M &  & NONE & 1 & NA & 0.6718430 & 0.19323176 & 0.13492529 & 0.000000000 & 0 & 0 & 0 & 0 & 0 & 0.00000000 & MA & 0 & 1 & 14460 & Boston-Cambridge-Newton, MA-NH & 0 & 6826 & 510422.97 & 1608 & 111111111111 & 6826 & 510422.97 & 1608 &              &  NA &       NA & NA & 1951 & 4586 & 921\\\\\n",
       "\t 100000015 & 2014 & 10 & 1 & FALSE & FALSE &  TRUE & FALSE & FALSE &  TRUE & FALSE &   14 & 22 & 160 & 1 & 1 & 77 & 0 & 0 & 3 & 3 & 3 & 3 & 3 & 3 & 3 & 3 & 3 & 3 & 3 & 3 & 0 & 0 & 0 & 0 & 0 & 0 & 0 & 0 & 0 & 0 & 0 & 0 & NA & NA & NA & NA & NA & 1770514119 & 4 & 11 & 1770514119 & 4 & 11 & 16 & 16 & 22 &  22 & 27 &  27 & 1.00000000 & 1.0000000 & 1.00000000 & 16 & 16 & 22 &  22 & 27 &  27 & 1.00000000 & 1.0000000 & 1.00000000 & 1 & White & Male & 75-84 & TRUE & 12 & 12 & NA & 1 & 1 & 1 & NU00013485 & THE GENERAL HOSPITAL CORPORATION                  & NU00014364 & NORTH SHORE PHYSICIANS GROUP INC                  & MOPALA & PRASHANTH & R  & Internal Medicine & 11 & 1 & M &  & NONE & 1 & NA & 0.0000000 & 0.08988764 & 0.81573034 & 0.065168539 & 0 & 0 & 0 & 0 & 0 & 0.02921348 & MA & 0 & 1 & 14460 & Boston-Cambridge-Newton, MA-NH & 0 &  445 &  45397.52 &  241 & 111111111111 &  313 &  28835.45 &  140 & 111111111111 & 100 & 14872.70 & 96 & 1976 &    0 & 363\\\\\n",
       "\t 100000015 & 2015 &  6 & 2 &  TRUE & FALSE & FALSE &  TRUE & FALSE & FALSE & FALSE &   15 & 22 & 160 & 1 & 1 & 78 & 0 & 0 & 3 & 3 & 3 & 3 & 3 & 3 & 3 & 3 & 3 & 3 & 3 & 3 & 0 & 0 & 0 & 0 & 0 & 0 & 0 & 0 & 0 & 0 & 0 & 0 & NA & NA & NA & NA & NA & 1770514119 & 4 & 11 & 1770514119 & 4 & 11 & 48 & 48 & 57 &  57 & 57 &  57 & 1.00000000 & 1.0000000 & 1.00000000 & 48 & 48 & 57 &  57 & 57 &  57 & 1.00000000 & 1.0000000 & 1.00000000 & 1 & White & Male & 75-84 & TRUE & 12 & 12 & NA & 2 & 1 & 1 & NU00013485 & THE GENERAL HOSPITAL CORPORATION                  & NU00013835 & MASSACHUSETTS GENERAL PHYSICIANS ORGANIZATION INC & MOPALA & PRASHANTH & R  & Internal Medicine & 11 & 1 & M &  & NONE & 1 & NA & 0.0000000 & 0.11174242 & 0.88636364 & 0.001893939 & 0 & 0 & 0 & 0 & 0 & 0.00000000 & MA & 0 & 1 & 14460 & Boston-Cambridge-Newton, MA-NH & 0 &  528 &  47201.44 &  207 & 111111111111 &  439 &  39579.08 &  182 & 100111111111 &  76 &  5296.59 & 29 & 1976 &    0 & 468\\\\\n",
       "\t 100000015 & 2016 &  9 & 2 &  TRUE & FALSE &  TRUE &  TRUE & FALSE & FALSE &  TRUE & 2016 & 22 & 160 & 1 & 1 & 79 & 0 & 0 & 3 & 3 & 3 & 3 & 3 & 3 & 3 & 3 & 3 & 3 & 3 & 3 & 0 & 0 & 0 & 0 & 0 & 0 & 0 & 0 & 0 & 0 & 0 & 0 & NA & NA & NA & NA & NA & 1730170630 & 4 & 06 & 1730170630 & 4 & 11 &  0 & 21 &  0 &  21 &  4 &  41 & 0.00000000 & 0.0000000 & 0.09756098 &  0 & 21 &  0 &  21 &  4 &  41 & 0.00000000 & 0.0000000 & 0.09756098 & 1 & White & Male & 75-84 & TRUE & 12 & 12 & NA & 3 & 0 & 0 & NU00013835 & MASSACHUSETTS GENERAL PHYSICIANS ORGANIZATION INC &            &                                                   & FIFER  & MICHAEL   & A  & Cardiology        & 06 & 2 & M &  & NONE & 1 & NA & 0.5901926 & 0.31873905 & 0.08669002 & 0.004378284 & 0 & 0 & 0 & 0 & 0 & 0.00000000 & MA & 0 & 1 & 14460 & Boston-Cambridge-Newton, MA-NH & 0 & 1142 & 111404.39 &  497 & 111111111111 & 1142 & 111404.39 &  497 &              &  NA &       NA & NA & 1953 &  674 &  99\\\\\n",
       "\t 100000015 & 2017 & 14 & 3 & FALSE & FALSE &  TRUE &  TRUE & FALSE & FALSE &  TRUE & 2017 & 22 & 160 & 1 & 1 & 80 & 0 & 0 & 3 & 3 & 3 & 3 & 3 & 3 & 3 & 3 & 3 & 3 & 3 & 3 & 0 & 0 & 0 & 0 & 0 & 0 & 0 & 0 & 0 & 0 & 0 & 0 & NA & NA & NA & NA & NA & 1043207350 & 3 & 11 & 1043207350 & 3 & 11 & 58 & 58 & 68 &  68 & 69 &  69 & 1.00000000 & 1.0000000 & 1.00000000 & 58 & 58 & 68 &  68 & 69 &  69 & 1.00000000 & 1.0000000 & 1.00000000 & 1 & White & Male & 75-84 & TRUE & 12 & 12 & NA & 2 & 1 & 1 & NU00013485 & THE GENERAL HOSPITAL CORPORATION                  & NU00013835 & MASSACHUSETTS GENERAL PHYSICIANS ORGANIZATION INC & DALY   & PHILIP    & F. & Internal Medicine & 11 & 1 & M &  & NONE & 1 & NA & 0.0000000 & 0.02160864 & 0.97599040 & 0.002400960 & 0 & 0 & 0 & 0 & 0 & 0.00000000 & MA & 0 & 1 & 14460 & Boston-Cambridge-Newton, MA-NH & 0 &  833 &  63587.63 &  301 & 111111111111 &  815 &  61565.85 &  293 & 010100110101 &  18 &  2021.78 &  9 & 1965 &    0 & 813\\\\\n",
       "\t 100000015 & 2018 & 16 & 2 & FALSE & FALSE &  TRUE &  TRUE & FALSE & FALSE &  TRUE & 2018 & 22 & 160 & 1 & 1 & 81 & 0 & 0 & 3 & 3 & 3 & 3 & 3 & 3 & 3 & 3 & 3 & 3 & 3 & 3 & 0 & 0 & 0 & 0 & 0 & 0 & 0 & 0 & 0 & 0 & 0 & 0 & NA & NA & NA & NA & NA & 1043207350 & 2 & 11 & 1043207350 & 2 & 11 & 52 & 52 & 62 &  62 & 62 &  62 & 1.00000000 & 1.0000000 & 1.00000000 & 52 & 52 & 62 &  62 & 62 &  62 & 1.00000000 & 1.0000000 & 1.00000000 & 1 & White & Male & 75-84 & TRUE & 12 & 12 & NA & 2 & 1 & 1 & NU00013485 & THE GENERAL HOSPITAL CORPORATION                  & NU00013835 & MASSACHUSETTS GENERAL PHYSICIANS ORGANIZATION INC & DALY   & PHILIP    & F. & Internal Medicine & 11 & 1 & M &  & NONE & 1 & NA & 0.0000000 & 0.02263084 & 0.97595474 & 0.001414427 & 0 & 0 & 0 & 0 & 0 & 0.00000000 & MA & 0 & 1 & 14460 & Boston-Cambridge-Newton, MA-NH & 0 &  707 &  54859.59 &  281 & 111111111111 &  691 &  53253.76 &  272 & 110100111100 &  16 &  1605.83 & 10 & 1965 &    0 & 690\\\\\n",
       "\\end{tabular}\n"
      ],
      "text/markdown": [
       "\n",
       "A data.table: 6 × 128\n",
       "\n",
       "| DESY_SORT_KEY &lt;int&gt; | year &lt;dbl&gt; | distinct_clinicians &lt;int&gt; | distinct_primary_care_physicians &lt;int&gt; | hypertension &lt;lgl&gt; | arthritis &lt;lgl&gt; | IHD &lt;lgl&gt; | diabetes &lt;lgl&gt; | depression &lt;lgl&gt; | icd_9_pure &lt;lgl&gt; | icd_10_pure &lt;lgl&gt; | REFERENCE_YEAR &lt;dbl&gt; | STATE_CODE &lt;chr&gt; | COUNTY_CODE &lt;chr&gt; | SEX_CODE &lt;int&gt; | RACE_CODE &lt;int&gt; | AGE &lt;dbl&gt; | ORIG_REASON_FOR_ENTITLEMENT &lt;dbl&gt; | CURR_REASON_FOR_ENTITLEMENT &lt;dbl&gt; | ENTITLEMENT_BUY_IN_IND01 &lt;chr&gt; | ENTITLEMENT_BUY_IN_IND02 &lt;chr&gt; | ENTITLEMENT_BUY_IN_IND03 &lt;chr&gt; | ENTITLEMENT_BUY_IN_IND04 &lt;chr&gt; | ENTITLEMENT_BUY_IN_IND05 &lt;chr&gt; | ENTITLEMENT_BUY_IN_IND06 &lt;chr&gt; | ENTITLEMENT_BUY_IN_IND07 &lt;chr&gt; | ENTITLEMENT_BUY_IN_IND08 &lt;chr&gt; | ENTITLEMENT_BUY_IN_IND09 &lt;chr&gt; | ENTITLEMENT_BUY_IN_IND10 &lt;chr&gt; | ENTITLEMENT_BUY_IN_IND11 &lt;chr&gt; | ENTITLEMENT_BUY_IN_IND12 &lt;chr&gt; | HMO_INDICATOR01 &lt;chr&gt; | HMO_INDICATOR02 &lt;chr&gt; | HMO_INDICATOR03 &lt;chr&gt; | HMO_INDICATOR04 &lt;chr&gt; | HMO_INDICATOR05 &lt;chr&gt; | HMO_INDICATOR06 &lt;chr&gt; | HMO_INDICATOR07 &lt;chr&gt; | HMO_INDICATOR08 &lt;chr&gt; | HMO_INDICATOR09 &lt;chr&gt; | HMO_INDICATOR10 &lt;chr&gt; | HMO_INDICATOR11 &lt;chr&gt; | HMO_INDICATOR12 &lt;chr&gt; | VALID_DATE_OF_DEATH_SWITCH &lt;chr&gt; | DATE_OF_DEATH &lt;dbl&gt; | date_died &lt;dbl&gt; | date_died_valid &lt;chr&gt; | year_of_death &lt;chr&gt; | most_common_physician_PRF_PHYSN_NPI &lt;chr&gt; | most_common_physician_n &lt;int&gt; | most_common_physician_PRVDR_SPCLTY &lt;chr&gt; | most_common_primary_care_physician_PRF_PHYSN_NPI &lt;chr&gt; | most_common_primary_care_physician_n &lt;int&gt; | most_common_primary_care_physician_PRVDR_SPCLTY &lt;chr&gt; | most_common_physician_in_facility_visits_count &lt;int&gt; | most_common_physician_in_all_visits_count &lt;int&gt; | most_common_physician_in_facility_non_exclusive_HCPCS_count &lt;int&gt; | most_common_physician_in_all_non_exclusive_HCPCS_count &lt;int&gt; | most_common_physician_in_facility_count &lt;int&gt; | most_common_physician_in_all_count &lt;int&gt; | most_common_physician_in_facility_visits_prp &lt;dbl&gt; | most_common_physician_in_facility_non_exclusive_HCPCS_prp &lt;dbl&gt; | most_common_physician_in_facility_prp &lt;dbl&gt; | most_common_primary_care_physician_in_facility_visits_count &lt;int&gt; | most_common_primary_care_physician_in_all_visits_count &lt;int&gt; | most_common_primary_care_physician_in_facility_non_exclusive_HCPCS_count &lt;int&gt; | most_common_primary_care_physician_in_all_non_exclusive_HCPCS_count &lt;int&gt; | most_common_primary_care_physician_in_facility_count &lt;int&gt; | most_common_primary_care_physician_in_all_count &lt;int&gt; | most_common_primary_care_physician_in_facility_visits_prp &lt;dbl&gt; | most_common_primary_care_physician_in_facility_non_exclusive_HCPCS_prp &lt;dbl&gt; | most_common_primary_care_physician_in_facility_prp &lt;dbl&gt; | RUCC_2013 &lt;dbl&gt; | race &lt;chr&gt; | sex &lt;chr&gt; | age_group &lt;chr&gt; | urban &lt;lgl&gt; | HMO_INDICATOR_sum &lt;int&gt; | ENTITLEMENT_BUY_IN_IND_sum &lt;int&gt; | months_alive &lt;dbl&gt; | number_of_conditions &lt;int&gt; | viclaims &lt;dbl&gt; | vikeyword &lt;dbl&gt; | tin1_nu &lt;chr&gt; | tin1_legal_name &lt;chr&gt; | tin2_nu &lt;chr&gt; | tin2_legal_name &lt;chr&gt; | name_last &lt;chr&gt; | name_first &lt;chr&gt; | name_middle &lt;chr&gt; | SPEC_PRIM_1_NAME &lt;chr&gt; | SPEC_PRIM_1 &lt;chr&gt; | SPEC_BROAD &lt;dbl&gt; | SEX &lt;chr&gt; | SPEC_PRIM_2 &lt;chr&gt; | SPEC_PRIM_2_NAME &lt;chr&gt; | SPEC_SOURCE &lt;dbl&gt; | SPEC_SOURCE_HOSP &lt;dbl&gt; | POS_OFFICE &lt;dbl&gt; | POS_INPAT &lt;dbl&gt; | POS_OPD &lt;dbl&gt; | POS_ER &lt;dbl&gt; | POS_NURSING &lt;dbl&gt; | POS_ASC &lt;dbl&gt; | POS_RESID &lt;dbl&gt; | POS_RETAIL &lt;dbl&gt; | POS_URGENT &lt;dbl&gt; | POS_OTHER &lt;dbl&gt; | STATE &lt;chr&gt; | STATE_MULTI &lt;dbl&gt; | CBSA_TYPE &lt;dbl&gt; | CBSA_CD &lt;chr&gt; | CBSA_NAME &lt;chr&gt; | CBSA_MULTI &lt;dbl&gt; | NPI_SRVC_LINES &lt;dbl&gt; | NPI_ALLOWED_AMT &lt;dbl&gt; | NPI_UNQ_BENES &lt;dbl&gt; | TIN1_SRVC_MONTH &lt;chr&gt; | TIN1_SRVC_LINES &lt;dbl&gt; | TIN1_ALLOWED_AMT &lt;dbl&gt; | TIN1_UNQ_BENES &lt;dbl&gt; | TIN2_SRVC_MONTH &lt;chr&gt; | TIN2_SRVC_LINES &lt;dbl&gt; | TIN2_ALLOWED_AMT &lt;dbl&gt; | TIN2_UNQ_BENES &lt;dbl&gt; | BIRTH_YR &lt;dbl&gt; | lns_office &lt;dbl&gt; | lns_opd &lt;dbl&gt; |\n",
       "|---|---|---|---|---|---|---|---|---|---|---|---|---|---|---|---|---|---|---|---|---|---|---|---|---|---|---|---|---|---|---|---|---|---|---|---|---|---|---|---|---|---|---|---|---|---|---|---|---|---|---|---|---|---|---|---|---|---|---|---|---|---|---|---|---|---|---|---|---|---|---|---|---|---|---|---|---|---|---|---|---|---|---|---|---|---|---|---|---|---|---|---|---|---|---|---|---|---|---|---|---|---|---|---|---|---|---|---|---|---|---|---|---|---|---|---|---|---|---|---|---|---|---|---|---|---|---|---|\n",
       "| 100000015 | 2013 |  7 | 1 | FALSE | FALSE |  TRUE | FALSE | FALSE |  TRUE | FALSE |   13 | 22 | 160 | 1 | 1 | 76 | 0 | 0 | 3 | 3 | 3 | 3 | 3 | 3 | 3 | 3 | 3 | 3 | 3 | 3 | 0 | 0 | 0 | 0 | 0 | 0 | 0 | 0 | 0 | 0 | 0 | 0 | NA | NA | NA | NA | NA | 1285600932 | 2 | 11 | 1285600932 | 2 | 11 |  7 | 96 | 62 | 242 | 66 | 341 | 0.07291667 | 0.2561983 | 0.19354839 |  7 | 96 | 62 | 242 | 66 | 341 | 0.07291667 | 0.2561983 | 0.19354839 | 1 | White | Male | 75-84 | TRUE | 12 | 12 | NA | 1 | 0 | 0 | NU00015773 | SALIL K MIDHA, MD, PC                             | <!----> | <!----> | MIDHA  | SALIL     | K  | Internal Medicine | 11 | 1 | M | <!----> | NONE | 1 | NA | 0.6718430 | 0.19323176 | 0.13492529 | 0.000000000 | 0 | 0 | 0 | 0 | 0 | 0.00000000 | MA | 0 | 1 | 14460 | Boston-Cambridge-Newton, MA-NH | 0 | 6826 | 510422.97 | 1608 | 111111111111 | 6826 | 510422.97 | 1608 | <!----> |  NA |       NA | NA | 1951 | 4586 | 921 |\n",
       "| 100000015 | 2014 | 10 | 1 | FALSE | FALSE |  TRUE | FALSE | FALSE |  TRUE | FALSE |   14 | 22 | 160 | 1 | 1 | 77 | 0 | 0 | 3 | 3 | 3 | 3 | 3 | 3 | 3 | 3 | 3 | 3 | 3 | 3 | 0 | 0 | 0 | 0 | 0 | 0 | 0 | 0 | 0 | 0 | 0 | 0 | NA | NA | NA | NA | NA | 1770514119 | 4 | 11 | 1770514119 | 4 | 11 | 16 | 16 | 22 |  22 | 27 |  27 | 1.00000000 | 1.0000000 | 1.00000000 | 16 | 16 | 22 |  22 | 27 |  27 | 1.00000000 | 1.0000000 | 1.00000000 | 1 | White | Male | 75-84 | TRUE | 12 | 12 | NA | 1 | 1 | 1 | NU00013485 | THE GENERAL HOSPITAL CORPORATION                  | NU00014364 | NORTH SHORE PHYSICIANS GROUP INC                  | MOPALA | PRASHANTH | R  | Internal Medicine | 11 | 1 | M | <!----> | NONE | 1 | NA | 0.0000000 | 0.08988764 | 0.81573034 | 0.065168539 | 0 | 0 | 0 | 0 | 0 | 0.02921348 | MA | 0 | 1 | 14460 | Boston-Cambridge-Newton, MA-NH | 0 |  445 |  45397.52 |  241 | 111111111111 |  313 |  28835.45 |  140 | 111111111111 | 100 | 14872.70 | 96 | 1976 |    0 | 363 |\n",
       "| 100000015 | 2015 |  6 | 2 |  TRUE | FALSE | FALSE |  TRUE | FALSE | FALSE | FALSE |   15 | 22 | 160 | 1 | 1 | 78 | 0 | 0 | 3 | 3 | 3 | 3 | 3 | 3 | 3 | 3 | 3 | 3 | 3 | 3 | 0 | 0 | 0 | 0 | 0 | 0 | 0 | 0 | 0 | 0 | 0 | 0 | NA | NA | NA | NA | NA | 1770514119 | 4 | 11 | 1770514119 | 4 | 11 | 48 | 48 | 57 |  57 | 57 |  57 | 1.00000000 | 1.0000000 | 1.00000000 | 48 | 48 | 57 |  57 | 57 |  57 | 1.00000000 | 1.0000000 | 1.00000000 | 1 | White | Male | 75-84 | TRUE | 12 | 12 | NA | 2 | 1 | 1 | NU00013485 | THE GENERAL HOSPITAL CORPORATION                  | NU00013835 | MASSACHUSETTS GENERAL PHYSICIANS ORGANIZATION INC | MOPALA | PRASHANTH | R  | Internal Medicine | 11 | 1 | M | <!----> | NONE | 1 | NA | 0.0000000 | 0.11174242 | 0.88636364 | 0.001893939 | 0 | 0 | 0 | 0 | 0 | 0.00000000 | MA | 0 | 1 | 14460 | Boston-Cambridge-Newton, MA-NH | 0 |  528 |  47201.44 |  207 | 111111111111 |  439 |  39579.08 |  182 | 100111111111 |  76 |  5296.59 | 29 | 1976 |    0 | 468 |\n",
       "| 100000015 | 2016 |  9 | 2 |  TRUE | FALSE |  TRUE |  TRUE | FALSE | FALSE |  TRUE | 2016 | 22 | 160 | 1 | 1 | 79 | 0 | 0 | 3 | 3 | 3 | 3 | 3 | 3 | 3 | 3 | 3 | 3 | 3 | 3 | 0 | 0 | 0 | 0 | 0 | 0 | 0 | 0 | 0 | 0 | 0 | 0 | NA | NA | NA | NA | NA | 1730170630 | 4 | 06 | 1730170630 | 4 | 11 |  0 | 21 |  0 |  21 |  4 |  41 | 0.00000000 | 0.0000000 | 0.09756098 |  0 | 21 |  0 |  21 |  4 |  41 | 0.00000000 | 0.0000000 | 0.09756098 | 1 | White | Male | 75-84 | TRUE | 12 | 12 | NA | 3 | 0 | 0 | NU00013835 | MASSACHUSETTS GENERAL PHYSICIANS ORGANIZATION INC | <!----> | <!----> | FIFER  | MICHAEL   | A  | Cardiology        | 06 | 2 | M | <!----> | NONE | 1 | NA | 0.5901926 | 0.31873905 | 0.08669002 | 0.004378284 | 0 | 0 | 0 | 0 | 0 | 0.00000000 | MA | 0 | 1 | 14460 | Boston-Cambridge-Newton, MA-NH | 0 | 1142 | 111404.39 |  497 | 111111111111 | 1142 | 111404.39 |  497 | <!----> |  NA |       NA | NA | 1953 |  674 |  99 |\n",
       "| 100000015 | 2017 | 14 | 3 | FALSE | FALSE |  TRUE |  TRUE | FALSE | FALSE |  TRUE | 2017 | 22 | 160 | 1 | 1 | 80 | 0 | 0 | 3 | 3 | 3 | 3 | 3 | 3 | 3 | 3 | 3 | 3 | 3 | 3 | 0 | 0 | 0 | 0 | 0 | 0 | 0 | 0 | 0 | 0 | 0 | 0 | NA | NA | NA | NA | NA | 1043207350 | 3 | 11 | 1043207350 | 3 | 11 | 58 | 58 | 68 |  68 | 69 |  69 | 1.00000000 | 1.0000000 | 1.00000000 | 58 | 58 | 68 |  68 | 69 |  69 | 1.00000000 | 1.0000000 | 1.00000000 | 1 | White | Male | 75-84 | TRUE | 12 | 12 | NA | 2 | 1 | 1 | NU00013485 | THE GENERAL HOSPITAL CORPORATION                  | NU00013835 | MASSACHUSETTS GENERAL PHYSICIANS ORGANIZATION INC | DALY   | PHILIP    | F. | Internal Medicine | 11 | 1 | M | <!----> | NONE | 1 | NA | 0.0000000 | 0.02160864 | 0.97599040 | 0.002400960 | 0 | 0 | 0 | 0 | 0 | 0.00000000 | MA | 0 | 1 | 14460 | Boston-Cambridge-Newton, MA-NH | 0 |  833 |  63587.63 |  301 | 111111111111 |  815 |  61565.85 |  293 | 010100110101 |  18 |  2021.78 |  9 | 1965 |    0 | 813 |\n",
       "| 100000015 | 2018 | 16 | 2 | FALSE | FALSE |  TRUE |  TRUE | FALSE | FALSE |  TRUE | 2018 | 22 | 160 | 1 | 1 | 81 | 0 | 0 | 3 | 3 | 3 | 3 | 3 | 3 | 3 | 3 | 3 | 3 | 3 | 3 | 0 | 0 | 0 | 0 | 0 | 0 | 0 | 0 | 0 | 0 | 0 | 0 | NA | NA | NA | NA | NA | 1043207350 | 2 | 11 | 1043207350 | 2 | 11 | 52 | 52 | 62 |  62 | 62 |  62 | 1.00000000 | 1.0000000 | 1.00000000 | 52 | 52 | 62 |  62 | 62 |  62 | 1.00000000 | 1.0000000 | 1.00000000 | 1 | White | Male | 75-84 | TRUE | 12 | 12 | NA | 2 | 1 | 1 | NU00013485 | THE GENERAL HOSPITAL CORPORATION                  | NU00013835 | MASSACHUSETTS GENERAL PHYSICIANS ORGANIZATION INC | DALY   | PHILIP    | F. | Internal Medicine | 11 | 1 | M | <!----> | NONE | 1 | NA | 0.0000000 | 0.02263084 | 0.97595474 | 0.001414427 | 0 | 0 | 0 | 0 | 0 | 0.00000000 | MA | 0 | 1 | 14460 | Boston-Cambridge-Newton, MA-NH | 0 |  707 |  54859.59 |  281 | 111111111111 |  691 |  53253.76 |  272 | 110100111100 |  16 |  1605.83 | 10 | 1965 |    0 | 690 |\n",
       "\n"
      ],
      "text/plain": [
       "  DESY_SORT_KEY year distinct_clinicians distinct_primary_care_physicians hypertension arthritis IHD   diabetes depression icd_9_pure icd_10_pure REFERENCE_YEAR STATE_CODE COUNTY_CODE SEX_CODE RACE_CODE AGE ORIG_REASON_FOR_ENTITLEMENT CURR_REASON_FOR_ENTITLEMENT ENTITLEMENT_BUY_IN_IND01\n",
       "1 100000015     2013  7                  1                                FALSE        FALSE      TRUE FALSE    FALSE       TRUE      FALSE         13           22         160         1        1         76  0                           0                           3                       \n",
       "2 100000015     2014 10                  1                                FALSE        FALSE      TRUE FALSE    FALSE       TRUE      FALSE         14           22         160         1        1         77  0                           0                           3                       \n",
       "3 100000015     2015  6                  2                                 TRUE        FALSE     FALSE  TRUE    FALSE      FALSE      FALSE         15           22         160         1        1         78  0                           0                           3                       \n",
       "4 100000015     2016  9                  2                                 TRUE        FALSE      TRUE  TRUE    FALSE      FALSE       TRUE       2016           22         160         1        1         79  0                           0                           3                       \n",
       "5 100000015     2017 14                  3                                FALSE        FALSE      TRUE  TRUE    FALSE      FALSE       TRUE       2017           22         160         1        1         80  0                           0                           3                       \n",
       "6 100000015     2018 16                  2                                FALSE        FALSE      TRUE  TRUE    FALSE      FALSE       TRUE       2018           22         160         1        1         81  0                           0                           3                       \n",
       "  ENTITLEMENT_BUY_IN_IND02 ENTITLEMENT_BUY_IN_IND03 ENTITLEMENT_BUY_IN_IND04 ENTITLEMENT_BUY_IN_IND05 ENTITLEMENT_BUY_IN_IND06 ENTITLEMENT_BUY_IN_IND07 ENTITLEMENT_BUY_IN_IND08 ENTITLEMENT_BUY_IN_IND09 ENTITLEMENT_BUY_IN_IND10 ENTITLEMENT_BUY_IN_IND11 ENTITLEMENT_BUY_IN_IND12 HMO_INDICATOR01\n",
       "1 3                        3                        3                        3                        3                        3                        3                        3                        3                        3                        3                        0              \n",
       "2 3                        3                        3                        3                        3                        3                        3                        3                        3                        3                        3                        0              \n",
       "3 3                        3                        3                        3                        3                        3                        3                        3                        3                        3                        3                        0              \n",
       "4 3                        3                        3                        3                        3                        3                        3                        3                        3                        3                        3                        0              \n",
       "5 3                        3                        3                        3                        3                        3                        3                        3                        3                        3                        3                        0              \n",
       "6 3                        3                        3                        3                        3                        3                        3                        3                        3                        3                        3                        0              \n",
       "  HMO_INDICATOR02 HMO_INDICATOR03 HMO_INDICATOR04 HMO_INDICATOR05 HMO_INDICATOR06 HMO_INDICATOR07 HMO_INDICATOR08 HMO_INDICATOR09 HMO_INDICATOR10 HMO_INDICATOR11 HMO_INDICATOR12 VALID_DATE_OF_DEATH_SWITCH DATE_OF_DEATH date_died date_died_valid year_of_death most_common_physician_PRF_PHYSN_NPI\n",
       "1 0               0               0               0               0               0               0               0               0               0               0               NA                         NA            NA        NA              NA            1285600932                         \n",
       "2 0               0               0               0               0               0               0               0               0               0               0               NA                         NA            NA        NA              NA            1770514119                         \n",
       "3 0               0               0               0               0               0               0               0               0               0               0               NA                         NA            NA        NA              NA            1770514119                         \n",
       "4 0               0               0               0               0               0               0               0               0               0               0               NA                         NA            NA        NA              NA            1730170630                         \n",
       "5 0               0               0               0               0               0               0               0               0               0               0               NA                         NA            NA        NA              NA            1043207350                         \n",
       "6 0               0               0               0               0               0               0               0               0               0               0               NA                         NA            NA        NA              NA            1043207350                         \n",
       "  most_common_physician_n most_common_physician_PRVDR_SPCLTY most_common_primary_care_physician_PRF_PHYSN_NPI most_common_primary_care_physician_n most_common_primary_care_physician_PRVDR_SPCLTY most_common_physician_in_facility_visits_count most_common_physician_in_all_visits_count\n",
       "1 2                       11                                 1285600932                                       2                                    11                                               7                                             96                                       \n",
       "2 4                       11                                 1770514119                                       4                                    11                                              16                                             16                                       \n",
       "3 4                       11                                 1770514119                                       4                                    11                                              48                                             48                                       \n",
       "4 4                       06                                 1730170630                                       4                                    11                                               0                                             21                                       \n",
       "5 3                       11                                 1043207350                                       3                                    11                                              58                                             58                                       \n",
       "6 2                       11                                 1043207350                                       2                                    11                                              52                                             52                                       \n",
       "  most_common_physician_in_facility_non_exclusive_HCPCS_count most_common_physician_in_all_non_exclusive_HCPCS_count most_common_physician_in_facility_count most_common_physician_in_all_count most_common_physician_in_facility_visits_prp most_common_physician_in_facility_non_exclusive_HCPCS_prp\n",
       "1 62                                                          242                                                    66                                      341                                0.07291667                                   0.2561983                                                \n",
       "2 22                                                           22                                                    27                                       27                                1.00000000                                   1.0000000                                                \n",
       "3 57                                                           57                                                    57                                       57                                1.00000000                                   1.0000000                                                \n",
       "4  0                                                           21                                                     4                                       41                                0.00000000                                   0.0000000                                                \n",
       "5 68                                                           68                                                    69                                       69                                1.00000000                                   1.0000000                                                \n",
       "6 62                                                           62                                                    62                                       62                                1.00000000                                   1.0000000                                                \n",
       "  most_common_physician_in_facility_prp most_common_primary_care_physician_in_facility_visits_count most_common_primary_care_physician_in_all_visits_count most_common_primary_care_physician_in_facility_non_exclusive_HCPCS_count most_common_primary_care_physician_in_all_non_exclusive_HCPCS_count\n",
       "1 0.19354839                             7                                                          96                                                     62                                                                       242                                                                \n",
       "2 1.00000000                            16                                                          16                                                     22                                                                        22                                                                \n",
       "3 1.00000000                            48                                                          48                                                     57                                                                        57                                                                \n",
       "4 0.09756098                             0                                                          21                                                      0                                                                        21                                                                \n",
       "5 1.00000000                            58                                                          58                                                     68                                                                        68                                                                \n",
       "6 1.00000000                            52                                                          52                                                     62                                                                        62                                                                \n",
       "  most_common_primary_care_physician_in_facility_count most_common_primary_care_physician_in_all_count most_common_primary_care_physician_in_facility_visits_prp most_common_primary_care_physician_in_facility_non_exclusive_HCPCS_prp most_common_primary_care_physician_in_facility_prp RUCC_2013 race \n",
       "1 66                                                   341                                             0.07291667                                                0.2561983                                                              0.19354839                                         1         White\n",
       "2 27                                                    27                                             1.00000000                                                1.0000000                                                              1.00000000                                         1         White\n",
       "3 57                                                    57                                             1.00000000                                                1.0000000                                                              1.00000000                                         1         White\n",
       "4  4                                                    41                                             0.00000000                                                0.0000000                                                              0.09756098                                         1         White\n",
       "5 69                                                    69                                             1.00000000                                                1.0000000                                                              1.00000000                                         1         White\n",
       "6 62                                                    62                                             1.00000000                                                1.0000000                                                              1.00000000                                         1         White\n",
       "  sex  age_group urban HMO_INDICATOR_sum ENTITLEMENT_BUY_IN_IND_sum months_alive number_of_conditions viclaims vikeyword tin1_nu    tin1_legal_name                                   tin2_nu    tin2_legal_name                                   name_last name_first name_middle SPEC_PRIM_1_NAME \n",
       "1 Male 75-84     TRUE  12                12                         NA           1                    0        0         NU00015773 SALIL K MIDHA, MD, PC                                                                                          MIDHA     SALIL      K           Internal Medicine\n",
       "2 Male 75-84     TRUE  12                12                         NA           1                    1        1         NU00013485 THE GENERAL HOSPITAL CORPORATION                  NU00014364 NORTH SHORE PHYSICIANS GROUP INC                  MOPALA    PRASHANTH  R           Internal Medicine\n",
       "3 Male 75-84     TRUE  12                12                         NA           2                    1        1         NU00013485 THE GENERAL HOSPITAL CORPORATION                  NU00013835 MASSACHUSETTS GENERAL PHYSICIANS ORGANIZATION INC MOPALA    PRASHANTH  R           Internal Medicine\n",
       "4 Male 75-84     TRUE  12                12                         NA           3                    0        0         NU00013835 MASSACHUSETTS GENERAL PHYSICIANS ORGANIZATION INC                                                              FIFER     MICHAEL    A           Cardiology       \n",
       "5 Male 75-84     TRUE  12                12                         NA           2                    1        1         NU00013485 THE GENERAL HOSPITAL CORPORATION                  NU00013835 MASSACHUSETTS GENERAL PHYSICIANS ORGANIZATION INC DALY      PHILIP     F.          Internal Medicine\n",
       "6 Male 75-84     TRUE  12                12                         NA           2                    1        1         NU00013485 THE GENERAL HOSPITAL CORPORATION                  NU00013835 MASSACHUSETTS GENERAL PHYSICIANS ORGANIZATION INC DALY      PHILIP     F.          Internal Medicine\n",
       "  SPEC_PRIM_1 SPEC_BROAD SEX SPEC_PRIM_2 SPEC_PRIM_2_NAME SPEC_SOURCE SPEC_SOURCE_HOSP POS_OFFICE POS_INPAT  POS_OPD    POS_ER      POS_NURSING POS_ASC POS_RESID POS_RETAIL POS_URGENT POS_OTHER  STATE STATE_MULTI CBSA_TYPE CBSA_CD CBSA_NAME                      CBSA_MULTI NPI_SRVC_LINES\n",
       "1 11          1          M               NONE             1           NA               0.6718430  0.19323176 0.13492529 0.000000000 0           0       0         0          0          0.00000000 MA    0           1         14460   Boston-Cambridge-Newton, MA-NH 0          6826          \n",
       "2 11          1          M               NONE             1           NA               0.0000000  0.08988764 0.81573034 0.065168539 0           0       0         0          0          0.02921348 MA    0           1         14460   Boston-Cambridge-Newton, MA-NH 0           445          \n",
       "3 11          1          M               NONE             1           NA               0.0000000  0.11174242 0.88636364 0.001893939 0           0       0         0          0          0.00000000 MA    0           1         14460   Boston-Cambridge-Newton, MA-NH 0           528          \n",
       "4 06          2          M               NONE             1           NA               0.5901926  0.31873905 0.08669002 0.004378284 0           0       0         0          0          0.00000000 MA    0           1         14460   Boston-Cambridge-Newton, MA-NH 0          1142          \n",
       "5 11          1          M               NONE             1           NA               0.0000000  0.02160864 0.97599040 0.002400960 0           0       0         0          0          0.00000000 MA    0           1         14460   Boston-Cambridge-Newton, MA-NH 0           833          \n",
       "6 11          1          M               NONE             1           NA               0.0000000  0.02263084 0.97595474 0.001414427 0           0       0         0          0          0.00000000 MA    0           1         14460   Boston-Cambridge-Newton, MA-NH 0           707          \n",
       "  NPI_ALLOWED_AMT NPI_UNQ_BENES TIN1_SRVC_MONTH TIN1_SRVC_LINES TIN1_ALLOWED_AMT TIN1_UNQ_BENES TIN2_SRVC_MONTH TIN2_SRVC_LINES TIN2_ALLOWED_AMT TIN2_UNQ_BENES BIRTH_YR lns_office lns_opd\n",
       "1 510422.97       1608          111111111111    6826            510422.97        1608                            NA                   NA         NA             1951     4586       921    \n",
       "2  45397.52        241          111111111111     313             28835.45         140           111111111111    100             14872.70         96             1976        0       363    \n",
       "3  47201.44        207          111111111111     439             39579.08         182           100111111111     76              5296.59         29             1976        0       468    \n",
       "4 111404.39        497          111111111111    1142            111404.39         497                            NA                   NA         NA             1953      674        99    \n",
       "5  63587.63        301          111111111111     815             61565.85         293           010100110101     18              2021.78          9             1965        0       813    \n",
       "6  54859.59        281          111111111111     691             53253.76         272           110100111100     16              1605.83         10             1965        0       690    "
      ]
     },
     "metadata": {},
     "output_type": "display_data"
    }
   ],
   "source": [
    "yearly_calculations <-\n",
    "left_join(yearly_calculations,mdppas_data,\n",
    "          by = c(\"most_common_primary_care_physician_PRF_PHYSN_NPI\" = \"npi\" , \"year\" = \"year\")) %>% as.data.table()\n",
    "head(yearly_calculations)"
   ]
  },
  {
   "cell_type": "code",
   "execution_count": 10,
   "id": "5d1e6806-0a96-4a5b-8f6d-29880d60c6e0",
   "metadata": {},
   "outputs": [],
   "source": [
    "write_fst(x = yearly_calculations,\"yearly_calculations_cleaned_with_mdppas.fst\", compress = 0)"
   ]
  },
  {
   "cell_type": "code",
   "execution_count": null,
   "id": "6a2ae236-3a52-495c-ae71-7409f4226a2d",
   "metadata": {},
   "outputs": [],
   "source": [
    "physician_integration_stats <- read.fst(\"./physician_integration_stats_before_join.fst\", as.data.table = T)"
   ]
  },
  {
   "cell_type": "code",
   "execution_count": 16,
   "id": "8a3c158b-c91d-469c-8823-ad0bd44444bf",
   "metadata": {},
   "outputs": [
    {
     "data": {
      "text/html": [
       "<table class=\"dataframe\">\n",
       "<caption>A data.table: 6 × 58</caption>\n",
       "<thead>\n",
       "\t<tr><th scope=col>PRF_PHYSN_NPI</th><th scope=col>year</th><th scope=col>in_facility_visits_count</th><th scope=col>in_all_visits_count</th><th scope=col>in_facility_non_exclusive_HCPCS_count</th><th scope=col>in_all_non_exclusive_HCPCS_count</th><th scope=col>in_facility_count</th><th scope=col>in_all_count</th><th scope=col>in_facility_visits_prp</th><th scope=col>in_facility_non_exclusive_HCPCS_prp</th><th scope=col>in_facility_prp</th><th scope=col>viclaims</th><th scope=col>vikeyword</th><th scope=col>tin1_nu</th><th scope=col>tin1_legal_name</th><th scope=col>tin2_nu</th><th scope=col>tin2_legal_name</th><th scope=col>name_last</th><th scope=col>name_first</th><th scope=col>name_middle</th><th scope=col>SPEC_PRIM_1_NAME</th><th scope=col>SPEC_PRIM_1</th><th scope=col>SPEC_BROAD</th><th scope=col>SEX</th><th scope=col>SPEC_PRIM_2</th><th scope=col>SPEC_PRIM_2_NAME</th><th scope=col>SPEC_SOURCE</th><th scope=col>SPEC_SOURCE_HOSP</th><th scope=col>POS_OFFICE</th><th scope=col>POS_INPAT</th><th scope=col>POS_OPD</th><th scope=col>POS_ER</th><th scope=col>POS_NURSING</th><th scope=col>POS_ASC</th><th scope=col>POS_RESID</th><th scope=col>POS_RETAIL</th><th scope=col>POS_URGENT</th><th scope=col>POS_OTHER</th><th scope=col>STATE</th><th scope=col>STATE_MULTI</th><th scope=col>CBSA_TYPE</th><th scope=col>CBSA_CD</th><th scope=col>CBSA_NAME</th><th scope=col>CBSA_MULTI</th><th scope=col>NPI_SRVC_LINES</th><th scope=col>NPI_ALLOWED_AMT</th><th scope=col>NPI_UNQ_BENES</th><th scope=col>TIN1_SRVC_MONTH</th><th scope=col>TIN1_SRVC_LINES</th><th scope=col>TIN1_ALLOWED_AMT</th><th scope=col>TIN1_UNQ_BENES</th><th scope=col>TIN2_SRVC_MONTH</th><th scope=col>TIN2_SRVC_LINES</th><th scope=col>TIN2_ALLOWED_AMT</th><th scope=col>TIN2_UNQ_BENES</th><th scope=col>BIRTH_YR</th><th scope=col>lns_office</th><th scope=col>lns_opd</th></tr>\n",
       "\t<tr><th scope=col>&lt;chr&gt;</th><th scope=col>&lt;dbl&gt;</th><th scope=col>&lt;int&gt;</th><th scope=col>&lt;int&gt;</th><th scope=col>&lt;int&gt;</th><th scope=col>&lt;int&gt;</th><th scope=col>&lt;int&gt;</th><th scope=col>&lt;int&gt;</th><th scope=col>&lt;dbl&gt;</th><th scope=col>&lt;dbl&gt;</th><th scope=col>&lt;dbl&gt;</th><th scope=col>&lt;dbl&gt;</th><th scope=col>&lt;dbl&gt;</th><th scope=col>&lt;chr&gt;</th><th scope=col>&lt;chr&gt;</th><th scope=col>&lt;chr&gt;</th><th scope=col>&lt;chr&gt;</th><th scope=col>&lt;chr&gt;</th><th scope=col>&lt;chr&gt;</th><th scope=col>&lt;chr&gt;</th><th scope=col>&lt;chr&gt;</th><th scope=col>&lt;chr&gt;</th><th scope=col>&lt;dbl&gt;</th><th scope=col>&lt;chr&gt;</th><th scope=col>&lt;chr&gt;</th><th scope=col>&lt;chr&gt;</th><th scope=col>&lt;dbl&gt;</th><th scope=col>&lt;dbl&gt;</th><th scope=col>&lt;dbl&gt;</th><th scope=col>&lt;dbl&gt;</th><th scope=col>&lt;dbl&gt;</th><th scope=col>&lt;dbl&gt;</th><th scope=col>&lt;dbl&gt;</th><th scope=col>&lt;dbl&gt;</th><th scope=col>&lt;dbl&gt;</th><th scope=col>&lt;dbl&gt;</th><th scope=col>&lt;dbl&gt;</th><th scope=col>&lt;dbl&gt;</th><th scope=col>&lt;chr&gt;</th><th scope=col>&lt;dbl&gt;</th><th scope=col>&lt;dbl&gt;</th><th scope=col>&lt;chr&gt;</th><th scope=col>&lt;chr&gt;</th><th scope=col>&lt;dbl&gt;</th><th scope=col>&lt;dbl&gt;</th><th scope=col>&lt;dbl&gt;</th><th scope=col>&lt;dbl&gt;</th><th scope=col>&lt;chr&gt;</th><th scope=col>&lt;dbl&gt;</th><th scope=col>&lt;dbl&gt;</th><th scope=col>&lt;dbl&gt;</th><th scope=col>&lt;chr&gt;</th><th scope=col>&lt;dbl&gt;</th><th scope=col>&lt;dbl&gt;</th><th scope=col>&lt;dbl&gt;</th><th scope=col>&lt;dbl&gt;</th><th scope=col>&lt;dbl&gt;</th><th scope=col>&lt;dbl&gt;</th></tr>\n",
       "</thead>\n",
       "<tbody>\n",
       "\t<tr><td></td><td>2013</td><td>0</td><td>35</td><td>0</td><td>79</td><td>0</td><td>135</td><td>0</td><td>0.00000000</td><td>0.00000000</td><td>NA</td><td>NA</td><td>NA</td><td>NA</td><td>NA</td><td>NA</td><td>NA</td><td>NA</td><td>NA</td><td>NA</td><td>NA</td><td>NA</td><td>NA</td><td>NA</td><td>NA</td><td>NA</td><td>NA</td><td>NA</td><td>NA</td><td>NA</td><td>NA</td><td>NA</td><td>NA</td><td>NA</td><td>NA</td><td>NA</td><td>NA</td><td>NA</td><td>NA</td><td>NA</td><td>NA</td><td>NA</td><td>NA</td><td>NA</td><td>NA</td><td>NA</td><td>NA</td><td>NA</td><td>NA</td><td>NA</td><td>NA</td><td>NA</td><td>NA</td><td>NA</td><td>NA</td><td>NA</td><td>NA</td></tr>\n",
       "\t<tr><td></td><td>2014</td><td>0</td><td>12</td><td>0</td><td>18</td><td>1</td><td> 69</td><td>0</td><td>0.00000000</td><td>0.01449275</td><td>NA</td><td>NA</td><td>NA</td><td>NA</td><td>NA</td><td>NA</td><td>NA</td><td>NA</td><td>NA</td><td>NA</td><td>NA</td><td>NA</td><td>NA</td><td>NA</td><td>NA</td><td>NA</td><td>NA</td><td>NA</td><td>NA</td><td>NA</td><td>NA</td><td>NA</td><td>NA</td><td>NA</td><td>NA</td><td>NA</td><td>NA</td><td>NA</td><td>NA</td><td>NA</td><td>NA</td><td>NA</td><td>NA</td><td>NA</td><td>NA</td><td>NA</td><td>NA</td><td>NA</td><td>NA</td><td>NA</td><td>NA</td><td>NA</td><td>NA</td><td>NA</td><td>NA</td><td>NA</td><td>NA</td></tr>\n",
       "\t<tr><td></td><td>2015</td><td>0</td><td>13</td><td>1</td><td>36</td><td>1</td><td> 47</td><td>0</td><td>0.02777778</td><td>0.02127660</td><td>NA</td><td>NA</td><td>NA</td><td>NA</td><td>NA</td><td>NA</td><td>NA</td><td>NA</td><td>NA</td><td>NA</td><td>NA</td><td>NA</td><td>NA</td><td>NA</td><td>NA</td><td>NA</td><td>NA</td><td>NA</td><td>NA</td><td>NA</td><td>NA</td><td>NA</td><td>NA</td><td>NA</td><td>NA</td><td>NA</td><td>NA</td><td>NA</td><td>NA</td><td>NA</td><td>NA</td><td>NA</td><td>NA</td><td>NA</td><td>NA</td><td>NA</td><td>NA</td><td>NA</td><td>NA</td><td>NA</td><td>NA</td><td>NA</td><td>NA</td><td>NA</td><td>NA</td><td>NA</td><td>NA</td></tr>\n",
       "\t<tr><td></td><td>2016</td><td>0</td><td> 9</td><td>1</td><td>12</td><td>1</td><td> 39</td><td>0</td><td>0.08333333</td><td>0.02564103</td><td>NA</td><td>NA</td><td>NA</td><td>NA</td><td>NA</td><td>NA</td><td>NA</td><td>NA</td><td>NA</td><td>NA</td><td>NA</td><td>NA</td><td>NA</td><td>NA</td><td>NA</td><td>NA</td><td>NA</td><td>NA</td><td>NA</td><td>NA</td><td>NA</td><td>NA</td><td>NA</td><td>NA</td><td>NA</td><td>NA</td><td>NA</td><td>NA</td><td>NA</td><td>NA</td><td>NA</td><td>NA</td><td>NA</td><td>NA</td><td>NA</td><td>NA</td><td>NA</td><td>NA</td><td>NA</td><td>NA</td><td>NA</td><td>NA</td><td>NA</td><td>NA</td><td>NA</td><td>NA</td><td>NA</td></tr>\n",
       "\t<tr><td></td><td>2017</td><td>0</td><td> 2</td><td>3</td><td>19</td><td>3</td><td> 35</td><td>0</td><td>0.15789474</td><td>0.08571429</td><td>NA</td><td>NA</td><td>NA</td><td>NA</td><td>NA</td><td>NA</td><td>NA</td><td>NA</td><td>NA</td><td>NA</td><td>NA</td><td>NA</td><td>NA</td><td>NA</td><td>NA</td><td>NA</td><td>NA</td><td>NA</td><td>NA</td><td>NA</td><td>NA</td><td>NA</td><td>NA</td><td>NA</td><td>NA</td><td>NA</td><td>NA</td><td>NA</td><td>NA</td><td>NA</td><td>NA</td><td>NA</td><td>NA</td><td>NA</td><td>NA</td><td>NA</td><td>NA</td><td>NA</td><td>NA</td><td>NA</td><td>NA</td><td>NA</td><td>NA</td><td>NA</td><td>NA</td><td>NA</td><td>NA</td></tr>\n",
       "\t<tr><td></td><td>2018</td><td>0</td><td> 3</td><td>1</td><td>12</td><td>1</td><td> 26</td><td>0</td><td>0.08333333</td><td>0.03846154</td><td>NA</td><td>NA</td><td>NA</td><td>NA</td><td>NA</td><td>NA</td><td>NA</td><td>NA</td><td>NA</td><td>NA</td><td>NA</td><td>NA</td><td>NA</td><td>NA</td><td>NA</td><td>NA</td><td>NA</td><td>NA</td><td>NA</td><td>NA</td><td>NA</td><td>NA</td><td>NA</td><td>NA</td><td>NA</td><td>NA</td><td>NA</td><td>NA</td><td>NA</td><td>NA</td><td>NA</td><td>NA</td><td>NA</td><td>NA</td><td>NA</td><td>NA</td><td>NA</td><td>NA</td><td>NA</td><td>NA</td><td>NA</td><td>NA</td><td>NA</td><td>NA</td><td>NA</td><td>NA</td><td>NA</td></tr>\n",
       "</tbody>\n",
       "</table>\n"
      ],
      "text/latex": [
       "A data.table: 6 × 58\n",
       "\\begin{tabular}{llllllllllllllllllllllllllllllllllllllllllllllllllllllllll}\n",
       " PRF\\_PHYSN\\_NPI & year & in\\_facility\\_visits\\_count & in\\_all\\_visits\\_count & in\\_facility\\_non\\_exclusive\\_HCPCS\\_count & in\\_all\\_non\\_exclusive\\_HCPCS\\_count & in\\_facility\\_count & in\\_all\\_count & in\\_facility\\_visits\\_prp & in\\_facility\\_non\\_exclusive\\_HCPCS\\_prp & in\\_facility\\_prp & viclaims & vikeyword & tin1\\_nu & tin1\\_legal\\_name & tin2\\_nu & tin2\\_legal\\_name & name\\_last & name\\_first & name\\_middle & SPEC\\_PRIM\\_1\\_NAME & SPEC\\_PRIM\\_1 & SPEC\\_BROAD & SEX & SPEC\\_PRIM\\_2 & SPEC\\_PRIM\\_2\\_NAME & SPEC\\_SOURCE & SPEC\\_SOURCE\\_HOSP & POS\\_OFFICE & POS\\_INPAT & POS\\_OPD & POS\\_ER & POS\\_NURSING & POS\\_ASC & POS\\_RESID & POS\\_RETAIL & POS\\_URGENT & POS\\_OTHER & STATE & STATE\\_MULTI & CBSA\\_TYPE & CBSA\\_CD & CBSA\\_NAME & CBSA\\_MULTI & NPI\\_SRVC\\_LINES & NPI\\_ALLOWED\\_AMT & NPI\\_UNQ\\_BENES & TIN1\\_SRVC\\_MONTH & TIN1\\_SRVC\\_LINES & TIN1\\_ALLOWED\\_AMT & TIN1\\_UNQ\\_BENES & TIN2\\_SRVC\\_MONTH & TIN2\\_SRVC\\_LINES & TIN2\\_ALLOWED\\_AMT & TIN2\\_UNQ\\_BENES & BIRTH\\_YR & lns\\_office & lns\\_opd\\\\\n",
       " <chr> & <dbl> & <int> & <int> & <int> & <int> & <int> & <int> & <dbl> & <dbl> & <dbl> & <dbl> & <dbl> & <chr> & <chr> & <chr> & <chr> & <chr> & <chr> & <chr> & <chr> & <chr> & <dbl> & <chr> & <chr> & <chr> & <dbl> & <dbl> & <dbl> & <dbl> & <dbl> & <dbl> & <dbl> & <dbl> & <dbl> & <dbl> & <dbl> & <dbl> & <chr> & <dbl> & <dbl> & <chr> & <chr> & <dbl> & <dbl> & <dbl> & <dbl> & <chr> & <dbl> & <dbl> & <dbl> & <chr> & <dbl> & <dbl> & <dbl> & <dbl> & <dbl> & <dbl>\\\\\n",
       "\\hline\n",
       "\t  & 2013 & 0 & 35 & 0 & 79 & 0 & 135 & 0 & 0.00000000 & 0.00000000 & NA & NA & NA & NA & NA & NA & NA & NA & NA & NA & NA & NA & NA & NA & NA & NA & NA & NA & NA & NA & NA & NA & NA & NA & NA & NA & NA & NA & NA & NA & NA & NA & NA & NA & NA & NA & NA & NA & NA & NA & NA & NA & NA & NA & NA & NA & NA\\\\\n",
       "\t  & 2014 & 0 & 12 & 0 & 18 & 1 &  69 & 0 & 0.00000000 & 0.01449275 & NA & NA & NA & NA & NA & NA & NA & NA & NA & NA & NA & NA & NA & NA & NA & NA & NA & NA & NA & NA & NA & NA & NA & NA & NA & NA & NA & NA & NA & NA & NA & NA & NA & NA & NA & NA & NA & NA & NA & NA & NA & NA & NA & NA & NA & NA & NA\\\\\n",
       "\t  & 2015 & 0 & 13 & 1 & 36 & 1 &  47 & 0 & 0.02777778 & 0.02127660 & NA & NA & NA & NA & NA & NA & NA & NA & NA & NA & NA & NA & NA & NA & NA & NA & NA & NA & NA & NA & NA & NA & NA & NA & NA & NA & NA & NA & NA & NA & NA & NA & NA & NA & NA & NA & NA & NA & NA & NA & NA & NA & NA & NA & NA & NA & NA\\\\\n",
       "\t  & 2016 & 0 &  9 & 1 & 12 & 1 &  39 & 0 & 0.08333333 & 0.02564103 & NA & NA & NA & NA & NA & NA & NA & NA & NA & NA & NA & NA & NA & NA & NA & NA & NA & NA & NA & NA & NA & NA & NA & NA & NA & NA & NA & NA & NA & NA & NA & NA & NA & NA & NA & NA & NA & NA & NA & NA & NA & NA & NA & NA & NA & NA & NA\\\\\n",
       "\t  & 2017 & 0 &  2 & 3 & 19 & 3 &  35 & 0 & 0.15789474 & 0.08571429 & NA & NA & NA & NA & NA & NA & NA & NA & NA & NA & NA & NA & NA & NA & NA & NA & NA & NA & NA & NA & NA & NA & NA & NA & NA & NA & NA & NA & NA & NA & NA & NA & NA & NA & NA & NA & NA & NA & NA & NA & NA & NA & NA & NA & NA & NA & NA\\\\\n",
       "\t  & 2018 & 0 &  3 & 1 & 12 & 1 &  26 & 0 & 0.08333333 & 0.03846154 & NA & NA & NA & NA & NA & NA & NA & NA & NA & NA & NA & NA & NA & NA & NA & NA & NA & NA & NA & NA & NA & NA & NA & NA & NA & NA & NA & NA & NA & NA & NA & NA & NA & NA & NA & NA & NA & NA & NA & NA & NA & NA & NA & NA & NA & NA & NA\\\\\n",
       "\\end{tabular}\n"
      ],
      "text/markdown": [
       "\n",
       "A data.table: 6 × 58\n",
       "\n",
       "| PRF_PHYSN_NPI &lt;chr&gt; | year &lt;dbl&gt; | in_facility_visits_count &lt;int&gt; | in_all_visits_count &lt;int&gt; | in_facility_non_exclusive_HCPCS_count &lt;int&gt; | in_all_non_exclusive_HCPCS_count &lt;int&gt; | in_facility_count &lt;int&gt; | in_all_count &lt;int&gt; | in_facility_visits_prp &lt;dbl&gt; | in_facility_non_exclusive_HCPCS_prp &lt;dbl&gt; | in_facility_prp &lt;dbl&gt; | viclaims &lt;dbl&gt; | vikeyword &lt;dbl&gt; | tin1_nu &lt;chr&gt; | tin1_legal_name &lt;chr&gt; | tin2_nu &lt;chr&gt; | tin2_legal_name &lt;chr&gt; | name_last &lt;chr&gt; | name_first &lt;chr&gt; | name_middle &lt;chr&gt; | SPEC_PRIM_1_NAME &lt;chr&gt; | SPEC_PRIM_1 &lt;chr&gt; | SPEC_BROAD &lt;dbl&gt; | SEX &lt;chr&gt; | SPEC_PRIM_2 &lt;chr&gt; | SPEC_PRIM_2_NAME &lt;chr&gt; | SPEC_SOURCE &lt;dbl&gt; | SPEC_SOURCE_HOSP &lt;dbl&gt; | POS_OFFICE &lt;dbl&gt; | POS_INPAT &lt;dbl&gt; | POS_OPD &lt;dbl&gt; | POS_ER &lt;dbl&gt; | POS_NURSING &lt;dbl&gt; | POS_ASC &lt;dbl&gt; | POS_RESID &lt;dbl&gt; | POS_RETAIL &lt;dbl&gt; | POS_URGENT &lt;dbl&gt; | POS_OTHER &lt;dbl&gt; | STATE &lt;chr&gt; | STATE_MULTI &lt;dbl&gt; | CBSA_TYPE &lt;dbl&gt; | CBSA_CD &lt;chr&gt; | CBSA_NAME &lt;chr&gt; | CBSA_MULTI &lt;dbl&gt; | NPI_SRVC_LINES &lt;dbl&gt; | NPI_ALLOWED_AMT &lt;dbl&gt; | NPI_UNQ_BENES &lt;dbl&gt; | TIN1_SRVC_MONTH &lt;chr&gt; | TIN1_SRVC_LINES &lt;dbl&gt; | TIN1_ALLOWED_AMT &lt;dbl&gt; | TIN1_UNQ_BENES &lt;dbl&gt; | TIN2_SRVC_MONTH &lt;chr&gt; | TIN2_SRVC_LINES &lt;dbl&gt; | TIN2_ALLOWED_AMT &lt;dbl&gt; | TIN2_UNQ_BENES &lt;dbl&gt; | BIRTH_YR &lt;dbl&gt; | lns_office &lt;dbl&gt; | lns_opd &lt;dbl&gt; |\n",
       "|---|---|---|---|---|---|---|---|---|---|---|---|---|---|---|---|---|---|---|---|---|---|---|---|---|---|---|---|---|---|---|---|---|---|---|---|---|---|---|---|---|---|---|---|---|---|---|---|---|---|---|---|---|---|---|---|---|---|\n",
       "| <!----> | 2013 | 0 | 35 | 0 | 79 | 0 | 135 | 0 | 0.00000000 | 0.00000000 | NA | NA | NA | NA | NA | NA | NA | NA | NA | NA | NA | NA | NA | NA | NA | NA | NA | NA | NA | NA | NA | NA | NA | NA | NA | NA | NA | NA | NA | NA | NA | NA | NA | NA | NA | NA | NA | NA | NA | NA | NA | NA | NA | NA | NA | NA | NA |\n",
       "| <!----> | 2014 | 0 | 12 | 0 | 18 | 1 |  69 | 0 | 0.00000000 | 0.01449275 | NA | NA | NA | NA | NA | NA | NA | NA | NA | NA | NA | NA | NA | NA | NA | NA | NA | NA | NA | NA | NA | NA | NA | NA | NA | NA | NA | NA | NA | NA | NA | NA | NA | NA | NA | NA | NA | NA | NA | NA | NA | NA | NA | NA | NA | NA | NA |\n",
       "| <!----> | 2015 | 0 | 13 | 1 | 36 | 1 |  47 | 0 | 0.02777778 | 0.02127660 | NA | NA | NA | NA | NA | NA | NA | NA | NA | NA | NA | NA | NA | NA | NA | NA | NA | NA | NA | NA | NA | NA | NA | NA | NA | NA | NA | NA | NA | NA | NA | NA | NA | NA | NA | NA | NA | NA | NA | NA | NA | NA | NA | NA | NA | NA | NA |\n",
       "| <!----> | 2016 | 0 |  9 | 1 | 12 | 1 |  39 | 0 | 0.08333333 | 0.02564103 | NA | NA | NA | NA | NA | NA | NA | NA | NA | NA | NA | NA | NA | NA | NA | NA | NA | NA | NA | NA | NA | NA | NA | NA | NA | NA | NA | NA | NA | NA | NA | NA | NA | NA | NA | NA | NA | NA | NA | NA | NA | NA | NA | NA | NA | NA | NA |\n",
       "| <!----> | 2017 | 0 |  2 | 3 | 19 | 3 |  35 | 0 | 0.15789474 | 0.08571429 | NA | NA | NA | NA | NA | NA | NA | NA | NA | NA | NA | NA | NA | NA | NA | NA | NA | NA | NA | NA | NA | NA | NA | NA | NA | NA | NA | NA | NA | NA | NA | NA | NA | NA | NA | NA | NA | NA | NA | NA | NA | NA | NA | NA | NA | NA | NA |\n",
       "| <!----> | 2018 | 0 |  3 | 1 | 12 | 1 |  26 | 0 | 0.08333333 | 0.03846154 | NA | NA | NA | NA | NA | NA | NA | NA | NA | NA | NA | NA | NA | NA | NA | NA | NA | NA | NA | NA | NA | NA | NA | NA | NA | NA | NA | NA | NA | NA | NA | NA | NA | NA | NA | NA | NA | NA | NA | NA | NA | NA | NA | NA | NA | NA | NA |\n",
       "\n"
      ],
      "text/plain": [
       "  PRF_PHYSN_NPI year in_facility_visits_count in_all_visits_count in_facility_non_exclusive_HCPCS_count in_all_non_exclusive_HCPCS_count in_facility_count in_all_count in_facility_visits_prp in_facility_non_exclusive_HCPCS_prp in_facility_prp viclaims vikeyword tin1_nu tin1_legal_name tin2_nu\n",
       "1               2013 0                        35                  0                                     79                               0                 135          0                      0.00000000                          0.00000000      NA       NA        NA      NA              NA     \n",
       "2               2014 0                        12                  0                                     18                               1                  69          0                      0.00000000                          0.01449275      NA       NA        NA      NA              NA     \n",
       "3               2015 0                        13                  1                                     36                               1                  47          0                      0.02777778                          0.02127660      NA       NA        NA      NA              NA     \n",
       "4               2016 0                         9                  1                                     12                               1                  39          0                      0.08333333                          0.02564103      NA       NA        NA      NA              NA     \n",
       "5               2017 0                         2                  3                                     19                               3                  35          0                      0.15789474                          0.08571429      NA       NA        NA      NA              NA     \n",
       "6               2018 0                         3                  1                                     12                               1                  26          0                      0.08333333                          0.03846154      NA       NA        NA      NA              NA     \n",
       "  tin2_legal_name name_last name_first name_middle SPEC_PRIM_1_NAME SPEC_PRIM_1 SPEC_BROAD SEX SPEC_PRIM_2 SPEC_PRIM_2_NAME SPEC_SOURCE SPEC_SOURCE_HOSP POS_OFFICE POS_INPAT POS_OPD POS_ER POS_NURSING POS_ASC POS_RESID POS_RETAIL POS_URGENT POS_OTHER STATE STATE_MULTI CBSA_TYPE CBSA_CD CBSA_NAME\n",
       "1 NA              NA        NA         NA          NA               NA          NA         NA  NA          NA               NA          NA               NA         NA        NA      NA     NA          NA      NA        NA         NA         NA        NA    NA          NA        NA      NA       \n",
       "2 NA              NA        NA         NA          NA               NA          NA         NA  NA          NA               NA          NA               NA         NA        NA      NA     NA          NA      NA        NA         NA         NA        NA    NA          NA        NA      NA       \n",
       "3 NA              NA        NA         NA          NA               NA          NA         NA  NA          NA               NA          NA               NA         NA        NA      NA     NA          NA      NA        NA         NA         NA        NA    NA          NA        NA      NA       \n",
       "4 NA              NA        NA         NA          NA               NA          NA         NA  NA          NA               NA          NA               NA         NA        NA      NA     NA          NA      NA        NA         NA         NA        NA    NA          NA        NA      NA       \n",
       "5 NA              NA        NA         NA          NA               NA          NA         NA  NA          NA               NA          NA               NA         NA        NA      NA     NA          NA      NA        NA         NA         NA        NA    NA          NA        NA      NA       \n",
       "6 NA              NA        NA         NA          NA               NA          NA         NA  NA          NA               NA          NA               NA         NA        NA      NA     NA          NA      NA        NA         NA         NA        NA    NA          NA        NA      NA       \n",
       "  CBSA_MULTI NPI_SRVC_LINES NPI_ALLOWED_AMT NPI_UNQ_BENES TIN1_SRVC_MONTH TIN1_SRVC_LINES TIN1_ALLOWED_AMT TIN1_UNQ_BENES TIN2_SRVC_MONTH TIN2_SRVC_LINES TIN2_ALLOWED_AMT TIN2_UNQ_BENES BIRTH_YR lns_office lns_opd\n",
       "1 NA         NA             NA              NA            NA              NA              NA               NA             NA              NA              NA               NA             NA       NA         NA     \n",
       "2 NA         NA             NA              NA            NA              NA              NA               NA             NA              NA              NA               NA             NA       NA         NA     \n",
       "3 NA         NA             NA              NA            NA              NA              NA               NA             NA              NA              NA               NA             NA       NA         NA     \n",
       "4 NA         NA             NA              NA            NA              NA              NA               NA             NA              NA              NA               NA             NA       NA         NA     \n",
       "5 NA         NA             NA              NA            NA              NA              NA               NA             NA              NA              NA               NA             NA       NA         NA     \n",
       "6 NA         NA             NA              NA            NA              NA              NA               NA             NA              NA              NA               NA             NA       NA         NA     "
      ]
     },
     "metadata": {},
     "output_type": "display_data"
    }
   ],
   "source": [
    "physician_integration_stats <-\n",
    "left_join(physician_integration_stats,mdppas_data,\n",
    "          by = c(\"PRF_PHYSN_NPI\" = \"npi\" , \"year\" = \"year\")) %>% as.data.table()"
   ]
  },
  {
   "cell_type": "code",
   "execution_count": 19,
   "id": "811d5209-b585-4a15-9365-aeec4ffc86e4",
   "metadata": {},
   "outputs": [
    {
     "data": {
      "text/html": [
       "<table class=\"dataframe\">\n",
       "<caption>A data.table: 5 × 58</caption>\n",
       "<thead>\n",
       "\t<tr><th scope=col>PRF_PHYSN_NPI</th><th scope=col>year</th><th scope=col>in_facility_visits_count</th><th scope=col>in_all_visits_count</th><th scope=col>in_facility_non_exclusive_HCPCS_count</th><th scope=col>in_all_non_exclusive_HCPCS_count</th><th scope=col>in_facility_count</th><th scope=col>in_all_count</th><th scope=col>in_facility_visits_prp</th><th scope=col>in_facility_non_exclusive_HCPCS_prp</th><th scope=col>in_facility_prp</th><th scope=col>viclaims</th><th scope=col>vikeyword</th><th scope=col>tin1_nu</th><th scope=col>tin1_legal_name</th><th scope=col>tin2_nu</th><th scope=col>tin2_legal_name</th><th scope=col>name_last</th><th scope=col>name_first</th><th scope=col>name_middle</th><th scope=col>SPEC_PRIM_1_NAME</th><th scope=col>SPEC_PRIM_1</th><th scope=col>SPEC_BROAD</th><th scope=col>SEX</th><th scope=col>SPEC_PRIM_2</th><th scope=col>SPEC_PRIM_2_NAME</th><th scope=col>SPEC_SOURCE</th><th scope=col>SPEC_SOURCE_HOSP</th><th scope=col>POS_OFFICE</th><th scope=col>POS_INPAT</th><th scope=col>POS_OPD</th><th scope=col>POS_ER</th><th scope=col>POS_NURSING</th><th scope=col>POS_ASC</th><th scope=col>POS_RESID</th><th scope=col>POS_RETAIL</th><th scope=col>POS_URGENT</th><th scope=col>POS_OTHER</th><th scope=col>STATE</th><th scope=col>STATE_MULTI</th><th scope=col>CBSA_TYPE</th><th scope=col>CBSA_CD</th><th scope=col>CBSA_NAME</th><th scope=col>CBSA_MULTI</th><th scope=col>NPI_SRVC_LINES</th><th scope=col>NPI_ALLOWED_AMT</th><th scope=col>NPI_UNQ_BENES</th><th scope=col>TIN1_SRVC_MONTH</th><th scope=col>TIN1_SRVC_LINES</th><th scope=col>TIN1_ALLOWED_AMT</th><th scope=col>TIN1_UNQ_BENES</th><th scope=col>TIN2_SRVC_MONTH</th><th scope=col>TIN2_SRVC_LINES</th><th scope=col>TIN2_ALLOWED_AMT</th><th scope=col>TIN2_UNQ_BENES</th><th scope=col>BIRTH_YR</th><th scope=col>lns_office</th><th scope=col>lns_opd</th></tr>\n",
       "\t<tr><th scope=col>&lt;chr&gt;</th><th scope=col>&lt;dbl&gt;</th><th scope=col>&lt;int&gt;</th><th scope=col>&lt;int&gt;</th><th scope=col>&lt;int&gt;</th><th scope=col>&lt;int&gt;</th><th scope=col>&lt;int&gt;</th><th scope=col>&lt;int&gt;</th><th scope=col>&lt;dbl&gt;</th><th scope=col>&lt;dbl&gt;</th><th scope=col>&lt;dbl&gt;</th><th scope=col>&lt;dbl&gt;</th><th scope=col>&lt;dbl&gt;</th><th scope=col>&lt;chr&gt;</th><th scope=col>&lt;chr&gt;</th><th scope=col>&lt;chr&gt;</th><th scope=col>&lt;chr&gt;</th><th scope=col>&lt;chr&gt;</th><th scope=col>&lt;chr&gt;</th><th scope=col>&lt;chr&gt;</th><th scope=col>&lt;chr&gt;</th><th scope=col>&lt;chr&gt;</th><th scope=col>&lt;dbl&gt;</th><th scope=col>&lt;chr&gt;</th><th scope=col>&lt;chr&gt;</th><th scope=col>&lt;chr&gt;</th><th scope=col>&lt;dbl&gt;</th><th scope=col>&lt;dbl&gt;</th><th scope=col>&lt;dbl&gt;</th><th scope=col>&lt;dbl&gt;</th><th scope=col>&lt;dbl&gt;</th><th scope=col>&lt;dbl&gt;</th><th scope=col>&lt;dbl&gt;</th><th scope=col>&lt;dbl&gt;</th><th scope=col>&lt;dbl&gt;</th><th scope=col>&lt;dbl&gt;</th><th scope=col>&lt;dbl&gt;</th><th scope=col>&lt;dbl&gt;</th><th scope=col>&lt;chr&gt;</th><th scope=col>&lt;dbl&gt;</th><th scope=col>&lt;dbl&gt;</th><th scope=col>&lt;chr&gt;</th><th scope=col>&lt;chr&gt;</th><th scope=col>&lt;dbl&gt;</th><th scope=col>&lt;dbl&gt;</th><th scope=col>&lt;dbl&gt;</th><th scope=col>&lt;dbl&gt;</th><th scope=col>&lt;chr&gt;</th><th scope=col>&lt;dbl&gt;</th><th scope=col>&lt;dbl&gt;</th><th scope=col>&lt;dbl&gt;</th><th scope=col>&lt;chr&gt;</th><th scope=col>&lt;dbl&gt;</th><th scope=col>&lt;dbl&gt;</th><th scope=col>&lt;dbl&gt;</th><th scope=col>&lt;dbl&gt;</th><th scope=col>&lt;dbl&gt;</th><th scope=col>&lt;dbl&gt;</th></tr>\n",
       "</thead>\n",
       "<tbody>\n",
       "\t<tr><td>1770514119</td><td>2013</td><td> 1</td><td> 1</td><td> 4</td><td> 4</td><td>18</td><td>18</td><td>  1</td><td>  1</td><td>1</td><td>1</td><td>0</td><td>NU00014364</td><td>NORTH SHORE PHYSICIANS GROUP INC</td><td>NU00111340</td><td>SOUTHCOAST PHYSICIANS GROUP, INC..               </td><td>MOPALA</td><td>PRASHANTH</td><td>R</td><td>Internal Medicine</td><td>11</td><td>1</td><td>M</td><td></td><td>NONE</td><td>1</td><td>NA</td><td>0</td><td>0.79761905</td><td>0.1794218</td><td>0.022959184</td><td>0</td><td>0</td><td>0</td><td>0</td><td>0</td><td>0.00000000</td><td>MA</td><td>0</td><td>1</td><td>14460</td><td>Boston-Cambridge-Newton, MA-NH</td><td>1</td><td>1176</td><td>99079.09</td><td>476</td><td>111111110001</td><td>1115</td><td>94208.49</td><td>431</td><td>000001111000</td><td> 44</td><td> 3904.68</td><td>30</td><td>1976</td><td>0</td><td>211</td></tr>\n",
       "\t<tr><td>1770514119</td><td>2014</td><td>16</td><td>16</td><td>22</td><td>22</td><td>27</td><td>27</td><td>  1</td><td>  1</td><td>1</td><td>1</td><td>1</td><td>NU00013485</td><td>THE GENERAL HOSPITAL CORPORATION</td><td>NU00014364</td><td>NORTH SHORE PHYSICIANS GROUP INC                 </td><td>MOPALA</td><td>PRASHANTH</td><td>R</td><td>Internal Medicine</td><td>11</td><td>1</td><td>M</td><td></td><td>NONE</td><td>1</td><td>NA</td><td>0</td><td>0.08988764</td><td>0.8157303</td><td>0.065168539</td><td>0</td><td>0</td><td>0</td><td>0</td><td>0</td><td>0.02921348</td><td>MA</td><td>0</td><td>1</td><td>14460</td><td>Boston-Cambridge-Newton, MA-NH</td><td>0</td><td> 445</td><td>45397.52</td><td>241</td><td>111111111111</td><td> 313</td><td>28835.45</td><td>140</td><td>111111111111</td><td>100</td><td>14872.70</td><td>96</td><td>1976</td><td>0</td><td>363</td></tr>\n",
       "\t<tr><td>1770514119</td><td>2015</td><td>48</td><td>48</td><td>57</td><td>57</td><td>57</td><td>57</td><td>  1</td><td>  1</td><td>1</td><td>1</td><td>1</td><td>NU00013485</td><td>THE GENERAL HOSPITAL CORPORATION</td><td>NU00013835</td><td>MASSACHUSETTS GENERAL PHYSICIANS ORGANIZATION INC</td><td>MOPALA</td><td>PRASHANTH</td><td>R</td><td>Internal Medicine</td><td>11</td><td>1</td><td>M</td><td></td><td>NONE</td><td>1</td><td>NA</td><td>0</td><td>0.11174242</td><td>0.8863636</td><td>0.001893939</td><td>0</td><td>0</td><td>0</td><td>0</td><td>0</td><td>0.00000000</td><td>MA</td><td>0</td><td>1</td><td>14460</td><td>Boston-Cambridge-Newton, MA-NH</td><td>0</td><td> 528</td><td>47201.44</td><td>207</td><td>111111111111</td><td> 439</td><td>39579.08</td><td>182</td><td>100111111111</td><td> 76</td><td> 5296.59</td><td>29</td><td>1976</td><td>0</td><td>468</td></tr>\n",
       "\t<tr><td>1770514119</td><td>2016</td><td>17</td><td>17</td><td>20</td><td>20</td><td>20</td><td>20</td><td>  1</td><td>  1</td><td>1</td><td>1</td><td>1</td><td>NU00013485</td><td>THE GENERAL HOSPITAL CORPORATION</td><td>NU00110881</td><td>DARTMOUTH HITCHCOCK CLINIC                       </td><td>MOPALA</td><td>PRASHANTH</td><td>R</td><td>Internal Medicine</td><td>11</td><td>1</td><td>M</td><td></td><td>NONE</td><td>1</td><td>NA</td><td>0</td><td>0.29431438</td><td>0.7056856</td><td>0.000000000</td><td>0</td><td>0</td><td>0</td><td>0</td><td>0</td><td>0.00000000</td><td>MA</td><td>1</td><td>1</td><td>14460</td><td>Boston-Cambridge-Newton, MA-NH</td><td>1</td><td> 299</td><td>31555.09</td><td>201</td><td>111110000000</td><td> 189</td><td>16219.13</td><td>104</td><td>000000111111</td><td> 96</td><td>15114.46</td><td>96</td><td>1976</td><td>0</td><td>211</td></tr>\n",
       "\t<tr><td>1770514119</td><td>2017</td><td> 0</td><td> 0</td><td> 0</td><td> 0</td><td> 3</td><td> 3</td><td>NaN</td><td>NaN</td><td>1</td><td>1</td><td>0</td><td>NU00110881</td><td>DARTMOUTH HITCHCOCK CLINIC      </td><td>          </td><td>                                                 </td><td>MOPALA</td><td>PRASHANTH</td><td>R</td><td>Internal Medicine</td><td>11</td><td>1</td><td>M</td><td></td><td>NONE</td><td>1</td><td>NA</td><td>0</td><td>0.74175824</td><td>0.2582418</td><td>0.000000000</td><td>0</td><td>0</td><td>0</td><td>0</td><td>0</td><td>0.00000000</td><td>NH</td><td>0</td><td>2</td><td>17200</td><td>Claremont-Lebanon, NH-VT      </td><td>0</td><td> 182</td><td>27219.00</td><td>177</td><td>111111111111</td><td> 182</td><td>27219.00</td><td>177</td><td>            </td><td> NA</td><td>      NA</td><td>NA</td><td>1976</td><td>0</td><td> 47</td></tr>\n",
       "</tbody>\n",
       "</table>\n"
      ],
      "text/latex": [
       "A data.table: 5 × 58\n",
       "\\begin{tabular}{llllllllllllllllllllllllllllllllllllllllllllllllllllllllll}\n",
       " PRF\\_PHYSN\\_NPI & year & in\\_facility\\_visits\\_count & in\\_all\\_visits\\_count & in\\_facility\\_non\\_exclusive\\_HCPCS\\_count & in\\_all\\_non\\_exclusive\\_HCPCS\\_count & in\\_facility\\_count & in\\_all\\_count & in\\_facility\\_visits\\_prp & in\\_facility\\_non\\_exclusive\\_HCPCS\\_prp & in\\_facility\\_prp & viclaims & vikeyword & tin1\\_nu & tin1\\_legal\\_name & tin2\\_nu & tin2\\_legal\\_name & name\\_last & name\\_first & name\\_middle & SPEC\\_PRIM\\_1\\_NAME & SPEC\\_PRIM\\_1 & SPEC\\_BROAD & SEX & SPEC\\_PRIM\\_2 & SPEC\\_PRIM\\_2\\_NAME & SPEC\\_SOURCE & SPEC\\_SOURCE\\_HOSP & POS\\_OFFICE & POS\\_INPAT & POS\\_OPD & POS\\_ER & POS\\_NURSING & POS\\_ASC & POS\\_RESID & POS\\_RETAIL & POS\\_URGENT & POS\\_OTHER & STATE & STATE\\_MULTI & CBSA\\_TYPE & CBSA\\_CD & CBSA\\_NAME & CBSA\\_MULTI & NPI\\_SRVC\\_LINES & NPI\\_ALLOWED\\_AMT & NPI\\_UNQ\\_BENES & TIN1\\_SRVC\\_MONTH & TIN1\\_SRVC\\_LINES & TIN1\\_ALLOWED\\_AMT & TIN1\\_UNQ\\_BENES & TIN2\\_SRVC\\_MONTH & TIN2\\_SRVC\\_LINES & TIN2\\_ALLOWED\\_AMT & TIN2\\_UNQ\\_BENES & BIRTH\\_YR & lns\\_office & lns\\_opd\\\\\n",
       " <chr> & <dbl> & <int> & <int> & <int> & <int> & <int> & <int> & <dbl> & <dbl> & <dbl> & <dbl> & <dbl> & <chr> & <chr> & <chr> & <chr> & <chr> & <chr> & <chr> & <chr> & <chr> & <dbl> & <chr> & <chr> & <chr> & <dbl> & <dbl> & <dbl> & <dbl> & <dbl> & <dbl> & <dbl> & <dbl> & <dbl> & <dbl> & <dbl> & <dbl> & <chr> & <dbl> & <dbl> & <chr> & <chr> & <dbl> & <dbl> & <dbl> & <dbl> & <chr> & <dbl> & <dbl> & <dbl> & <chr> & <dbl> & <dbl> & <dbl> & <dbl> & <dbl> & <dbl>\\\\\n",
       "\\hline\n",
       "\t 1770514119 & 2013 &  1 &  1 &  4 &  4 & 18 & 18 &   1 &   1 & 1 & 1 & 0 & NU00014364 & NORTH SHORE PHYSICIANS GROUP INC & NU00111340 & SOUTHCOAST PHYSICIANS GROUP, INC..                & MOPALA & PRASHANTH & R & Internal Medicine & 11 & 1 & M &  & NONE & 1 & NA & 0 & 0.79761905 & 0.1794218 & 0.022959184 & 0 & 0 & 0 & 0 & 0 & 0.00000000 & MA & 0 & 1 & 14460 & Boston-Cambridge-Newton, MA-NH & 1 & 1176 & 99079.09 & 476 & 111111110001 & 1115 & 94208.49 & 431 & 000001111000 &  44 &  3904.68 & 30 & 1976 & 0 & 211\\\\\n",
       "\t 1770514119 & 2014 & 16 & 16 & 22 & 22 & 27 & 27 &   1 &   1 & 1 & 1 & 1 & NU00013485 & THE GENERAL HOSPITAL CORPORATION & NU00014364 & NORTH SHORE PHYSICIANS GROUP INC                  & MOPALA & PRASHANTH & R & Internal Medicine & 11 & 1 & M &  & NONE & 1 & NA & 0 & 0.08988764 & 0.8157303 & 0.065168539 & 0 & 0 & 0 & 0 & 0 & 0.02921348 & MA & 0 & 1 & 14460 & Boston-Cambridge-Newton, MA-NH & 0 &  445 & 45397.52 & 241 & 111111111111 &  313 & 28835.45 & 140 & 111111111111 & 100 & 14872.70 & 96 & 1976 & 0 & 363\\\\\n",
       "\t 1770514119 & 2015 & 48 & 48 & 57 & 57 & 57 & 57 &   1 &   1 & 1 & 1 & 1 & NU00013485 & THE GENERAL HOSPITAL CORPORATION & NU00013835 & MASSACHUSETTS GENERAL PHYSICIANS ORGANIZATION INC & MOPALA & PRASHANTH & R & Internal Medicine & 11 & 1 & M &  & NONE & 1 & NA & 0 & 0.11174242 & 0.8863636 & 0.001893939 & 0 & 0 & 0 & 0 & 0 & 0.00000000 & MA & 0 & 1 & 14460 & Boston-Cambridge-Newton, MA-NH & 0 &  528 & 47201.44 & 207 & 111111111111 &  439 & 39579.08 & 182 & 100111111111 &  76 &  5296.59 & 29 & 1976 & 0 & 468\\\\\n",
       "\t 1770514119 & 2016 & 17 & 17 & 20 & 20 & 20 & 20 &   1 &   1 & 1 & 1 & 1 & NU00013485 & THE GENERAL HOSPITAL CORPORATION & NU00110881 & DARTMOUTH HITCHCOCK CLINIC                        & MOPALA & PRASHANTH & R & Internal Medicine & 11 & 1 & M &  & NONE & 1 & NA & 0 & 0.29431438 & 0.7056856 & 0.000000000 & 0 & 0 & 0 & 0 & 0 & 0.00000000 & MA & 1 & 1 & 14460 & Boston-Cambridge-Newton, MA-NH & 1 &  299 & 31555.09 & 201 & 111110000000 &  189 & 16219.13 & 104 & 000000111111 &  96 & 15114.46 & 96 & 1976 & 0 & 211\\\\\n",
       "\t 1770514119 & 2017 &  0 &  0 &  0 &  0 &  3 &  3 & NaN & NaN & 1 & 1 & 0 & NU00110881 & DARTMOUTH HITCHCOCK CLINIC       &            &                                                   & MOPALA & PRASHANTH & R & Internal Medicine & 11 & 1 & M &  & NONE & 1 & NA & 0 & 0.74175824 & 0.2582418 & 0.000000000 & 0 & 0 & 0 & 0 & 0 & 0.00000000 & NH & 0 & 2 & 17200 & Claremont-Lebanon, NH-VT       & 0 &  182 & 27219.00 & 177 & 111111111111 &  182 & 27219.00 & 177 &              &  NA &       NA & NA & 1976 & 0 &  47\\\\\n",
       "\\end{tabular}\n"
      ],
      "text/markdown": [
       "\n",
       "A data.table: 5 × 58\n",
       "\n",
       "| PRF_PHYSN_NPI &lt;chr&gt; | year &lt;dbl&gt; | in_facility_visits_count &lt;int&gt; | in_all_visits_count &lt;int&gt; | in_facility_non_exclusive_HCPCS_count &lt;int&gt; | in_all_non_exclusive_HCPCS_count &lt;int&gt; | in_facility_count &lt;int&gt; | in_all_count &lt;int&gt; | in_facility_visits_prp &lt;dbl&gt; | in_facility_non_exclusive_HCPCS_prp &lt;dbl&gt; | in_facility_prp &lt;dbl&gt; | viclaims &lt;dbl&gt; | vikeyword &lt;dbl&gt; | tin1_nu &lt;chr&gt; | tin1_legal_name &lt;chr&gt; | tin2_nu &lt;chr&gt; | tin2_legal_name &lt;chr&gt; | name_last &lt;chr&gt; | name_first &lt;chr&gt; | name_middle &lt;chr&gt; | SPEC_PRIM_1_NAME &lt;chr&gt; | SPEC_PRIM_1 &lt;chr&gt; | SPEC_BROAD &lt;dbl&gt; | SEX &lt;chr&gt; | SPEC_PRIM_2 &lt;chr&gt; | SPEC_PRIM_2_NAME &lt;chr&gt; | SPEC_SOURCE &lt;dbl&gt; | SPEC_SOURCE_HOSP &lt;dbl&gt; | POS_OFFICE &lt;dbl&gt; | POS_INPAT &lt;dbl&gt; | POS_OPD &lt;dbl&gt; | POS_ER &lt;dbl&gt; | POS_NURSING &lt;dbl&gt; | POS_ASC &lt;dbl&gt; | POS_RESID &lt;dbl&gt; | POS_RETAIL &lt;dbl&gt; | POS_URGENT &lt;dbl&gt; | POS_OTHER &lt;dbl&gt; | STATE &lt;chr&gt; | STATE_MULTI &lt;dbl&gt; | CBSA_TYPE &lt;dbl&gt; | CBSA_CD &lt;chr&gt; | CBSA_NAME &lt;chr&gt; | CBSA_MULTI &lt;dbl&gt; | NPI_SRVC_LINES &lt;dbl&gt; | NPI_ALLOWED_AMT &lt;dbl&gt; | NPI_UNQ_BENES &lt;dbl&gt; | TIN1_SRVC_MONTH &lt;chr&gt; | TIN1_SRVC_LINES &lt;dbl&gt; | TIN1_ALLOWED_AMT &lt;dbl&gt; | TIN1_UNQ_BENES &lt;dbl&gt; | TIN2_SRVC_MONTH &lt;chr&gt; | TIN2_SRVC_LINES &lt;dbl&gt; | TIN2_ALLOWED_AMT &lt;dbl&gt; | TIN2_UNQ_BENES &lt;dbl&gt; | BIRTH_YR &lt;dbl&gt; | lns_office &lt;dbl&gt; | lns_opd &lt;dbl&gt; |\n",
       "|---|---|---|---|---|---|---|---|---|---|---|---|---|---|---|---|---|---|---|---|---|---|---|---|---|---|---|---|---|---|---|---|---|---|---|---|---|---|---|---|---|---|---|---|---|---|---|---|---|---|---|---|---|---|---|---|---|---|\n",
       "| 1770514119 | 2013 |  1 |  1 |  4 |  4 | 18 | 18 |   1 |   1 | 1 | 1 | 0 | NU00014364 | NORTH SHORE PHYSICIANS GROUP INC | NU00111340 | SOUTHCOAST PHYSICIANS GROUP, INC..                | MOPALA | PRASHANTH | R | Internal Medicine | 11 | 1 | M | <!----> | NONE | 1 | NA | 0 | 0.79761905 | 0.1794218 | 0.022959184 | 0 | 0 | 0 | 0 | 0 | 0.00000000 | MA | 0 | 1 | 14460 | Boston-Cambridge-Newton, MA-NH | 1 | 1176 | 99079.09 | 476 | 111111110001 | 1115 | 94208.49 | 431 | 000001111000 |  44 |  3904.68 | 30 | 1976 | 0 | 211 |\n",
       "| 1770514119 | 2014 | 16 | 16 | 22 | 22 | 27 | 27 |   1 |   1 | 1 | 1 | 1 | NU00013485 | THE GENERAL HOSPITAL CORPORATION | NU00014364 | NORTH SHORE PHYSICIANS GROUP INC                  | MOPALA | PRASHANTH | R | Internal Medicine | 11 | 1 | M | <!----> | NONE | 1 | NA | 0 | 0.08988764 | 0.8157303 | 0.065168539 | 0 | 0 | 0 | 0 | 0 | 0.02921348 | MA | 0 | 1 | 14460 | Boston-Cambridge-Newton, MA-NH | 0 |  445 | 45397.52 | 241 | 111111111111 |  313 | 28835.45 | 140 | 111111111111 | 100 | 14872.70 | 96 | 1976 | 0 | 363 |\n",
       "| 1770514119 | 2015 | 48 | 48 | 57 | 57 | 57 | 57 |   1 |   1 | 1 | 1 | 1 | NU00013485 | THE GENERAL HOSPITAL CORPORATION | NU00013835 | MASSACHUSETTS GENERAL PHYSICIANS ORGANIZATION INC | MOPALA | PRASHANTH | R | Internal Medicine | 11 | 1 | M | <!----> | NONE | 1 | NA | 0 | 0.11174242 | 0.8863636 | 0.001893939 | 0 | 0 | 0 | 0 | 0 | 0.00000000 | MA | 0 | 1 | 14460 | Boston-Cambridge-Newton, MA-NH | 0 |  528 | 47201.44 | 207 | 111111111111 |  439 | 39579.08 | 182 | 100111111111 |  76 |  5296.59 | 29 | 1976 | 0 | 468 |\n",
       "| 1770514119 | 2016 | 17 | 17 | 20 | 20 | 20 | 20 |   1 |   1 | 1 | 1 | 1 | NU00013485 | THE GENERAL HOSPITAL CORPORATION | NU00110881 | DARTMOUTH HITCHCOCK CLINIC                        | MOPALA | PRASHANTH | R | Internal Medicine | 11 | 1 | M | <!----> | NONE | 1 | NA | 0 | 0.29431438 | 0.7056856 | 0.000000000 | 0 | 0 | 0 | 0 | 0 | 0.00000000 | MA | 1 | 1 | 14460 | Boston-Cambridge-Newton, MA-NH | 1 |  299 | 31555.09 | 201 | 111110000000 |  189 | 16219.13 | 104 | 000000111111 |  96 | 15114.46 | 96 | 1976 | 0 | 211 |\n",
       "| 1770514119 | 2017 |  0 |  0 |  0 |  0 |  3 |  3 | NaN | NaN | 1 | 1 | 0 | NU00110881 | DARTMOUTH HITCHCOCK CLINIC       | <!----> | <!----> | MOPALA | PRASHANTH | R | Internal Medicine | 11 | 1 | M | <!----> | NONE | 1 | NA | 0 | 0.74175824 | 0.2582418 | 0.000000000 | 0 | 0 | 0 | 0 | 0 | 0.00000000 | NH | 0 | 2 | 17200 | Claremont-Lebanon, NH-VT       | 0 |  182 | 27219.00 | 177 | 111111111111 |  182 | 27219.00 | 177 | <!----> |  NA |       NA | NA | 1976 | 0 |  47 |\n",
       "\n"
      ],
      "text/plain": [
       "  PRF_PHYSN_NPI year in_facility_visits_count in_all_visits_count in_facility_non_exclusive_HCPCS_count in_all_non_exclusive_HCPCS_count in_facility_count in_all_count in_facility_visits_prp in_facility_non_exclusive_HCPCS_prp in_facility_prp viclaims vikeyword tin1_nu   \n",
       "1 1770514119    2013  1                        1                   4                                     4                               18                18             1                      1                                 1               1        0         NU00014364\n",
       "2 1770514119    2014 16                       16                  22                                    22                               27                27             1                      1                                 1               1        1         NU00013485\n",
       "3 1770514119    2015 48                       48                  57                                    57                               57                57             1                      1                                 1               1        1         NU00013485\n",
       "4 1770514119    2016 17                       17                  20                                    20                               20                20             1                      1                                 1               1        1         NU00013485\n",
       "5 1770514119    2017  0                        0                   0                                     0                                3                 3           NaN                    NaN                                 1               1        0         NU00110881\n",
       "  tin1_legal_name                  tin2_nu    tin2_legal_name                                   name_last name_first name_middle SPEC_PRIM_1_NAME  SPEC_PRIM_1 SPEC_BROAD SEX SPEC_PRIM_2 SPEC_PRIM_2_NAME SPEC_SOURCE SPEC_SOURCE_HOSP POS_OFFICE POS_INPAT  POS_OPD   POS_ER      POS_NURSING POS_ASC\n",
       "1 NORTH SHORE PHYSICIANS GROUP INC NU00111340 SOUTHCOAST PHYSICIANS GROUP, INC..                MOPALA    PRASHANTH  R           Internal Medicine 11          1          M               NONE             1           NA               0          0.79761905 0.1794218 0.022959184 0           0      \n",
       "2 THE GENERAL HOSPITAL CORPORATION NU00014364 NORTH SHORE PHYSICIANS GROUP INC                  MOPALA    PRASHANTH  R           Internal Medicine 11          1          M               NONE             1           NA               0          0.08988764 0.8157303 0.065168539 0           0      \n",
       "3 THE GENERAL HOSPITAL CORPORATION NU00013835 MASSACHUSETTS GENERAL PHYSICIANS ORGANIZATION INC MOPALA    PRASHANTH  R           Internal Medicine 11          1          M               NONE             1           NA               0          0.11174242 0.8863636 0.001893939 0           0      \n",
       "4 THE GENERAL HOSPITAL CORPORATION NU00110881 DARTMOUTH HITCHCOCK CLINIC                        MOPALA    PRASHANTH  R           Internal Medicine 11          1          M               NONE             1           NA               0          0.29431438 0.7056856 0.000000000 0           0      \n",
       "5 DARTMOUTH HITCHCOCK CLINIC                                                                    MOPALA    PRASHANTH  R           Internal Medicine 11          1          M               NONE             1           NA               0          0.74175824 0.2582418 0.000000000 0           0      \n",
       "  POS_RESID POS_RETAIL POS_URGENT POS_OTHER  STATE STATE_MULTI CBSA_TYPE CBSA_CD CBSA_NAME                      CBSA_MULTI NPI_SRVC_LINES NPI_ALLOWED_AMT NPI_UNQ_BENES TIN1_SRVC_MONTH TIN1_SRVC_LINES TIN1_ALLOWED_AMT TIN1_UNQ_BENES TIN2_SRVC_MONTH TIN2_SRVC_LINES TIN2_ALLOWED_AMT TIN2_UNQ_BENES\n",
       "1 0         0          0          0.00000000 MA    0           1         14460   Boston-Cambridge-Newton, MA-NH 1          1176           99079.09        476           111111110001    1115            94208.49         431            000001111000     44              3904.68         30            \n",
       "2 0         0          0          0.02921348 MA    0           1         14460   Boston-Cambridge-Newton, MA-NH 0           445           45397.52        241           111111111111     313            28835.45         140            111111111111    100             14872.70         96            \n",
       "3 0         0          0          0.00000000 MA    0           1         14460   Boston-Cambridge-Newton, MA-NH 0           528           47201.44        207           111111111111     439            39579.08         182            100111111111     76              5296.59         29            \n",
       "4 0         0          0          0.00000000 MA    1           1         14460   Boston-Cambridge-Newton, MA-NH 1           299           31555.09        201           111110000000     189            16219.13         104            000000111111     96             15114.46         96            \n",
       "5 0         0          0          0.00000000 NH    0           2         17200   Claremont-Lebanon, NH-VT       0           182           27219.00        177           111111111111     182            27219.00         177                             NA                   NA         NA            \n",
       "  BIRTH_YR lns_office lns_opd\n",
       "1 1976     0          211    \n",
       "2 1976     0          363    \n",
       "3 1976     0          468    \n",
       "4 1976     0          211    \n",
       "5 1976     0           47    "
      ]
     },
     "metadata": {},
     "output_type": "display_data"
    }
   ],
   "source": [
    "physician_integration_stats[PRF_PHYSN_NPI==1770514119]"
   ]
  },
  {
   "cell_type": "markdown",
   "id": "99d0eff4-56de-4ae0-bae3-34ec8e008a9d",
   "metadata": {},
   "source": [
    "# Finding changes in physician patient pools"
   ]
  },
  {
   "cell_type": "code",
   "execution_count": 20,
   "id": "81f908a3-12dd-4066-9f0c-c580f1a70460",
   "metadata": {},
   "outputs": [],
   "source": [
    "physician_integration_change_finder <- function(data, integration_threshold = 0.75, independece_threshold = 0.75) {\n",
    "  require(tidyverse)\n",
    "  require(dtplyr)\n",
    "\n",
    "  result <- data %>%\n",
    "    mutate(\n",
    "      integrated = (in_facility_non_exclusive_HCPCS_prp >= integration_threshold | vikeyword==1)\n",
    "    ) %>%\n",
    "    group_by(PRF_PHYSN_NPI) %>%\n",
    "    mutate(\n",
    "      integration_change =\n",
    "        case_when(\n",
    "          integrated == T & lag(integrated) == F ~ \"newly_integrated\",\n",
    "          integrated == F & lag(integrated) == T ~ \"newly_disintegrated\",\n",
    "          is.na(integrated) & lag(integrated) == F ~ \"remained_independent\",\n",
    "          integrated == F & lag(integrated) == F ~ \"remained_independent\",\n",
    "          integrated == T & lag(integrated) == T ~ \"remained_integrated\",\n",
    "          integrated == T & is.na(lag(integrated)) & lag(integrated, 2) == T ~ \"remained_integrated\",\n",
    "          integrated == T & is.na(lag(integrated)) & lag(integrated, 2) == F ~ \"newly_integrated\",\n",
    "          is.na(integrated) & lag(integrated) == T ~ \"remained_integrated\",\n",
    "          year == 2013 & integrated == T ~ \"remained_integrated\",\n",
    "          year == 2013 & integrated == F ~ \"remained_independent\"\n",
    "        ),\n",
    "    ) %>%\n",
    "    group_by(PRF_PHYSN_NPI) %>%\n",
    "    mutate(\n",
    "      sum_integration_changes = sum(integration_change %in% c(\"newly_integrated\", \"newly_disintegrated\"), na.rm = T),\n",
    "      integrated_once_and_stayed = sum(integration_change == \"newly_disintegrated\", na.rm = T) == 0 & sum(integration_change == \"newly_integrated\", na.rm = T) == 1,\n",
    "    ) %>%\n",
    "    group_by(PRF_PHYSN_NPI) %>%\n",
    "    mutate(\n",
    "      year_integrated = case_when(integration_change == \"newly_integrated\" & integrated_once_and_stayed == T ~ year)\n",
    "    ) %>%\n",
    "    group_by(PRF_PHYSN_NPI) %>%\n",
    "    mutate(\n",
    "      year_integrated = year_integrated[which(!is.na(year_integrated))]\n",
    "    ) %>%\n",
    "    mutate(years_from_integration = year - year_integrated) %>%\n",
    "    as.data.table()\n",
    "}"
   ]
  },
  {
   "cell_type": "code",
   "execution_count": 21,
   "id": "7c3d679a-6835-48bb-9810-c0ae02a097cd",
   "metadata": {},
   "outputs": [],
   "source": [
    "physician_integration_stats_changes <- physician_integration_change_finder(physician_integration_stats)"
   ]
  },
  {
   "cell_type": "code",
   "execution_count": 22,
   "id": "786aff36-cb96-4587-b122-3f98b93c9122",
   "metadata": {
    "tags": []
   },
   "outputs": [],
   "source": [
    "yearly_calculations <- left_join(\n",
    "  yearly_calculations,\n",
    "  physician_integration_stats_changes[, .(PRF_PHYSN_NPI, year, integrated, integration_change, sum_integration_changes, integrated_once_and_stayed, year_integrated, years_from_integration)],\n",
    "  by = c(\"most_common_primary_care_physician_PRF_PHYSN_NPI\" = \"PRF_PHYSN_NPI\", \"year\" = \"year\")\n",
    ") %>% as.data.table()"
   ]
  },
  {
   "cell_type": "code",
   "execution_count": 23,
   "id": "f0af70e0-d4b7-4c48-bf15-1647d9fc720f",
   "metadata": {},
   "outputs": [],
   "source": [
    "rename_last <- function(data, how_many, new_names) {\n",
    "  total_cols <- ncol(data)\n",
    "  setnames(data, (total_cols - how_many + 1):(total_cols), new_names)\n",
    "}\n",
    "\n",
    "rename_last(yearly_calculations, 6, paste(\"most_common_primary_care_physician_\", colnames(yearly_calculations[, (ncol(yearly_calculations) - 5):ncol(yearly_calculations)]), sep = \"\"))"
   ]
  },
  {
   "cell_type": "code",
   "execution_count": 24,
   "id": "86c0295c-ee35-44a9-9d71-d91d5dc341a0",
   "metadata": {},
   "outputs": [],
   "source": [
    "yearly_calculations <- yearly_calculations %>%\n",
    "  group_by(DESY_SORT_KEY) %>%\n",
    "  mutate(\n",
    "    most_common_primary_care_physician_changed = case_when(\n",
    "      most_common_primary_care_physician_PRF_PHYSN_NPI != lag(most_common_primary_care_physician_PRF_PHYSN_NPI) ~ T,\n",
    "      most_common_primary_care_physician_PRF_PHYSN_NPI == lag(most_common_primary_care_physician_PRF_PHYSN_NPI) ~ F,\n",
    "      year == 2013 ~ F\n",
    "    )\n",
    "  ) %>%\n",
    "  as.data.table()"
   ]
  },
  {
   "cell_type": "code",
   "execution_count": 25,
   "id": "0d398678-e8f5-4b65-b571-dd0ccdbbb77b",
   "metadata": {},
   "outputs": [
    {
     "data": {
      "text/html": [
       "<table class=\"dataframe\">\n",
       "<caption>A data.table: 6 × 135</caption>\n",
       "<thead>\n",
       "\t<tr><th scope=col>DESY_SORT_KEY</th><th scope=col>year</th><th scope=col>distinct_clinicians</th><th scope=col>distinct_primary_care_physicians</th><th scope=col>hypertension</th><th scope=col>arthritis</th><th scope=col>IHD</th><th scope=col>diabetes</th><th scope=col>depression</th><th scope=col>icd_9_pure</th><th scope=col>icd_10_pure</th><th scope=col>REFERENCE_YEAR</th><th scope=col>STATE_CODE</th><th scope=col>COUNTY_CODE</th><th scope=col>SEX_CODE</th><th scope=col>RACE_CODE</th><th scope=col>AGE</th><th scope=col>ORIG_REASON_FOR_ENTITLEMENT</th><th scope=col>CURR_REASON_FOR_ENTITLEMENT</th><th scope=col>ENTITLEMENT_BUY_IN_IND01</th><th scope=col>ENTITLEMENT_BUY_IN_IND02</th><th scope=col>ENTITLEMENT_BUY_IN_IND03</th><th scope=col>ENTITLEMENT_BUY_IN_IND04</th><th scope=col>ENTITLEMENT_BUY_IN_IND05</th><th scope=col>ENTITLEMENT_BUY_IN_IND06</th><th scope=col>ENTITLEMENT_BUY_IN_IND07</th><th scope=col>ENTITLEMENT_BUY_IN_IND08</th><th scope=col>ENTITLEMENT_BUY_IN_IND09</th><th scope=col>ENTITLEMENT_BUY_IN_IND10</th><th scope=col>ENTITLEMENT_BUY_IN_IND11</th><th scope=col>ENTITLEMENT_BUY_IN_IND12</th><th scope=col>HMO_INDICATOR01</th><th scope=col>HMO_INDICATOR02</th><th scope=col>HMO_INDICATOR03</th><th scope=col>HMO_INDICATOR04</th><th scope=col>HMO_INDICATOR05</th><th scope=col>HMO_INDICATOR06</th><th scope=col>HMO_INDICATOR07</th><th scope=col>HMO_INDICATOR08</th><th scope=col>HMO_INDICATOR09</th><th scope=col>HMO_INDICATOR10</th><th scope=col>HMO_INDICATOR11</th><th scope=col>HMO_INDICATOR12</th><th scope=col>VALID_DATE_OF_DEATH_SWITCH</th><th scope=col>DATE_OF_DEATH</th><th scope=col>date_died</th><th scope=col>date_died_valid</th><th scope=col>year_of_death</th><th scope=col>most_common_physician_PRF_PHYSN_NPI</th><th scope=col>most_common_physician_n</th><th scope=col>most_common_physician_PRVDR_SPCLTY</th><th scope=col>most_common_primary_care_physician_PRF_PHYSN_NPI</th><th scope=col>most_common_primary_care_physician_n</th><th scope=col>most_common_primary_care_physician_PRVDR_SPCLTY</th><th scope=col>most_common_physician_in_facility_visits_count</th><th scope=col>most_common_physician_in_all_visits_count</th><th scope=col>most_common_physician_in_facility_non_exclusive_HCPCS_count</th><th scope=col>most_common_physician_in_all_non_exclusive_HCPCS_count</th><th scope=col>most_common_physician_in_facility_count</th><th scope=col>most_common_physician_in_all_count</th><th scope=col>most_common_physician_in_facility_visits_prp</th><th scope=col>most_common_physician_in_facility_non_exclusive_HCPCS_prp</th><th scope=col>most_common_physician_in_facility_prp</th><th scope=col>most_common_primary_care_physician_in_facility_visits_count</th><th scope=col>most_common_primary_care_physician_in_all_visits_count</th><th scope=col>most_common_primary_care_physician_in_facility_non_exclusive_HCPCS_count</th><th scope=col>most_common_primary_care_physician_in_all_non_exclusive_HCPCS_count</th><th scope=col>most_common_primary_care_physician_in_facility_count</th><th scope=col>most_common_primary_care_physician_in_all_count</th><th scope=col>most_common_primary_care_physician_in_facility_visits_prp</th><th scope=col>most_common_primary_care_physician_in_facility_non_exclusive_HCPCS_prp</th><th scope=col>most_common_primary_care_physician_in_facility_prp</th><th scope=col>RUCC_2013</th><th scope=col>race</th><th scope=col>sex</th><th scope=col>age_group</th><th scope=col>urban</th><th scope=col>HMO_INDICATOR_sum</th><th scope=col>ENTITLEMENT_BUY_IN_IND_sum</th><th scope=col>months_alive</th><th scope=col>number_of_conditions</th><th scope=col>viclaims</th><th scope=col>vikeyword</th><th scope=col>tin1_nu</th><th scope=col>tin1_legal_name</th><th scope=col>tin2_nu</th><th scope=col>tin2_legal_name</th><th scope=col>name_last</th><th scope=col>name_first</th><th scope=col>name_middle</th><th scope=col>SPEC_PRIM_1_NAME</th><th scope=col>SPEC_PRIM_1</th><th scope=col>SPEC_BROAD</th><th scope=col>SEX</th><th scope=col>SPEC_PRIM_2</th><th scope=col>SPEC_PRIM_2_NAME</th><th scope=col>SPEC_SOURCE</th><th scope=col>SPEC_SOURCE_HOSP</th><th scope=col>POS_OFFICE</th><th scope=col>POS_INPAT</th><th scope=col>POS_OPD</th><th scope=col>POS_ER</th><th scope=col>POS_NURSING</th><th scope=col>POS_ASC</th><th scope=col>POS_RESID</th><th scope=col>POS_RETAIL</th><th scope=col>POS_URGENT</th><th scope=col>POS_OTHER</th><th scope=col>STATE</th><th scope=col>STATE_MULTI</th><th scope=col>CBSA_TYPE</th><th scope=col>CBSA_CD</th><th scope=col>CBSA_NAME</th><th scope=col>CBSA_MULTI</th><th scope=col>NPI_SRVC_LINES</th><th scope=col>NPI_ALLOWED_AMT</th><th scope=col>NPI_UNQ_BENES</th><th scope=col>TIN1_SRVC_MONTH</th><th scope=col>TIN1_SRVC_LINES</th><th scope=col>TIN1_ALLOWED_AMT</th><th scope=col>TIN1_UNQ_BENES</th><th scope=col>TIN2_SRVC_MONTH</th><th scope=col>TIN2_SRVC_LINES</th><th scope=col>TIN2_ALLOWED_AMT</th><th scope=col>TIN2_UNQ_BENES</th><th scope=col>BIRTH_YR</th><th scope=col>lns_office</th><th scope=col>lns_opd</th><th scope=col>most_common_primary_care_physician_integrated</th><th scope=col>most_common_primary_care_physician_integration_change</th><th scope=col>most_common_primary_care_physician_sum_integration_changes</th><th scope=col>most_common_primary_care_physician_integrated_once_and_stayed</th><th scope=col>most_common_primary_care_physician_year_integrated</th><th scope=col>most_common_primary_care_physician_years_from_integration</th><th scope=col>most_common_primary_care_physician_changed</th></tr>\n",
       "\t<tr><th scope=col>&lt;int&gt;</th><th scope=col>&lt;dbl&gt;</th><th scope=col>&lt;int&gt;</th><th scope=col>&lt;int&gt;</th><th scope=col>&lt;lgl&gt;</th><th scope=col>&lt;lgl&gt;</th><th scope=col>&lt;lgl&gt;</th><th scope=col>&lt;lgl&gt;</th><th scope=col>&lt;lgl&gt;</th><th scope=col>&lt;lgl&gt;</th><th scope=col>&lt;lgl&gt;</th><th scope=col>&lt;dbl&gt;</th><th scope=col>&lt;chr&gt;</th><th scope=col>&lt;chr&gt;</th><th scope=col>&lt;int&gt;</th><th scope=col>&lt;int&gt;</th><th scope=col>&lt;dbl&gt;</th><th scope=col>&lt;dbl&gt;</th><th scope=col>&lt;dbl&gt;</th><th scope=col>&lt;chr&gt;</th><th scope=col>&lt;chr&gt;</th><th scope=col>&lt;chr&gt;</th><th scope=col>&lt;chr&gt;</th><th scope=col>&lt;chr&gt;</th><th scope=col>&lt;chr&gt;</th><th scope=col>&lt;chr&gt;</th><th scope=col>&lt;chr&gt;</th><th scope=col>&lt;chr&gt;</th><th scope=col>&lt;chr&gt;</th><th scope=col>&lt;chr&gt;</th><th scope=col>&lt;chr&gt;</th><th scope=col>&lt;chr&gt;</th><th scope=col>&lt;chr&gt;</th><th scope=col>&lt;chr&gt;</th><th scope=col>&lt;chr&gt;</th><th scope=col>&lt;chr&gt;</th><th scope=col>&lt;chr&gt;</th><th scope=col>&lt;chr&gt;</th><th scope=col>&lt;chr&gt;</th><th scope=col>&lt;chr&gt;</th><th scope=col>&lt;chr&gt;</th><th scope=col>&lt;chr&gt;</th><th scope=col>&lt;chr&gt;</th><th scope=col>&lt;chr&gt;</th><th scope=col>&lt;dbl&gt;</th><th scope=col>&lt;dbl&gt;</th><th scope=col>&lt;chr&gt;</th><th scope=col>&lt;chr&gt;</th><th scope=col>&lt;chr&gt;</th><th scope=col>&lt;int&gt;</th><th scope=col>&lt;chr&gt;</th><th scope=col>&lt;chr&gt;</th><th scope=col>&lt;int&gt;</th><th scope=col>&lt;chr&gt;</th><th scope=col>&lt;int&gt;</th><th scope=col>&lt;int&gt;</th><th scope=col>&lt;int&gt;</th><th scope=col>&lt;int&gt;</th><th scope=col>&lt;int&gt;</th><th scope=col>&lt;int&gt;</th><th scope=col>&lt;dbl&gt;</th><th scope=col>&lt;dbl&gt;</th><th scope=col>&lt;dbl&gt;</th><th scope=col>&lt;int&gt;</th><th scope=col>&lt;int&gt;</th><th scope=col>&lt;int&gt;</th><th scope=col>&lt;int&gt;</th><th scope=col>&lt;int&gt;</th><th scope=col>&lt;int&gt;</th><th scope=col>&lt;dbl&gt;</th><th scope=col>&lt;dbl&gt;</th><th scope=col>&lt;dbl&gt;</th><th scope=col>&lt;dbl&gt;</th><th scope=col>&lt;chr&gt;</th><th scope=col>&lt;chr&gt;</th><th scope=col>&lt;chr&gt;</th><th scope=col>&lt;lgl&gt;</th><th scope=col>&lt;int&gt;</th><th scope=col>&lt;int&gt;</th><th scope=col>&lt;dbl&gt;</th><th scope=col>&lt;int&gt;</th><th scope=col>&lt;dbl&gt;</th><th scope=col>&lt;dbl&gt;</th><th scope=col>&lt;chr&gt;</th><th scope=col>&lt;chr&gt;</th><th scope=col>&lt;chr&gt;</th><th scope=col>&lt;chr&gt;</th><th scope=col>&lt;chr&gt;</th><th scope=col>&lt;chr&gt;</th><th scope=col>&lt;chr&gt;</th><th scope=col>&lt;chr&gt;</th><th scope=col>&lt;chr&gt;</th><th scope=col>&lt;dbl&gt;</th><th scope=col>&lt;chr&gt;</th><th scope=col>&lt;chr&gt;</th><th scope=col>&lt;chr&gt;</th><th scope=col>&lt;dbl&gt;</th><th scope=col>&lt;dbl&gt;</th><th scope=col>&lt;dbl&gt;</th><th scope=col>&lt;dbl&gt;</th><th scope=col>&lt;dbl&gt;</th><th scope=col>&lt;dbl&gt;</th><th scope=col>&lt;dbl&gt;</th><th scope=col>&lt;dbl&gt;</th><th scope=col>&lt;dbl&gt;</th><th scope=col>&lt;dbl&gt;</th><th scope=col>&lt;dbl&gt;</th><th scope=col>&lt;dbl&gt;</th><th scope=col>&lt;chr&gt;</th><th scope=col>&lt;dbl&gt;</th><th scope=col>&lt;dbl&gt;</th><th scope=col>&lt;chr&gt;</th><th scope=col>&lt;chr&gt;</th><th scope=col>&lt;dbl&gt;</th><th scope=col>&lt;dbl&gt;</th><th scope=col>&lt;dbl&gt;</th><th scope=col>&lt;dbl&gt;</th><th scope=col>&lt;chr&gt;</th><th scope=col>&lt;dbl&gt;</th><th scope=col>&lt;dbl&gt;</th><th scope=col>&lt;dbl&gt;</th><th scope=col>&lt;chr&gt;</th><th scope=col>&lt;dbl&gt;</th><th scope=col>&lt;dbl&gt;</th><th scope=col>&lt;dbl&gt;</th><th scope=col>&lt;dbl&gt;</th><th scope=col>&lt;dbl&gt;</th><th scope=col>&lt;dbl&gt;</th><th scope=col>&lt;lgl&gt;</th><th scope=col>&lt;chr&gt;</th><th scope=col>&lt;int&gt;</th><th scope=col>&lt;lgl&gt;</th><th scope=col>&lt;dbl&gt;</th><th scope=col>&lt;dbl&gt;</th><th scope=col>&lt;lgl&gt;</th></tr>\n",
       "</thead>\n",
       "<tbody>\n",
       "\t<tr><td>100000015</td><td>2013</td><td> 7</td><td>1</td><td>FALSE</td><td>FALSE</td><td> TRUE</td><td>FALSE</td><td>FALSE</td><td> TRUE</td><td>FALSE</td><td>  13</td><td>22</td><td>160</td><td>1</td><td>1</td><td>76</td><td>0</td><td>0</td><td>3</td><td>3</td><td>3</td><td>3</td><td>3</td><td>3</td><td>3</td><td>3</td><td>3</td><td>3</td><td>3</td><td>3</td><td>0</td><td>0</td><td>0</td><td>0</td><td>0</td><td>0</td><td>0</td><td>0</td><td>0</td><td>0</td><td>0</td><td>0</td><td>NA</td><td>NA</td><td>NA</td><td>NA</td><td>NA</td><td>1285600932</td><td>2</td><td>11</td><td>1285600932</td><td>2</td><td>11</td><td> 7</td><td>96</td><td>62</td><td>242</td><td>66</td><td>341</td><td>0.07291667</td><td>0.2561983</td><td>0.19354839</td><td> 7</td><td>96</td><td>62</td><td>242</td><td>66</td><td>341</td><td>0.07291667</td><td>0.2561983</td><td>0.19354839</td><td>1</td><td>White</td><td>Male</td><td>75-84</td><td>TRUE</td><td>12</td><td>12</td><td>NA</td><td>1</td><td>0</td><td>0</td><td>NU00015773</td><td>SALIL K MIDHA, MD, PC                            </td><td>          </td><td>                                                 </td><td>MIDHA </td><td>SALIL    </td><td>K </td><td>Internal Medicine</td><td>11</td><td>1</td><td>M</td><td></td><td>NONE</td><td>1</td><td>NA</td><td>0.6718430</td><td>0.19323176</td><td>0.13492529</td><td>0.000000000</td><td>0</td><td>0</td><td>0</td><td>0</td><td>0</td><td>0.00000000</td><td>MA</td><td>0</td><td>1</td><td>14460</td><td>Boston-Cambridge-Newton, MA-NH</td><td>0</td><td>6826</td><td>510422.97</td><td>1608</td><td>111111111111</td><td>6826</td><td>510422.97</td><td>1608</td><td>            </td><td> NA</td><td>      NA</td><td>NA</td><td>1951</td><td>4586</td><td>921</td><td>FALSE</td><td>remained_independent</td><td>0</td><td>FALSE</td><td>NA</td><td>NA</td><td>FALSE</td></tr>\n",
       "\t<tr><td>100000015</td><td>2014</td><td>10</td><td>1</td><td>FALSE</td><td>FALSE</td><td> TRUE</td><td>FALSE</td><td>FALSE</td><td> TRUE</td><td>FALSE</td><td>  14</td><td>22</td><td>160</td><td>1</td><td>1</td><td>77</td><td>0</td><td>0</td><td>3</td><td>3</td><td>3</td><td>3</td><td>3</td><td>3</td><td>3</td><td>3</td><td>3</td><td>3</td><td>3</td><td>3</td><td>0</td><td>0</td><td>0</td><td>0</td><td>0</td><td>0</td><td>0</td><td>0</td><td>0</td><td>0</td><td>0</td><td>0</td><td>NA</td><td>NA</td><td>NA</td><td>NA</td><td>NA</td><td>1770514119</td><td>4</td><td>11</td><td>1770514119</td><td>4</td><td>11</td><td>16</td><td>16</td><td>22</td><td> 22</td><td>27</td><td> 27</td><td>1.00000000</td><td>1.0000000</td><td>1.00000000</td><td>16</td><td>16</td><td>22</td><td> 22</td><td>27</td><td> 27</td><td>1.00000000</td><td>1.0000000</td><td>1.00000000</td><td>1</td><td>White</td><td>Male</td><td>75-84</td><td>TRUE</td><td>12</td><td>12</td><td>NA</td><td>1</td><td>1</td><td>1</td><td>NU00013485</td><td>THE GENERAL HOSPITAL CORPORATION                 </td><td>NU00014364</td><td>NORTH SHORE PHYSICIANS GROUP INC                 </td><td>MOPALA</td><td>PRASHANTH</td><td>R </td><td>Internal Medicine</td><td>11</td><td>1</td><td>M</td><td></td><td>NONE</td><td>1</td><td>NA</td><td>0.0000000</td><td>0.08988764</td><td>0.81573034</td><td>0.065168539</td><td>0</td><td>0</td><td>0</td><td>0</td><td>0</td><td>0.02921348</td><td>MA</td><td>0</td><td>1</td><td>14460</td><td>Boston-Cambridge-Newton, MA-NH</td><td>0</td><td> 445</td><td> 45397.52</td><td> 241</td><td>111111111111</td><td> 313</td><td> 28835.45</td><td> 140</td><td>111111111111</td><td>100</td><td>14872.70</td><td>96</td><td>1976</td><td>   0</td><td>363</td><td> TRUE</td><td>remained_integrated </td><td>0</td><td>FALSE</td><td>NA</td><td>NA</td><td> TRUE</td></tr>\n",
       "\t<tr><td>100000015</td><td>2015</td><td> 6</td><td>2</td><td> TRUE</td><td>FALSE</td><td>FALSE</td><td> TRUE</td><td>FALSE</td><td>FALSE</td><td>FALSE</td><td>  15</td><td>22</td><td>160</td><td>1</td><td>1</td><td>78</td><td>0</td><td>0</td><td>3</td><td>3</td><td>3</td><td>3</td><td>3</td><td>3</td><td>3</td><td>3</td><td>3</td><td>3</td><td>3</td><td>3</td><td>0</td><td>0</td><td>0</td><td>0</td><td>0</td><td>0</td><td>0</td><td>0</td><td>0</td><td>0</td><td>0</td><td>0</td><td>NA</td><td>NA</td><td>NA</td><td>NA</td><td>NA</td><td>1770514119</td><td>4</td><td>11</td><td>1770514119</td><td>4</td><td>11</td><td>48</td><td>48</td><td>57</td><td> 57</td><td>57</td><td> 57</td><td>1.00000000</td><td>1.0000000</td><td>1.00000000</td><td>48</td><td>48</td><td>57</td><td> 57</td><td>57</td><td> 57</td><td>1.00000000</td><td>1.0000000</td><td>1.00000000</td><td>1</td><td>White</td><td>Male</td><td>75-84</td><td>TRUE</td><td>12</td><td>12</td><td>NA</td><td>2</td><td>1</td><td>1</td><td>NU00013485</td><td>THE GENERAL HOSPITAL CORPORATION                 </td><td>NU00013835</td><td>MASSACHUSETTS GENERAL PHYSICIANS ORGANIZATION INC</td><td>MOPALA</td><td>PRASHANTH</td><td>R </td><td>Internal Medicine</td><td>11</td><td>1</td><td>M</td><td></td><td>NONE</td><td>1</td><td>NA</td><td>0.0000000</td><td>0.11174242</td><td>0.88636364</td><td>0.001893939</td><td>0</td><td>0</td><td>0</td><td>0</td><td>0</td><td>0.00000000</td><td>MA</td><td>0</td><td>1</td><td>14460</td><td>Boston-Cambridge-Newton, MA-NH</td><td>0</td><td> 528</td><td> 47201.44</td><td> 207</td><td>111111111111</td><td> 439</td><td> 39579.08</td><td> 182</td><td>100111111111</td><td> 76</td><td> 5296.59</td><td>29</td><td>1976</td><td>   0</td><td>468</td><td> TRUE</td><td>remained_integrated </td><td>0</td><td>FALSE</td><td>NA</td><td>NA</td><td>FALSE</td></tr>\n",
       "\t<tr><td>100000015</td><td>2016</td><td> 9</td><td>2</td><td> TRUE</td><td>FALSE</td><td> TRUE</td><td> TRUE</td><td>FALSE</td><td>FALSE</td><td> TRUE</td><td>2016</td><td>22</td><td>160</td><td>1</td><td>1</td><td>79</td><td>0</td><td>0</td><td>3</td><td>3</td><td>3</td><td>3</td><td>3</td><td>3</td><td>3</td><td>3</td><td>3</td><td>3</td><td>3</td><td>3</td><td>0</td><td>0</td><td>0</td><td>0</td><td>0</td><td>0</td><td>0</td><td>0</td><td>0</td><td>0</td><td>0</td><td>0</td><td>NA</td><td>NA</td><td>NA</td><td>NA</td><td>NA</td><td>1730170630</td><td>4</td><td>06</td><td>1730170630</td><td>4</td><td>11</td><td> 0</td><td>21</td><td> 0</td><td> 21</td><td> 4</td><td> 41</td><td>0.00000000</td><td>0.0000000</td><td>0.09756098</td><td> 0</td><td>21</td><td> 0</td><td> 21</td><td> 4</td><td> 41</td><td>0.00000000</td><td>0.0000000</td><td>0.09756098</td><td>1</td><td>White</td><td>Male</td><td>75-84</td><td>TRUE</td><td>12</td><td>12</td><td>NA</td><td>3</td><td>0</td><td>0</td><td>NU00013835</td><td>MASSACHUSETTS GENERAL PHYSICIANS ORGANIZATION INC</td><td>          </td><td>                                                 </td><td>FIFER </td><td>MICHAEL  </td><td>A </td><td>Cardiology       </td><td>06</td><td>2</td><td>M</td><td></td><td>NONE</td><td>1</td><td>NA</td><td>0.5901926</td><td>0.31873905</td><td>0.08669002</td><td>0.004378284</td><td>0</td><td>0</td><td>0</td><td>0</td><td>0</td><td>0.00000000</td><td>MA</td><td>0</td><td>1</td><td>14460</td><td>Boston-Cambridge-Newton, MA-NH</td><td>0</td><td>1142</td><td>111404.39</td><td> 497</td><td>111111111111</td><td>1142</td><td>111404.39</td><td> 497</td><td>            </td><td> NA</td><td>      NA</td><td>NA</td><td>1953</td><td> 674</td><td> 99</td><td>FALSE</td><td>remained_independent</td><td>0</td><td>FALSE</td><td>NA</td><td>NA</td><td> TRUE</td></tr>\n",
       "\t<tr><td>100000015</td><td>2017</td><td>14</td><td>3</td><td>FALSE</td><td>FALSE</td><td> TRUE</td><td> TRUE</td><td>FALSE</td><td>FALSE</td><td> TRUE</td><td>2017</td><td>22</td><td>160</td><td>1</td><td>1</td><td>80</td><td>0</td><td>0</td><td>3</td><td>3</td><td>3</td><td>3</td><td>3</td><td>3</td><td>3</td><td>3</td><td>3</td><td>3</td><td>3</td><td>3</td><td>0</td><td>0</td><td>0</td><td>0</td><td>0</td><td>0</td><td>0</td><td>0</td><td>0</td><td>0</td><td>0</td><td>0</td><td>NA</td><td>NA</td><td>NA</td><td>NA</td><td>NA</td><td>1043207350</td><td>3</td><td>11</td><td>1043207350</td><td>3</td><td>11</td><td>58</td><td>58</td><td>68</td><td> 68</td><td>69</td><td> 69</td><td>1.00000000</td><td>1.0000000</td><td>1.00000000</td><td>58</td><td>58</td><td>68</td><td> 68</td><td>69</td><td> 69</td><td>1.00000000</td><td>1.0000000</td><td>1.00000000</td><td>1</td><td>White</td><td>Male</td><td>75-84</td><td>TRUE</td><td>12</td><td>12</td><td>NA</td><td>2</td><td>1</td><td>1</td><td>NU00013485</td><td>THE GENERAL HOSPITAL CORPORATION                 </td><td>NU00013835</td><td>MASSACHUSETTS GENERAL PHYSICIANS ORGANIZATION INC</td><td>DALY  </td><td>PHILIP   </td><td>F.</td><td>Internal Medicine</td><td>11</td><td>1</td><td>M</td><td></td><td>NONE</td><td>1</td><td>NA</td><td>0.0000000</td><td>0.02160864</td><td>0.97599040</td><td>0.002400960</td><td>0</td><td>0</td><td>0</td><td>0</td><td>0</td><td>0.00000000</td><td>MA</td><td>0</td><td>1</td><td>14460</td><td>Boston-Cambridge-Newton, MA-NH</td><td>0</td><td> 833</td><td> 63587.63</td><td> 301</td><td>111111111111</td><td> 815</td><td> 61565.85</td><td> 293</td><td>010100110101</td><td> 18</td><td> 2021.78</td><td> 9</td><td>1965</td><td>   0</td><td>813</td><td> TRUE</td><td>remained_integrated </td><td>0</td><td>FALSE</td><td>NA</td><td>NA</td><td> TRUE</td></tr>\n",
       "\t<tr><td>100000015</td><td>2018</td><td>16</td><td>2</td><td>FALSE</td><td>FALSE</td><td> TRUE</td><td> TRUE</td><td>FALSE</td><td>FALSE</td><td> TRUE</td><td>2018</td><td>22</td><td>160</td><td>1</td><td>1</td><td>81</td><td>0</td><td>0</td><td>3</td><td>3</td><td>3</td><td>3</td><td>3</td><td>3</td><td>3</td><td>3</td><td>3</td><td>3</td><td>3</td><td>3</td><td>0</td><td>0</td><td>0</td><td>0</td><td>0</td><td>0</td><td>0</td><td>0</td><td>0</td><td>0</td><td>0</td><td>0</td><td>NA</td><td>NA</td><td>NA</td><td>NA</td><td>NA</td><td>1043207350</td><td>2</td><td>11</td><td>1043207350</td><td>2</td><td>11</td><td>52</td><td>52</td><td>62</td><td> 62</td><td>62</td><td> 62</td><td>1.00000000</td><td>1.0000000</td><td>1.00000000</td><td>52</td><td>52</td><td>62</td><td> 62</td><td>62</td><td> 62</td><td>1.00000000</td><td>1.0000000</td><td>1.00000000</td><td>1</td><td>White</td><td>Male</td><td>75-84</td><td>TRUE</td><td>12</td><td>12</td><td>NA</td><td>2</td><td>1</td><td>1</td><td>NU00013485</td><td>THE GENERAL HOSPITAL CORPORATION                 </td><td>NU00013835</td><td>MASSACHUSETTS GENERAL PHYSICIANS ORGANIZATION INC</td><td>DALY  </td><td>PHILIP   </td><td>F.</td><td>Internal Medicine</td><td>11</td><td>1</td><td>M</td><td></td><td>NONE</td><td>1</td><td>NA</td><td>0.0000000</td><td>0.02263084</td><td>0.97595474</td><td>0.001414427</td><td>0</td><td>0</td><td>0</td><td>0</td><td>0</td><td>0.00000000</td><td>MA</td><td>0</td><td>1</td><td>14460</td><td>Boston-Cambridge-Newton, MA-NH</td><td>0</td><td> 707</td><td> 54859.59</td><td> 281</td><td>111111111111</td><td> 691</td><td> 53253.76</td><td> 272</td><td>110100111100</td><td> 16</td><td> 1605.83</td><td>10</td><td>1965</td><td>   0</td><td>690</td><td> TRUE</td><td>remained_integrated </td><td>0</td><td>FALSE</td><td>NA</td><td>NA</td><td>FALSE</td></tr>\n",
       "</tbody>\n",
       "</table>\n"
      ],
      "text/latex": [
       "A data.table: 6 × 135\n",
       "\\begin{tabular}{lllllllllllllllllllllllllllllllllllllllllllllllllllllllllllllllllllllllllllllllllllllllllllllllllllllllllllllllllllllllllllllllllllllll}\n",
       " DESY\\_SORT\\_KEY & year & distinct\\_clinicians & distinct\\_primary\\_care\\_physicians & hypertension & arthritis & IHD & diabetes & depression & icd\\_9\\_pure & icd\\_10\\_pure & REFERENCE\\_YEAR & STATE\\_CODE & COUNTY\\_CODE & SEX\\_CODE & RACE\\_CODE & AGE & ORIG\\_REASON\\_FOR\\_ENTITLEMENT & CURR\\_REASON\\_FOR\\_ENTITLEMENT & ENTITLEMENT\\_BUY\\_IN\\_IND01 & ENTITLEMENT\\_BUY\\_IN\\_IND02 & ENTITLEMENT\\_BUY\\_IN\\_IND03 & ENTITLEMENT\\_BUY\\_IN\\_IND04 & ENTITLEMENT\\_BUY\\_IN\\_IND05 & ENTITLEMENT\\_BUY\\_IN\\_IND06 & ENTITLEMENT\\_BUY\\_IN\\_IND07 & ENTITLEMENT\\_BUY\\_IN\\_IND08 & ENTITLEMENT\\_BUY\\_IN\\_IND09 & ENTITLEMENT\\_BUY\\_IN\\_IND10 & ENTITLEMENT\\_BUY\\_IN\\_IND11 & ENTITLEMENT\\_BUY\\_IN\\_IND12 & HMO\\_INDICATOR01 & HMO\\_INDICATOR02 & HMO\\_INDICATOR03 & HMO\\_INDICATOR04 & HMO\\_INDICATOR05 & HMO\\_INDICATOR06 & HMO\\_INDICATOR07 & HMO\\_INDICATOR08 & HMO\\_INDICATOR09 & HMO\\_INDICATOR10 & HMO\\_INDICATOR11 & HMO\\_INDICATOR12 & VALID\\_DATE\\_OF\\_DEATH\\_SWITCH & DATE\\_OF\\_DEATH & date\\_died & date\\_died\\_valid & year\\_of\\_death & most\\_common\\_physician\\_PRF\\_PHYSN\\_NPI & most\\_common\\_physician\\_n & most\\_common\\_physician\\_PRVDR\\_SPCLTY & most\\_common\\_primary\\_care\\_physician\\_PRF\\_PHYSN\\_NPI & most\\_common\\_primary\\_care\\_physician\\_n & most\\_common\\_primary\\_care\\_physician\\_PRVDR\\_SPCLTY & most\\_common\\_physician\\_in\\_facility\\_visits\\_count & most\\_common\\_physician\\_in\\_all\\_visits\\_count & most\\_common\\_physician\\_in\\_facility\\_non\\_exclusive\\_HCPCS\\_count & most\\_common\\_physician\\_in\\_all\\_non\\_exclusive\\_HCPCS\\_count & most\\_common\\_physician\\_in\\_facility\\_count & most\\_common\\_physician\\_in\\_all\\_count & most\\_common\\_physician\\_in\\_facility\\_visits\\_prp & most\\_common\\_physician\\_in\\_facility\\_non\\_exclusive\\_HCPCS\\_prp & most\\_common\\_physician\\_in\\_facility\\_prp & most\\_common\\_primary\\_care\\_physician\\_in\\_facility\\_visits\\_count & most\\_common\\_primary\\_care\\_physician\\_in\\_all\\_visits\\_count & most\\_common\\_primary\\_care\\_physician\\_in\\_facility\\_non\\_exclusive\\_HCPCS\\_count & most\\_common\\_primary\\_care\\_physician\\_in\\_all\\_non\\_exclusive\\_HCPCS\\_count & most\\_common\\_primary\\_care\\_physician\\_in\\_facility\\_count & most\\_common\\_primary\\_care\\_physician\\_in\\_all\\_count & most\\_common\\_primary\\_care\\_physician\\_in\\_facility\\_visits\\_prp & most\\_common\\_primary\\_care\\_physician\\_in\\_facility\\_non\\_exclusive\\_HCPCS\\_prp & most\\_common\\_primary\\_care\\_physician\\_in\\_facility\\_prp & RUCC\\_2013 & race & sex & age\\_group & urban & HMO\\_INDICATOR\\_sum & ENTITLEMENT\\_BUY\\_IN\\_IND\\_sum & months\\_alive & number\\_of\\_conditions & viclaims & vikeyword & tin1\\_nu & tin1\\_legal\\_name & tin2\\_nu & tin2\\_legal\\_name & name\\_last & name\\_first & name\\_middle & SPEC\\_PRIM\\_1\\_NAME & SPEC\\_PRIM\\_1 & SPEC\\_BROAD & SEX & SPEC\\_PRIM\\_2 & SPEC\\_PRIM\\_2\\_NAME & SPEC\\_SOURCE & SPEC\\_SOURCE\\_HOSP & POS\\_OFFICE & POS\\_INPAT & POS\\_OPD & POS\\_ER & POS\\_NURSING & POS\\_ASC & POS\\_RESID & POS\\_RETAIL & POS\\_URGENT & POS\\_OTHER & STATE & STATE\\_MULTI & CBSA\\_TYPE & CBSA\\_CD & CBSA\\_NAME & CBSA\\_MULTI & NPI\\_SRVC\\_LINES & NPI\\_ALLOWED\\_AMT & NPI\\_UNQ\\_BENES & TIN1\\_SRVC\\_MONTH & TIN1\\_SRVC\\_LINES & TIN1\\_ALLOWED\\_AMT & TIN1\\_UNQ\\_BENES & TIN2\\_SRVC\\_MONTH & TIN2\\_SRVC\\_LINES & TIN2\\_ALLOWED\\_AMT & TIN2\\_UNQ\\_BENES & BIRTH\\_YR & lns\\_office & lns\\_opd & most\\_common\\_primary\\_care\\_physician\\_integrated & most\\_common\\_primary\\_care\\_physician\\_integration\\_change & most\\_common\\_primary\\_care\\_physician\\_sum\\_integration\\_changes & most\\_common\\_primary\\_care\\_physician\\_integrated\\_once\\_and\\_stayed & most\\_common\\_primary\\_care\\_physician\\_year\\_integrated & most\\_common\\_primary\\_care\\_physician\\_years\\_from\\_integration & most\\_common\\_primary\\_care\\_physician\\_changed\\\\\n",
       " <int> & <dbl> & <int> & <int> & <lgl> & <lgl> & <lgl> & <lgl> & <lgl> & <lgl> & <lgl> & <dbl> & <chr> & <chr> & <int> & <int> & <dbl> & <dbl> & <dbl> & <chr> & <chr> & <chr> & <chr> & <chr> & <chr> & <chr> & <chr> & <chr> & <chr> & <chr> & <chr> & <chr> & <chr> & <chr> & <chr> & <chr> & <chr> & <chr> & <chr> & <chr> & <chr> & <chr> & <chr> & <chr> & <dbl> & <dbl> & <chr> & <chr> & <chr> & <int> & <chr> & <chr> & <int> & <chr> & <int> & <int> & <int> & <int> & <int> & <int> & <dbl> & <dbl> & <dbl> & <int> & <int> & <int> & <int> & <int> & <int> & <dbl> & <dbl> & <dbl> & <dbl> & <chr> & <chr> & <chr> & <lgl> & <int> & <int> & <dbl> & <int> & <dbl> & <dbl> & <chr> & <chr> & <chr> & <chr> & <chr> & <chr> & <chr> & <chr> & <chr> & <dbl> & <chr> & <chr> & <chr> & <dbl> & <dbl> & <dbl> & <dbl> & <dbl> & <dbl> & <dbl> & <dbl> & <dbl> & <dbl> & <dbl> & <dbl> & <chr> & <dbl> & <dbl> & <chr> & <chr> & <dbl> & <dbl> & <dbl> & <dbl> & <chr> & <dbl> & <dbl> & <dbl> & <chr> & <dbl> & <dbl> & <dbl> & <dbl> & <dbl> & <dbl> & <lgl> & <chr> & <int> & <lgl> & <dbl> & <dbl> & <lgl>\\\\\n",
       "\\hline\n",
       "\t 100000015 & 2013 &  7 & 1 & FALSE & FALSE &  TRUE & FALSE & FALSE &  TRUE & FALSE &   13 & 22 & 160 & 1 & 1 & 76 & 0 & 0 & 3 & 3 & 3 & 3 & 3 & 3 & 3 & 3 & 3 & 3 & 3 & 3 & 0 & 0 & 0 & 0 & 0 & 0 & 0 & 0 & 0 & 0 & 0 & 0 & NA & NA & NA & NA & NA & 1285600932 & 2 & 11 & 1285600932 & 2 & 11 &  7 & 96 & 62 & 242 & 66 & 341 & 0.07291667 & 0.2561983 & 0.19354839 &  7 & 96 & 62 & 242 & 66 & 341 & 0.07291667 & 0.2561983 & 0.19354839 & 1 & White & Male & 75-84 & TRUE & 12 & 12 & NA & 1 & 0 & 0 & NU00015773 & SALIL K MIDHA, MD, PC                             &            &                                                   & MIDHA  & SALIL     & K  & Internal Medicine & 11 & 1 & M &  & NONE & 1 & NA & 0.6718430 & 0.19323176 & 0.13492529 & 0.000000000 & 0 & 0 & 0 & 0 & 0 & 0.00000000 & MA & 0 & 1 & 14460 & Boston-Cambridge-Newton, MA-NH & 0 & 6826 & 510422.97 & 1608 & 111111111111 & 6826 & 510422.97 & 1608 &              &  NA &       NA & NA & 1951 & 4586 & 921 & FALSE & remained\\_independent & 0 & FALSE & NA & NA & FALSE\\\\\n",
       "\t 100000015 & 2014 & 10 & 1 & FALSE & FALSE &  TRUE & FALSE & FALSE &  TRUE & FALSE &   14 & 22 & 160 & 1 & 1 & 77 & 0 & 0 & 3 & 3 & 3 & 3 & 3 & 3 & 3 & 3 & 3 & 3 & 3 & 3 & 0 & 0 & 0 & 0 & 0 & 0 & 0 & 0 & 0 & 0 & 0 & 0 & NA & NA & NA & NA & NA & 1770514119 & 4 & 11 & 1770514119 & 4 & 11 & 16 & 16 & 22 &  22 & 27 &  27 & 1.00000000 & 1.0000000 & 1.00000000 & 16 & 16 & 22 &  22 & 27 &  27 & 1.00000000 & 1.0000000 & 1.00000000 & 1 & White & Male & 75-84 & TRUE & 12 & 12 & NA & 1 & 1 & 1 & NU00013485 & THE GENERAL HOSPITAL CORPORATION                  & NU00014364 & NORTH SHORE PHYSICIANS GROUP INC                  & MOPALA & PRASHANTH & R  & Internal Medicine & 11 & 1 & M &  & NONE & 1 & NA & 0.0000000 & 0.08988764 & 0.81573034 & 0.065168539 & 0 & 0 & 0 & 0 & 0 & 0.02921348 & MA & 0 & 1 & 14460 & Boston-Cambridge-Newton, MA-NH & 0 &  445 &  45397.52 &  241 & 111111111111 &  313 &  28835.45 &  140 & 111111111111 & 100 & 14872.70 & 96 & 1976 &    0 & 363 &  TRUE & remained\\_integrated  & 0 & FALSE & NA & NA &  TRUE\\\\\n",
       "\t 100000015 & 2015 &  6 & 2 &  TRUE & FALSE & FALSE &  TRUE & FALSE & FALSE & FALSE &   15 & 22 & 160 & 1 & 1 & 78 & 0 & 0 & 3 & 3 & 3 & 3 & 3 & 3 & 3 & 3 & 3 & 3 & 3 & 3 & 0 & 0 & 0 & 0 & 0 & 0 & 0 & 0 & 0 & 0 & 0 & 0 & NA & NA & NA & NA & NA & 1770514119 & 4 & 11 & 1770514119 & 4 & 11 & 48 & 48 & 57 &  57 & 57 &  57 & 1.00000000 & 1.0000000 & 1.00000000 & 48 & 48 & 57 &  57 & 57 &  57 & 1.00000000 & 1.0000000 & 1.00000000 & 1 & White & Male & 75-84 & TRUE & 12 & 12 & NA & 2 & 1 & 1 & NU00013485 & THE GENERAL HOSPITAL CORPORATION                  & NU00013835 & MASSACHUSETTS GENERAL PHYSICIANS ORGANIZATION INC & MOPALA & PRASHANTH & R  & Internal Medicine & 11 & 1 & M &  & NONE & 1 & NA & 0.0000000 & 0.11174242 & 0.88636364 & 0.001893939 & 0 & 0 & 0 & 0 & 0 & 0.00000000 & MA & 0 & 1 & 14460 & Boston-Cambridge-Newton, MA-NH & 0 &  528 &  47201.44 &  207 & 111111111111 &  439 &  39579.08 &  182 & 100111111111 &  76 &  5296.59 & 29 & 1976 &    0 & 468 &  TRUE & remained\\_integrated  & 0 & FALSE & NA & NA & FALSE\\\\\n",
       "\t 100000015 & 2016 &  9 & 2 &  TRUE & FALSE &  TRUE &  TRUE & FALSE & FALSE &  TRUE & 2016 & 22 & 160 & 1 & 1 & 79 & 0 & 0 & 3 & 3 & 3 & 3 & 3 & 3 & 3 & 3 & 3 & 3 & 3 & 3 & 0 & 0 & 0 & 0 & 0 & 0 & 0 & 0 & 0 & 0 & 0 & 0 & NA & NA & NA & NA & NA & 1730170630 & 4 & 06 & 1730170630 & 4 & 11 &  0 & 21 &  0 &  21 &  4 &  41 & 0.00000000 & 0.0000000 & 0.09756098 &  0 & 21 &  0 &  21 &  4 &  41 & 0.00000000 & 0.0000000 & 0.09756098 & 1 & White & Male & 75-84 & TRUE & 12 & 12 & NA & 3 & 0 & 0 & NU00013835 & MASSACHUSETTS GENERAL PHYSICIANS ORGANIZATION INC &            &                                                   & FIFER  & MICHAEL   & A  & Cardiology        & 06 & 2 & M &  & NONE & 1 & NA & 0.5901926 & 0.31873905 & 0.08669002 & 0.004378284 & 0 & 0 & 0 & 0 & 0 & 0.00000000 & MA & 0 & 1 & 14460 & Boston-Cambridge-Newton, MA-NH & 0 & 1142 & 111404.39 &  497 & 111111111111 & 1142 & 111404.39 &  497 &              &  NA &       NA & NA & 1953 &  674 &  99 & FALSE & remained\\_independent & 0 & FALSE & NA & NA &  TRUE\\\\\n",
       "\t 100000015 & 2017 & 14 & 3 & FALSE & FALSE &  TRUE &  TRUE & FALSE & FALSE &  TRUE & 2017 & 22 & 160 & 1 & 1 & 80 & 0 & 0 & 3 & 3 & 3 & 3 & 3 & 3 & 3 & 3 & 3 & 3 & 3 & 3 & 0 & 0 & 0 & 0 & 0 & 0 & 0 & 0 & 0 & 0 & 0 & 0 & NA & NA & NA & NA & NA & 1043207350 & 3 & 11 & 1043207350 & 3 & 11 & 58 & 58 & 68 &  68 & 69 &  69 & 1.00000000 & 1.0000000 & 1.00000000 & 58 & 58 & 68 &  68 & 69 &  69 & 1.00000000 & 1.0000000 & 1.00000000 & 1 & White & Male & 75-84 & TRUE & 12 & 12 & NA & 2 & 1 & 1 & NU00013485 & THE GENERAL HOSPITAL CORPORATION                  & NU00013835 & MASSACHUSETTS GENERAL PHYSICIANS ORGANIZATION INC & DALY   & PHILIP    & F. & Internal Medicine & 11 & 1 & M &  & NONE & 1 & NA & 0.0000000 & 0.02160864 & 0.97599040 & 0.002400960 & 0 & 0 & 0 & 0 & 0 & 0.00000000 & MA & 0 & 1 & 14460 & Boston-Cambridge-Newton, MA-NH & 0 &  833 &  63587.63 &  301 & 111111111111 &  815 &  61565.85 &  293 & 010100110101 &  18 &  2021.78 &  9 & 1965 &    0 & 813 &  TRUE & remained\\_integrated  & 0 & FALSE & NA & NA &  TRUE\\\\\n",
       "\t 100000015 & 2018 & 16 & 2 & FALSE & FALSE &  TRUE &  TRUE & FALSE & FALSE &  TRUE & 2018 & 22 & 160 & 1 & 1 & 81 & 0 & 0 & 3 & 3 & 3 & 3 & 3 & 3 & 3 & 3 & 3 & 3 & 3 & 3 & 0 & 0 & 0 & 0 & 0 & 0 & 0 & 0 & 0 & 0 & 0 & 0 & NA & NA & NA & NA & NA & 1043207350 & 2 & 11 & 1043207350 & 2 & 11 & 52 & 52 & 62 &  62 & 62 &  62 & 1.00000000 & 1.0000000 & 1.00000000 & 52 & 52 & 62 &  62 & 62 &  62 & 1.00000000 & 1.0000000 & 1.00000000 & 1 & White & Male & 75-84 & TRUE & 12 & 12 & NA & 2 & 1 & 1 & NU00013485 & THE GENERAL HOSPITAL CORPORATION                  & NU00013835 & MASSACHUSETTS GENERAL PHYSICIANS ORGANIZATION INC & DALY   & PHILIP    & F. & Internal Medicine & 11 & 1 & M &  & NONE & 1 & NA & 0.0000000 & 0.02263084 & 0.97595474 & 0.001414427 & 0 & 0 & 0 & 0 & 0 & 0.00000000 & MA & 0 & 1 & 14460 & Boston-Cambridge-Newton, MA-NH & 0 &  707 &  54859.59 &  281 & 111111111111 &  691 &  53253.76 &  272 & 110100111100 &  16 &  1605.83 & 10 & 1965 &    0 & 690 &  TRUE & remained\\_integrated  & 0 & FALSE & NA & NA & FALSE\\\\\n",
       "\\end{tabular}\n"
      ],
      "text/markdown": [
       "\n",
       "A data.table: 6 × 135\n",
       "\n",
       "| DESY_SORT_KEY &lt;int&gt; | year &lt;dbl&gt; | distinct_clinicians &lt;int&gt; | distinct_primary_care_physicians &lt;int&gt; | hypertension &lt;lgl&gt; | arthritis &lt;lgl&gt; | IHD &lt;lgl&gt; | diabetes &lt;lgl&gt; | depression &lt;lgl&gt; | icd_9_pure &lt;lgl&gt; | icd_10_pure &lt;lgl&gt; | REFERENCE_YEAR &lt;dbl&gt; | STATE_CODE &lt;chr&gt; | COUNTY_CODE &lt;chr&gt; | SEX_CODE &lt;int&gt; | RACE_CODE &lt;int&gt; | AGE &lt;dbl&gt; | ORIG_REASON_FOR_ENTITLEMENT &lt;dbl&gt; | CURR_REASON_FOR_ENTITLEMENT &lt;dbl&gt; | ENTITLEMENT_BUY_IN_IND01 &lt;chr&gt; | ENTITLEMENT_BUY_IN_IND02 &lt;chr&gt; | ENTITLEMENT_BUY_IN_IND03 &lt;chr&gt; | ENTITLEMENT_BUY_IN_IND04 &lt;chr&gt; | ENTITLEMENT_BUY_IN_IND05 &lt;chr&gt; | ENTITLEMENT_BUY_IN_IND06 &lt;chr&gt; | ENTITLEMENT_BUY_IN_IND07 &lt;chr&gt; | ENTITLEMENT_BUY_IN_IND08 &lt;chr&gt; | ENTITLEMENT_BUY_IN_IND09 &lt;chr&gt; | ENTITLEMENT_BUY_IN_IND10 &lt;chr&gt; | ENTITLEMENT_BUY_IN_IND11 &lt;chr&gt; | ENTITLEMENT_BUY_IN_IND12 &lt;chr&gt; | HMO_INDICATOR01 &lt;chr&gt; | HMO_INDICATOR02 &lt;chr&gt; | HMO_INDICATOR03 &lt;chr&gt; | HMO_INDICATOR04 &lt;chr&gt; | HMO_INDICATOR05 &lt;chr&gt; | HMO_INDICATOR06 &lt;chr&gt; | HMO_INDICATOR07 &lt;chr&gt; | HMO_INDICATOR08 &lt;chr&gt; | HMO_INDICATOR09 &lt;chr&gt; | HMO_INDICATOR10 &lt;chr&gt; | HMO_INDICATOR11 &lt;chr&gt; | HMO_INDICATOR12 &lt;chr&gt; | VALID_DATE_OF_DEATH_SWITCH &lt;chr&gt; | DATE_OF_DEATH &lt;dbl&gt; | date_died &lt;dbl&gt; | date_died_valid &lt;chr&gt; | year_of_death &lt;chr&gt; | most_common_physician_PRF_PHYSN_NPI &lt;chr&gt; | most_common_physician_n &lt;int&gt; | most_common_physician_PRVDR_SPCLTY &lt;chr&gt; | most_common_primary_care_physician_PRF_PHYSN_NPI &lt;chr&gt; | most_common_primary_care_physician_n &lt;int&gt; | most_common_primary_care_physician_PRVDR_SPCLTY &lt;chr&gt; | most_common_physician_in_facility_visits_count &lt;int&gt; | most_common_physician_in_all_visits_count &lt;int&gt; | most_common_physician_in_facility_non_exclusive_HCPCS_count &lt;int&gt; | most_common_physician_in_all_non_exclusive_HCPCS_count &lt;int&gt; | most_common_physician_in_facility_count &lt;int&gt; | most_common_physician_in_all_count &lt;int&gt; | most_common_physician_in_facility_visits_prp &lt;dbl&gt; | most_common_physician_in_facility_non_exclusive_HCPCS_prp &lt;dbl&gt; | most_common_physician_in_facility_prp &lt;dbl&gt; | most_common_primary_care_physician_in_facility_visits_count &lt;int&gt; | most_common_primary_care_physician_in_all_visits_count &lt;int&gt; | most_common_primary_care_physician_in_facility_non_exclusive_HCPCS_count &lt;int&gt; | most_common_primary_care_physician_in_all_non_exclusive_HCPCS_count &lt;int&gt; | most_common_primary_care_physician_in_facility_count &lt;int&gt; | most_common_primary_care_physician_in_all_count &lt;int&gt; | most_common_primary_care_physician_in_facility_visits_prp &lt;dbl&gt; | most_common_primary_care_physician_in_facility_non_exclusive_HCPCS_prp &lt;dbl&gt; | most_common_primary_care_physician_in_facility_prp &lt;dbl&gt; | RUCC_2013 &lt;dbl&gt; | race &lt;chr&gt; | sex &lt;chr&gt; | age_group &lt;chr&gt; | urban &lt;lgl&gt; | HMO_INDICATOR_sum &lt;int&gt; | ENTITLEMENT_BUY_IN_IND_sum &lt;int&gt; | months_alive &lt;dbl&gt; | number_of_conditions &lt;int&gt; | viclaims &lt;dbl&gt; | vikeyword &lt;dbl&gt; | tin1_nu &lt;chr&gt; | tin1_legal_name &lt;chr&gt; | tin2_nu &lt;chr&gt; | tin2_legal_name &lt;chr&gt; | name_last &lt;chr&gt; | name_first &lt;chr&gt; | name_middle &lt;chr&gt; | SPEC_PRIM_1_NAME &lt;chr&gt; | SPEC_PRIM_1 &lt;chr&gt; | SPEC_BROAD &lt;dbl&gt; | SEX &lt;chr&gt; | SPEC_PRIM_2 &lt;chr&gt; | SPEC_PRIM_2_NAME &lt;chr&gt; | SPEC_SOURCE &lt;dbl&gt; | SPEC_SOURCE_HOSP &lt;dbl&gt; | POS_OFFICE &lt;dbl&gt; | POS_INPAT &lt;dbl&gt; | POS_OPD &lt;dbl&gt; | POS_ER &lt;dbl&gt; | POS_NURSING &lt;dbl&gt; | POS_ASC &lt;dbl&gt; | POS_RESID &lt;dbl&gt; | POS_RETAIL &lt;dbl&gt; | POS_URGENT &lt;dbl&gt; | POS_OTHER &lt;dbl&gt; | STATE &lt;chr&gt; | STATE_MULTI &lt;dbl&gt; | CBSA_TYPE &lt;dbl&gt; | CBSA_CD &lt;chr&gt; | CBSA_NAME &lt;chr&gt; | CBSA_MULTI &lt;dbl&gt; | NPI_SRVC_LINES &lt;dbl&gt; | NPI_ALLOWED_AMT &lt;dbl&gt; | NPI_UNQ_BENES &lt;dbl&gt; | TIN1_SRVC_MONTH &lt;chr&gt; | TIN1_SRVC_LINES &lt;dbl&gt; | TIN1_ALLOWED_AMT &lt;dbl&gt; | TIN1_UNQ_BENES &lt;dbl&gt; | TIN2_SRVC_MONTH &lt;chr&gt; | TIN2_SRVC_LINES &lt;dbl&gt; | TIN2_ALLOWED_AMT &lt;dbl&gt; | TIN2_UNQ_BENES &lt;dbl&gt; | BIRTH_YR &lt;dbl&gt; | lns_office &lt;dbl&gt; | lns_opd &lt;dbl&gt; | most_common_primary_care_physician_integrated &lt;lgl&gt; | most_common_primary_care_physician_integration_change &lt;chr&gt; | most_common_primary_care_physician_sum_integration_changes &lt;int&gt; | most_common_primary_care_physician_integrated_once_and_stayed &lt;lgl&gt; | most_common_primary_care_physician_year_integrated &lt;dbl&gt; | most_common_primary_care_physician_years_from_integration &lt;dbl&gt; | most_common_primary_care_physician_changed &lt;lgl&gt; |\n",
       "|---|---|---|---|---|---|---|---|---|---|---|---|---|---|---|---|---|---|---|---|---|---|---|---|---|---|---|---|---|---|---|---|---|---|---|---|---|---|---|---|---|---|---|---|---|---|---|---|---|---|---|---|---|---|---|---|---|---|---|---|---|---|---|---|---|---|---|---|---|---|---|---|---|---|---|---|---|---|---|---|---|---|---|---|---|---|---|---|---|---|---|---|---|---|---|---|---|---|---|---|---|---|---|---|---|---|---|---|---|---|---|---|---|---|---|---|---|---|---|---|---|---|---|---|---|---|---|---|---|---|---|---|---|---|---|\n",
       "| 100000015 | 2013 |  7 | 1 | FALSE | FALSE |  TRUE | FALSE | FALSE |  TRUE | FALSE |   13 | 22 | 160 | 1 | 1 | 76 | 0 | 0 | 3 | 3 | 3 | 3 | 3 | 3 | 3 | 3 | 3 | 3 | 3 | 3 | 0 | 0 | 0 | 0 | 0 | 0 | 0 | 0 | 0 | 0 | 0 | 0 | NA | NA | NA | NA | NA | 1285600932 | 2 | 11 | 1285600932 | 2 | 11 |  7 | 96 | 62 | 242 | 66 | 341 | 0.07291667 | 0.2561983 | 0.19354839 |  7 | 96 | 62 | 242 | 66 | 341 | 0.07291667 | 0.2561983 | 0.19354839 | 1 | White | Male | 75-84 | TRUE | 12 | 12 | NA | 1 | 0 | 0 | NU00015773 | SALIL K MIDHA, MD, PC                             | <!----> | <!----> | MIDHA  | SALIL     | K  | Internal Medicine | 11 | 1 | M | <!----> | NONE | 1 | NA | 0.6718430 | 0.19323176 | 0.13492529 | 0.000000000 | 0 | 0 | 0 | 0 | 0 | 0.00000000 | MA | 0 | 1 | 14460 | Boston-Cambridge-Newton, MA-NH | 0 | 6826 | 510422.97 | 1608 | 111111111111 | 6826 | 510422.97 | 1608 | <!----> |  NA |       NA | NA | 1951 | 4586 | 921 | FALSE | remained_independent | 0 | FALSE | NA | NA | FALSE |\n",
       "| 100000015 | 2014 | 10 | 1 | FALSE | FALSE |  TRUE | FALSE | FALSE |  TRUE | FALSE |   14 | 22 | 160 | 1 | 1 | 77 | 0 | 0 | 3 | 3 | 3 | 3 | 3 | 3 | 3 | 3 | 3 | 3 | 3 | 3 | 0 | 0 | 0 | 0 | 0 | 0 | 0 | 0 | 0 | 0 | 0 | 0 | NA | NA | NA | NA | NA | 1770514119 | 4 | 11 | 1770514119 | 4 | 11 | 16 | 16 | 22 |  22 | 27 |  27 | 1.00000000 | 1.0000000 | 1.00000000 | 16 | 16 | 22 |  22 | 27 |  27 | 1.00000000 | 1.0000000 | 1.00000000 | 1 | White | Male | 75-84 | TRUE | 12 | 12 | NA | 1 | 1 | 1 | NU00013485 | THE GENERAL HOSPITAL CORPORATION                  | NU00014364 | NORTH SHORE PHYSICIANS GROUP INC                  | MOPALA | PRASHANTH | R  | Internal Medicine | 11 | 1 | M | <!----> | NONE | 1 | NA | 0.0000000 | 0.08988764 | 0.81573034 | 0.065168539 | 0 | 0 | 0 | 0 | 0 | 0.02921348 | MA | 0 | 1 | 14460 | Boston-Cambridge-Newton, MA-NH | 0 |  445 |  45397.52 |  241 | 111111111111 |  313 |  28835.45 |  140 | 111111111111 | 100 | 14872.70 | 96 | 1976 |    0 | 363 |  TRUE | remained_integrated  | 0 | FALSE | NA | NA |  TRUE |\n",
       "| 100000015 | 2015 |  6 | 2 |  TRUE | FALSE | FALSE |  TRUE | FALSE | FALSE | FALSE |   15 | 22 | 160 | 1 | 1 | 78 | 0 | 0 | 3 | 3 | 3 | 3 | 3 | 3 | 3 | 3 | 3 | 3 | 3 | 3 | 0 | 0 | 0 | 0 | 0 | 0 | 0 | 0 | 0 | 0 | 0 | 0 | NA | NA | NA | NA | NA | 1770514119 | 4 | 11 | 1770514119 | 4 | 11 | 48 | 48 | 57 |  57 | 57 |  57 | 1.00000000 | 1.0000000 | 1.00000000 | 48 | 48 | 57 |  57 | 57 |  57 | 1.00000000 | 1.0000000 | 1.00000000 | 1 | White | Male | 75-84 | TRUE | 12 | 12 | NA | 2 | 1 | 1 | NU00013485 | THE GENERAL HOSPITAL CORPORATION                  | NU00013835 | MASSACHUSETTS GENERAL PHYSICIANS ORGANIZATION INC | MOPALA | PRASHANTH | R  | Internal Medicine | 11 | 1 | M | <!----> | NONE | 1 | NA | 0.0000000 | 0.11174242 | 0.88636364 | 0.001893939 | 0 | 0 | 0 | 0 | 0 | 0.00000000 | MA | 0 | 1 | 14460 | Boston-Cambridge-Newton, MA-NH | 0 |  528 |  47201.44 |  207 | 111111111111 |  439 |  39579.08 |  182 | 100111111111 |  76 |  5296.59 | 29 | 1976 |    0 | 468 |  TRUE | remained_integrated  | 0 | FALSE | NA | NA | FALSE |\n",
       "| 100000015 | 2016 |  9 | 2 |  TRUE | FALSE |  TRUE |  TRUE | FALSE | FALSE |  TRUE | 2016 | 22 | 160 | 1 | 1 | 79 | 0 | 0 | 3 | 3 | 3 | 3 | 3 | 3 | 3 | 3 | 3 | 3 | 3 | 3 | 0 | 0 | 0 | 0 | 0 | 0 | 0 | 0 | 0 | 0 | 0 | 0 | NA | NA | NA | NA | NA | 1730170630 | 4 | 06 | 1730170630 | 4 | 11 |  0 | 21 |  0 |  21 |  4 |  41 | 0.00000000 | 0.0000000 | 0.09756098 |  0 | 21 |  0 |  21 |  4 |  41 | 0.00000000 | 0.0000000 | 0.09756098 | 1 | White | Male | 75-84 | TRUE | 12 | 12 | NA | 3 | 0 | 0 | NU00013835 | MASSACHUSETTS GENERAL PHYSICIANS ORGANIZATION INC | <!----> | <!----> | FIFER  | MICHAEL   | A  | Cardiology        | 06 | 2 | M | <!----> | NONE | 1 | NA | 0.5901926 | 0.31873905 | 0.08669002 | 0.004378284 | 0 | 0 | 0 | 0 | 0 | 0.00000000 | MA | 0 | 1 | 14460 | Boston-Cambridge-Newton, MA-NH | 0 | 1142 | 111404.39 |  497 | 111111111111 | 1142 | 111404.39 |  497 | <!----> |  NA |       NA | NA | 1953 |  674 |  99 | FALSE | remained_independent | 0 | FALSE | NA | NA |  TRUE |\n",
       "| 100000015 | 2017 | 14 | 3 | FALSE | FALSE |  TRUE |  TRUE | FALSE | FALSE |  TRUE | 2017 | 22 | 160 | 1 | 1 | 80 | 0 | 0 | 3 | 3 | 3 | 3 | 3 | 3 | 3 | 3 | 3 | 3 | 3 | 3 | 0 | 0 | 0 | 0 | 0 | 0 | 0 | 0 | 0 | 0 | 0 | 0 | NA | NA | NA | NA | NA | 1043207350 | 3 | 11 | 1043207350 | 3 | 11 | 58 | 58 | 68 |  68 | 69 |  69 | 1.00000000 | 1.0000000 | 1.00000000 | 58 | 58 | 68 |  68 | 69 |  69 | 1.00000000 | 1.0000000 | 1.00000000 | 1 | White | Male | 75-84 | TRUE | 12 | 12 | NA | 2 | 1 | 1 | NU00013485 | THE GENERAL HOSPITAL CORPORATION                  | NU00013835 | MASSACHUSETTS GENERAL PHYSICIANS ORGANIZATION INC | DALY   | PHILIP    | F. | Internal Medicine | 11 | 1 | M | <!----> | NONE | 1 | NA | 0.0000000 | 0.02160864 | 0.97599040 | 0.002400960 | 0 | 0 | 0 | 0 | 0 | 0.00000000 | MA | 0 | 1 | 14460 | Boston-Cambridge-Newton, MA-NH | 0 |  833 |  63587.63 |  301 | 111111111111 |  815 |  61565.85 |  293 | 010100110101 |  18 |  2021.78 |  9 | 1965 |    0 | 813 |  TRUE | remained_integrated  | 0 | FALSE | NA | NA |  TRUE |\n",
       "| 100000015 | 2018 | 16 | 2 | FALSE | FALSE |  TRUE |  TRUE | FALSE | FALSE |  TRUE | 2018 | 22 | 160 | 1 | 1 | 81 | 0 | 0 | 3 | 3 | 3 | 3 | 3 | 3 | 3 | 3 | 3 | 3 | 3 | 3 | 0 | 0 | 0 | 0 | 0 | 0 | 0 | 0 | 0 | 0 | 0 | 0 | NA | NA | NA | NA | NA | 1043207350 | 2 | 11 | 1043207350 | 2 | 11 | 52 | 52 | 62 |  62 | 62 |  62 | 1.00000000 | 1.0000000 | 1.00000000 | 52 | 52 | 62 |  62 | 62 |  62 | 1.00000000 | 1.0000000 | 1.00000000 | 1 | White | Male | 75-84 | TRUE | 12 | 12 | NA | 2 | 1 | 1 | NU00013485 | THE GENERAL HOSPITAL CORPORATION                  | NU00013835 | MASSACHUSETTS GENERAL PHYSICIANS ORGANIZATION INC | DALY   | PHILIP    | F. | Internal Medicine | 11 | 1 | M | <!----> | NONE | 1 | NA | 0.0000000 | 0.02263084 | 0.97595474 | 0.001414427 | 0 | 0 | 0 | 0 | 0 | 0.00000000 | MA | 0 | 1 | 14460 | Boston-Cambridge-Newton, MA-NH | 0 |  707 |  54859.59 |  281 | 111111111111 |  691 |  53253.76 |  272 | 110100111100 |  16 |  1605.83 | 10 | 1965 |    0 | 690 |  TRUE | remained_integrated  | 0 | FALSE | NA | NA | FALSE |\n",
       "\n"
      ],
      "text/plain": [
       "  DESY_SORT_KEY year distinct_clinicians distinct_primary_care_physicians hypertension arthritis IHD   diabetes depression icd_9_pure icd_10_pure REFERENCE_YEAR STATE_CODE COUNTY_CODE SEX_CODE RACE_CODE AGE ORIG_REASON_FOR_ENTITLEMENT CURR_REASON_FOR_ENTITLEMENT ENTITLEMENT_BUY_IN_IND01\n",
       "1 100000015     2013  7                  1                                FALSE        FALSE      TRUE FALSE    FALSE       TRUE      FALSE         13           22         160         1        1         76  0                           0                           3                       \n",
       "2 100000015     2014 10                  1                                FALSE        FALSE      TRUE FALSE    FALSE       TRUE      FALSE         14           22         160         1        1         77  0                           0                           3                       \n",
       "3 100000015     2015  6                  2                                 TRUE        FALSE     FALSE  TRUE    FALSE      FALSE      FALSE         15           22         160         1        1         78  0                           0                           3                       \n",
       "4 100000015     2016  9                  2                                 TRUE        FALSE      TRUE  TRUE    FALSE      FALSE       TRUE       2016           22         160         1        1         79  0                           0                           3                       \n",
       "5 100000015     2017 14                  3                                FALSE        FALSE      TRUE  TRUE    FALSE      FALSE       TRUE       2017           22         160         1        1         80  0                           0                           3                       \n",
       "6 100000015     2018 16                  2                                FALSE        FALSE      TRUE  TRUE    FALSE      FALSE       TRUE       2018           22         160         1        1         81  0                           0                           3                       \n",
       "  ENTITLEMENT_BUY_IN_IND02 ENTITLEMENT_BUY_IN_IND03 ENTITLEMENT_BUY_IN_IND04 ENTITLEMENT_BUY_IN_IND05 ENTITLEMENT_BUY_IN_IND06 ENTITLEMENT_BUY_IN_IND07 ENTITLEMENT_BUY_IN_IND08 ENTITLEMENT_BUY_IN_IND09 ENTITLEMENT_BUY_IN_IND10 ENTITLEMENT_BUY_IN_IND11 ENTITLEMENT_BUY_IN_IND12 HMO_INDICATOR01\n",
       "1 3                        3                        3                        3                        3                        3                        3                        3                        3                        3                        3                        0              \n",
       "2 3                        3                        3                        3                        3                        3                        3                        3                        3                        3                        3                        0              \n",
       "3 3                        3                        3                        3                        3                        3                        3                        3                        3                        3                        3                        0              \n",
       "4 3                        3                        3                        3                        3                        3                        3                        3                        3                        3                        3                        0              \n",
       "5 3                        3                        3                        3                        3                        3                        3                        3                        3                        3                        3                        0              \n",
       "6 3                        3                        3                        3                        3                        3                        3                        3                        3                        3                        3                        0              \n",
       "  HMO_INDICATOR02 HMO_INDICATOR03 HMO_INDICATOR04 HMO_INDICATOR05 HMO_INDICATOR06 HMO_INDICATOR07 HMO_INDICATOR08 HMO_INDICATOR09 HMO_INDICATOR10 HMO_INDICATOR11 HMO_INDICATOR12 VALID_DATE_OF_DEATH_SWITCH DATE_OF_DEATH date_died date_died_valid year_of_death most_common_physician_PRF_PHYSN_NPI\n",
       "1 0               0               0               0               0               0               0               0               0               0               0               NA                         NA            NA        NA              NA            1285600932                         \n",
       "2 0               0               0               0               0               0               0               0               0               0               0               NA                         NA            NA        NA              NA            1770514119                         \n",
       "3 0               0               0               0               0               0               0               0               0               0               0               NA                         NA            NA        NA              NA            1770514119                         \n",
       "4 0               0               0               0               0               0               0               0               0               0               0               NA                         NA            NA        NA              NA            1730170630                         \n",
       "5 0               0               0               0               0               0               0               0               0               0               0               NA                         NA            NA        NA              NA            1043207350                         \n",
       "6 0               0               0               0               0               0               0               0               0               0               0               NA                         NA            NA        NA              NA            1043207350                         \n",
       "  most_common_physician_n most_common_physician_PRVDR_SPCLTY most_common_primary_care_physician_PRF_PHYSN_NPI most_common_primary_care_physician_n most_common_primary_care_physician_PRVDR_SPCLTY most_common_physician_in_facility_visits_count most_common_physician_in_all_visits_count\n",
       "1 2                       11                                 1285600932                                       2                                    11                                               7                                             96                                       \n",
       "2 4                       11                                 1770514119                                       4                                    11                                              16                                             16                                       \n",
       "3 4                       11                                 1770514119                                       4                                    11                                              48                                             48                                       \n",
       "4 4                       06                                 1730170630                                       4                                    11                                               0                                             21                                       \n",
       "5 3                       11                                 1043207350                                       3                                    11                                              58                                             58                                       \n",
       "6 2                       11                                 1043207350                                       2                                    11                                              52                                             52                                       \n",
       "  most_common_physician_in_facility_non_exclusive_HCPCS_count most_common_physician_in_all_non_exclusive_HCPCS_count most_common_physician_in_facility_count most_common_physician_in_all_count most_common_physician_in_facility_visits_prp most_common_physician_in_facility_non_exclusive_HCPCS_prp\n",
       "1 62                                                          242                                                    66                                      341                                0.07291667                                   0.2561983                                                \n",
       "2 22                                                           22                                                    27                                       27                                1.00000000                                   1.0000000                                                \n",
       "3 57                                                           57                                                    57                                       57                                1.00000000                                   1.0000000                                                \n",
       "4  0                                                           21                                                     4                                       41                                0.00000000                                   0.0000000                                                \n",
       "5 68                                                           68                                                    69                                       69                                1.00000000                                   1.0000000                                                \n",
       "6 62                                                           62                                                    62                                       62                                1.00000000                                   1.0000000                                                \n",
       "  most_common_physician_in_facility_prp most_common_primary_care_physician_in_facility_visits_count most_common_primary_care_physician_in_all_visits_count most_common_primary_care_physician_in_facility_non_exclusive_HCPCS_count most_common_primary_care_physician_in_all_non_exclusive_HCPCS_count\n",
       "1 0.19354839                             7                                                          96                                                     62                                                                       242                                                                \n",
       "2 1.00000000                            16                                                          16                                                     22                                                                        22                                                                \n",
       "3 1.00000000                            48                                                          48                                                     57                                                                        57                                                                \n",
       "4 0.09756098                             0                                                          21                                                      0                                                                        21                                                                \n",
       "5 1.00000000                            58                                                          58                                                     68                                                                        68                                                                \n",
       "6 1.00000000                            52                                                          52                                                     62                                                                        62                                                                \n",
       "  most_common_primary_care_physician_in_facility_count most_common_primary_care_physician_in_all_count most_common_primary_care_physician_in_facility_visits_prp most_common_primary_care_physician_in_facility_non_exclusive_HCPCS_prp most_common_primary_care_physician_in_facility_prp RUCC_2013 race \n",
       "1 66                                                   341                                             0.07291667                                                0.2561983                                                              0.19354839                                         1         White\n",
       "2 27                                                    27                                             1.00000000                                                1.0000000                                                              1.00000000                                         1         White\n",
       "3 57                                                    57                                             1.00000000                                                1.0000000                                                              1.00000000                                         1         White\n",
       "4  4                                                    41                                             0.00000000                                                0.0000000                                                              0.09756098                                         1         White\n",
       "5 69                                                    69                                             1.00000000                                                1.0000000                                                              1.00000000                                         1         White\n",
       "6 62                                                    62                                             1.00000000                                                1.0000000                                                              1.00000000                                         1         White\n",
       "  sex  age_group urban HMO_INDICATOR_sum ENTITLEMENT_BUY_IN_IND_sum months_alive number_of_conditions viclaims vikeyword tin1_nu    tin1_legal_name                                   tin2_nu    tin2_legal_name                                   name_last name_first name_middle SPEC_PRIM_1_NAME \n",
       "1 Male 75-84     TRUE  12                12                         NA           1                    0        0         NU00015773 SALIL K MIDHA, MD, PC                                                                                          MIDHA     SALIL      K           Internal Medicine\n",
       "2 Male 75-84     TRUE  12                12                         NA           1                    1        1         NU00013485 THE GENERAL HOSPITAL CORPORATION                  NU00014364 NORTH SHORE PHYSICIANS GROUP INC                  MOPALA    PRASHANTH  R           Internal Medicine\n",
       "3 Male 75-84     TRUE  12                12                         NA           2                    1        1         NU00013485 THE GENERAL HOSPITAL CORPORATION                  NU00013835 MASSACHUSETTS GENERAL PHYSICIANS ORGANIZATION INC MOPALA    PRASHANTH  R           Internal Medicine\n",
       "4 Male 75-84     TRUE  12                12                         NA           3                    0        0         NU00013835 MASSACHUSETTS GENERAL PHYSICIANS ORGANIZATION INC                                                              FIFER     MICHAEL    A           Cardiology       \n",
       "5 Male 75-84     TRUE  12                12                         NA           2                    1        1         NU00013485 THE GENERAL HOSPITAL CORPORATION                  NU00013835 MASSACHUSETTS GENERAL PHYSICIANS ORGANIZATION INC DALY      PHILIP     F.          Internal Medicine\n",
       "6 Male 75-84     TRUE  12                12                         NA           2                    1        1         NU00013485 THE GENERAL HOSPITAL CORPORATION                  NU00013835 MASSACHUSETTS GENERAL PHYSICIANS ORGANIZATION INC DALY      PHILIP     F.          Internal Medicine\n",
       "  SPEC_PRIM_1 SPEC_BROAD SEX SPEC_PRIM_2 SPEC_PRIM_2_NAME SPEC_SOURCE SPEC_SOURCE_HOSP POS_OFFICE POS_INPAT  POS_OPD    POS_ER      POS_NURSING POS_ASC POS_RESID POS_RETAIL POS_URGENT POS_OTHER  STATE STATE_MULTI CBSA_TYPE CBSA_CD CBSA_NAME                      CBSA_MULTI NPI_SRVC_LINES\n",
       "1 11          1          M               NONE             1           NA               0.6718430  0.19323176 0.13492529 0.000000000 0           0       0         0          0          0.00000000 MA    0           1         14460   Boston-Cambridge-Newton, MA-NH 0          6826          \n",
       "2 11          1          M               NONE             1           NA               0.0000000  0.08988764 0.81573034 0.065168539 0           0       0         0          0          0.02921348 MA    0           1         14460   Boston-Cambridge-Newton, MA-NH 0           445          \n",
       "3 11          1          M               NONE             1           NA               0.0000000  0.11174242 0.88636364 0.001893939 0           0       0         0          0          0.00000000 MA    0           1         14460   Boston-Cambridge-Newton, MA-NH 0           528          \n",
       "4 06          2          M               NONE             1           NA               0.5901926  0.31873905 0.08669002 0.004378284 0           0       0         0          0          0.00000000 MA    0           1         14460   Boston-Cambridge-Newton, MA-NH 0          1142          \n",
       "5 11          1          M               NONE             1           NA               0.0000000  0.02160864 0.97599040 0.002400960 0           0       0         0          0          0.00000000 MA    0           1         14460   Boston-Cambridge-Newton, MA-NH 0           833          \n",
       "6 11          1          M               NONE             1           NA               0.0000000  0.02263084 0.97595474 0.001414427 0           0       0         0          0          0.00000000 MA    0           1         14460   Boston-Cambridge-Newton, MA-NH 0           707          \n",
       "  NPI_ALLOWED_AMT NPI_UNQ_BENES TIN1_SRVC_MONTH TIN1_SRVC_LINES TIN1_ALLOWED_AMT TIN1_UNQ_BENES TIN2_SRVC_MONTH TIN2_SRVC_LINES TIN2_ALLOWED_AMT TIN2_UNQ_BENES BIRTH_YR lns_office lns_opd most_common_primary_care_physician_integrated most_common_primary_care_physician_integration_change\n",
       "1 510422.97       1608          111111111111    6826            510422.97        1608                            NA                   NA         NA             1951     4586       921     FALSE                                         remained_independent                                 \n",
       "2  45397.52        241          111111111111     313             28835.45         140           111111111111    100             14872.70         96             1976        0       363      TRUE                                         remained_integrated                                  \n",
       "3  47201.44        207          111111111111     439             39579.08         182           100111111111     76              5296.59         29             1976        0       468      TRUE                                         remained_integrated                                  \n",
       "4 111404.39        497          111111111111    1142            111404.39         497                            NA                   NA         NA             1953      674        99     FALSE                                         remained_independent                                 \n",
       "5  63587.63        301          111111111111     815             61565.85         293           010100110101     18              2021.78          9             1965        0       813      TRUE                                         remained_integrated                                  \n",
       "6  54859.59        281          111111111111     691             53253.76         272           110100111100     16              1605.83         10             1965        0       690      TRUE                                         remained_integrated                                  \n",
       "  most_common_primary_care_physician_sum_integration_changes most_common_primary_care_physician_integrated_once_and_stayed most_common_primary_care_physician_year_integrated most_common_primary_care_physician_years_from_integration most_common_primary_care_physician_changed\n",
       "1 0                                                          FALSE                                                         NA                                                 NA                                                        FALSE                                     \n",
       "2 0                                                          FALSE                                                         NA                                                 NA                                                         TRUE                                     \n",
       "3 0                                                          FALSE                                                         NA                                                 NA                                                        FALSE                                     \n",
       "4 0                                                          FALSE                                                         NA                                                 NA                                                         TRUE                                     \n",
       "5 0                                                          FALSE                                                         NA                                                 NA                                                         TRUE                                     \n",
       "6 0                                                          FALSE                                                         NA                                                 NA                                                        FALSE                                     "
      ]
     },
     "metadata": {},
     "output_type": "display_data"
    }
   ],
   "source": [
    "head(yearly_calculations)"
   ]
  },
  {
   "cell_type": "code",
   "execution_count": 26,
   "id": "936ae7ce-abbe-4060-8fdb-f08138f08097",
   "metadata": {},
   "outputs": [],
   "source": [
    "write.fst(yearly_calculations, \"yearly_calculations_with_integration_changes_mdppas.fst\")"
   ]
  },
  {
   "cell_type": "markdown",
   "id": "9c14eff9-a5dd-46d9-badc-9c60598954a1",
   "metadata": {},
   "source": [
    "## Patient pool changes"
   ]
  },
  {
   "cell_type": "markdown",
   "id": "44088975-c0bb-47de-aec1-c75ca4e9d083",
   "metadata": {
    "tags": []
   },
   "source": [
    "### Read cleaned results"
   ]
  },
  {
   "cell_type": "code",
   "execution_count": 7,
   "id": "92723475-191f-4923-8841-882ea8122bfa",
   "metadata": {},
   "outputs": [],
   "source": [
    "#yearly_calculations <- read_fst(\"yearly_calculations_cleaned.fst\", as.data.table = T)\n",
    "yearly_calculations <- read_fst(\"yearly_calculations_with_integration_changes_mdppas.fst\", as.data.table = T)"
   ]
  },
  {
   "cell_type": "code",
   "execution_count": 27,
   "id": "8f2575a7-d934-4ff1-a9de-32df3ff0d99f",
   "metadata": {},
   "outputs": [
    {
     "data": {
      "text/html": [
       "<table class=\"dataframe\">\n",
       "<caption>A data.table: 2 × 135</caption>\n",
       "<thead>\n",
       "\t<tr><th scope=col>DESY_SORT_KEY</th><th scope=col>year</th><th scope=col>distinct_clinicians</th><th scope=col>distinct_primary_care_physicians</th><th scope=col>hypertension</th><th scope=col>arthritis</th><th scope=col>IHD</th><th scope=col>diabetes</th><th scope=col>depression</th><th scope=col>icd_9_pure</th><th scope=col>icd_10_pure</th><th scope=col>REFERENCE_YEAR</th><th scope=col>STATE_CODE</th><th scope=col>COUNTY_CODE</th><th scope=col>SEX_CODE</th><th scope=col>RACE_CODE</th><th scope=col>AGE</th><th scope=col>ORIG_REASON_FOR_ENTITLEMENT</th><th scope=col>CURR_REASON_FOR_ENTITLEMENT</th><th scope=col>ENTITLEMENT_BUY_IN_IND01</th><th scope=col>ENTITLEMENT_BUY_IN_IND02</th><th scope=col>ENTITLEMENT_BUY_IN_IND03</th><th scope=col>ENTITLEMENT_BUY_IN_IND04</th><th scope=col>ENTITLEMENT_BUY_IN_IND05</th><th scope=col>ENTITLEMENT_BUY_IN_IND06</th><th scope=col>ENTITLEMENT_BUY_IN_IND07</th><th scope=col>ENTITLEMENT_BUY_IN_IND08</th><th scope=col>ENTITLEMENT_BUY_IN_IND09</th><th scope=col>ENTITLEMENT_BUY_IN_IND10</th><th scope=col>ENTITLEMENT_BUY_IN_IND11</th><th scope=col>ENTITLEMENT_BUY_IN_IND12</th><th scope=col>HMO_INDICATOR01</th><th scope=col>HMO_INDICATOR02</th><th scope=col>HMO_INDICATOR03</th><th scope=col>HMO_INDICATOR04</th><th scope=col>HMO_INDICATOR05</th><th scope=col>HMO_INDICATOR06</th><th scope=col>HMO_INDICATOR07</th><th scope=col>HMO_INDICATOR08</th><th scope=col>HMO_INDICATOR09</th><th scope=col>HMO_INDICATOR10</th><th scope=col>HMO_INDICATOR11</th><th scope=col>HMO_INDICATOR12</th><th scope=col>VALID_DATE_OF_DEATH_SWITCH</th><th scope=col>DATE_OF_DEATH</th><th scope=col>date_died</th><th scope=col>date_died_valid</th><th scope=col>year_of_death</th><th scope=col>most_common_physician_PRF_PHYSN_NPI</th><th scope=col>most_common_physician_n</th><th scope=col>most_common_physician_PRVDR_SPCLTY</th><th scope=col>most_common_primary_care_physician_PRF_PHYSN_NPI</th><th scope=col>most_common_primary_care_physician_n</th><th scope=col>most_common_primary_care_physician_PRVDR_SPCLTY</th><th scope=col>most_common_physician_in_facility_visits_count</th><th scope=col>most_common_physician_in_all_visits_count</th><th scope=col>most_common_physician_in_facility_non_exclusive_HCPCS_count</th><th scope=col>most_common_physician_in_all_non_exclusive_HCPCS_count</th><th scope=col>most_common_physician_in_facility_count</th><th scope=col>most_common_physician_in_all_count</th><th scope=col>most_common_physician_in_facility_visits_prp</th><th scope=col>most_common_physician_in_facility_non_exclusive_HCPCS_prp</th><th scope=col>most_common_physician_in_facility_prp</th><th scope=col>most_common_primary_care_physician_in_facility_visits_count</th><th scope=col>most_common_primary_care_physician_in_all_visits_count</th><th scope=col>most_common_primary_care_physician_in_facility_non_exclusive_HCPCS_count</th><th scope=col>most_common_primary_care_physician_in_all_non_exclusive_HCPCS_count</th><th scope=col>most_common_primary_care_physician_in_facility_count</th><th scope=col>most_common_primary_care_physician_in_all_count</th><th scope=col>most_common_primary_care_physician_in_facility_visits_prp</th><th scope=col>most_common_primary_care_physician_in_facility_non_exclusive_HCPCS_prp</th><th scope=col>most_common_primary_care_physician_in_facility_prp</th><th scope=col>RUCC_2013</th><th scope=col>race</th><th scope=col>sex</th><th scope=col>age_group</th><th scope=col>urban</th><th scope=col>HMO_INDICATOR_sum</th><th scope=col>ENTITLEMENT_BUY_IN_IND_sum</th><th scope=col>months_alive</th><th scope=col>number_of_conditions</th><th scope=col>viclaims</th><th scope=col>vikeyword</th><th scope=col>tin1_nu</th><th scope=col>tin1_legal_name</th><th scope=col>tin2_nu</th><th scope=col>tin2_legal_name</th><th scope=col>name_last</th><th scope=col>name_first</th><th scope=col>name_middle</th><th scope=col>SPEC_PRIM_1_NAME</th><th scope=col>SPEC_PRIM_1</th><th scope=col>SPEC_BROAD</th><th scope=col>SEX</th><th scope=col>SPEC_PRIM_2</th><th scope=col>SPEC_PRIM_2_NAME</th><th scope=col>SPEC_SOURCE</th><th scope=col>SPEC_SOURCE_HOSP</th><th scope=col>POS_OFFICE</th><th scope=col>POS_INPAT</th><th scope=col>POS_OPD</th><th scope=col>POS_ER</th><th scope=col>POS_NURSING</th><th scope=col>POS_ASC</th><th scope=col>POS_RESID</th><th scope=col>POS_RETAIL</th><th scope=col>POS_URGENT</th><th scope=col>POS_OTHER</th><th scope=col>STATE</th><th scope=col>STATE_MULTI</th><th scope=col>CBSA_TYPE</th><th scope=col>CBSA_CD</th><th scope=col>CBSA_NAME</th><th scope=col>CBSA_MULTI</th><th scope=col>NPI_SRVC_LINES</th><th scope=col>NPI_ALLOWED_AMT</th><th scope=col>NPI_UNQ_BENES</th><th scope=col>TIN1_SRVC_MONTH</th><th scope=col>TIN1_SRVC_LINES</th><th scope=col>TIN1_ALLOWED_AMT</th><th scope=col>TIN1_UNQ_BENES</th><th scope=col>TIN2_SRVC_MONTH</th><th scope=col>TIN2_SRVC_LINES</th><th scope=col>TIN2_ALLOWED_AMT</th><th scope=col>TIN2_UNQ_BENES</th><th scope=col>BIRTH_YR</th><th scope=col>lns_office</th><th scope=col>lns_opd</th><th scope=col>most_common_primary_care_physician_integrated</th><th scope=col>most_common_primary_care_physician_integration_change</th><th scope=col>most_common_primary_care_physician_sum_integration_changes</th><th scope=col>most_common_primary_care_physician_integrated_once_and_stayed</th><th scope=col>most_common_primary_care_physician_year_integrated</th><th scope=col>most_common_primary_care_physician_years_from_integration</th><th scope=col>most_common_primary_care_physician_changed</th></tr>\n",
       "\t<tr><th scope=col>&lt;int&gt;</th><th scope=col>&lt;dbl&gt;</th><th scope=col>&lt;int&gt;</th><th scope=col>&lt;int&gt;</th><th scope=col>&lt;lgl&gt;</th><th scope=col>&lt;lgl&gt;</th><th scope=col>&lt;lgl&gt;</th><th scope=col>&lt;lgl&gt;</th><th scope=col>&lt;lgl&gt;</th><th scope=col>&lt;lgl&gt;</th><th scope=col>&lt;lgl&gt;</th><th scope=col>&lt;dbl&gt;</th><th scope=col>&lt;chr&gt;</th><th scope=col>&lt;chr&gt;</th><th scope=col>&lt;int&gt;</th><th scope=col>&lt;int&gt;</th><th scope=col>&lt;dbl&gt;</th><th scope=col>&lt;dbl&gt;</th><th scope=col>&lt;dbl&gt;</th><th scope=col>&lt;chr&gt;</th><th scope=col>&lt;chr&gt;</th><th scope=col>&lt;chr&gt;</th><th scope=col>&lt;chr&gt;</th><th scope=col>&lt;chr&gt;</th><th scope=col>&lt;chr&gt;</th><th scope=col>&lt;chr&gt;</th><th scope=col>&lt;chr&gt;</th><th scope=col>&lt;chr&gt;</th><th scope=col>&lt;chr&gt;</th><th scope=col>&lt;chr&gt;</th><th scope=col>&lt;chr&gt;</th><th scope=col>&lt;chr&gt;</th><th scope=col>&lt;chr&gt;</th><th scope=col>&lt;chr&gt;</th><th scope=col>&lt;chr&gt;</th><th scope=col>&lt;chr&gt;</th><th scope=col>&lt;chr&gt;</th><th scope=col>&lt;chr&gt;</th><th scope=col>&lt;chr&gt;</th><th scope=col>&lt;chr&gt;</th><th scope=col>&lt;chr&gt;</th><th scope=col>&lt;chr&gt;</th><th scope=col>&lt;chr&gt;</th><th scope=col>&lt;chr&gt;</th><th scope=col>&lt;dbl&gt;</th><th scope=col>&lt;dbl&gt;</th><th scope=col>&lt;chr&gt;</th><th scope=col>&lt;chr&gt;</th><th scope=col>&lt;chr&gt;</th><th scope=col>&lt;int&gt;</th><th scope=col>&lt;chr&gt;</th><th scope=col>&lt;chr&gt;</th><th scope=col>&lt;int&gt;</th><th scope=col>&lt;chr&gt;</th><th scope=col>&lt;int&gt;</th><th scope=col>&lt;int&gt;</th><th scope=col>&lt;int&gt;</th><th scope=col>&lt;int&gt;</th><th scope=col>&lt;int&gt;</th><th scope=col>&lt;int&gt;</th><th scope=col>&lt;dbl&gt;</th><th scope=col>&lt;dbl&gt;</th><th scope=col>&lt;dbl&gt;</th><th scope=col>&lt;int&gt;</th><th scope=col>&lt;int&gt;</th><th scope=col>&lt;int&gt;</th><th scope=col>&lt;int&gt;</th><th scope=col>&lt;int&gt;</th><th scope=col>&lt;int&gt;</th><th scope=col>&lt;dbl&gt;</th><th scope=col>&lt;dbl&gt;</th><th scope=col>&lt;dbl&gt;</th><th scope=col>&lt;dbl&gt;</th><th scope=col>&lt;chr&gt;</th><th scope=col>&lt;chr&gt;</th><th scope=col>&lt;chr&gt;</th><th scope=col>&lt;lgl&gt;</th><th scope=col>&lt;int&gt;</th><th scope=col>&lt;int&gt;</th><th scope=col>&lt;dbl&gt;</th><th scope=col>&lt;int&gt;</th><th scope=col>&lt;dbl&gt;</th><th scope=col>&lt;dbl&gt;</th><th scope=col>&lt;chr&gt;</th><th scope=col>&lt;chr&gt;</th><th scope=col>&lt;chr&gt;</th><th scope=col>&lt;chr&gt;</th><th scope=col>&lt;chr&gt;</th><th scope=col>&lt;chr&gt;</th><th scope=col>&lt;chr&gt;</th><th scope=col>&lt;chr&gt;</th><th scope=col>&lt;chr&gt;</th><th scope=col>&lt;dbl&gt;</th><th scope=col>&lt;chr&gt;</th><th scope=col>&lt;chr&gt;</th><th scope=col>&lt;chr&gt;</th><th scope=col>&lt;dbl&gt;</th><th scope=col>&lt;dbl&gt;</th><th scope=col>&lt;dbl&gt;</th><th scope=col>&lt;dbl&gt;</th><th scope=col>&lt;dbl&gt;</th><th scope=col>&lt;dbl&gt;</th><th scope=col>&lt;dbl&gt;</th><th scope=col>&lt;dbl&gt;</th><th scope=col>&lt;dbl&gt;</th><th scope=col>&lt;dbl&gt;</th><th scope=col>&lt;dbl&gt;</th><th scope=col>&lt;dbl&gt;</th><th scope=col>&lt;chr&gt;</th><th scope=col>&lt;dbl&gt;</th><th scope=col>&lt;dbl&gt;</th><th scope=col>&lt;chr&gt;</th><th scope=col>&lt;chr&gt;</th><th scope=col>&lt;dbl&gt;</th><th scope=col>&lt;dbl&gt;</th><th scope=col>&lt;dbl&gt;</th><th scope=col>&lt;dbl&gt;</th><th scope=col>&lt;chr&gt;</th><th scope=col>&lt;dbl&gt;</th><th scope=col>&lt;dbl&gt;</th><th scope=col>&lt;dbl&gt;</th><th scope=col>&lt;chr&gt;</th><th scope=col>&lt;dbl&gt;</th><th scope=col>&lt;dbl&gt;</th><th scope=col>&lt;dbl&gt;</th><th scope=col>&lt;dbl&gt;</th><th scope=col>&lt;dbl&gt;</th><th scope=col>&lt;dbl&gt;</th><th scope=col>&lt;lgl&gt;</th><th scope=col>&lt;chr&gt;</th><th scope=col>&lt;int&gt;</th><th scope=col>&lt;lgl&gt;</th><th scope=col>&lt;dbl&gt;</th><th scope=col>&lt;dbl&gt;</th><th scope=col>&lt;lgl&gt;</th></tr>\n",
       "</thead>\n",
       "<tbody>\n",
       "\t<tr><td>100005325</td><td>2013</td><td>10</td><td>3</td><td>FALSE</td><td>FALSE</td><td>FALSE</td><td>FALSE</td><td>FALSE</td><td>TRUE</td><td>FALSE</td><td>13</td><td>20</td><td>140</td><td>2</td><td>1</td><td>76</td><td>0</td><td>0</td><td>C</td><td>C</td><td>3</td><td>3</td><td>3</td><td>3</td><td>3</td><td>3</td><td>3</td><td>3</td><td>3</td><td>3</td><td>0</td><td>0</td><td>0</td><td>0</td><td>0</td><td>0</td><td>0</td><td>0</td><td>0</td><td>0</td><td>0</td><td>0</td><td>V</td><td>20140125</td><td>20140125</td><td>V</td><td>2014</td><td>1578594818</td><td>14</td><td>11</td><td>1578594818</td><td>14</td><td>11</td><td>1</td><td>163</td><td>36</td><td>199</td><td>46</td><td>384</td><td>0.006134969</td><td>0.1809045</td><td>0.11979167</td><td>1</td><td>163</td><td>36</td><td>199</td><td>46</td><td>384</td><td>0.006134969</td><td>0.1809045</td><td>0.11979167</td><td>7</td><td>White</td><td>Female</td><td>75-84</td><td>FALSE</td><td>12</td><td>12</td><td>1</td><td>0</td><td>0</td><td>0</td><td>NU00000855</td><td>                        </td><td>          </td><td></td><td>WILKINSON</td><td>PETER</td><td>SCOTT</td><td>Internal Medicine</td><td>11</td><td>1</td><td>M</td><td></td><td>NONE</td><td>1</td><td>NA</td><td>0.6187884</td><td>0.06270705</td><td>0.1299101</td><td>0.1488405</td><td>0.01964032</td><td>0</td><td>0.02011358</td><td>0</td><td>0</td><td>0</td><td>ME</td><td>0</td><td>3</td><td>00000</td><td>Non-CBSA</td><td>0</td><td>4226</td><td>211012.7</td><td>1025</td><td>111111111111</td><td>4226</td><td>211012.7</td><td>1025</td><td>            </td><td> NA</td><td>      NA</td><td> NA</td><td>1954</td><td>2615</td><td>549</td><td>FALSE</td><td>remained_independent</td><td>1</td><td>TRUE</td><td>2014</td><td>-1</td><td>FALSE</td></tr>\n",
       "\t<tr><td>100005325</td><td>2014</td><td>13</td><td>2</td><td>FALSE</td><td>FALSE</td><td>FALSE</td><td>FALSE</td><td>FALSE</td><td>TRUE</td><td>FALSE</td><td>14</td><td>20</td><td>140</td><td>2</td><td>1</td><td>77</td><td>0</td><td>0</td><td>3</td><td>0</td><td>0</td><td>0</td><td>0</td><td>0</td><td>0</td><td>0</td><td>0</td><td>0</td><td>0</td><td>0</td><td>0</td><td>0</td><td>0</td><td>0</td><td>0</td><td>0</td><td>0</td><td>0</td><td>0</td><td>0</td><td>0</td><td>0</td><td>V</td><td>20140125</td><td>20140125</td><td>V</td><td>2014</td><td>1578594818</td><td> 1</td><td>11</td><td>1578594818</td><td> 1</td><td>11</td><td>0</td><td>132</td><td>26</td><td>163</td><td>26</td><td>290</td><td>0.000000000</td><td>0.1595092</td><td>0.08965517</td><td>0</td><td>132</td><td>26</td><td>163</td><td>26</td><td>290</td><td>0.000000000</td><td>0.1595092</td><td>0.08965517</td><td>7</td><td>White</td><td>Female</td><td>75-84</td><td>FALSE</td><td>12</td><td> 1</td><td>1</td><td>0</td><td>0</td><td>1</td><td>NU00001193</td><td>CALAIS REGIONAL HOSPITAL</td><td>NU00000855</td><td></td><td>WILKINSON</td><td>PETER</td><td>SCOTT</td><td>Internal Medicine</td><td>11</td><td>1</td><td>M</td><td></td><td>NONE</td><td>1</td><td>NA</td><td>0.5780469</td><td>0.07028165</td><td>0.1437220</td><td>0.1742564</td><td>0.01842590</td><td>0</td><td>0.01526718</td><td>0</td><td>0</td><td>0</td><td>ME</td><td>0</td><td>3</td><td>00000</td><td>Non-CBSA</td><td>0</td><td>3799</td><td>178283.0</td><td>1067</td><td>001111111111</td><td>3222</td><td>150554.4</td><td> 984</td><td>110000000000</td><td>577</td><td>27728.66</td><td>380</td><td>1954</td><td>2196</td><td>546</td><td> TRUE</td><td>newly_integrated    </td><td>1</td><td>TRUE</td><td>2014</td><td> 0</td><td>FALSE</td></tr>\n",
       "</tbody>\n",
       "</table>\n"
      ],
      "text/latex": [
       "A data.table: 2 × 135\n",
       "\\begin{tabular}{lllllllllllllllllllllllllllllllllllllllllllllllllllllllllllllllllllllllllllllllllllllllllllllllllllllllllllllllllllllllllllllllllllllll}\n",
       " DESY\\_SORT\\_KEY & year & distinct\\_clinicians & distinct\\_primary\\_care\\_physicians & hypertension & arthritis & IHD & diabetes & depression & icd\\_9\\_pure & icd\\_10\\_pure & REFERENCE\\_YEAR & STATE\\_CODE & COUNTY\\_CODE & SEX\\_CODE & RACE\\_CODE & AGE & ORIG\\_REASON\\_FOR\\_ENTITLEMENT & CURR\\_REASON\\_FOR\\_ENTITLEMENT & ENTITLEMENT\\_BUY\\_IN\\_IND01 & ENTITLEMENT\\_BUY\\_IN\\_IND02 & ENTITLEMENT\\_BUY\\_IN\\_IND03 & ENTITLEMENT\\_BUY\\_IN\\_IND04 & ENTITLEMENT\\_BUY\\_IN\\_IND05 & ENTITLEMENT\\_BUY\\_IN\\_IND06 & ENTITLEMENT\\_BUY\\_IN\\_IND07 & ENTITLEMENT\\_BUY\\_IN\\_IND08 & ENTITLEMENT\\_BUY\\_IN\\_IND09 & ENTITLEMENT\\_BUY\\_IN\\_IND10 & ENTITLEMENT\\_BUY\\_IN\\_IND11 & ENTITLEMENT\\_BUY\\_IN\\_IND12 & HMO\\_INDICATOR01 & HMO\\_INDICATOR02 & HMO\\_INDICATOR03 & HMO\\_INDICATOR04 & HMO\\_INDICATOR05 & HMO\\_INDICATOR06 & HMO\\_INDICATOR07 & HMO\\_INDICATOR08 & HMO\\_INDICATOR09 & HMO\\_INDICATOR10 & HMO\\_INDICATOR11 & HMO\\_INDICATOR12 & VALID\\_DATE\\_OF\\_DEATH\\_SWITCH & DATE\\_OF\\_DEATH & date\\_died & date\\_died\\_valid & year\\_of\\_death & most\\_common\\_physician\\_PRF\\_PHYSN\\_NPI & most\\_common\\_physician\\_n & most\\_common\\_physician\\_PRVDR\\_SPCLTY & most\\_common\\_primary\\_care\\_physician\\_PRF\\_PHYSN\\_NPI & most\\_common\\_primary\\_care\\_physician\\_n & most\\_common\\_primary\\_care\\_physician\\_PRVDR\\_SPCLTY & most\\_common\\_physician\\_in\\_facility\\_visits\\_count & most\\_common\\_physician\\_in\\_all\\_visits\\_count & most\\_common\\_physician\\_in\\_facility\\_non\\_exclusive\\_HCPCS\\_count & most\\_common\\_physician\\_in\\_all\\_non\\_exclusive\\_HCPCS\\_count & most\\_common\\_physician\\_in\\_facility\\_count & most\\_common\\_physician\\_in\\_all\\_count & most\\_common\\_physician\\_in\\_facility\\_visits\\_prp & most\\_common\\_physician\\_in\\_facility\\_non\\_exclusive\\_HCPCS\\_prp & most\\_common\\_physician\\_in\\_facility\\_prp & most\\_common\\_primary\\_care\\_physician\\_in\\_facility\\_visits\\_count & most\\_common\\_primary\\_care\\_physician\\_in\\_all\\_visits\\_count & most\\_common\\_primary\\_care\\_physician\\_in\\_facility\\_non\\_exclusive\\_HCPCS\\_count & most\\_common\\_primary\\_care\\_physician\\_in\\_all\\_non\\_exclusive\\_HCPCS\\_count & most\\_common\\_primary\\_care\\_physician\\_in\\_facility\\_count & most\\_common\\_primary\\_care\\_physician\\_in\\_all\\_count & most\\_common\\_primary\\_care\\_physician\\_in\\_facility\\_visits\\_prp & most\\_common\\_primary\\_care\\_physician\\_in\\_facility\\_non\\_exclusive\\_HCPCS\\_prp & most\\_common\\_primary\\_care\\_physician\\_in\\_facility\\_prp & RUCC\\_2013 & race & sex & age\\_group & urban & HMO\\_INDICATOR\\_sum & ENTITLEMENT\\_BUY\\_IN\\_IND\\_sum & months\\_alive & number\\_of\\_conditions & viclaims & vikeyword & tin1\\_nu & tin1\\_legal\\_name & tin2\\_nu & tin2\\_legal\\_name & name\\_last & name\\_first & name\\_middle & SPEC\\_PRIM\\_1\\_NAME & SPEC\\_PRIM\\_1 & SPEC\\_BROAD & SEX & SPEC\\_PRIM\\_2 & SPEC\\_PRIM\\_2\\_NAME & SPEC\\_SOURCE & SPEC\\_SOURCE\\_HOSP & POS\\_OFFICE & POS\\_INPAT & POS\\_OPD & POS\\_ER & POS\\_NURSING & POS\\_ASC & POS\\_RESID & POS\\_RETAIL & POS\\_URGENT & POS\\_OTHER & STATE & STATE\\_MULTI & CBSA\\_TYPE & CBSA\\_CD & CBSA\\_NAME & CBSA\\_MULTI & NPI\\_SRVC\\_LINES & NPI\\_ALLOWED\\_AMT & NPI\\_UNQ\\_BENES & TIN1\\_SRVC\\_MONTH & TIN1\\_SRVC\\_LINES & TIN1\\_ALLOWED\\_AMT & TIN1\\_UNQ\\_BENES & TIN2\\_SRVC\\_MONTH & TIN2\\_SRVC\\_LINES & TIN2\\_ALLOWED\\_AMT & TIN2\\_UNQ\\_BENES & BIRTH\\_YR & lns\\_office & lns\\_opd & most\\_common\\_primary\\_care\\_physician\\_integrated & most\\_common\\_primary\\_care\\_physician\\_integration\\_change & most\\_common\\_primary\\_care\\_physician\\_sum\\_integration\\_changes & most\\_common\\_primary\\_care\\_physician\\_integrated\\_once\\_and\\_stayed & most\\_common\\_primary\\_care\\_physician\\_year\\_integrated & most\\_common\\_primary\\_care\\_physician\\_years\\_from\\_integration & most\\_common\\_primary\\_care\\_physician\\_changed\\\\\n",
       " <int> & <dbl> & <int> & <int> & <lgl> & <lgl> & <lgl> & <lgl> & <lgl> & <lgl> & <lgl> & <dbl> & <chr> & <chr> & <int> & <int> & <dbl> & <dbl> & <dbl> & <chr> & <chr> & <chr> & <chr> & <chr> & <chr> & <chr> & <chr> & <chr> & <chr> & <chr> & <chr> & <chr> & <chr> & <chr> & <chr> & <chr> & <chr> & <chr> & <chr> & <chr> & <chr> & <chr> & <chr> & <chr> & <dbl> & <dbl> & <chr> & <chr> & <chr> & <int> & <chr> & <chr> & <int> & <chr> & <int> & <int> & <int> & <int> & <int> & <int> & <dbl> & <dbl> & <dbl> & <int> & <int> & <int> & <int> & <int> & <int> & <dbl> & <dbl> & <dbl> & <dbl> & <chr> & <chr> & <chr> & <lgl> & <int> & <int> & <dbl> & <int> & <dbl> & <dbl> & <chr> & <chr> & <chr> & <chr> & <chr> & <chr> & <chr> & <chr> & <chr> & <dbl> & <chr> & <chr> & <chr> & <dbl> & <dbl> & <dbl> & <dbl> & <dbl> & <dbl> & <dbl> & <dbl> & <dbl> & <dbl> & <dbl> & <dbl> & <chr> & <dbl> & <dbl> & <chr> & <chr> & <dbl> & <dbl> & <dbl> & <dbl> & <chr> & <dbl> & <dbl> & <dbl> & <chr> & <dbl> & <dbl> & <dbl> & <dbl> & <dbl> & <dbl> & <lgl> & <chr> & <int> & <lgl> & <dbl> & <dbl> & <lgl>\\\\\n",
       "\\hline\n",
       "\t 100005325 & 2013 & 10 & 3 & FALSE & FALSE & FALSE & FALSE & FALSE & TRUE & FALSE & 13 & 20 & 140 & 2 & 1 & 76 & 0 & 0 & C & C & 3 & 3 & 3 & 3 & 3 & 3 & 3 & 3 & 3 & 3 & 0 & 0 & 0 & 0 & 0 & 0 & 0 & 0 & 0 & 0 & 0 & 0 & V & 20140125 & 20140125 & V & 2014 & 1578594818 & 14 & 11 & 1578594818 & 14 & 11 & 1 & 163 & 36 & 199 & 46 & 384 & 0.006134969 & 0.1809045 & 0.11979167 & 1 & 163 & 36 & 199 & 46 & 384 & 0.006134969 & 0.1809045 & 0.11979167 & 7 & White & Female & 75-84 & FALSE & 12 & 12 & 1 & 0 & 0 & 0 & NU00000855 &                          &            &  & WILKINSON & PETER & SCOTT & Internal Medicine & 11 & 1 & M &  & NONE & 1 & NA & 0.6187884 & 0.06270705 & 0.1299101 & 0.1488405 & 0.01964032 & 0 & 0.02011358 & 0 & 0 & 0 & ME & 0 & 3 & 00000 & Non-CBSA & 0 & 4226 & 211012.7 & 1025 & 111111111111 & 4226 & 211012.7 & 1025 &              &  NA &       NA &  NA & 1954 & 2615 & 549 & FALSE & remained\\_independent & 1 & TRUE & 2014 & -1 & FALSE\\\\\n",
       "\t 100005325 & 2014 & 13 & 2 & FALSE & FALSE & FALSE & FALSE & FALSE & TRUE & FALSE & 14 & 20 & 140 & 2 & 1 & 77 & 0 & 0 & 3 & 0 & 0 & 0 & 0 & 0 & 0 & 0 & 0 & 0 & 0 & 0 & 0 & 0 & 0 & 0 & 0 & 0 & 0 & 0 & 0 & 0 & 0 & 0 & V & 20140125 & 20140125 & V & 2014 & 1578594818 &  1 & 11 & 1578594818 &  1 & 11 & 0 & 132 & 26 & 163 & 26 & 290 & 0.000000000 & 0.1595092 & 0.08965517 & 0 & 132 & 26 & 163 & 26 & 290 & 0.000000000 & 0.1595092 & 0.08965517 & 7 & White & Female & 75-84 & FALSE & 12 &  1 & 1 & 0 & 0 & 1 & NU00001193 & CALAIS REGIONAL HOSPITAL & NU00000855 &  & WILKINSON & PETER & SCOTT & Internal Medicine & 11 & 1 & M &  & NONE & 1 & NA & 0.5780469 & 0.07028165 & 0.1437220 & 0.1742564 & 0.01842590 & 0 & 0.01526718 & 0 & 0 & 0 & ME & 0 & 3 & 00000 & Non-CBSA & 0 & 3799 & 178283.0 & 1067 & 001111111111 & 3222 & 150554.4 &  984 & 110000000000 & 577 & 27728.66 & 380 & 1954 & 2196 & 546 &  TRUE & newly\\_integrated     & 1 & TRUE & 2014 &  0 & FALSE\\\\\n",
       "\\end{tabular}\n"
      ],
      "text/markdown": [
       "\n",
       "A data.table: 2 × 135\n",
       "\n",
       "| DESY_SORT_KEY &lt;int&gt; | year &lt;dbl&gt; | distinct_clinicians &lt;int&gt; | distinct_primary_care_physicians &lt;int&gt; | hypertension &lt;lgl&gt; | arthritis &lt;lgl&gt; | IHD &lt;lgl&gt; | diabetes &lt;lgl&gt; | depression &lt;lgl&gt; | icd_9_pure &lt;lgl&gt; | icd_10_pure &lt;lgl&gt; | REFERENCE_YEAR &lt;dbl&gt; | STATE_CODE &lt;chr&gt; | COUNTY_CODE &lt;chr&gt; | SEX_CODE &lt;int&gt; | RACE_CODE &lt;int&gt; | AGE &lt;dbl&gt; | ORIG_REASON_FOR_ENTITLEMENT &lt;dbl&gt; | CURR_REASON_FOR_ENTITLEMENT &lt;dbl&gt; | ENTITLEMENT_BUY_IN_IND01 &lt;chr&gt; | ENTITLEMENT_BUY_IN_IND02 &lt;chr&gt; | ENTITLEMENT_BUY_IN_IND03 &lt;chr&gt; | ENTITLEMENT_BUY_IN_IND04 &lt;chr&gt; | ENTITLEMENT_BUY_IN_IND05 &lt;chr&gt; | ENTITLEMENT_BUY_IN_IND06 &lt;chr&gt; | ENTITLEMENT_BUY_IN_IND07 &lt;chr&gt; | ENTITLEMENT_BUY_IN_IND08 &lt;chr&gt; | ENTITLEMENT_BUY_IN_IND09 &lt;chr&gt; | ENTITLEMENT_BUY_IN_IND10 &lt;chr&gt; | ENTITLEMENT_BUY_IN_IND11 &lt;chr&gt; | ENTITLEMENT_BUY_IN_IND12 &lt;chr&gt; | HMO_INDICATOR01 &lt;chr&gt; | HMO_INDICATOR02 &lt;chr&gt; | HMO_INDICATOR03 &lt;chr&gt; | HMO_INDICATOR04 &lt;chr&gt; | HMO_INDICATOR05 &lt;chr&gt; | HMO_INDICATOR06 &lt;chr&gt; | HMO_INDICATOR07 &lt;chr&gt; | HMO_INDICATOR08 &lt;chr&gt; | HMO_INDICATOR09 &lt;chr&gt; | HMO_INDICATOR10 &lt;chr&gt; | HMO_INDICATOR11 &lt;chr&gt; | HMO_INDICATOR12 &lt;chr&gt; | VALID_DATE_OF_DEATH_SWITCH &lt;chr&gt; | DATE_OF_DEATH &lt;dbl&gt; | date_died &lt;dbl&gt; | date_died_valid &lt;chr&gt; | year_of_death &lt;chr&gt; | most_common_physician_PRF_PHYSN_NPI &lt;chr&gt; | most_common_physician_n &lt;int&gt; | most_common_physician_PRVDR_SPCLTY &lt;chr&gt; | most_common_primary_care_physician_PRF_PHYSN_NPI &lt;chr&gt; | most_common_primary_care_physician_n &lt;int&gt; | most_common_primary_care_physician_PRVDR_SPCLTY &lt;chr&gt; | most_common_physician_in_facility_visits_count &lt;int&gt; | most_common_physician_in_all_visits_count &lt;int&gt; | most_common_physician_in_facility_non_exclusive_HCPCS_count &lt;int&gt; | most_common_physician_in_all_non_exclusive_HCPCS_count &lt;int&gt; | most_common_physician_in_facility_count &lt;int&gt; | most_common_physician_in_all_count &lt;int&gt; | most_common_physician_in_facility_visits_prp &lt;dbl&gt; | most_common_physician_in_facility_non_exclusive_HCPCS_prp &lt;dbl&gt; | most_common_physician_in_facility_prp &lt;dbl&gt; | most_common_primary_care_physician_in_facility_visits_count &lt;int&gt; | most_common_primary_care_physician_in_all_visits_count &lt;int&gt; | most_common_primary_care_physician_in_facility_non_exclusive_HCPCS_count &lt;int&gt; | most_common_primary_care_physician_in_all_non_exclusive_HCPCS_count &lt;int&gt; | most_common_primary_care_physician_in_facility_count &lt;int&gt; | most_common_primary_care_physician_in_all_count &lt;int&gt; | most_common_primary_care_physician_in_facility_visits_prp &lt;dbl&gt; | most_common_primary_care_physician_in_facility_non_exclusive_HCPCS_prp &lt;dbl&gt; | most_common_primary_care_physician_in_facility_prp &lt;dbl&gt; | RUCC_2013 &lt;dbl&gt; | race &lt;chr&gt; | sex &lt;chr&gt; | age_group &lt;chr&gt; | urban &lt;lgl&gt; | HMO_INDICATOR_sum &lt;int&gt; | ENTITLEMENT_BUY_IN_IND_sum &lt;int&gt; | months_alive &lt;dbl&gt; | number_of_conditions &lt;int&gt; | viclaims &lt;dbl&gt; | vikeyword &lt;dbl&gt; | tin1_nu &lt;chr&gt; | tin1_legal_name &lt;chr&gt; | tin2_nu &lt;chr&gt; | tin2_legal_name &lt;chr&gt; | name_last &lt;chr&gt; | name_first &lt;chr&gt; | name_middle &lt;chr&gt; | SPEC_PRIM_1_NAME &lt;chr&gt; | SPEC_PRIM_1 &lt;chr&gt; | SPEC_BROAD &lt;dbl&gt; | SEX &lt;chr&gt; | SPEC_PRIM_2 &lt;chr&gt; | SPEC_PRIM_2_NAME &lt;chr&gt; | SPEC_SOURCE &lt;dbl&gt; | SPEC_SOURCE_HOSP &lt;dbl&gt; | POS_OFFICE &lt;dbl&gt; | POS_INPAT &lt;dbl&gt; | POS_OPD &lt;dbl&gt; | POS_ER &lt;dbl&gt; | POS_NURSING &lt;dbl&gt; | POS_ASC &lt;dbl&gt; | POS_RESID &lt;dbl&gt; | POS_RETAIL &lt;dbl&gt; | POS_URGENT &lt;dbl&gt; | POS_OTHER &lt;dbl&gt; | STATE &lt;chr&gt; | STATE_MULTI &lt;dbl&gt; | CBSA_TYPE &lt;dbl&gt; | CBSA_CD &lt;chr&gt; | CBSA_NAME &lt;chr&gt; | CBSA_MULTI &lt;dbl&gt; | NPI_SRVC_LINES &lt;dbl&gt; | NPI_ALLOWED_AMT &lt;dbl&gt; | NPI_UNQ_BENES &lt;dbl&gt; | TIN1_SRVC_MONTH &lt;chr&gt; | TIN1_SRVC_LINES &lt;dbl&gt; | TIN1_ALLOWED_AMT &lt;dbl&gt; | TIN1_UNQ_BENES &lt;dbl&gt; | TIN2_SRVC_MONTH &lt;chr&gt; | TIN2_SRVC_LINES &lt;dbl&gt; | TIN2_ALLOWED_AMT &lt;dbl&gt; | TIN2_UNQ_BENES &lt;dbl&gt; | BIRTH_YR &lt;dbl&gt; | lns_office &lt;dbl&gt; | lns_opd &lt;dbl&gt; | most_common_primary_care_physician_integrated &lt;lgl&gt; | most_common_primary_care_physician_integration_change &lt;chr&gt; | most_common_primary_care_physician_sum_integration_changes &lt;int&gt; | most_common_primary_care_physician_integrated_once_and_stayed &lt;lgl&gt; | most_common_primary_care_physician_year_integrated &lt;dbl&gt; | most_common_primary_care_physician_years_from_integration &lt;dbl&gt; | most_common_primary_care_physician_changed &lt;lgl&gt; |\n",
       "|---|---|---|---|---|---|---|---|---|---|---|---|---|---|---|---|---|---|---|---|---|---|---|---|---|---|---|---|---|---|---|---|---|---|---|---|---|---|---|---|---|---|---|---|---|---|---|---|---|---|---|---|---|---|---|---|---|---|---|---|---|---|---|---|---|---|---|---|---|---|---|---|---|---|---|---|---|---|---|---|---|---|---|---|---|---|---|---|---|---|---|---|---|---|---|---|---|---|---|---|---|---|---|---|---|---|---|---|---|---|---|---|---|---|---|---|---|---|---|---|---|---|---|---|---|---|---|---|---|---|---|---|---|---|---|\n",
       "| 100005325 | 2013 | 10 | 3 | FALSE | FALSE | FALSE | FALSE | FALSE | TRUE | FALSE | 13 | 20 | 140 | 2 | 1 | 76 | 0 | 0 | C | C | 3 | 3 | 3 | 3 | 3 | 3 | 3 | 3 | 3 | 3 | 0 | 0 | 0 | 0 | 0 | 0 | 0 | 0 | 0 | 0 | 0 | 0 | V | 20140125 | 20140125 | V | 2014 | 1578594818 | 14 | 11 | 1578594818 | 14 | 11 | 1 | 163 | 36 | 199 | 46 | 384 | 0.006134969 | 0.1809045 | 0.11979167 | 1 | 163 | 36 | 199 | 46 | 384 | 0.006134969 | 0.1809045 | 0.11979167 | 7 | White | Female | 75-84 | FALSE | 12 | 12 | 1 | 0 | 0 | 0 | NU00000855 | <!----> | <!----> | <!----> | WILKINSON | PETER | SCOTT | Internal Medicine | 11 | 1 | M | <!----> | NONE | 1 | NA | 0.6187884 | 0.06270705 | 0.1299101 | 0.1488405 | 0.01964032 | 0 | 0.02011358 | 0 | 0 | 0 | ME | 0 | 3 | 00000 | Non-CBSA | 0 | 4226 | 211012.7 | 1025 | 111111111111 | 4226 | 211012.7 | 1025 | <!----> |  NA |       NA |  NA | 1954 | 2615 | 549 | FALSE | remained_independent | 1 | TRUE | 2014 | -1 | FALSE |\n",
       "| 100005325 | 2014 | 13 | 2 | FALSE | FALSE | FALSE | FALSE | FALSE | TRUE | FALSE | 14 | 20 | 140 | 2 | 1 | 77 | 0 | 0 | 3 | 0 | 0 | 0 | 0 | 0 | 0 | 0 | 0 | 0 | 0 | 0 | 0 | 0 | 0 | 0 | 0 | 0 | 0 | 0 | 0 | 0 | 0 | 0 | V | 20140125 | 20140125 | V | 2014 | 1578594818 |  1 | 11 | 1578594818 |  1 | 11 | 0 | 132 | 26 | 163 | 26 | 290 | 0.000000000 | 0.1595092 | 0.08965517 | 0 | 132 | 26 | 163 | 26 | 290 | 0.000000000 | 0.1595092 | 0.08965517 | 7 | White | Female | 75-84 | FALSE | 12 |  1 | 1 | 0 | 0 | 1 | NU00001193 | CALAIS REGIONAL HOSPITAL | NU00000855 | <!----> | WILKINSON | PETER | SCOTT | Internal Medicine | 11 | 1 | M | <!----> | NONE | 1 | NA | 0.5780469 | 0.07028165 | 0.1437220 | 0.1742564 | 0.01842590 | 0 | 0.01526718 | 0 | 0 | 0 | ME | 0 | 3 | 00000 | Non-CBSA | 0 | 3799 | 178283.0 | 1067 | 001111111111 | 3222 | 150554.4 |  984 | 110000000000 | 577 | 27728.66 | 380 | 1954 | 2196 | 546 |  TRUE | newly_integrated     | 1 | TRUE | 2014 |  0 | FALSE |\n",
       "\n"
      ],
      "text/plain": [
       "  DESY_SORT_KEY year distinct_clinicians distinct_primary_care_physicians hypertension arthritis IHD   diabetes depression icd_9_pure icd_10_pure REFERENCE_YEAR STATE_CODE COUNTY_CODE SEX_CODE RACE_CODE AGE ORIG_REASON_FOR_ENTITLEMENT CURR_REASON_FOR_ENTITLEMENT ENTITLEMENT_BUY_IN_IND01\n",
       "1 100005325     2013 10                  3                                FALSE        FALSE     FALSE FALSE    FALSE      TRUE       FALSE       13             20         140         2        1         76  0                           0                           C                       \n",
       "2 100005325     2014 13                  2                                FALSE        FALSE     FALSE FALSE    FALSE      TRUE       FALSE       14             20         140         2        1         77  0                           0                           3                       \n",
       "  ENTITLEMENT_BUY_IN_IND02 ENTITLEMENT_BUY_IN_IND03 ENTITLEMENT_BUY_IN_IND04 ENTITLEMENT_BUY_IN_IND05 ENTITLEMENT_BUY_IN_IND06 ENTITLEMENT_BUY_IN_IND07 ENTITLEMENT_BUY_IN_IND08 ENTITLEMENT_BUY_IN_IND09 ENTITLEMENT_BUY_IN_IND10 ENTITLEMENT_BUY_IN_IND11 ENTITLEMENT_BUY_IN_IND12 HMO_INDICATOR01\n",
       "1 C                        3                        3                        3                        3                        3                        3                        3                        3                        3                        3                        0              \n",
       "2 0                        0                        0                        0                        0                        0                        0                        0                        0                        0                        0                        0              \n",
       "  HMO_INDICATOR02 HMO_INDICATOR03 HMO_INDICATOR04 HMO_INDICATOR05 HMO_INDICATOR06 HMO_INDICATOR07 HMO_INDICATOR08 HMO_INDICATOR09 HMO_INDICATOR10 HMO_INDICATOR11 HMO_INDICATOR12 VALID_DATE_OF_DEATH_SWITCH DATE_OF_DEATH date_died date_died_valid year_of_death most_common_physician_PRF_PHYSN_NPI\n",
       "1 0               0               0               0               0               0               0               0               0               0               0               V                          20140125      20140125  V               2014          1578594818                         \n",
       "2 0               0               0               0               0               0               0               0               0               0               0               V                          20140125      20140125  V               2014          1578594818                         \n",
       "  most_common_physician_n most_common_physician_PRVDR_SPCLTY most_common_primary_care_physician_PRF_PHYSN_NPI most_common_primary_care_physician_n most_common_primary_care_physician_PRVDR_SPCLTY most_common_physician_in_facility_visits_count most_common_physician_in_all_visits_count\n",
       "1 14                      11                                 1578594818                                       14                                   11                                              1                                              163                                      \n",
       "2  1                      11                                 1578594818                                        1                                   11                                              0                                              132                                      \n",
       "  most_common_physician_in_facility_non_exclusive_HCPCS_count most_common_physician_in_all_non_exclusive_HCPCS_count most_common_physician_in_facility_count most_common_physician_in_all_count most_common_physician_in_facility_visits_prp most_common_physician_in_facility_non_exclusive_HCPCS_prp\n",
       "1 36                                                          199                                                    46                                      384                                0.006134969                                  0.1809045                                                \n",
       "2 26                                                          163                                                    26                                      290                                0.000000000                                  0.1595092                                                \n",
       "  most_common_physician_in_facility_prp most_common_primary_care_physician_in_facility_visits_count most_common_primary_care_physician_in_all_visits_count most_common_primary_care_physician_in_facility_non_exclusive_HCPCS_count most_common_primary_care_physician_in_all_non_exclusive_HCPCS_count\n",
       "1 0.11979167                            1                                                           163                                                    36                                                                       199                                                                \n",
       "2 0.08965517                            0                                                           132                                                    26                                                                       163                                                                \n",
       "  most_common_primary_care_physician_in_facility_count most_common_primary_care_physician_in_all_count most_common_primary_care_physician_in_facility_visits_prp most_common_primary_care_physician_in_facility_non_exclusive_HCPCS_prp most_common_primary_care_physician_in_facility_prp RUCC_2013 race \n",
       "1 46                                                   384                                             0.006134969                                               0.1809045                                                              0.11979167                                         7         White\n",
       "2 26                                                   290                                             0.000000000                                               0.1595092                                                              0.08965517                                         7         White\n",
       "  sex    age_group urban HMO_INDICATOR_sum ENTITLEMENT_BUY_IN_IND_sum months_alive number_of_conditions viclaims vikeyword tin1_nu    tin1_legal_name          tin2_nu    tin2_legal_name name_last name_first name_middle SPEC_PRIM_1_NAME  SPEC_PRIM_1 SPEC_BROAD SEX SPEC_PRIM_2 SPEC_PRIM_2_NAME\n",
       "1 Female 75-84     FALSE 12                12                         1            0                    0        0         NU00000855                                                     WILKINSON PETER      SCOTT       Internal Medicine 11          1          M               NONE            \n",
       "2 Female 75-84     FALSE 12                 1                         1            0                    0        1         NU00001193 CALAIS REGIONAL HOSPITAL NU00000855                 WILKINSON PETER      SCOTT       Internal Medicine 11          1          M               NONE            \n",
       "  SPEC_SOURCE SPEC_SOURCE_HOSP POS_OFFICE POS_INPAT  POS_OPD   POS_ER    POS_NURSING POS_ASC POS_RESID  POS_RETAIL POS_URGENT POS_OTHER STATE STATE_MULTI CBSA_TYPE CBSA_CD CBSA_NAME CBSA_MULTI NPI_SRVC_LINES NPI_ALLOWED_AMT NPI_UNQ_BENES TIN1_SRVC_MONTH TIN1_SRVC_LINES TIN1_ALLOWED_AMT\n",
       "1 1           NA               0.6187884  0.06270705 0.1299101 0.1488405 0.01964032  0       0.02011358 0          0          0         ME    0           3         00000   Non-CBSA  0          4226           211012.7        1025          111111111111    4226            211012.7        \n",
       "2 1           NA               0.5780469  0.07028165 0.1437220 0.1742564 0.01842590  0       0.01526718 0          0          0         ME    0           3         00000   Non-CBSA  0          3799           178283.0        1067          001111111111    3222            150554.4        \n",
       "  TIN1_UNQ_BENES TIN2_SRVC_MONTH TIN2_SRVC_LINES TIN2_ALLOWED_AMT TIN2_UNQ_BENES BIRTH_YR lns_office lns_opd most_common_primary_care_physician_integrated most_common_primary_care_physician_integration_change most_common_primary_care_physician_sum_integration_changes\n",
       "1 1025                            NA                   NA          NA            1954     2615       549     FALSE                                         remained_independent                                  1                                                         \n",
       "2  984           110000000000    577             27728.66         380            1954     2196       546      TRUE                                         newly_integrated                                      1                                                         \n",
       "  most_common_primary_care_physician_integrated_once_and_stayed most_common_primary_care_physician_year_integrated most_common_primary_care_physician_years_from_integration most_common_primary_care_physician_changed\n",
       "1 TRUE                                                          2014                                               -1                                                        FALSE                                     \n",
       "2 TRUE                                                          2014                                                0                                                        FALSE                                     "
      ]
     },
     "metadata": {},
     "output_type": "display_data"
    }
   ],
   "source": [
    "yearly_calculations[DESY_SORT_KEY == \"100005325\"]"
   ]
  },
  {
   "cell_type": "markdown",
   "id": "378c3916-5098-45b2-98cb-096eaba83d71",
   "metadata": {},
   "source": [
    "### Summarize Changes"
   ]
  },
  {
   "cell_type": "code",
   "execution_count": 14,
   "id": "46f8cdd6-c9ab-4961-9f94-f3b86acc2f20",
   "metadata": {},
   "outputs": [],
   "source": [
    "integration_change_summarizer <- function(data) {\n",
    "  require(tidyverse)\n",
    "  require(dtplyr)\n",
    "\n",
    "  result <-\n",
    "    data %>%\n",
    "    filter(!is.na(most_common_primary_care_physician_years_from_integration)) %>%\n",
    "    group_by(most_common_primary_care_physician_years_from_integration) %>%\n",
    "    summarise(\n",
    "      hypertension = mean(hypertension, na.rm = T),\n",
    "      arthritis = mean(arthritis, na.rm = T),\n",
    "      IHD = mean(IHD, na.rm = T),\n",
    "      diabetes = mean(diabetes, na.rm = T),\n",
    "      depression = mean(depression, na.rm = T),\n",
    "      two_conditions = mean(number_of_conditions == 2, na.rm = T),\n",
    "      more_than_two_conditions = mean(number_of_conditions > 2, na.rm = T)\n",
    "    ) %>%\n",
    "    as.data.table()\n",
    "}"
   ]
  },
  {
   "cell_type": "code",
   "execution_count": 15,
   "id": "1be6a924-e285-4d67-a193-66d60cdae79c",
   "metadata": {},
   "outputs": [],
   "source": [
    "integration_changes_years_to_integration <- integration_change_summarizer(yearly_calculations)"
   ]
  },
  {
   "cell_type": "code",
   "execution_count": 16,
   "id": "141096a6-d720-4737-9287-c63357fbefe4",
   "metadata": {},
   "outputs": [
    {
     "data": {
      "text/html": [
       "<table class=\"dataframe\">\n",
       "<caption>A data.table: 14 × 8</caption>\n",
       "<thead>\n",
       "\t<tr><th scope=col>most_common_primary_care_physician_years_from_integration</th><th scope=col>hypertension</th><th scope=col>arthritis</th><th scope=col>IHD</th><th scope=col>diabetes</th><th scope=col>depression</th><th scope=col>two_conditions</th><th scope=col>more_than_two_conditions</th></tr>\n",
       "\t<tr><th scope=col>&lt;dbl&gt;</th><th scope=col>&lt;dbl&gt;</th><th scope=col>&lt;dbl&gt;</th><th scope=col>&lt;dbl&gt;</th><th scope=col>&lt;dbl&gt;</th><th scope=col>&lt;dbl&gt;</th><th scope=col>&lt;dbl&gt;</th><th scope=col>&lt;dbl&gt;</th></tr>\n",
       "</thead>\n",
       "<tbody>\n",
       "\t<tr><td>-7</td><td>0.5447631</td><td>0.02607562</td><td>0.2114298</td><td>0.2588005</td><td>0.01955671</td><td>0.2244676</td><td>0.04997827</td></tr>\n",
       "\t<tr><td>-6</td><td>0.5379679</td><td>0.02631016</td><td>0.2011765</td><td>0.2684492</td><td>0.01871658</td><td>0.2186096</td><td>0.05262032</td></tr>\n",
       "\t<tr><td>-5</td><td>0.5410039</td><td>0.02768023</td><td>0.2003030</td><td>0.2673001</td><td>0.02230944</td><td>0.2186876</td><td>0.05570474</td></tr>\n",
       "\t<tr><td>-4</td><td>0.5505279</td><td>0.03580986</td><td>0.1959811</td><td>0.2626867</td><td>0.02865762</td><td>0.2244441</td><td>0.05760716</td></tr>\n",
       "\t<tr><td>-3</td><td>0.5459895</td><td>0.03590705</td><td>0.1985757</td><td>0.2674288</td><td>0.03159670</td><td>0.2240630</td><td>0.06034483</td></tr>\n",
       "\t<tr><td>-2</td><td>0.5367955</td><td>0.04013226</td><td>0.1942608</td><td>0.2654857</td><td>0.03552145</td><td>0.2232907</td><td>0.05939453</td></tr>\n",
       "\t<tr><td>-1</td><td>0.5219994</td><td>0.03901461</td><td>0.1847035</td><td>0.2594672</td><td>0.03703810</td><td>0.2133773</td><td>0.05508450</td></tr>\n",
       "\t<tr><td> 0</td><td>0.4856682</td><td>0.04088428</td><td>0.1735608</td><td>0.2481892</td><td>0.03985445</td><td>0.1935052</td><td>0.05118259</td></tr>\n",
       "\t<tr><td> 1</td><td>0.4797038</td><td>0.04223807</td><td>0.1723219</td><td>0.2432803</td><td>0.04290416</td><td>0.1912859</td><td>0.05015281</td></tr>\n",
       "\t<tr><td> 2</td><td>0.4813745</td><td>0.04738362</td><td>0.1705419</td><td>0.2458270</td><td>0.05007587</td><td>0.1914435</td><td>0.05247442</td></tr>\n",
       "\t<tr><td> 3</td><td>0.4784973</td><td>0.04621849</td><td>0.1647306</td><td>0.2481463</td><td>0.05004943</td><td>0.1896317</td><td>0.05295353</td></tr>\n",
       "\t<tr><td> 4</td><td>0.4764651</td><td>0.04401662</td><td>0.1652108</td><td>0.2478161</td><td>0.05105589</td><td>0.1905691</td><td>0.05088627</td></tr>\n",
       "\t<tr><td> 5</td><td>0.4718319</td><td>0.04215894</td><td>0.1639100</td><td>0.2431290</td><td>0.04986942</td><td>0.1820669</td><td>0.05036687</td></tr>\n",
       "\t<tr><td> 6</td><td>0.4564585</td><td>0.03828073</td><td>0.1701366</td><td>0.2390866</td><td>0.04969778</td><td>0.1815536</td><td>0.04231028</td></tr>\n",
       "</tbody>\n",
       "</table>\n"
      ],
      "text/latex": [
       "A data.table: 14 × 8\n",
       "\\begin{tabular}{llllllll}\n",
       " most\\_common\\_primary\\_care\\_physician\\_years\\_from\\_integration & hypertension & arthritis & IHD & diabetes & depression & two\\_conditions & more\\_than\\_two\\_conditions\\\\\n",
       " <dbl> & <dbl> & <dbl> & <dbl> & <dbl> & <dbl> & <dbl> & <dbl>\\\\\n",
       "\\hline\n",
       "\t -7 & 0.5447631 & 0.02607562 & 0.2114298 & 0.2588005 & 0.01955671 & 0.2244676 & 0.04997827\\\\\n",
       "\t -6 & 0.5379679 & 0.02631016 & 0.2011765 & 0.2684492 & 0.01871658 & 0.2186096 & 0.05262032\\\\\n",
       "\t -5 & 0.5410039 & 0.02768023 & 0.2003030 & 0.2673001 & 0.02230944 & 0.2186876 & 0.05570474\\\\\n",
       "\t -4 & 0.5505279 & 0.03580986 & 0.1959811 & 0.2626867 & 0.02865762 & 0.2244441 & 0.05760716\\\\\n",
       "\t -3 & 0.5459895 & 0.03590705 & 0.1985757 & 0.2674288 & 0.03159670 & 0.2240630 & 0.06034483\\\\\n",
       "\t -2 & 0.5367955 & 0.04013226 & 0.1942608 & 0.2654857 & 0.03552145 & 0.2232907 & 0.05939453\\\\\n",
       "\t -1 & 0.5219994 & 0.03901461 & 0.1847035 & 0.2594672 & 0.03703810 & 0.2133773 & 0.05508450\\\\\n",
       "\t  0 & 0.4856682 & 0.04088428 & 0.1735608 & 0.2481892 & 0.03985445 & 0.1935052 & 0.05118259\\\\\n",
       "\t  1 & 0.4797038 & 0.04223807 & 0.1723219 & 0.2432803 & 0.04290416 & 0.1912859 & 0.05015281\\\\\n",
       "\t  2 & 0.4813745 & 0.04738362 & 0.1705419 & 0.2458270 & 0.05007587 & 0.1914435 & 0.05247442\\\\\n",
       "\t  3 & 0.4784973 & 0.04621849 & 0.1647306 & 0.2481463 & 0.05004943 & 0.1896317 & 0.05295353\\\\\n",
       "\t  4 & 0.4764651 & 0.04401662 & 0.1652108 & 0.2478161 & 0.05105589 & 0.1905691 & 0.05088627\\\\\n",
       "\t  5 & 0.4718319 & 0.04215894 & 0.1639100 & 0.2431290 & 0.04986942 & 0.1820669 & 0.05036687\\\\\n",
       "\t  6 & 0.4564585 & 0.03828073 & 0.1701366 & 0.2390866 & 0.04969778 & 0.1815536 & 0.04231028\\\\\n",
       "\\end{tabular}\n"
      ],
      "text/markdown": [
       "\n",
       "A data.table: 14 × 8\n",
       "\n",
       "| most_common_primary_care_physician_years_from_integration &lt;dbl&gt; | hypertension &lt;dbl&gt; | arthritis &lt;dbl&gt; | IHD &lt;dbl&gt; | diabetes &lt;dbl&gt; | depression &lt;dbl&gt; | two_conditions &lt;dbl&gt; | more_than_two_conditions &lt;dbl&gt; |\n",
       "|---|---|---|---|---|---|---|---|\n",
       "| -7 | 0.5447631 | 0.02607562 | 0.2114298 | 0.2588005 | 0.01955671 | 0.2244676 | 0.04997827 |\n",
       "| -6 | 0.5379679 | 0.02631016 | 0.2011765 | 0.2684492 | 0.01871658 | 0.2186096 | 0.05262032 |\n",
       "| -5 | 0.5410039 | 0.02768023 | 0.2003030 | 0.2673001 | 0.02230944 | 0.2186876 | 0.05570474 |\n",
       "| -4 | 0.5505279 | 0.03580986 | 0.1959811 | 0.2626867 | 0.02865762 | 0.2244441 | 0.05760716 |\n",
       "| -3 | 0.5459895 | 0.03590705 | 0.1985757 | 0.2674288 | 0.03159670 | 0.2240630 | 0.06034483 |\n",
       "| -2 | 0.5367955 | 0.04013226 | 0.1942608 | 0.2654857 | 0.03552145 | 0.2232907 | 0.05939453 |\n",
       "| -1 | 0.5219994 | 0.03901461 | 0.1847035 | 0.2594672 | 0.03703810 | 0.2133773 | 0.05508450 |\n",
       "|  0 | 0.4856682 | 0.04088428 | 0.1735608 | 0.2481892 | 0.03985445 | 0.1935052 | 0.05118259 |\n",
       "|  1 | 0.4797038 | 0.04223807 | 0.1723219 | 0.2432803 | 0.04290416 | 0.1912859 | 0.05015281 |\n",
       "|  2 | 0.4813745 | 0.04738362 | 0.1705419 | 0.2458270 | 0.05007587 | 0.1914435 | 0.05247442 |\n",
       "|  3 | 0.4784973 | 0.04621849 | 0.1647306 | 0.2481463 | 0.05004943 | 0.1896317 | 0.05295353 |\n",
       "|  4 | 0.4764651 | 0.04401662 | 0.1652108 | 0.2478161 | 0.05105589 | 0.1905691 | 0.05088627 |\n",
       "|  5 | 0.4718319 | 0.04215894 | 0.1639100 | 0.2431290 | 0.04986942 | 0.1820669 | 0.05036687 |\n",
       "|  6 | 0.4564585 | 0.03828073 | 0.1701366 | 0.2390866 | 0.04969778 | 0.1815536 | 0.04231028 |\n",
       "\n"
      ],
      "text/plain": [
       "   most_common_primary_care_physician_years_from_integration hypertension arthritis  IHD       diabetes  depression two_conditions more_than_two_conditions\n",
       "1  -7                                                        0.5447631    0.02607562 0.2114298 0.2588005 0.01955671 0.2244676      0.04997827              \n",
       "2  -6                                                        0.5379679    0.02631016 0.2011765 0.2684492 0.01871658 0.2186096      0.05262032              \n",
       "3  -5                                                        0.5410039    0.02768023 0.2003030 0.2673001 0.02230944 0.2186876      0.05570474              \n",
       "4  -4                                                        0.5505279    0.03580986 0.1959811 0.2626867 0.02865762 0.2244441      0.05760716              \n",
       "5  -3                                                        0.5459895    0.03590705 0.1985757 0.2674288 0.03159670 0.2240630      0.06034483              \n",
       "6  -2                                                        0.5367955    0.04013226 0.1942608 0.2654857 0.03552145 0.2232907      0.05939453              \n",
       "7  -1                                                        0.5219994    0.03901461 0.1847035 0.2594672 0.03703810 0.2133773      0.05508450              \n",
       "8   0                                                        0.4856682    0.04088428 0.1735608 0.2481892 0.03985445 0.1935052      0.05118259              \n",
       "9   1                                                        0.4797038    0.04223807 0.1723219 0.2432803 0.04290416 0.1912859      0.05015281              \n",
       "10  2                                                        0.4813745    0.04738362 0.1705419 0.2458270 0.05007587 0.1914435      0.05247442              \n",
       "11  3                                                        0.4784973    0.04621849 0.1647306 0.2481463 0.05004943 0.1896317      0.05295353              \n",
       "12  4                                                        0.4764651    0.04401662 0.1652108 0.2478161 0.05105589 0.1905691      0.05088627              \n",
       "13  5                                                        0.4718319    0.04215894 0.1639100 0.2431290 0.04986942 0.1820669      0.05036687              \n",
       "14  6                                                        0.4564585    0.03828073 0.1701366 0.2390866 0.04969778 0.1815536      0.04231028              "
      ]
     },
     "metadata": {},
     "output_type": "display_data"
    }
   ],
   "source": [
    "integration_changes_years_to_integration"
   ]
  },
  {
   "cell_type": "code",
   "execution_count": 17,
   "id": "c6041944-7b09-4527-8873-f351dc32e1df",
   "metadata": {},
   "outputs": [],
   "source": [
    "ggplot_all_variables <- ggplot(data = integration_changes_years_to_integration) +\n",
    "  geom_vline(xintercept = 0, linetype = \"dotted\", color = \"black\", size = 1.5) +\n",
    "  geom_line(aes(x = most_common_primary_care_physician_years_from_integration, y = hypertension, color = \"hypertension\")) +\n",
    "  geom_point(aes(x = most_common_primary_care_physician_years_from_integration, y = hypertension, color = \"hypertension\")) +\n",
    "  geom_line(aes(x = most_common_primary_care_physician_years_from_integration, y = arthritis, color = \"arthritis\")) +\n",
    "  geom_point(aes(x = most_common_primary_care_physician_years_from_integration, y = arthritis, color = \"arthritis\")) +\n",
    "  geom_line(aes(x = most_common_primary_care_physician_years_from_integration, y = IHD, color = \"IHD\")) +\n",
    "  geom_point(aes(x = most_common_primary_care_physician_years_from_integration, y = IHD, color = \"IHD\")) +\n",
    "  geom_line(aes(x = most_common_primary_care_physician_years_from_integration, y = diabetes, color = \"diabetes\")) +\n",
    "  geom_point(aes(x = most_common_primary_care_physician_years_from_integration, y = diabetes, color = \"diabetes\")) +\n",
    "  geom_line(aes(x = most_common_primary_care_physician_years_from_integration, y = depression, color = \"depression\")) +\n",
    "  geom_point(aes(x = most_common_primary_care_physician_years_from_integration, y = depression, color = \"depression\")) +\n",
    "  geom_line(aes(x = most_common_primary_care_physician_years_from_integration, y = two_conditions, color = \"two_conditions\")) +\n",
    "  geom_point(aes(x = most_common_primary_care_physician_years_from_integration, y = two_conditions, color = \"two_conditions\")) +\n",
    "  geom_line(aes(x = most_common_primary_care_physician_years_from_integration, y = more_than_two_conditions, color = \"more_than_two_conditions\")) +\n",
    "  geom_point(aes(x = most_common_primary_care_physician_years_from_integration, y = more_than_two_conditions, color = \"more_than_two_conditions\")) +\n",
    "  scale_colour_discrete() +\n",
    "  scale_x_continuous(breaks = seq(-8, 8, 2)) +\n",
    "  xlab(\"Primary care physician years from integration\") +\n",
    "  ylab(\"Prevalence\")\n",
    "\n",
    "ggsave(ggplot_all_variables, filename = \"ggplot_all_variables.pdf\", width = 12, height = 7)"
   ]
  },
  {
   "cell_type": "code",
   "execution_count": 18,
   "id": "5af8bb9d-94c5-4815-9be8-6ec5ea8f9e9c",
   "metadata": {},
   "outputs": [],
   "source": [
    "ggplot_arthritis_depression_more_than_two <- ggplot(data = integration_changes_years_to_integration) +\n",
    "  geom_vline(xintercept = 0, linetype = \"dotted\", color = \"black\", size = 1.5) +\n",
    "  geom_line(aes(x = most_common_primary_care_physician_years_from_integration, y = arthritis, color = \"arthritis\")) +\n",
    "  geom_point(aes(x = most_common_primary_care_physician_years_from_integration, y = arthritis, color = \"arthritis\")) +\n",
    "  geom_line(aes(x = most_common_primary_care_physician_years_from_integration, y = depression, color = \"depression\")) +\n",
    "  geom_point(aes(x = most_common_primary_care_physician_years_from_integration, y = depression, color = \"depression\")) +\n",
    "  geom_line(aes(x = most_common_primary_care_physician_years_from_integration, y = more_than_two_conditions, color = \"more_than_two_conditions\")) +\n",
    "  geom_point(aes(x = most_common_primary_care_physician_years_from_integration, y = more_than_two_conditions, color = \"more_than_two_conditions\")) +\n",
    "  scale_colour_discrete() +\n",
    "  scale_x_continuous(breaks = seq(-8, 8, 2)) +\n",
    "  xlab(\"Primary care physician years from integration\") +\n",
    "  ylab(\"Prevalence\")\n",
    "\n",
    "ggsave(ggplot_arthritis_depression_more_than_two, filename = \"ggplot_arthritis_depression_more_than_two.pdf\", width = 12, height = 7)"
   ]
  },
  {
   "cell_type": "code",
   "execution_count": 19,
   "id": "107b5578-ff3c-4216-b9b3-6a8e823aa72d",
   "metadata": {},
   "outputs": [],
   "source": [
    "ggplot_IHD_diabetes_two_conditions <- ggplot(data = integration_changes_years_to_integration) +\n",
    "  geom_vline(xintercept = 0, linetype = \"dotted\", color = \"black\", size = 1.5) +\n",
    "  geom_line(aes(x = most_common_primary_care_physician_years_from_integration, y = IHD, color = \"IHD\")) +\n",
    "  geom_point(aes(x = most_common_primary_care_physician_years_from_integration, y = IHD, color = \"IHD\")) +\n",
    "  geom_line(aes(x = most_common_primary_care_physician_years_from_integration, y = diabetes, color = \"diabetes\")) +\n",
    "  geom_point(aes(x = most_common_primary_care_physician_years_from_integration, y = diabetes, color = \"diabetes\")) +\n",
    "  geom_line(aes(x = most_common_primary_care_physician_years_from_integration, y = two_conditions, color = \"two_conditions\")) +\n",
    "  geom_point(aes(x = most_common_primary_care_physician_years_from_integration, y = two_conditions, color = \"two_conditions\")) +\n",
    "  scale_colour_discrete() +\n",
    "  scale_x_continuous(breaks = seq(-8, 8, 2)) +\n",
    "  xlab(\"Primary care physician years from integration\") +\n",
    "  ylab(\"Prevalence\")\n",
    "\n",
    "ggsave(ggplot_IHD_diabetes_two_conditions, filename = \"ggplot_IHD_diabetes_two_conditions.pdf\", width = 12, height = 7)"
   ]
  },
  {
   "cell_type": "code",
   "execution_count": 20,
   "id": "a7bfcdd7-6b8c-4569-9505-036a4e2f8dc5",
   "metadata": {},
   "outputs": [
    {
     "name": "stderr",
     "output_type": "stream",
     "text": [
      "`geom_smooth()` using formula 'y ~ x'\n",
      "\n"
     ]
    }
   ],
   "source": [
    "ggplot_hypertension_rdd <- ggplot(data = integration_changes_years_to_integration %>% mutate(before = (most_common_primary_care_physician_years_from_integration < 0)) %>% as.data.frame()) +\n",
    "  geom_vline(xintercept = 0, linetype = \"dotted\", color = \"black\", size = 1.5) +\n",
    "  geom_line(aes(x = most_common_primary_care_physician_years_from_integration, y = hypertension, color = \"hypertension\")) +\n",
    "  geom_point(aes(x = most_common_primary_care_physician_years_from_integration, y = hypertension, color = \"hypertension\")) +\n",
    "  scale_colour_discrete() +\n",
    "  scale_x_continuous(breaks = seq(-8, 8, 2)) +\n",
    "  xlab(\"Primary care physician years from integration\") +\n",
    "  ylab(\"Prevalence\") +\n",
    "  geom_smooth(method = \"lm\", aes(x = most_common_primary_care_physician_years_from_integration, y = hypertension, color = \"hypertension\", fill = \"hypertension\", group = before))\n",
    "\n",
    "\n",
    "\n",
    "ggsave(ggplot_hypertension_rdd, filename = \"ggplot_hypertension_rdd.pdf\", width = 12, height = 7)"
   ]
  },
  {
   "cell_type": "code",
   "execution_count": 21,
   "id": "bb2ca760-3fce-4cd1-aae2-5f92970d53a2",
   "metadata": {},
   "outputs": [
    {
     "name": "stderr",
     "output_type": "stream",
     "text": [
      "`geom_smooth()` using formula 'y ~ x'\n",
      "\n",
      "`geom_smooth()` using formula 'y ~ x'\n",
      "\n",
      "`geom_smooth()` using formula 'y ~ x'\n",
      "\n"
     ]
    }
   ],
   "source": [
    "ggplot_IHD_diabetes_two_conditions_rdd <- ggplot(data = integration_changes_years_to_integration %>% mutate(before = (most_common_primary_care_physician_years_from_integration < 0)) %>% as.data.frame()) +\n",
    "  geom_vline(xintercept = 0, linetype = \"dotted\", color = \"black\", size = 1.5) +\n",
    "  geom_line(aes(x = most_common_primary_care_physician_years_from_integration, y = IHD, color = \"IHD\")) +\n",
    "  geom_point(aes(x = most_common_primary_care_physician_years_from_integration, y = IHD, color = \"IHD\")) +\n",
    "  geom_line(aes(x = most_common_primary_care_physician_years_from_integration, y = diabetes, color = \"diabetes\")) +\n",
    "  geom_point(aes(x = most_common_primary_care_physician_years_from_integration, y = diabetes, color = \"diabetes\")) +\n",
    "  geom_line(aes(x = most_common_primary_care_physician_years_from_integration, y = two_conditions, color = \"two_conditions\")) +\n",
    "  geom_point(aes(x = most_common_primary_care_physician_years_from_integration, y = two_conditions, color = \"two_conditions\")) +\n",
    "  scale_colour_discrete() +\n",
    "  scale_x_continuous(breaks = seq(-8, 8, 2)) +\n",
    "  xlab(\"Primary care physician years from integration\") +\n",
    "  ylab(\"Prevalence\") +\n",
    "  geom_smooth(method = \"lm\", aes(x = most_common_primary_care_physician_years_from_integration, y = IHD, color = \"IHD\", fill = \"IHD\", group = before)) +\n",
    "  geom_smooth(method = \"lm\", aes(x = most_common_primary_care_physician_years_from_integration, y = diabetes, color = \"diabetes\", fill = \"diabetes\", group = before)) +\n",
    "  geom_smooth(method = \"lm\", aes(x = most_common_primary_care_physician_years_from_integration, y = two_conditions, color = \"two_conditions\", fill = \"two_conditions\", group = before))\n",
    "\n",
    "\n",
    "\n",
    "ggsave(ggplot_IHD_diabetes_two_conditions_rdd, filename = \"ggplot_IHD_diabetes_two_conditions_rdd.pdf\", width = 12, height = 7)"
   ]
  },
  {
   "cell_type": "code",
   "execution_count": 22,
   "id": "4e945b78-8a41-4f1a-ab7f-1f342b8bba3b",
   "metadata": {},
   "outputs": [
    {
     "name": "stderr",
     "output_type": "stream",
     "text": [
      "`geom_smooth()` using formula 'y ~ x'\n",
      "\n",
      "`geom_smooth()` using formula 'y ~ x'\n",
      "\n",
      "`geom_smooth()` using formula 'y ~ x'\n",
      "\n"
     ]
    }
   ],
   "source": [
    "ggplot_arthritis_depression_more_than_two_rdd <-\n",
    "  ggplot(data = integration_changes_years_to_integration %>% mutate(before = (most_common_primary_care_physician_years_from_integration < 0)) %>% as.data.frame()) +\n",
    "  geom_vline(xintercept = 0, linetype = \"dotted\", color = \"black\", size = 1.5) +\n",
    "  geom_line(aes(x = most_common_primary_care_physician_years_from_integration, y = arthritis, color = \"arthritis\")) +\n",
    "  geom_point(aes(x = most_common_primary_care_physician_years_from_integration, y = arthritis, color = \"arthritis\")) +\n",
    "  geom_line(aes(x = most_common_primary_care_physician_years_from_integration, y = depression, color = \"depression\")) +\n",
    "  geom_point(aes(x = most_common_primary_care_physician_years_from_integration, y = depression, color = \"depression\")) +\n",
    "  geom_line(aes(x = most_common_primary_care_physician_years_from_integration, y = more_than_two_conditions, color = \"more_than_two_conditions\")) +\n",
    "  geom_point(aes(x = most_common_primary_care_physician_years_from_integration, y = more_than_two_conditions, color = \"more_than_two_conditions\")) +\n",
    "  scale_colour_discrete() +\n",
    "  scale_x_continuous(breaks = seq(-8, 8, 2)) +\n",
    "  xlab(\"Primary care physician years from integration\") +\n",
    "  ylab(\"Prevalence\") +\n",
    "  geom_smooth(method = \"lm\", aes(x = most_common_primary_care_physician_years_from_integration, y = arthritis, color = \"arthritis\", fill = \"arthritis\", group = before)) +\n",
    "  geom_smooth(method = \"lm\", aes(x = most_common_primary_care_physician_years_from_integration, y = depression, color = \"depression\", fill = \"depression\", group = before)) +\n",
    "  geom_smooth(method = \"lm\", aes(x = most_common_primary_care_physician_years_from_integration, y = more_than_two_conditions, color = \"more_than_two_conditions\", fill = \"more_than_two_conditions\", group = before))\n",
    "\n",
    "ggsave(ggplot_arthritis_depression_more_than_two_rdd, filename = \"ggplot_arthritis_depression_more_than_two_rdd.pdf\", width = 12, height = 7)"
   ]
  },
  {
   "cell_type": "markdown",
   "id": "12d3e958-b44a-49f5-94db-627a19b920d5",
   "metadata": {},
   "source": [
    "# Comparisons based on integration status"
   ]
  },
  {
   "cell_type": "markdown",
   "id": "cc0cc7a6-be3c-4496-a046-057edba54c1a",
   "metadata": {
    "tags": []
   },
   "source": [
    "## Read cleaned results"
   ]
  },
  {
   "cell_type": "code",
   "execution_count": 7,
   "id": "122ba647-5b57-4753-821b-b55d1eb4a4a4",
   "metadata": {},
   "outputs": [],
   "source": [
    "#yearly_calculations <- read_fst(\"yearly_calculations_cleaned.fst\", as.data.table = T)\n",
    "yearly_calculations <- read_fst(\"yearly_calculations_with_integration_changes_mdppas.fst\", as.data.table = T)"
   ]
  },
  {
   "cell_type": "code",
   "execution_count": 27,
   "id": "be58d928-9697-4d02-883a-0564e3b336f0",
   "metadata": {},
   "outputs": [
    {
     "data": {
      "text/html": [
       "<table class=\"dataframe\">\n",
       "<caption>A data.table: 2 × 135</caption>\n",
       "<thead>\n",
       "\t<tr><th scope=col>DESY_SORT_KEY</th><th scope=col>year</th><th scope=col>distinct_clinicians</th><th scope=col>distinct_primary_care_physicians</th><th scope=col>hypertension</th><th scope=col>arthritis</th><th scope=col>IHD</th><th scope=col>diabetes</th><th scope=col>depression</th><th scope=col>icd_9_pure</th><th scope=col>icd_10_pure</th><th scope=col>REFERENCE_YEAR</th><th scope=col>STATE_CODE</th><th scope=col>COUNTY_CODE</th><th scope=col>SEX_CODE</th><th scope=col>RACE_CODE</th><th scope=col>AGE</th><th scope=col>ORIG_REASON_FOR_ENTITLEMENT</th><th scope=col>CURR_REASON_FOR_ENTITLEMENT</th><th scope=col>ENTITLEMENT_BUY_IN_IND01</th><th scope=col>ENTITLEMENT_BUY_IN_IND02</th><th scope=col>ENTITLEMENT_BUY_IN_IND03</th><th scope=col>ENTITLEMENT_BUY_IN_IND04</th><th scope=col>ENTITLEMENT_BUY_IN_IND05</th><th scope=col>ENTITLEMENT_BUY_IN_IND06</th><th scope=col>ENTITLEMENT_BUY_IN_IND07</th><th scope=col>ENTITLEMENT_BUY_IN_IND08</th><th scope=col>ENTITLEMENT_BUY_IN_IND09</th><th scope=col>ENTITLEMENT_BUY_IN_IND10</th><th scope=col>ENTITLEMENT_BUY_IN_IND11</th><th scope=col>ENTITLEMENT_BUY_IN_IND12</th><th scope=col>HMO_INDICATOR01</th><th scope=col>HMO_INDICATOR02</th><th scope=col>HMO_INDICATOR03</th><th scope=col>HMO_INDICATOR04</th><th scope=col>HMO_INDICATOR05</th><th scope=col>HMO_INDICATOR06</th><th scope=col>HMO_INDICATOR07</th><th scope=col>HMO_INDICATOR08</th><th scope=col>HMO_INDICATOR09</th><th scope=col>HMO_INDICATOR10</th><th scope=col>HMO_INDICATOR11</th><th scope=col>HMO_INDICATOR12</th><th scope=col>VALID_DATE_OF_DEATH_SWITCH</th><th scope=col>DATE_OF_DEATH</th><th scope=col>date_died</th><th scope=col>date_died_valid</th><th scope=col>year_of_death</th><th scope=col>most_common_physician_PRF_PHYSN_NPI</th><th scope=col>most_common_physician_n</th><th scope=col>most_common_physician_PRVDR_SPCLTY</th><th scope=col>most_common_primary_care_physician_PRF_PHYSN_NPI</th><th scope=col>most_common_primary_care_physician_n</th><th scope=col>most_common_primary_care_physician_PRVDR_SPCLTY</th><th scope=col>most_common_physician_in_facility_visits_count</th><th scope=col>most_common_physician_in_all_visits_count</th><th scope=col>most_common_physician_in_facility_non_exclusive_HCPCS_count</th><th scope=col>most_common_physician_in_all_non_exclusive_HCPCS_count</th><th scope=col>most_common_physician_in_facility_count</th><th scope=col>most_common_physician_in_all_count</th><th scope=col>most_common_physician_in_facility_visits_prp</th><th scope=col>most_common_physician_in_facility_non_exclusive_HCPCS_prp</th><th scope=col>most_common_physician_in_facility_prp</th><th scope=col>most_common_primary_care_physician_in_facility_visits_count</th><th scope=col>most_common_primary_care_physician_in_all_visits_count</th><th scope=col>most_common_primary_care_physician_in_facility_non_exclusive_HCPCS_count</th><th scope=col>most_common_primary_care_physician_in_all_non_exclusive_HCPCS_count</th><th scope=col>most_common_primary_care_physician_in_facility_count</th><th scope=col>most_common_primary_care_physician_in_all_count</th><th scope=col>most_common_primary_care_physician_in_facility_visits_prp</th><th scope=col>most_common_primary_care_physician_in_facility_non_exclusive_HCPCS_prp</th><th scope=col>most_common_primary_care_physician_in_facility_prp</th><th scope=col>RUCC_2013</th><th scope=col>race</th><th scope=col>sex</th><th scope=col>age_group</th><th scope=col>urban</th><th scope=col>HMO_INDICATOR_sum</th><th scope=col>ENTITLEMENT_BUY_IN_IND_sum</th><th scope=col>months_alive</th><th scope=col>number_of_conditions</th><th scope=col>viclaims</th><th scope=col>vikeyword</th><th scope=col>tin1_nu</th><th scope=col>tin1_legal_name</th><th scope=col>tin2_nu</th><th scope=col>tin2_legal_name</th><th scope=col>name_last</th><th scope=col>name_first</th><th scope=col>name_middle</th><th scope=col>SPEC_PRIM_1_NAME</th><th scope=col>SPEC_PRIM_1</th><th scope=col>SPEC_BROAD</th><th scope=col>SEX</th><th scope=col>SPEC_PRIM_2</th><th scope=col>SPEC_PRIM_2_NAME</th><th scope=col>SPEC_SOURCE</th><th scope=col>SPEC_SOURCE_HOSP</th><th scope=col>POS_OFFICE</th><th scope=col>POS_INPAT</th><th scope=col>POS_OPD</th><th scope=col>POS_ER</th><th scope=col>POS_NURSING</th><th scope=col>POS_ASC</th><th scope=col>POS_RESID</th><th scope=col>POS_RETAIL</th><th scope=col>POS_URGENT</th><th scope=col>POS_OTHER</th><th scope=col>STATE</th><th scope=col>STATE_MULTI</th><th scope=col>CBSA_TYPE</th><th scope=col>CBSA_CD</th><th scope=col>CBSA_NAME</th><th scope=col>CBSA_MULTI</th><th scope=col>NPI_SRVC_LINES</th><th scope=col>NPI_ALLOWED_AMT</th><th scope=col>NPI_UNQ_BENES</th><th scope=col>TIN1_SRVC_MONTH</th><th scope=col>TIN1_SRVC_LINES</th><th scope=col>TIN1_ALLOWED_AMT</th><th scope=col>TIN1_UNQ_BENES</th><th scope=col>TIN2_SRVC_MONTH</th><th scope=col>TIN2_SRVC_LINES</th><th scope=col>TIN2_ALLOWED_AMT</th><th scope=col>TIN2_UNQ_BENES</th><th scope=col>BIRTH_YR</th><th scope=col>lns_office</th><th scope=col>lns_opd</th><th scope=col>most_common_primary_care_physician_integrated</th><th scope=col>most_common_primary_care_physician_integration_change</th><th scope=col>most_common_primary_care_physician_sum_integration_changes</th><th scope=col>most_common_primary_care_physician_integrated_once_and_stayed</th><th scope=col>most_common_primary_care_physician_year_integrated</th><th scope=col>most_common_primary_care_physician_years_from_integration</th><th scope=col>most_common_primary_care_physician_changed</th></tr>\n",
       "\t<tr><th scope=col>&lt;int&gt;</th><th scope=col>&lt;dbl&gt;</th><th scope=col>&lt;int&gt;</th><th scope=col>&lt;int&gt;</th><th scope=col>&lt;lgl&gt;</th><th scope=col>&lt;lgl&gt;</th><th scope=col>&lt;lgl&gt;</th><th scope=col>&lt;lgl&gt;</th><th scope=col>&lt;lgl&gt;</th><th scope=col>&lt;lgl&gt;</th><th scope=col>&lt;lgl&gt;</th><th scope=col>&lt;dbl&gt;</th><th scope=col>&lt;chr&gt;</th><th scope=col>&lt;chr&gt;</th><th scope=col>&lt;int&gt;</th><th scope=col>&lt;int&gt;</th><th scope=col>&lt;dbl&gt;</th><th scope=col>&lt;dbl&gt;</th><th scope=col>&lt;dbl&gt;</th><th scope=col>&lt;chr&gt;</th><th scope=col>&lt;chr&gt;</th><th scope=col>&lt;chr&gt;</th><th scope=col>&lt;chr&gt;</th><th scope=col>&lt;chr&gt;</th><th scope=col>&lt;chr&gt;</th><th scope=col>&lt;chr&gt;</th><th scope=col>&lt;chr&gt;</th><th scope=col>&lt;chr&gt;</th><th scope=col>&lt;chr&gt;</th><th scope=col>&lt;chr&gt;</th><th scope=col>&lt;chr&gt;</th><th scope=col>&lt;chr&gt;</th><th scope=col>&lt;chr&gt;</th><th scope=col>&lt;chr&gt;</th><th scope=col>&lt;chr&gt;</th><th scope=col>&lt;chr&gt;</th><th scope=col>&lt;chr&gt;</th><th scope=col>&lt;chr&gt;</th><th scope=col>&lt;chr&gt;</th><th scope=col>&lt;chr&gt;</th><th scope=col>&lt;chr&gt;</th><th scope=col>&lt;chr&gt;</th><th scope=col>&lt;chr&gt;</th><th scope=col>&lt;chr&gt;</th><th scope=col>&lt;dbl&gt;</th><th scope=col>&lt;dbl&gt;</th><th scope=col>&lt;chr&gt;</th><th scope=col>&lt;chr&gt;</th><th scope=col>&lt;chr&gt;</th><th scope=col>&lt;int&gt;</th><th scope=col>&lt;chr&gt;</th><th scope=col>&lt;chr&gt;</th><th scope=col>&lt;int&gt;</th><th scope=col>&lt;chr&gt;</th><th scope=col>&lt;int&gt;</th><th scope=col>&lt;int&gt;</th><th scope=col>&lt;int&gt;</th><th scope=col>&lt;int&gt;</th><th scope=col>&lt;int&gt;</th><th scope=col>&lt;int&gt;</th><th scope=col>&lt;dbl&gt;</th><th scope=col>&lt;dbl&gt;</th><th scope=col>&lt;dbl&gt;</th><th scope=col>&lt;int&gt;</th><th scope=col>&lt;int&gt;</th><th scope=col>&lt;int&gt;</th><th scope=col>&lt;int&gt;</th><th scope=col>&lt;int&gt;</th><th scope=col>&lt;int&gt;</th><th scope=col>&lt;dbl&gt;</th><th scope=col>&lt;dbl&gt;</th><th scope=col>&lt;dbl&gt;</th><th scope=col>&lt;dbl&gt;</th><th scope=col>&lt;chr&gt;</th><th scope=col>&lt;chr&gt;</th><th scope=col>&lt;chr&gt;</th><th scope=col>&lt;lgl&gt;</th><th scope=col>&lt;int&gt;</th><th scope=col>&lt;int&gt;</th><th scope=col>&lt;dbl&gt;</th><th scope=col>&lt;int&gt;</th><th scope=col>&lt;dbl&gt;</th><th scope=col>&lt;dbl&gt;</th><th scope=col>&lt;chr&gt;</th><th scope=col>&lt;chr&gt;</th><th scope=col>&lt;chr&gt;</th><th scope=col>&lt;chr&gt;</th><th scope=col>&lt;chr&gt;</th><th scope=col>&lt;chr&gt;</th><th scope=col>&lt;chr&gt;</th><th scope=col>&lt;chr&gt;</th><th scope=col>&lt;chr&gt;</th><th scope=col>&lt;dbl&gt;</th><th scope=col>&lt;chr&gt;</th><th scope=col>&lt;chr&gt;</th><th scope=col>&lt;chr&gt;</th><th scope=col>&lt;dbl&gt;</th><th scope=col>&lt;dbl&gt;</th><th scope=col>&lt;dbl&gt;</th><th scope=col>&lt;dbl&gt;</th><th scope=col>&lt;dbl&gt;</th><th scope=col>&lt;dbl&gt;</th><th scope=col>&lt;dbl&gt;</th><th scope=col>&lt;dbl&gt;</th><th scope=col>&lt;dbl&gt;</th><th scope=col>&lt;dbl&gt;</th><th scope=col>&lt;dbl&gt;</th><th scope=col>&lt;dbl&gt;</th><th scope=col>&lt;chr&gt;</th><th scope=col>&lt;dbl&gt;</th><th scope=col>&lt;dbl&gt;</th><th scope=col>&lt;chr&gt;</th><th scope=col>&lt;chr&gt;</th><th scope=col>&lt;dbl&gt;</th><th scope=col>&lt;dbl&gt;</th><th scope=col>&lt;dbl&gt;</th><th scope=col>&lt;dbl&gt;</th><th scope=col>&lt;chr&gt;</th><th scope=col>&lt;dbl&gt;</th><th scope=col>&lt;dbl&gt;</th><th scope=col>&lt;dbl&gt;</th><th scope=col>&lt;chr&gt;</th><th scope=col>&lt;dbl&gt;</th><th scope=col>&lt;dbl&gt;</th><th scope=col>&lt;dbl&gt;</th><th scope=col>&lt;dbl&gt;</th><th scope=col>&lt;dbl&gt;</th><th scope=col>&lt;dbl&gt;</th><th scope=col>&lt;lgl&gt;</th><th scope=col>&lt;chr&gt;</th><th scope=col>&lt;int&gt;</th><th scope=col>&lt;lgl&gt;</th><th scope=col>&lt;dbl&gt;</th><th scope=col>&lt;dbl&gt;</th><th scope=col>&lt;lgl&gt;</th></tr>\n",
       "</thead>\n",
       "<tbody>\n",
       "\t<tr><td>100005325</td><td>2013</td><td>10</td><td>3</td><td>FALSE</td><td>FALSE</td><td>FALSE</td><td>FALSE</td><td>FALSE</td><td>TRUE</td><td>FALSE</td><td>13</td><td>20</td><td>140</td><td>2</td><td>1</td><td>76</td><td>0</td><td>0</td><td>C</td><td>C</td><td>3</td><td>3</td><td>3</td><td>3</td><td>3</td><td>3</td><td>3</td><td>3</td><td>3</td><td>3</td><td>0</td><td>0</td><td>0</td><td>0</td><td>0</td><td>0</td><td>0</td><td>0</td><td>0</td><td>0</td><td>0</td><td>0</td><td>V</td><td>20140125</td><td>20140125</td><td>V</td><td>2014</td><td>1578594818</td><td>14</td><td>11</td><td>1578594818</td><td>14</td><td>11</td><td>1</td><td>163</td><td>36</td><td>199</td><td>46</td><td>384</td><td>0.006134969</td><td>0.1809045</td><td>0.11979167</td><td>1</td><td>163</td><td>36</td><td>199</td><td>46</td><td>384</td><td>0.006134969</td><td>0.1809045</td><td>0.11979167</td><td>7</td><td>White</td><td>Female</td><td>75-84</td><td>FALSE</td><td>12</td><td>12</td><td>1</td><td>0</td><td>0</td><td>0</td><td>NU00000855</td><td>                        </td><td>          </td><td></td><td>WILKINSON</td><td>PETER</td><td>SCOTT</td><td>Internal Medicine</td><td>11</td><td>1</td><td>M</td><td></td><td>NONE</td><td>1</td><td>NA</td><td>0.6187884</td><td>0.06270705</td><td>0.1299101</td><td>0.1488405</td><td>0.01964032</td><td>0</td><td>0.02011358</td><td>0</td><td>0</td><td>0</td><td>ME</td><td>0</td><td>3</td><td>00000</td><td>Non-CBSA</td><td>0</td><td>4226</td><td>211012.7</td><td>1025</td><td>111111111111</td><td>4226</td><td>211012.7</td><td>1025</td><td>            </td><td> NA</td><td>      NA</td><td> NA</td><td>1954</td><td>2615</td><td>549</td><td>FALSE</td><td>remained_independent</td><td>1</td><td>TRUE</td><td>2014</td><td>-1</td><td>FALSE</td></tr>\n",
       "\t<tr><td>100005325</td><td>2014</td><td>13</td><td>2</td><td>FALSE</td><td>FALSE</td><td>FALSE</td><td>FALSE</td><td>FALSE</td><td>TRUE</td><td>FALSE</td><td>14</td><td>20</td><td>140</td><td>2</td><td>1</td><td>77</td><td>0</td><td>0</td><td>3</td><td>0</td><td>0</td><td>0</td><td>0</td><td>0</td><td>0</td><td>0</td><td>0</td><td>0</td><td>0</td><td>0</td><td>0</td><td>0</td><td>0</td><td>0</td><td>0</td><td>0</td><td>0</td><td>0</td><td>0</td><td>0</td><td>0</td><td>0</td><td>V</td><td>20140125</td><td>20140125</td><td>V</td><td>2014</td><td>1578594818</td><td> 1</td><td>11</td><td>1578594818</td><td> 1</td><td>11</td><td>0</td><td>132</td><td>26</td><td>163</td><td>26</td><td>290</td><td>0.000000000</td><td>0.1595092</td><td>0.08965517</td><td>0</td><td>132</td><td>26</td><td>163</td><td>26</td><td>290</td><td>0.000000000</td><td>0.1595092</td><td>0.08965517</td><td>7</td><td>White</td><td>Female</td><td>75-84</td><td>FALSE</td><td>12</td><td> 1</td><td>1</td><td>0</td><td>0</td><td>1</td><td>NU00001193</td><td>CALAIS REGIONAL HOSPITAL</td><td>NU00000855</td><td></td><td>WILKINSON</td><td>PETER</td><td>SCOTT</td><td>Internal Medicine</td><td>11</td><td>1</td><td>M</td><td></td><td>NONE</td><td>1</td><td>NA</td><td>0.5780469</td><td>0.07028165</td><td>0.1437220</td><td>0.1742564</td><td>0.01842590</td><td>0</td><td>0.01526718</td><td>0</td><td>0</td><td>0</td><td>ME</td><td>0</td><td>3</td><td>00000</td><td>Non-CBSA</td><td>0</td><td>3799</td><td>178283.0</td><td>1067</td><td>001111111111</td><td>3222</td><td>150554.4</td><td> 984</td><td>110000000000</td><td>577</td><td>27728.66</td><td>380</td><td>1954</td><td>2196</td><td>546</td><td> TRUE</td><td>newly_integrated    </td><td>1</td><td>TRUE</td><td>2014</td><td> 0</td><td>FALSE</td></tr>\n",
       "</tbody>\n",
       "</table>\n"
      ],
      "text/latex": [
       "A data.table: 2 × 135\n",
       "\\begin{tabular}{lllllllllllllllllllllllllllllllllllllllllllllllllllllllllllllllllllllllllllllllllllllllllllllllllllllllllllllllllllllllllllllllllllllll}\n",
       " DESY\\_SORT\\_KEY & year & distinct\\_clinicians & distinct\\_primary\\_care\\_physicians & hypertension & arthritis & IHD & diabetes & depression & icd\\_9\\_pure & icd\\_10\\_pure & REFERENCE\\_YEAR & STATE\\_CODE & COUNTY\\_CODE & SEX\\_CODE & RACE\\_CODE & AGE & ORIG\\_REASON\\_FOR\\_ENTITLEMENT & CURR\\_REASON\\_FOR\\_ENTITLEMENT & ENTITLEMENT\\_BUY\\_IN\\_IND01 & ENTITLEMENT\\_BUY\\_IN\\_IND02 & ENTITLEMENT\\_BUY\\_IN\\_IND03 & ENTITLEMENT\\_BUY\\_IN\\_IND04 & ENTITLEMENT\\_BUY\\_IN\\_IND05 & ENTITLEMENT\\_BUY\\_IN\\_IND06 & ENTITLEMENT\\_BUY\\_IN\\_IND07 & ENTITLEMENT\\_BUY\\_IN\\_IND08 & ENTITLEMENT\\_BUY\\_IN\\_IND09 & ENTITLEMENT\\_BUY\\_IN\\_IND10 & ENTITLEMENT\\_BUY\\_IN\\_IND11 & ENTITLEMENT\\_BUY\\_IN\\_IND12 & HMO\\_INDICATOR01 & HMO\\_INDICATOR02 & HMO\\_INDICATOR03 & HMO\\_INDICATOR04 & HMO\\_INDICATOR05 & HMO\\_INDICATOR06 & HMO\\_INDICATOR07 & HMO\\_INDICATOR08 & HMO\\_INDICATOR09 & HMO\\_INDICATOR10 & HMO\\_INDICATOR11 & HMO\\_INDICATOR12 & VALID\\_DATE\\_OF\\_DEATH\\_SWITCH & DATE\\_OF\\_DEATH & date\\_died & date\\_died\\_valid & year\\_of\\_death & most\\_common\\_physician\\_PRF\\_PHYSN\\_NPI & most\\_common\\_physician\\_n & most\\_common\\_physician\\_PRVDR\\_SPCLTY & most\\_common\\_primary\\_care\\_physician\\_PRF\\_PHYSN\\_NPI & most\\_common\\_primary\\_care\\_physician\\_n & most\\_common\\_primary\\_care\\_physician\\_PRVDR\\_SPCLTY & most\\_common\\_physician\\_in\\_facility\\_visits\\_count & most\\_common\\_physician\\_in\\_all\\_visits\\_count & most\\_common\\_physician\\_in\\_facility\\_non\\_exclusive\\_HCPCS\\_count & most\\_common\\_physician\\_in\\_all\\_non\\_exclusive\\_HCPCS\\_count & most\\_common\\_physician\\_in\\_facility\\_count & most\\_common\\_physician\\_in\\_all\\_count & most\\_common\\_physician\\_in\\_facility\\_visits\\_prp & most\\_common\\_physician\\_in\\_facility\\_non\\_exclusive\\_HCPCS\\_prp & most\\_common\\_physician\\_in\\_facility\\_prp & most\\_common\\_primary\\_care\\_physician\\_in\\_facility\\_visits\\_count & most\\_common\\_primary\\_care\\_physician\\_in\\_all\\_visits\\_count & most\\_common\\_primary\\_care\\_physician\\_in\\_facility\\_non\\_exclusive\\_HCPCS\\_count & most\\_common\\_primary\\_care\\_physician\\_in\\_all\\_non\\_exclusive\\_HCPCS\\_count & most\\_common\\_primary\\_care\\_physician\\_in\\_facility\\_count & most\\_common\\_primary\\_care\\_physician\\_in\\_all\\_count & most\\_common\\_primary\\_care\\_physician\\_in\\_facility\\_visits\\_prp & most\\_common\\_primary\\_care\\_physician\\_in\\_facility\\_non\\_exclusive\\_HCPCS\\_prp & most\\_common\\_primary\\_care\\_physician\\_in\\_facility\\_prp & RUCC\\_2013 & race & sex & age\\_group & urban & HMO\\_INDICATOR\\_sum & ENTITLEMENT\\_BUY\\_IN\\_IND\\_sum & months\\_alive & number\\_of\\_conditions & viclaims & vikeyword & tin1\\_nu & tin1\\_legal\\_name & tin2\\_nu & tin2\\_legal\\_name & name\\_last & name\\_first & name\\_middle & SPEC\\_PRIM\\_1\\_NAME & SPEC\\_PRIM\\_1 & SPEC\\_BROAD & SEX & SPEC\\_PRIM\\_2 & SPEC\\_PRIM\\_2\\_NAME & SPEC\\_SOURCE & SPEC\\_SOURCE\\_HOSP & POS\\_OFFICE & POS\\_INPAT & POS\\_OPD & POS\\_ER & POS\\_NURSING & POS\\_ASC & POS\\_RESID & POS\\_RETAIL & POS\\_URGENT & POS\\_OTHER & STATE & STATE\\_MULTI & CBSA\\_TYPE & CBSA\\_CD & CBSA\\_NAME & CBSA\\_MULTI & NPI\\_SRVC\\_LINES & NPI\\_ALLOWED\\_AMT & NPI\\_UNQ\\_BENES & TIN1\\_SRVC\\_MONTH & TIN1\\_SRVC\\_LINES & TIN1\\_ALLOWED\\_AMT & TIN1\\_UNQ\\_BENES & TIN2\\_SRVC\\_MONTH & TIN2\\_SRVC\\_LINES & TIN2\\_ALLOWED\\_AMT & TIN2\\_UNQ\\_BENES & BIRTH\\_YR & lns\\_office & lns\\_opd & most\\_common\\_primary\\_care\\_physician\\_integrated & most\\_common\\_primary\\_care\\_physician\\_integration\\_change & most\\_common\\_primary\\_care\\_physician\\_sum\\_integration\\_changes & most\\_common\\_primary\\_care\\_physician\\_integrated\\_once\\_and\\_stayed & most\\_common\\_primary\\_care\\_physician\\_year\\_integrated & most\\_common\\_primary\\_care\\_physician\\_years\\_from\\_integration & most\\_common\\_primary\\_care\\_physician\\_changed\\\\\n",
       " <int> & <dbl> & <int> & <int> & <lgl> & <lgl> & <lgl> & <lgl> & <lgl> & <lgl> & <lgl> & <dbl> & <chr> & <chr> & <int> & <int> & <dbl> & <dbl> & <dbl> & <chr> & <chr> & <chr> & <chr> & <chr> & <chr> & <chr> & <chr> & <chr> & <chr> & <chr> & <chr> & <chr> & <chr> & <chr> & <chr> & <chr> & <chr> & <chr> & <chr> & <chr> & <chr> & <chr> & <chr> & <chr> & <dbl> & <dbl> & <chr> & <chr> & <chr> & <int> & <chr> & <chr> & <int> & <chr> & <int> & <int> & <int> & <int> & <int> & <int> & <dbl> & <dbl> & <dbl> & <int> & <int> & <int> & <int> & <int> & <int> & <dbl> & <dbl> & <dbl> & <dbl> & <chr> & <chr> & <chr> & <lgl> & <int> & <int> & <dbl> & <int> & <dbl> & <dbl> & <chr> & <chr> & <chr> & <chr> & <chr> & <chr> & <chr> & <chr> & <chr> & <dbl> & <chr> & <chr> & <chr> & <dbl> & <dbl> & <dbl> & <dbl> & <dbl> & <dbl> & <dbl> & <dbl> & <dbl> & <dbl> & <dbl> & <dbl> & <chr> & <dbl> & <dbl> & <chr> & <chr> & <dbl> & <dbl> & <dbl> & <dbl> & <chr> & <dbl> & <dbl> & <dbl> & <chr> & <dbl> & <dbl> & <dbl> & <dbl> & <dbl> & <dbl> & <lgl> & <chr> & <int> & <lgl> & <dbl> & <dbl> & <lgl>\\\\\n",
       "\\hline\n",
       "\t 100005325 & 2013 & 10 & 3 & FALSE & FALSE & FALSE & FALSE & FALSE & TRUE & FALSE & 13 & 20 & 140 & 2 & 1 & 76 & 0 & 0 & C & C & 3 & 3 & 3 & 3 & 3 & 3 & 3 & 3 & 3 & 3 & 0 & 0 & 0 & 0 & 0 & 0 & 0 & 0 & 0 & 0 & 0 & 0 & V & 20140125 & 20140125 & V & 2014 & 1578594818 & 14 & 11 & 1578594818 & 14 & 11 & 1 & 163 & 36 & 199 & 46 & 384 & 0.006134969 & 0.1809045 & 0.11979167 & 1 & 163 & 36 & 199 & 46 & 384 & 0.006134969 & 0.1809045 & 0.11979167 & 7 & White & Female & 75-84 & FALSE & 12 & 12 & 1 & 0 & 0 & 0 & NU00000855 &                          &            &  & WILKINSON & PETER & SCOTT & Internal Medicine & 11 & 1 & M &  & NONE & 1 & NA & 0.6187884 & 0.06270705 & 0.1299101 & 0.1488405 & 0.01964032 & 0 & 0.02011358 & 0 & 0 & 0 & ME & 0 & 3 & 00000 & Non-CBSA & 0 & 4226 & 211012.7 & 1025 & 111111111111 & 4226 & 211012.7 & 1025 &              &  NA &       NA &  NA & 1954 & 2615 & 549 & FALSE & remained\\_independent & 1 & TRUE & 2014 & -1 & FALSE\\\\\n",
       "\t 100005325 & 2014 & 13 & 2 & FALSE & FALSE & FALSE & FALSE & FALSE & TRUE & FALSE & 14 & 20 & 140 & 2 & 1 & 77 & 0 & 0 & 3 & 0 & 0 & 0 & 0 & 0 & 0 & 0 & 0 & 0 & 0 & 0 & 0 & 0 & 0 & 0 & 0 & 0 & 0 & 0 & 0 & 0 & 0 & 0 & V & 20140125 & 20140125 & V & 2014 & 1578594818 &  1 & 11 & 1578594818 &  1 & 11 & 0 & 132 & 26 & 163 & 26 & 290 & 0.000000000 & 0.1595092 & 0.08965517 & 0 & 132 & 26 & 163 & 26 & 290 & 0.000000000 & 0.1595092 & 0.08965517 & 7 & White & Female & 75-84 & FALSE & 12 &  1 & 1 & 0 & 0 & 1 & NU00001193 & CALAIS REGIONAL HOSPITAL & NU00000855 &  & WILKINSON & PETER & SCOTT & Internal Medicine & 11 & 1 & M &  & NONE & 1 & NA & 0.5780469 & 0.07028165 & 0.1437220 & 0.1742564 & 0.01842590 & 0 & 0.01526718 & 0 & 0 & 0 & ME & 0 & 3 & 00000 & Non-CBSA & 0 & 3799 & 178283.0 & 1067 & 001111111111 & 3222 & 150554.4 &  984 & 110000000000 & 577 & 27728.66 & 380 & 1954 & 2196 & 546 &  TRUE & newly\\_integrated     & 1 & TRUE & 2014 &  0 & FALSE\\\\\n",
       "\\end{tabular}\n"
      ],
      "text/markdown": [
       "\n",
       "A data.table: 2 × 135\n",
       "\n",
       "| DESY_SORT_KEY &lt;int&gt; | year &lt;dbl&gt; | distinct_clinicians &lt;int&gt; | distinct_primary_care_physicians &lt;int&gt; | hypertension &lt;lgl&gt; | arthritis &lt;lgl&gt; | IHD &lt;lgl&gt; | diabetes &lt;lgl&gt; | depression &lt;lgl&gt; | icd_9_pure &lt;lgl&gt; | icd_10_pure &lt;lgl&gt; | REFERENCE_YEAR &lt;dbl&gt; | STATE_CODE &lt;chr&gt; | COUNTY_CODE &lt;chr&gt; | SEX_CODE &lt;int&gt; | RACE_CODE &lt;int&gt; | AGE &lt;dbl&gt; | ORIG_REASON_FOR_ENTITLEMENT &lt;dbl&gt; | CURR_REASON_FOR_ENTITLEMENT &lt;dbl&gt; | ENTITLEMENT_BUY_IN_IND01 &lt;chr&gt; | ENTITLEMENT_BUY_IN_IND02 &lt;chr&gt; | ENTITLEMENT_BUY_IN_IND03 &lt;chr&gt; | ENTITLEMENT_BUY_IN_IND04 &lt;chr&gt; | ENTITLEMENT_BUY_IN_IND05 &lt;chr&gt; | ENTITLEMENT_BUY_IN_IND06 &lt;chr&gt; | ENTITLEMENT_BUY_IN_IND07 &lt;chr&gt; | ENTITLEMENT_BUY_IN_IND08 &lt;chr&gt; | ENTITLEMENT_BUY_IN_IND09 &lt;chr&gt; | ENTITLEMENT_BUY_IN_IND10 &lt;chr&gt; | ENTITLEMENT_BUY_IN_IND11 &lt;chr&gt; | ENTITLEMENT_BUY_IN_IND12 &lt;chr&gt; | HMO_INDICATOR01 &lt;chr&gt; | HMO_INDICATOR02 &lt;chr&gt; | HMO_INDICATOR03 &lt;chr&gt; | HMO_INDICATOR04 &lt;chr&gt; | HMO_INDICATOR05 &lt;chr&gt; | HMO_INDICATOR06 &lt;chr&gt; | HMO_INDICATOR07 &lt;chr&gt; | HMO_INDICATOR08 &lt;chr&gt; | HMO_INDICATOR09 &lt;chr&gt; | HMO_INDICATOR10 &lt;chr&gt; | HMO_INDICATOR11 &lt;chr&gt; | HMO_INDICATOR12 &lt;chr&gt; | VALID_DATE_OF_DEATH_SWITCH &lt;chr&gt; | DATE_OF_DEATH &lt;dbl&gt; | date_died &lt;dbl&gt; | date_died_valid &lt;chr&gt; | year_of_death &lt;chr&gt; | most_common_physician_PRF_PHYSN_NPI &lt;chr&gt; | most_common_physician_n &lt;int&gt; | most_common_physician_PRVDR_SPCLTY &lt;chr&gt; | most_common_primary_care_physician_PRF_PHYSN_NPI &lt;chr&gt; | most_common_primary_care_physician_n &lt;int&gt; | most_common_primary_care_physician_PRVDR_SPCLTY &lt;chr&gt; | most_common_physician_in_facility_visits_count &lt;int&gt; | most_common_physician_in_all_visits_count &lt;int&gt; | most_common_physician_in_facility_non_exclusive_HCPCS_count &lt;int&gt; | most_common_physician_in_all_non_exclusive_HCPCS_count &lt;int&gt; | most_common_physician_in_facility_count &lt;int&gt; | most_common_physician_in_all_count &lt;int&gt; | most_common_physician_in_facility_visits_prp &lt;dbl&gt; | most_common_physician_in_facility_non_exclusive_HCPCS_prp &lt;dbl&gt; | most_common_physician_in_facility_prp &lt;dbl&gt; | most_common_primary_care_physician_in_facility_visits_count &lt;int&gt; | most_common_primary_care_physician_in_all_visits_count &lt;int&gt; | most_common_primary_care_physician_in_facility_non_exclusive_HCPCS_count &lt;int&gt; | most_common_primary_care_physician_in_all_non_exclusive_HCPCS_count &lt;int&gt; | most_common_primary_care_physician_in_facility_count &lt;int&gt; | most_common_primary_care_physician_in_all_count &lt;int&gt; | most_common_primary_care_physician_in_facility_visits_prp &lt;dbl&gt; | most_common_primary_care_physician_in_facility_non_exclusive_HCPCS_prp &lt;dbl&gt; | most_common_primary_care_physician_in_facility_prp &lt;dbl&gt; | RUCC_2013 &lt;dbl&gt; | race &lt;chr&gt; | sex &lt;chr&gt; | age_group &lt;chr&gt; | urban &lt;lgl&gt; | HMO_INDICATOR_sum &lt;int&gt; | ENTITLEMENT_BUY_IN_IND_sum &lt;int&gt; | months_alive &lt;dbl&gt; | number_of_conditions &lt;int&gt; | viclaims &lt;dbl&gt; | vikeyword &lt;dbl&gt; | tin1_nu &lt;chr&gt; | tin1_legal_name &lt;chr&gt; | tin2_nu &lt;chr&gt; | tin2_legal_name &lt;chr&gt; | name_last &lt;chr&gt; | name_first &lt;chr&gt; | name_middle &lt;chr&gt; | SPEC_PRIM_1_NAME &lt;chr&gt; | SPEC_PRIM_1 &lt;chr&gt; | SPEC_BROAD &lt;dbl&gt; | SEX &lt;chr&gt; | SPEC_PRIM_2 &lt;chr&gt; | SPEC_PRIM_2_NAME &lt;chr&gt; | SPEC_SOURCE &lt;dbl&gt; | SPEC_SOURCE_HOSP &lt;dbl&gt; | POS_OFFICE &lt;dbl&gt; | POS_INPAT &lt;dbl&gt; | POS_OPD &lt;dbl&gt; | POS_ER &lt;dbl&gt; | POS_NURSING &lt;dbl&gt; | POS_ASC &lt;dbl&gt; | POS_RESID &lt;dbl&gt; | POS_RETAIL &lt;dbl&gt; | POS_URGENT &lt;dbl&gt; | POS_OTHER &lt;dbl&gt; | STATE &lt;chr&gt; | STATE_MULTI &lt;dbl&gt; | CBSA_TYPE &lt;dbl&gt; | CBSA_CD &lt;chr&gt; | CBSA_NAME &lt;chr&gt; | CBSA_MULTI &lt;dbl&gt; | NPI_SRVC_LINES &lt;dbl&gt; | NPI_ALLOWED_AMT &lt;dbl&gt; | NPI_UNQ_BENES &lt;dbl&gt; | TIN1_SRVC_MONTH &lt;chr&gt; | TIN1_SRVC_LINES &lt;dbl&gt; | TIN1_ALLOWED_AMT &lt;dbl&gt; | TIN1_UNQ_BENES &lt;dbl&gt; | TIN2_SRVC_MONTH &lt;chr&gt; | TIN2_SRVC_LINES &lt;dbl&gt; | TIN2_ALLOWED_AMT &lt;dbl&gt; | TIN2_UNQ_BENES &lt;dbl&gt; | BIRTH_YR &lt;dbl&gt; | lns_office &lt;dbl&gt; | lns_opd &lt;dbl&gt; | most_common_primary_care_physician_integrated &lt;lgl&gt; | most_common_primary_care_physician_integration_change &lt;chr&gt; | most_common_primary_care_physician_sum_integration_changes &lt;int&gt; | most_common_primary_care_physician_integrated_once_and_stayed &lt;lgl&gt; | most_common_primary_care_physician_year_integrated &lt;dbl&gt; | most_common_primary_care_physician_years_from_integration &lt;dbl&gt; | most_common_primary_care_physician_changed &lt;lgl&gt; |\n",
       "|---|---|---|---|---|---|---|---|---|---|---|---|---|---|---|---|---|---|---|---|---|---|---|---|---|---|---|---|---|---|---|---|---|---|---|---|---|---|---|---|---|---|---|---|---|---|---|---|---|---|---|---|---|---|---|---|---|---|---|---|---|---|---|---|---|---|---|---|---|---|---|---|---|---|---|---|---|---|---|---|---|---|---|---|---|---|---|---|---|---|---|---|---|---|---|---|---|---|---|---|---|---|---|---|---|---|---|---|---|---|---|---|---|---|---|---|---|---|---|---|---|---|---|---|---|---|---|---|---|---|---|---|---|---|---|\n",
       "| 100005325 | 2013 | 10 | 3 | FALSE | FALSE | FALSE | FALSE | FALSE | TRUE | FALSE | 13 | 20 | 140 | 2 | 1 | 76 | 0 | 0 | C | C | 3 | 3 | 3 | 3 | 3 | 3 | 3 | 3 | 3 | 3 | 0 | 0 | 0 | 0 | 0 | 0 | 0 | 0 | 0 | 0 | 0 | 0 | V | 20140125 | 20140125 | V | 2014 | 1578594818 | 14 | 11 | 1578594818 | 14 | 11 | 1 | 163 | 36 | 199 | 46 | 384 | 0.006134969 | 0.1809045 | 0.11979167 | 1 | 163 | 36 | 199 | 46 | 384 | 0.006134969 | 0.1809045 | 0.11979167 | 7 | White | Female | 75-84 | FALSE | 12 | 12 | 1 | 0 | 0 | 0 | NU00000855 | <!----> | <!----> | <!----> | WILKINSON | PETER | SCOTT | Internal Medicine | 11 | 1 | M | <!----> | NONE | 1 | NA | 0.6187884 | 0.06270705 | 0.1299101 | 0.1488405 | 0.01964032 | 0 | 0.02011358 | 0 | 0 | 0 | ME | 0 | 3 | 00000 | Non-CBSA | 0 | 4226 | 211012.7 | 1025 | 111111111111 | 4226 | 211012.7 | 1025 | <!----> |  NA |       NA |  NA | 1954 | 2615 | 549 | FALSE | remained_independent | 1 | TRUE | 2014 | -1 | FALSE |\n",
       "| 100005325 | 2014 | 13 | 2 | FALSE | FALSE | FALSE | FALSE | FALSE | TRUE | FALSE | 14 | 20 | 140 | 2 | 1 | 77 | 0 | 0 | 3 | 0 | 0 | 0 | 0 | 0 | 0 | 0 | 0 | 0 | 0 | 0 | 0 | 0 | 0 | 0 | 0 | 0 | 0 | 0 | 0 | 0 | 0 | 0 | V | 20140125 | 20140125 | V | 2014 | 1578594818 |  1 | 11 | 1578594818 |  1 | 11 | 0 | 132 | 26 | 163 | 26 | 290 | 0.000000000 | 0.1595092 | 0.08965517 | 0 | 132 | 26 | 163 | 26 | 290 | 0.000000000 | 0.1595092 | 0.08965517 | 7 | White | Female | 75-84 | FALSE | 12 |  1 | 1 | 0 | 0 | 1 | NU00001193 | CALAIS REGIONAL HOSPITAL | NU00000855 | <!----> | WILKINSON | PETER | SCOTT | Internal Medicine | 11 | 1 | M | <!----> | NONE | 1 | NA | 0.5780469 | 0.07028165 | 0.1437220 | 0.1742564 | 0.01842590 | 0 | 0.01526718 | 0 | 0 | 0 | ME | 0 | 3 | 00000 | Non-CBSA | 0 | 3799 | 178283.0 | 1067 | 001111111111 | 3222 | 150554.4 |  984 | 110000000000 | 577 | 27728.66 | 380 | 1954 | 2196 | 546 |  TRUE | newly_integrated     | 1 | TRUE | 2014 |  0 | FALSE |\n",
       "\n"
      ],
      "text/plain": [
       "  DESY_SORT_KEY year distinct_clinicians distinct_primary_care_physicians hypertension arthritis IHD   diabetes depression icd_9_pure icd_10_pure REFERENCE_YEAR STATE_CODE COUNTY_CODE SEX_CODE RACE_CODE AGE ORIG_REASON_FOR_ENTITLEMENT CURR_REASON_FOR_ENTITLEMENT ENTITLEMENT_BUY_IN_IND01\n",
       "1 100005325     2013 10                  3                                FALSE        FALSE     FALSE FALSE    FALSE      TRUE       FALSE       13             20         140         2        1         76  0                           0                           C                       \n",
       "2 100005325     2014 13                  2                                FALSE        FALSE     FALSE FALSE    FALSE      TRUE       FALSE       14             20         140         2        1         77  0                           0                           3                       \n",
       "  ENTITLEMENT_BUY_IN_IND02 ENTITLEMENT_BUY_IN_IND03 ENTITLEMENT_BUY_IN_IND04 ENTITLEMENT_BUY_IN_IND05 ENTITLEMENT_BUY_IN_IND06 ENTITLEMENT_BUY_IN_IND07 ENTITLEMENT_BUY_IN_IND08 ENTITLEMENT_BUY_IN_IND09 ENTITLEMENT_BUY_IN_IND10 ENTITLEMENT_BUY_IN_IND11 ENTITLEMENT_BUY_IN_IND12 HMO_INDICATOR01\n",
       "1 C                        3                        3                        3                        3                        3                        3                        3                        3                        3                        3                        0              \n",
       "2 0                        0                        0                        0                        0                        0                        0                        0                        0                        0                        0                        0              \n",
       "  HMO_INDICATOR02 HMO_INDICATOR03 HMO_INDICATOR04 HMO_INDICATOR05 HMO_INDICATOR06 HMO_INDICATOR07 HMO_INDICATOR08 HMO_INDICATOR09 HMO_INDICATOR10 HMO_INDICATOR11 HMO_INDICATOR12 VALID_DATE_OF_DEATH_SWITCH DATE_OF_DEATH date_died date_died_valid year_of_death most_common_physician_PRF_PHYSN_NPI\n",
       "1 0               0               0               0               0               0               0               0               0               0               0               V                          20140125      20140125  V               2014          1578594818                         \n",
       "2 0               0               0               0               0               0               0               0               0               0               0               V                          20140125      20140125  V               2014          1578594818                         \n",
       "  most_common_physician_n most_common_physician_PRVDR_SPCLTY most_common_primary_care_physician_PRF_PHYSN_NPI most_common_primary_care_physician_n most_common_primary_care_physician_PRVDR_SPCLTY most_common_physician_in_facility_visits_count most_common_physician_in_all_visits_count\n",
       "1 14                      11                                 1578594818                                       14                                   11                                              1                                              163                                      \n",
       "2  1                      11                                 1578594818                                        1                                   11                                              0                                              132                                      \n",
       "  most_common_physician_in_facility_non_exclusive_HCPCS_count most_common_physician_in_all_non_exclusive_HCPCS_count most_common_physician_in_facility_count most_common_physician_in_all_count most_common_physician_in_facility_visits_prp most_common_physician_in_facility_non_exclusive_HCPCS_prp\n",
       "1 36                                                          199                                                    46                                      384                                0.006134969                                  0.1809045                                                \n",
       "2 26                                                          163                                                    26                                      290                                0.000000000                                  0.1595092                                                \n",
       "  most_common_physician_in_facility_prp most_common_primary_care_physician_in_facility_visits_count most_common_primary_care_physician_in_all_visits_count most_common_primary_care_physician_in_facility_non_exclusive_HCPCS_count most_common_primary_care_physician_in_all_non_exclusive_HCPCS_count\n",
       "1 0.11979167                            1                                                           163                                                    36                                                                       199                                                                \n",
       "2 0.08965517                            0                                                           132                                                    26                                                                       163                                                                \n",
       "  most_common_primary_care_physician_in_facility_count most_common_primary_care_physician_in_all_count most_common_primary_care_physician_in_facility_visits_prp most_common_primary_care_physician_in_facility_non_exclusive_HCPCS_prp most_common_primary_care_physician_in_facility_prp RUCC_2013 race \n",
       "1 46                                                   384                                             0.006134969                                               0.1809045                                                              0.11979167                                         7         White\n",
       "2 26                                                   290                                             0.000000000                                               0.1595092                                                              0.08965517                                         7         White\n",
       "  sex    age_group urban HMO_INDICATOR_sum ENTITLEMENT_BUY_IN_IND_sum months_alive number_of_conditions viclaims vikeyword tin1_nu    tin1_legal_name          tin2_nu    tin2_legal_name name_last name_first name_middle SPEC_PRIM_1_NAME  SPEC_PRIM_1 SPEC_BROAD SEX SPEC_PRIM_2 SPEC_PRIM_2_NAME\n",
       "1 Female 75-84     FALSE 12                12                         1            0                    0        0         NU00000855                                                     WILKINSON PETER      SCOTT       Internal Medicine 11          1          M               NONE            \n",
       "2 Female 75-84     FALSE 12                 1                         1            0                    0        1         NU00001193 CALAIS REGIONAL HOSPITAL NU00000855                 WILKINSON PETER      SCOTT       Internal Medicine 11          1          M               NONE            \n",
       "  SPEC_SOURCE SPEC_SOURCE_HOSP POS_OFFICE POS_INPAT  POS_OPD   POS_ER    POS_NURSING POS_ASC POS_RESID  POS_RETAIL POS_URGENT POS_OTHER STATE STATE_MULTI CBSA_TYPE CBSA_CD CBSA_NAME CBSA_MULTI NPI_SRVC_LINES NPI_ALLOWED_AMT NPI_UNQ_BENES TIN1_SRVC_MONTH TIN1_SRVC_LINES TIN1_ALLOWED_AMT\n",
       "1 1           NA               0.6187884  0.06270705 0.1299101 0.1488405 0.01964032  0       0.02011358 0          0          0         ME    0           3         00000   Non-CBSA  0          4226           211012.7        1025          111111111111    4226            211012.7        \n",
       "2 1           NA               0.5780469  0.07028165 0.1437220 0.1742564 0.01842590  0       0.01526718 0          0          0         ME    0           3         00000   Non-CBSA  0          3799           178283.0        1067          001111111111    3222            150554.4        \n",
       "  TIN1_UNQ_BENES TIN2_SRVC_MONTH TIN2_SRVC_LINES TIN2_ALLOWED_AMT TIN2_UNQ_BENES BIRTH_YR lns_office lns_opd most_common_primary_care_physician_integrated most_common_primary_care_physician_integration_change most_common_primary_care_physician_sum_integration_changes\n",
       "1 1025                            NA                   NA          NA            1954     2615       549     FALSE                                         remained_independent                                  1                                                         \n",
       "2  984           110000000000    577             27728.66         380            1954     2196       546      TRUE                                         newly_integrated                                      1                                                         \n",
       "  most_common_primary_care_physician_integrated_once_and_stayed most_common_primary_care_physician_year_integrated most_common_primary_care_physician_years_from_integration most_common_primary_care_physician_changed\n",
       "1 TRUE                                                          2014                                               -1                                                        FALSE                                     \n",
       "2 TRUE                                                          2014                                                0                                                        FALSE                                     "
      ]
     },
     "metadata": {},
     "output_type": "display_data"
    }
   ],
   "source": [
    "yearly_calculations[DESY_SORT_KEY == \"100005325\"]"
   ]
  },
  {
   "cell_type": "markdown",
   "id": "e8ae8cbc-6f76-4110-9ff0-3d41e33218a8",
   "metadata": {
    "tags": []
   },
   "source": [
    "## Comparison functions"
   ]
  },
  {
   "cell_type": "code",
   "execution_count": 53,
   "id": "3701f860-08bc-454f-b077-90b636464340",
   "metadata": {},
   "outputs": [],
   "source": [
    "comparator_averages <- function(data) {\n",
    "  require(tidyverse)\n",
    "  require(dtplyr)\n",
    "\n",
    "\n",
    "  result <- data %>%\n",
    "    group_by(most_common_primary_care_physician_integrated) %>%\n",
    "    summarise(\n",
    "      n = n(),\n",
    "      N_distinct_patients = length(unique(DESY_SORT_KEY)),\n",
    "      N_distinct_specialist = length(unique(most_common_primary_care_physician_PRF_PHYSN_NPI)),\n",
    "      Male = mean(sex == \"Male\", na.rm = T),\n",
    "      Female = mean(sex == \"Female\", na.rm = T),\n",
    "      Asian = mean(race == \"Asian\", na.rm = T),\n",
    "      Black = mean(race == \"Black\", na.rm = T),\n",
    "      Hispanic = mean(race == \"Hispanic\", na.rm = T),\n",
    "      North_American_Native = mean(race == \"North American Native\", na.rm = T),\n",
    "      White = mean(race == \"White\", na.rm = T),\n",
    "      Other_race = mean(race == \"Other\", na.rm = T),\n",
    "      avg_age = mean(AGE, na.rm = T),\n",
    "      age_65_74 = mean(na.rm = T, age_group == \"65-74\"),\n",
    "      age_75_84 = mean(na.rm = T, age_group == \"75-84\"),\n",
    "      age_85_plus = mean(na.rm = T, age_group == \"85+\"),\n",
    "\n",
    "      # West=mean(na.rm=T,census_region==\"West\"),\n",
    "      # South=mean(na.rm=T,census_region==\"South\"),\n",
    "      # Northeast=mean(na.rm=T,census_region==\"Northeast\"),\n",
    "      # Midwest=mean(na.rm=T,census_region==\"Midwest\"),\n",
    "\n",
    "      rural_prp = mean(RUCC_2013 > 3, na.rm = T),\n",
    "      urban_prp = mean(RUCC_2013 <= 3, na.rm = T),\n",
    "      hypertension = mean(hypertension, na.rm = T),\n",
    "      arthritis = mean(arthritis, na.rm = T),\n",
    "      IHD = mean(IHD, na.rm = T),\n",
    "      diabetes = mean(diabetes, na.rm = T),\n",
    "      depression = mean(depression, na.rm = T),\n",
    "      two_conditions = mean(number_of_conditions == 2, na.rm = T),\n",
    "      more_than_two_conditions = mean(number_of_conditions > 2, na.rm = T),\n",
    "      #primary_care_physician_integrated =\n",
    "      #  sum(most_common_primary_care_physician_in_facility_non_exclusive_HCPCS_prp >= integration_threshold, na.rm = T) / n(),\n",
    "      #most_common_physician_integrated =\n",
    "      #  sum(most_common_physician_in_facility_non_exclusive_HCPCS_prp >= integration_threshold, na.rm = T) / n()\n",
    "    ) %>%\n",
    "    as.data.table()\n",
    "\n",
    "  return(result)\n",
    "}"
   ]
  },
  {
   "cell_type": "code",
   "execution_count": 52,
   "id": "82b4e720-c0e1-4d96-b97d-9029efaf2a3d",
   "metadata": {},
   "outputs": [],
   "source": [
    "comparator_tests <- function(data) {\n",
    "  require(tidyverse)\n",
    "  require(dtplyr)\n",
    "\n",
    "  result <- data %>%\n",
    "    mutate(\n",
    "      integration_status = most_common_primary_care_physician_integrated\n",
    "        ) %>%\n",
    "    summarise(\n",
    "      Male = chisq.test(sex == \"Male\", integration_status)$p.value,\n",
    "      Female = chisq.test(sex == \"Female\", integration_status)$p.value,\n",
    "      Asian = chisq.test(race == \"Asian\", integration_status)$p.value,\n",
    "      Black = chisq.test(race == \"Black\", integration_status)$p.value,\n",
    "      Hispanic = chisq.test(race == \"Hispanic\", integration_status)$p.value,\n",
    "      North_American_Native = chisq.test(race == \"North American Native\", integration_status)$p.value,\n",
    "      White = chisq.test(race == \"White\", integration_status)$p.value,\n",
    "      Other_race = chisq.test(race == \"Other\", integration_status)$p.value,\n",
    "      avg_age = t.test(AGE ~ integration_status, data = .)$p.value,\n",
    "      age_65_74 = chisq.test(age_group == \"65-74\", integration_status)$p.value,\n",
    "      age_75_84 = chisq.test(age_group == \"75-84\", integration_status)$p.value,\n",
    "      age_85_plus = chisq.test(age_group == \"85+\", integration_status)$p.value,\n",
    "\n",
    "      # West=mean(na.rm=T,census_region==\"West\"),\n",
    "      # South=mean(na.rm=T,census_region==\"South\"),\n",
    "      # Northeast=mean(na.rm=T,census_region==\"Northeast\"),\n",
    "      # Midwest=mean(na.rm=T,census_region==\"Midwest\"),\n",
    "\n",
    "      rural_prp = chisq.test(RUCC_2013 > 3, integration_status)$p.value,\n",
    "      urban_prp = chisq.test(RUCC_2013 <= 3, integration_status)$p.value,\n",
    "      hypertension = chisq.test(hypertension, integration_status)$p.value,\n",
    "      arthritis = chisq.test(arthritis, integration_status)$p.value,\n",
    "      IHD = chisq.test(IHD, integration_status)$p.value,\n",
    "      diabetes = chisq.test(diabetes, integration_status)$p.value,\n",
    "      depression = chisq.test(depression, integration_status)$p.value,\n",
    "      two_conditions = chisq.test(number_of_conditions == 2, integration_status)$p.value,\n",
    "      more_than_two_conditions = chisq.test(number_of_conditions > 2, integration_status)$p.value,\n",
    "    ) %>%\n",
    "    as.data.table()\n",
    "\n",
    "  return(result)\n",
    "}"
   ]
  },
  {
   "cell_type": "code",
   "execution_count": 51,
   "id": "1b3e6409-36d2-4586-9ce9-29282021197c",
   "metadata": {},
   "outputs": [],
   "source": [
    "overall_averages <- function(data) {\n",
    "  require(tidyverse)\n",
    "  require(dtplyr)\n",
    "\n",
    "\n",
    "  result <- data %>%\n",
    "    summarise(\n",
    "      n = n(),\n",
    "      N_distinct_patients = length(unique(DESY_SORT_KEY)),\n",
    "      N_distinct_specialist = length(unique(primary_care_physician_comparisons_test)),\n",
    "      Male = mean(sex == \"Male\", na.rm = T),\n",
    "      Female = mean(sex == \"Female\", na.rm = T),\n",
    "      Asian = mean(race == \"Asian\", na.rm = T),\n",
    "      Black = mean(race == \"Black\", na.rm = T),\n",
    "      Hispanic = mean(race == \"Hispanic\", na.rm = T),\n",
    "      North_American_Native = mean(race == \"North American Native\", na.rm = T),\n",
    "      White = mean(race == \"White\", na.rm = T),\n",
    "      Other_race = mean(race == \"Other\", na.rm = T),\n",
    "      avg_age = mean(AGE, na.rm = T),\n",
    "      age_65_74 = mean(na.rm = T, age_group == \"65-74\"),\n",
    "      age_75_84 = mean(na.rm = T, age_group == \"75-84\"),\n",
    "      age_85_plus = mean(na.rm = T, age_group == \"85+\"),\n",
    "\n",
    "      # West=mean(na.rm=T,census_region==\"West\"),\n",
    "      # South=mean(na.rm=T,census_region==\"South\"),\n",
    "      # Northeast=mean(na.rm=T,census_region==\"Northeast\"),\n",
    "      # Midwest=mean(na.rm=T,census_region==\"Midwest\"),\n",
    "\n",
    "      rural_prp = mean(RUCC_2013 > 3, na.rm = T),\n",
    "      urban_prp = mean(RUCC_2013 <= 3, na.rm = T),\n",
    "      hypertension = mean(hypertension, na.rm = T),\n",
    "      arthritis = mean(arthritis, na.rm = T),\n",
    "      IHD = mean(IHD, na.rm = T),\n",
    "      diabetes = mean(diabetes, na.rm = T),\n",
    "      depression = mean(depression, na.rm = T),\n",
    "      two_conditions = mean(number_of_conditions == 2, na.rm = T),\n",
    "      more_than_two_conditions = mean(number_of_conditions > 2, na.rm = T),\n",
    "      #primary_care_physician_integrated =\n",
    "      #  sum(most_common_primary_care_physician_in_facility_non_exclusive_HCPCS_prp >= integration_threshold, na.rm = T) / n(),\n",
    "      #most_common_physician_integrated =\n",
    "      #  sum(most_common_physician_in_facility_non_exclusive_HCPCS_prp >= integration_threshold, na.rm = T) / n()\n",
    "    ) %>%\n",
    "    as.data.table()\n",
    "\n",
    "  return(result)\n",
    "}"
   ]
  },
  {
   "cell_type": "code",
   "execution_count": 54,
   "id": "f1cafb39-a9ee-47fe-a625-e9453f37832d",
   "metadata": {},
   "outputs": [],
   "source": [
    "primary_care_physician_comparisons_averages <-\n",
    "  comparator_averages(yearly_calculations)\n",
    "\n",
    "primary_care_physician_comparisons_test <-\n",
    "  comparator_tests(yearly_calculations)\n",
    "\n",
    "primary_care_physician_overall_averages <-\n",
    "  overall_averages(yearly_calculations)"
   ]
  },
  {
   "cell_type": "code",
   "execution_count": 63,
   "id": "83e7676d-68ad-4630-ba8a-1be9b7b79776",
   "metadata": {},
   "outputs": [
    {
     "data": {
      "text/html": [
       "<table class=\"dataframe\">\n",
       "<caption>A data.table: 3 × 25</caption>\n",
       "<thead>\n",
       "\t<tr><th scope=col>most_common_primary_care_physician_integrated</th><th scope=col>n</th><th scope=col>N_distinct_patients</th><th scope=col>N_distinct_specialist</th><th scope=col>Male</th><th scope=col>Female</th><th scope=col>Asian</th><th scope=col>Black</th><th scope=col>Hispanic</th><th scope=col>North_American_Native</th><th scope=col>White</th><th scope=col>Other_race</th><th scope=col>avg_age</th><th scope=col>age_65_74</th><th scope=col>age_75_84</th><th scope=col>age_85_plus</th><th scope=col>rural_prp</th><th scope=col>urban_prp</th><th scope=col>hypertension</th><th scope=col>arthritis</th><th scope=col>IHD</th><th scope=col>diabetes</th><th scope=col>depression</th><th scope=col>two_conditions</th><th scope=col>more_than_two_conditions</th></tr>\n",
       "\t<tr><th scope=col>&lt;lgl&gt;</th><th scope=col>&lt;int&gt;</th><th scope=col>&lt;int&gt;</th><th scope=col>&lt;int&gt;</th><th scope=col>&lt;dbl&gt;</th><th scope=col>&lt;dbl&gt;</th><th scope=col>&lt;dbl&gt;</th><th scope=col>&lt;dbl&gt;</th><th scope=col>&lt;dbl&gt;</th><th scope=col>&lt;dbl&gt;</th><th scope=col>&lt;dbl&gt;</th><th scope=col>&lt;dbl&gt;</th><th scope=col>&lt;dbl&gt;</th><th scope=col>&lt;dbl&gt;</th><th scope=col>&lt;dbl&gt;</th><th scope=col>&lt;dbl&gt;</th><th scope=col>&lt;dbl&gt;</th><th scope=col>&lt;dbl&gt;</th><th scope=col>&lt;dbl&gt;</th><th scope=col>&lt;dbl&gt;</th><th scope=col>&lt;dbl&gt;</th><th scope=col>&lt;dbl&gt;</th><th scope=col>&lt;dbl&gt;</th><th scope=col>&lt;dbl&gt;</th><th scope=col>&lt;dbl&gt;</th></tr>\n",
       "</thead>\n",
       "<tbody>\n",
       "\t<tr><td>   NA</td><td>3508367</td><td>1662616</td><td>110213</td><td>0.4403838</td><td>0.5596162</td><td>0.01597723</td><td>0.07343987</td><td>0.01588061</td><td>0.005061614</td><td>0.8584598</td><td>0.01459169</td><td>75.39474</td><td>0.5427197</td><td>0.2915516</td><td>0.1657287</td><td>0.2970823</td><td>0.7029177</td><td>0.3568412</td><td>0.02806291</td><td>0.1313001</td><td>0.1902518</td><td>0.04143181</td><td>0.1434479</td><td>0.03970964</td></tr>\n",
       "\t<tr><td>FALSE</td><td>5308543</td><td>1419643</td><td>140805</td><td>0.4206246</td><td>0.5793754</td><td>0.02000191</td><td>0.06666311</td><td>0.01232994</td><td>0.002514814</td><td>0.8686523</td><td>0.01671739</td><td>75.12492</td><td>0.5350116</td><td>0.3283278</td><td>0.1366607</td><td>0.1752896</td><td>0.8247104</td><td>0.5887889</td><td>0.04515721</td><td>0.1926681</td><td>0.2832920</td><td>0.03789138</td><td>0.2409119</td><td>0.07321387</td></tr>\n",
       "\t<tr><td> TRUE</td><td>1195873</td><td> 421753</td><td> 59511</td><td>0.4198841</td><td>0.5801159</td><td>0.01343119</td><td>0.08168175</td><td>0.01094681</td><td>0.011753756</td><td>0.8543474</td><td>0.01379160</td><td>75.03840</td><td>0.5406444</td><td>0.3246331</td><td>0.1347225</td><td>0.2356522</td><td>0.7643478</td><td>0.5001083</td><td>0.03983617</td><td>0.1695088</td><td>0.2511621</td><td>0.04106205</td><td>0.1974164</td><td>0.05277902</td></tr>\n",
       "</tbody>\n",
       "</table>\n"
      ],
      "text/latex": [
       "A data.table: 3 × 25\n",
       "\\begin{tabular}{lllllllllllllllllllllllll}\n",
       " most\\_common\\_primary\\_care\\_physician\\_integrated & n & N\\_distinct\\_patients & N\\_distinct\\_specialist & Male & Female & Asian & Black & Hispanic & North\\_American\\_Native & White & Other\\_race & avg\\_age & age\\_65\\_74 & age\\_75\\_84 & age\\_85\\_plus & rural\\_prp & urban\\_prp & hypertension & arthritis & IHD & diabetes & depression & two\\_conditions & more\\_than\\_two\\_conditions\\\\\n",
       " <lgl> & <int> & <int> & <int> & <dbl> & <dbl> & <dbl> & <dbl> & <dbl> & <dbl> & <dbl> & <dbl> & <dbl> & <dbl> & <dbl> & <dbl> & <dbl> & <dbl> & <dbl> & <dbl> & <dbl> & <dbl> & <dbl> & <dbl> & <dbl>\\\\\n",
       "\\hline\n",
       "\t    NA & 3508367 & 1662616 & 110213 & 0.4403838 & 0.5596162 & 0.01597723 & 0.07343987 & 0.01588061 & 0.005061614 & 0.8584598 & 0.01459169 & 75.39474 & 0.5427197 & 0.2915516 & 0.1657287 & 0.2970823 & 0.7029177 & 0.3568412 & 0.02806291 & 0.1313001 & 0.1902518 & 0.04143181 & 0.1434479 & 0.03970964\\\\\n",
       "\t FALSE & 5308543 & 1419643 & 140805 & 0.4206246 & 0.5793754 & 0.02000191 & 0.06666311 & 0.01232994 & 0.002514814 & 0.8686523 & 0.01671739 & 75.12492 & 0.5350116 & 0.3283278 & 0.1366607 & 0.1752896 & 0.8247104 & 0.5887889 & 0.04515721 & 0.1926681 & 0.2832920 & 0.03789138 & 0.2409119 & 0.07321387\\\\\n",
       "\t  TRUE & 1195873 &  421753 &  59511 & 0.4198841 & 0.5801159 & 0.01343119 & 0.08168175 & 0.01094681 & 0.011753756 & 0.8543474 & 0.01379160 & 75.03840 & 0.5406444 & 0.3246331 & 0.1347225 & 0.2356522 & 0.7643478 & 0.5001083 & 0.03983617 & 0.1695088 & 0.2511621 & 0.04106205 & 0.1974164 & 0.05277902\\\\\n",
       "\\end{tabular}\n"
      ],
      "text/markdown": [
       "\n",
       "A data.table: 3 × 25\n",
       "\n",
       "| most_common_primary_care_physician_integrated &lt;lgl&gt; | n &lt;int&gt; | N_distinct_patients &lt;int&gt; | N_distinct_specialist &lt;int&gt; | Male &lt;dbl&gt; | Female &lt;dbl&gt; | Asian &lt;dbl&gt; | Black &lt;dbl&gt; | Hispanic &lt;dbl&gt; | North_American_Native &lt;dbl&gt; | White &lt;dbl&gt; | Other_race &lt;dbl&gt; | avg_age &lt;dbl&gt; | age_65_74 &lt;dbl&gt; | age_75_84 &lt;dbl&gt; | age_85_plus &lt;dbl&gt; | rural_prp &lt;dbl&gt; | urban_prp &lt;dbl&gt; | hypertension &lt;dbl&gt; | arthritis &lt;dbl&gt; | IHD &lt;dbl&gt; | diabetes &lt;dbl&gt; | depression &lt;dbl&gt; | two_conditions &lt;dbl&gt; | more_than_two_conditions &lt;dbl&gt; |\n",
       "|---|---|---|---|---|---|---|---|---|---|---|---|---|---|---|---|---|---|---|---|---|---|---|---|---|\n",
       "|    NA | 3508367 | 1662616 | 110213 | 0.4403838 | 0.5596162 | 0.01597723 | 0.07343987 | 0.01588061 | 0.005061614 | 0.8584598 | 0.01459169 | 75.39474 | 0.5427197 | 0.2915516 | 0.1657287 | 0.2970823 | 0.7029177 | 0.3568412 | 0.02806291 | 0.1313001 | 0.1902518 | 0.04143181 | 0.1434479 | 0.03970964 |\n",
       "| FALSE | 5308543 | 1419643 | 140805 | 0.4206246 | 0.5793754 | 0.02000191 | 0.06666311 | 0.01232994 | 0.002514814 | 0.8686523 | 0.01671739 | 75.12492 | 0.5350116 | 0.3283278 | 0.1366607 | 0.1752896 | 0.8247104 | 0.5887889 | 0.04515721 | 0.1926681 | 0.2832920 | 0.03789138 | 0.2409119 | 0.07321387 |\n",
       "|  TRUE | 1195873 |  421753 |  59511 | 0.4198841 | 0.5801159 | 0.01343119 | 0.08168175 | 0.01094681 | 0.011753756 | 0.8543474 | 0.01379160 | 75.03840 | 0.5406444 | 0.3246331 | 0.1347225 | 0.2356522 | 0.7643478 | 0.5001083 | 0.03983617 | 0.1695088 | 0.2511621 | 0.04106205 | 0.1974164 | 0.05277902 |\n",
       "\n"
      ],
      "text/plain": [
       "  most_common_primary_care_physician_integrated n       N_distinct_patients N_distinct_specialist Male      Female    Asian      Black      Hispanic   North_American_Native White     Other_race avg_age  age_65_74 age_75_84 age_85_plus rural_prp urban_prp hypertension arthritis  IHD       diabetes \n",
       "1    NA                                         3508367 1662616             110213                0.4403838 0.5596162 0.01597723 0.07343987 0.01588061 0.005061614           0.8584598 0.01459169 75.39474 0.5427197 0.2915516 0.1657287   0.2970823 0.7029177 0.3568412    0.02806291 0.1313001 0.1902518\n",
       "2 FALSE                                         5308543 1419643             140805                0.4206246 0.5793754 0.02000191 0.06666311 0.01232994 0.002514814           0.8686523 0.01671739 75.12492 0.5350116 0.3283278 0.1366607   0.1752896 0.8247104 0.5887889    0.04515721 0.1926681 0.2832920\n",
       "3  TRUE                                         1195873  421753              59511                0.4198841 0.5801159 0.01343119 0.08168175 0.01094681 0.011753756           0.8543474 0.01379160 75.03840 0.5406444 0.3246331 0.1347225   0.2356522 0.7643478 0.5001083    0.03983617 0.1695088 0.2511621\n",
       "  depression two_conditions more_than_two_conditions\n",
       "1 0.04143181 0.1434479      0.03970964              \n",
       "2 0.03789138 0.2409119      0.07321387              \n",
       "3 0.04106205 0.1974164      0.05277902              "
      ]
     },
     "metadata": {},
     "output_type": "display_data"
    }
   ],
   "source": [
    "primary_care_physician_comparisons_averages"
   ]
  },
  {
   "cell_type": "code",
   "execution_count": 58,
   "id": "90fbb4b4-61a9-4163-b5c4-6c7f82647537",
   "metadata": {},
   "outputs": [
    {
     "data": {
      "text/html": [
       "<table class=\"dataframe\">\n",
       "<caption>A data.table: 1 × 21</caption>\n",
       "<thead>\n",
       "\t<tr><th scope=col>Male</th><th scope=col>Female</th><th scope=col>Asian</th><th scope=col>Black</th><th scope=col>Hispanic</th><th scope=col>North_American_Native</th><th scope=col>White</th><th scope=col>Other_race</th><th scope=col>avg_age</th><th scope=col>age_65_74</th><th scope=col>age_75_84</th><th scope=col>age_85_plus</th><th scope=col>rural_prp</th><th scope=col>urban_prp</th><th scope=col>hypertension</th><th scope=col>arthritis</th><th scope=col>IHD</th><th scope=col>diabetes</th><th scope=col>depression</th><th scope=col>two_conditions</th><th scope=col>more_than_two_conditions</th></tr>\n",
       "\t<tr><th scope=col>&lt;dbl&gt;</th><th scope=col>&lt;dbl&gt;</th><th scope=col>&lt;dbl&gt;</th><th scope=col>&lt;dbl&gt;</th><th scope=col>&lt;dbl&gt;</th><th scope=col>&lt;dbl&gt;</th><th scope=col>&lt;dbl&gt;</th><th scope=col>&lt;dbl&gt;</th><th scope=col>&lt;dbl&gt;</th><th scope=col>&lt;dbl&gt;</th><th scope=col>&lt;dbl&gt;</th><th scope=col>&lt;dbl&gt;</th><th scope=col>&lt;dbl&gt;</th><th scope=col>&lt;dbl&gt;</th><th scope=col>&lt;dbl&gt;</th><th scope=col>&lt;dbl&gt;</th><th scope=col>&lt;dbl&gt;</th><th scope=col>&lt;dbl&gt;</th><th scope=col>&lt;dbl&gt;</th><th scope=col>&lt;dbl&gt;</th><th scope=col>&lt;dbl&gt;</th></tr>\n",
       "</thead>\n",
       "<tbody>\n",
       "\t<tr><td>0.1385695</td><td>0.1385695</td><td>0</td><td>0</td><td>6.946583e-36</td><td>0</td><td>0</td><td>4.026462e-116</td><td>1.044855e-29</td><td>6.573711e-29</td><td>7.509705e-15</td><td>2.417305e-08</td><td>0</td><td>0</td><td>0</td><td>2.60705e-144</td><td>0</td><td>0</td><td>1.297288e-59</td><td>0</td><td>0</td></tr>\n",
       "</tbody>\n",
       "</table>\n"
      ],
      "text/latex": [
       "A data.table: 1 × 21\n",
       "\\begin{tabular}{lllllllllllllllllllll}\n",
       " Male & Female & Asian & Black & Hispanic & North\\_American\\_Native & White & Other\\_race & avg\\_age & age\\_65\\_74 & age\\_75\\_84 & age\\_85\\_plus & rural\\_prp & urban\\_prp & hypertension & arthritis & IHD & diabetes & depression & two\\_conditions & more\\_than\\_two\\_conditions\\\\\n",
       " <dbl> & <dbl> & <dbl> & <dbl> & <dbl> & <dbl> & <dbl> & <dbl> & <dbl> & <dbl> & <dbl> & <dbl> & <dbl> & <dbl> & <dbl> & <dbl> & <dbl> & <dbl> & <dbl> & <dbl> & <dbl>\\\\\n",
       "\\hline\n",
       "\t 0.1385695 & 0.1385695 & 0 & 0 & 6.946583e-36 & 0 & 0 & 4.026462e-116 & 1.044855e-29 & 6.573711e-29 & 7.509705e-15 & 2.417305e-08 & 0 & 0 & 0 & 2.60705e-144 & 0 & 0 & 1.297288e-59 & 0 & 0\\\\\n",
       "\\end{tabular}\n"
      ],
      "text/markdown": [
       "\n",
       "A data.table: 1 × 21\n",
       "\n",
       "| Male &lt;dbl&gt; | Female &lt;dbl&gt; | Asian &lt;dbl&gt; | Black &lt;dbl&gt; | Hispanic &lt;dbl&gt; | North_American_Native &lt;dbl&gt; | White &lt;dbl&gt; | Other_race &lt;dbl&gt; | avg_age &lt;dbl&gt; | age_65_74 &lt;dbl&gt; | age_75_84 &lt;dbl&gt; | age_85_plus &lt;dbl&gt; | rural_prp &lt;dbl&gt; | urban_prp &lt;dbl&gt; | hypertension &lt;dbl&gt; | arthritis &lt;dbl&gt; | IHD &lt;dbl&gt; | diabetes &lt;dbl&gt; | depression &lt;dbl&gt; | two_conditions &lt;dbl&gt; | more_than_two_conditions &lt;dbl&gt; |\n",
       "|---|---|---|---|---|---|---|---|---|---|---|---|---|---|---|---|---|---|---|---|---|\n",
       "| 0.1385695 | 0.1385695 | 0 | 0 | 6.946583e-36 | 0 | 0 | 4.026462e-116 | 1.044855e-29 | 6.573711e-29 | 7.509705e-15 | 2.417305e-08 | 0 | 0 | 0 | 2.60705e-144 | 0 | 0 | 1.297288e-59 | 0 | 0 |\n",
       "\n"
      ],
      "text/plain": [
       "  Male      Female    Asian Black Hispanic     North_American_Native White Other_race    avg_age      age_65_74    age_75_84    age_85_plus  rural_prp urban_prp hypertension arthritis    IHD diabetes depression   two_conditions more_than_two_conditions\n",
       "1 0.1385695 0.1385695 0     0     6.946583e-36 0                     0     4.026462e-116 1.044855e-29 6.573711e-29 7.509705e-15 2.417305e-08 0         0         0            2.60705e-144 0   0        1.297288e-59 0              0                       "
      ]
     },
     "metadata": {},
     "output_type": "display_data"
    }
   ],
   "source": [
    "primary_care_physician_comparisons_test"
   ]
  },
  {
   "cell_type": "code",
   "execution_count": 59,
   "id": "467fc139-3321-49e0-9ab8-b9b6929a7dd6",
   "metadata": {},
   "outputs": [
    {
     "data": {
      "text/html": [
       "<table class=\"dataframe\">\n",
       "<caption>A data.table: 1 × 24</caption>\n",
       "<thead>\n",
       "\t<tr><th scope=col>n</th><th scope=col>N_distinct_patients</th><th scope=col>N_distinct_specialist</th><th scope=col>Male</th><th scope=col>Female</th><th scope=col>Asian</th><th scope=col>Black</th><th scope=col>Hispanic</th><th scope=col>North_American_Native</th><th scope=col>White</th><th scope=col>Other_race</th><th scope=col>avg_age</th><th scope=col>age_65_74</th><th scope=col>age_75_84</th><th scope=col>age_85_plus</th><th scope=col>rural_prp</th><th scope=col>urban_prp</th><th scope=col>hypertension</th><th scope=col>arthritis</th><th scope=col>IHD</th><th scope=col>diabetes</th><th scope=col>depression</th><th scope=col>two_conditions</th><th scope=col>more_than_two_conditions</th></tr>\n",
       "\t<tr><th scope=col>&lt;int&gt;</th><th scope=col>&lt;int&gt;</th><th scope=col>&lt;int&gt;</th><th scope=col>&lt;dbl&gt;</th><th scope=col>&lt;dbl&gt;</th><th scope=col>&lt;dbl&gt;</th><th scope=col>&lt;dbl&gt;</th><th scope=col>&lt;dbl&gt;</th><th scope=col>&lt;dbl&gt;</th><th scope=col>&lt;dbl&gt;</th><th scope=col>&lt;dbl&gt;</th><th scope=col>&lt;dbl&gt;</th><th scope=col>&lt;dbl&gt;</th><th scope=col>&lt;dbl&gt;</th><th scope=col>&lt;dbl&gt;</th><th scope=col>&lt;dbl&gt;</th><th scope=col>&lt;dbl&gt;</th><th scope=col>&lt;dbl&gt;</th><th scope=col>&lt;dbl&gt;</th><th scope=col>&lt;dbl&gt;</th><th scope=col>&lt;dbl&gt;</th><th scope=col>&lt;dbl&gt;</th><th scope=col>&lt;dbl&gt;</th><th scope=col>&lt;dbl&gt;</th></tr>\n",
       "</thead>\n",
       "<tbody>\n",
       "\t<tr><td>10012783</td><td>2109378</td><td>21</td><td>0.4274596</td><td>0.5725404</td><td>0.01780694</td><td>0.07083136</td><td>0.01340886</td><td>0.004510634</td><td>0.8633725</td><td>0.01562313</td><td>75.20913</td><td>0.5383852</td><td>0.3150005</td><td>0.1466143</td><td>0.2256704</td><td>0.7743296</td><td>0.4969255</td><td>0.03853204</td><td>0.1683994</td><td>0.2468543</td><td>0.03951059</td><td>0.2015667</td><td>0.05903374</td></tr>\n",
       "</tbody>\n",
       "</table>\n"
      ],
      "text/latex": [
       "A data.table: 1 × 24\n",
       "\\begin{tabular}{llllllllllllllllllllllll}\n",
       " n & N\\_distinct\\_patients & N\\_distinct\\_specialist & Male & Female & Asian & Black & Hispanic & North\\_American\\_Native & White & Other\\_race & avg\\_age & age\\_65\\_74 & age\\_75\\_84 & age\\_85\\_plus & rural\\_prp & urban\\_prp & hypertension & arthritis & IHD & diabetes & depression & two\\_conditions & more\\_than\\_two\\_conditions\\\\\n",
       " <int> & <int> & <int> & <dbl> & <dbl> & <dbl> & <dbl> & <dbl> & <dbl> & <dbl> & <dbl> & <dbl> & <dbl> & <dbl> & <dbl> & <dbl> & <dbl> & <dbl> & <dbl> & <dbl> & <dbl> & <dbl> & <dbl> & <dbl>\\\\\n",
       "\\hline\n",
       "\t 10012783 & 2109378 & 21 & 0.4274596 & 0.5725404 & 0.01780694 & 0.07083136 & 0.01340886 & 0.004510634 & 0.8633725 & 0.01562313 & 75.20913 & 0.5383852 & 0.3150005 & 0.1466143 & 0.2256704 & 0.7743296 & 0.4969255 & 0.03853204 & 0.1683994 & 0.2468543 & 0.03951059 & 0.2015667 & 0.05903374\\\\\n",
       "\\end{tabular}\n"
      ],
      "text/markdown": [
       "\n",
       "A data.table: 1 × 24\n",
       "\n",
       "| n &lt;int&gt; | N_distinct_patients &lt;int&gt; | N_distinct_specialist &lt;int&gt; | Male &lt;dbl&gt; | Female &lt;dbl&gt; | Asian &lt;dbl&gt; | Black &lt;dbl&gt; | Hispanic &lt;dbl&gt; | North_American_Native &lt;dbl&gt; | White &lt;dbl&gt; | Other_race &lt;dbl&gt; | avg_age &lt;dbl&gt; | age_65_74 &lt;dbl&gt; | age_75_84 &lt;dbl&gt; | age_85_plus &lt;dbl&gt; | rural_prp &lt;dbl&gt; | urban_prp &lt;dbl&gt; | hypertension &lt;dbl&gt; | arthritis &lt;dbl&gt; | IHD &lt;dbl&gt; | diabetes &lt;dbl&gt; | depression &lt;dbl&gt; | two_conditions &lt;dbl&gt; | more_than_two_conditions &lt;dbl&gt; |\n",
       "|---|---|---|---|---|---|---|---|---|---|---|---|---|---|---|---|---|---|---|---|---|---|---|---|\n",
       "| 10012783 | 2109378 | 21 | 0.4274596 | 0.5725404 | 0.01780694 | 0.07083136 | 0.01340886 | 0.004510634 | 0.8633725 | 0.01562313 | 75.20913 | 0.5383852 | 0.3150005 | 0.1466143 | 0.2256704 | 0.7743296 | 0.4969255 | 0.03853204 | 0.1683994 | 0.2468543 | 0.03951059 | 0.2015667 | 0.05903374 |\n",
       "\n"
      ],
      "text/plain": [
       "  n        N_distinct_patients N_distinct_specialist Male      Female    Asian      Black      Hispanic   North_American_Native White     Other_race avg_age  age_65_74 age_75_84 age_85_plus rural_prp urban_prp hypertension arthritis  IHD       diabetes  depression two_conditions\n",
       "1 10012783 2109378             21                    0.4274596 0.5725404 0.01780694 0.07083136 0.01340886 0.004510634           0.8633725 0.01562313 75.20913 0.5383852 0.3150005 0.1466143   0.2256704 0.7743296 0.4969255    0.03853204 0.1683994 0.2468543 0.03951059 0.2015667     \n",
       "  more_than_two_conditions\n",
       "1 0.05903374              "
      ]
     },
     "metadata": {},
     "output_type": "display_data"
    }
   ],
   "source": [
    "primary_care_physician_overall_averages"
   ]
  },
  {
   "cell_type": "code",
   "execution_count": 56,
   "id": "bbd4f5e4-6b3a-407e-b059-fe3397c72fcb",
   "metadata": {},
   "outputs": [
    {
     "data": {
      "text/html": [
       "<table class=\"dataframe\">\n",
       "<caption>A matrix: 25 × 5 of type dbl</caption>\n",
       "<tbody>\n",
       "\t<tr><th scope=row>n</th><td>1.001278e+07</td><td>3.508367e+06</td><td>5.308543e+06</td><td>1.195873e+06</td><td>           NA</td></tr>\n",
       "\t<tr><th scope=row>N_distinct_patients</th><td>2.109378e+06</td><td>1.662616e+06</td><td>1.419643e+06</td><td>4.217530e+05</td><td>           NA</td></tr>\n",
       "\t<tr><th scope=row>N_distinct_specialist</th><td>2.100000e+01</td><td>1.102130e+05</td><td>1.408050e+05</td><td>5.951100e+04</td><td>           NA</td></tr>\n",
       "\t<tr><th scope=row>Male</th><td>4.274596e-01</td><td>4.403838e-01</td><td>4.206246e-01</td><td>4.198841e-01</td><td> 1.385695e-01</td></tr>\n",
       "\t<tr><th scope=row>Female</th><td>5.725404e-01</td><td>5.596162e-01</td><td>5.793754e-01</td><td>5.801159e-01</td><td> 1.385695e-01</td></tr>\n",
       "\t<tr><th scope=row>Asian</th><td>1.780694e-02</td><td>1.597723e-02</td><td>2.000191e-02</td><td>1.343119e-02</td><td> 0.000000e+00</td></tr>\n",
       "\t<tr><th scope=row>Black</th><td>7.083136e-02</td><td>7.343987e-02</td><td>6.666311e-02</td><td>8.168175e-02</td><td> 0.000000e+00</td></tr>\n",
       "\t<tr><th scope=row>Hispanic</th><td>1.340886e-02</td><td>1.588061e-02</td><td>1.232994e-02</td><td>1.094681e-02</td><td> 6.946583e-36</td></tr>\n",
       "\t<tr><th scope=row>North_American_Native</th><td>4.510634e-03</td><td>5.061614e-03</td><td>2.514814e-03</td><td>1.175376e-02</td><td> 0.000000e+00</td></tr>\n",
       "\t<tr><th scope=row>White</th><td>8.633725e-01</td><td>8.584598e-01</td><td>8.686523e-01</td><td>8.543474e-01</td><td> 0.000000e+00</td></tr>\n",
       "\t<tr><th scope=row>Other_race</th><td>1.562313e-02</td><td>1.459169e-02</td><td>1.671739e-02</td><td>1.379160e-02</td><td>4.026462e-116</td></tr>\n",
       "\t<tr><th scope=row>avg_age</th><td>7.520913e+01</td><td>7.539474e+01</td><td>7.512492e+01</td><td>7.503840e+01</td><td> 1.044855e-29</td></tr>\n",
       "\t<tr><th scope=row>age_65_74</th><td>5.383852e-01</td><td>5.427197e-01</td><td>5.350116e-01</td><td>5.406444e-01</td><td> 6.573711e-29</td></tr>\n",
       "\t<tr><th scope=row>age_75_84</th><td>3.150005e-01</td><td>2.915516e-01</td><td>3.283278e-01</td><td>3.246331e-01</td><td> 7.509705e-15</td></tr>\n",
       "\t<tr><th scope=row>age_85_plus</th><td>1.466143e-01</td><td>1.657287e-01</td><td>1.366607e-01</td><td>1.347225e-01</td><td> 2.417305e-08</td></tr>\n",
       "\t<tr><th scope=row>rural_prp</th><td>2.256704e-01</td><td>2.970823e-01</td><td>1.752896e-01</td><td>2.356522e-01</td><td> 0.000000e+00</td></tr>\n",
       "\t<tr><th scope=row>urban_prp</th><td>7.743296e-01</td><td>7.029177e-01</td><td>8.247104e-01</td><td>7.643478e-01</td><td> 0.000000e+00</td></tr>\n",
       "\t<tr><th scope=row>hypertension</th><td>4.969255e-01</td><td>3.568412e-01</td><td>5.887889e-01</td><td>5.001083e-01</td><td> 0.000000e+00</td></tr>\n",
       "\t<tr><th scope=row>arthritis</th><td>3.853204e-02</td><td>2.806291e-02</td><td>4.515721e-02</td><td>3.983617e-02</td><td>2.607050e-144</td></tr>\n",
       "\t<tr><th scope=row>IHD</th><td>1.683994e-01</td><td>1.313001e-01</td><td>1.926681e-01</td><td>1.695088e-01</td><td> 0.000000e+00</td></tr>\n",
       "\t<tr><th scope=row>diabetes</th><td>2.468543e-01</td><td>1.902518e-01</td><td>2.832920e-01</td><td>2.511621e-01</td><td> 0.000000e+00</td></tr>\n",
       "\t<tr><th scope=row>depression</th><td>3.951059e-02</td><td>4.143181e-02</td><td>3.789138e-02</td><td>4.106205e-02</td><td> 1.297288e-59</td></tr>\n",
       "\t<tr><th scope=row>two_conditions</th><td>2.015667e-01</td><td>1.434479e-01</td><td>2.409119e-01</td><td>1.974164e-01</td><td> 0.000000e+00</td></tr>\n",
       "\t<tr><th scope=row>more_than_two_conditions</th><td>5.903374e-02</td><td>3.970964e-02</td><td>7.321387e-02</td><td>5.277902e-02</td><td> 0.000000e+00</td></tr>\n",
       "\t<tr><th scope=row>most_common_primary_care_physician_integrated</th><td>          NA</td><td>          NA</td><td>0.000000e+00</td><td>1.000000e+00</td><td>           NA</td></tr>\n",
       "</tbody>\n",
       "</table>\n"
      ],
      "text/latex": [
       "A matrix: 25 × 5 of type dbl\n",
       "\\begin{tabular}{r|lllll}\n",
       "\tn & 1.001278e+07 & 3.508367e+06 & 5.308543e+06 & 1.195873e+06 &            NA\\\\\n",
       "\tN\\_distinct\\_patients & 2.109378e+06 & 1.662616e+06 & 1.419643e+06 & 4.217530e+05 &            NA\\\\\n",
       "\tN\\_distinct\\_specialist & 2.100000e+01 & 1.102130e+05 & 1.408050e+05 & 5.951100e+04 &            NA\\\\\n",
       "\tMale & 4.274596e-01 & 4.403838e-01 & 4.206246e-01 & 4.198841e-01 &  1.385695e-01\\\\\n",
       "\tFemale & 5.725404e-01 & 5.596162e-01 & 5.793754e-01 & 5.801159e-01 &  1.385695e-01\\\\\n",
       "\tAsian & 1.780694e-02 & 1.597723e-02 & 2.000191e-02 & 1.343119e-02 &  0.000000e+00\\\\\n",
       "\tBlack & 7.083136e-02 & 7.343987e-02 & 6.666311e-02 & 8.168175e-02 &  0.000000e+00\\\\\n",
       "\tHispanic & 1.340886e-02 & 1.588061e-02 & 1.232994e-02 & 1.094681e-02 &  6.946583e-36\\\\\n",
       "\tNorth\\_American\\_Native & 4.510634e-03 & 5.061614e-03 & 2.514814e-03 & 1.175376e-02 &  0.000000e+00\\\\\n",
       "\tWhite & 8.633725e-01 & 8.584598e-01 & 8.686523e-01 & 8.543474e-01 &  0.000000e+00\\\\\n",
       "\tOther\\_race & 1.562313e-02 & 1.459169e-02 & 1.671739e-02 & 1.379160e-02 & 4.026462e-116\\\\\n",
       "\tavg\\_age & 7.520913e+01 & 7.539474e+01 & 7.512492e+01 & 7.503840e+01 &  1.044855e-29\\\\\n",
       "\tage\\_65\\_74 & 5.383852e-01 & 5.427197e-01 & 5.350116e-01 & 5.406444e-01 &  6.573711e-29\\\\\n",
       "\tage\\_75\\_84 & 3.150005e-01 & 2.915516e-01 & 3.283278e-01 & 3.246331e-01 &  7.509705e-15\\\\\n",
       "\tage\\_85\\_plus & 1.466143e-01 & 1.657287e-01 & 1.366607e-01 & 1.347225e-01 &  2.417305e-08\\\\\n",
       "\trural\\_prp & 2.256704e-01 & 2.970823e-01 & 1.752896e-01 & 2.356522e-01 &  0.000000e+00\\\\\n",
       "\turban\\_prp & 7.743296e-01 & 7.029177e-01 & 8.247104e-01 & 7.643478e-01 &  0.000000e+00\\\\\n",
       "\thypertension & 4.969255e-01 & 3.568412e-01 & 5.887889e-01 & 5.001083e-01 &  0.000000e+00\\\\\n",
       "\tarthritis & 3.853204e-02 & 2.806291e-02 & 4.515721e-02 & 3.983617e-02 & 2.607050e-144\\\\\n",
       "\tIHD & 1.683994e-01 & 1.313001e-01 & 1.926681e-01 & 1.695088e-01 &  0.000000e+00\\\\\n",
       "\tdiabetes & 2.468543e-01 & 1.902518e-01 & 2.832920e-01 & 2.511621e-01 &  0.000000e+00\\\\\n",
       "\tdepression & 3.951059e-02 & 4.143181e-02 & 3.789138e-02 & 4.106205e-02 &  1.297288e-59\\\\\n",
       "\ttwo\\_conditions & 2.015667e-01 & 1.434479e-01 & 2.409119e-01 & 1.974164e-01 &  0.000000e+00\\\\\n",
       "\tmore\\_than\\_two\\_conditions & 5.903374e-02 & 3.970964e-02 & 7.321387e-02 & 5.277902e-02 &  0.000000e+00\\\\\n",
       "\tmost\\_common\\_primary\\_care\\_physician\\_integrated &           NA &           NA & 0.000000e+00 & 1.000000e+00 &            NA\\\\\n",
       "\\end{tabular}\n"
      ],
      "text/markdown": [
       "\n",
       "A matrix: 25 × 5 of type dbl\n",
       "\n",
       "| n | 1.001278e+07 | 3.508367e+06 | 5.308543e+06 | 1.195873e+06 |            NA |\n",
       "| N_distinct_patients | 2.109378e+06 | 1.662616e+06 | 1.419643e+06 | 4.217530e+05 |            NA |\n",
       "| N_distinct_specialist | 2.100000e+01 | 1.102130e+05 | 1.408050e+05 | 5.951100e+04 |            NA |\n",
       "| Male | 4.274596e-01 | 4.403838e-01 | 4.206246e-01 | 4.198841e-01 |  1.385695e-01 |\n",
       "| Female | 5.725404e-01 | 5.596162e-01 | 5.793754e-01 | 5.801159e-01 |  1.385695e-01 |\n",
       "| Asian | 1.780694e-02 | 1.597723e-02 | 2.000191e-02 | 1.343119e-02 |  0.000000e+00 |\n",
       "| Black | 7.083136e-02 | 7.343987e-02 | 6.666311e-02 | 8.168175e-02 |  0.000000e+00 |\n",
       "| Hispanic | 1.340886e-02 | 1.588061e-02 | 1.232994e-02 | 1.094681e-02 |  6.946583e-36 |\n",
       "| North_American_Native | 4.510634e-03 | 5.061614e-03 | 2.514814e-03 | 1.175376e-02 |  0.000000e+00 |\n",
       "| White | 8.633725e-01 | 8.584598e-01 | 8.686523e-01 | 8.543474e-01 |  0.000000e+00 |\n",
       "| Other_race | 1.562313e-02 | 1.459169e-02 | 1.671739e-02 | 1.379160e-02 | 4.026462e-116 |\n",
       "| avg_age | 7.520913e+01 | 7.539474e+01 | 7.512492e+01 | 7.503840e+01 |  1.044855e-29 |\n",
       "| age_65_74 | 5.383852e-01 | 5.427197e-01 | 5.350116e-01 | 5.406444e-01 |  6.573711e-29 |\n",
       "| age_75_84 | 3.150005e-01 | 2.915516e-01 | 3.283278e-01 | 3.246331e-01 |  7.509705e-15 |\n",
       "| age_85_plus | 1.466143e-01 | 1.657287e-01 | 1.366607e-01 | 1.347225e-01 |  2.417305e-08 |\n",
       "| rural_prp | 2.256704e-01 | 2.970823e-01 | 1.752896e-01 | 2.356522e-01 |  0.000000e+00 |\n",
       "| urban_prp | 7.743296e-01 | 7.029177e-01 | 8.247104e-01 | 7.643478e-01 |  0.000000e+00 |\n",
       "| hypertension | 4.969255e-01 | 3.568412e-01 | 5.887889e-01 | 5.001083e-01 |  0.000000e+00 |\n",
       "| arthritis | 3.853204e-02 | 2.806291e-02 | 4.515721e-02 | 3.983617e-02 | 2.607050e-144 |\n",
       "| IHD | 1.683994e-01 | 1.313001e-01 | 1.926681e-01 | 1.695088e-01 |  0.000000e+00 |\n",
       "| diabetes | 2.468543e-01 | 1.902518e-01 | 2.832920e-01 | 2.511621e-01 |  0.000000e+00 |\n",
       "| depression | 3.951059e-02 | 4.143181e-02 | 3.789138e-02 | 4.106205e-02 |  1.297288e-59 |\n",
       "| two_conditions | 2.015667e-01 | 1.434479e-01 | 2.409119e-01 | 1.974164e-01 |  0.000000e+00 |\n",
       "| more_than_two_conditions | 5.903374e-02 | 3.970964e-02 | 7.321387e-02 | 5.277902e-02 |  0.000000e+00 |\n",
       "| most_common_primary_care_physician_integrated |           NA |           NA | 0.000000e+00 | 1.000000e+00 |            NA |\n",
       "\n"
      ],
      "text/plain": [
       "                                              [,1]         [,2]         [,3]         [,4]         [,5]         \n",
       "n                                             1.001278e+07 3.508367e+06 5.308543e+06 1.195873e+06            NA\n",
       "N_distinct_patients                           2.109378e+06 1.662616e+06 1.419643e+06 4.217530e+05            NA\n",
       "N_distinct_specialist                         2.100000e+01 1.102130e+05 1.408050e+05 5.951100e+04            NA\n",
       "Male                                          4.274596e-01 4.403838e-01 4.206246e-01 4.198841e-01  1.385695e-01\n",
       "Female                                        5.725404e-01 5.596162e-01 5.793754e-01 5.801159e-01  1.385695e-01\n",
       "Asian                                         1.780694e-02 1.597723e-02 2.000191e-02 1.343119e-02  0.000000e+00\n",
       "Black                                         7.083136e-02 7.343987e-02 6.666311e-02 8.168175e-02  0.000000e+00\n",
       "Hispanic                                      1.340886e-02 1.588061e-02 1.232994e-02 1.094681e-02  6.946583e-36\n",
       "North_American_Native                         4.510634e-03 5.061614e-03 2.514814e-03 1.175376e-02  0.000000e+00\n",
       "White                                         8.633725e-01 8.584598e-01 8.686523e-01 8.543474e-01  0.000000e+00\n",
       "Other_race                                    1.562313e-02 1.459169e-02 1.671739e-02 1.379160e-02 4.026462e-116\n",
       "avg_age                                       7.520913e+01 7.539474e+01 7.512492e+01 7.503840e+01  1.044855e-29\n",
       "age_65_74                                     5.383852e-01 5.427197e-01 5.350116e-01 5.406444e-01  6.573711e-29\n",
       "age_75_84                                     3.150005e-01 2.915516e-01 3.283278e-01 3.246331e-01  7.509705e-15\n",
       "age_85_plus                                   1.466143e-01 1.657287e-01 1.366607e-01 1.347225e-01  2.417305e-08\n",
       "rural_prp                                     2.256704e-01 2.970823e-01 1.752896e-01 2.356522e-01  0.000000e+00\n",
       "urban_prp                                     7.743296e-01 7.029177e-01 8.247104e-01 7.643478e-01  0.000000e+00\n",
       "hypertension                                  4.969255e-01 3.568412e-01 5.887889e-01 5.001083e-01  0.000000e+00\n",
       "arthritis                                     3.853204e-02 2.806291e-02 4.515721e-02 3.983617e-02 2.607050e-144\n",
       "IHD                                           1.683994e-01 1.313001e-01 1.926681e-01 1.695088e-01  0.000000e+00\n",
       "diabetes                                      2.468543e-01 1.902518e-01 2.832920e-01 2.511621e-01  0.000000e+00\n",
       "depression                                    3.951059e-02 4.143181e-02 3.789138e-02 4.106205e-02  1.297288e-59\n",
       "two_conditions                                2.015667e-01 1.434479e-01 2.409119e-01 1.974164e-01  0.000000e+00\n",
       "more_than_two_conditions                      5.903374e-02 3.970964e-02 7.321387e-02 5.277902e-02  0.000000e+00\n",
       "most_common_primary_care_physician_integrated           NA           NA 0.000000e+00 1.000000e+00            NA"
      ]
     },
     "metadata": {},
     "output_type": "display_data"
    }
   ],
   "source": [
    "comparison_results_primary_care_physician <- rbind(\n",
    "  primary_care_physician_overall_averages,\n",
    "  primary_care_physician_comparisons_averages,\n",
    "  primary_care_physician_comparisons_test,\n",
    "  fill = TRUE\n",
    ")\n",
    "t(comparison_results_primary_care_physician)"
   ]
  },
  {
   "cell_type": "code",
   "execution_count": null,
   "id": "84e64f1c-5cae-4dfb-8d08-2c6038b8518c",
   "metadata": {},
   "outputs": [],
   "source": []
  }
 ],
 "metadata": {
  "jupytext": {
   "formats": "ipynb,Rmd"
  },
  "kernelspec": {
   "display_name": "R",
   "language": "R",
   "name": "ir"
  },
  "language_info": {
   "codemirror_mode": "r",
   "file_extension": ".r",
   "mimetype": "text/x-r-source",
   "name": "R",
   "pygments_lexer": "r",
   "version": "4.2.0"
  },
  "toc-showtags": false
 },
 "nbformat": 4,
 "nbformat_minor": 5
}
