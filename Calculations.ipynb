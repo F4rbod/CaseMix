{
 "cells": [
  {
   "cell_type": "markdown",
   "id": "8fc60b63-72f8-440f-8ecf-b2c8a703e6e9",
   "metadata": {
    "tags": []
   },
   "source": [
    "# Setting up the environment\n",
    "\n",
    "We'll load the needed libraries:\n"
   ]
  },
  {
   "cell_type": "code",
   "execution_count": 1,
   "id": "700e7ffd-09eb-4f1e-8c9d-16449c722c73",
   "metadata": {},
   "outputs": [
    {
     "name": "stderr",
     "output_type": "stream",
     "text": [
      "── \u001b[1mAttaching packages\u001b[22m ────────────────────────────────────────────────────────────────────────────────────────────────────────────────────────────────────────────── tidyverse 1.3.1 ──\n",
      "\n",
      "\u001b[32m✔\u001b[39m \u001b[34mggplot2\u001b[39m 3.3.6     \u001b[32m✔\u001b[39m \u001b[34mpurrr  \u001b[39m 0.3.4\n",
      "\u001b[32m✔\u001b[39m \u001b[34mtibble \u001b[39m 3.1.7     \u001b[32m✔\u001b[39m \u001b[34mdplyr  \u001b[39m 1.0.9\n",
      "\u001b[32m✔\u001b[39m \u001b[34mtidyr  \u001b[39m 1.2.0     \u001b[32m✔\u001b[39m \u001b[34mstringr\u001b[39m 1.4.0\n",
      "\u001b[32m✔\u001b[39m \u001b[34mreadr  \u001b[39m 2.1.2     \u001b[32m✔\u001b[39m \u001b[34mforcats\u001b[39m 0.5.1\n",
      "\n",
      "── \u001b[1mConflicts\u001b[22m ───────────────────────────────────────────────────────────────────────────────────────────────────────────────────────────────────────────────── tidyverse_conflicts() ──\n",
      "\u001b[31m✖\u001b[39m \u001b[34mdplyr\u001b[39m::\u001b[32mfilter()\u001b[39m masks \u001b[34mstats\u001b[39m::filter()\n",
      "\u001b[31m✖\u001b[39m \u001b[34mdplyr\u001b[39m::\u001b[32mlag()\u001b[39m    masks \u001b[34mstats\u001b[39m::lag()\n",
      "\n",
      "\n",
      "Attaching package: ‘data.table’\n",
      "\n",
      "\n",
      "The following objects are masked from ‘package:dplyr’:\n",
      "\n",
      "    between, first, last\n",
      "\n",
      "\n",
      "The following object is masked from ‘package:purrr’:\n",
      "\n",
      "    transpose\n",
      "\n",
      "\n",
      "\n",
      "Attaching package: ‘reshape’\n",
      "\n",
      "\n",
      "The following object is masked from ‘package:data.table’:\n",
      "\n",
      "    melt\n",
      "\n",
      "\n",
      "The following object is masked from ‘package:dplyr’:\n",
      "\n",
      "    rename\n",
      "\n",
      "\n",
      "The following objects are masked from ‘package:tidyr’:\n",
      "\n",
      "    expand, smiths\n",
      "\n",
      "\n"
     ]
    }
   ],
   "source": [
    "options(repr.matrix.max.rows=100, repr.matrix.max.cols=300)\n",
    "options(repr.plot.width = 20, repr.plot.height = 15)\n",
    "options(width=300)\n",
    "\n",
    "numcores=20\n",
    "\n",
    "library(tidyverse)\n",
    "library(data.table)\n",
    "library(fst)\n",
    "library(comorbidity)\n",
    "library(reshape)\n",
    "library(dtplyr)\n",
    "library(haven)\n",
    "library(vroom)\n",
    "library(dplyr)\n",
    "`%!in%` = Negate(`%in%`)\n",
    "\n",
    "setDTthreads(numcores)"
   ]
  },
  {
   "cell_type": "markdown",
   "id": "aca6b5f1-4d6a-41dc-a78d-8ecd69abdec1",
   "metadata": {
    "tags": []
   },
   "source": [
    "# Codes\n",
    "\n",
    "First, we will add codes from ICD and Medicare:primary_care_specialty_codes"
   ]
  },
  {
   "cell_type": "code",
   "execution_count": 2,
   "id": "33b8775f-2883-4eea-a49a-4f7b77f86aa4",
   "metadata": {},
   "outputs": [],
   "source": [
    "#diagnosis codes\n",
    "\n",
    "office_visit_codes=c(\"99201\",\"99202\",\"99203\",\"99204\",\"99205\",\"99211\",\"99212\",\"99213\",\"99214\"\n",
    "                     ,\"99215\")\n",
    "\n",
    "IHD_icd_9_codes=c(410, 411, 412,413,414)\n",
    "IHD_icd_10_codes=c(\"I20\", \"I21\", \"I22\", \"I23\", \"I24\", \"I25\")\n",
    "\n",
    "non_us_state_codes=c(40,54,56,57,58,59,60,61,62,63,64,65,66,97,98,99)\n",
    "\n",
    "primary_care_specialty_codes=c(\"01\", \"08\", \"11\", \"38\")\n",
    "\n",
    "#http://www.icd9data.com/2015/Volume1/390-459/401-405/default.htm\n",
    "#https://www.icd10data.com/ICD10CM/Codes/I00-I99/I10-I16\n",
    "hypertension_icd_9_codes=c(\"401\",\"402\",\"403\",\"404\",\"405\")\n",
    "hypertension_icd_10_codes=c(\"I10\",\"I11\",\"I12\",\"I13\",\"I15\",\"I16\")\n",
    "\n",
    "#http://www.icd9data.com/2014/Volume1/290-319/295-299/296/default.htm\n",
    "#https://www.icd10data.com/ICD10CM/Codes/F01-F99/F30-F39\n",
    "depression_icd_9_codes=c(\"2962\",\"2963\")\n",
    "depression_icd_10_codes=c(\"F32\",\"F33\")\n",
    "\n",
    "#http://www.icd9data.com/2015/Volume1/240-279/249-259/default.htm\n",
    "#https://www.icd10data.com/ICD10CM/Codes/E00-E89/E08-E13\n",
    "diabetes_icd_9_codes=c(\"250\")\n",
    "diabetes_icd_10_codes=c(\"E08\",\"E09\",\"E10\",\"E11\",\"E13\")\n",
    "\n",
    "#http://www.icd9data.com/2014/Volume1/710-739/710-719/714/default.htm\n",
    "#https://www.icd10data.com/ICD10CM/Codes/M00-M99/M05-M14\n",
    "arthritis_icd_9_codes=c(\"714\")\n",
    "arthritis_icd_10_codes=c(\"M05\",\"M06\",\"M07\",\"M08\",\"M09\",\"M10\",\"M11\",\"M12\",\"M13\",\"M14\")\n",
    "\n",
    "\n",
    "\n"
   ]
  },
  {
   "cell_type": "markdown",
   "id": "7cea606a-44b7-4e78-b934-4082653f025c",
   "metadata": {
    "tags": []
   },
   "source": [
    "# Patient level calculations"
   ]
  },
  {
   "cell_type": "markdown",
   "id": "68e65d5b-6108-4a8f-a5c1-1edd174294b5",
   "metadata": {
    "tags": []
   },
   "source": [
    "## Yearly Calculators\n",
    "\n",
    "These are the main functions that calculate yearly expenditures for patients and their corresponding physicians.\\"
   ]
  },
  {
   "cell_type": "markdown",
   "id": "100463da-d595-4af8-8fb5-0438caf28d53",
   "metadata": {
    "tags": []
   },
   "source": [
    "### Read data from choose columns\n",
    "\n"
   ]
  },
  {
   "cell_type": "code",
   "execution_count": 6,
   "id": "6e36d11f-ce73-4b98-a279-3c12b6f344e6",
   "metadata": {},
   "outputs": [],
   "source": [
    "carrier_data_all_years = read_fst(\n",
    "    \"/work/postresearch/Shared/Projects/Farbod/carrier_data_all_years.fst\", as.data.table = T)\n",
    "mbsf_data = read_fst(\n",
    "  \"/work/postresearch/Shared/Projects/Farbod/CaseMix/mbsf_data_long.fst\", as.data.table = T)"
   ]
  },
  {
   "cell_type": "markdown",
   "id": "f451aea9-2711-4a54-b939-1549783a2eba",
   "metadata": {
    "tags": []
   },
   "source": [
    "### Loading sample data (for pc)"
   ]
  },
  {
   "cell_type": "code",
   "execution_count": 4,
   "id": "612bc3ad-4fd8-41a0-8c55-e2a45011592d",
   "metadata": {},
   "outputs": [],
   "source": [
    "sample_data=readRDS(file = \"sample_data.RDS\")"
   ]
  },
  {
   "cell_type": "code",
   "execution_count": 5,
   "id": "cf4b6136-7150-4e85-8498-9f2d5327b6c5",
   "metadata": {},
   "outputs": [],
   "source": [
    "carrier_data_all_years=sample_data[[1]]\n",
    "outpatient_data_all_years=sample_data[[2]]\n",
    "inpatient_data_all_years=sample_data[[3]]\n",
    "mbsf_data=read_fst(\"mbsf_data_long.fst\",as.data.table=T)\n",
    "revenue_center_outpatient_all_years=sample_data[[5]]\n",
    "outpatient_and_revenue_center_data=sample_data[[6]]"
   ]
  },
  {
   "cell_type": "markdown",
   "id": "49f2391b-8fe9-417a-a991-1ac1adedcdb7",
   "metadata": {
    "tags": []
   },
   "source": [
    "### Patient yearly expenditures and use of services carrier\n",
    "\n",
    "I will first create a function that adds conditions of interest to the data.\n"
   ]
  },
  {
   "cell_type": "markdown",
   "id": "67c9078e-76e0-4da6-999e-77e6c8a9cc40",
   "metadata": {},
   "source": [
    "#### Finding conditions for each claim line"
   ]
  },
  {
   "cell_type": "code",
   "execution_count": 4,
   "id": "e02722bf-fc90-400e-9e29-faa6285560e4",
   "metadata": {
    "tags": []
   },
   "outputs": [
    {
     "name": "stderr",
     "output_type": "stream",
     "text": [
      "Loading required package: lubridate\n",
      "\n",
      "\n",
      "Attaching package: ‘lubridate’\n",
      "\n",
      "\n",
      "The following object is masked from ‘package:reshape’:\n",
      "\n",
      "    stamp\n",
      "\n",
      "\n",
      "The following objects are masked from ‘package:data.table’:\n",
      "\n",
      "    hour, isoweek, mday, minute, month, quarter, second, wday, week, yday, year\n",
      "\n",
      "\n",
      "The following objects are masked from ‘package:base’:\n",
      "\n",
      "    date, intersect, setdiff, union\n",
      "\n",
      "\n"
     ]
    },
    {
     "data": {
      "text/html": [
       "<table class=\"dataframe\">\n",
       "<caption>A data.table: 6 × 22</caption>\n",
       "<thead>\n",
       "\t<tr><th scope=col>DESY_SORT_KEY</th><th scope=col>CLAIM_NO</th><th scope=col>LINE_NUM</th><th scope=col>CLM_THRU_DT</th><th scope=col>LINE_PLACE_OF_SRVC_CD</th><th scope=col>HCPCS_CD</th><th scope=col>LINE_ICD_DGNS_VRSN_CD</th><th scope=col>LINE_ICD_DGNS_CD</th><th scope=col>LINE_ALOWD_CHRG_AMT</th><th scope=col>PRF_PHYSN_NPI</th><th scope=col>PRVDR_SPCLTY</th><th scope=col>PRVDR_STATE_CD</th><th scope=col>date</th><th scope=col>year</th><th scope=col>month_year</th><th scope=col>is_office_visit</th><th scope=col>is_by_primary_care_physician</th><th scope=col>is_hypertension</th><th scope=col>is_arthritis</th><th scope=col>is_IHD</th><th scope=col>is_diabetes</th><th scope=col>is_depression</th></tr>\n",
       "\t<tr><th scope=col>&lt;int&gt;</th><th scope=col>&lt;int&gt;</th><th scope=col>&lt;int&gt;</th><th scope=col>&lt;int&gt;</th><th scope=col>&lt;int&gt;</th><th scope=col>&lt;chr&gt;</th><th scope=col>&lt;int&gt;</th><th scope=col>&lt;chr&gt;</th><th scope=col>&lt;dbl&gt;</th><th scope=col>&lt;chr&gt;</th><th scope=col>&lt;chr&gt;</th><th scope=col>&lt;int&gt;</th><th scope=col>&lt;date&gt;</th><th scope=col>&lt;dbl&gt;</th><th scope=col>&lt;chr&gt;</th><th scope=col>&lt;lgl&gt;</th><th scope=col>&lt;lgl&gt;</th><th scope=col>&lt;lgl&gt;</th><th scope=col>&lt;lgl&gt;</th><th scope=col>&lt;lgl&gt;</th><th scope=col>&lt;lgl&gt;</th><th scope=col>&lt;lgl&gt;</th></tr>\n",
       "</thead>\n",
       "<tbody>\n",
       "\t<tr><td>100000015</td><td>2</td><td>1</td><td>20130425</td><td>22</td><td>94375</td><td>9</td><td>496  </td><td> 15.26</td><td>1073503884</td><td>29</td><td>22</td><td>2013-04-25</td><td>2013</td><td>2013-04</td><td>FALSE</td><td>FALSE</td><td>FALSE</td><td>FALSE</td><td>FALSE</td><td>FALSE</td><td>FALSE</td></tr>\n",
       "\t<tr><td>100000015</td><td>2</td><td>2</td><td>20130425</td><td>22</td><td>94726</td><td>9</td><td>496  </td><td> 13.54</td><td>1073503884</td><td>29</td><td>22</td><td>2013-04-25</td><td>2013</td><td>2013-04</td><td>FALSE</td><td>FALSE</td><td>FALSE</td><td>FALSE</td><td>FALSE</td><td>FALSE</td><td>FALSE</td></tr>\n",
       "\t<tr><td>100000015</td><td>2</td><td>3</td><td>20130425</td><td>22</td><td>94729</td><td>9</td><td>496  </td><td>  9.95</td><td>1073503884</td><td>29</td><td>22</td><td>2013-04-25</td><td>2013</td><td>2013-04</td><td>FALSE</td><td>FALSE</td><td>FALSE</td><td>FALSE</td><td>FALSE</td><td>FALSE</td><td>FALSE</td></tr>\n",
       "\t<tr><td>100000015</td><td>3</td><td>1</td><td>20130528</td><td>11</td><td>99214</td><td>9</td><td>41400</td><td>114.64</td><td>1285600932</td><td>11</td><td>22</td><td>2013-05-28</td><td>2013</td><td>2013-05</td><td> TRUE</td><td> TRUE</td><td>FALSE</td><td>FALSE</td><td> TRUE</td><td>FALSE</td><td>FALSE</td></tr>\n",
       "\t<tr><td>100000015</td><td>3</td><td>2</td><td>20130528</td><td>11</td><td>93000</td><td>9</td><td>41400</td><td> 20.08</td><td>1285600932</td><td>11</td><td>22</td><td>2013-05-28</td><td>2013</td><td>2013-05</td><td>FALSE</td><td> TRUE</td><td>FALSE</td><td>FALSE</td><td> TRUE</td><td>FALSE</td><td>FALSE</td></tr>\n",
       "\t<tr><td>100000015</td><td>4</td><td>1</td><td>20130719</td><td>22</td><td>99213</td><td>9</td><td>496  </td><td> 51.76</td><td>1659344091</td><td>29</td><td>22</td><td>2013-07-19</td><td>2013</td><td>2013-07</td><td> TRUE</td><td>FALSE</td><td>FALSE</td><td>FALSE</td><td>FALSE</td><td>FALSE</td><td>FALSE</td></tr>\n",
       "</tbody>\n",
       "</table>\n"
      ],
      "text/latex": [
       "A data.table: 6 × 22\n",
       "\\begin{tabular}{llllllllllllllllllllll}\n",
       " DESY\\_SORT\\_KEY & CLAIM\\_NO & LINE\\_NUM & CLM\\_THRU\\_DT & LINE\\_PLACE\\_OF\\_SRVC\\_CD & HCPCS\\_CD & LINE\\_ICD\\_DGNS\\_VRSN\\_CD & LINE\\_ICD\\_DGNS\\_CD & LINE\\_ALOWD\\_CHRG\\_AMT & PRF\\_PHYSN\\_NPI & PRVDR\\_SPCLTY & PRVDR\\_STATE\\_CD & date & year & month\\_year & is\\_office\\_visit & is\\_by\\_primary\\_care\\_physician & is\\_hypertension & is\\_arthritis & is\\_IHD & is\\_diabetes & is\\_depression\\\\\n",
       " <int> & <int> & <int> & <int> & <int> & <chr> & <int> & <chr> & <dbl> & <chr> & <chr> & <int> & <date> & <dbl> & <chr> & <lgl> & <lgl> & <lgl> & <lgl> & <lgl> & <lgl> & <lgl>\\\\\n",
       "\\hline\n",
       "\t 100000015 & 2 & 1 & 20130425 & 22 & 94375 & 9 & 496   &  15.26 & 1073503884 & 29 & 22 & 2013-04-25 & 2013 & 2013-04 & FALSE & FALSE & FALSE & FALSE & FALSE & FALSE & FALSE\\\\\n",
       "\t 100000015 & 2 & 2 & 20130425 & 22 & 94726 & 9 & 496   &  13.54 & 1073503884 & 29 & 22 & 2013-04-25 & 2013 & 2013-04 & FALSE & FALSE & FALSE & FALSE & FALSE & FALSE & FALSE\\\\\n",
       "\t 100000015 & 2 & 3 & 20130425 & 22 & 94729 & 9 & 496   &   9.95 & 1073503884 & 29 & 22 & 2013-04-25 & 2013 & 2013-04 & FALSE & FALSE & FALSE & FALSE & FALSE & FALSE & FALSE\\\\\n",
       "\t 100000015 & 3 & 1 & 20130528 & 11 & 99214 & 9 & 41400 & 114.64 & 1285600932 & 11 & 22 & 2013-05-28 & 2013 & 2013-05 &  TRUE &  TRUE & FALSE & FALSE &  TRUE & FALSE & FALSE\\\\\n",
       "\t 100000015 & 3 & 2 & 20130528 & 11 & 93000 & 9 & 41400 &  20.08 & 1285600932 & 11 & 22 & 2013-05-28 & 2013 & 2013-05 & FALSE &  TRUE & FALSE & FALSE &  TRUE & FALSE & FALSE\\\\\n",
       "\t 100000015 & 4 & 1 & 20130719 & 22 & 99213 & 9 & 496   &  51.76 & 1659344091 & 29 & 22 & 2013-07-19 & 2013 & 2013-07 &  TRUE & FALSE & FALSE & FALSE & FALSE & FALSE & FALSE\\\\\n",
       "\\end{tabular}\n"
      ],
      "text/markdown": [
       "\n",
       "A data.table: 6 × 22\n",
       "\n",
       "| DESY_SORT_KEY &lt;int&gt; | CLAIM_NO &lt;int&gt; | LINE_NUM &lt;int&gt; | CLM_THRU_DT &lt;int&gt; | LINE_PLACE_OF_SRVC_CD &lt;int&gt; | HCPCS_CD &lt;chr&gt; | LINE_ICD_DGNS_VRSN_CD &lt;int&gt; | LINE_ICD_DGNS_CD &lt;chr&gt; | LINE_ALOWD_CHRG_AMT &lt;dbl&gt; | PRF_PHYSN_NPI &lt;chr&gt; | PRVDR_SPCLTY &lt;chr&gt; | PRVDR_STATE_CD &lt;int&gt; | date &lt;date&gt; | year &lt;dbl&gt; | month_year &lt;chr&gt; | is_office_visit &lt;lgl&gt; | is_by_primary_care_physician &lt;lgl&gt; | is_hypertension &lt;lgl&gt; | is_arthritis &lt;lgl&gt; | is_IHD &lt;lgl&gt; | is_diabetes &lt;lgl&gt; | is_depression &lt;lgl&gt; |\n",
       "|---|---|---|---|---|---|---|---|---|---|---|---|---|---|---|---|---|---|---|---|---|---|\n",
       "| 100000015 | 2 | 1 | 20130425 | 22 | 94375 | 9 | 496   |  15.26 | 1073503884 | 29 | 22 | 2013-04-25 | 2013 | 2013-04 | FALSE | FALSE | FALSE | FALSE | FALSE | FALSE | FALSE |\n",
       "| 100000015 | 2 | 2 | 20130425 | 22 | 94726 | 9 | 496   |  13.54 | 1073503884 | 29 | 22 | 2013-04-25 | 2013 | 2013-04 | FALSE | FALSE | FALSE | FALSE | FALSE | FALSE | FALSE |\n",
       "| 100000015 | 2 | 3 | 20130425 | 22 | 94729 | 9 | 496   |   9.95 | 1073503884 | 29 | 22 | 2013-04-25 | 2013 | 2013-04 | FALSE | FALSE | FALSE | FALSE | FALSE | FALSE | FALSE |\n",
       "| 100000015 | 3 | 1 | 20130528 | 11 | 99214 | 9 | 41400 | 114.64 | 1285600932 | 11 | 22 | 2013-05-28 | 2013 | 2013-05 |  TRUE |  TRUE | FALSE | FALSE |  TRUE | FALSE | FALSE |\n",
       "| 100000015 | 3 | 2 | 20130528 | 11 | 93000 | 9 | 41400 |  20.08 | 1285600932 | 11 | 22 | 2013-05-28 | 2013 | 2013-05 | FALSE |  TRUE | FALSE | FALSE |  TRUE | FALSE | FALSE |\n",
       "| 100000015 | 4 | 1 | 20130719 | 22 | 99213 | 9 | 496   |  51.76 | 1659344091 | 29 | 22 | 2013-07-19 | 2013 | 2013-07 |  TRUE | FALSE | FALSE | FALSE | FALSE | FALSE | FALSE |\n",
       "\n"
      ],
      "text/plain": [
       "  DESY_SORT_KEY CLAIM_NO LINE_NUM CLM_THRU_DT LINE_PLACE_OF_SRVC_CD HCPCS_CD LINE_ICD_DGNS_VRSN_CD LINE_ICD_DGNS_CD LINE_ALOWD_CHRG_AMT PRF_PHYSN_NPI PRVDR_SPCLTY PRVDR_STATE_CD date       year month_year is_office_visit is_by_primary_care_physician is_hypertension is_arthritis is_IHD is_diabetes\n",
       "1 100000015     2        1        20130425    22                    94375    9                     496               15.26              1073503884    29           22             2013-04-25 2013 2013-04    FALSE           FALSE                        FALSE           FALSE        FALSE  FALSE      \n",
       "2 100000015     2        2        20130425    22                    94726    9                     496               13.54              1073503884    29           22             2013-04-25 2013 2013-04    FALSE           FALSE                        FALSE           FALSE        FALSE  FALSE      \n",
       "3 100000015     2        3        20130425    22                    94729    9                     496                9.95              1073503884    29           22             2013-04-25 2013 2013-04    FALSE           FALSE                        FALSE           FALSE        FALSE  FALSE      \n",
       "4 100000015     3        1        20130528    11                    99214    9                     41400            114.64              1285600932    11           22             2013-05-28 2013 2013-05     TRUE            TRUE                        FALSE           FALSE         TRUE  FALSE      \n",
       "5 100000015     3        2        20130528    11                    93000    9                     41400             20.08              1285600932    11           22             2013-05-28 2013 2013-05    FALSE            TRUE                        FALSE           FALSE         TRUE  FALSE      \n",
       "6 100000015     4        1        20130719    22                    99213    9                     496               51.76              1659344091    29           22             2013-07-19 2013 2013-07     TRUE           FALSE                        FALSE           FALSE        FALSE  FALSE      \n",
       "  is_depression\n",
       "1 FALSE        \n",
       "2 FALSE        \n",
       "3 FALSE        \n",
       "4 FALSE        \n",
       "5 FALSE        \n",
       "6 FALSE        "
      ]
     },
     "metadata": {},
     "output_type": "display_data"
    }
   ],
   "source": [
    "yearly_calculator_patient_conditions = function(data) {\n",
    "  \n",
    "  #requirements\n",
    "  require(data.table)\n",
    "  require(dtplyr)\n",
    "  require(tidyverse)\n",
    "  require(lubridate)\n",
    "  \n",
    "  data %>%\n",
    "    mutate(\n",
    "      is_office_visit = HCPCS_CD %in% office_visit_codes,\n",
    "      \n",
    "      is_by_primary_care_physician= PRVDR_SPCLTY %in% primary_care_specialty_codes,\n",
    "\n",
    "      is_hypertension= if_else(\n",
    "        LINE_ICD_DGNS_VRSN_CD == 0,\n",
    "        substr(LINE_ICD_DGNS_CD, 0, 3) %in% hypertension_icd_10_codes,\n",
    "        if_else(\n",
    "          LINE_ICD_DGNS_VRSN_CD == 9,\n",
    "          substr(LINE_ICD_DGNS_CD, 0, 3) %in% hypertension_icd_9_codes,NA)),\n",
    "      \n",
    "      is_arthritis= if_else(\n",
    "        LINE_ICD_DGNS_VRSN_CD == 0,\n",
    "        substr(LINE_ICD_DGNS_CD, 0, 3) %in% arthritis_icd_10_codes,\n",
    "        if_else(\n",
    "          LINE_ICD_DGNS_VRSN_CD == 9,\n",
    "          substr(LINE_ICD_DGNS_CD, 0, 3) %in% arthritis_icd_9_codes,NA)),\n",
    "      \n",
    "      is_IHD = if_else(\n",
    "        LINE_ICD_DGNS_VRSN_CD == 0,\n",
    "        substr(LINE_ICD_DGNS_CD, 0, 3) %in% IHD_icd_10_codes,\n",
    "        if_else(\n",
    "          LINE_ICD_DGNS_VRSN_CD == 9,\n",
    "          substr(LINE_ICD_DGNS_CD, 0, 3) %in% IHD_icd_9_codes,NA)),\n",
    "      \n",
    "      is_diabetes= if_else(\n",
    "        LINE_ICD_DGNS_VRSN_CD == 0,\n",
    "        substr(LINE_ICD_DGNS_CD, 0, 3) %in% diabetes_icd_10_codes,\n",
    "        if_else(\n",
    "          LINE_ICD_DGNS_VRSN_CD == 9,\n",
    "          substr(LINE_ICD_DGNS_CD, 0, 3) %in% diabetes_icd_9_codes,NA)),\n",
    "      \n",
    "      is_depression= if_else(\n",
    "        LINE_ICD_DGNS_VRSN_CD == 0,\n",
    "        substr(LINE_ICD_DGNS_CD, 0, 3) %in% depression_icd_10_codes,\n",
    "        if_else(\n",
    "          LINE_ICD_DGNS_VRSN_CD == 9,\n",
    "          substr(LINE_ICD_DGNS_CD, 0, 4) %in% depression_icd_9_codes,NA))\n",
    "\n",
    "      \n",
    "    ) %>%\n",
    "    as.data.table()\n",
    "}\n",
    "\n",
    "yearly_patient_conditions_carrier=yearly_calculator_patient_conditions(carrier_data_all_years)\n",
    "head(yearly_patient_conditions_carrier)\n"
   ]
  },
  {
   "cell_type": "markdown",
   "id": "e096caae-f181-4f25-8161-41b921b66bfd",
   "metadata": {
    "tags": []
   },
   "source": [
    "#### Summarizing patient data\n",
    "I will now summarise the data for each patient.\n"
   ]
  },
  {
   "cell_type": "code",
   "execution_count": 5,
   "id": "15c4ddb5-5f21-4158-9dfd-0e66e5dfffcc",
   "metadata": {},
   "outputs": [
    {
     "name": "stderr",
     "output_type": "stream",
     "text": [
      "`summarise()` has grouped output by 'DESY_SORT_KEY'. You can override using the `.groups` argument.\n"
     ]
    },
    {
     "data": {
      "text/html": [
       "<table class=\"dataframe\">\n",
       "<caption>A data.table: 6 × 11</caption>\n",
       "<thead>\n",
       "\t<tr><th scope=col>DESY_SORT_KEY</th><th scope=col>year</th><th scope=col>distinct_clinicians</th><th scope=col>distinct_primary_care_physicians</th><th scope=col>hypertension</th><th scope=col>arthritis</th><th scope=col>IHD</th><th scope=col>diabetes</th><th scope=col>depression</th><th scope=col>icd_9_pure</th><th scope=col>icd_10_pure</th></tr>\n",
       "\t<tr><th scope=col>&lt;int&gt;</th><th scope=col>&lt;dbl&gt;</th><th scope=col>&lt;int&gt;</th><th scope=col>&lt;int&gt;</th><th scope=col>&lt;lgl&gt;</th><th scope=col>&lt;lgl&gt;</th><th scope=col>&lt;lgl&gt;</th><th scope=col>&lt;lgl&gt;</th><th scope=col>&lt;lgl&gt;</th><th scope=col>&lt;lgl&gt;</th><th scope=col>&lt;lgl&gt;</th></tr>\n",
       "</thead>\n",
       "<tbody>\n",
       "\t<tr><td>100000015</td><td>2013</td><td> 7</td><td>1</td><td>FALSE</td><td>FALSE</td><td> TRUE</td><td>FALSE</td><td>FALSE</td><td> TRUE</td><td>FALSE</td></tr>\n",
       "\t<tr><td>100000015</td><td>2014</td><td>10</td><td>1</td><td>FALSE</td><td>FALSE</td><td> TRUE</td><td>FALSE</td><td>FALSE</td><td> TRUE</td><td>FALSE</td></tr>\n",
       "\t<tr><td>100000015</td><td>2015</td><td> 6</td><td>2</td><td> TRUE</td><td>FALSE</td><td>FALSE</td><td> TRUE</td><td>FALSE</td><td>FALSE</td><td>FALSE</td></tr>\n",
       "\t<tr><td>100000015</td><td>2016</td><td> 9</td><td>2</td><td> TRUE</td><td>FALSE</td><td> TRUE</td><td> TRUE</td><td>FALSE</td><td>FALSE</td><td> TRUE</td></tr>\n",
       "\t<tr><td>100000015</td><td>2017</td><td>14</td><td>3</td><td>FALSE</td><td>FALSE</td><td> TRUE</td><td> TRUE</td><td>FALSE</td><td>FALSE</td><td> TRUE</td></tr>\n",
       "\t<tr><td>100000015</td><td>2018</td><td>16</td><td>2</td><td>FALSE</td><td>FALSE</td><td> TRUE</td><td> TRUE</td><td>FALSE</td><td>FALSE</td><td> TRUE</td></tr>\n",
       "</tbody>\n",
       "</table>\n"
      ],
      "text/latex": [
       "A data.table: 6 × 11\n",
       "\\begin{tabular}{lllllllllll}\n",
       " DESY\\_SORT\\_KEY & year & distinct\\_clinicians & distinct\\_primary\\_care\\_physicians & hypertension & arthritis & IHD & diabetes & depression & icd\\_9\\_pure & icd\\_10\\_pure\\\\\n",
       " <int> & <dbl> & <int> & <int> & <lgl> & <lgl> & <lgl> & <lgl> & <lgl> & <lgl> & <lgl>\\\\\n",
       "\\hline\n",
       "\t 100000015 & 2013 &  7 & 1 & FALSE & FALSE &  TRUE & FALSE & FALSE &  TRUE & FALSE\\\\\n",
       "\t 100000015 & 2014 & 10 & 1 & FALSE & FALSE &  TRUE & FALSE & FALSE &  TRUE & FALSE\\\\\n",
       "\t 100000015 & 2015 &  6 & 2 &  TRUE & FALSE & FALSE &  TRUE & FALSE & FALSE & FALSE\\\\\n",
       "\t 100000015 & 2016 &  9 & 2 &  TRUE & FALSE &  TRUE &  TRUE & FALSE & FALSE &  TRUE\\\\\n",
       "\t 100000015 & 2017 & 14 & 3 & FALSE & FALSE &  TRUE &  TRUE & FALSE & FALSE &  TRUE\\\\\n",
       "\t 100000015 & 2018 & 16 & 2 & FALSE & FALSE &  TRUE &  TRUE & FALSE & FALSE &  TRUE\\\\\n",
       "\\end{tabular}\n"
      ],
      "text/markdown": [
       "\n",
       "A data.table: 6 × 11\n",
       "\n",
       "| DESY_SORT_KEY &lt;int&gt; | year &lt;dbl&gt; | distinct_clinicians &lt;int&gt; | distinct_primary_care_physicians &lt;int&gt; | hypertension &lt;lgl&gt; | arthritis &lt;lgl&gt; | IHD &lt;lgl&gt; | diabetes &lt;lgl&gt; | depression &lt;lgl&gt; | icd_9_pure &lt;lgl&gt; | icd_10_pure &lt;lgl&gt; |\n",
       "|---|---|---|---|---|---|---|---|---|---|---|\n",
       "| 100000015 | 2013 |  7 | 1 | FALSE | FALSE |  TRUE | FALSE | FALSE |  TRUE | FALSE |\n",
       "| 100000015 | 2014 | 10 | 1 | FALSE | FALSE |  TRUE | FALSE | FALSE |  TRUE | FALSE |\n",
       "| 100000015 | 2015 |  6 | 2 |  TRUE | FALSE | FALSE |  TRUE | FALSE | FALSE | FALSE |\n",
       "| 100000015 | 2016 |  9 | 2 |  TRUE | FALSE |  TRUE |  TRUE | FALSE | FALSE |  TRUE |\n",
       "| 100000015 | 2017 | 14 | 3 | FALSE | FALSE |  TRUE |  TRUE | FALSE | FALSE |  TRUE |\n",
       "| 100000015 | 2018 | 16 | 2 | FALSE | FALSE |  TRUE |  TRUE | FALSE | FALSE |  TRUE |\n",
       "\n"
      ],
      "text/plain": [
       "  DESY_SORT_KEY year distinct_clinicians distinct_primary_care_physicians hypertension arthritis IHD   diabetes depression icd_9_pure icd_10_pure\n",
       "1 100000015     2013  7                  1                                FALSE        FALSE      TRUE FALSE    FALSE       TRUE      FALSE      \n",
       "2 100000015     2014 10                  1                                FALSE        FALSE      TRUE FALSE    FALSE       TRUE      FALSE      \n",
       "3 100000015     2015  6                  2                                 TRUE        FALSE     FALSE  TRUE    FALSE      FALSE      FALSE      \n",
       "4 100000015     2016  9                  2                                 TRUE        FALSE      TRUE  TRUE    FALSE      FALSE       TRUE      \n",
       "5 100000015     2017 14                  3                                FALSE        FALSE      TRUE  TRUE    FALSE      FALSE       TRUE      \n",
       "6 100000015     2018 16                  2                                FALSE        FALSE      TRUE  TRUE    FALSE      FALSE       TRUE      "
      ]
     },
     "metadata": {},
     "output_type": "display_data"
    }
   ],
   "source": [
    "summarise_carrier = function(data, time_frame = 365){\n",
    "  \n",
    "  data%>%\n",
    "    group_by(DESY_SORT_KEY,year) %>%\n",
    "    summarise(\n",
    "      #tot_allowed_carrier = sum(na.rm = T, LINE_ALOWD_CHRG_AMT),\n",
    "      \n",
    "      #office_visit_count = sum(na.rm = T, is_office_visit),\n",
    "      \n",
    "      #office_visit_cost_carrier = sum(na.rm = T, LINE_ALOWD_CHRG_AMT * is_office_visit),\n",
    "      \n",
    "      distinct_clinicians = length(unique(PRF_PHYSN_NPI)),\n",
    "      \n",
    "      distinct_primary_care_physicians = length(.[is_by_primary_care_physician, unique(PRF_PHYSN_NPI)]),\n",
    "\n",
    "      hypertension = sum(is_hypertension, na.rm = T) > 0,\n",
    "      \n",
    "      arthritis = sum(is_arthritis, na.rm = T) > 0,\n",
    "      \n",
    "      IHD = sum(is_IHD, na.rm = T) > 0,\n",
    "      \n",
    "      diabetes = sum(is_diabetes, na.rm = T) > 0,\n",
    "  \n",
    "      depression = sum(is_depression, na.rm = T) > 0,\n",
    "      \n",
    "      icd_9_pure = ifelse(prod(LINE_ICD_DGNS_VRSN_CD, na.rm = T) == 0, F, T),\n",
    "      \n",
    "      icd_10_pure = ifelse(sum(LINE_ICD_DGNS_VRSN_CD, na.rm = T) == 0, T, F),\n",
    "      \n",
    "    ) %>%\n",
    "    as.data.table()\n",
    "}\n",
    "\n",
    "\n",
    "summary_patient_by_year = summarise_carrier(yearly_patient_conditions_carrier)\n",
    "head(summary_patient_by_year)\n"
   ]
  },
  {
   "cell_type": "code",
   "execution_count": 6,
   "id": "81010465-c439-4ac4-9875-63f69689788e",
   "metadata": {},
   "outputs": [
    {
     "data": {
      "text/html": [
       "<table class=\"dataframe\">\n",
       "<caption>A data.table: 6 × 46</caption>\n",
       "<thead>\n",
       "\t<tr><th scope=col>DESY_SORT_KEY</th><th scope=col>year</th><th scope=col>distinct_clinicians</th><th scope=col>distinct_primary_care_physicians</th><th scope=col>hypertension</th><th scope=col>arthritis</th><th scope=col>IHD</th><th scope=col>diabetes</th><th scope=col>depression</th><th scope=col>icd_9_pure</th><th scope=col>icd_10_pure</th><th scope=col>REFERENCE_YEAR</th><th scope=col>STATE_CODE</th><th scope=col>COUNTY_CODE</th><th scope=col>SEX_CODE</th><th scope=col>RACE_CODE</th><th scope=col>AGE</th><th scope=col>ORIG_REASON_FOR_ENTITLEMENT</th><th scope=col>CURR_REASON_FOR_ENTITLEMENT</th><th scope=col>ENTITLEMENT_BUY_IN_IND01</th><th scope=col>ENTITLEMENT_BUY_IN_IND02</th><th scope=col>ENTITLEMENT_BUY_IN_IND03</th><th scope=col>ENTITLEMENT_BUY_IN_IND04</th><th scope=col>ENTITLEMENT_BUY_IN_IND05</th><th scope=col>ENTITLEMENT_BUY_IN_IND06</th><th scope=col>ENTITLEMENT_BUY_IN_IND07</th><th scope=col>ENTITLEMENT_BUY_IN_IND08</th><th scope=col>ENTITLEMENT_BUY_IN_IND09</th><th scope=col>ENTITLEMENT_BUY_IN_IND10</th><th scope=col>ENTITLEMENT_BUY_IN_IND11</th><th scope=col>ENTITLEMENT_BUY_IN_IND12</th><th scope=col>HMO_INDICATOR01</th><th scope=col>HMO_INDICATOR02</th><th scope=col>HMO_INDICATOR03</th><th scope=col>HMO_INDICATOR04</th><th scope=col>HMO_INDICATOR05</th><th scope=col>HMO_INDICATOR06</th><th scope=col>HMO_INDICATOR07</th><th scope=col>HMO_INDICATOR08</th><th scope=col>HMO_INDICATOR09</th><th scope=col>HMO_INDICATOR10</th><th scope=col>HMO_INDICATOR11</th><th scope=col>HMO_INDICATOR12</th><th scope=col>VALID_DATE_OF_DEATH_SWITCH</th><th scope=col>DATE_OF_DEATH</th><th scope=col>year_of_death</th></tr>\n",
       "\t<tr><th scope=col>&lt;int&gt;</th><th scope=col>&lt;dbl&gt;</th><th scope=col>&lt;int&gt;</th><th scope=col>&lt;int&gt;</th><th scope=col>&lt;lgl&gt;</th><th scope=col>&lt;lgl&gt;</th><th scope=col>&lt;lgl&gt;</th><th scope=col>&lt;lgl&gt;</th><th scope=col>&lt;lgl&gt;</th><th scope=col>&lt;lgl&gt;</th><th scope=col>&lt;lgl&gt;</th><th scope=col>&lt;dbl&gt;</th><th scope=col>&lt;chr&gt;</th><th scope=col>&lt;chr&gt;</th><th scope=col>&lt;dbl&gt;</th><th scope=col>&lt;dbl&gt;</th><th scope=col>&lt;dbl&gt;</th><th scope=col>&lt;dbl&gt;</th><th scope=col>&lt;dbl&gt;</th><th scope=col>&lt;chr&gt;</th><th scope=col>&lt;chr&gt;</th><th scope=col>&lt;chr&gt;</th><th scope=col>&lt;chr&gt;</th><th scope=col>&lt;chr&gt;</th><th scope=col>&lt;chr&gt;</th><th scope=col>&lt;chr&gt;</th><th scope=col>&lt;chr&gt;</th><th scope=col>&lt;chr&gt;</th><th scope=col>&lt;chr&gt;</th><th scope=col>&lt;chr&gt;</th><th scope=col>&lt;chr&gt;</th><th scope=col>&lt;chr&gt;</th><th scope=col>&lt;chr&gt;</th><th scope=col>&lt;chr&gt;</th><th scope=col>&lt;chr&gt;</th><th scope=col>&lt;chr&gt;</th><th scope=col>&lt;chr&gt;</th><th scope=col>&lt;chr&gt;</th><th scope=col>&lt;chr&gt;</th><th scope=col>&lt;chr&gt;</th><th scope=col>&lt;chr&gt;</th><th scope=col>&lt;chr&gt;</th><th scope=col>&lt;chr&gt;</th><th scope=col>&lt;chr&gt;</th><th scope=col>&lt;dbl&gt;</th><th scope=col>&lt;chr&gt;</th></tr>\n",
       "</thead>\n",
       "<tbody>\n",
       "\t<tr><td>100000015</td><td>2013</td><td> 7</td><td>1</td><td>FALSE</td><td>FALSE</td><td> TRUE</td><td>FALSE</td><td>FALSE</td><td> TRUE</td><td>FALSE</td><td>13</td><td>22</td><td>160</td><td> 1</td><td> 1</td><td>76</td><td> 0</td><td> 0</td><td>3 </td><td>3 </td><td>3 </td><td>3 </td><td>3 </td><td>3 </td><td>3 </td><td>3 </td><td>3 </td><td>3 </td><td>3 </td><td>3 </td><td>0 </td><td>0 </td><td>0 </td><td>0 </td><td>0 </td><td>0 </td><td>0 </td><td>0 </td><td>0 </td><td>0 </td><td>0 </td><td>0 </td><td>NA</td><td>NA</td><td>NA</td></tr>\n",
       "\t<tr><td>100000015</td><td>2014</td><td>10</td><td>1</td><td>FALSE</td><td>FALSE</td><td> TRUE</td><td>FALSE</td><td>FALSE</td><td> TRUE</td><td>FALSE</td><td>NA</td><td>NA</td><td>NA </td><td>NA</td><td>NA</td><td>NA</td><td>NA</td><td>NA</td><td>NA</td><td>NA</td><td>NA</td><td>NA</td><td>NA</td><td>NA</td><td>NA</td><td>NA</td><td>NA</td><td>NA</td><td>NA</td><td>NA</td><td>NA</td><td>NA</td><td>NA</td><td>NA</td><td>NA</td><td>NA</td><td>NA</td><td>NA</td><td>NA</td><td>NA</td><td>NA</td><td>NA</td><td>NA</td><td>NA</td><td>NA</td></tr>\n",
       "\t<tr><td>100000015</td><td>2015</td><td> 6</td><td>2</td><td> TRUE</td><td>FALSE</td><td>FALSE</td><td> TRUE</td><td>FALSE</td><td>FALSE</td><td>FALSE</td><td>NA</td><td>NA</td><td>NA </td><td>NA</td><td>NA</td><td>NA</td><td>NA</td><td>NA</td><td>NA</td><td>NA</td><td>NA</td><td>NA</td><td>NA</td><td>NA</td><td>NA</td><td>NA</td><td>NA</td><td>NA</td><td>NA</td><td>NA</td><td>NA</td><td>NA</td><td>NA</td><td>NA</td><td>NA</td><td>NA</td><td>NA</td><td>NA</td><td>NA</td><td>NA</td><td>NA</td><td>NA</td><td>NA</td><td>NA</td><td>NA</td></tr>\n",
       "\t<tr><td>100000015</td><td>2016</td><td> 9</td><td>2</td><td> TRUE</td><td>FALSE</td><td> TRUE</td><td> TRUE</td><td>FALSE</td><td>FALSE</td><td> TRUE</td><td>NA</td><td>NA</td><td>NA </td><td>NA</td><td>NA</td><td>NA</td><td>NA</td><td>NA</td><td>NA</td><td>NA</td><td>NA</td><td>NA</td><td>NA</td><td>NA</td><td>NA</td><td>NA</td><td>NA</td><td>NA</td><td>NA</td><td>NA</td><td>NA</td><td>NA</td><td>NA</td><td>NA</td><td>NA</td><td>NA</td><td>NA</td><td>NA</td><td>NA</td><td>NA</td><td>NA</td><td>NA</td><td>NA</td><td>NA</td><td>NA</td></tr>\n",
       "\t<tr><td>100000015</td><td>2017</td><td>14</td><td>3</td><td>FALSE</td><td>FALSE</td><td> TRUE</td><td> TRUE</td><td>FALSE</td><td>FALSE</td><td> TRUE</td><td>NA</td><td>NA</td><td>NA </td><td>NA</td><td>NA</td><td>NA</td><td>NA</td><td>NA</td><td>NA</td><td>NA</td><td>NA</td><td>NA</td><td>NA</td><td>NA</td><td>NA</td><td>NA</td><td>NA</td><td>NA</td><td>NA</td><td>NA</td><td>NA</td><td>NA</td><td>NA</td><td>NA</td><td>NA</td><td>NA</td><td>NA</td><td>NA</td><td>NA</td><td>NA</td><td>NA</td><td>NA</td><td>NA</td><td>NA</td><td>NA</td></tr>\n",
       "\t<tr><td>100000015</td><td>2018</td><td>16</td><td>2</td><td>FALSE</td><td>FALSE</td><td> TRUE</td><td> TRUE</td><td>FALSE</td><td>FALSE</td><td> TRUE</td><td>NA</td><td>NA</td><td>NA </td><td>NA</td><td>NA</td><td>NA</td><td>NA</td><td>NA</td><td>NA</td><td>NA</td><td>NA</td><td>NA</td><td>NA</td><td>NA</td><td>NA</td><td>NA</td><td>NA</td><td>NA</td><td>NA</td><td>NA</td><td>NA</td><td>NA</td><td>NA</td><td>NA</td><td>NA</td><td>NA</td><td>NA</td><td>NA</td><td>NA</td><td>NA</td><td>NA</td><td>NA</td><td>NA</td><td>NA</td><td>NA</td></tr>\n",
       "</tbody>\n",
       "</table>\n"
      ],
      "text/latex": [
       "A data.table: 6 × 46\n",
       "\\begin{tabular}{llllllllllllllllllllllllllllllllllllllllllllll}\n",
       " DESY\\_SORT\\_KEY & year & distinct\\_clinicians & distinct\\_primary\\_care\\_physicians & hypertension & arthritis & IHD & diabetes & depression & icd\\_9\\_pure & icd\\_10\\_pure & REFERENCE\\_YEAR & STATE\\_CODE & COUNTY\\_CODE & SEX\\_CODE & RACE\\_CODE & AGE & ORIG\\_REASON\\_FOR\\_ENTITLEMENT & CURR\\_REASON\\_FOR\\_ENTITLEMENT & ENTITLEMENT\\_BUY\\_IN\\_IND01 & ENTITLEMENT\\_BUY\\_IN\\_IND02 & ENTITLEMENT\\_BUY\\_IN\\_IND03 & ENTITLEMENT\\_BUY\\_IN\\_IND04 & ENTITLEMENT\\_BUY\\_IN\\_IND05 & ENTITLEMENT\\_BUY\\_IN\\_IND06 & ENTITLEMENT\\_BUY\\_IN\\_IND07 & ENTITLEMENT\\_BUY\\_IN\\_IND08 & ENTITLEMENT\\_BUY\\_IN\\_IND09 & ENTITLEMENT\\_BUY\\_IN\\_IND10 & ENTITLEMENT\\_BUY\\_IN\\_IND11 & ENTITLEMENT\\_BUY\\_IN\\_IND12 & HMO\\_INDICATOR01 & HMO\\_INDICATOR02 & HMO\\_INDICATOR03 & HMO\\_INDICATOR04 & HMO\\_INDICATOR05 & HMO\\_INDICATOR06 & HMO\\_INDICATOR07 & HMO\\_INDICATOR08 & HMO\\_INDICATOR09 & HMO\\_INDICATOR10 & HMO\\_INDICATOR11 & HMO\\_INDICATOR12 & VALID\\_DATE\\_OF\\_DEATH\\_SWITCH & DATE\\_OF\\_DEATH & year\\_of\\_death\\\\\n",
       " <int> & <dbl> & <int> & <int> & <lgl> & <lgl> & <lgl> & <lgl> & <lgl> & <lgl> & <lgl> & <dbl> & <chr> & <chr> & <dbl> & <dbl> & <dbl> & <dbl> & <dbl> & <chr> & <chr> & <chr> & <chr> & <chr> & <chr> & <chr> & <chr> & <chr> & <chr> & <chr> & <chr> & <chr> & <chr> & <chr> & <chr> & <chr> & <chr> & <chr> & <chr> & <chr> & <chr> & <chr> & <chr> & <chr> & <dbl> & <chr>\\\\\n",
       "\\hline\n",
       "\t 100000015 & 2013 &  7 & 1 & FALSE & FALSE &  TRUE & FALSE & FALSE &  TRUE & FALSE & 13 & 22 & 160 &  1 &  1 & 76 &  0 &  0 & 3  & 3  & 3  & 3  & 3  & 3  & 3  & 3  & 3  & 3  & 3  & 3  & 0  & 0  & 0  & 0  & 0  & 0  & 0  & 0  & 0  & 0  & 0  & 0  & NA & NA & NA\\\\\n",
       "\t 100000015 & 2014 & 10 & 1 & FALSE & FALSE &  TRUE & FALSE & FALSE &  TRUE & FALSE & NA & NA & NA  & NA & NA & NA & NA & NA & NA & NA & NA & NA & NA & NA & NA & NA & NA & NA & NA & NA & NA & NA & NA & NA & NA & NA & NA & NA & NA & NA & NA & NA & NA & NA & NA\\\\\n",
       "\t 100000015 & 2015 &  6 & 2 &  TRUE & FALSE & FALSE &  TRUE & FALSE & FALSE & FALSE & NA & NA & NA  & NA & NA & NA & NA & NA & NA & NA & NA & NA & NA & NA & NA & NA & NA & NA & NA & NA & NA & NA & NA & NA & NA & NA & NA & NA & NA & NA & NA & NA & NA & NA & NA\\\\\n",
       "\t 100000015 & 2016 &  9 & 2 &  TRUE & FALSE &  TRUE &  TRUE & FALSE & FALSE &  TRUE & NA & NA & NA  & NA & NA & NA & NA & NA & NA & NA & NA & NA & NA & NA & NA & NA & NA & NA & NA & NA & NA & NA & NA & NA & NA & NA & NA & NA & NA & NA & NA & NA & NA & NA & NA\\\\\n",
       "\t 100000015 & 2017 & 14 & 3 & FALSE & FALSE &  TRUE &  TRUE & FALSE & FALSE &  TRUE & NA & NA & NA  & NA & NA & NA & NA & NA & NA & NA & NA & NA & NA & NA & NA & NA & NA & NA & NA & NA & NA & NA & NA & NA & NA & NA & NA & NA & NA & NA & NA & NA & NA & NA & NA\\\\\n",
       "\t 100000015 & 2018 & 16 & 2 & FALSE & FALSE &  TRUE &  TRUE & FALSE & FALSE &  TRUE & NA & NA & NA  & NA & NA & NA & NA & NA & NA & NA & NA & NA & NA & NA & NA & NA & NA & NA & NA & NA & NA & NA & NA & NA & NA & NA & NA & NA & NA & NA & NA & NA & NA & NA & NA\\\\\n",
       "\\end{tabular}\n"
      ],
      "text/markdown": [
       "\n",
       "A data.table: 6 × 46\n",
       "\n",
       "| DESY_SORT_KEY &lt;int&gt; | year &lt;dbl&gt; | distinct_clinicians &lt;int&gt; | distinct_primary_care_physicians &lt;int&gt; | hypertension &lt;lgl&gt; | arthritis &lt;lgl&gt; | IHD &lt;lgl&gt; | diabetes &lt;lgl&gt; | depression &lt;lgl&gt; | icd_9_pure &lt;lgl&gt; | icd_10_pure &lt;lgl&gt; | REFERENCE_YEAR &lt;dbl&gt; | STATE_CODE &lt;chr&gt; | COUNTY_CODE &lt;chr&gt; | SEX_CODE &lt;dbl&gt; | RACE_CODE &lt;dbl&gt; | AGE &lt;dbl&gt; | ORIG_REASON_FOR_ENTITLEMENT &lt;dbl&gt; | CURR_REASON_FOR_ENTITLEMENT &lt;dbl&gt; | ENTITLEMENT_BUY_IN_IND01 &lt;chr&gt; | ENTITLEMENT_BUY_IN_IND02 &lt;chr&gt; | ENTITLEMENT_BUY_IN_IND03 &lt;chr&gt; | ENTITLEMENT_BUY_IN_IND04 &lt;chr&gt; | ENTITLEMENT_BUY_IN_IND05 &lt;chr&gt; | ENTITLEMENT_BUY_IN_IND06 &lt;chr&gt; | ENTITLEMENT_BUY_IN_IND07 &lt;chr&gt; | ENTITLEMENT_BUY_IN_IND08 &lt;chr&gt; | ENTITLEMENT_BUY_IN_IND09 &lt;chr&gt; | ENTITLEMENT_BUY_IN_IND10 &lt;chr&gt; | ENTITLEMENT_BUY_IN_IND11 &lt;chr&gt; | ENTITLEMENT_BUY_IN_IND12 &lt;chr&gt; | HMO_INDICATOR01 &lt;chr&gt; | HMO_INDICATOR02 &lt;chr&gt; | HMO_INDICATOR03 &lt;chr&gt; | HMO_INDICATOR04 &lt;chr&gt; | HMO_INDICATOR05 &lt;chr&gt; | HMO_INDICATOR06 &lt;chr&gt; | HMO_INDICATOR07 &lt;chr&gt; | HMO_INDICATOR08 &lt;chr&gt; | HMO_INDICATOR09 &lt;chr&gt; | HMO_INDICATOR10 &lt;chr&gt; | HMO_INDICATOR11 &lt;chr&gt; | HMO_INDICATOR12 &lt;chr&gt; | VALID_DATE_OF_DEATH_SWITCH &lt;chr&gt; | DATE_OF_DEATH &lt;dbl&gt; | year_of_death &lt;chr&gt; |\n",
       "|---|---|---|---|---|---|---|---|---|---|---|---|---|---|---|---|---|---|---|---|---|---|---|---|---|---|---|---|---|---|---|---|---|---|---|---|---|---|---|---|---|---|---|---|---|---|\n",
       "| 100000015 | 2013 |  7 | 1 | FALSE | FALSE |  TRUE | FALSE | FALSE |  TRUE | FALSE | 13 | 22 | 160 |  1 |  1 | 76 |  0 |  0 | 3  | 3  | 3  | 3  | 3  | 3  | 3  | 3  | 3  | 3  | 3  | 3  | 0  | 0  | 0  | 0  | 0  | 0  | 0  | 0  | 0  | 0  | 0  | 0  | NA | NA | NA |\n",
       "| 100000015 | 2014 | 10 | 1 | FALSE | FALSE |  TRUE | FALSE | FALSE |  TRUE | FALSE | NA | NA | NA  | NA | NA | NA | NA | NA | NA | NA | NA | NA | NA | NA | NA | NA | NA | NA | NA | NA | NA | NA | NA | NA | NA | NA | NA | NA | NA | NA | NA | NA | NA | NA | NA |\n",
       "| 100000015 | 2015 |  6 | 2 |  TRUE | FALSE | FALSE |  TRUE | FALSE | FALSE | FALSE | NA | NA | NA  | NA | NA | NA | NA | NA | NA | NA | NA | NA | NA | NA | NA | NA | NA | NA | NA | NA | NA | NA | NA | NA | NA | NA | NA | NA | NA | NA | NA | NA | NA | NA | NA |\n",
       "| 100000015 | 2016 |  9 | 2 |  TRUE | FALSE |  TRUE |  TRUE | FALSE | FALSE |  TRUE | NA | NA | NA  | NA | NA | NA | NA | NA | NA | NA | NA | NA | NA | NA | NA | NA | NA | NA | NA | NA | NA | NA | NA | NA | NA | NA | NA | NA | NA | NA | NA | NA | NA | NA | NA |\n",
       "| 100000015 | 2017 | 14 | 3 | FALSE | FALSE |  TRUE |  TRUE | FALSE | FALSE |  TRUE | NA | NA | NA  | NA | NA | NA | NA | NA | NA | NA | NA | NA | NA | NA | NA | NA | NA | NA | NA | NA | NA | NA | NA | NA | NA | NA | NA | NA | NA | NA | NA | NA | NA | NA | NA |\n",
       "| 100000015 | 2018 | 16 | 2 | FALSE | FALSE |  TRUE |  TRUE | FALSE | FALSE |  TRUE | NA | NA | NA  | NA | NA | NA | NA | NA | NA | NA | NA | NA | NA | NA | NA | NA | NA | NA | NA | NA | NA | NA | NA | NA | NA | NA | NA | NA | NA | NA | NA | NA | NA | NA | NA |\n",
       "\n"
      ],
      "text/plain": [
       "  DESY_SORT_KEY year distinct_clinicians distinct_primary_care_physicians hypertension arthritis IHD   diabetes depression icd_9_pure icd_10_pure REFERENCE_YEAR STATE_CODE COUNTY_CODE SEX_CODE RACE_CODE AGE ORIG_REASON_FOR_ENTITLEMENT CURR_REASON_FOR_ENTITLEMENT ENTITLEMENT_BUY_IN_IND01\n",
       "1 100000015     2013  7                  1                                FALSE        FALSE      TRUE FALSE    FALSE       TRUE      FALSE       13             22         160          1        1        76   0                           0                          3                       \n",
       "2 100000015     2014 10                  1                                FALSE        FALSE      TRUE FALSE    FALSE       TRUE      FALSE       NA             NA         NA          NA       NA        NA  NA                          NA                          NA                      \n",
       "3 100000015     2015  6                  2                                 TRUE        FALSE     FALSE  TRUE    FALSE      FALSE      FALSE       NA             NA         NA          NA       NA        NA  NA                          NA                          NA                      \n",
       "4 100000015     2016  9                  2                                 TRUE        FALSE      TRUE  TRUE    FALSE      FALSE       TRUE       NA             NA         NA          NA       NA        NA  NA                          NA                          NA                      \n",
       "5 100000015     2017 14                  3                                FALSE        FALSE      TRUE  TRUE    FALSE      FALSE       TRUE       NA             NA         NA          NA       NA        NA  NA                          NA                          NA                      \n",
       "6 100000015     2018 16                  2                                FALSE        FALSE      TRUE  TRUE    FALSE      FALSE       TRUE       NA             NA         NA          NA       NA        NA  NA                          NA                          NA                      \n",
       "  ENTITLEMENT_BUY_IN_IND02 ENTITLEMENT_BUY_IN_IND03 ENTITLEMENT_BUY_IN_IND04 ENTITLEMENT_BUY_IN_IND05 ENTITLEMENT_BUY_IN_IND06 ENTITLEMENT_BUY_IN_IND07 ENTITLEMENT_BUY_IN_IND08 ENTITLEMENT_BUY_IN_IND09 ENTITLEMENT_BUY_IN_IND10 ENTITLEMENT_BUY_IN_IND11 ENTITLEMENT_BUY_IN_IND12 HMO_INDICATOR01\n",
       "1 3                        3                        3                        3                        3                        3                        3                        3                        3                        3                        3                        0              \n",
       "2 NA                       NA                       NA                       NA                       NA                       NA                       NA                       NA                       NA                       NA                       NA                       NA             \n",
       "3 NA                       NA                       NA                       NA                       NA                       NA                       NA                       NA                       NA                       NA                       NA                       NA             \n",
       "4 NA                       NA                       NA                       NA                       NA                       NA                       NA                       NA                       NA                       NA                       NA                       NA             \n",
       "5 NA                       NA                       NA                       NA                       NA                       NA                       NA                       NA                       NA                       NA                       NA                       NA             \n",
       "6 NA                       NA                       NA                       NA                       NA                       NA                       NA                       NA                       NA                       NA                       NA                       NA             \n",
       "  HMO_INDICATOR02 HMO_INDICATOR03 HMO_INDICATOR04 HMO_INDICATOR05 HMO_INDICATOR06 HMO_INDICATOR07 HMO_INDICATOR08 HMO_INDICATOR09 HMO_INDICATOR10 HMO_INDICATOR11 HMO_INDICATOR12 VALID_DATE_OF_DEATH_SWITCH DATE_OF_DEATH year_of_death\n",
       "1 0               0               0               0               0               0               0               0               0               0               0               NA                         NA            NA           \n",
       "2 NA              NA              NA              NA              NA              NA              NA              NA              NA              NA              NA              NA                         NA            NA           \n",
       "3 NA              NA              NA              NA              NA              NA              NA              NA              NA              NA              NA              NA                         NA            NA           \n",
       "4 NA              NA              NA              NA              NA              NA              NA              NA              NA              NA              NA              NA                         NA            NA           \n",
       "5 NA              NA              NA              NA              NA              NA              NA              NA              NA              NA              NA              NA                         NA            NA           \n",
       "6 NA              NA              NA              NA              NA              NA              NA              NA              NA              NA              NA              NA                         NA            NA           "
      ]
     },
     "metadata": {},
     "output_type": "display_data"
    }
   ],
   "source": [
    "add_patient_characteristics = function(mbsf_data,summary_data){\n",
    "  require(dtplyr)\n",
    "  require(lubridate)\n",
    "  require(tidyverse)\n",
    "  data = left_join(summary_data,mbsf_data,by=c(\"DESY_SORT_KEY\",\"year\")) %>% as.data.frame()\n",
    "  \n",
    "  data %>%\n",
    "  mutate(\n",
    "    year_of_death=substr(DATE_OF_DEATH,0,4)\n",
    "  )%>%\n",
    "  as.data.table()\n",
    "}\n",
    "\n",
    "summary_with_patient_characteristics=add_patient_characteristics(mbsf_data,summary_patient_by_year)\n",
    "head(summary_with_patient_characteristics)"
   ]
  },
  {
   "cell_type": "code",
   "execution_count": 8,
   "id": "82fd44aa-ca6d-4258-b359-1e38e9b08143",
   "metadata": {},
   "outputs": [],
   "source": [
    "write.fst(summary_with_patient_characteristics,\"summary_with_patient_characteristics_before_join.fst\")\n",
    "write.fst(summary_patient_by_year,\"summary_patient_by_year_before_join.fst\")\n"
   ]
  },
  {
   "cell_type": "markdown",
   "id": "93d2a35f-3de8-4bdf-a25c-0dfc40f0f6db",
   "metadata": {
    "tags": [],
    "toc-hr-collapsed": true
   },
   "source": [
    "### Most common physicians for each patient\n",
    "\n",
    "Now, we will find most common physicians and cardiologists for each patient.\n"
   ]
  },
  {
   "cell_type": "code",
   "execution_count": 3,
   "id": "8aca29a6-f51d-45e4-af4e-8a56077dd6cf",
   "metadata": {},
   "outputs": [],
   "source": [
    "summary_with_patient_characteristics=read.fst(\"summary_with_patient_characteristics_before_join.fst\", as.data.table=T)\n",
    "summary_patient_by_year=read.fst(\"summary_patient_by_year_before_join.fst\", as.data.table=T)\n"
   ]
  },
  {
   "cell_type": "code",
   "execution_count": 8,
   "id": "4b9aecc3-1c64-44fa-a301-02d7f6933920",
   "metadata": {
    "tags": []
   },
   "outputs": [
    {
     "name": "stderr",
     "output_type": "stream",
     "text": [
      "`summarise()` has grouped output by 'DESY_SORT_KEY', 'year'. You can override using the `.groups` argument.\n"
     ]
    },
    {
     "data": {
      "text/html": [
       "<table class=\"dataframe\">\n",
       "<caption>A data.table: 6 × 52</caption>\n",
       "<thead>\n",
       "\t<tr><th scope=col>DESY_SORT_KEY</th><th scope=col>year</th><th scope=col>distinct_clinicians</th><th scope=col>distinct_primary_care_physicians</th><th scope=col>hypertension</th><th scope=col>arthritis</th><th scope=col>IHD</th><th scope=col>diabetes</th><th scope=col>depression</th><th scope=col>icd_9_pure</th><th scope=col>icd_10_pure</th><th scope=col>REFERENCE_YEAR</th><th scope=col>STATE_CODE</th><th scope=col>COUNTY_CODE</th><th scope=col>SEX_CODE</th><th scope=col>RACE_CODE</th><th scope=col>AGE</th><th scope=col>ORIG_REASON_FOR_ENTITLEMENT</th><th scope=col>CURR_REASON_FOR_ENTITLEMENT</th><th scope=col>ENTITLEMENT_BUY_IN_IND01</th><th scope=col>ENTITLEMENT_BUY_IN_IND02</th><th scope=col>ENTITLEMENT_BUY_IN_IND03</th><th scope=col>ENTITLEMENT_BUY_IN_IND04</th><th scope=col>ENTITLEMENT_BUY_IN_IND05</th><th scope=col>ENTITLEMENT_BUY_IN_IND06</th><th scope=col>ENTITLEMENT_BUY_IN_IND07</th><th scope=col>ENTITLEMENT_BUY_IN_IND08</th><th scope=col>ENTITLEMENT_BUY_IN_IND09</th><th scope=col>ENTITLEMENT_BUY_IN_IND10</th><th scope=col>ENTITLEMENT_BUY_IN_IND11</th><th scope=col>ENTITLEMENT_BUY_IN_IND12</th><th scope=col>HMO_INDICATOR01</th><th scope=col>HMO_INDICATOR02</th><th scope=col>HMO_INDICATOR03</th><th scope=col>HMO_INDICATOR04</th><th scope=col>HMO_INDICATOR05</th><th scope=col>HMO_INDICATOR06</th><th scope=col>HMO_INDICATOR07</th><th scope=col>HMO_INDICATOR08</th><th scope=col>HMO_INDICATOR09</th><th scope=col>HMO_INDICATOR10</th><th scope=col>HMO_INDICATOR11</th><th scope=col>HMO_INDICATOR12</th><th scope=col>VALID_DATE_OF_DEATH_SWITCH</th><th scope=col>DATE_OF_DEATH</th><th scope=col>year_of_death</th><th scope=col>most_common_physician_PRF_PHYSN_NPI</th><th scope=col>most_common_physician_n</th><th scope=col>most_common_physician_PRVDR_SPCLTY</th><th scope=col>most_common_primary_care_physician_PRF_PHYSN_NPI</th><th scope=col>most_common_primary_care_physician_n</th><th scope=col>most_common_primary_care_physician_PRVDR_SPCLTY</th></tr>\n",
       "\t<tr><th scope=col>&lt;int&gt;</th><th scope=col>&lt;dbl&gt;</th><th scope=col>&lt;int&gt;</th><th scope=col>&lt;int&gt;</th><th scope=col>&lt;lgl&gt;</th><th scope=col>&lt;lgl&gt;</th><th scope=col>&lt;lgl&gt;</th><th scope=col>&lt;lgl&gt;</th><th scope=col>&lt;lgl&gt;</th><th scope=col>&lt;lgl&gt;</th><th scope=col>&lt;lgl&gt;</th><th scope=col>&lt;dbl&gt;</th><th scope=col>&lt;chr&gt;</th><th scope=col>&lt;chr&gt;</th><th scope=col>&lt;dbl&gt;</th><th scope=col>&lt;dbl&gt;</th><th scope=col>&lt;dbl&gt;</th><th scope=col>&lt;dbl&gt;</th><th scope=col>&lt;dbl&gt;</th><th scope=col>&lt;chr&gt;</th><th scope=col>&lt;chr&gt;</th><th scope=col>&lt;chr&gt;</th><th scope=col>&lt;chr&gt;</th><th scope=col>&lt;chr&gt;</th><th scope=col>&lt;chr&gt;</th><th scope=col>&lt;chr&gt;</th><th scope=col>&lt;chr&gt;</th><th scope=col>&lt;chr&gt;</th><th scope=col>&lt;chr&gt;</th><th scope=col>&lt;chr&gt;</th><th scope=col>&lt;chr&gt;</th><th scope=col>&lt;chr&gt;</th><th scope=col>&lt;chr&gt;</th><th scope=col>&lt;chr&gt;</th><th scope=col>&lt;chr&gt;</th><th scope=col>&lt;chr&gt;</th><th scope=col>&lt;chr&gt;</th><th scope=col>&lt;chr&gt;</th><th scope=col>&lt;chr&gt;</th><th scope=col>&lt;chr&gt;</th><th scope=col>&lt;chr&gt;</th><th scope=col>&lt;chr&gt;</th><th scope=col>&lt;chr&gt;</th><th scope=col>&lt;chr&gt;</th><th scope=col>&lt;dbl&gt;</th><th scope=col>&lt;chr&gt;</th><th scope=col>&lt;chr&gt;</th><th scope=col>&lt;int&gt;</th><th scope=col>&lt;chr&gt;</th><th scope=col>&lt;chr&gt;</th><th scope=col>&lt;int&gt;</th><th scope=col>&lt;chr&gt;</th></tr>\n",
       "</thead>\n",
       "<tbody>\n",
       "\t<tr><td>100000015</td><td>2013</td><td> 7</td><td>1</td><td>FALSE</td><td>FALSE</td><td> TRUE</td><td>FALSE</td><td>FALSE</td><td> TRUE</td><td>FALSE</td><td>13</td><td>22</td><td>160</td><td> 1</td><td> 1</td><td>76</td><td> 0</td><td> 0</td><td>3 </td><td>3 </td><td>3 </td><td>3 </td><td>3 </td><td>3 </td><td>3 </td><td>3 </td><td>3 </td><td>3 </td><td>3 </td><td>3 </td><td>0 </td><td>0 </td><td>0 </td><td>0 </td><td>0 </td><td>0 </td><td>0 </td><td>0 </td><td>0 </td><td>0 </td><td>0 </td><td>0 </td><td>NA</td><td>NA</td><td>NA</td><td>1285600932</td><td>2</td><td>11</td><td>1285600932</td><td>2</td><td>11</td></tr>\n",
       "\t<tr><td>100000015</td><td>2014</td><td>10</td><td>1</td><td>FALSE</td><td>FALSE</td><td> TRUE</td><td>FALSE</td><td>FALSE</td><td> TRUE</td><td>FALSE</td><td>NA</td><td>NA</td><td>NA </td><td>NA</td><td>NA</td><td>NA</td><td>NA</td><td>NA</td><td>NA</td><td>NA</td><td>NA</td><td>NA</td><td>NA</td><td>NA</td><td>NA</td><td>NA</td><td>NA</td><td>NA</td><td>NA</td><td>NA</td><td>NA</td><td>NA</td><td>NA</td><td>NA</td><td>NA</td><td>NA</td><td>NA</td><td>NA</td><td>NA</td><td>NA</td><td>NA</td><td>NA</td><td>NA</td><td>NA</td><td>NA</td><td>1770514119</td><td>4</td><td>11</td><td>1770514119</td><td>4</td><td>11</td></tr>\n",
       "\t<tr><td>100000015</td><td>2015</td><td> 6</td><td>2</td><td> TRUE</td><td>FALSE</td><td>FALSE</td><td> TRUE</td><td>FALSE</td><td>FALSE</td><td>FALSE</td><td>NA</td><td>NA</td><td>NA </td><td>NA</td><td>NA</td><td>NA</td><td>NA</td><td>NA</td><td>NA</td><td>NA</td><td>NA</td><td>NA</td><td>NA</td><td>NA</td><td>NA</td><td>NA</td><td>NA</td><td>NA</td><td>NA</td><td>NA</td><td>NA</td><td>NA</td><td>NA</td><td>NA</td><td>NA</td><td>NA</td><td>NA</td><td>NA</td><td>NA</td><td>NA</td><td>NA</td><td>NA</td><td>NA</td><td>NA</td><td>NA</td><td>1770514119</td><td>4</td><td>11</td><td>1770514119</td><td>4</td><td>11</td></tr>\n",
       "\t<tr><td>100000015</td><td>2016</td><td> 9</td><td>2</td><td> TRUE</td><td>FALSE</td><td> TRUE</td><td> TRUE</td><td>FALSE</td><td>FALSE</td><td> TRUE</td><td>NA</td><td>NA</td><td>NA </td><td>NA</td><td>NA</td><td>NA</td><td>NA</td><td>NA</td><td>NA</td><td>NA</td><td>NA</td><td>NA</td><td>NA</td><td>NA</td><td>NA</td><td>NA</td><td>NA</td><td>NA</td><td>NA</td><td>NA</td><td>NA</td><td>NA</td><td>NA</td><td>NA</td><td>NA</td><td>NA</td><td>NA</td><td>NA</td><td>NA</td><td>NA</td><td>NA</td><td>NA</td><td>NA</td><td>NA</td><td>NA</td><td>1730170630</td><td>4</td><td>06</td><td>1730170630</td><td>4</td><td>11</td></tr>\n",
       "\t<tr><td>100000015</td><td>2017</td><td>14</td><td>3</td><td>FALSE</td><td>FALSE</td><td> TRUE</td><td> TRUE</td><td>FALSE</td><td>FALSE</td><td> TRUE</td><td>NA</td><td>NA</td><td>NA </td><td>NA</td><td>NA</td><td>NA</td><td>NA</td><td>NA</td><td>NA</td><td>NA</td><td>NA</td><td>NA</td><td>NA</td><td>NA</td><td>NA</td><td>NA</td><td>NA</td><td>NA</td><td>NA</td><td>NA</td><td>NA</td><td>NA</td><td>NA</td><td>NA</td><td>NA</td><td>NA</td><td>NA</td><td>NA</td><td>NA</td><td>NA</td><td>NA</td><td>NA</td><td>NA</td><td>NA</td><td>NA</td><td>1043207350</td><td>3</td><td>11</td><td>1043207350</td><td>3</td><td>11</td></tr>\n",
       "\t<tr><td>100000015</td><td>2018</td><td>16</td><td>2</td><td>FALSE</td><td>FALSE</td><td> TRUE</td><td> TRUE</td><td>FALSE</td><td>FALSE</td><td> TRUE</td><td>NA</td><td>NA</td><td>NA </td><td>NA</td><td>NA</td><td>NA</td><td>NA</td><td>NA</td><td>NA</td><td>NA</td><td>NA</td><td>NA</td><td>NA</td><td>NA</td><td>NA</td><td>NA</td><td>NA</td><td>NA</td><td>NA</td><td>NA</td><td>NA</td><td>NA</td><td>NA</td><td>NA</td><td>NA</td><td>NA</td><td>NA</td><td>NA</td><td>NA</td><td>NA</td><td>NA</td><td>NA</td><td>NA</td><td>NA</td><td>NA</td><td>1043207350</td><td>2</td><td>11</td><td>1043207350</td><td>2</td><td>11</td></tr>\n",
       "</tbody>\n",
       "</table>\n"
      ],
      "text/latex": [
       "A data.table: 6 × 52\n",
       "\\begin{tabular}{llllllllllllllllllllllllllllllllllllllllllllllllllll}\n",
       " DESY\\_SORT\\_KEY & year & distinct\\_clinicians & distinct\\_primary\\_care\\_physicians & hypertension & arthritis & IHD & diabetes & depression & icd\\_9\\_pure & icd\\_10\\_pure & REFERENCE\\_YEAR & STATE\\_CODE & COUNTY\\_CODE & SEX\\_CODE & RACE\\_CODE & AGE & ORIG\\_REASON\\_FOR\\_ENTITLEMENT & CURR\\_REASON\\_FOR\\_ENTITLEMENT & ENTITLEMENT\\_BUY\\_IN\\_IND01 & ENTITLEMENT\\_BUY\\_IN\\_IND02 & ENTITLEMENT\\_BUY\\_IN\\_IND03 & ENTITLEMENT\\_BUY\\_IN\\_IND04 & ENTITLEMENT\\_BUY\\_IN\\_IND05 & ENTITLEMENT\\_BUY\\_IN\\_IND06 & ENTITLEMENT\\_BUY\\_IN\\_IND07 & ENTITLEMENT\\_BUY\\_IN\\_IND08 & ENTITLEMENT\\_BUY\\_IN\\_IND09 & ENTITLEMENT\\_BUY\\_IN\\_IND10 & ENTITLEMENT\\_BUY\\_IN\\_IND11 & ENTITLEMENT\\_BUY\\_IN\\_IND12 & HMO\\_INDICATOR01 & HMO\\_INDICATOR02 & HMO\\_INDICATOR03 & HMO\\_INDICATOR04 & HMO\\_INDICATOR05 & HMO\\_INDICATOR06 & HMO\\_INDICATOR07 & HMO\\_INDICATOR08 & HMO\\_INDICATOR09 & HMO\\_INDICATOR10 & HMO\\_INDICATOR11 & HMO\\_INDICATOR12 & VALID\\_DATE\\_OF\\_DEATH\\_SWITCH & DATE\\_OF\\_DEATH & year\\_of\\_death & most\\_common\\_physician\\_PRF\\_PHYSN\\_NPI & most\\_common\\_physician\\_n & most\\_common\\_physician\\_PRVDR\\_SPCLTY & most\\_common\\_primary\\_care\\_physician\\_PRF\\_PHYSN\\_NPI & most\\_common\\_primary\\_care\\_physician\\_n & most\\_common\\_primary\\_care\\_physician\\_PRVDR\\_SPCLTY\\\\\n",
       " <int> & <dbl> & <int> & <int> & <lgl> & <lgl> & <lgl> & <lgl> & <lgl> & <lgl> & <lgl> & <dbl> & <chr> & <chr> & <dbl> & <dbl> & <dbl> & <dbl> & <dbl> & <chr> & <chr> & <chr> & <chr> & <chr> & <chr> & <chr> & <chr> & <chr> & <chr> & <chr> & <chr> & <chr> & <chr> & <chr> & <chr> & <chr> & <chr> & <chr> & <chr> & <chr> & <chr> & <chr> & <chr> & <chr> & <dbl> & <chr> & <chr> & <int> & <chr> & <chr> & <int> & <chr>\\\\\n",
       "\\hline\n",
       "\t 100000015 & 2013 &  7 & 1 & FALSE & FALSE &  TRUE & FALSE & FALSE &  TRUE & FALSE & 13 & 22 & 160 &  1 &  1 & 76 &  0 &  0 & 3  & 3  & 3  & 3  & 3  & 3  & 3  & 3  & 3  & 3  & 3  & 3  & 0  & 0  & 0  & 0  & 0  & 0  & 0  & 0  & 0  & 0  & 0  & 0  & NA & NA & NA & 1285600932 & 2 & 11 & 1285600932 & 2 & 11\\\\\n",
       "\t 100000015 & 2014 & 10 & 1 & FALSE & FALSE &  TRUE & FALSE & FALSE &  TRUE & FALSE & NA & NA & NA  & NA & NA & NA & NA & NA & NA & NA & NA & NA & NA & NA & NA & NA & NA & NA & NA & NA & NA & NA & NA & NA & NA & NA & NA & NA & NA & NA & NA & NA & NA & NA & NA & 1770514119 & 4 & 11 & 1770514119 & 4 & 11\\\\\n",
       "\t 100000015 & 2015 &  6 & 2 &  TRUE & FALSE & FALSE &  TRUE & FALSE & FALSE & FALSE & NA & NA & NA  & NA & NA & NA & NA & NA & NA & NA & NA & NA & NA & NA & NA & NA & NA & NA & NA & NA & NA & NA & NA & NA & NA & NA & NA & NA & NA & NA & NA & NA & NA & NA & NA & 1770514119 & 4 & 11 & 1770514119 & 4 & 11\\\\\n",
       "\t 100000015 & 2016 &  9 & 2 &  TRUE & FALSE &  TRUE &  TRUE & FALSE & FALSE &  TRUE & NA & NA & NA  & NA & NA & NA & NA & NA & NA & NA & NA & NA & NA & NA & NA & NA & NA & NA & NA & NA & NA & NA & NA & NA & NA & NA & NA & NA & NA & NA & NA & NA & NA & NA & NA & 1730170630 & 4 & 06 & 1730170630 & 4 & 11\\\\\n",
       "\t 100000015 & 2017 & 14 & 3 & FALSE & FALSE &  TRUE &  TRUE & FALSE & FALSE &  TRUE & NA & NA & NA  & NA & NA & NA & NA & NA & NA & NA & NA & NA & NA & NA & NA & NA & NA & NA & NA & NA & NA & NA & NA & NA & NA & NA & NA & NA & NA & NA & NA & NA & NA & NA & NA & 1043207350 & 3 & 11 & 1043207350 & 3 & 11\\\\\n",
       "\t 100000015 & 2018 & 16 & 2 & FALSE & FALSE &  TRUE &  TRUE & FALSE & FALSE &  TRUE & NA & NA & NA  & NA & NA & NA & NA & NA & NA & NA & NA & NA & NA & NA & NA & NA & NA & NA & NA & NA & NA & NA & NA & NA & NA & NA & NA & NA & NA & NA & NA & NA & NA & NA & NA & 1043207350 & 2 & 11 & 1043207350 & 2 & 11\\\\\n",
       "\\end{tabular}\n"
      ],
      "text/markdown": [
       "\n",
       "A data.table: 6 × 52\n",
       "\n",
       "| DESY_SORT_KEY &lt;int&gt; | year &lt;dbl&gt; | distinct_clinicians &lt;int&gt; | distinct_primary_care_physicians &lt;int&gt; | hypertension &lt;lgl&gt; | arthritis &lt;lgl&gt; | IHD &lt;lgl&gt; | diabetes &lt;lgl&gt; | depression &lt;lgl&gt; | icd_9_pure &lt;lgl&gt; | icd_10_pure &lt;lgl&gt; | REFERENCE_YEAR &lt;dbl&gt; | STATE_CODE &lt;chr&gt; | COUNTY_CODE &lt;chr&gt; | SEX_CODE &lt;dbl&gt; | RACE_CODE &lt;dbl&gt; | AGE &lt;dbl&gt; | ORIG_REASON_FOR_ENTITLEMENT &lt;dbl&gt; | CURR_REASON_FOR_ENTITLEMENT &lt;dbl&gt; | ENTITLEMENT_BUY_IN_IND01 &lt;chr&gt; | ENTITLEMENT_BUY_IN_IND02 &lt;chr&gt; | ENTITLEMENT_BUY_IN_IND03 &lt;chr&gt; | ENTITLEMENT_BUY_IN_IND04 &lt;chr&gt; | ENTITLEMENT_BUY_IN_IND05 &lt;chr&gt; | ENTITLEMENT_BUY_IN_IND06 &lt;chr&gt; | ENTITLEMENT_BUY_IN_IND07 &lt;chr&gt; | ENTITLEMENT_BUY_IN_IND08 &lt;chr&gt; | ENTITLEMENT_BUY_IN_IND09 &lt;chr&gt; | ENTITLEMENT_BUY_IN_IND10 &lt;chr&gt; | ENTITLEMENT_BUY_IN_IND11 &lt;chr&gt; | ENTITLEMENT_BUY_IN_IND12 &lt;chr&gt; | HMO_INDICATOR01 &lt;chr&gt; | HMO_INDICATOR02 &lt;chr&gt; | HMO_INDICATOR03 &lt;chr&gt; | HMO_INDICATOR04 &lt;chr&gt; | HMO_INDICATOR05 &lt;chr&gt; | HMO_INDICATOR06 &lt;chr&gt; | HMO_INDICATOR07 &lt;chr&gt; | HMO_INDICATOR08 &lt;chr&gt; | HMO_INDICATOR09 &lt;chr&gt; | HMO_INDICATOR10 &lt;chr&gt; | HMO_INDICATOR11 &lt;chr&gt; | HMO_INDICATOR12 &lt;chr&gt; | VALID_DATE_OF_DEATH_SWITCH &lt;chr&gt; | DATE_OF_DEATH &lt;dbl&gt; | year_of_death &lt;chr&gt; | most_common_physician_PRF_PHYSN_NPI &lt;chr&gt; | most_common_physician_n &lt;int&gt; | most_common_physician_PRVDR_SPCLTY &lt;chr&gt; | most_common_primary_care_physician_PRF_PHYSN_NPI &lt;chr&gt; | most_common_primary_care_physician_n &lt;int&gt; | most_common_primary_care_physician_PRVDR_SPCLTY &lt;chr&gt; |\n",
       "|---|---|---|---|---|---|---|---|---|---|---|---|---|---|---|---|---|---|---|---|---|---|---|---|---|---|---|---|---|---|---|---|---|---|---|---|---|---|---|---|---|---|---|---|---|---|---|---|---|---|---|---|\n",
       "| 100000015 | 2013 |  7 | 1 | FALSE | FALSE |  TRUE | FALSE | FALSE |  TRUE | FALSE | 13 | 22 | 160 |  1 |  1 | 76 |  0 |  0 | 3  | 3  | 3  | 3  | 3  | 3  | 3  | 3  | 3  | 3  | 3  | 3  | 0  | 0  | 0  | 0  | 0  | 0  | 0  | 0  | 0  | 0  | 0  | 0  | NA | NA | NA | 1285600932 | 2 | 11 | 1285600932 | 2 | 11 |\n",
       "| 100000015 | 2014 | 10 | 1 | FALSE | FALSE |  TRUE | FALSE | FALSE |  TRUE | FALSE | NA | NA | NA  | NA | NA | NA | NA | NA | NA | NA | NA | NA | NA | NA | NA | NA | NA | NA | NA | NA | NA | NA | NA | NA | NA | NA | NA | NA | NA | NA | NA | NA | NA | NA | NA | 1770514119 | 4 | 11 | 1770514119 | 4 | 11 |\n",
       "| 100000015 | 2015 |  6 | 2 |  TRUE | FALSE | FALSE |  TRUE | FALSE | FALSE | FALSE | NA | NA | NA  | NA | NA | NA | NA | NA | NA | NA | NA | NA | NA | NA | NA | NA | NA | NA | NA | NA | NA | NA | NA | NA | NA | NA | NA | NA | NA | NA | NA | NA | NA | NA | NA | 1770514119 | 4 | 11 | 1770514119 | 4 | 11 |\n",
       "| 100000015 | 2016 |  9 | 2 |  TRUE | FALSE |  TRUE |  TRUE | FALSE | FALSE |  TRUE | NA | NA | NA  | NA | NA | NA | NA | NA | NA | NA | NA | NA | NA | NA | NA | NA | NA | NA | NA | NA | NA | NA | NA | NA | NA | NA | NA | NA | NA | NA | NA | NA | NA | NA | NA | 1730170630 | 4 | 06 | 1730170630 | 4 | 11 |\n",
       "| 100000015 | 2017 | 14 | 3 | FALSE | FALSE |  TRUE |  TRUE | FALSE | FALSE |  TRUE | NA | NA | NA  | NA | NA | NA | NA | NA | NA | NA | NA | NA | NA | NA | NA | NA | NA | NA | NA | NA | NA | NA | NA | NA | NA | NA | NA | NA | NA | NA | NA | NA | NA | NA | NA | 1043207350 | 3 | 11 | 1043207350 | 3 | 11 |\n",
       "| 100000015 | 2018 | 16 | 2 | FALSE | FALSE |  TRUE |  TRUE | FALSE | FALSE |  TRUE | NA | NA | NA  | NA | NA | NA | NA | NA | NA | NA | NA | NA | NA | NA | NA | NA | NA | NA | NA | NA | NA | NA | NA | NA | NA | NA | NA | NA | NA | NA | NA | NA | NA | NA | NA | 1043207350 | 2 | 11 | 1043207350 | 2 | 11 |\n",
       "\n"
      ],
      "text/plain": [
       "  DESY_SORT_KEY year distinct_clinicians distinct_primary_care_physicians hypertension arthritis IHD   diabetes depression icd_9_pure icd_10_pure REFERENCE_YEAR STATE_CODE COUNTY_CODE SEX_CODE RACE_CODE AGE ORIG_REASON_FOR_ENTITLEMENT CURR_REASON_FOR_ENTITLEMENT ENTITLEMENT_BUY_IN_IND01\n",
       "1 100000015     2013  7                  1                                FALSE        FALSE      TRUE FALSE    FALSE       TRUE      FALSE       13             22         160          1        1        76   0                           0                          3                       \n",
       "2 100000015     2014 10                  1                                FALSE        FALSE      TRUE FALSE    FALSE       TRUE      FALSE       NA             NA         NA          NA       NA        NA  NA                          NA                          NA                      \n",
       "3 100000015     2015  6                  2                                 TRUE        FALSE     FALSE  TRUE    FALSE      FALSE      FALSE       NA             NA         NA          NA       NA        NA  NA                          NA                          NA                      \n",
       "4 100000015     2016  9                  2                                 TRUE        FALSE      TRUE  TRUE    FALSE      FALSE       TRUE       NA             NA         NA          NA       NA        NA  NA                          NA                          NA                      \n",
       "5 100000015     2017 14                  3                                FALSE        FALSE      TRUE  TRUE    FALSE      FALSE       TRUE       NA             NA         NA          NA       NA        NA  NA                          NA                          NA                      \n",
       "6 100000015     2018 16                  2                                FALSE        FALSE      TRUE  TRUE    FALSE      FALSE       TRUE       NA             NA         NA          NA       NA        NA  NA                          NA                          NA                      \n",
       "  ENTITLEMENT_BUY_IN_IND02 ENTITLEMENT_BUY_IN_IND03 ENTITLEMENT_BUY_IN_IND04 ENTITLEMENT_BUY_IN_IND05 ENTITLEMENT_BUY_IN_IND06 ENTITLEMENT_BUY_IN_IND07 ENTITLEMENT_BUY_IN_IND08 ENTITLEMENT_BUY_IN_IND09 ENTITLEMENT_BUY_IN_IND10 ENTITLEMENT_BUY_IN_IND11 ENTITLEMENT_BUY_IN_IND12 HMO_INDICATOR01\n",
       "1 3                        3                        3                        3                        3                        3                        3                        3                        3                        3                        3                        0              \n",
       "2 NA                       NA                       NA                       NA                       NA                       NA                       NA                       NA                       NA                       NA                       NA                       NA             \n",
       "3 NA                       NA                       NA                       NA                       NA                       NA                       NA                       NA                       NA                       NA                       NA                       NA             \n",
       "4 NA                       NA                       NA                       NA                       NA                       NA                       NA                       NA                       NA                       NA                       NA                       NA             \n",
       "5 NA                       NA                       NA                       NA                       NA                       NA                       NA                       NA                       NA                       NA                       NA                       NA             \n",
       "6 NA                       NA                       NA                       NA                       NA                       NA                       NA                       NA                       NA                       NA                       NA                       NA             \n",
       "  HMO_INDICATOR02 HMO_INDICATOR03 HMO_INDICATOR04 HMO_INDICATOR05 HMO_INDICATOR06 HMO_INDICATOR07 HMO_INDICATOR08 HMO_INDICATOR09 HMO_INDICATOR10 HMO_INDICATOR11 HMO_INDICATOR12 VALID_DATE_OF_DEATH_SWITCH DATE_OF_DEATH year_of_death most_common_physician_PRF_PHYSN_NPI most_common_physician_n\n",
       "1 0               0               0               0               0               0               0               0               0               0               0               NA                         NA            NA            1285600932                          2                      \n",
       "2 NA              NA              NA              NA              NA              NA              NA              NA              NA              NA              NA              NA                         NA            NA            1770514119                          4                      \n",
       "3 NA              NA              NA              NA              NA              NA              NA              NA              NA              NA              NA              NA                         NA            NA            1770514119                          4                      \n",
       "4 NA              NA              NA              NA              NA              NA              NA              NA              NA              NA              NA              NA                         NA            NA            1730170630                          4                      \n",
       "5 NA              NA              NA              NA              NA              NA              NA              NA              NA              NA              NA              NA                         NA            NA            1043207350                          3                      \n",
       "6 NA              NA              NA              NA              NA              NA              NA              NA              NA              NA              NA              NA                         NA            NA            1043207350                          2                      \n",
       "  most_common_physician_PRVDR_SPCLTY most_common_primary_care_physician_PRF_PHYSN_NPI most_common_primary_care_physician_n most_common_primary_care_physician_PRVDR_SPCLTY\n",
       "1 11                                 1285600932                                       2                                    11                                             \n",
       "2 11                                 1770514119                                       4                                    11                                             \n",
       "3 11                                 1770514119                                       4                                    11                                             \n",
       "4 06                                 1730170630                                       4                                    11                                             \n",
       "5 11                                 1043207350                                       3                                    11                                             \n",
       "6 11                                 1043207350                                       2                                    11                                             "
      ]
     },
     "metadata": {},
     "output_type": "display_data"
    }
   ],
   "source": [
    "#adding most common physicians\n",
    "add_patient_NPI=function(data, summary_data, time_frame = 365){\n",
    "\n",
    "  comorbidity_and_phys_data =\n",
    "    inner_join(data, summary_data[, c(\"DESY_SORT_KEY\",\"year\",\n",
    "                                \"icd_9_pure\",\n",
    "                                \"icd_10_pure\")], by = c(\"DESY_SORT_KEY\",\"year\")) %>%\n",
    "    as.data.table()\n",
    "  \n",
    "  patient_NPI_count_finder = function(data) {\n",
    "    result = data %>%\n",
    "      mutate(is_office_visit = HCPCS_CD %in% office_visit_codes)%>%\n",
    "      group_by(DESY_SORT_KEY, year, PRF_PHYSN_NPI) %>%\n",
    "      summarise(n = sum(is_office_visit,na.rm=T)) %>%\n",
    "      filter(n>0)%>%\n",
    "      arrange(.by_group = T, desc(n))\n",
    "  }\n",
    "  \n",
    "  patient_NPI_counts = patient_NPI_count_finder(comorbidity_and_phys_data)\n",
    "  \n",
    "  patient_NPI_counts = left_join(patient_NPI_counts,\n",
    "                                 distinct(data[, .(PRF_PHYSN_NPI, PRVDR_SPCLTY)]), by =\"PRF_PHYSN_NPI\")\n",
    "  \n",
    "  find_most_common = function(data) {\n",
    "    data %>%\n",
    "      group_by(DESY_SORT_KEY,year) %>%\n",
    "      arrange(.by_group = T, desc(n)) %>%\n",
    "      slice(1) %>%\n",
    "      as.data.table()\n",
    "  }\n",
    "  \n",
    "  find_most_common_by_specialty = function(data, specialty_code) {\n",
    "    data %>%\n",
    "      filter(PRVDR_SPCLTY %in% specialty_code) %>%\n",
    "      group_by(DESY_SORT_KEY,year) %>%\n",
    "      arrange(.by_group = T, desc(n)) %>%\n",
    "      slice(1) %>%\n",
    "      as.data.table()\n",
    "  }\n",
    "  \n",
    "  most_common_physician = find_most_common(patient_NPI_counts)\n",
    "  most_common_primary_care_physician = find_most_common_by_specialty(patient_NPI_counts,\n",
    "                                                                     specialty_code = c(\"01\", \"08\", \"11\", \"38\"))\n",
    "  most_common_physician = data.frame(most_common_physician) %>%\n",
    "    rename_with( ~ paste0(\"most_common_physician_\", .x))\n",
    "  most_common_primary_care_physician = data.frame(most_common_primary_care_physician) %>%\n",
    "    rename_with( ~ paste0(\"most_common_primary_care_physician_\", .x))\n",
    "  \n",
    "  summary_data = left_join(\n",
    "    summary_data,\n",
    "    most_common_physician,\n",
    "    by = c(\"DESY_SORT_KEY\" = \"most_common_physician_DESY_SORT_KEY\" , \"year\" = \"most_common_physician_year\")\n",
    "  )\n",
    "  summary_data = left_join(\n",
    "    summary_data,\n",
    "    most_common_primary_care_physician,\n",
    "    by = c(\"DESY_SORT_KEY\" = \"most_common_primary_care_physician_DESY_SORT_KEY\" , \"year\" = \"most_common_primary_care_physician_year\")\n",
    "  )%>%\n",
    "  as.data.table()\n",
    "\n",
    "}\n",
    "\n",
    "summary_with_npi=add_patient_NPI(data = carrier_data_all_years, summary_data = summary_with_patient_characteristics)\n",
    "head(summary_with_npi)\n"
   ]
  },
  {
   "cell_type": "code",
   "execution_count": 9,
   "id": "9df4e41e-927c-4eb2-a317-e789cbbee087",
   "metadata": {},
   "outputs": [],
   "source": [
    "write.fst(summary_with_npi,\"summary_with_npi_before_join.fst\")"
   ]
  },
  {
   "cell_type": "markdown",
   "id": "8d1a156c-5c67-4b41-9528-e2eb1a6a221d",
   "metadata": {
    "tags": []
   },
   "source": [
    "## Physician integration status\n",
    "\n",
    "Here, I will find which physicians are integrated.\n"
   ]
  },
  {
   "cell_type": "markdown",
   "id": "c653561c-1c38-4f66-8ca4-02ceaaed397f",
   "metadata": {},
   "source": [
    "### A method of finding codes that are not exclusive to hospitals or non-hospital places\n",
    "We can exclude these HCPCS codes and only include codes that are not exclusive to hospitals."
   ]
  },
  {
   "cell_type": "code",
   "execution_count": 10,
   "id": "85c3aeba-6ea4-4287-9a86-fd669301aa69",
   "metadata": {},
   "outputs": [],
   "source": [
    "exclusive_hospital_code_finder = function (data,\n",
    "                                           threshold=0.05,\n",
    "                                           integrated_place_of_service_codes = c(\"19\", \"22\"),\n",
    "                                           all_place_of_service_codes = c(\"11\", \"19\", \"22\")){\n",
    "  require(dtplyr)\n",
    "  require(tidyverse)\n",
    "  \n",
    "  result = data %>%\n",
    "  filter(LINE_PLACE_OF_SRVC_CD %in% all_place_of_service_codes)%>%\n",
    "  group_by(HCPCS_CD) %>%\n",
    "  summarise(prp_in_facility = nrow(.[LINE_PLACE_OF_SRVC_CD %in% integrated_place_of_service_codes])/n()\n",
    "           )%>%\n",
    "  as.data.table\n",
    "  \n",
    "  exclusive_codes = result[prp_in_facility<threshold | prp_in_facility>(1-threshold),HCPCS_CD]\n",
    "  \n",
    "\n",
    "  return(exclusive_codes)\n",
    "  \n",
    "}\n",
    "\n",
    "exclusive_hospital_codes=exclusive_hospital_code_finder(carrier_data_all_years)"
   ]
  },
  {
   "cell_type": "raw",
   "id": "0238534d-d664-4a88-ad89-90370b10549e",
   "metadata": {
    "jupyter": {
     "outputs_hidden": true
    },
    "tags": []
   },
   "source": [
    "exclusive_hospital_codes"
   ]
  },
  {
   "cell_type": "markdown",
   "id": "b51769d5-843e-4e75-ae1e-b8d024043f80",
   "metadata": {},
   "source": [
    "### A function to find integrated docs"
   ]
  },
  {
   "cell_type": "code",
   "execution_count": 12,
   "id": "a21db480-1618-407a-8c70-5d598bb0bd69",
   "metadata": {
    "tags": []
   },
   "outputs": [
    {
     "name": "stderr",
     "output_type": "stream",
     "text": [
      "`summarise()` has grouped output by 'PRF_PHYSN_NPI'. You can override using the `.groups` argument.\n"
     ]
    }
   ],
   "source": [
    "#calculate and add physician integration data\n",
    "#this only uses visits to see if a physician is integrated or not (codde list)\n",
    "\n",
    "physician_integration_finder = function(data,\n",
    "                                        integrated_place_of_service_codes = c(\"19\", \"22\"),\n",
    "                                        all_place_of_service_codes = c(\"11\", \"19\", \"22\"),\n",
    "                                        #integration_threshold = 0.5,\n",
    "                                        office_code_list = c(\n",
    "                                          \"99201\",\n",
    "                                          \"99202\",\n",
    "                                          \"99203\",\n",
    "                                          \"99204\",\n",
    "                                          \"99205\",\n",
    "                                          \"99211\",\n",
    "                                          \"99212\",\n",
    "                                          \"99213\",\n",
    "                                          \"99214\",\n",
    "                                          \"99215\"\n",
    "                                        ),\n",
    "                                       exclusive_hospital_codes) {\n",
    "  require(dtplyr)\n",
    "  require(tidyverse)\n",
    "  \n",
    "  #data = subset(data, HCPCS_CD %in% code_list)\n",
    "  result = data %>%\n",
    "  mutate(\n",
    "    is_facility = LINE_PLACE_OF_SRVC_CD %in% integrated_place_of_service_codes,\n",
    "    is_all = LINE_PLACE_OF_SRVC_CD %in% all_place_of_service_codes,\n",
    "    is_office_visit = HCPCS_CD %in% office_code_list,\n",
    "    has_non_exclusive_code = HCPCS_CD %!in% exclusive_hospital_codes\n",
    "  ) %>%\n",
    "  group_by(PRF_PHYSN_NPI, year) %>%\n",
    "  summarise(\n",
    "    in_facility_visits_count = sum(is_facility*is_office_visit, na.rm = T),\n",
    "    in_all_visits_count = sum(is_all*is_office_visit, na.rm = T),\n",
    "    in_facility_non_exclusive_HCPCS_count = sum(is_facility*has_non_exclusive_code, na.rm = T),\n",
    "    in_all_non_exclusive_HCPCS_count = sum(is_all*has_non_exclusive_code, na.rm = T),\n",
    "    in_facility_count = sum(is_facility, na.rm = T),\n",
    "    in_all_count = sum(is_all, na.rm = T)\n",
    "  ) %>%\n",
    "  mutate(\n",
    "    in_facility_visits_prp = in_facility_visits_count / in_all_visits_count,\n",
    "    in_facility_non_exclusive_HCPCS_prp = in_facility_non_exclusive_HCPCS_count / in_all_non_exclusive_HCPCS_count,    \n",
    "    in_facility_prp = in_facility_count / in_all_count\n",
    "  )%>%\n",
    "  as.data.table()\n",
    "}\n",
    "\n",
    "physician_integration_stats = physician_integration_finder(carrier_data_all_years,exclusive_hospital_codes=exclusive_hospital_codes)"
   ]
  },
  {
   "cell_type": "code",
   "execution_count": 13,
   "id": "38b19384-e11e-4a16-8a6f-e8bce0d628d1",
   "metadata": {
    "tags": []
   },
   "outputs": [
    {
     "data": {
      "text/html": [
       "<table class=\"dataframe\">\n",
       "<caption>A data.table: 6 × 11</caption>\n",
       "<thead>\n",
       "\t<tr><th scope=col>PRF_PHYSN_NPI</th><th scope=col>year</th><th scope=col>in_facility_visits_count</th><th scope=col>in_all_visits_count</th><th scope=col>in_facility_non_exclusive_HCPCS_count</th><th scope=col>in_all_non_exclusive_HCPCS_count</th><th scope=col>in_facility_count</th><th scope=col>in_all_count</th><th scope=col>in_facility_visits_prp</th><th scope=col>in_facility_non_exclusive_HCPCS_prp</th><th scope=col>in_facility_prp</th></tr>\n",
       "\t<tr><th scope=col>&lt;chr&gt;</th><th scope=col>&lt;dbl&gt;</th><th scope=col>&lt;int&gt;</th><th scope=col>&lt;int&gt;</th><th scope=col>&lt;int&gt;</th><th scope=col>&lt;int&gt;</th><th scope=col>&lt;int&gt;</th><th scope=col>&lt;int&gt;</th><th scope=col>&lt;dbl&gt;</th><th scope=col>&lt;dbl&gt;</th><th scope=col>&lt;dbl&gt;</th></tr>\n",
       "</thead>\n",
       "<tbody>\n",
       "\t<tr><td>1992997522</td><td>2013</td><td>2</td><td>2</td><td>10</td><td>10</td><td>10</td><td>10</td><td>  1</td><td>  1</td><td>  1</td></tr>\n",
       "\t<tr><td>1992998157</td><td>2013</td><td>0</td><td>0</td><td> 0</td><td> 0</td><td> 0</td><td> 0</td><td>NaN</td><td>NaN</td><td>NaN</td></tr>\n",
       "\t<tr><td>1992998207</td><td>2013</td><td>0</td><td>0</td><td> 0</td><td> 0</td><td> 0</td><td> 5</td><td>NaN</td><td>NaN</td><td>  0</td></tr>\n",
       "\t<tr><td>1992999122</td><td>2013</td><td>0</td><td>8</td><td> 0</td><td> 8</td><td> 0</td><td> 8</td><td>  0</td><td>  0</td><td>  0</td></tr>\n",
       "\t<tr><td>9999999991</td><td>2013</td><td>0</td><td>1</td><td> 0</td><td> 2</td><td> 0</td><td> 2</td><td>  0</td><td>  0</td><td>  0</td></tr>\n",
       "\t<tr><td>9999999992</td><td>2013</td><td>0</td><td>3</td><td> 0</td><td>16</td><td> 0</td><td>71</td><td>  0</td><td>  0</td><td>  0</td></tr>\n",
       "</tbody>\n",
       "</table>\n"
      ],
      "text/latex": [
       "A data.table: 6 × 11\n",
       "\\begin{tabular}{lllllllllll}\n",
       " PRF\\_PHYSN\\_NPI & year & in\\_facility\\_visits\\_count & in\\_all\\_visits\\_count & in\\_facility\\_non\\_exclusive\\_HCPCS\\_count & in\\_all\\_non\\_exclusive\\_HCPCS\\_count & in\\_facility\\_count & in\\_all\\_count & in\\_facility\\_visits\\_prp & in\\_facility\\_non\\_exclusive\\_HCPCS\\_prp & in\\_facility\\_prp\\\\\n",
       " <chr> & <dbl> & <int> & <int> & <int> & <int> & <int> & <int> & <dbl> & <dbl> & <dbl>\\\\\n",
       "\\hline\n",
       "\t 1992997522 & 2013 & 2 & 2 & 10 & 10 & 10 & 10 &   1 &   1 &   1\\\\\n",
       "\t 1992998157 & 2013 & 0 & 0 &  0 &  0 &  0 &  0 & NaN & NaN & NaN\\\\\n",
       "\t 1992998207 & 2013 & 0 & 0 &  0 &  0 &  0 &  5 & NaN & NaN &   0\\\\\n",
       "\t 1992999122 & 2013 & 0 & 8 &  0 &  8 &  0 &  8 &   0 &   0 &   0\\\\\n",
       "\t 9999999991 & 2013 & 0 & 1 &  0 &  2 &  0 &  2 &   0 &   0 &   0\\\\\n",
       "\t 9999999992 & 2013 & 0 & 3 &  0 & 16 &  0 & 71 &   0 &   0 &   0\\\\\n",
       "\\end{tabular}\n"
      ],
      "text/markdown": [
       "\n",
       "A data.table: 6 × 11\n",
       "\n",
       "| PRF_PHYSN_NPI &lt;chr&gt; | year &lt;dbl&gt; | in_facility_visits_count &lt;int&gt; | in_all_visits_count &lt;int&gt; | in_facility_non_exclusive_HCPCS_count &lt;int&gt; | in_all_non_exclusive_HCPCS_count &lt;int&gt; | in_facility_count &lt;int&gt; | in_all_count &lt;int&gt; | in_facility_visits_prp &lt;dbl&gt; | in_facility_non_exclusive_HCPCS_prp &lt;dbl&gt; | in_facility_prp &lt;dbl&gt; |\n",
       "|---|---|---|---|---|---|---|---|---|---|---|\n",
       "| 1992997522 | 2013 | 2 | 2 | 10 | 10 | 10 | 10 |   1 |   1 |   1 |\n",
       "| 1992998157 | 2013 | 0 | 0 |  0 |  0 |  0 |  0 | NaN | NaN | NaN |\n",
       "| 1992998207 | 2013 | 0 | 0 |  0 |  0 |  0 |  5 | NaN | NaN |   0 |\n",
       "| 1992999122 | 2013 | 0 | 8 |  0 |  8 |  0 |  8 |   0 |   0 |   0 |\n",
       "| 9999999991 | 2013 | 0 | 1 |  0 |  2 |  0 |  2 |   0 |   0 |   0 |\n",
       "| 9999999992 | 2013 | 0 | 3 |  0 | 16 |  0 | 71 |   0 |   0 |   0 |\n",
       "\n"
      ],
      "text/plain": [
       "  PRF_PHYSN_NPI year in_facility_visits_count in_all_visits_count in_facility_non_exclusive_HCPCS_count in_all_non_exclusive_HCPCS_count in_facility_count in_all_count in_facility_visits_prp in_facility_non_exclusive_HCPCS_prp in_facility_prp\n",
       "1 1992997522    2013 2                        2                   10                                    10                               10                10             1                      1                                   1            \n",
       "2 1992998157    2013 0                        0                    0                                     0                                0                 0           NaN                    NaN                                 NaN            \n",
       "3 1992998207    2013 0                        0                    0                                     0                                0                 5           NaN                    NaN                                   0            \n",
       "4 1992999122    2013 0                        8                    0                                     8                                0                 8             0                      0                                   0            \n",
       "5 9999999991    2013 0                        1                    0                                     2                                0                 2             0                      0                                   0            \n",
       "6 9999999992    2013 0                        3                    0                                    16                                0                71             0                      0                                   0            "
      ]
     },
     "metadata": {},
     "output_type": "display_data"
    }
   ],
   "source": [
    "tail(physician_integration_stats)"
   ]
  },
  {
   "cell_type": "markdown",
   "id": "1f927ee1-bb7c-4f1b-a904-3ddb372d84ad",
   "metadata": {},
   "source": [
    "### Add integration status of physicians\n",
    "This function will add the integration status of most common physicians to each patient's summary data."
   ]
  },
  {
   "cell_type": "code",
   "execution_count": 10,
   "id": "a73c0f89-97b3-4048-8aad-9034bea61346",
   "metadata": {},
   "outputs": [],
   "source": [
    "#summary_with_npi=read.fst(\"./summary_with_npi_before_join.fst\", as.data.table = T)\n",
    "\n",
    "physician_integration_stats=read.fst(\"./physician_integration_stats_before_join.fst\", as.data.table = T)"
   ]
  },
  {
   "cell_type": "code",
   "execution_count": 11,
   "id": "f919b3b8-8ac1-4ac2-93e8-1f8dcc129b98",
   "metadata": {
    "tags": []
   },
   "outputs": [],
   "source": [
    "#rename columns\n",
    "rename_last = function(data, how_many, new_names) {\n",
    "  total_cols = ncol(data)\n",
    "  setnames(data, (total_cols - how_many + 1):(total_cols), new_names)\n",
    "}\n",
    "add_integration_status=function(data, physician_integration_stats){\n",
    "  \n",
    "  data_selected=data[,c(\"DESY_SORT_KEY\",\n",
    "               \"year\",\n",
    "               \"most_common_physician_PRF_PHYSN_NPI\",\n",
    "               \"most_common_primary_care_physician_PRF_PHYSN_NPI\"\n",
    "              )]\n",
    "  \n",
    "  most_common_physician = left_join(\n",
    "    data_selected,\n",
    "    physician_integration_stats,\n",
    "    by = c(\n",
    "      \"most_common_physician_PRF_PHYSN_NPI\" = \"PRF_PHYSN_NPI\", \"year\" = \"year\")\n",
    "  ) %>% as.data.table()\n",
    "  \n",
    "  most_common_physician=most_common_physician[,-c(\"most_common_primary_care_physician_PRF_PHYSN_NPI\")]\n",
    "  \n",
    "  rename_last(\n",
    "    most_common_physician,\n",
    "    ncol(physician_integration_stats)-2,\n",
    "    paste(\"most_common_physician_\",colnames(physician_integration_stats)[3:ncol(physician_integration_stats)],sep=\"\")\n",
    "    )\n",
    "    \n",
    "    \n",
    "  most_common_primary_care = left_join(\n",
    "    data_selected,\n",
    "    physician_integration_stats,\n",
    "    by = c(\n",
    "      \"most_common_primary_care_physician_PRF_PHYSN_NPI\" = \"PRF_PHYSN_NPI\", \"year\" = \"year\")\n",
    "  ) %>% as.data.table()\n",
    "  \n",
    "  most_common_primary_care=most_common_primary_care[,-c(\"most_common_physician_PRF_PHYSN_NPI\")]  \n",
    "\n",
    "  rename_last(\n",
    "    most_common_primary_care,\n",
    "    ncol(physician_integration_stats)-2,\n",
    "    paste(\"most_common_primary_care_physician_\",colnames(physician_integration_stats)[3:ncol(physician_integration_stats)],sep=\"\")\n",
    "    )\n",
    "  \n",
    "  physician_data=\n",
    "  full_join(most_common_physician[,-(\"most_common_physician_PRF_PHYSN_NPI\")],\n",
    "            most_common_primary_care[,-(\"most_common_primary_care_physician_PRF_PHYSN_NPI\")],\n",
    "            by=c(\"DESY_SORT_KEY\",\"year\")\n",
    "           )\n",
    "  result=full_join(data,\n",
    "                   physician_data,\n",
    "                   by=c(\"DESY_SORT_KEY\",\"year\")\n",
    "           )%>%\n",
    "  as.data.table\n",
    "  \n",
    "  \n",
    "  return(result)\n",
    "}\n",
    "\n",
    "summary_with_physician_integration_stats=add_integration_status(data = summary_with_npi,\n",
    "                                                                physician_integration_stats = physician_integration_stats)\n",
    "\n",
    "\n",
    "\n",
    "\n"
   ]
  },
  {
   "cell_type": "code",
   "execution_count": 12,
   "id": "ea866490-9ce5-40a2-99c0-89747b921ae5",
   "metadata": {
    "tags": []
   },
   "outputs": [
    {
     "data": {
      "text/html": [
       "<table class=\"dataframe\">\n",
       "<caption>A data.table: 6 × 70</caption>\n",
       "<thead>\n",
       "\t<tr><th scope=col>DESY_SORT_KEY</th><th scope=col>year</th><th scope=col>distinct_clinicians</th><th scope=col>distinct_primary_care_physicians</th><th scope=col>hypertension</th><th scope=col>arthritis</th><th scope=col>IHD</th><th scope=col>diabetes</th><th scope=col>depression</th><th scope=col>icd_9_pure</th><th scope=col>icd_10_pure</th><th scope=col>REFERENCE_YEAR</th><th scope=col>STATE_CODE</th><th scope=col>COUNTY_CODE</th><th scope=col>SEX_CODE</th><th scope=col>RACE_CODE</th><th scope=col>AGE</th><th scope=col>ORIG_REASON_FOR_ENTITLEMENT</th><th scope=col>CURR_REASON_FOR_ENTITLEMENT</th><th scope=col>ENTITLEMENT_BUY_IN_IND01</th><th scope=col>ENTITLEMENT_BUY_IN_IND02</th><th scope=col>ENTITLEMENT_BUY_IN_IND03</th><th scope=col>ENTITLEMENT_BUY_IN_IND04</th><th scope=col>ENTITLEMENT_BUY_IN_IND05</th><th scope=col>ENTITLEMENT_BUY_IN_IND06</th><th scope=col>ENTITLEMENT_BUY_IN_IND07</th><th scope=col>ENTITLEMENT_BUY_IN_IND08</th><th scope=col>ENTITLEMENT_BUY_IN_IND09</th><th scope=col>ENTITLEMENT_BUY_IN_IND10</th><th scope=col>ENTITLEMENT_BUY_IN_IND11</th><th scope=col>ENTITLEMENT_BUY_IN_IND12</th><th scope=col>HMO_INDICATOR01</th><th scope=col>HMO_INDICATOR02</th><th scope=col>HMO_INDICATOR03</th><th scope=col>HMO_INDICATOR04</th><th scope=col>HMO_INDICATOR05</th><th scope=col>HMO_INDICATOR06</th><th scope=col>HMO_INDICATOR07</th><th scope=col>HMO_INDICATOR08</th><th scope=col>HMO_INDICATOR09</th><th scope=col>HMO_INDICATOR10</th><th scope=col>HMO_INDICATOR11</th><th scope=col>HMO_INDICATOR12</th><th scope=col>VALID_DATE_OF_DEATH_SWITCH</th><th scope=col>DATE_OF_DEATH</th><th scope=col>year_of_death</th><th scope=col>most_common_physician_PRF_PHYSN_NPI</th><th scope=col>most_common_physician_n</th><th scope=col>most_common_physician_PRVDR_SPCLTY</th><th scope=col>most_common_primary_care_physician_PRF_PHYSN_NPI</th><th scope=col>most_common_primary_care_physician_n</th><th scope=col>most_common_primary_care_physician_PRVDR_SPCLTY</th><th scope=col>most_common_physician_in_facility_visits_count</th><th scope=col>most_common_physician_in_all_visits_count</th><th scope=col>most_common_physician_in_facility_non_exclusive_HCPCS_count</th><th scope=col>most_common_physician_in_all_non_exclusive_HCPCS_count</th><th scope=col>most_common_physician_in_facility_count</th><th scope=col>most_common_physician_in_all_count</th><th scope=col>most_common_physician_in_facility_visits_prp</th><th scope=col>most_common_physician_in_facility_non_exclusive_HCPCS_prp</th><th scope=col>most_common_physician_in_facility_prp</th><th scope=col>most_common_primary_care_physician_in_facility_visits_count</th><th scope=col>most_common_primary_care_physician_in_all_visits_count</th><th scope=col>most_common_primary_care_physician_in_facility_non_exclusive_HCPCS_count</th><th scope=col>most_common_primary_care_physician_in_all_non_exclusive_HCPCS_count</th><th scope=col>most_common_primary_care_physician_in_facility_count</th><th scope=col>most_common_primary_care_physician_in_all_count</th><th scope=col>most_common_primary_care_physician_in_facility_visits_prp</th><th scope=col>most_common_primary_care_physician_in_facility_non_exclusive_HCPCS_prp</th><th scope=col>most_common_primary_care_physician_in_facility_prp</th></tr>\n",
       "\t<tr><th scope=col>&lt;int&gt;</th><th scope=col>&lt;dbl&gt;</th><th scope=col>&lt;int&gt;</th><th scope=col>&lt;int&gt;</th><th scope=col>&lt;lgl&gt;</th><th scope=col>&lt;lgl&gt;</th><th scope=col>&lt;lgl&gt;</th><th scope=col>&lt;lgl&gt;</th><th scope=col>&lt;lgl&gt;</th><th scope=col>&lt;lgl&gt;</th><th scope=col>&lt;lgl&gt;</th><th scope=col>&lt;dbl&gt;</th><th scope=col>&lt;chr&gt;</th><th scope=col>&lt;chr&gt;</th><th scope=col>&lt;dbl&gt;</th><th scope=col>&lt;dbl&gt;</th><th scope=col>&lt;dbl&gt;</th><th scope=col>&lt;dbl&gt;</th><th scope=col>&lt;dbl&gt;</th><th scope=col>&lt;chr&gt;</th><th scope=col>&lt;chr&gt;</th><th scope=col>&lt;chr&gt;</th><th scope=col>&lt;chr&gt;</th><th scope=col>&lt;chr&gt;</th><th scope=col>&lt;chr&gt;</th><th scope=col>&lt;chr&gt;</th><th scope=col>&lt;chr&gt;</th><th scope=col>&lt;chr&gt;</th><th scope=col>&lt;chr&gt;</th><th scope=col>&lt;chr&gt;</th><th scope=col>&lt;chr&gt;</th><th scope=col>&lt;chr&gt;</th><th scope=col>&lt;chr&gt;</th><th scope=col>&lt;chr&gt;</th><th scope=col>&lt;chr&gt;</th><th scope=col>&lt;chr&gt;</th><th scope=col>&lt;chr&gt;</th><th scope=col>&lt;chr&gt;</th><th scope=col>&lt;chr&gt;</th><th scope=col>&lt;chr&gt;</th><th scope=col>&lt;chr&gt;</th><th scope=col>&lt;chr&gt;</th><th scope=col>&lt;chr&gt;</th><th scope=col>&lt;chr&gt;</th><th scope=col>&lt;dbl&gt;</th><th scope=col>&lt;chr&gt;</th><th scope=col>&lt;chr&gt;</th><th scope=col>&lt;int&gt;</th><th scope=col>&lt;chr&gt;</th><th scope=col>&lt;chr&gt;</th><th scope=col>&lt;int&gt;</th><th scope=col>&lt;chr&gt;</th><th scope=col>&lt;int&gt;</th><th scope=col>&lt;int&gt;</th><th scope=col>&lt;int&gt;</th><th scope=col>&lt;int&gt;</th><th scope=col>&lt;int&gt;</th><th scope=col>&lt;int&gt;</th><th scope=col>&lt;dbl&gt;</th><th scope=col>&lt;dbl&gt;</th><th scope=col>&lt;dbl&gt;</th><th scope=col>&lt;int&gt;</th><th scope=col>&lt;int&gt;</th><th scope=col>&lt;int&gt;</th><th scope=col>&lt;int&gt;</th><th scope=col>&lt;int&gt;</th><th scope=col>&lt;int&gt;</th><th scope=col>&lt;dbl&gt;</th><th scope=col>&lt;dbl&gt;</th><th scope=col>&lt;dbl&gt;</th></tr>\n",
       "</thead>\n",
       "<tbody>\n",
       "\t<tr><td>100000015</td><td>2013</td><td> 7</td><td>1</td><td>FALSE</td><td>FALSE</td><td> TRUE</td><td>FALSE</td><td>FALSE</td><td> TRUE</td><td>FALSE</td><td>13</td><td>22</td><td>160</td><td> 1</td><td> 1</td><td>76</td><td> 0</td><td> 0</td><td>3 </td><td>3 </td><td>3 </td><td>3 </td><td>3 </td><td>3 </td><td>3 </td><td>3 </td><td>3 </td><td>3 </td><td>3 </td><td>3 </td><td>0 </td><td>0 </td><td>0 </td><td>0 </td><td>0 </td><td>0 </td><td>0 </td><td>0 </td><td>0 </td><td>0 </td><td>0 </td><td>0 </td><td>NA</td><td>NA</td><td>NA</td><td>1285600932</td><td>2</td><td>11</td><td>1285600932</td><td>2</td><td>11</td><td> 7</td><td>96</td><td>62</td><td>242</td><td>66</td><td>341</td><td>0.07291667</td><td>0.2561983</td><td>0.19354839</td><td> 7</td><td>96</td><td>62</td><td>242</td><td>66</td><td>341</td><td>0.07291667</td><td>0.2561983</td><td>0.19354839</td></tr>\n",
       "\t<tr><td>100000015</td><td>2014</td><td>10</td><td>1</td><td>FALSE</td><td>FALSE</td><td> TRUE</td><td>FALSE</td><td>FALSE</td><td> TRUE</td><td>FALSE</td><td>NA</td><td>NA</td><td>NA </td><td>NA</td><td>NA</td><td>NA</td><td>NA</td><td>NA</td><td>NA</td><td>NA</td><td>NA</td><td>NA</td><td>NA</td><td>NA</td><td>NA</td><td>NA</td><td>NA</td><td>NA</td><td>NA</td><td>NA</td><td>NA</td><td>NA</td><td>NA</td><td>NA</td><td>NA</td><td>NA</td><td>NA</td><td>NA</td><td>NA</td><td>NA</td><td>NA</td><td>NA</td><td>NA</td><td>NA</td><td>NA</td><td>1770514119</td><td>4</td><td>11</td><td>1770514119</td><td>4</td><td>11</td><td>16</td><td>16</td><td>22</td><td> 22</td><td>27</td><td> 27</td><td>1.00000000</td><td>1.0000000</td><td>1.00000000</td><td>16</td><td>16</td><td>22</td><td> 22</td><td>27</td><td> 27</td><td>1.00000000</td><td>1.0000000</td><td>1.00000000</td></tr>\n",
       "\t<tr><td>100000015</td><td>2015</td><td> 6</td><td>2</td><td> TRUE</td><td>FALSE</td><td>FALSE</td><td> TRUE</td><td>FALSE</td><td>FALSE</td><td>FALSE</td><td>NA</td><td>NA</td><td>NA </td><td>NA</td><td>NA</td><td>NA</td><td>NA</td><td>NA</td><td>NA</td><td>NA</td><td>NA</td><td>NA</td><td>NA</td><td>NA</td><td>NA</td><td>NA</td><td>NA</td><td>NA</td><td>NA</td><td>NA</td><td>NA</td><td>NA</td><td>NA</td><td>NA</td><td>NA</td><td>NA</td><td>NA</td><td>NA</td><td>NA</td><td>NA</td><td>NA</td><td>NA</td><td>NA</td><td>NA</td><td>NA</td><td>1770514119</td><td>4</td><td>11</td><td>1770514119</td><td>4</td><td>11</td><td>48</td><td>48</td><td>57</td><td> 57</td><td>57</td><td> 57</td><td>1.00000000</td><td>1.0000000</td><td>1.00000000</td><td>48</td><td>48</td><td>57</td><td> 57</td><td>57</td><td> 57</td><td>1.00000000</td><td>1.0000000</td><td>1.00000000</td></tr>\n",
       "\t<tr><td>100000015</td><td>2016</td><td> 9</td><td>2</td><td> TRUE</td><td>FALSE</td><td> TRUE</td><td> TRUE</td><td>FALSE</td><td>FALSE</td><td> TRUE</td><td>NA</td><td>NA</td><td>NA </td><td>NA</td><td>NA</td><td>NA</td><td>NA</td><td>NA</td><td>NA</td><td>NA</td><td>NA</td><td>NA</td><td>NA</td><td>NA</td><td>NA</td><td>NA</td><td>NA</td><td>NA</td><td>NA</td><td>NA</td><td>NA</td><td>NA</td><td>NA</td><td>NA</td><td>NA</td><td>NA</td><td>NA</td><td>NA</td><td>NA</td><td>NA</td><td>NA</td><td>NA</td><td>NA</td><td>NA</td><td>NA</td><td>1730170630</td><td>4</td><td>06</td><td>1730170630</td><td>4</td><td>11</td><td> 0</td><td>21</td><td> 0</td><td> 21</td><td> 4</td><td> 41</td><td>0.00000000</td><td>0.0000000</td><td>0.09756098</td><td> 0</td><td>21</td><td> 0</td><td> 21</td><td> 4</td><td> 41</td><td>0.00000000</td><td>0.0000000</td><td>0.09756098</td></tr>\n",
       "\t<tr><td>100000015</td><td>2017</td><td>14</td><td>3</td><td>FALSE</td><td>FALSE</td><td> TRUE</td><td> TRUE</td><td>FALSE</td><td>FALSE</td><td> TRUE</td><td>NA</td><td>NA</td><td>NA </td><td>NA</td><td>NA</td><td>NA</td><td>NA</td><td>NA</td><td>NA</td><td>NA</td><td>NA</td><td>NA</td><td>NA</td><td>NA</td><td>NA</td><td>NA</td><td>NA</td><td>NA</td><td>NA</td><td>NA</td><td>NA</td><td>NA</td><td>NA</td><td>NA</td><td>NA</td><td>NA</td><td>NA</td><td>NA</td><td>NA</td><td>NA</td><td>NA</td><td>NA</td><td>NA</td><td>NA</td><td>NA</td><td>1043207350</td><td>3</td><td>11</td><td>1043207350</td><td>3</td><td>11</td><td>58</td><td>58</td><td>68</td><td> 68</td><td>69</td><td> 69</td><td>1.00000000</td><td>1.0000000</td><td>1.00000000</td><td>58</td><td>58</td><td>68</td><td> 68</td><td>69</td><td> 69</td><td>1.00000000</td><td>1.0000000</td><td>1.00000000</td></tr>\n",
       "\t<tr><td>100000015</td><td>2018</td><td>16</td><td>2</td><td>FALSE</td><td>FALSE</td><td> TRUE</td><td> TRUE</td><td>FALSE</td><td>FALSE</td><td> TRUE</td><td>NA</td><td>NA</td><td>NA </td><td>NA</td><td>NA</td><td>NA</td><td>NA</td><td>NA</td><td>NA</td><td>NA</td><td>NA</td><td>NA</td><td>NA</td><td>NA</td><td>NA</td><td>NA</td><td>NA</td><td>NA</td><td>NA</td><td>NA</td><td>NA</td><td>NA</td><td>NA</td><td>NA</td><td>NA</td><td>NA</td><td>NA</td><td>NA</td><td>NA</td><td>NA</td><td>NA</td><td>NA</td><td>NA</td><td>NA</td><td>NA</td><td>1043207350</td><td>2</td><td>11</td><td>1043207350</td><td>2</td><td>11</td><td>52</td><td>52</td><td>62</td><td> 62</td><td>62</td><td> 62</td><td>1.00000000</td><td>1.0000000</td><td>1.00000000</td><td>52</td><td>52</td><td>62</td><td> 62</td><td>62</td><td> 62</td><td>1.00000000</td><td>1.0000000</td><td>1.00000000</td></tr>\n",
       "</tbody>\n",
       "</table>\n"
      ],
      "text/latex": [
       "A data.table: 6 × 70\n",
       "\\begin{tabular}{llllllllllllllllllllllllllllllllllllllllllllllllllllllllllllllllllllll}\n",
       " DESY\\_SORT\\_KEY & year & distinct\\_clinicians & distinct\\_primary\\_care\\_physicians & hypertension & arthritis & IHD & diabetes & depression & icd\\_9\\_pure & icd\\_10\\_pure & REFERENCE\\_YEAR & STATE\\_CODE & COUNTY\\_CODE & SEX\\_CODE & RACE\\_CODE & AGE & ORIG\\_REASON\\_FOR\\_ENTITLEMENT & CURR\\_REASON\\_FOR\\_ENTITLEMENT & ENTITLEMENT\\_BUY\\_IN\\_IND01 & ENTITLEMENT\\_BUY\\_IN\\_IND02 & ENTITLEMENT\\_BUY\\_IN\\_IND03 & ENTITLEMENT\\_BUY\\_IN\\_IND04 & ENTITLEMENT\\_BUY\\_IN\\_IND05 & ENTITLEMENT\\_BUY\\_IN\\_IND06 & ENTITLEMENT\\_BUY\\_IN\\_IND07 & ENTITLEMENT\\_BUY\\_IN\\_IND08 & ENTITLEMENT\\_BUY\\_IN\\_IND09 & ENTITLEMENT\\_BUY\\_IN\\_IND10 & ENTITLEMENT\\_BUY\\_IN\\_IND11 & ENTITLEMENT\\_BUY\\_IN\\_IND12 & HMO\\_INDICATOR01 & HMO\\_INDICATOR02 & HMO\\_INDICATOR03 & HMO\\_INDICATOR04 & HMO\\_INDICATOR05 & HMO\\_INDICATOR06 & HMO\\_INDICATOR07 & HMO\\_INDICATOR08 & HMO\\_INDICATOR09 & HMO\\_INDICATOR10 & HMO\\_INDICATOR11 & HMO\\_INDICATOR12 & VALID\\_DATE\\_OF\\_DEATH\\_SWITCH & DATE\\_OF\\_DEATH & year\\_of\\_death & most\\_common\\_physician\\_PRF\\_PHYSN\\_NPI & most\\_common\\_physician\\_n & most\\_common\\_physician\\_PRVDR\\_SPCLTY & most\\_common\\_primary\\_care\\_physician\\_PRF\\_PHYSN\\_NPI & most\\_common\\_primary\\_care\\_physician\\_n & most\\_common\\_primary\\_care\\_physician\\_PRVDR\\_SPCLTY & most\\_common\\_physician\\_in\\_facility\\_visits\\_count & most\\_common\\_physician\\_in\\_all\\_visits\\_count & most\\_common\\_physician\\_in\\_facility\\_non\\_exclusive\\_HCPCS\\_count & most\\_common\\_physician\\_in\\_all\\_non\\_exclusive\\_HCPCS\\_count & most\\_common\\_physician\\_in\\_facility\\_count & most\\_common\\_physician\\_in\\_all\\_count & most\\_common\\_physician\\_in\\_facility\\_visits\\_prp & most\\_common\\_physician\\_in\\_facility\\_non\\_exclusive\\_HCPCS\\_prp & most\\_common\\_physician\\_in\\_facility\\_prp & most\\_common\\_primary\\_care\\_physician\\_in\\_facility\\_visits\\_count & most\\_common\\_primary\\_care\\_physician\\_in\\_all\\_visits\\_count & most\\_common\\_primary\\_care\\_physician\\_in\\_facility\\_non\\_exclusive\\_HCPCS\\_count & most\\_common\\_primary\\_care\\_physician\\_in\\_all\\_non\\_exclusive\\_HCPCS\\_count & most\\_common\\_primary\\_care\\_physician\\_in\\_facility\\_count & most\\_common\\_primary\\_care\\_physician\\_in\\_all\\_count & most\\_common\\_primary\\_care\\_physician\\_in\\_facility\\_visits\\_prp & most\\_common\\_primary\\_care\\_physician\\_in\\_facility\\_non\\_exclusive\\_HCPCS\\_prp & most\\_common\\_primary\\_care\\_physician\\_in\\_facility\\_prp\\\\\n",
       " <int> & <dbl> & <int> & <int> & <lgl> & <lgl> & <lgl> & <lgl> & <lgl> & <lgl> & <lgl> & <dbl> & <chr> & <chr> & <dbl> & <dbl> & <dbl> & <dbl> & <dbl> & <chr> & <chr> & <chr> & <chr> & <chr> & <chr> & <chr> & <chr> & <chr> & <chr> & <chr> & <chr> & <chr> & <chr> & <chr> & <chr> & <chr> & <chr> & <chr> & <chr> & <chr> & <chr> & <chr> & <chr> & <chr> & <dbl> & <chr> & <chr> & <int> & <chr> & <chr> & <int> & <chr> & <int> & <int> & <int> & <int> & <int> & <int> & <dbl> & <dbl> & <dbl> & <int> & <int> & <int> & <int> & <int> & <int> & <dbl> & <dbl> & <dbl>\\\\\n",
       "\\hline\n",
       "\t 100000015 & 2013 &  7 & 1 & FALSE & FALSE &  TRUE & FALSE & FALSE &  TRUE & FALSE & 13 & 22 & 160 &  1 &  1 & 76 &  0 &  0 & 3  & 3  & 3  & 3  & 3  & 3  & 3  & 3  & 3  & 3  & 3  & 3  & 0  & 0  & 0  & 0  & 0  & 0  & 0  & 0  & 0  & 0  & 0  & 0  & NA & NA & NA & 1285600932 & 2 & 11 & 1285600932 & 2 & 11 &  7 & 96 & 62 & 242 & 66 & 341 & 0.07291667 & 0.2561983 & 0.19354839 &  7 & 96 & 62 & 242 & 66 & 341 & 0.07291667 & 0.2561983 & 0.19354839\\\\\n",
       "\t 100000015 & 2014 & 10 & 1 & FALSE & FALSE &  TRUE & FALSE & FALSE &  TRUE & FALSE & NA & NA & NA  & NA & NA & NA & NA & NA & NA & NA & NA & NA & NA & NA & NA & NA & NA & NA & NA & NA & NA & NA & NA & NA & NA & NA & NA & NA & NA & NA & NA & NA & NA & NA & NA & 1770514119 & 4 & 11 & 1770514119 & 4 & 11 & 16 & 16 & 22 &  22 & 27 &  27 & 1.00000000 & 1.0000000 & 1.00000000 & 16 & 16 & 22 &  22 & 27 &  27 & 1.00000000 & 1.0000000 & 1.00000000\\\\\n",
       "\t 100000015 & 2015 &  6 & 2 &  TRUE & FALSE & FALSE &  TRUE & FALSE & FALSE & FALSE & NA & NA & NA  & NA & NA & NA & NA & NA & NA & NA & NA & NA & NA & NA & NA & NA & NA & NA & NA & NA & NA & NA & NA & NA & NA & NA & NA & NA & NA & NA & NA & NA & NA & NA & NA & 1770514119 & 4 & 11 & 1770514119 & 4 & 11 & 48 & 48 & 57 &  57 & 57 &  57 & 1.00000000 & 1.0000000 & 1.00000000 & 48 & 48 & 57 &  57 & 57 &  57 & 1.00000000 & 1.0000000 & 1.00000000\\\\\n",
       "\t 100000015 & 2016 &  9 & 2 &  TRUE & FALSE &  TRUE &  TRUE & FALSE & FALSE &  TRUE & NA & NA & NA  & NA & NA & NA & NA & NA & NA & NA & NA & NA & NA & NA & NA & NA & NA & NA & NA & NA & NA & NA & NA & NA & NA & NA & NA & NA & NA & NA & NA & NA & NA & NA & NA & 1730170630 & 4 & 06 & 1730170630 & 4 & 11 &  0 & 21 &  0 &  21 &  4 &  41 & 0.00000000 & 0.0000000 & 0.09756098 &  0 & 21 &  0 &  21 &  4 &  41 & 0.00000000 & 0.0000000 & 0.09756098\\\\\n",
       "\t 100000015 & 2017 & 14 & 3 & FALSE & FALSE &  TRUE &  TRUE & FALSE & FALSE &  TRUE & NA & NA & NA  & NA & NA & NA & NA & NA & NA & NA & NA & NA & NA & NA & NA & NA & NA & NA & NA & NA & NA & NA & NA & NA & NA & NA & NA & NA & NA & NA & NA & NA & NA & NA & NA & 1043207350 & 3 & 11 & 1043207350 & 3 & 11 & 58 & 58 & 68 &  68 & 69 &  69 & 1.00000000 & 1.0000000 & 1.00000000 & 58 & 58 & 68 &  68 & 69 &  69 & 1.00000000 & 1.0000000 & 1.00000000\\\\\n",
       "\t 100000015 & 2018 & 16 & 2 & FALSE & FALSE &  TRUE &  TRUE & FALSE & FALSE &  TRUE & NA & NA & NA  & NA & NA & NA & NA & NA & NA & NA & NA & NA & NA & NA & NA & NA & NA & NA & NA & NA & NA & NA & NA & NA & NA & NA & NA & NA & NA & NA & NA & NA & NA & NA & NA & 1043207350 & 2 & 11 & 1043207350 & 2 & 11 & 52 & 52 & 62 &  62 & 62 &  62 & 1.00000000 & 1.0000000 & 1.00000000 & 52 & 52 & 62 &  62 & 62 &  62 & 1.00000000 & 1.0000000 & 1.00000000\\\\\n",
       "\\end{tabular}\n"
      ],
      "text/markdown": [
       "\n",
       "A data.table: 6 × 70\n",
       "\n",
       "| DESY_SORT_KEY &lt;int&gt; | year &lt;dbl&gt; | distinct_clinicians &lt;int&gt; | distinct_primary_care_physicians &lt;int&gt; | hypertension &lt;lgl&gt; | arthritis &lt;lgl&gt; | IHD &lt;lgl&gt; | diabetes &lt;lgl&gt; | depression &lt;lgl&gt; | icd_9_pure &lt;lgl&gt; | icd_10_pure &lt;lgl&gt; | REFERENCE_YEAR &lt;dbl&gt; | STATE_CODE &lt;chr&gt; | COUNTY_CODE &lt;chr&gt; | SEX_CODE &lt;dbl&gt; | RACE_CODE &lt;dbl&gt; | AGE &lt;dbl&gt; | ORIG_REASON_FOR_ENTITLEMENT &lt;dbl&gt; | CURR_REASON_FOR_ENTITLEMENT &lt;dbl&gt; | ENTITLEMENT_BUY_IN_IND01 &lt;chr&gt; | ENTITLEMENT_BUY_IN_IND02 &lt;chr&gt; | ENTITLEMENT_BUY_IN_IND03 &lt;chr&gt; | ENTITLEMENT_BUY_IN_IND04 &lt;chr&gt; | ENTITLEMENT_BUY_IN_IND05 &lt;chr&gt; | ENTITLEMENT_BUY_IN_IND06 &lt;chr&gt; | ENTITLEMENT_BUY_IN_IND07 &lt;chr&gt; | ENTITLEMENT_BUY_IN_IND08 &lt;chr&gt; | ENTITLEMENT_BUY_IN_IND09 &lt;chr&gt; | ENTITLEMENT_BUY_IN_IND10 &lt;chr&gt; | ENTITLEMENT_BUY_IN_IND11 &lt;chr&gt; | ENTITLEMENT_BUY_IN_IND12 &lt;chr&gt; | HMO_INDICATOR01 &lt;chr&gt; | HMO_INDICATOR02 &lt;chr&gt; | HMO_INDICATOR03 &lt;chr&gt; | HMO_INDICATOR04 &lt;chr&gt; | HMO_INDICATOR05 &lt;chr&gt; | HMO_INDICATOR06 &lt;chr&gt; | HMO_INDICATOR07 &lt;chr&gt; | HMO_INDICATOR08 &lt;chr&gt; | HMO_INDICATOR09 &lt;chr&gt; | HMO_INDICATOR10 &lt;chr&gt; | HMO_INDICATOR11 &lt;chr&gt; | HMO_INDICATOR12 &lt;chr&gt; | VALID_DATE_OF_DEATH_SWITCH &lt;chr&gt; | DATE_OF_DEATH &lt;dbl&gt; | year_of_death &lt;chr&gt; | most_common_physician_PRF_PHYSN_NPI &lt;chr&gt; | most_common_physician_n &lt;int&gt; | most_common_physician_PRVDR_SPCLTY &lt;chr&gt; | most_common_primary_care_physician_PRF_PHYSN_NPI &lt;chr&gt; | most_common_primary_care_physician_n &lt;int&gt; | most_common_primary_care_physician_PRVDR_SPCLTY &lt;chr&gt; | most_common_physician_in_facility_visits_count &lt;int&gt; | most_common_physician_in_all_visits_count &lt;int&gt; | most_common_physician_in_facility_non_exclusive_HCPCS_count &lt;int&gt; | most_common_physician_in_all_non_exclusive_HCPCS_count &lt;int&gt; | most_common_physician_in_facility_count &lt;int&gt; | most_common_physician_in_all_count &lt;int&gt; | most_common_physician_in_facility_visits_prp &lt;dbl&gt; | most_common_physician_in_facility_non_exclusive_HCPCS_prp &lt;dbl&gt; | most_common_physician_in_facility_prp &lt;dbl&gt; | most_common_primary_care_physician_in_facility_visits_count &lt;int&gt; | most_common_primary_care_physician_in_all_visits_count &lt;int&gt; | most_common_primary_care_physician_in_facility_non_exclusive_HCPCS_count &lt;int&gt; | most_common_primary_care_physician_in_all_non_exclusive_HCPCS_count &lt;int&gt; | most_common_primary_care_physician_in_facility_count &lt;int&gt; | most_common_primary_care_physician_in_all_count &lt;int&gt; | most_common_primary_care_physician_in_facility_visits_prp &lt;dbl&gt; | most_common_primary_care_physician_in_facility_non_exclusive_HCPCS_prp &lt;dbl&gt; | most_common_primary_care_physician_in_facility_prp &lt;dbl&gt; |\n",
       "|---|---|---|---|---|---|---|---|---|---|---|---|---|---|---|---|---|---|---|---|---|---|---|---|---|---|---|---|---|---|---|---|---|---|---|---|---|---|---|---|---|---|---|---|---|---|---|---|---|---|---|---|---|---|---|---|---|---|---|---|---|---|---|---|---|---|---|---|---|---|\n",
       "| 100000015 | 2013 |  7 | 1 | FALSE | FALSE |  TRUE | FALSE | FALSE |  TRUE | FALSE | 13 | 22 | 160 |  1 |  1 | 76 |  0 |  0 | 3  | 3  | 3  | 3  | 3  | 3  | 3  | 3  | 3  | 3  | 3  | 3  | 0  | 0  | 0  | 0  | 0  | 0  | 0  | 0  | 0  | 0  | 0  | 0  | NA | NA | NA | 1285600932 | 2 | 11 | 1285600932 | 2 | 11 |  7 | 96 | 62 | 242 | 66 | 341 | 0.07291667 | 0.2561983 | 0.19354839 |  7 | 96 | 62 | 242 | 66 | 341 | 0.07291667 | 0.2561983 | 0.19354839 |\n",
       "| 100000015 | 2014 | 10 | 1 | FALSE | FALSE |  TRUE | FALSE | FALSE |  TRUE | FALSE | NA | NA | NA  | NA | NA | NA | NA | NA | NA | NA | NA | NA | NA | NA | NA | NA | NA | NA | NA | NA | NA | NA | NA | NA | NA | NA | NA | NA | NA | NA | NA | NA | NA | NA | NA | 1770514119 | 4 | 11 | 1770514119 | 4 | 11 | 16 | 16 | 22 |  22 | 27 |  27 | 1.00000000 | 1.0000000 | 1.00000000 | 16 | 16 | 22 |  22 | 27 |  27 | 1.00000000 | 1.0000000 | 1.00000000 |\n",
       "| 100000015 | 2015 |  6 | 2 |  TRUE | FALSE | FALSE |  TRUE | FALSE | FALSE | FALSE | NA | NA | NA  | NA | NA | NA | NA | NA | NA | NA | NA | NA | NA | NA | NA | NA | NA | NA | NA | NA | NA | NA | NA | NA | NA | NA | NA | NA | NA | NA | NA | NA | NA | NA | NA | 1770514119 | 4 | 11 | 1770514119 | 4 | 11 | 48 | 48 | 57 |  57 | 57 |  57 | 1.00000000 | 1.0000000 | 1.00000000 | 48 | 48 | 57 |  57 | 57 |  57 | 1.00000000 | 1.0000000 | 1.00000000 |\n",
       "| 100000015 | 2016 |  9 | 2 |  TRUE | FALSE |  TRUE |  TRUE | FALSE | FALSE |  TRUE | NA | NA | NA  | NA | NA | NA | NA | NA | NA | NA | NA | NA | NA | NA | NA | NA | NA | NA | NA | NA | NA | NA | NA | NA | NA | NA | NA | NA | NA | NA | NA | NA | NA | NA | NA | 1730170630 | 4 | 06 | 1730170630 | 4 | 11 |  0 | 21 |  0 |  21 |  4 |  41 | 0.00000000 | 0.0000000 | 0.09756098 |  0 | 21 |  0 |  21 |  4 |  41 | 0.00000000 | 0.0000000 | 0.09756098 |\n",
       "| 100000015 | 2017 | 14 | 3 | FALSE | FALSE |  TRUE |  TRUE | FALSE | FALSE |  TRUE | NA | NA | NA  | NA | NA | NA | NA | NA | NA | NA | NA | NA | NA | NA | NA | NA | NA | NA | NA | NA | NA | NA | NA | NA | NA | NA | NA | NA | NA | NA | NA | NA | NA | NA | NA | 1043207350 | 3 | 11 | 1043207350 | 3 | 11 | 58 | 58 | 68 |  68 | 69 |  69 | 1.00000000 | 1.0000000 | 1.00000000 | 58 | 58 | 68 |  68 | 69 |  69 | 1.00000000 | 1.0000000 | 1.00000000 |\n",
       "| 100000015 | 2018 | 16 | 2 | FALSE | FALSE |  TRUE |  TRUE | FALSE | FALSE |  TRUE | NA | NA | NA  | NA | NA | NA | NA | NA | NA | NA | NA | NA | NA | NA | NA | NA | NA | NA | NA | NA | NA | NA | NA | NA | NA | NA | NA | NA | NA | NA | NA | NA | NA | NA | NA | 1043207350 | 2 | 11 | 1043207350 | 2 | 11 | 52 | 52 | 62 |  62 | 62 |  62 | 1.00000000 | 1.0000000 | 1.00000000 | 52 | 52 | 62 |  62 | 62 |  62 | 1.00000000 | 1.0000000 | 1.00000000 |\n",
       "\n"
      ],
      "text/plain": [
       "  DESY_SORT_KEY year distinct_clinicians distinct_primary_care_physicians hypertension arthritis IHD   diabetes depression icd_9_pure icd_10_pure REFERENCE_YEAR STATE_CODE COUNTY_CODE SEX_CODE RACE_CODE AGE ORIG_REASON_FOR_ENTITLEMENT CURR_REASON_FOR_ENTITLEMENT ENTITLEMENT_BUY_IN_IND01\n",
       "1 100000015     2013  7                  1                                FALSE        FALSE      TRUE FALSE    FALSE       TRUE      FALSE       13             22         160          1        1        76   0                           0                          3                       \n",
       "2 100000015     2014 10                  1                                FALSE        FALSE      TRUE FALSE    FALSE       TRUE      FALSE       NA             NA         NA          NA       NA        NA  NA                          NA                          NA                      \n",
       "3 100000015     2015  6                  2                                 TRUE        FALSE     FALSE  TRUE    FALSE      FALSE      FALSE       NA             NA         NA          NA       NA        NA  NA                          NA                          NA                      \n",
       "4 100000015     2016  9                  2                                 TRUE        FALSE      TRUE  TRUE    FALSE      FALSE       TRUE       NA             NA         NA          NA       NA        NA  NA                          NA                          NA                      \n",
       "5 100000015     2017 14                  3                                FALSE        FALSE      TRUE  TRUE    FALSE      FALSE       TRUE       NA             NA         NA          NA       NA        NA  NA                          NA                          NA                      \n",
       "6 100000015     2018 16                  2                                FALSE        FALSE      TRUE  TRUE    FALSE      FALSE       TRUE       NA             NA         NA          NA       NA        NA  NA                          NA                          NA                      \n",
       "  ENTITLEMENT_BUY_IN_IND02 ENTITLEMENT_BUY_IN_IND03 ENTITLEMENT_BUY_IN_IND04 ENTITLEMENT_BUY_IN_IND05 ENTITLEMENT_BUY_IN_IND06 ENTITLEMENT_BUY_IN_IND07 ENTITLEMENT_BUY_IN_IND08 ENTITLEMENT_BUY_IN_IND09 ENTITLEMENT_BUY_IN_IND10 ENTITLEMENT_BUY_IN_IND11 ENTITLEMENT_BUY_IN_IND12 HMO_INDICATOR01\n",
       "1 3                        3                        3                        3                        3                        3                        3                        3                        3                        3                        3                        0              \n",
       "2 NA                       NA                       NA                       NA                       NA                       NA                       NA                       NA                       NA                       NA                       NA                       NA             \n",
       "3 NA                       NA                       NA                       NA                       NA                       NA                       NA                       NA                       NA                       NA                       NA                       NA             \n",
       "4 NA                       NA                       NA                       NA                       NA                       NA                       NA                       NA                       NA                       NA                       NA                       NA             \n",
       "5 NA                       NA                       NA                       NA                       NA                       NA                       NA                       NA                       NA                       NA                       NA                       NA             \n",
       "6 NA                       NA                       NA                       NA                       NA                       NA                       NA                       NA                       NA                       NA                       NA                       NA             \n",
       "  HMO_INDICATOR02 HMO_INDICATOR03 HMO_INDICATOR04 HMO_INDICATOR05 HMO_INDICATOR06 HMO_INDICATOR07 HMO_INDICATOR08 HMO_INDICATOR09 HMO_INDICATOR10 HMO_INDICATOR11 HMO_INDICATOR12 VALID_DATE_OF_DEATH_SWITCH DATE_OF_DEATH year_of_death most_common_physician_PRF_PHYSN_NPI most_common_physician_n\n",
       "1 0               0               0               0               0               0               0               0               0               0               0               NA                         NA            NA            1285600932                          2                      \n",
       "2 NA              NA              NA              NA              NA              NA              NA              NA              NA              NA              NA              NA                         NA            NA            1770514119                          4                      \n",
       "3 NA              NA              NA              NA              NA              NA              NA              NA              NA              NA              NA              NA                         NA            NA            1770514119                          4                      \n",
       "4 NA              NA              NA              NA              NA              NA              NA              NA              NA              NA              NA              NA                         NA            NA            1730170630                          4                      \n",
       "5 NA              NA              NA              NA              NA              NA              NA              NA              NA              NA              NA              NA                         NA            NA            1043207350                          3                      \n",
       "6 NA              NA              NA              NA              NA              NA              NA              NA              NA              NA              NA              NA                         NA            NA            1043207350                          2                      \n",
       "  most_common_physician_PRVDR_SPCLTY most_common_primary_care_physician_PRF_PHYSN_NPI most_common_primary_care_physician_n most_common_primary_care_physician_PRVDR_SPCLTY most_common_physician_in_facility_visits_count most_common_physician_in_all_visits_count\n",
       "1 11                                 1285600932                                       2                                    11                                               7                                             96                                       \n",
       "2 11                                 1770514119                                       4                                    11                                              16                                             16                                       \n",
       "3 11                                 1770514119                                       4                                    11                                              48                                             48                                       \n",
       "4 06                                 1730170630                                       4                                    11                                               0                                             21                                       \n",
       "5 11                                 1043207350                                       3                                    11                                              58                                             58                                       \n",
       "6 11                                 1043207350                                       2                                    11                                              52                                             52                                       \n",
       "  most_common_physician_in_facility_non_exclusive_HCPCS_count most_common_physician_in_all_non_exclusive_HCPCS_count most_common_physician_in_facility_count most_common_physician_in_all_count most_common_physician_in_facility_visits_prp most_common_physician_in_facility_non_exclusive_HCPCS_prp\n",
       "1 62                                                          242                                                    66                                      341                                0.07291667                                   0.2561983                                                \n",
       "2 22                                                           22                                                    27                                       27                                1.00000000                                   1.0000000                                                \n",
       "3 57                                                           57                                                    57                                       57                                1.00000000                                   1.0000000                                                \n",
       "4  0                                                           21                                                     4                                       41                                0.00000000                                   0.0000000                                                \n",
       "5 68                                                           68                                                    69                                       69                                1.00000000                                   1.0000000                                                \n",
       "6 62                                                           62                                                    62                                       62                                1.00000000                                   1.0000000                                                \n",
       "  most_common_physician_in_facility_prp most_common_primary_care_physician_in_facility_visits_count most_common_primary_care_physician_in_all_visits_count most_common_primary_care_physician_in_facility_non_exclusive_HCPCS_count most_common_primary_care_physician_in_all_non_exclusive_HCPCS_count\n",
       "1 0.19354839                             7                                                          96                                                     62                                                                       242                                                                \n",
       "2 1.00000000                            16                                                          16                                                     22                                                                        22                                                                \n",
       "3 1.00000000                            48                                                          48                                                     57                                                                        57                                                                \n",
       "4 0.09756098                             0                                                          21                                                      0                                                                        21                                                                \n",
       "5 1.00000000                            58                                                          58                                                     68                                                                        68                                                                \n",
       "6 1.00000000                            52                                                          52                                                     62                                                                        62                                                                \n",
       "  most_common_primary_care_physician_in_facility_count most_common_primary_care_physician_in_all_count most_common_primary_care_physician_in_facility_visits_prp most_common_primary_care_physician_in_facility_non_exclusive_HCPCS_prp most_common_primary_care_physician_in_facility_prp\n",
       "1 66                                                   341                                             0.07291667                                                0.2561983                                                              0.19354839                                        \n",
       "2 27                                                    27                                             1.00000000                                                1.0000000                                                              1.00000000                                        \n",
       "3 57                                                    57                                             1.00000000                                                1.0000000                                                              1.00000000                                        \n",
       "4  4                                                    41                                             0.00000000                                                0.0000000                                                              0.09756098                                        \n",
       "5 69                                                    69                                             1.00000000                                                1.0000000                                                              1.00000000                                        \n",
       "6 62                                                    62                                             1.00000000                                                1.0000000                                                              1.00000000                                        "
      ]
     },
     "metadata": {},
     "output_type": "display_data"
    }
   ],
   "source": [
    "head(summary_with_physician_integration_stats)"
   ]
  },
  {
   "cell_type": "code",
   "execution_count": 14,
   "id": "5c9a53ae-19ce-45bb-a5d5-638ea3370077",
   "metadata": {},
   "outputs": [],
   "source": [
    "write.fst(summary_with_physician_integration_stats,\"summary_with_physician_integration_stats.fst\")"
   ]
  },
  {
   "cell_type": "markdown",
   "id": "0831929e-0518-4550-bfef-225baf5d5949",
   "metadata": {
    "tags": []
   },
   "source": [
    "# Comparisons and analyses"
   ]
  },
  {
   "cell_type": "markdown",
   "id": "a0281bb5-be80-4122-9421-c06688b24699",
   "metadata": {
    "tags": []
   },
   "source": [
    "## Reading the patient and physician integration results"
   ]
  },
  {
   "cell_type": "code",
   "execution_count": 92,
   "id": "e4846f2a-aa7c-4f4c-9945-a9f408d8515f",
   "metadata": {
    "tags": []
   },
   "outputs": [],
   "source": [
    "yearly_calculations_stable_angina =\n",
    "read_fst(\"results_may/yearly_calculations_stable_angina_with_integration.fst\"\n",
    "         ,as.data.table = T) \n",
    "yearly_calculations_unstable_angina =\n",
    "read_fst(\"results_may/yearly_calculations_unstable_angina_with_integration.fst\"\n",
    "         ,as.data.table = T)\n",
    "MI_dates=\n",
    "read_fst(\"results_may/MI_DATES.fst\", as.data.table = T)\n",
    "#physician_integration_stats = \n",
    "#read_fst(\"results_feb/physician_integration_stats.fst\"\n",
    "#        ,as.data.table = T)\n",
    "#melted_physician_integration_stats=\n",
    "#read_fst(\"results_feb/melted_physician_integration_stats.fst\"\n",
    "#        ,as.data.table = T)"
   ]
  },
  {
   "cell_type": "markdown",
   "id": "5f711fa2-8b37-4ca3-b393-8ed11eab67e5",
   "metadata": {
    "tags": []
   },
   "source": [
    "## Adding metropolitan status\n",
    "I will add the metropolitan statuses of the patient counties using the USDA data"
   ]
  },
  {
   "cell_type": "code",
   "execution_count": 97,
   "id": "1a7e1e72-5f6c-4223-bba5-6d36a258315f",
   "metadata": {},
   "outputs": [
    {
     "data": {
      "text/html": [
       "<table class=\"dataframe\">\n",
       "<caption>A data.table: 6 × 6</caption>\n",
       "<thead>\n",
       "\t<tr><th scope=col>FIPS</th><th scope=col>State</th><th scope=col>County_Name</th><th scope=col>Population_2010</th><th scope=col>RUCC_2013</th><th scope=col>Description</th></tr>\n",
       "\t<tr><th scope=col>&lt;chr&gt;</th><th scope=col>&lt;chr&gt;</th><th scope=col>&lt;chr&gt;</th><th scope=col>&lt;dbl&gt;</th><th scope=col>&lt;dbl&gt;</th><th scope=col>&lt;chr&gt;</th></tr>\n",
       "</thead>\n",
       "<tbody>\n",
       "\t<tr><td>01001</td><td>AL</td><td>Autauga County</td><td> 54571</td><td>2</td><td>Metro - Counties in metro areas of 250,000 to 1 million population      </td></tr>\n",
       "\t<tr><td>01003</td><td>AL</td><td>Baldwin County</td><td>182265</td><td>3</td><td>Metro - Counties in metro areas of fewer than 250,000 population        </td></tr>\n",
       "\t<tr><td>01005</td><td>AL</td><td>Barbour County</td><td> 27457</td><td>6</td><td>Nonmetro - Urban population of 2,500 to 19,999, adjacent to a metro area</td></tr>\n",
       "\t<tr><td>01007</td><td>AL</td><td>Bibb County   </td><td> 22915</td><td>1</td><td>Metro - Counties in metro areas of 1 million population or more         </td></tr>\n",
       "\t<tr><td>01009</td><td>AL</td><td>Blount County </td><td> 57322</td><td>1</td><td>Metro - Counties in metro areas of 1 million population or more         </td></tr>\n",
       "\t<tr><td>01011</td><td>AL</td><td>Bullock County</td><td> 10914</td><td>6</td><td>Nonmetro - Urban population of 2,500 to 19,999, adjacent to a metro area</td></tr>\n",
       "</tbody>\n",
       "</table>\n"
      ],
      "text/latex": [
       "A data.table: 6 × 6\n",
       "\\begin{tabular}{llllll}\n",
       " FIPS & State & County\\_Name & Population\\_2010 & RUCC\\_2013 & Description\\\\\n",
       " <chr> & <chr> & <chr> & <dbl> & <dbl> & <chr>\\\\\n",
       "\\hline\n",
       "\t 01001 & AL & Autauga County &  54571 & 2 & Metro - Counties in metro areas of 250,000 to 1 million population      \\\\\n",
       "\t 01003 & AL & Baldwin County & 182265 & 3 & Metro - Counties in metro areas of fewer than 250,000 population        \\\\\n",
       "\t 01005 & AL & Barbour County &  27457 & 6 & Nonmetro - Urban population of 2,500 to 19,999, adjacent to a metro area\\\\\n",
       "\t 01007 & AL & Bibb County    &  22915 & 1 & Metro - Counties in metro areas of 1 million population or more         \\\\\n",
       "\t 01009 & AL & Blount County  &  57322 & 1 & Metro - Counties in metro areas of 1 million population or more         \\\\\n",
       "\t 01011 & AL & Bullock County &  10914 & 6 & Nonmetro - Urban population of 2,500 to 19,999, adjacent to a metro area\\\\\n",
       "\\end{tabular}\n"
      ],
      "text/markdown": [
       "\n",
       "A data.table: 6 × 6\n",
       "\n",
       "| FIPS &lt;chr&gt; | State &lt;chr&gt; | County_Name &lt;chr&gt; | Population_2010 &lt;dbl&gt; | RUCC_2013 &lt;dbl&gt; | Description &lt;chr&gt; |\n",
       "|---|---|---|---|---|---|\n",
       "| 01001 | AL | Autauga County |  54571 | 2 | Metro - Counties in metro areas of 250,000 to 1 million population       |\n",
       "| 01003 | AL | Baldwin County | 182265 | 3 | Metro - Counties in metro areas of fewer than 250,000 population         |\n",
       "| 01005 | AL | Barbour County |  27457 | 6 | Nonmetro - Urban population of 2,500 to 19,999, adjacent to a metro area |\n",
       "| 01007 | AL | Bibb County    |  22915 | 1 | Metro - Counties in metro areas of 1 million population or more          |\n",
       "| 01009 | AL | Blount County  |  57322 | 1 | Metro - Counties in metro areas of 1 million population or more          |\n",
       "| 01011 | AL | Bullock County |  10914 | 6 | Nonmetro - Urban population of 2,500 to 19,999, adjacent to a metro area |\n",
       "\n"
      ],
      "text/plain": [
       "  FIPS  State County_Name    Population_2010 RUCC_2013 Description                                                             \n",
       "1 01001 AL    Autauga County  54571          2         Metro - Counties in metro areas of 250,000 to 1 million population      \n",
       "2 01003 AL    Baldwin County 182265          3         Metro - Counties in metro areas of fewer than 250,000 population        \n",
       "3 01005 AL    Barbour County  27457          6         Nonmetro - Urban population of 2,500 to 19,999, adjacent to a metro area\n",
       "4 01007 AL    Bibb County     22915          1         Metro - Counties in metro areas of 1 million population or more         \n",
       "5 01009 AL    Blount County   57322          1         Metro - Counties in metro areas of 1 million population or more         \n",
       "6 01011 AL    Bullock County  10914          6         Nonmetro - Urban population of 2,500 to 19,999, adjacent to a metro area"
      ]
     },
     "metadata": {},
     "output_type": "display_data"
    },
    {
     "data": {
      "text/html": [
       "<table class=\"dataframe\">\n",
       "<caption>A data.table: 6 × 6</caption>\n",
       "<thead>\n",
       "\t<tr><th scope=col>County.Name</th><th scope=col>State</th><th scope=col>SSACD</th><th scope=col>FIPS.County.Code</th><th scope=col>CBSA</th><th scope=col>CBSA.Name</th></tr>\n",
       "\t<tr><th scope=col>&lt;chr&gt;</th><th scope=col>&lt;chr&gt;</th><th scope=col>&lt;int&gt;</th><th scope=col>&lt;int&gt;</th><th scope=col>&lt;int&gt;</th><th scope=col>&lt;chr&gt;</th></tr>\n",
       "</thead>\n",
       "<tbody>\n",
       "\t<tr><td>AUTAUGA</td><td>AL</td><td>1000</td><td>1001</td><td>33860</td><td>Montgomery, AL           </td></tr>\n",
       "\t<tr><td>BALDWIN</td><td>AL</td><td>1010</td><td>1003</td><td>19300</td><td>Daphne-Fairhope-Foley, AL</td></tr>\n",
       "\t<tr><td>BARBOUR</td><td>AL</td><td>1020</td><td>1005</td><td>   NA</td><td>                         </td></tr>\n",
       "\t<tr><td>BIBB   </td><td>AL</td><td>1030</td><td>1007</td><td>13820</td><td>Birmingham-Hoover, AL    </td></tr>\n",
       "\t<tr><td>BLOUNT </td><td>AL</td><td>1040</td><td>1009</td><td>13820</td><td>Birmingham-Hoover, AL    </td></tr>\n",
       "\t<tr><td>BULLOCK</td><td>AL</td><td>1050</td><td>1011</td><td>   NA</td><td>                         </td></tr>\n",
       "</tbody>\n",
       "</table>\n"
      ],
      "text/latex": [
       "A data.table: 6 × 6\n",
       "\\begin{tabular}{llllll}\n",
       " County.Name & State & SSACD & FIPS.County.Code & CBSA & CBSA.Name\\\\\n",
       " <chr> & <chr> & <int> & <int> & <int> & <chr>\\\\\n",
       "\\hline\n",
       "\t AUTAUGA & AL & 1000 & 1001 & 33860 & Montgomery, AL           \\\\\n",
       "\t BALDWIN & AL & 1010 & 1003 & 19300 & Daphne-Fairhope-Foley, AL\\\\\n",
       "\t BARBOUR & AL & 1020 & 1005 &    NA &                          \\\\\n",
       "\t BIBB    & AL & 1030 & 1007 & 13820 & Birmingham-Hoover, AL    \\\\\n",
       "\t BLOUNT  & AL & 1040 & 1009 & 13820 & Birmingham-Hoover, AL    \\\\\n",
       "\t BULLOCK & AL & 1050 & 1011 &    NA &                          \\\\\n",
       "\\end{tabular}\n"
      ],
      "text/markdown": [
       "\n",
       "A data.table: 6 × 6\n",
       "\n",
       "| County.Name &lt;chr&gt; | State &lt;chr&gt; | SSACD &lt;int&gt; | FIPS.County.Code &lt;int&gt; | CBSA &lt;int&gt; | CBSA.Name &lt;chr&gt; |\n",
       "|---|---|---|---|---|---|\n",
       "| AUTAUGA | AL | 1000 | 1001 | 33860 | Montgomery, AL            |\n",
       "| BALDWIN | AL | 1010 | 1003 | 19300 | Daphne-Fairhope-Foley, AL |\n",
       "| BARBOUR | AL | 1020 | 1005 |    NA | <!----> |\n",
       "| BIBB    | AL | 1030 | 1007 | 13820 | Birmingham-Hoover, AL     |\n",
       "| BLOUNT  | AL | 1040 | 1009 | 13820 | Birmingham-Hoover, AL     |\n",
       "| BULLOCK | AL | 1050 | 1011 |    NA | <!----> |\n",
       "\n"
      ],
      "text/plain": [
       "  County.Name State SSACD FIPS.County.Code CBSA  CBSA.Name                \n",
       "1 AUTAUGA     AL    1000  1001             33860 Montgomery, AL           \n",
       "2 BALDWIN     AL    1010  1003             19300 Daphne-Fairhope-Foley, AL\n",
       "3 BARBOUR     AL    1020  1005                NA                          \n",
       "4 BIBB        AL    1030  1007             13820 Birmingham-Hoover, AL    \n",
       "5 BLOUNT      AL    1040  1009             13820 Birmingham-Hoover, AL    \n",
       "6 BULLOCK     AL    1050  1011                NA                          "
      ]
     },
     "metadata": {},
     "output_type": "display_data"
    }
   ],
   "source": [
    "rural_urban_data = readxl::read_xls(\"physician_data/ruralurbancodes2013.xls\")%>%as.data.table()\n",
    "head(rural_urban_data)\n",
    "cross_walk_rural_urban=read.csv(file = \"physician_data/xwalk2018.csv\")%>%as.data.table()\n",
    "head(cross_walk_rural_urban)"
   ]
  },
  {
   "cell_type": "code",
   "execution_count": 98,
   "id": "ad158aa6-b485-4024-8dd8-ec679d1ef374",
   "metadata": {},
   "outputs": [
    {
     "name": "stderr",
     "output_type": "stream",
     "text": [
      "Warning message in eval(jsub, SDenv, parent.frame()):\n",
      "“NAs introduced by coercion”\n"
     ]
    },
    {
     "data": {
      "text/html": [
       "<table class=\"dataframe\">\n",
       "<caption>A data.table: 6 × 517</caption>\n",
       "<thead>\n",
       "\t<tr><th scope=col>DESY_SORT_KEY</th><th scope=col>first_diagnosis</th><th scope=col>tot_allowed_carrier</th><th scope=col>office_visit_count</th><th scope=col>office_visit_cost_carrier</th><th scope=col>cardiology_visit_count</th><th scope=col>distinct_clinicians</th><th scope=col>distinct_cardiologists</th><th scope=col>distinct_primary_care_physicians</th><th scope=col>distinct_surgeons</th><th scope=col>distinct_other_specialties</th><th scope=col>catheterization_count</th><th scope=col>catheterization_cost_carrier</th><th scope=col>ecg_count</th><th scope=col>ecg_cost_carrier</th><th scope=col>cardiac_ct_count</th><th scope=col>cardiac_ct_cost_carrier</th><th scope=col>cardiac_mri_count</th><th scope=col>cardiac_mri_cost_carrier</th><th scope=col>stress_test_count</th><th scope=col>stress_test_cost_carrier</th><th scope=col>echocardiography_count</th><th scope=col>echocardiography_cost_carrier</th><th scope=col>angioplasty_count</th><th scope=col>angioplasty_cost_carrier</th><th scope=col>CABG_count</th><th scope=col>CABG_cost_carrier</th><th scope=col>stable_angina</th><th scope=col>unstable_angina</th><th scope=col>MI</th><th scope=col>cardiac_arrest</th><th scope=col>stroke</th><th scope=col>hypertension</th><th scope=col>copd</th><th scope=col>obesity</th><th scope=col>depression</th><th scope=col>diabetes</th><th scope=col>icd_9_pure</th><th scope=col>icd_10_pure</th><th scope=col>catheterization_date</th><th scope=col>angioplasty_date</th><th scope=col>catheterization_doc_NPI</th><th scope=col>angioplasty_doc_NPI</th><th scope=col>diagnosing_doc_NPI</th><th scope=col>year_first_diagnosed</th><th scope=col>time_difference_angio_cath</th><th scope=col>angioplasty_with_cath</th><th scope=col>angioplasty_during_year_after_cath</th><th scope=col>tot_allowed_carrier_cardiology_related</th><th scope=col>office_visit_count_cardiology_related</th><th scope=col>office_visit_cost_carrier_cardiology_related</th><th scope=col>cardiology_visit_count_cardiology_related</th><th scope=col>distinct_clinicians_cardiology_related</th><th scope=col>distinct_cardiologists_cardiology_related</th><th scope=col>distinct_primary_care_physicians_cardiology_related</th><th scope=col>distinct_surgeons_cardiology_related</th><th scope=col>distinct_other_specialties_cardiology_related</th><th scope=col>catheterization_count_cardiology_related</th><th scope=col>catheterization_cost_carrier_cardiology_related</th><th scope=col>ecg_count_cardiology_related</th><th scope=col>ecg_cost_carrier_cardiology_related</th><th scope=col>cardiac_ct_count_cardiology_related</th><th scope=col>cardiac_ct_cost_carrier_cardiology_related</th><th scope=col>cardiac_mri_count_cardiology_related</th><th scope=col>cardiac_mri_cost_carrier_cardiology_related</th><th scope=col>stress_test_count_cardiology_related</th><th scope=col>stress_test_cost_carrier_cardiology_related</th><th scope=col>echocardiography_count_cardiology_related</th><th scope=col>echocardiography_cost_carrier_cardiology_related</th><th scope=col>angioplasty_count_cardiology_related</th><th scope=col>angioplasty_cost_carrier_cardiology_related</th><th scope=col>CABG_count_cardiology_related</th><th scope=col>CABG_cost_carrier_cardiology_related</th><th scope=col>office_visit_cost_outpatient</th><th scope=col>catheterization_cost_outpatient</th><th scope=col>ecg_cost_outpatient</th><th scope=col>cardiac_ct_cost_outpatient</th><th scope=col>cardiac_mri_cost_outpatient</th><th scope=col>stress_test_cost_outpatient</th><th scope=col>echocardiography_cost_outpatient</th><th scope=col>angioplasty_cost_outpatient</th><th scope=col>CABG_cost_outpatient</th><th scope=col>office_visit_cost_outpatient_cardiology_related</th><th scope=col>catheterization_cost_outpatient_cardiology_related</th><th scope=col>ecg_cost_outpatient_cardiology_related</th><th scope=col>cardiac_ct_cost_outpatient_cardiology_related</th><th scope=col>cardiac_mri_cost_outpatient_cardiology_related</th><th scope=col>stress_test_cost_outpatient_cardiology_related</th><th scope=col>echocardiography_cost_outpatient_cardiology_related</th><th scope=col>angioplasty_cost_outpatient_cardiology_related</th><th scope=col>CABG_cost_outpatient_cardiology_related</th><th scope=col>office_visit_cost</th><th scope=col>catheterization_cost</th><th scope=col>ecg_cost</th><th scope=col>cardiac_ct_cost</th><th scope=col>cardiac_mri_cost</th><th scope=col>stress_test_cost</th><th scope=col>echocardiography_cost</th><th scope=col>angioplasty_cost</th><th scope=col>CABG_cost</th><th scope=col>office_visit_cost_cardiology_related</th><th scope=col>catheterization_cost_cardiology_related</th><th scope=col>ecg_cost_cardiology_related</th><th scope=col>cardiac_ct_cost_cardiology_related</th><th scope=col>cardiac_mri_cost_cardiology_related</th><th scope=col>stress_test_cost_cardiology_related</th><th scope=col>echocardiography_cost_cardiology_related</th><th scope=col>angioplasty_cost_cardiology_related</th><th scope=col>CABG_cost_cardiology_related</th><th scope=col>tot_cheap_prcdr_cost</th><th scope=col>tot_expensive_prcdr_cost</th><th scope=col>tot_cheap_prcdr_cost_cardiology_related</th><th scope=col>tot_expensive_prcdr_cost_cardiology_related</th><th scope=col>tot_cheap_prcdr_count</th><th scope=col>tot_expensive_prcdr_count</th><th scope=col>tot_cheap_prcdr_count_cardiology_related</th><th scope=col>tot_expensive_prcdr_count_cardiology_related</th><th scope=col>REFERENCE_YEAR_2013</th><th scope=col>STATE_CODE_2013</th><th scope=col>COUNTY_CODE_2013</th><th scope=col>SEX_CODE_2013</th><th scope=col>RACE_CODE_2013</th><th scope=col>AGE_2013</th><th scope=col>ORIG_REASON_FOR_ENTITLEMENT_2013</th><th scope=col>CURR_REASON_FOR_ENTITLEMENT_2013</th><th scope=col>ENTITLEMENT_BUY_IN_IND01_2013</th><th scope=col>ENTITLEMENT_BUY_IN_IND02_2013</th><th scope=col>ENTITLEMENT_BUY_IN_IND03_2013</th><th scope=col>ENTITLEMENT_BUY_IN_IND04_2013</th><th scope=col>ENTITLEMENT_BUY_IN_IND05_2013</th><th scope=col>ENTITLEMENT_BUY_IN_IND06_2013</th><th scope=col>ENTITLEMENT_BUY_IN_IND07_2013</th><th scope=col>ENTITLEMENT_BUY_IN_IND08_2013</th><th scope=col>ENTITLEMENT_BUY_IN_IND09_2013</th><th scope=col>ENTITLEMENT_BUY_IN_IND10_2013</th><th scope=col>ENTITLEMENT_BUY_IN_IND11_2013</th><th scope=col>ENTITLEMENT_BUY_IN_IND12_2013</th><th scope=col>HMO_INDICATOR01_2013</th><th scope=col>HMO_INDICATOR02_2013</th><th scope=col>HMO_INDICATOR03_2013</th><th scope=col>HMO_INDICATOR04_2013</th><th scope=col>HMO_INDICATOR05_2013</th><th scope=col>HMO_INDICATOR06_2013</th><th scope=col>HMO_INDICATOR07_2013</th><th scope=col>HMO_INDICATOR08_2013</th><th scope=col>HMO_INDICATOR09_2013</th><th scope=col>HMO_INDICATOR10_2013</th><th scope=col>HMO_INDICATOR11_2013</th><th scope=col>HMO_INDICATOR12_2013</th><th scope=col>VALID_DATE_OF_DEATH_SWITCH_2013</th><th scope=col>⋯</th><th scope=col>ENTITLEMENT_BUY_IN_IND05_2020</th><th scope=col>ENTITLEMENT_BUY_IN_IND06_2020</th><th scope=col>ENTITLEMENT_BUY_IN_IND07_2020</th><th scope=col>ENTITLEMENT_BUY_IN_IND08_2020</th><th scope=col>ENTITLEMENT_BUY_IN_IND09_2020</th><th scope=col>ENTITLEMENT_BUY_IN_IND10_2020</th><th scope=col>ENTITLEMENT_BUY_IN_IND11_2020</th><th scope=col>ENTITLEMENT_BUY_IN_IND12_2020</th><th scope=col>HMO_INDICATOR01_2020</th><th scope=col>HMO_INDICATOR02_2020</th><th scope=col>HMO_INDICATOR03_2020</th><th scope=col>HMO_INDICATOR04_2020</th><th scope=col>HMO_INDICATOR05_2020</th><th scope=col>HMO_INDICATOR06_2020</th><th scope=col>HMO_INDICATOR07_2020</th><th scope=col>HMO_INDICATOR08_2020</th><th scope=col>HMO_INDICATOR09_2020</th><th scope=col>HMO_INDICATOR10_2020</th><th scope=col>HMO_INDICATOR11_2020</th><th scope=col>HMO_INDICATOR12_2020</th><th scope=col>VALID_DATE_OF_DEATH_SWITCH_2020</th><th scope=col>DATE_OF_DEATH_2020</th><th scope=col>deate_of_death_collapsed</th><th scope=col>death_validity_collapsed</th><th scope=col>date_of_death_collapsed</th><th scope=col>state_code_at_diagnosis</th><th scope=col>county_code_at_diagnosis</th><th scope=col>sex_code_at_diagnosis</th><th scope=col>race_code_at_diagnosis</th><th scope=col>age_at_diagnosis</th><th scope=col>ENTITLEMENT_BUY_IN_IND_sum</th><th scope=col>HMO_INDICATOR_sum</th><th scope=col>died_in_one_year_after_diagnosis</th><th scope=col>died_in_two_years_after_diagnosis</th><th scope=col>date_difference_diagnosis_death</th><th scope=col>score</th><th scope=col>index</th><th scope=col>wscore</th><th scope=col>windex</th><th scope=col>most_common_physician_PRF_PHYSN_NPI</th><th scope=col>most_common_physician_n</th><th scope=col>most_common_physician_PRVDR_SPCLTY</th><th scope=col>most_common_primary_care_physician_PRF_PHYSN_NPI</th><th scope=col>most_common_primary_care_physician_n</th><th scope=col>most_common_primary_care_physician_PRVDR_SPCLTY</th><th scope=col>most_common_cardiologist_PRF_PHYSN_NPI</th><th scope=col>most_common_cardiologist_n</th><th scope=col>most_common_cardiologist_PRVDR_SPCLTY</th><th scope=col>most_common_physician_2013_PRF_PHYSN_NPI</th><th scope=col>most_common_physician_2013_n</th><th scope=col>most_common_physician_2013_PRVDR_SPCLTY</th><th scope=col>most_common_primary_care_physician_2013_PRF_PHYSN_NPI</th><th scope=col>most_common_primary_care_physician_2013_n</th><th scope=col>most_common_primary_care_physician_2013_PRVDR_SPCLTY</th><th scope=col>most_common_cardiologist_2013_PRF_PHYSN_NPI</th><th scope=col>most_common_cardiologist_2013_n</th><th scope=col>most_common_cardiologist_2013_PRVDR_SPCLTY</th><th scope=col>tot_allowed_outpatient</th><th scope=col>tot_allowed_inpatient</th><th scope=col>number_of_hospitalizations</th><th scope=col>was_hospitalized</th><th scope=col>tot_allowed_outpatient_cardiology_related</th><th scope=col>tot_allowed_inpatient_cardiology_related</th><th scope=col>number_of_hospitalizations_cardiology_related</th><th scope=col>was_hospitalized_cardiology_related</th><th scope=col>total_exp</th><th scope=col>total_exp_cardiology_related</th><th scope=col>most_common_physician_prp_in_year_of_diagnosis_05_non_exclusive_HCPCS</th><th scope=col>most_common_physician_prp_in_2013_05_non_exclusive_HCPCS</th><th scope=col>most_common_physician_prp_in_year_before_diagnosis_05_non_exclusive_HCPCS</th><th scope=col>most_common_physician_prp_in_year_of_diagnosis_03_non_exclusive_HCPCS</th><th scope=col>most_common_physician_prp_in_2013_03_non_exclusive_HCPCS</th><th scope=col>most_common_physician_prp_in_year_before_diagnosis_03_non_exclusive_HCPCS</th><th scope=col>most_common_physician_avg_in_year_of_diagnosis_non_exclusive_HCPCS</th><th scope=col>most_common_physician_avg_in_2013_non_exclusive_HCPCS</th><th scope=col>most_common_physician_avg_in_year_before_diagnosis_non_exclusive_HCPCS</th><th scope=col>most_common_primary_care_physician_prp_in_year_of_diagnosis_05_non_exclusive_HCPCS</th><th scope=col>most_common_primary_care_physician_prp_in_2013_05_non_exclusive_HCPCS</th><th scope=col>most_common_primary_care_physician_prp_in_year_before_diagnosis_05_non_exclusive_HCPCS</th><th scope=col>most_common_primary_care_physician_prp_in_year_of_diagnosis_03_non_exclusive_HCPCS</th><th scope=col>most_common_primary_care_physician_prp_in_2013_03_non_exclusive_HCPCS</th><th scope=col>most_common_primary_care_physician_prp_in_year_before_diagnosis_03_non_exclusive_HCPCS</th><th scope=col>most_common_primary_care_physician_avg_in_year_of_diagnosis_non_exclusive_HCPCS</th><th scope=col>most_common_primary_care_physician_avg_in_2013_non_exclusive_HCPCS</th><th scope=col>most_common_primary_care_physician_avg_in_year_before_diagnosis_non_exclusive_HCPCS</th><th scope=col>most_common_cardiologist_prp_in_year_of_diagnosis_05_non_exclusive_HCPCS</th><th scope=col>most_common_cardiologist_prp_in_2013_05_non_exclusive_HCPCS</th><th scope=col>most_common_cardiologist_prp_in_year_before_diagnosis_05_non_exclusive_HCPCS</th><th scope=col>most_common_cardiologist_prp_in_year_of_diagnosis_03_non_exclusive_HCPCS</th><th scope=col>most_common_cardiologist_prp_in_2013_03_non_exclusive_HCPCS</th><th scope=col>most_common_cardiologist_prp_in_year_before_diagnosis_03_non_exclusive_HCPCS</th><th scope=col>most_common_cardiologist_avg_in_year_of_diagnosis_non_exclusive_HCPCS</th><th scope=col>most_common_cardiologist_avg_in_2013_non_exclusive_HCPCS</th><th scope=col>most_common_cardiologist_avg_in_year_before_diagnosis_non_exclusive_HCPCS</th><th scope=col>diagnosing_doc_prp_in_year_of_diagnosis_05_non_exclusive_HCPCS</th><th scope=col>diagnosing_doc_prp_in_2013_05_non_exclusive_HCPCS</th><th scope=col>diagnosing_doc_prp_in_year_before_diagnosis_05_non_exclusive_HCPCS</th><th scope=col>diagnosing_doc_prp_in_year_of_diagnosis_03_non_exclusive_HCPCS</th><th scope=col>diagnosing_doc_prp_in_2013_03_non_exclusive_HCPCS</th><th scope=col>diagnosing_doc_prp_in_year_before_diagnosis_03_non_exclusive_HCPCS</th><th scope=col>diagnosing_doc_avg_in_year_of_diagnosis_non_exclusive_HCPCS</th><th scope=col>diagnosing_doc_avg_in_2013_non_exclusive_HCPCS</th><th scope=col>diagnosing_doc_avg_in_year_before_diagnosis_non_exclusive_HCPCS</th><th scope=col>catheterization_doc_prp_in_year_of_diagnosis_05_non_exclusive_HCPCS</th><th scope=col>catheterization_doc_prp_in_2013_05_non_exclusive_HCPCS</th><th scope=col>catheterization_doc_prp_in_year_before_diagnosis_05_non_exclusive_HCPCS</th><th scope=col>catheterization_doc_prp_in_year_of_diagnosis_03_non_exclusive_HCPCS</th><th scope=col>catheterization_doc_prp_in_2013_03_non_exclusive_HCPCS</th><th scope=col>catheterization_doc_prp_in_year_before_diagnosis_03_non_exclusive_HCPCS</th><th scope=col>catheterization_doc_avg_in_year_of_diagnosis_non_exclusive_HCPCS</th><th scope=col>catheterization_doc_avg_in_2013_non_exclusive_HCPCS</th><th scope=col>catheterization_doc_avg_in_year_before_diagnosis_non_exclusive_HCPCS</th><th scope=col>angioplasty_doc_prp_in_year_of_diagnosis_05_non_exclusive_HCPCS</th><th scope=col>angioplasty_doc_prp_in_2013_05_non_exclusive_HCPCS</th><th scope=col>angioplasty_doc_prp_in_year_before_diagnosis_05_non_exclusive_HCPCS</th><th scope=col>angioplasty_doc_prp_in_year_of_diagnosis_03_non_exclusive_HCPCS</th><th scope=col>angioplasty_doc_prp_in_2013_03_non_exclusive_HCPCS</th><th scope=col>angioplasty_doc_prp_in_year_before_diagnosis_03_non_exclusive_HCPCS</th><th scope=col>angioplasty_doc_avg_in_year_of_diagnosis_non_exclusive_HCPCS</th><th scope=col>angioplasty_doc_avg_in_2013_non_exclusive_HCPCS</th><th scope=col>angioplasty_doc_avg_in_year_before_diagnosis_non_exclusive_HCPCS</th><th scope=col>most_common_physician_2013_prp_in_year_of_diagnosis_05_non_exclusive_HCPCS</th><th scope=col>most_common_physician_2013_prp_in_2013_05_non_exclusive_HCPCS</th><th scope=col>most_common_physician_2013_prp_in_year_before_diagnosis_05_non_exclusive_HCPCS</th><th scope=col>most_common_physician_2013_prp_in_year_of_diagnosis_03_non_exclusive_HCPCS</th><th scope=col>most_common_physician_2013_prp_in_2013_03_non_exclusive_HCPCS</th><th scope=col>most_common_physician_2013_prp_in_year_before_diagnosis_03_non_exclusive_HCPCS</th><th scope=col>most_common_physician_2013_avg_in_year_of_diagnosis_non_exclusive_HCPCS</th><th scope=col>most_common_physician_2013_avg_in_2013_non_exclusive_HCPCS</th><th scope=col>most_common_physician_2013_avg_in_year_before_diagnosis_non_exclusive_HCPCS</th><th scope=col>most_common_primary_care_physician_2013_prp_in_year_of_diagnosis_05_non_exclusive_HCPCS</th><th scope=col>most_common_primary_care_physician_2013_prp_in_2013_05_non_exclusive_HCPCS</th><th scope=col>most_common_primary_care_physician_2013_prp_in_year_before_diagnosis_05_non_exclusive_HCPCS</th><th scope=col>most_common_primary_care_physician_2013_prp_in_year_of_diagnosis_03_non_exclusive_HCPCS</th><th scope=col>most_common_primary_care_physician_2013_prp_in_2013_03_non_exclusive_HCPCS</th><th scope=col>most_common_primary_care_physician_2013_prp_in_year_before_diagnosis_03_non_exclusive_HCPCS</th><th scope=col>most_common_primary_care_physician_2013_avg_in_year_of_diagnosis_non_exclusive_HCPCS</th><th scope=col>most_common_primary_care_physician_2013_avg_in_2013_non_exclusive_HCPCS</th><th scope=col>most_common_primary_care_physician_2013_avg_in_year_before_diagnosis_non_exclusive_HCPCS</th><th scope=col>most_common_cardiologist_2013_prp_in_year_of_diagnosis_05_non_exclusive_HCPCS</th><th scope=col>most_common_cardiologist_2013_prp_in_2013_05_non_exclusive_HCPCS</th><th scope=col>most_common_cardiologist_2013_prp_in_year_before_diagnosis_05_non_exclusive_HCPCS</th><th scope=col>most_common_cardiologist_2013_prp_in_year_of_diagnosis_03_non_exclusive_HCPCS</th><th scope=col>most_common_cardiologist_2013_prp_in_2013_03_non_exclusive_HCPCS</th><th scope=col>most_common_cardiologist_2013_prp_in_year_before_diagnosis_03_non_exclusive_HCPCS</th><th scope=col>most_common_cardiologist_2013_avg_in_year_of_diagnosis_non_exclusive_HCPCS</th><th scope=col>most_common_cardiologist_2013_avg_in_2013_non_exclusive_HCPCS</th><th scope=col>most_common_cardiologist_2013_avg_in_year_before_diagnosis_non_exclusive_HCPCS</th><th scope=col>MI_date</th><th scope=col>RUCC_2013</th></tr>\n",
       "\t<tr><th scope=col>&lt;int&gt;</th><th scope=col>&lt;date&gt;</th><th scope=col>&lt;dbl&gt;</th><th scope=col>&lt;int&gt;</th><th scope=col>&lt;dbl&gt;</th><th scope=col>&lt;int&gt;</th><th scope=col>&lt;int&gt;</th><th scope=col>&lt;int&gt;</th><th scope=col>&lt;int&gt;</th><th scope=col>&lt;int&gt;</th><th scope=col>&lt;int&gt;</th><th scope=col>&lt;int&gt;</th><th scope=col>&lt;dbl&gt;</th><th scope=col>&lt;int&gt;</th><th scope=col>&lt;dbl&gt;</th><th scope=col>&lt;int&gt;</th><th scope=col>&lt;dbl&gt;</th><th scope=col>&lt;int&gt;</th><th scope=col>&lt;dbl&gt;</th><th scope=col>&lt;int&gt;</th><th scope=col>&lt;dbl&gt;</th><th scope=col>&lt;int&gt;</th><th scope=col>&lt;dbl&gt;</th><th scope=col>&lt;int&gt;</th><th scope=col>&lt;dbl&gt;</th><th scope=col>&lt;int&gt;</th><th scope=col>&lt;dbl&gt;</th><th scope=col>&lt;lgl&gt;</th><th scope=col>&lt;lgl&gt;</th><th scope=col>&lt;lgl&gt;</th><th scope=col>&lt;lgl&gt;</th><th scope=col>&lt;lgl&gt;</th><th scope=col>&lt;lgl&gt;</th><th scope=col>&lt;lgl&gt;</th><th scope=col>&lt;lgl&gt;</th><th scope=col>&lt;lgl&gt;</th><th scope=col>&lt;lgl&gt;</th><th scope=col>&lt;lgl&gt;</th><th scope=col>&lt;lgl&gt;</th><th scope=col>&lt;date&gt;</th><th scope=col>&lt;date&gt;</th><th scope=col>&lt;chr&gt;</th><th scope=col>&lt;chr&gt;</th><th scope=col>&lt;chr&gt;</th><th scope=col>&lt;dbl&gt;</th><th scope=col>&lt;int&gt;</th><th scope=col>&lt;lgl&gt;</th><th scope=col>&lt;lgl&gt;</th><th scope=col>&lt;dbl&gt;</th><th scope=col>&lt;int&gt;</th><th scope=col>&lt;dbl&gt;</th><th scope=col>&lt;int&gt;</th><th scope=col>&lt;int&gt;</th><th scope=col>&lt;int&gt;</th><th scope=col>&lt;int&gt;</th><th scope=col>&lt;int&gt;</th><th scope=col>&lt;int&gt;</th><th scope=col>&lt;int&gt;</th><th scope=col>&lt;dbl&gt;</th><th scope=col>&lt;int&gt;</th><th scope=col>&lt;dbl&gt;</th><th scope=col>&lt;int&gt;</th><th scope=col>&lt;dbl&gt;</th><th scope=col>&lt;int&gt;</th><th scope=col>&lt;dbl&gt;</th><th scope=col>&lt;int&gt;</th><th scope=col>&lt;dbl&gt;</th><th scope=col>&lt;int&gt;</th><th scope=col>&lt;dbl&gt;</th><th scope=col>&lt;int&gt;</th><th scope=col>&lt;dbl&gt;</th><th scope=col>&lt;int&gt;</th><th scope=col>&lt;dbl&gt;</th><th scope=col>&lt;dbl&gt;</th><th scope=col>&lt;dbl&gt;</th><th scope=col>&lt;dbl&gt;</th><th scope=col>&lt;dbl&gt;</th><th scope=col>&lt;dbl&gt;</th><th scope=col>&lt;dbl&gt;</th><th scope=col>&lt;dbl&gt;</th><th scope=col>&lt;dbl&gt;</th><th scope=col>&lt;dbl&gt;</th><th scope=col>&lt;dbl&gt;</th><th scope=col>&lt;dbl&gt;</th><th scope=col>&lt;dbl&gt;</th><th scope=col>&lt;dbl&gt;</th><th scope=col>&lt;dbl&gt;</th><th scope=col>&lt;dbl&gt;</th><th scope=col>&lt;dbl&gt;</th><th scope=col>&lt;dbl&gt;</th><th scope=col>&lt;dbl&gt;</th><th scope=col>&lt;dbl&gt;</th><th scope=col>&lt;dbl&gt;</th><th scope=col>&lt;dbl&gt;</th><th scope=col>&lt;dbl&gt;</th><th scope=col>&lt;dbl&gt;</th><th scope=col>&lt;dbl&gt;</th><th scope=col>&lt;dbl&gt;</th><th scope=col>&lt;dbl&gt;</th><th scope=col>&lt;dbl&gt;</th><th scope=col>&lt;dbl&gt;</th><th scope=col>&lt;dbl&gt;</th><th scope=col>&lt;dbl&gt;</th><th scope=col>&lt;dbl&gt;</th><th scope=col>&lt;dbl&gt;</th><th scope=col>&lt;dbl&gt;</th><th scope=col>&lt;dbl&gt;</th><th scope=col>&lt;dbl&gt;</th><th scope=col>&lt;dbl&gt;</th><th scope=col>&lt;dbl&gt;</th><th scope=col>&lt;dbl&gt;</th><th scope=col>&lt;dbl&gt;</th><th scope=col>&lt;dbl&gt;</th><th scope=col>&lt;int&gt;</th><th scope=col>&lt;int&gt;</th><th scope=col>&lt;int&gt;</th><th scope=col>&lt;int&gt;</th><th scope=col>&lt;dbl&gt;</th><th scope=col>&lt;chr&gt;</th><th scope=col>&lt;chr&gt;</th><th scope=col>&lt;dbl&gt;</th><th scope=col>&lt;dbl&gt;</th><th scope=col>&lt;dbl&gt;</th><th scope=col>&lt;dbl&gt;</th><th scope=col>&lt;dbl&gt;</th><th scope=col>&lt;chr&gt;</th><th scope=col>&lt;chr&gt;</th><th scope=col>&lt;chr&gt;</th><th scope=col>&lt;chr&gt;</th><th scope=col>&lt;chr&gt;</th><th scope=col>&lt;chr&gt;</th><th scope=col>&lt;chr&gt;</th><th scope=col>&lt;chr&gt;</th><th scope=col>&lt;chr&gt;</th><th scope=col>&lt;chr&gt;</th><th scope=col>&lt;chr&gt;</th><th scope=col>&lt;chr&gt;</th><th scope=col>&lt;chr&gt;</th><th scope=col>&lt;chr&gt;</th><th scope=col>&lt;chr&gt;</th><th scope=col>&lt;chr&gt;</th><th scope=col>&lt;chr&gt;</th><th scope=col>&lt;chr&gt;</th><th scope=col>&lt;chr&gt;</th><th scope=col>&lt;chr&gt;</th><th scope=col>&lt;chr&gt;</th><th scope=col>&lt;chr&gt;</th><th scope=col>&lt;chr&gt;</th><th scope=col>&lt;chr&gt;</th><th scope=col>&lt;chr&gt;</th><th scope=col>⋯</th><th scope=col>&lt;chr&gt;</th><th scope=col>&lt;chr&gt;</th><th scope=col>&lt;chr&gt;</th><th scope=col>&lt;chr&gt;</th><th scope=col>&lt;chr&gt;</th><th scope=col>&lt;chr&gt;</th><th scope=col>&lt;chr&gt;</th><th scope=col>&lt;chr&gt;</th><th scope=col>&lt;chr&gt;</th><th scope=col>&lt;chr&gt;</th><th scope=col>&lt;chr&gt;</th><th scope=col>&lt;chr&gt;</th><th scope=col>&lt;chr&gt;</th><th scope=col>&lt;chr&gt;</th><th scope=col>&lt;chr&gt;</th><th scope=col>&lt;chr&gt;</th><th scope=col>&lt;chr&gt;</th><th scope=col>&lt;chr&gt;</th><th scope=col>&lt;chr&gt;</th><th scope=col>&lt;chr&gt;</th><th scope=col>&lt;chr&gt;</th><th scope=col>&lt;dbl&gt;</th><th scope=col>&lt;date&gt;</th><th scope=col>&lt;chr&gt;</th><th scope=col>&lt;date&gt;</th><th scope=col>&lt;chr&gt;</th><th scope=col>&lt;chr&gt;</th><th scope=col>&lt;dbl&gt;</th><th scope=col>&lt;dbl&gt;</th><th scope=col>&lt;dbl&gt;</th><th scope=col>&lt;dbl&gt;</th><th scope=col>&lt;dbl&gt;</th><th scope=col>&lt;lgl&gt;</th><th scope=col>&lt;lgl&gt;</th><th scope=col>&lt;int&gt;</th><th scope=col>&lt;dbl&gt;</th><th scope=col>&lt;fct&gt;</th><th scope=col>&lt;dbl&gt;</th><th scope=col>&lt;fct&gt;</th><th scope=col>&lt;chr&gt;</th><th scope=col>&lt;int&gt;</th><th scope=col>&lt;chr&gt;</th><th scope=col>&lt;chr&gt;</th><th scope=col>&lt;int&gt;</th><th scope=col>&lt;chr&gt;</th><th scope=col>&lt;chr&gt;</th><th scope=col>&lt;int&gt;</th><th scope=col>&lt;chr&gt;</th><th scope=col>&lt;chr&gt;</th><th scope=col>&lt;int&gt;</th><th scope=col>&lt;chr&gt;</th><th scope=col>&lt;chr&gt;</th><th scope=col>&lt;int&gt;</th><th scope=col>&lt;chr&gt;</th><th scope=col>&lt;chr&gt;</th><th scope=col>&lt;int&gt;</th><th scope=col>&lt;chr&gt;</th><th scope=col>&lt;dbl&gt;</th><th scope=col>&lt;dbl&gt;</th><th scope=col>&lt;int&gt;</th><th scope=col>&lt;lgl&gt;</th><th scope=col>&lt;dbl&gt;</th><th scope=col>&lt;dbl&gt;</th><th scope=col>&lt;int&gt;</th><th scope=col>&lt;lgl&gt;</th><th scope=col>&lt;dbl&gt;</th><th scope=col>&lt;dbl&gt;</th><th scope=col>&lt;dbl&gt;</th><th scope=col>&lt;dbl&gt;</th><th scope=col>&lt;dbl&gt;</th><th scope=col>&lt;dbl&gt;</th><th scope=col>&lt;dbl&gt;</th><th scope=col>&lt;dbl&gt;</th><th scope=col>&lt;dbl&gt;</th><th scope=col>&lt;dbl&gt;</th><th scope=col>&lt;dbl&gt;</th><th scope=col>&lt;dbl&gt;</th><th scope=col>&lt;dbl&gt;</th><th scope=col>&lt;dbl&gt;</th><th scope=col>&lt;dbl&gt;</th><th scope=col>&lt;dbl&gt;</th><th scope=col>&lt;dbl&gt;</th><th scope=col>&lt;dbl&gt;</th><th scope=col>&lt;dbl&gt;</th><th scope=col>&lt;dbl&gt;</th><th scope=col>&lt;dbl&gt;</th><th scope=col>&lt;dbl&gt;</th><th scope=col>&lt;dbl&gt;</th><th scope=col>&lt;dbl&gt;</th><th scope=col>&lt;dbl&gt;</th><th scope=col>&lt;dbl&gt;</th><th scope=col>&lt;dbl&gt;</th><th scope=col>&lt;dbl&gt;</th><th scope=col>&lt;dbl&gt;</th><th scope=col>&lt;dbl&gt;</th><th scope=col>&lt;dbl&gt;</th><th scope=col>&lt;dbl&gt;</th><th scope=col>&lt;dbl&gt;</th><th scope=col>&lt;dbl&gt;</th><th scope=col>&lt;dbl&gt;</th><th scope=col>&lt;dbl&gt;</th><th scope=col>&lt;dbl&gt;</th><th scope=col>&lt;dbl&gt;</th><th scope=col>&lt;dbl&gt;</th><th scope=col>&lt;dbl&gt;</th><th scope=col>&lt;dbl&gt;</th><th scope=col>&lt;dbl&gt;</th><th scope=col>&lt;dbl&gt;</th><th scope=col>&lt;dbl&gt;</th><th scope=col>&lt;dbl&gt;</th><th scope=col>&lt;dbl&gt;</th><th scope=col>&lt;dbl&gt;</th><th scope=col>&lt;dbl&gt;</th><th scope=col>&lt;dbl&gt;</th><th scope=col>&lt;dbl&gt;</th><th scope=col>&lt;dbl&gt;</th><th scope=col>&lt;dbl&gt;</th><th scope=col>&lt;dbl&gt;</th><th scope=col>&lt;dbl&gt;</th><th scope=col>&lt;dbl&gt;</th><th scope=col>&lt;dbl&gt;</th><th scope=col>&lt;dbl&gt;</th><th scope=col>&lt;dbl&gt;</th><th scope=col>&lt;dbl&gt;</th><th scope=col>&lt;dbl&gt;</th><th scope=col>&lt;dbl&gt;</th><th scope=col>&lt;dbl&gt;</th><th scope=col>&lt;dbl&gt;</th><th scope=col>&lt;dbl&gt;</th><th scope=col>&lt;dbl&gt;</th><th scope=col>&lt;dbl&gt;</th><th scope=col>&lt;dbl&gt;</th><th scope=col>&lt;dbl&gt;</th><th scope=col>&lt;dbl&gt;</th><th scope=col>&lt;dbl&gt;</th><th scope=col>&lt;dbl&gt;</th><th scope=col>&lt;dbl&gt;</th><th scope=col>&lt;dbl&gt;</th><th scope=col>&lt;dbl&gt;</th><th scope=col>&lt;dbl&gt;</th><th scope=col>&lt;dbl&gt;</th><th scope=col>&lt;dbl&gt;</th><th scope=col>&lt;dbl&gt;</th><th scope=col>&lt;dbl&gt;</th><th scope=col>&lt;dbl&gt;</th><th scope=col>&lt;dbl&gt;</th><th scope=col>&lt;dbl&gt;</th><th scope=col>&lt;dbl&gt;</th><th scope=col>&lt;date&gt;</th><th scope=col>&lt;dbl&gt;</th></tr>\n",
       "</thead>\n",
       "<tbody>\n",
       "\t<tr><td>100004643</td><td>2018-07-24</td><td> 2164.96</td><td> 2</td><td> 209.35</td><td> 2</td><td> 5</td><td>1</td><td>0</td><td>0</td><td> 4</td><td>0</td><td>  0.00</td><td> 1</td><td> 16.26</td><td>0</td><td>0</td><td>0</td><td>0</td><td>1</td><td>60.06</td><td>0</td><td>  0.0</td><td>0</td><td>  0.00</td><td>0</td><td>0</td><td>TRUE</td><td>FALSE</td><td>FALSE</td><td>FALSE</td><td>FALSE</td><td> TRUE</td><td>FALSE</td><td>FALSE</td><td>FALSE</td><td>FALSE</td><td>FALSE</td><td> TRUE</td><td>NA</td><td>NA</td><td>NA        </td><td>NA        </td><td>1922000801</td><td>2018</td><td>NA</td><td>   NA</td><td>  NA</td><td>1098.55</td><td>1</td><td>104.30</td><td>1</td><td> 5</td><td>1</td><td>0</td><td>0</td><td>4</td><td>0</td><td>  0.00</td><td>1</td><td>16.26</td><td>0</td><td>0</td><td>0</td><td>0</td><td>0</td><td> 0.00</td><td>0</td><td>  0.00</td><td>0</td><td>  0.00</td><td>0</td><td>0</td><td>0</td><td>0</td><td>  0.00</td><td>0</td><td>0</td><td>0</td><td>0</td><td>0</td><td>0</td><td>0</td><td>0</td><td>  0.0</td><td>0</td><td>0</td><td>0</td><td>0</td><td>0</td><td>0</td><td> 209.35</td><td>  0.00</td><td> 16.26</td><td>0</td><td>0</td><td>60.06</td><td>  0.0</td><td>  0.00</td><td>0</td><td>104.30</td><td>  0.00</td><td> 16.26</td><td>0</td><td>0</td><td> 0.00</td><td>  0.00</td><td>  0.00</td><td>0</td><td> 269.41</td><td>   0.00</td><td>104.30</td><td>   0.00</td><td> 3</td><td>0</td><td>1</td><td>0</td><td>13</td><td>34</td><td>240</td><td>2</td><td>1</td><td>77</td><td>0</td><td>0</td><td>3</td><td>3</td><td>3</td><td>3</td><td>3</td><td>3</td><td>3</td><td>3</td><td>3</td><td>3</td><td>3</td><td>3</td><td>0</td><td>0</td><td>0</td><td>0</td><td>0</td><td>0</td><td>0</td><td>0</td><td>0</td><td>0</td><td>0</td><td>0</td><td>NA</td><td>⋯</td><td>3 </td><td>3 </td><td>3 </td><td>3 </td><td>3 </td><td>3 </td><td>3 </td><td>3 </td><td>0 </td><td>0 </td><td>0 </td><td>0 </td><td>0 </td><td>0 </td><td>0 </td><td>0 </td><td>0 </td><td>0 </td><td>0 </td><td>0 </td><td>NA</td><td>      NA</td><td>NA</td><td>FALSE</td><td>NA</td><td>19</td><td>270</td><td>2</td><td>1</td><td>82</td><td>12</td><td>12</td><td>FALSE</td><td>FALSE</td><td>  NA</td><td>1</td><td>1-2</td><td>1</td><td>1-2</td><td>1922000801</td><td> 2</td><td>06</td><td>NA        </td><td>NA</td><td>NA</td><td>1922000801</td><td> 2</td><td>06</td><td>1639140775</td><td> 2</td><td>11</td><td>1639140775</td><td>2</td><td>11</td><td>NA        </td><td>NA</td><td>NA</td><td>     0.00</td><td>     0.00</td><td>0</td><td>FALSE</td><td>  0.0</td><td>     0.0</td><td>0</td><td>FALSE</td><td>  2164.96</td><td>  1098.55</td><td>0.00000000</td><td>  0</td><td>  0</td><td>0.00000000</td><td>0.00</td><td>0.0000000</td><td>0.04925054</td><td>0.06811989</td><td>0.07415254</td><td>NaN</td><td>NaN</td><td>NaN</td><td>NaN</td><td>NaN</td><td>NaN</td><td>NaN</td><td>NaN</td><td>NaN</td><td>0.00000000</td><td>0.00000000</td><td>0.00000000</td><td>0.00000000</td><td>0.00000000</td><td>0.00000000</td><td>0.04925054</td><td>0.06811989</td><td>0.07415254</td><td>0.0000000</td><td>  0</td><td>  0</td><td>0.0000000</td><td>  0</td><td>  0</td><td>0.04925054</td><td>0.06811989</td><td>0.07415254</td><td>      NaN</td><td>      NaN</td><td>NaN</td><td>      NaN</td><td>      NaN</td><td>NaN</td><td>      NaN</td><td>       NaN</td><td>       NaN</td><td>NaN</td><td>NaN</td><td>NaN</td><td>      NaN</td><td>NaN</td><td>NaN</td><td>      NaN</td><td>      NaN</td><td>     NaN</td><td>0.00</td><td>0.08333333</td><td>0.0000000</td><td>0.00</td><td>0.1666667</td><td>0.0000000</td><td>0.0000000</td><td>0.12643678</td><td>0.00000000</td><td>  0</td><td>0.08333333</td><td>0</td><td>  0</td><td>0.1666667</td><td>0</td><td>  0</td><td>0.12643678</td><td>0</td><td>NaN</td><td>NaN</td><td>NaN</td><td>NaN</td><td>NaN</td><td>NaN</td><td> NaN</td><td>       NaN</td><td>       NaN</td><td>NA</td><td> 2</td></tr>\n",
       "\t<tr><td>100005675</td><td>2020-07-06</td><td> 4598.06</td><td> 0</td><td>   0.00</td><td> 0</td><td>20</td><td>5</td><td>1</td><td>1</td><td>13</td><td>1</td><td>166.66</td><td> 5</td><td> 44.60</td><td>0</td><td>0</td><td>0</td><td>0</td><td>0</td><td> 0.00</td><td>2</td><td>154.9</td><td>0</td><td>  0.00</td><td>0</td><td>0</td><td>TRUE</td><td>FALSE</td><td>FALSE</td><td>FALSE</td><td>FALSE</td><td>FALSE</td><td>FALSE</td><td>FALSE</td><td>FALSE</td><td>FALSE</td><td>FALSE</td><td> TRUE</td><td>2020-07-13</td><td>NA</td><td>1538172747</td><td>NA        </td><td>1477715811</td><td>2020</td><td>NA</td><td>   NA</td><td>  NA</td><td>2699.46</td><td>0</td><td>  0.00</td><td>0</td><td>10</td><td>3</td><td>0</td><td>1</td><td>6</td><td>1</td><td>166.66</td><td>1</td><td> 8.92</td><td>0</td><td>0</td><td>0</td><td>0</td><td>0</td><td> 0.00</td><td>2</td><td>154.90</td><td>0</td><td>  0.00</td><td>0</td><td>0</td><td>0</td><td>0</td><td>  0.00</td><td>0</td><td>0</td><td>0</td><td>0</td><td>0</td><td>0</td><td>0</td><td>0</td><td>  0.0</td><td>0</td><td>0</td><td>0</td><td>0</td><td>0</td><td>0</td><td>   0.00</td><td>166.66</td><td> 44.60</td><td>0</td><td>0</td><td> 0.00</td><td>154.9</td><td>  0.00</td><td>0</td><td>  0.00</td><td>166.66</td><td>  8.92</td><td>0</td><td>0</td><td> 0.00</td><td>154.90</td><td>  0.00</td><td>0</td><td> 154.90</td><td> 166.66</td><td>154.90</td><td> 166.66</td><td> 2</td><td>1</td><td>2</td><td>1</td><td>13</td><td>22</td><td>010</td><td>2</td><td>1</td><td>76</td><td>0</td><td>0</td><td>3</td><td>3</td><td>3</td><td>3</td><td>3</td><td>3</td><td>3</td><td>3</td><td>3</td><td>3</td><td>3</td><td>3</td><td>0</td><td>0</td><td>0</td><td>0</td><td>0</td><td>0</td><td>0</td><td>0</td><td>0</td><td>0</td><td>0</td><td>0</td><td>NA</td><td>⋯</td><td>3 </td><td>3 </td><td>3 </td><td>0 </td><td>0 </td><td>0 </td><td>0 </td><td>0 </td><td>0 </td><td>0 </td><td>0 </td><td>0 </td><td>0 </td><td>0 </td><td>0 </td><td>0 </td><td>0 </td><td>0 </td><td>0 </td><td>0 </td><td>V </td><td>20200715</td><td>2020-07-15</td><td>TRUE </td><td>2020-07-15</td><td>22</td><td>010</td><td>2</td><td>1</td><td>83</td><td> 1</td><td> 6</td><td>   NA</td><td>   NA</td><td>   9</td><td>2</td><td>1-2</td><td>2</td><td>1-2</td><td>NA        </td><td>NA</td><td>NA</td><td>NA        </td><td>NA</td><td>NA</td><td>NA        </td><td>NA</td><td>NA</td><td>1558377663</td><td> 5</td><td>11</td><td>1558377663</td><td>5</td><td>11</td><td>NA        </td><td>NA</td><td>NA</td><td>     0.00</td><td>250422.85</td><td>1</td><td> TRUE</td><td>  0.0</td><td>250422.9</td><td>1</td><td> TRUE</td><td>255020.91</td><td>253122.31</td><td>       NaN</td><td>NaN</td><td>NaN</td><td>       NaN</td><td> NaN</td><td>      NaN</td><td>       NaN</td><td>       NaN</td><td>       NaN</td><td>NaN</td><td>NaN</td><td>NaN</td><td>NaN</td><td>NaN</td><td>NaN</td><td>NaN</td><td>NaN</td><td>NaN</td><td>       NaN</td><td>       NaN</td><td>       NaN</td><td>       NaN</td><td>       NaN</td><td>       NaN</td><td>       NaN</td><td>       NaN</td><td>       NaN</td><td>1.0000000</td><td>NaN</td><td>  1</td><td>1.0000000</td><td>NaN</td><td>  1</td><td>0.84615385</td><td>       NaN</td><td>0.85416667</td><td>1.0000000</td><td>0.1428571</td><td>  1</td><td>1.0000000</td><td>0.2857143</td><td>  1</td><td>1.0000000</td><td>0.20000000</td><td>1.00000000</td><td>NaN</td><td>NaN</td><td>NaN</td><td>      NaN</td><td>NaN</td><td>NaN</td><td>      NaN</td><td>      NaN</td><td>     NaN</td><td> NaN</td><td>0.00000000</td><td>0.0000000</td><td> NaN</td><td>0.0000000</td><td>0.0000000</td><td>      NaN</td><td>0.05555556</td><td>0.00000000</td><td>NaN</td><td>0.00000000</td><td>0</td><td>NaN</td><td>0.0000000</td><td>0</td><td>NaN</td><td>0.05555556</td><td>0</td><td>NaN</td><td>NaN</td><td>NaN</td><td>NaN</td><td>NaN</td><td>NaN</td><td> NaN</td><td>       NaN</td><td>       NaN</td><td>NA</td><td> 3</td></tr>\n",
       "\t<tr><td>100007109</td><td>2013-12-26</td><td> 2257.14</td><td>19</td><td>1460.80</td><td> 1</td><td>10</td><td>1</td><td>2</td><td>3</td><td> 4</td><td>0</td><td>  0.00</td><td> 1</td><td> 19.98</td><td>0</td><td>0</td><td>0</td><td>0</td><td>0</td><td> 0.00</td><td>0</td><td>  0.0</td><td>0</td><td>  0.00</td><td>0</td><td>0</td><td>TRUE</td><td>FALSE</td><td>FALSE</td><td>FALSE</td><td>FALSE</td><td> TRUE</td><td>FALSE</td><td>FALSE</td><td>FALSE</td><td> TRUE</td><td> TRUE</td><td>FALSE</td><td>NA</td><td>NA</td><td>NA        </td><td>NA        </td><td>1922185792</td><td>2013</td><td>NA</td><td>   NA</td><td>  NA</td><td> 871.19</td><td>8</td><td>761.97</td><td>1</td><td> 4</td><td>1</td><td>2</td><td>0</td><td>1</td><td>0</td><td>  0.00</td><td>1</td><td>19.98</td><td>0</td><td>0</td><td>0</td><td>0</td><td>0</td><td> 0.00</td><td>0</td><td>  0.00</td><td>0</td><td>  0.00</td><td>0</td><td>0</td><td>0</td><td>0</td><td>  0.00</td><td>0</td><td>0</td><td>0</td><td>0</td><td>0</td><td>0</td><td>0</td><td>0</td><td>  0.0</td><td>0</td><td>0</td><td>0</td><td>0</td><td>0</td><td>0</td><td>1460.80</td><td>  0.00</td><td> 19.98</td><td>0</td><td>0</td><td> 0.00</td><td>  0.0</td><td>  0.00</td><td>0</td><td>761.97</td><td>  0.00</td><td> 19.98</td><td>0</td><td>0</td><td> 0.00</td><td>  0.00</td><td>  0.00</td><td>0</td><td>1460.80</td><td>   0.00</td><td>761.97</td><td>   0.00</td><td>19</td><td>0</td><td>8</td><td>0</td><td>13</td><td>07</td><td>040</td><td>1</td><td>1</td><td>76</td><td>0</td><td>0</td><td>B</td><td>B</td><td>B</td><td>B</td><td>B</td><td>B</td><td>B</td><td>B</td><td>B</td><td>B</td><td>B</td><td>B</td><td>0</td><td>0</td><td>0</td><td>0</td><td>0</td><td>0</td><td>0</td><td>0</td><td>0</td><td>0</td><td>0</td><td>0</td><td>NA</td><td>⋯</td><td>0 </td><td>0 </td><td>0 </td><td>0 </td><td>0 </td><td>0 </td><td>0 </td><td>0 </td><td>0 </td><td>0 </td><td>0 </td><td>0 </td><td>0 </td><td>0 </td><td>0 </td><td>0 </td><td>0 </td><td>0 </td><td>0 </td><td>0 </td><td>V </td><td>20200306</td><td>2020-03-06</td><td>TRUE </td><td>2020-03-06</td><td>07</td><td>040</td><td>1</td><td>1</td><td>76</td><td> 0</td><td>12</td><td>FALSE</td><td>FALSE</td><td>2262</td><td>2</td><td>1-2</td><td>3</td><td>3-4</td><td>1922185792</td><td>10</td><td>11</td><td>1922185792</td><td>10</td><td>11</td><td>1235111857</td><td> 1</td><td>06</td><td>1922185792</td><td> 6</td><td>11</td><td>1922185792</td><td>6</td><td>11</td><td>1356323349</td><td> 2</td><td>06</td><td>  1078.50</td><td>     0.00</td><td>0</td><td>FALSE</td><td>  0.0</td><td>     0.0</td><td>0</td><td>FALSE</td><td>  3335.64</td><td>   871.19</td><td>0.00000000</td><td>  0</td><td>  0</td><td>0.00000000</td><td>0.00</td><td>0.0000000</td><td>0.00000000</td><td>0.00000000</td><td>0.00000000</td><td>  0</td><td>  0</td><td>  0</td><td>  0</td><td>  0</td><td>  0</td><td>  0</td><td>  0</td><td>  0</td><td>0.00000000</td><td>0.08333333</td><td>0.08333333</td><td>0.00000000</td><td>0.08333333</td><td>0.08333333</td><td>0.00000000</td><td>0.06306306</td><td>0.06306306</td><td>0.0000000</td><td>  0</td><td>  0</td><td>0.0000000</td><td>  0</td><td>  0</td><td>0.00000000</td><td>0.00000000</td><td>0.00000000</td><td>      NaN</td><td>      NaN</td><td>NaN</td><td>      NaN</td><td>      NaN</td><td>NaN</td><td>      NaN</td><td>       NaN</td><td>       NaN</td><td>NaN</td><td>NaN</td><td>NaN</td><td>      NaN</td><td>NaN</td><td>NaN</td><td>      NaN</td><td>      NaN</td><td>     NaN</td><td>0.00</td><td>0.00000000</td><td>0.0000000</td><td>0.00</td><td>0.0000000</td><td>0.0000000</td><td>0.0000000</td><td>0.00000000</td><td>0.00000000</td><td>  0</td><td>0.00000000</td><td>0</td><td>  0</td><td>0.0000000</td><td>0</td><td>  0</td><td>0.00000000</td><td>0</td><td>NaN</td><td>  0</td><td>  0</td><td>NaN</td><td>  0</td><td>  0</td><td> NaN</td><td>0.00000000</td><td>0.00000000</td><td>NA</td><td>NA</td></tr>\n",
       "\t<tr><td>100008015</td><td>2013-02-18</td><td>13622.46</td><td>39</td><td>1909.86</td><td>28</td><td>26</td><td>3</td><td>5</td><td>4</td><td>14</td><td>0</td><td>  0.00</td><td> 6</td><td> 92.64</td><td>0</td><td>0</td><td>0</td><td>0</td><td>1</td><td>83.54</td><td>0</td><td>  0.0</td><td>0</td><td>  0.00</td><td>0</td><td>0</td><td>TRUE</td><td>FALSE</td><td>FALSE</td><td>FALSE</td><td>FALSE</td><td> TRUE</td><td>FALSE</td><td>FALSE</td><td>FALSE</td><td>FALSE</td><td> TRUE</td><td>FALSE</td><td>NA</td><td>NA</td><td>NA        </td><td>NA        </td><td>1205894102</td><td>2013</td><td>NA</td><td>   NA</td><td>  NA</td><td>2126.04</td><td>6</td><td>576.64</td><td>4</td><td> 5</td><td>2</td><td>1</td><td>0</td><td>2</td><td>0</td><td>  0.00</td><td>4</td><td>75.81</td><td>0</td><td>0</td><td>0</td><td>0</td><td>1</td><td>83.54</td><td>0</td><td>  0.00</td><td>0</td><td>  0.00</td><td>0</td><td>0</td><td>0</td><td>0</td><td>  0.00</td><td>0</td><td>0</td><td>0</td><td>0</td><td>0</td><td>0</td><td>0</td><td>0</td><td>  0.0</td><td>0</td><td>0</td><td>0</td><td>0</td><td>0</td><td>0</td><td>1909.86</td><td>  0.00</td><td> 92.64</td><td>0</td><td>0</td><td>83.54</td><td>  0.0</td><td>  0.00</td><td>0</td><td>576.64</td><td>  0.00</td><td> 75.81</td><td>0</td><td>0</td><td>83.54</td><td>  0.00</td><td>  0.00</td><td>0</td><td>1993.40</td><td>   0.00</td><td>660.18</td><td>   0.00</td><td>40</td><td>0</td><td>7</td><td>0</td><td>13</td><td>22</td><td>130</td><td>1</td><td>1</td><td>76</td><td>0</td><td>0</td><td>3</td><td>3</td><td>3</td><td>3</td><td>3</td><td>3</td><td>3</td><td>3</td><td>3</td><td>3</td><td>3</td><td>3</td><td>0</td><td>0</td><td>0</td><td>0</td><td>0</td><td>0</td><td>0</td><td>0</td><td>0</td><td>0</td><td>0</td><td>0</td><td>NA</td><td>⋯</td><td>3 </td><td>3 </td><td>3 </td><td>3 </td><td>3 </td><td>3 </td><td>3 </td><td>3 </td><td>0 </td><td>0 </td><td>0 </td><td>0 </td><td>0 </td><td>0 </td><td>0 </td><td>0 </td><td>0 </td><td>0 </td><td>0 </td><td>0 </td><td>NA</td><td>      NA</td><td>NA</td><td>FALSE</td><td>NA</td><td>22</td><td>130</td><td>1</td><td>1</td><td>76</td><td>12</td><td>12</td><td>FALSE</td><td>FALSE</td><td>  NA</td><td>0</td><td>0  </td><td>0</td><td>0  </td><td>1013994185</td><td>28</td><td>06</td><td>1417934522</td><td> 2</td><td>11</td><td>1013994185</td><td>28</td><td>06</td><td>1013994185</td><td>27</td><td>06</td><td>1417934522</td><td>2</td><td>11</td><td>1013994185</td><td>27</td><td>06</td><td>  7092.44</td><td> 18795.06</td><td>1</td><td> TRUE</td><td>  0.0</td><td>     0.0</td><td>0</td><td>FALSE</td><td> 39509.96</td><td>  2126.04</td><td>0.00000000</td><td>  0</td><td>  0</td><td>0.00000000</td><td>0.00</td><td>0.0000000</td><td>0.10000000</td><td>0.08108108</td><td>0.05263158</td><td>  0</td><td>  0</td><td>  0</td><td>  0</td><td>  0</td><td>  0</td><td>  0</td><td>  0</td><td>  0</td><td>0.00000000</td><td>0.00000000</td><td>0.00000000</td><td>0.00000000</td><td>0.00000000</td><td>0.00000000</td><td>0.10000000</td><td>0.08108108</td><td>0.05263158</td><td>      NaN</td><td>NaN</td><td>NaN</td><td>      NaN</td><td>NaN</td><td>NaN</td><td>       NaN</td><td>       NaN</td><td>       NaN</td><td>      NaN</td><td>      NaN</td><td>NaN</td><td>      NaN</td><td>      NaN</td><td>NaN</td><td>      NaN</td><td>       NaN</td><td>       NaN</td><td>NaN</td><td>NaN</td><td>NaN</td><td>      NaN</td><td>NaN</td><td>NaN</td><td>      NaN</td><td>      NaN</td><td>     NaN</td><td>0.00</td><td>0.00000000</td><td>0.0000000</td><td>0.00</td><td>0.0000000</td><td>0.0000000</td><td>0.1000000</td><td>0.08108108</td><td>0.05263158</td><td>  0</td><td>0.00000000</td><td>0</td><td>  0</td><td>0.0000000</td><td>0</td><td>  0</td><td>0.00000000</td><td>0</td><td>  0</td><td>  0</td><td>  0</td><td>  0</td><td>  0</td><td>  0</td><td>0.10</td><td>0.08108108</td><td>0.05263158</td><td>NA</td><td> 1</td></tr>\n",
       "\t<tr><td>100008543</td><td>2014-04-16</td><td> 2149.56</td><td>12</td><td> 869.89</td><td> 2</td><td>22</td><td>4</td><td>5</td><td>1</td><td>12</td><td>0</td><td>  0.00</td><td> 3</td><td> 25.29</td><td>0</td><td>0</td><td>0</td><td>0</td><td>0</td><td> 0.00</td><td>0</td><td>  0.0</td><td>0</td><td>  0.00</td><td>0</td><td>0</td><td>TRUE</td><td>FALSE</td><td>FALSE</td><td>FALSE</td><td>FALSE</td><td>FALSE</td><td>FALSE</td><td>FALSE</td><td>FALSE</td><td>FALSE</td><td> TRUE</td><td>FALSE</td><td>NA</td><td>NA</td><td>NA        </td><td>NA        </td><td>1033107701</td><td>2014</td><td>NA</td><td>   NA</td><td>  NA</td><td> 178.71</td><td>2</td><td>146.81</td><td>1</td><td> 4</td><td>3</td><td>1</td><td>0</td><td>0</td><td>0</td><td>  0.00</td><td>0</td><td> 0.00</td><td>0</td><td>0</td><td>0</td><td>0</td><td>0</td><td> 0.00</td><td>0</td><td>  0.00</td><td>0</td><td>  0.00</td><td>0</td><td>0</td><td>0</td><td>0</td><td>490.65</td><td>0</td><td>0</td><td>0</td><td>0</td><td>0</td><td>0</td><td>0</td><td>0</td><td>126.3</td><td>0</td><td>0</td><td>0</td><td>0</td><td>0</td><td>0</td><td> 869.89</td><td>  0.00</td><td>515.94</td><td>0</td><td>0</td><td> 0.00</td><td>  0.0</td><td>  0.00</td><td>0</td><td>146.81</td><td>  0.00</td><td>126.30</td><td>0</td><td>0</td><td> 0.00</td><td>  0.00</td><td>  0.00</td><td>0</td><td> 869.89</td><td>   0.00</td><td>146.81</td><td>   0.00</td><td>12</td><td>0</td><td>2</td><td>0</td><td>13</td><td>49</td><td>090</td><td>1</td><td>1</td><td>76</td><td>0</td><td>0</td><td>3</td><td>3</td><td>3</td><td>3</td><td>3</td><td>3</td><td>3</td><td>3</td><td>3</td><td>3</td><td>3</td><td>3</td><td>0</td><td>0</td><td>0</td><td>0</td><td>0</td><td>0</td><td>0</td><td>0</td><td>0</td><td>0</td><td>0</td><td>0</td><td>NA</td><td>⋯</td><td>0 </td><td>0 </td><td>0 </td><td>0 </td><td>0 </td><td>0 </td><td>0 </td><td>0 </td><td>0 </td><td>0 </td><td>0 </td><td>0 </td><td>0 </td><td>0 </td><td>0 </td><td>0 </td><td>0 </td><td>0 </td><td>0 </td><td>0 </td><td>V </td><td>20200206</td><td>2020-02-06</td><td>TRUE </td><td>2020-02-06</td><td>49</td><td>090</td><td>1</td><td>1</td><td>77</td><td>12</td><td>12</td><td>FALSE</td><td>FALSE</td><td>2122</td><td>0</td><td>0  </td><td>0</td><td>0  </td><td>1033107701</td><td> 4</td><td>08</td><td>1033107701</td><td> 4</td><td>08</td><td>1700860954</td><td> 2</td><td>06</td><td>1033107701</td><td> 7</td><td>08</td><td>1033107701</td><td>7</td><td>08</td><td>1700860954</td><td> 3</td><td>06</td><td>  6337.03</td><td>     0.00</td><td>0</td><td>FALSE</td><td>372.6</td><td>     0.0</td><td>0</td><td>FALSE</td><td>  8486.59</td><td>   551.31</td><td>0.00000000</td><td>  0</td><td>  0</td><td>0.00000000</td><td>0.00</td><td>0.0000000</td><td>0.00000000</td><td>0.00000000</td><td>0.00000000</td><td>  0</td><td>  0</td><td>  0</td><td>  0</td><td>  0</td><td>  0</td><td>  0</td><td>  0</td><td>  0</td><td>1.00000000</td><td>1.00000000</td><td>1.00000000</td><td>1.00000000</td><td>1.00000000</td><td>1.00000000</td><td>0.86000000</td><td>0.84375000</td><td>0.77906977</td><td>0.0000000</td><td>  0</td><td>  0</td><td>0.0000000</td><td>  0</td><td>  0</td><td>0.00000000</td><td>0.00000000</td><td>0.00000000</td><td>      NaN</td><td>      NaN</td><td>NaN</td><td>      NaN</td><td>      NaN</td><td>NaN</td><td>      NaN</td><td>       NaN</td><td>       NaN</td><td>NaN</td><td>NaN</td><td>NaN</td><td>      NaN</td><td>NaN</td><td>NaN</td><td>      NaN</td><td>      NaN</td><td>     NaN</td><td>0.00</td><td>0.00000000</td><td>0.0000000</td><td>0.00</td><td>0.0000000</td><td>0.0000000</td><td>0.0000000</td><td>0.00000000</td><td>0.00000000</td><td>  0</td><td>0.00000000</td><td>0</td><td>  0</td><td>0.0000000</td><td>0</td><td>  0</td><td>0.00000000</td><td>0</td><td>  1</td><td>  1</td><td>  1</td><td>  1</td><td>  1</td><td>  1</td><td>0.86</td><td>0.84375000</td><td>0.77906977</td><td>NA</td><td> 2</td></tr>\n",
       "\t<tr><td>100010653</td><td>2014-02-14</td><td>16861.51</td><td>16</td><td>1376.90</td><td> 4</td><td>49</td><td>9</td><td>7</td><td>2</td><td>31</td><td>1</td><td>345.44</td><td>12</td><td>114.88</td><td>0</td><td>0</td><td>0</td><td>0</td><td>0</td><td> 0.00</td><td>2</td><td>133.1</td><td>2</td><td>991.67</td><td>0</td><td>0</td><td>TRUE</td><td> TRUE</td><td>FALSE</td><td>FALSE</td><td>FALSE</td><td>FALSE</td><td> TRUE</td><td>FALSE</td><td>FALSE</td><td>FALSE</td><td> TRUE</td><td>FALSE</td><td>2014-02-14</td><td>2014-02-24</td><td>1790758688</td><td>1114990025</td><td>1790758688</td><td>2014</td><td>10</td><td>FALSE</td><td>TRUE</td><td>3309.14</td><td>3</td><td>258.31</td><td>2</td><td>13</td><td>7</td><td>2</td><td>1</td><td>3</td><td>1</td><td>345.44</td><td>5</td><td>36.15</td><td>0</td><td>0</td><td>0</td><td>0</td><td>0</td><td> 0.00</td><td>1</td><td> 66.55</td><td>2</td><td>991.67</td><td>0</td><td>0</td><td>0</td><td>0</td><td>  0.00</td><td>0</td><td>0</td><td>0</td><td>0</td><td>0</td><td>0</td><td>0</td><td>0</td><td>  0.0</td><td>0</td><td>0</td><td>0</td><td>0</td><td>0</td><td>0</td><td>1376.90</td><td>345.44</td><td>114.88</td><td>0</td><td>0</td><td> 0.00</td><td>133.1</td><td>991.67</td><td>0</td><td>258.31</td><td>345.44</td><td> 36.15</td><td>0</td><td>0</td><td> 0.00</td><td> 66.55</td><td>991.67</td><td>0</td><td>1510.00</td><td>1337.11</td><td>324.86</td><td>1337.11</td><td>18</td><td>3</td><td>4</td><td>3</td><td>13</td><td>33</td><td>740</td><td>2</td><td>1</td><td>76</td><td>0</td><td>0</td><td>3</td><td>3</td><td>3</td><td>3</td><td>3</td><td>3</td><td>3</td><td>3</td><td>3</td><td>3</td><td>3</td><td>3</td><td>0</td><td>0</td><td>0</td><td>0</td><td>0</td><td>0</td><td>0</td><td>0</td><td>0</td><td>0</td><td>0</td><td>0</td><td>NA</td><td>⋯</td><td>NA</td><td>NA</td><td>NA</td><td>NA</td><td>NA</td><td>NA</td><td>NA</td><td>NA</td><td>NA</td><td>NA</td><td>NA</td><td>NA</td><td>NA</td><td>NA</td><td>NA</td><td>NA</td><td>NA</td><td>NA</td><td>NA</td><td>NA</td><td>NA</td><td>      NA</td><td>2018-05-29</td><td>TRUE </td><td>2018-05-29</td><td>33</td><td>740</td><td>2</td><td>1</td><td>77</td><td>12</td><td>12</td><td>FALSE</td><td>FALSE</td><td>1565</td><td>3</td><td>3-4</td><td>4</td><td>3-4</td><td>1801899877</td><td> 4</td><td>06</td><td>1518020502</td><td> 2</td><td>11</td><td>1801899877</td><td> 4</td><td>06</td><td>1023073103</td><td> 3</td><td>29</td><td>1518020502</td><td>2</td><td>11</td><td>NA        </td><td>NA</td><td>NA</td><td>176109.78</td><td>311264.38</td><td>4</td><td> TRUE</td><td>  0.0</td><td>     0.0</td><td>0</td><td>FALSE</td><td>504235.67</td><td>  3309.14</td><td>0.08333333</td><td>  0</td><td>  0</td><td>0.08333333</td><td>0.25</td><td>0.1666667</td><td>0.08031088</td><td>0.15428571</td><td>0.10191083</td><td>  0</td><td>  0</td><td>  0</td><td>  0</td><td>  0</td><td>  0</td><td>  0</td><td>  0</td><td>  0</td><td>0.08333333</td><td>0.00000000</td><td>0.00000000</td><td>0.08333333</td><td>0.25000000</td><td>0.16666667</td><td>0.08031088</td><td>0.15428571</td><td>0.10191083</td><td>0.1666667</td><td>  0</td><td>  0</td><td>0.1666667</td><td>  0</td><td>  0</td><td>0.11578947</td><td>0.04214559</td><td>0.04489796</td><td>0.1666667</td><td>0.0000000</td><td>  0</td><td>0.1666667</td><td>0.0000000</td><td>  0</td><td>0.1157895</td><td>0.04214559</td><td>0.04489796</td><td>  0</td><td>  0</td><td>  0</td><td>0.1666667</td><td>  0</td><td>  0</td><td>0.0776699</td><td>0.1003521</td><td>0.118705</td><td>0.25</td><td>0.45454545</td><td>0.4166667</td><td>0.25</td><td>0.6363636</td><td>0.5833333</td><td>0.3769231</td><td>0.43103448</td><td>0.35211268</td><td>  0</td><td>0.00000000</td><td>0</td><td>  0</td><td>0.0000000</td><td>0</td><td>  0</td><td>0.00000000</td><td>0</td><td>NaN</td><td>NaN</td><td>NaN</td><td>NaN</td><td>NaN</td><td>NaN</td><td> NaN</td><td>       NaN</td><td>       NaN</td><td>NA</td><td> 3</td></tr>\n",
       "</tbody>\n",
       "</table>\n"
      ],
      "text/latex": [
       "A data.table: 6 × 517\n",
       "\\begin{tabular}{lllllllllllllllllllllllllllllllllllllllllllllllllllllllllllllllllllllllllllllllllllllllllllllllllllllllllllllllllllllllllllllllllllllllllllllllllllllllllllllllllllllllllllllllllllllllllllllllllllllllllllllllllllllllllllllllllllllllllllllllllllllllllllllllllllllllllllllllllllllllllllllllllllllllllllll}\n",
       " DESY\\_SORT\\_KEY & first\\_diagnosis & tot\\_allowed\\_carrier & office\\_visit\\_count & office\\_visit\\_cost\\_carrier & cardiology\\_visit\\_count & distinct\\_clinicians & distinct\\_cardiologists & distinct\\_primary\\_care\\_physicians & distinct\\_surgeons & distinct\\_other\\_specialties & catheterization\\_count & catheterization\\_cost\\_carrier & ecg\\_count & ecg\\_cost\\_carrier & cardiac\\_ct\\_count & cardiac\\_ct\\_cost\\_carrier & cardiac\\_mri\\_count & cardiac\\_mri\\_cost\\_carrier & stress\\_test\\_count & stress\\_test\\_cost\\_carrier & echocardiography\\_count & echocardiography\\_cost\\_carrier & angioplasty\\_count & angioplasty\\_cost\\_carrier & CABG\\_count & CABG\\_cost\\_carrier & stable\\_angina & unstable\\_angina & MI & cardiac\\_arrest & stroke & hypertension & copd & obesity & depression & diabetes & icd\\_9\\_pure & icd\\_10\\_pure & catheterization\\_date & angioplasty\\_date & catheterization\\_doc\\_NPI & angioplasty\\_doc\\_NPI & diagnosing\\_doc\\_NPI & year\\_first\\_diagnosed & time\\_difference\\_angio\\_cath & angioplasty\\_with\\_cath & angioplasty\\_during\\_year\\_after\\_cath & tot\\_allowed\\_carrier\\_cardiology\\_related & office\\_visit\\_count\\_cardiology\\_related & office\\_visit\\_cost\\_carrier\\_cardiology\\_related & cardiology\\_visit\\_count\\_cardiology\\_related & distinct\\_clinicians\\_cardiology\\_related & distinct\\_cardiologists\\_cardiology\\_related & distinct\\_primary\\_care\\_physicians\\_cardiology\\_related & distinct\\_surgeons\\_cardiology\\_related & distinct\\_other\\_specialties\\_cardiology\\_related & catheterization\\_count\\_cardiology\\_related & catheterization\\_cost\\_carrier\\_cardiology\\_related & ecg\\_count\\_cardiology\\_related & ecg\\_cost\\_carrier\\_cardiology\\_related & cardiac\\_ct\\_count\\_cardiology\\_related & cardiac\\_ct\\_cost\\_carrier\\_cardiology\\_related & cardiac\\_mri\\_count\\_cardiology\\_related & cardiac\\_mri\\_cost\\_carrier\\_cardiology\\_related & stress\\_test\\_count\\_cardiology\\_related & stress\\_test\\_cost\\_carrier\\_cardiology\\_related & echocardiography\\_count\\_cardiology\\_related & echocardiography\\_cost\\_carrier\\_cardiology\\_related & angioplasty\\_count\\_cardiology\\_related & angioplasty\\_cost\\_carrier\\_cardiology\\_related & CABG\\_count\\_cardiology\\_related & CABG\\_cost\\_carrier\\_cardiology\\_related & office\\_visit\\_cost\\_outpatient & catheterization\\_cost\\_outpatient & ecg\\_cost\\_outpatient & cardiac\\_ct\\_cost\\_outpatient & cardiac\\_mri\\_cost\\_outpatient & stress\\_test\\_cost\\_outpatient & echocardiography\\_cost\\_outpatient & angioplasty\\_cost\\_outpatient & CABG\\_cost\\_outpatient & office\\_visit\\_cost\\_outpatient\\_cardiology\\_related & catheterization\\_cost\\_outpatient\\_cardiology\\_related & ecg\\_cost\\_outpatient\\_cardiology\\_related & cardiac\\_ct\\_cost\\_outpatient\\_cardiology\\_related & cardiac\\_mri\\_cost\\_outpatient\\_cardiology\\_related & stress\\_test\\_cost\\_outpatient\\_cardiology\\_related & echocardiography\\_cost\\_outpatient\\_cardiology\\_related & angioplasty\\_cost\\_outpatient\\_cardiology\\_related & CABG\\_cost\\_outpatient\\_cardiology\\_related & office\\_visit\\_cost & catheterization\\_cost & ecg\\_cost & cardiac\\_ct\\_cost & cardiac\\_mri\\_cost & stress\\_test\\_cost & echocardiography\\_cost & angioplasty\\_cost & CABG\\_cost & office\\_visit\\_cost\\_cardiology\\_related & catheterization\\_cost\\_cardiology\\_related & ecg\\_cost\\_cardiology\\_related & cardiac\\_ct\\_cost\\_cardiology\\_related & cardiac\\_mri\\_cost\\_cardiology\\_related & stress\\_test\\_cost\\_cardiology\\_related & echocardiography\\_cost\\_cardiology\\_related & angioplasty\\_cost\\_cardiology\\_related & CABG\\_cost\\_cardiology\\_related & tot\\_cheap\\_prcdr\\_cost & tot\\_expensive\\_prcdr\\_cost & tot\\_cheap\\_prcdr\\_cost\\_cardiology\\_related & tot\\_expensive\\_prcdr\\_cost\\_cardiology\\_related & tot\\_cheap\\_prcdr\\_count & tot\\_expensive\\_prcdr\\_count & tot\\_cheap\\_prcdr\\_count\\_cardiology\\_related & tot\\_expensive\\_prcdr\\_count\\_cardiology\\_related & REFERENCE\\_YEAR\\_2013 & STATE\\_CODE\\_2013 & COUNTY\\_CODE\\_2013 & SEX\\_CODE\\_2013 & RACE\\_CODE\\_2013 & AGE\\_2013 & ORIG\\_REASON\\_FOR\\_ENTITLEMENT\\_2013 & CURR\\_REASON\\_FOR\\_ENTITLEMENT\\_2013 & ENTITLEMENT\\_BUY\\_IN\\_IND01\\_2013 & ENTITLEMENT\\_BUY\\_IN\\_IND02\\_2013 & ENTITLEMENT\\_BUY\\_IN\\_IND03\\_2013 & ENTITLEMENT\\_BUY\\_IN\\_IND04\\_2013 & ENTITLEMENT\\_BUY\\_IN\\_IND05\\_2013 & ENTITLEMENT\\_BUY\\_IN\\_IND06\\_2013 & ENTITLEMENT\\_BUY\\_IN\\_IND07\\_2013 & ENTITLEMENT\\_BUY\\_IN\\_IND08\\_2013 & ENTITLEMENT\\_BUY\\_IN\\_IND09\\_2013 & ENTITLEMENT\\_BUY\\_IN\\_IND10\\_2013 & ENTITLEMENT\\_BUY\\_IN\\_IND11\\_2013 & ENTITLEMENT\\_BUY\\_IN\\_IND12\\_2013 & HMO\\_INDICATOR01\\_2013 & HMO\\_INDICATOR02\\_2013 & HMO\\_INDICATOR03\\_2013 & HMO\\_INDICATOR04\\_2013 & HMO\\_INDICATOR05\\_2013 & HMO\\_INDICATOR06\\_2013 & HMO\\_INDICATOR07\\_2013 & HMO\\_INDICATOR08\\_2013 & HMO\\_INDICATOR09\\_2013 & HMO\\_INDICATOR10\\_2013 & HMO\\_INDICATOR11\\_2013 & HMO\\_INDICATOR12\\_2013 & VALID\\_DATE\\_OF\\_DEATH\\_SWITCH\\_2013 & ⋯ & ENTITLEMENT\\_BUY\\_IN\\_IND05\\_2020 & ENTITLEMENT\\_BUY\\_IN\\_IND06\\_2020 & ENTITLEMENT\\_BUY\\_IN\\_IND07\\_2020 & ENTITLEMENT\\_BUY\\_IN\\_IND08\\_2020 & ENTITLEMENT\\_BUY\\_IN\\_IND09\\_2020 & ENTITLEMENT\\_BUY\\_IN\\_IND10\\_2020 & ENTITLEMENT\\_BUY\\_IN\\_IND11\\_2020 & ENTITLEMENT\\_BUY\\_IN\\_IND12\\_2020 & HMO\\_INDICATOR01\\_2020 & HMO\\_INDICATOR02\\_2020 & HMO\\_INDICATOR03\\_2020 & HMO\\_INDICATOR04\\_2020 & HMO\\_INDICATOR05\\_2020 & HMO\\_INDICATOR06\\_2020 & HMO\\_INDICATOR07\\_2020 & HMO\\_INDICATOR08\\_2020 & HMO\\_INDICATOR09\\_2020 & HMO\\_INDICATOR10\\_2020 & HMO\\_INDICATOR11\\_2020 & HMO\\_INDICATOR12\\_2020 & VALID\\_DATE\\_OF\\_DEATH\\_SWITCH\\_2020 & DATE\\_OF\\_DEATH\\_2020 & deate\\_of\\_death\\_collapsed & death\\_validity\\_collapsed & date\\_of\\_death\\_collapsed & state\\_code\\_at\\_diagnosis & county\\_code\\_at\\_diagnosis & sex\\_code\\_at\\_diagnosis & race\\_code\\_at\\_diagnosis & age\\_at\\_diagnosis & ENTITLEMENT\\_BUY\\_IN\\_IND\\_sum & HMO\\_INDICATOR\\_sum & died\\_in\\_one\\_year\\_after\\_diagnosis & died\\_in\\_two\\_years\\_after\\_diagnosis & date\\_difference\\_diagnosis\\_death & score & index & wscore & windex & most\\_common\\_physician\\_PRF\\_PHYSN\\_NPI & most\\_common\\_physician\\_n & most\\_common\\_physician\\_PRVDR\\_SPCLTY & most\\_common\\_primary\\_care\\_physician\\_PRF\\_PHYSN\\_NPI & most\\_common\\_primary\\_care\\_physician\\_n & most\\_common\\_primary\\_care\\_physician\\_PRVDR\\_SPCLTY & most\\_common\\_cardiologist\\_PRF\\_PHYSN\\_NPI & most\\_common\\_cardiologist\\_n & most\\_common\\_cardiologist\\_PRVDR\\_SPCLTY & most\\_common\\_physician\\_2013\\_PRF\\_PHYSN\\_NPI & most\\_common\\_physician\\_2013\\_n & most\\_common\\_physician\\_2013\\_PRVDR\\_SPCLTY & most\\_common\\_primary\\_care\\_physician\\_2013\\_PRF\\_PHYSN\\_NPI & most\\_common\\_primary\\_care\\_physician\\_2013\\_n & most\\_common\\_primary\\_care\\_physician\\_2013\\_PRVDR\\_SPCLTY & most\\_common\\_cardiologist\\_2013\\_PRF\\_PHYSN\\_NPI & most\\_common\\_cardiologist\\_2013\\_n & most\\_common\\_cardiologist\\_2013\\_PRVDR\\_SPCLTY & tot\\_allowed\\_outpatient & tot\\_allowed\\_inpatient & number\\_of\\_hospitalizations & was\\_hospitalized & tot\\_allowed\\_outpatient\\_cardiology\\_related & tot\\_allowed\\_inpatient\\_cardiology\\_related & number\\_of\\_hospitalizations\\_cardiology\\_related & was\\_hospitalized\\_cardiology\\_related & total\\_exp & total\\_exp\\_cardiology\\_related & most\\_common\\_physician\\_prp\\_in\\_year\\_of\\_diagnosis\\_05\\_non\\_exclusive\\_HCPCS & most\\_common\\_physician\\_prp\\_in\\_2013\\_05\\_non\\_exclusive\\_HCPCS & most\\_common\\_physician\\_prp\\_in\\_year\\_before\\_diagnosis\\_05\\_non\\_exclusive\\_HCPCS & most\\_common\\_physician\\_prp\\_in\\_year\\_of\\_diagnosis\\_03\\_non\\_exclusive\\_HCPCS & most\\_common\\_physician\\_prp\\_in\\_2013\\_03\\_non\\_exclusive\\_HCPCS & most\\_common\\_physician\\_prp\\_in\\_year\\_before\\_diagnosis\\_03\\_non\\_exclusive\\_HCPCS & most\\_common\\_physician\\_avg\\_in\\_year\\_of\\_diagnosis\\_non\\_exclusive\\_HCPCS & most\\_common\\_physician\\_avg\\_in\\_2013\\_non\\_exclusive\\_HCPCS & most\\_common\\_physician\\_avg\\_in\\_year\\_before\\_diagnosis\\_non\\_exclusive\\_HCPCS & most\\_common\\_primary\\_care\\_physician\\_prp\\_in\\_year\\_of\\_diagnosis\\_05\\_non\\_exclusive\\_HCPCS & most\\_common\\_primary\\_care\\_physician\\_prp\\_in\\_2013\\_05\\_non\\_exclusive\\_HCPCS & most\\_common\\_primary\\_care\\_physician\\_prp\\_in\\_year\\_before\\_diagnosis\\_05\\_non\\_exclusive\\_HCPCS & most\\_common\\_primary\\_care\\_physician\\_prp\\_in\\_year\\_of\\_diagnosis\\_03\\_non\\_exclusive\\_HCPCS & most\\_common\\_primary\\_care\\_physician\\_prp\\_in\\_2013\\_03\\_non\\_exclusive\\_HCPCS & most\\_common\\_primary\\_care\\_physician\\_prp\\_in\\_year\\_before\\_diagnosis\\_03\\_non\\_exclusive\\_HCPCS & most\\_common\\_primary\\_care\\_physician\\_avg\\_in\\_year\\_of\\_diagnosis\\_non\\_exclusive\\_HCPCS & most\\_common\\_primary\\_care\\_physician\\_avg\\_in\\_2013\\_non\\_exclusive\\_HCPCS & most\\_common\\_primary\\_care\\_physician\\_avg\\_in\\_year\\_before\\_diagnosis\\_non\\_exclusive\\_HCPCS & most\\_common\\_cardiologist\\_prp\\_in\\_year\\_of\\_diagnosis\\_05\\_non\\_exclusive\\_HCPCS & most\\_common\\_cardiologist\\_prp\\_in\\_2013\\_05\\_non\\_exclusive\\_HCPCS & most\\_common\\_cardiologist\\_prp\\_in\\_year\\_before\\_diagnosis\\_05\\_non\\_exclusive\\_HCPCS & most\\_common\\_cardiologist\\_prp\\_in\\_year\\_of\\_diagnosis\\_03\\_non\\_exclusive\\_HCPCS & most\\_common\\_cardiologist\\_prp\\_in\\_2013\\_03\\_non\\_exclusive\\_HCPCS & most\\_common\\_cardiologist\\_prp\\_in\\_year\\_before\\_diagnosis\\_03\\_non\\_exclusive\\_HCPCS & most\\_common\\_cardiologist\\_avg\\_in\\_year\\_of\\_diagnosis\\_non\\_exclusive\\_HCPCS & most\\_common\\_cardiologist\\_avg\\_in\\_2013\\_non\\_exclusive\\_HCPCS & most\\_common\\_cardiologist\\_avg\\_in\\_year\\_before\\_diagnosis\\_non\\_exclusive\\_HCPCS & diagnosing\\_doc\\_prp\\_in\\_year\\_of\\_diagnosis\\_05\\_non\\_exclusive\\_HCPCS & diagnosing\\_doc\\_prp\\_in\\_2013\\_05\\_non\\_exclusive\\_HCPCS & diagnosing\\_doc\\_prp\\_in\\_year\\_before\\_diagnosis\\_05\\_non\\_exclusive\\_HCPCS & diagnosing\\_doc\\_prp\\_in\\_year\\_of\\_diagnosis\\_03\\_non\\_exclusive\\_HCPCS & diagnosing\\_doc\\_prp\\_in\\_2013\\_03\\_non\\_exclusive\\_HCPCS & diagnosing\\_doc\\_prp\\_in\\_year\\_before\\_diagnosis\\_03\\_non\\_exclusive\\_HCPCS & diagnosing\\_doc\\_avg\\_in\\_year\\_of\\_diagnosis\\_non\\_exclusive\\_HCPCS & diagnosing\\_doc\\_avg\\_in\\_2013\\_non\\_exclusive\\_HCPCS & diagnosing\\_doc\\_avg\\_in\\_year\\_before\\_diagnosis\\_non\\_exclusive\\_HCPCS & catheterization\\_doc\\_prp\\_in\\_year\\_of\\_diagnosis\\_05\\_non\\_exclusive\\_HCPCS & catheterization\\_doc\\_prp\\_in\\_2013\\_05\\_non\\_exclusive\\_HCPCS & catheterization\\_doc\\_prp\\_in\\_year\\_before\\_diagnosis\\_05\\_non\\_exclusive\\_HCPCS & catheterization\\_doc\\_prp\\_in\\_year\\_of\\_diagnosis\\_03\\_non\\_exclusive\\_HCPCS & catheterization\\_doc\\_prp\\_in\\_2013\\_03\\_non\\_exclusive\\_HCPCS & catheterization\\_doc\\_prp\\_in\\_year\\_before\\_diagnosis\\_03\\_non\\_exclusive\\_HCPCS & catheterization\\_doc\\_avg\\_in\\_year\\_of\\_diagnosis\\_non\\_exclusive\\_HCPCS & catheterization\\_doc\\_avg\\_in\\_2013\\_non\\_exclusive\\_HCPCS & catheterization\\_doc\\_avg\\_in\\_year\\_before\\_diagnosis\\_non\\_exclusive\\_HCPCS & angioplasty\\_doc\\_prp\\_in\\_year\\_of\\_diagnosis\\_05\\_non\\_exclusive\\_HCPCS & angioplasty\\_doc\\_prp\\_in\\_2013\\_05\\_non\\_exclusive\\_HCPCS & angioplasty\\_doc\\_prp\\_in\\_year\\_before\\_diagnosis\\_05\\_non\\_exclusive\\_HCPCS & angioplasty\\_doc\\_prp\\_in\\_year\\_of\\_diagnosis\\_03\\_non\\_exclusive\\_HCPCS & angioplasty\\_doc\\_prp\\_in\\_2013\\_03\\_non\\_exclusive\\_HCPCS & angioplasty\\_doc\\_prp\\_in\\_year\\_before\\_diagnosis\\_03\\_non\\_exclusive\\_HCPCS & angioplasty\\_doc\\_avg\\_in\\_year\\_of\\_diagnosis\\_non\\_exclusive\\_HCPCS & angioplasty\\_doc\\_avg\\_in\\_2013\\_non\\_exclusive\\_HCPCS & angioplasty\\_doc\\_avg\\_in\\_year\\_before\\_diagnosis\\_non\\_exclusive\\_HCPCS & most\\_common\\_physician\\_2013\\_prp\\_in\\_year\\_of\\_diagnosis\\_05\\_non\\_exclusive\\_HCPCS & most\\_common\\_physician\\_2013\\_prp\\_in\\_2013\\_05\\_non\\_exclusive\\_HCPCS & most\\_common\\_physician\\_2013\\_prp\\_in\\_year\\_before\\_diagnosis\\_05\\_non\\_exclusive\\_HCPCS & most\\_common\\_physician\\_2013\\_prp\\_in\\_year\\_of\\_diagnosis\\_03\\_non\\_exclusive\\_HCPCS & most\\_common\\_physician\\_2013\\_prp\\_in\\_2013\\_03\\_non\\_exclusive\\_HCPCS & most\\_common\\_physician\\_2013\\_prp\\_in\\_year\\_before\\_diagnosis\\_03\\_non\\_exclusive\\_HCPCS & most\\_common\\_physician\\_2013\\_avg\\_in\\_year\\_of\\_diagnosis\\_non\\_exclusive\\_HCPCS & most\\_common\\_physician\\_2013\\_avg\\_in\\_2013\\_non\\_exclusive\\_HCPCS & most\\_common\\_physician\\_2013\\_avg\\_in\\_year\\_before\\_diagnosis\\_non\\_exclusive\\_HCPCS & most\\_common\\_primary\\_care\\_physician\\_2013\\_prp\\_in\\_year\\_of\\_diagnosis\\_05\\_non\\_exclusive\\_HCPCS & most\\_common\\_primary\\_care\\_physician\\_2013\\_prp\\_in\\_2013\\_05\\_non\\_exclusive\\_HCPCS & most\\_common\\_primary\\_care\\_physician\\_2013\\_prp\\_in\\_year\\_before\\_diagnosis\\_05\\_non\\_exclusive\\_HCPCS & most\\_common\\_primary\\_care\\_physician\\_2013\\_prp\\_in\\_year\\_of\\_diagnosis\\_03\\_non\\_exclusive\\_HCPCS & most\\_common\\_primary\\_care\\_physician\\_2013\\_prp\\_in\\_2013\\_03\\_non\\_exclusive\\_HCPCS & most\\_common\\_primary\\_care\\_physician\\_2013\\_prp\\_in\\_year\\_before\\_diagnosis\\_03\\_non\\_exclusive\\_HCPCS & most\\_common\\_primary\\_care\\_physician\\_2013\\_avg\\_in\\_year\\_of\\_diagnosis\\_non\\_exclusive\\_HCPCS & most\\_common\\_primary\\_care\\_physician\\_2013\\_avg\\_in\\_2013\\_non\\_exclusive\\_HCPCS & most\\_common\\_primary\\_care\\_physician\\_2013\\_avg\\_in\\_year\\_before\\_diagnosis\\_non\\_exclusive\\_HCPCS & most\\_common\\_cardiologist\\_2013\\_prp\\_in\\_year\\_of\\_diagnosis\\_05\\_non\\_exclusive\\_HCPCS & most\\_common\\_cardiologist\\_2013\\_prp\\_in\\_2013\\_05\\_non\\_exclusive\\_HCPCS & most\\_common\\_cardiologist\\_2013\\_prp\\_in\\_year\\_before\\_diagnosis\\_05\\_non\\_exclusive\\_HCPCS & most\\_common\\_cardiologist\\_2013\\_prp\\_in\\_year\\_of\\_diagnosis\\_03\\_non\\_exclusive\\_HCPCS & most\\_common\\_cardiologist\\_2013\\_prp\\_in\\_2013\\_03\\_non\\_exclusive\\_HCPCS & most\\_common\\_cardiologist\\_2013\\_prp\\_in\\_year\\_before\\_diagnosis\\_03\\_non\\_exclusive\\_HCPCS & most\\_common\\_cardiologist\\_2013\\_avg\\_in\\_year\\_of\\_diagnosis\\_non\\_exclusive\\_HCPCS & most\\_common\\_cardiologist\\_2013\\_avg\\_in\\_2013\\_non\\_exclusive\\_HCPCS & most\\_common\\_cardiologist\\_2013\\_avg\\_in\\_year\\_before\\_diagnosis\\_non\\_exclusive\\_HCPCS & MI\\_date & RUCC\\_2013\\\\\n",
       " <int> & <date> & <dbl> & <int> & <dbl> & <int> & <int> & <int> & <int> & <int> & <int> & <int> & <dbl> & <int> & <dbl> & <int> & <dbl> & <int> & <dbl> & <int> & <dbl> & <int> & <dbl> & <int> & <dbl> & <int> & <dbl> & <lgl> & <lgl> & <lgl> & <lgl> & <lgl> & <lgl> & <lgl> & <lgl> & <lgl> & <lgl> & <lgl> & <lgl> & <date> & <date> & <chr> & <chr> & <chr> & <dbl> & <int> & <lgl> & <lgl> & <dbl> & <int> & <dbl> & <int> & <int> & <int> & <int> & <int> & <int> & <int> & <dbl> & <int> & <dbl> & <int> & <dbl> & <int> & <dbl> & <int> & <dbl> & <int> & <dbl> & <int> & <dbl> & <int> & <dbl> & <dbl> & <dbl> & <dbl> & <dbl> & <dbl> & <dbl> & <dbl> & <dbl> & <dbl> & <dbl> & <dbl> & <dbl> & <dbl> & <dbl> & <dbl> & <dbl> & <dbl> & <dbl> & <dbl> & <dbl> & <dbl> & <dbl> & <dbl> & <dbl> & <dbl> & <dbl> & <dbl> & <dbl> & <dbl> & <dbl> & <dbl> & <dbl> & <dbl> & <dbl> & <dbl> & <dbl> & <dbl> & <dbl> & <dbl> & <dbl> & <int> & <int> & <int> & <int> & <dbl> & <chr> & <chr> & <dbl> & <dbl> & <dbl> & <dbl> & <dbl> & <chr> & <chr> & <chr> & <chr> & <chr> & <chr> & <chr> & <chr> & <chr> & <chr> & <chr> & <chr> & <chr> & <chr> & <chr> & <chr> & <chr> & <chr> & <chr> & <chr> & <chr> & <chr> & <chr> & <chr> & <chr> & ⋯ & <chr> & <chr> & <chr> & <chr> & <chr> & <chr> & <chr> & <chr> & <chr> & <chr> & <chr> & <chr> & <chr> & <chr> & <chr> & <chr> & <chr> & <chr> & <chr> & <chr> & <chr> & <dbl> & <date> & <chr> & <date> & <chr> & <chr> & <dbl> & <dbl> & <dbl> & <dbl> & <dbl> & <lgl> & <lgl> & <int> & <dbl> & <fct> & <dbl> & <fct> & <chr> & <int> & <chr> & <chr> & <int> & <chr> & <chr> & <int> & <chr> & <chr> & <int> & <chr> & <chr> & <int> & <chr> & <chr> & <int> & <chr> & <dbl> & <dbl> & <int> & <lgl> & <dbl> & <dbl> & <int> & <lgl> & <dbl> & <dbl> & <dbl> & <dbl> & <dbl> & <dbl> & <dbl> & <dbl> & <dbl> & <dbl> & <dbl> & <dbl> & <dbl> & <dbl> & <dbl> & <dbl> & <dbl> & <dbl> & <dbl> & <dbl> & <dbl> & <dbl> & <dbl> & <dbl> & <dbl> & <dbl> & <dbl> & <dbl> & <dbl> & <dbl> & <dbl> & <dbl> & <dbl> & <dbl> & <dbl> & <dbl> & <dbl> & <dbl> & <dbl> & <dbl> & <dbl> & <dbl> & <dbl> & <dbl> & <dbl> & <dbl> & <dbl> & <dbl> & <dbl> & <dbl> & <dbl> & <dbl> & <dbl> & <dbl> & <dbl> & <dbl> & <dbl> & <dbl> & <dbl> & <dbl> & <dbl> & <dbl> & <dbl> & <dbl> & <dbl> & <dbl> & <dbl> & <dbl> & <dbl> & <dbl> & <dbl> & <dbl> & <dbl> & <dbl> & <dbl> & <dbl> & <dbl> & <dbl> & <dbl> & <dbl> & <dbl> & <dbl> & <dbl> & <date> & <dbl>\\\\\n",
       "\\hline\n",
       "\t 100004643 & 2018-07-24 &  2164.96 &  2 &  209.35 &  2 &  5 & 1 & 0 & 0 &  4 & 0 &   0.00 &  1 &  16.26 & 0 & 0 & 0 & 0 & 1 & 60.06 & 0 &   0.0 & 0 &   0.00 & 0 & 0 & TRUE & FALSE & FALSE & FALSE & FALSE &  TRUE & FALSE & FALSE & FALSE & FALSE & FALSE &  TRUE & NA & NA & NA         & NA         & 1922000801 & 2018 & NA &    NA &   NA & 1098.55 & 1 & 104.30 & 1 &  5 & 1 & 0 & 0 & 4 & 0 &   0.00 & 1 & 16.26 & 0 & 0 & 0 & 0 & 0 &  0.00 & 0 &   0.00 & 0 &   0.00 & 0 & 0 & 0 & 0 &   0.00 & 0 & 0 & 0 & 0 & 0 & 0 & 0 & 0 &   0.0 & 0 & 0 & 0 & 0 & 0 & 0 &  209.35 &   0.00 &  16.26 & 0 & 0 & 60.06 &   0.0 &   0.00 & 0 & 104.30 &   0.00 &  16.26 & 0 & 0 &  0.00 &   0.00 &   0.00 & 0 &  269.41 &    0.00 & 104.30 &    0.00 &  3 & 0 & 1 & 0 & 13 & 34 & 240 & 2 & 1 & 77 & 0 & 0 & 3 & 3 & 3 & 3 & 3 & 3 & 3 & 3 & 3 & 3 & 3 & 3 & 0 & 0 & 0 & 0 & 0 & 0 & 0 & 0 & 0 & 0 & 0 & 0 & NA & ⋯ & 3  & 3  & 3  & 3  & 3  & 3  & 3  & 3  & 0  & 0  & 0  & 0  & 0  & 0  & 0  & 0  & 0  & 0  & 0  & 0  & NA &       NA & NA & FALSE & NA & 19 & 270 & 2 & 1 & 82 & 12 & 12 & FALSE & FALSE &   NA & 1 & 1-2 & 1 & 1-2 & 1922000801 &  2 & 06 & NA         & NA & NA & 1922000801 &  2 & 06 & 1639140775 &  2 & 11 & 1639140775 & 2 & 11 & NA         & NA & NA &      0.00 &      0.00 & 0 & FALSE &   0.0 &      0.0 & 0 & FALSE &   2164.96 &   1098.55 & 0.00000000 &   0 &   0 & 0.00000000 & 0.00 & 0.0000000 & 0.04925054 & 0.06811989 & 0.07415254 & NaN & NaN & NaN & NaN & NaN & NaN & NaN & NaN & NaN & 0.00000000 & 0.00000000 & 0.00000000 & 0.00000000 & 0.00000000 & 0.00000000 & 0.04925054 & 0.06811989 & 0.07415254 & 0.0000000 &   0 &   0 & 0.0000000 &   0 &   0 & 0.04925054 & 0.06811989 & 0.07415254 &       NaN &       NaN & NaN &       NaN &       NaN & NaN &       NaN &        NaN &        NaN & NaN & NaN & NaN &       NaN & NaN & NaN &       NaN &       NaN &      NaN & 0.00 & 0.08333333 & 0.0000000 & 0.00 & 0.1666667 & 0.0000000 & 0.0000000 & 0.12643678 & 0.00000000 &   0 & 0.08333333 & 0 &   0 & 0.1666667 & 0 &   0 & 0.12643678 & 0 & NaN & NaN & NaN & NaN & NaN & NaN &  NaN &        NaN &        NaN & NA &  2\\\\\n",
       "\t 100005675 & 2020-07-06 &  4598.06 &  0 &    0.00 &  0 & 20 & 5 & 1 & 1 & 13 & 1 & 166.66 &  5 &  44.60 & 0 & 0 & 0 & 0 & 0 &  0.00 & 2 & 154.9 & 0 &   0.00 & 0 & 0 & TRUE & FALSE & FALSE & FALSE & FALSE & FALSE & FALSE & FALSE & FALSE & FALSE & FALSE &  TRUE & 2020-07-13 & NA & 1538172747 & NA         & 1477715811 & 2020 & NA &    NA &   NA & 2699.46 & 0 &   0.00 & 0 & 10 & 3 & 0 & 1 & 6 & 1 & 166.66 & 1 &  8.92 & 0 & 0 & 0 & 0 & 0 &  0.00 & 2 & 154.90 & 0 &   0.00 & 0 & 0 & 0 & 0 &   0.00 & 0 & 0 & 0 & 0 & 0 & 0 & 0 & 0 &   0.0 & 0 & 0 & 0 & 0 & 0 & 0 &    0.00 & 166.66 &  44.60 & 0 & 0 &  0.00 & 154.9 &   0.00 & 0 &   0.00 & 166.66 &   8.92 & 0 & 0 &  0.00 & 154.90 &   0.00 & 0 &  154.90 &  166.66 & 154.90 &  166.66 &  2 & 1 & 2 & 1 & 13 & 22 & 010 & 2 & 1 & 76 & 0 & 0 & 3 & 3 & 3 & 3 & 3 & 3 & 3 & 3 & 3 & 3 & 3 & 3 & 0 & 0 & 0 & 0 & 0 & 0 & 0 & 0 & 0 & 0 & 0 & 0 & NA & ⋯ & 3  & 3  & 3  & 0  & 0  & 0  & 0  & 0  & 0  & 0  & 0  & 0  & 0  & 0  & 0  & 0  & 0  & 0  & 0  & 0  & V  & 20200715 & 2020-07-15 & TRUE  & 2020-07-15 & 22 & 010 & 2 & 1 & 83 &  1 &  6 &    NA &    NA &    9 & 2 & 1-2 & 2 & 1-2 & NA         & NA & NA & NA         & NA & NA & NA         & NA & NA & 1558377663 &  5 & 11 & 1558377663 & 5 & 11 & NA         & NA & NA &      0.00 & 250422.85 & 1 &  TRUE &   0.0 & 250422.9 & 1 &  TRUE & 255020.91 & 253122.31 &        NaN & NaN & NaN &        NaN &  NaN &       NaN &        NaN &        NaN &        NaN & NaN & NaN & NaN & NaN & NaN & NaN & NaN & NaN & NaN &        NaN &        NaN &        NaN &        NaN &        NaN &        NaN &        NaN &        NaN &        NaN & 1.0000000 & NaN &   1 & 1.0000000 & NaN &   1 & 0.84615385 &        NaN & 0.85416667 & 1.0000000 & 0.1428571 &   1 & 1.0000000 & 0.2857143 &   1 & 1.0000000 & 0.20000000 & 1.00000000 & NaN & NaN & NaN &       NaN & NaN & NaN &       NaN &       NaN &      NaN &  NaN & 0.00000000 & 0.0000000 &  NaN & 0.0000000 & 0.0000000 &       NaN & 0.05555556 & 0.00000000 & NaN & 0.00000000 & 0 & NaN & 0.0000000 & 0 & NaN & 0.05555556 & 0 & NaN & NaN & NaN & NaN & NaN & NaN &  NaN &        NaN &        NaN & NA &  3\\\\\n",
       "\t 100007109 & 2013-12-26 &  2257.14 & 19 & 1460.80 &  1 & 10 & 1 & 2 & 3 &  4 & 0 &   0.00 &  1 &  19.98 & 0 & 0 & 0 & 0 & 0 &  0.00 & 0 &   0.0 & 0 &   0.00 & 0 & 0 & TRUE & FALSE & FALSE & FALSE & FALSE &  TRUE & FALSE & FALSE & FALSE &  TRUE &  TRUE & FALSE & NA & NA & NA         & NA         & 1922185792 & 2013 & NA &    NA &   NA &  871.19 & 8 & 761.97 & 1 &  4 & 1 & 2 & 0 & 1 & 0 &   0.00 & 1 & 19.98 & 0 & 0 & 0 & 0 & 0 &  0.00 & 0 &   0.00 & 0 &   0.00 & 0 & 0 & 0 & 0 &   0.00 & 0 & 0 & 0 & 0 & 0 & 0 & 0 & 0 &   0.0 & 0 & 0 & 0 & 0 & 0 & 0 & 1460.80 &   0.00 &  19.98 & 0 & 0 &  0.00 &   0.0 &   0.00 & 0 & 761.97 &   0.00 &  19.98 & 0 & 0 &  0.00 &   0.00 &   0.00 & 0 & 1460.80 &    0.00 & 761.97 &    0.00 & 19 & 0 & 8 & 0 & 13 & 07 & 040 & 1 & 1 & 76 & 0 & 0 & B & B & B & B & B & B & B & B & B & B & B & B & 0 & 0 & 0 & 0 & 0 & 0 & 0 & 0 & 0 & 0 & 0 & 0 & NA & ⋯ & 0  & 0  & 0  & 0  & 0  & 0  & 0  & 0  & 0  & 0  & 0  & 0  & 0  & 0  & 0  & 0  & 0  & 0  & 0  & 0  & V  & 20200306 & 2020-03-06 & TRUE  & 2020-03-06 & 07 & 040 & 1 & 1 & 76 &  0 & 12 & FALSE & FALSE & 2262 & 2 & 1-2 & 3 & 3-4 & 1922185792 & 10 & 11 & 1922185792 & 10 & 11 & 1235111857 &  1 & 06 & 1922185792 &  6 & 11 & 1922185792 & 6 & 11 & 1356323349 &  2 & 06 &   1078.50 &      0.00 & 0 & FALSE &   0.0 &      0.0 & 0 & FALSE &   3335.64 &    871.19 & 0.00000000 &   0 &   0 & 0.00000000 & 0.00 & 0.0000000 & 0.00000000 & 0.00000000 & 0.00000000 &   0 &   0 &   0 &   0 &   0 &   0 &   0 &   0 &   0 & 0.00000000 & 0.08333333 & 0.08333333 & 0.00000000 & 0.08333333 & 0.08333333 & 0.00000000 & 0.06306306 & 0.06306306 & 0.0000000 &   0 &   0 & 0.0000000 &   0 &   0 & 0.00000000 & 0.00000000 & 0.00000000 &       NaN &       NaN & NaN &       NaN &       NaN & NaN &       NaN &        NaN &        NaN & NaN & NaN & NaN &       NaN & NaN & NaN &       NaN &       NaN &      NaN & 0.00 & 0.00000000 & 0.0000000 & 0.00 & 0.0000000 & 0.0000000 & 0.0000000 & 0.00000000 & 0.00000000 &   0 & 0.00000000 & 0 &   0 & 0.0000000 & 0 &   0 & 0.00000000 & 0 & NaN &   0 &   0 & NaN &   0 &   0 &  NaN & 0.00000000 & 0.00000000 & NA & NA\\\\\n",
       "\t 100008015 & 2013-02-18 & 13622.46 & 39 & 1909.86 & 28 & 26 & 3 & 5 & 4 & 14 & 0 &   0.00 &  6 &  92.64 & 0 & 0 & 0 & 0 & 1 & 83.54 & 0 &   0.0 & 0 &   0.00 & 0 & 0 & TRUE & FALSE & FALSE & FALSE & FALSE &  TRUE & FALSE & FALSE & FALSE & FALSE &  TRUE & FALSE & NA & NA & NA         & NA         & 1205894102 & 2013 & NA &    NA &   NA & 2126.04 & 6 & 576.64 & 4 &  5 & 2 & 1 & 0 & 2 & 0 &   0.00 & 4 & 75.81 & 0 & 0 & 0 & 0 & 1 & 83.54 & 0 &   0.00 & 0 &   0.00 & 0 & 0 & 0 & 0 &   0.00 & 0 & 0 & 0 & 0 & 0 & 0 & 0 & 0 &   0.0 & 0 & 0 & 0 & 0 & 0 & 0 & 1909.86 &   0.00 &  92.64 & 0 & 0 & 83.54 &   0.0 &   0.00 & 0 & 576.64 &   0.00 &  75.81 & 0 & 0 & 83.54 &   0.00 &   0.00 & 0 & 1993.40 &    0.00 & 660.18 &    0.00 & 40 & 0 & 7 & 0 & 13 & 22 & 130 & 1 & 1 & 76 & 0 & 0 & 3 & 3 & 3 & 3 & 3 & 3 & 3 & 3 & 3 & 3 & 3 & 3 & 0 & 0 & 0 & 0 & 0 & 0 & 0 & 0 & 0 & 0 & 0 & 0 & NA & ⋯ & 3  & 3  & 3  & 3  & 3  & 3  & 3  & 3  & 0  & 0  & 0  & 0  & 0  & 0  & 0  & 0  & 0  & 0  & 0  & 0  & NA &       NA & NA & FALSE & NA & 22 & 130 & 1 & 1 & 76 & 12 & 12 & FALSE & FALSE &   NA & 0 & 0   & 0 & 0   & 1013994185 & 28 & 06 & 1417934522 &  2 & 11 & 1013994185 & 28 & 06 & 1013994185 & 27 & 06 & 1417934522 & 2 & 11 & 1013994185 & 27 & 06 &   7092.44 &  18795.06 & 1 &  TRUE &   0.0 &      0.0 & 0 & FALSE &  39509.96 &   2126.04 & 0.00000000 &   0 &   0 & 0.00000000 & 0.00 & 0.0000000 & 0.10000000 & 0.08108108 & 0.05263158 &   0 &   0 &   0 &   0 &   0 &   0 &   0 &   0 &   0 & 0.00000000 & 0.00000000 & 0.00000000 & 0.00000000 & 0.00000000 & 0.00000000 & 0.10000000 & 0.08108108 & 0.05263158 &       NaN & NaN & NaN &       NaN & NaN & NaN &        NaN &        NaN &        NaN &       NaN &       NaN & NaN &       NaN &       NaN & NaN &       NaN &        NaN &        NaN & NaN & NaN & NaN &       NaN & NaN & NaN &       NaN &       NaN &      NaN & 0.00 & 0.00000000 & 0.0000000 & 0.00 & 0.0000000 & 0.0000000 & 0.1000000 & 0.08108108 & 0.05263158 &   0 & 0.00000000 & 0 &   0 & 0.0000000 & 0 &   0 & 0.00000000 & 0 &   0 &   0 &   0 &   0 &   0 &   0 & 0.10 & 0.08108108 & 0.05263158 & NA &  1\\\\\n",
       "\t 100008543 & 2014-04-16 &  2149.56 & 12 &  869.89 &  2 & 22 & 4 & 5 & 1 & 12 & 0 &   0.00 &  3 &  25.29 & 0 & 0 & 0 & 0 & 0 &  0.00 & 0 &   0.0 & 0 &   0.00 & 0 & 0 & TRUE & FALSE & FALSE & FALSE & FALSE & FALSE & FALSE & FALSE & FALSE & FALSE &  TRUE & FALSE & NA & NA & NA         & NA         & 1033107701 & 2014 & NA &    NA &   NA &  178.71 & 2 & 146.81 & 1 &  4 & 3 & 1 & 0 & 0 & 0 &   0.00 & 0 &  0.00 & 0 & 0 & 0 & 0 & 0 &  0.00 & 0 &   0.00 & 0 &   0.00 & 0 & 0 & 0 & 0 & 490.65 & 0 & 0 & 0 & 0 & 0 & 0 & 0 & 0 & 126.3 & 0 & 0 & 0 & 0 & 0 & 0 &  869.89 &   0.00 & 515.94 & 0 & 0 &  0.00 &   0.0 &   0.00 & 0 & 146.81 &   0.00 & 126.30 & 0 & 0 &  0.00 &   0.00 &   0.00 & 0 &  869.89 &    0.00 & 146.81 &    0.00 & 12 & 0 & 2 & 0 & 13 & 49 & 090 & 1 & 1 & 76 & 0 & 0 & 3 & 3 & 3 & 3 & 3 & 3 & 3 & 3 & 3 & 3 & 3 & 3 & 0 & 0 & 0 & 0 & 0 & 0 & 0 & 0 & 0 & 0 & 0 & 0 & NA & ⋯ & 0  & 0  & 0  & 0  & 0  & 0  & 0  & 0  & 0  & 0  & 0  & 0  & 0  & 0  & 0  & 0  & 0  & 0  & 0  & 0  & V  & 20200206 & 2020-02-06 & TRUE  & 2020-02-06 & 49 & 090 & 1 & 1 & 77 & 12 & 12 & FALSE & FALSE & 2122 & 0 & 0   & 0 & 0   & 1033107701 &  4 & 08 & 1033107701 &  4 & 08 & 1700860954 &  2 & 06 & 1033107701 &  7 & 08 & 1033107701 & 7 & 08 & 1700860954 &  3 & 06 &   6337.03 &      0.00 & 0 & FALSE & 372.6 &      0.0 & 0 & FALSE &   8486.59 &    551.31 & 0.00000000 &   0 &   0 & 0.00000000 & 0.00 & 0.0000000 & 0.00000000 & 0.00000000 & 0.00000000 &   0 &   0 &   0 &   0 &   0 &   0 &   0 &   0 &   0 & 1.00000000 & 1.00000000 & 1.00000000 & 1.00000000 & 1.00000000 & 1.00000000 & 0.86000000 & 0.84375000 & 0.77906977 & 0.0000000 &   0 &   0 & 0.0000000 &   0 &   0 & 0.00000000 & 0.00000000 & 0.00000000 &       NaN &       NaN & NaN &       NaN &       NaN & NaN &       NaN &        NaN &        NaN & NaN & NaN & NaN &       NaN & NaN & NaN &       NaN &       NaN &      NaN & 0.00 & 0.00000000 & 0.0000000 & 0.00 & 0.0000000 & 0.0000000 & 0.0000000 & 0.00000000 & 0.00000000 &   0 & 0.00000000 & 0 &   0 & 0.0000000 & 0 &   0 & 0.00000000 & 0 &   1 &   1 &   1 &   1 &   1 &   1 & 0.86 & 0.84375000 & 0.77906977 & NA &  2\\\\\n",
       "\t 100010653 & 2014-02-14 & 16861.51 & 16 & 1376.90 &  4 & 49 & 9 & 7 & 2 & 31 & 1 & 345.44 & 12 & 114.88 & 0 & 0 & 0 & 0 & 0 &  0.00 & 2 & 133.1 & 2 & 991.67 & 0 & 0 & TRUE &  TRUE & FALSE & FALSE & FALSE & FALSE &  TRUE & FALSE & FALSE & FALSE &  TRUE & FALSE & 2014-02-14 & 2014-02-24 & 1790758688 & 1114990025 & 1790758688 & 2014 & 10 & FALSE & TRUE & 3309.14 & 3 & 258.31 & 2 & 13 & 7 & 2 & 1 & 3 & 1 & 345.44 & 5 & 36.15 & 0 & 0 & 0 & 0 & 0 &  0.00 & 1 &  66.55 & 2 & 991.67 & 0 & 0 & 0 & 0 &   0.00 & 0 & 0 & 0 & 0 & 0 & 0 & 0 & 0 &   0.0 & 0 & 0 & 0 & 0 & 0 & 0 & 1376.90 & 345.44 & 114.88 & 0 & 0 &  0.00 & 133.1 & 991.67 & 0 & 258.31 & 345.44 &  36.15 & 0 & 0 &  0.00 &  66.55 & 991.67 & 0 & 1510.00 & 1337.11 & 324.86 & 1337.11 & 18 & 3 & 4 & 3 & 13 & 33 & 740 & 2 & 1 & 76 & 0 & 0 & 3 & 3 & 3 & 3 & 3 & 3 & 3 & 3 & 3 & 3 & 3 & 3 & 0 & 0 & 0 & 0 & 0 & 0 & 0 & 0 & 0 & 0 & 0 & 0 & NA & ⋯ & NA & NA & NA & NA & NA & NA & NA & NA & NA & NA & NA & NA & NA & NA & NA & NA & NA & NA & NA & NA & NA &       NA & 2018-05-29 & TRUE  & 2018-05-29 & 33 & 740 & 2 & 1 & 77 & 12 & 12 & FALSE & FALSE & 1565 & 3 & 3-4 & 4 & 3-4 & 1801899877 &  4 & 06 & 1518020502 &  2 & 11 & 1801899877 &  4 & 06 & 1023073103 &  3 & 29 & 1518020502 & 2 & 11 & NA         & NA & NA & 176109.78 & 311264.38 & 4 &  TRUE &   0.0 &      0.0 & 0 & FALSE & 504235.67 &   3309.14 & 0.08333333 &   0 &   0 & 0.08333333 & 0.25 & 0.1666667 & 0.08031088 & 0.15428571 & 0.10191083 &   0 &   0 &   0 &   0 &   0 &   0 &   0 &   0 &   0 & 0.08333333 & 0.00000000 & 0.00000000 & 0.08333333 & 0.25000000 & 0.16666667 & 0.08031088 & 0.15428571 & 0.10191083 & 0.1666667 &   0 &   0 & 0.1666667 &   0 &   0 & 0.11578947 & 0.04214559 & 0.04489796 & 0.1666667 & 0.0000000 &   0 & 0.1666667 & 0.0000000 &   0 & 0.1157895 & 0.04214559 & 0.04489796 &   0 &   0 &   0 & 0.1666667 &   0 &   0 & 0.0776699 & 0.1003521 & 0.118705 & 0.25 & 0.45454545 & 0.4166667 & 0.25 & 0.6363636 & 0.5833333 & 0.3769231 & 0.43103448 & 0.35211268 &   0 & 0.00000000 & 0 &   0 & 0.0000000 & 0 &   0 & 0.00000000 & 0 & NaN & NaN & NaN & NaN & NaN & NaN &  NaN &        NaN &        NaN & NA &  3\\\\\n",
       "\\end{tabular}\n"
      ],
      "text/markdown": [
       "\n",
       "A data.table: 6 × 517\n",
       "\n",
       "| DESY_SORT_KEY &lt;int&gt; | first_diagnosis &lt;date&gt; | tot_allowed_carrier &lt;dbl&gt; | office_visit_count &lt;int&gt; | office_visit_cost_carrier &lt;dbl&gt; | cardiology_visit_count &lt;int&gt; | distinct_clinicians &lt;int&gt; | distinct_cardiologists &lt;int&gt; | distinct_primary_care_physicians &lt;int&gt; | distinct_surgeons &lt;int&gt; | distinct_other_specialties &lt;int&gt; | catheterization_count &lt;int&gt; | catheterization_cost_carrier &lt;dbl&gt; | ecg_count &lt;int&gt; | ecg_cost_carrier &lt;dbl&gt; | cardiac_ct_count &lt;int&gt; | cardiac_ct_cost_carrier &lt;dbl&gt; | cardiac_mri_count &lt;int&gt; | cardiac_mri_cost_carrier &lt;dbl&gt; | stress_test_count &lt;int&gt; | stress_test_cost_carrier &lt;dbl&gt; | echocardiography_count &lt;int&gt; | echocardiography_cost_carrier &lt;dbl&gt; | angioplasty_count &lt;int&gt; | angioplasty_cost_carrier &lt;dbl&gt; | CABG_count &lt;int&gt; | CABG_cost_carrier &lt;dbl&gt; | stable_angina &lt;lgl&gt; | unstable_angina &lt;lgl&gt; | MI &lt;lgl&gt; | cardiac_arrest &lt;lgl&gt; | stroke &lt;lgl&gt; | hypertension &lt;lgl&gt; | copd &lt;lgl&gt; | obesity &lt;lgl&gt; | depression &lt;lgl&gt; | diabetes &lt;lgl&gt; | icd_9_pure &lt;lgl&gt; | icd_10_pure &lt;lgl&gt; | catheterization_date &lt;date&gt; | angioplasty_date &lt;date&gt; | catheterization_doc_NPI &lt;chr&gt; | angioplasty_doc_NPI &lt;chr&gt; | diagnosing_doc_NPI &lt;chr&gt; | year_first_diagnosed &lt;dbl&gt; | time_difference_angio_cath &lt;int&gt; | angioplasty_with_cath &lt;lgl&gt; | angioplasty_during_year_after_cath &lt;lgl&gt; | tot_allowed_carrier_cardiology_related &lt;dbl&gt; | office_visit_count_cardiology_related &lt;int&gt; | office_visit_cost_carrier_cardiology_related &lt;dbl&gt; | cardiology_visit_count_cardiology_related &lt;int&gt; | distinct_clinicians_cardiology_related &lt;int&gt; | distinct_cardiologists_cardiology_related &lt;int&gt; | distinct_primary_care_physicians_cardiology_related &lt;int&gt; | distinct_surgeons_cardiology_related &lt;int&gt; | distinct_other_specialties_cardiology_related &lt;int&gt; | catheterization_count_cardiology_related &lt;int&gt; | catheterization_cost_carrier_cardiology_related &lt;dbl&gt; | ecg_count_cardiology_related &lt;int&gt; | ecg_cost_carrier_cardiology_related &lt;dbl&gt; | cardiac_ct_count_cardiology_related &lt;int&gt; | cardiac_ct_cost_carrier_cardiology_related &lt;dbl&gt; | cardiac_mri_count_cardiology_related &lt;int&gt; | cardiac_mri_cost_carrier_cardiology_related &lt;dbl&gt; | stress_test_count_cardiology_related &lt;int&gt; | stress_test_cost_carrier_cardiology_related &lt;dbl&gt; | echocardiography_count_cardiology_related &lt;int&gt; | echocardiography_cost_carrier_cardiology_related &lt;dbl&gt; | angioplasty_count_cardiology_related &lt;int&gt; | angioplasty_cost_carrier_cardiology_related &lt;dbl&gt; | CABG_count_cardiology_related &lt;int&gt; | CABG_cost_carrier_cardiology_related &lt;dbl&gt; | office_visit_cost_outpatient &lt;dbl&gt; | catheterization_cost_outpatient &lt;dbl&gt; | ecg_cost_outpatient &lt;dbl&gt; | cardiac_ct_cost_outpatient &lt;dbl&gt; | cardiac_mri_cost_outpatient &lt;dbl&gt; | stress_test_cost_outpatient &lt;dbl&gt; | echocardiography_cost_outpatient &lt;dbl&gt; | angioplasty_cost_outpatient &lt;dbl&gt; | CABG_cost_outpatient &lt;dbl&gt; | office_visit_cost_outpatient_cardiology_related &lt;dbl&gt; | catheterization_cost_outpatient_cardiology_related &lt;dbl&gt; | ecg_cost_outpatient_cardiology_related &lt;dbl&gt; | cardiac_ct_cost_outpatient_cardiology_related &lt;dbl&gt; | cardiac_mri_cost_outpatient_cardiology_related &lt;dbl&gt; | stress_test_cost_outpatient_cardiology_related &lt;dbl&gt; | echocardiography_cost_outpatient_cardiology_related &lt;dbl&gt; | angioplasty_cost_outpatient_cardiology_related &lt;dbl&gt; | CABG_cost_outpatient_cardiology_related &lt;dbl&gt; | office_visit_cost &lt;dbl&gt; | catheterization_cost &lt;dbl&gt; | ecg_cost &lt;dbl&gt; | cardiac_ct_cost &lt;dbl&gt; | cardiac_mri_cost &lt;dbl&gt; | stress_test_cost &lt;dbl&gt; | echocardiography_cost &lt;dbl&gt; | angioplasty_cost &lt;dbl&gt; | CABG_cost &lt;dbl&gt; | office_visit_cost_cardiology_related &lt;dbl&gt; | catheterization_cost_cardiology_related &lt;dbl&gt; | ecg_cost_cardiology_related &lt;dbl&gt; | cardiac_ct_cost_cardiology_related &lt;dbl&gt; | cardiac_mri_cost_cardiology_related &lt;dbl&gt; | stress_test_cost_cardiology_related &lt;dbl&gt; | echocardiography_cost_cardiology_related &lt;dbl&gt; | angioplasty_cost_cardiology_related &lt;dbl&gt; | CABG_cost_cardiology_related &lt;dbl&gt; | tot_cheap_prcdr_cost &lt;dbl&gt; | tot_expensive_prcdr_cost &lt;dbl&gt; | tot_cheap_prcdr_cost_cardiology_related &lt;dbl&gt; | tot_expensive_prcdr_cost_cardiology_related &lt;dbl&gt; | tot_cheap_prcdr_count &lt;int&gt; | tot_expensive_prcdr_count &lt;int&gt; | tot_cheap_prcdr_count_cardiology_related &lt;int&gt; | tot_expensive_prcdr_count_cardiology_related &lt;int&gt; | REFERENCE_YEAR_2013 &lt;dbl&gt; | STATE_CODE_2013 &lt;chr&gt; | COUNTY_CODE_2013 &lt;chr&gt; | SEX_CODE_2013 &lt;dbl&gt; | RACE_CODE_2013 &lt;dbl&gt; | AGE_2013 &lt;dbl&gt; | ORIG_REASON_FOR_ENTITLEMENT_2013 &lt;dbl&gt; | CURR_REASON_FOR_ENTITLEMENT_2013 &lt;dbl&gt; | ENTITLEMENT_BUY_IN_IND01_2013 &lt;chr&gt; | ENTITLEMENT_BUY_IN_IND02_2013 &lt;chr&gt; | ENTITLEMENT_BUY_IN_IND03_2013 &lt;chr&gt; | ENTITLEMENT_BUY_IN_IND04_2013 &lt;chr&gt; | ENTITLEMENT_BUY_IN_IND05_2013 &lt;chr&gt; | ENTITLEMENT_BUY_IN_IND06_2013 &lt;chr&gt; | ENTITLEMENT_BUY_IN_IND07_2013 &lt;chr&gt; | ENTITLEMENT_BUY_IN_IND08_2013 &lt;chr&gt; | ENTITLEMENT_BUY_IN_IND09_2013 &lt;chr&gt; | ENTITLEMENT_BUY_IN_IND10_2013 &lt;chr&gt; | ENTITLEMENT_BUY_IN_IND11_2013 &lt;chr&gt; | ENTITLEMENT_BUY_IN_IND12_2013 &lt;chr&gt; | HMO_INDICATOR01_2013 &lt;chr&gt; | HMO_INDICATOR02_2013 &lt;chr&gt; | HMO_INDICATOR03_2013 &lt;chr&gt; | HMO_INDICATOR04_2013 &lt;chr&gt; | HMO_INDICATOR05_2013 &lt;chr&gt; | HMO_INDICATOR06_2013 &lt;chr&gt; | HMO_INDICATOR07_2013 &lt;chr&gt; | HMO_INDICATOR08_2013 &lt;chr&gt; | HMO_INDICATOR09_2013 &lt;chr&gt; | HMO_INDICATOR10_2013 &lt;chr&gt; | HMO_INDICATOR11_2013 &lt;chr&gt; | HMO_INDICATOR12_2013 &lt;chr&gt; | VALID_DATE_OF_DEATH_SWITCH_2013 &lt;chr&gt; | ⋯ ⋯ | ENTITLEMENT_BUY_IN_IND05_2020 &lt;chr&gt; | ENTITLEMENT_BUY_IN_IND06_2020 &lt;chr&gt; | ENTITLEMENT_BUY_IN_IND07_2020 &lt;chr&gt; | ENTITLEMENT_BUY_IN_IND08_2020 &lt;chr&gt; | ENTITLEMENT_BUY_IN_IND09_2020 &lt;chr&gt; | ENTITLEMENT_BUY_IN_IND10_2020 &lt;chr&gt; | ENTITLEMENT_BUY_IN_IND11_2020 &lt;chr&gt; | ENTITLEMENT_BUY_IN_IND12_2020 &lt;chr&gt; | HMO_INDICATOR01_2020 &lt;chr&gt; | HMO_INDICATOR02_2020 &lt;chr&gt; | HMO_INDICATOR03_2020 &lt;chr&gt; | HMO_INDICATOR04_2020 &lt;chr&gt; | HMO_INDICATOR05_2020 &lt;chr&gt; | HMO_INDICATOR06_2020 &lt;chr&gt; | HMO_INDICATOR07_2020 &lt;chr&gt; | HMO_INDICATOR08_2020 &lt;chr&gt; | HMO_INDICATOR09_2020 &lt;chr&gt; | HMO_INDICATOR10_2020 &lt;chr&gt; | HMO_INDICATOR11_2020 &lt;chr&gt; | HMO_INDICATOR12_2020 &lt;chr&gt; | VALID_DATE_OF_DEATH_SWITCH_2020 &lt;chr&gt; | DATE_OF_DEATH_2020 &lt;dbl&gt; | deate_of_death_collapsed &lt;date&gt; | death_validity_collapsed &lt;chr&gt; | date_of_death_collapsed &lt;date&gt; | state_code_at_diagnosis &lt;chr&gt; | county_code_at_diagnosis &lt;chr&gt; | sex_code_at_diagnosis &lt;dbl&gt; | race_code_at_diagnosis &lt;dbl&gt; | age_at_diagnosis &lt;dbl&gt; | ENTITLEMENT_BUY_IN_IND_sum &lt;dbl&gt; | HMO_INDICATOR_sum &lt;dbl&gt; | died_in_one_year_after_diagnosis &lt;lgl&gt; | died_in_two_years_after_diagnosis &lt;lgl&gt; | date_difference_diagnosis_death &lt;int&gt; | score &lt;dbl&gt; | index &lt;fct&gt; | wscore &lt;dbl&gt; | windex &lt;fct&gt; | most_common_physician_PRF_PHYSN_NPI &lt;chr&gt; | most_common_physician_n &lt;int&gt; | most_common_physician_PRVDR_SPCLTY &lt;chr&gt; | most_common_primary_care_physician_PRF_PHYSN_NPI &lt;chr&gt; | most_common_primary_care_physician_n &lt;int&gt; | most_common_primary_care_physician_PRVDR_SPCLTY &lt;chr&gt; | most_common_cardiologist_PRF_PHYSN_NPI &lt;chr&gt; | most_common_cardiologist_n &lt;int&gt; | most_common_cardiologist_PRVDR_SPCLTY &lt;chr&gt; | most_common_physician_2013_PRF_PHYSN_NPI &lt;chr&gt; | most_common_physician_2013_n &lt;int&gt; | most_common_physician_2013_PRVDR_SPCLTY &lt;chr&gt; | most_common_primary_care_physician_2013_PRF_PHYSN_NPI &lt;chr&gt; | most_common_primary_care_physician_2013_n &lt;int&gt; | most_common_primary_care_physician_2013_PRVDR_SPCLTY &lt;chr&gt; | most_common_cardiologist_2013_PRF_PHYSN_NPI &lt;chr&gt; | most_common_cardiologist_2013_n &lt;int&gt; | most_common_cardiologist_2013_PRVDR_SPCLTY &lt;chr&gt; | tot_allowed_outpatient &lt;dbl&gt; | tot_allowed_inpatient &lt;dbl&gt; | number_of_hospitalizations &lt;int&gt; | was_hospitalized &lt;lgl&gt; | tot_allowed_outpatient_cardiology_related &lt;dbl&gt; | tot_allowed_inpatient_cardiology_related &lt;dbl&gt; | number_of_hospitalizations_cardiology_related &lt;int&gt; | was_hospitalized_cardiology_related &lt;lgl&gt; | total_exp &lt;dbl&gt; | total_exp_cardiology_related &lt;dbl&gt; | most_common_physician_prp_in_year_of_diagnosis_05_non_exclusive_HCPCS &lt;dbl&gt; | most_common_physician_prp_in_2013_05_non_exclusive_HCPCS &lt;dbl&gt; | most_common_physician_prp_in_year_before_diagnosis_05_non_exclusive_HCPCS &lt;dbl&gt; | most_common_physician_prp_in_year_of_diagnosis_03_non_exclusive_HCPCS &lt;dbl&gt; | most_common_physician_prp_in_2013_03_non_exclusive_HCPCS &lt;dbl&gt; | most_common_physician_prp_in_year_before_diagnosis_03_non_exclusive_HCPCS &lt;dbl&gt; | most_common_physician_avg_in_year_of_diagnosis_non_exclusive_HCPCS &lt;dbl&gt; | most_common_physician_avg_in_2013_non_exclusive_HCPCS &lt;dbl&gt; | most_common_physician_avg_in_year_before_diagnosis_non_exclusive_HCPCS &lt;dbl&gt; | most_common_primary_care_physician_prp_in_year_of_diagnosis_05_non_exclusive_HCPCS &lt;dbl&gt; | most_common_primary_care_physician_prp_in_2013_05_non_exclusive_HCPCS &lt;dbl&gt; | most_common_primary_care_physician_prp_in_year_before_diagnosis_05_non_exclusive_HCPCS &lt;dbl&gt; | most_common_primary_care_physician_prp_in_year_of_diagnosis_03_non_exclusive_HCPCS &lt;dbl&gt; | most_common_primary_care_physician_prp_in_2013_03_non_exclusive_HCPCS &lt;dbl&gt; | most_common_primary_care_physician_prp_in_year_before_diagnosis_03_non_exclusive_HCPCS &lt;dbl&gt; | most_common_primary_care_physician_avg_in_year_of_diagnosis_non_exclusive_HCPCS &lt;dbl&gt; | most_common_primary_care_physician_avg_in_2013_non_exclusive_HCPCS &lt;dbl&gt; | most_common_primary_care_physician_avg_in_year_before_diagnosis_non_exclusive_HCPCS &lt;dbl&gt; | most_common_cardiologist_prp_in_year_of_diagnosis_05_non_exclusive_HCPCS &lt;dbl&gt; | most_common_cardiologist_prp_in_2013_05_non_exclusive_HCPCS &lt;dbl&gt; | most_common_cardiologist_prp_in_year_before_diagnosis_05_non_exclusive_HCPCS &lt;dbl&gt; | most_common_cardiologist_prp_in_year_of_diagnosis_03_non_exclusive_HCPCS &lt;dbl&gt; | most_common_cardiologist_prp_in_2013_03_non_exclusive_HCPCS &lt;dbl&gt; | most_common_cardiologist_prp_in_year_before_diagnosis_03_non_exclusive_HCPCS &lt;dbl&gt; | most_common_cardiologist_avg_in_year_of_diagnosis_non_exclusive_HCPCS &lt;dbl&gt; | most_common_cardiologist_avg_in_2013_non_exclusive_HCPCS &lt;dbl&gt; | most_common_cardiologist_avg_in_year_before_diagnosis_non_exclusive_HCPCS &lt;dbl&gt; | diagnosing_doc_prp_in_year_of_diagnosis_05_non_exclusive_HCPCS &lt;dbl&gt; | diagnosing_doc_prp_in_2013_05_non_exclusive_HCPCS &lt;dbl&gt; | diagnosing_doc_prp_in_year_before_diagnosis_05_non_exclusive_HCPCS &lt;dbl&gt; | diagnosing_doc_prp_in_year_of_diagnosis_03_non_exclusive_HCPCS &lt;dbl&gt; | diagnosing_doc_prp_in_2013_03_non_exclusive_HCPCS &lt;dbl&gt; | diagnosing_doc_prp_in_year_before_diagnosis_03_non_exclusive_HCPCS &lt;dbl&gt; | diagnosing_doc_avg_in_year_of_diagnosis_non_exclusive_HCPCS &lt;dbl&gt; | diagnosing_doc_avg_in_2013_non_exclusive_HCPCS &lt;dbl&gt; | diagnosing_doc_avg_in_year_before_diagnosis_non_exclusive_HCPCS &lt;dbl&gt; | catheterization_doc_prp_in_year_of_diagnosis_05_non_exclusive_HCPCS &lt;dbl&gt; | catheterization_doc_prp_in_2013_05_non_exclusive_HCPCS &lt;dbl&gt; | catheterization_doc_prp_in_year_before_diagnosis_05_non_exclusive_HCPCS &lt;dbl&gt; | catheterization_doc_prp_in_year_of_diagnosis_03_non_exclusive_HCPCS &lt;dbl&gt; | catheterization_doc_prp_in_2013_03_non_exclusive_HCPCS &lt;dbl&gt; | catheterization_doc_prp_in_year_before_diagnosis_03_non_exclusive_HCPCS &lt;dbl&gt; | catheterization_doc_avg_in_year_of_diagnosis_non_exclusive_HCPCS &lt;dbl&gt; | catheterization_doc_avg_in_2013_non_exclusive_HCPCS &lt;dbl&gt; | catheterization_doc_avg_in_year_before_diagnosis_non_exclusive_HCPCS &lt;dbl&gt; | angioplasty_doc_prp_in_year_of_diagnosis_05_non_exclusive_HCPCS &lt;dbl&gt; | angioplasty_doc_prp_in_2013_05_non_exclusive_HCPCS &lt;dbl&gt; | angioplasty_doc_prp_in_year_before_diagnosis_05_non_exclusive_HCPCS &lt;dbl&gt; | angioplasty_doc_prp_in_year_of_diagnosis_03_non_exclusive_HCPCS &lt;dbl&gt; | angioplasty_doc_prp_in_2013_03_non_exclusive_HCPCS &lt;dbl&gt; | angioplasty_doc_prp_in_year_before_diagnosis_03_non_exclusive_HCPCS &lt;dbl&gt; | angioplasty_doc_avg_in_year_of_diagnosis_non_exclusive_HCPCS &lt;dbl&gt; | angioplasty_doc_avg_in_2013_non_exclusive_HCPCS &lt;dbl&gt; | angioplasty_doc_avg_in_year_before_diagnosis_non_exclusive_HCPCS &lt;dbl&gt; | most_common_physician_2013_prp_in_year_of_diagnosis_05_non_exclusive_HCPCS &lt;dbl&gt; | most_common_physician_2013_prp_in_2013_05_non_exclusive_HCPCS &lt;dbl&gt; | most_common_physician_2013_prp_in_year_before_diagnosis_05_non_exclusive_HCPCS &lt;dbl&gt; | most_common_physician_2013_prp_in_year_of_diagnosis_03_non_exclusive_HCPCS &lt;dbl&gt; | most_common_physician_2013_prp_in_2013_03_non_exclusive_HCPCS &lt;dbl&gt; | most_common_physician_2013_prp_in_year_before_diagnosis_03_non_exclusive_HCPCS &lt;dbl&gt; | most_common_physician_2013_avg_in_year_of_diagnosis_non_exclusive_HCPCS &lt;dbl&gt; | most_common_physician_2013_avg_in_2013_non_exclusive_HCPCS &lt;dbl&gt; | most_common_physician_2013_avg_in_year_before_diagnosis_non_exclusive_HCPCS &lt;dbl&gt; | most_common_primary_care_physician_2013_prp_in_year_of_diagnosis_05_non_exclusive_HCPCS &lt;dbl&gt; | most_common_primary_care_physician_2013_prp_in_2013_05_non_exclusive_HCPCS &lt;dbl&gt; | most_common_primary_care_physician_2013_prp_in_year_before_diagnosis_05_non_exclusive_HCPCS &lt;dbl&gt; | most_common_primary_care_physician_2013_prp_in_year_of_diagnosis_03_non_exclusive_HCPCS &lt;dbl&gt; | most_common_primary_care_physician_2013_prp_in_2013_03_non_exclusive_HCPCS &lt;dbl&gt; | most_common_primary_care_physician_2013_prp_in_year_before_diagnosis_03_non_exclusive_HCPCS &lt;dbl&gt; | most_common_primary_care_physician_2013_avg_in_year_of_diagnosis_non_exclusive_HCPCS &lt;dbl&gt; | most_common_primary_care_physician_2013_avg_in_2013_non_exclusive_HCPCS &lt;dbl&gt; | most_common_primary_care_physician_2013_avg_in_year_before_diagnosis_non_exclusive_HCPCS &lt;dbl&gt; | most_common_cardiologist_2013_prp_in_year_of_diagnosis_05_non_exclusive_HCPCS &lt;dbl&gt; | most_common_cardiologist_2013_prp_in_2013_05_non_exclusive_HCPCS &lt;dbl&gt; | most_common_cardiologist_2013_prp_in_year_before_diagnosis_05_non_exclusive_HCPCS &lt;dbl&gt; | most_common_cardiologist_2013_prp_in_year_of_diagnosis_03_non_exclusive_HCPCS &lt;dbl&gt; | most_common_cardiologist_2013_prp_in_2013_03_non_exclusive_HCPCS &lt;dbl&gt; | most_common_cardiologist_2013_prp_in_year_before_diagnosis_03_non_exclusive_HCPCS &lt;dbl&gt; | most_common_cardiologist_2013_avg_in_year_of_diagnosis_non_exclusive_HCPCS &lt;dbl&gt; | most_common_cardiologist_2013_avg_in_2013_non_exclusive_HCPCS &lt;dbl&gt; | most_common_cardiologist_2013_avg_in_year_before_diagnosis_non_exclusive_HCPCS &lt;dbl&gt; | MI_date &lt;date&gt; | RUCC_2013 &lt;dbl&gt; |\n",
       "|---|---|---|---|---|---|---|---|---|---|---|---|---|---|---|---|---|---|---|---|---|---|---|---|---|---|---|---|---|---|---|---|---|---|---|---|---|---|---|---|---|---|---|---|---|---|---|---|---|---|---|---|---|---|---|---|---|---|---|---|---|---|---|---|---|---|---|---|---|---|---|---|---|---|---|---|---|---|---|---|---|---|---|---|---|---|---|---|---|---|---|---|---|---|---|---|---|---|---|---|---|---|---|---|---|---|---|---|---|---|---|---|---|---|---|---|---|---|---|---|---|---|---|---|---|---|---|---|---|---|---|---|---|---|---|---|---|---|---|---|---|---|---|---|---|---|---|---|---|---|---|---|---|---|---|---|---|---|---|---|---|---|---|---|---|---|---|---|---|---|---|---|---|---|---|---|---|---|---|---|---|---|---|---|---|---|---|---|---|---|---|---|---|---|---|---|---|---|---|---|---|---|---|---|---|---|---|---|---|---|---|---|---|---|---|---|---|---|---|---|---|---|---|---|---|---|---|---|---|---|---|---|---|---|---|---|---|---|---|---|---|---|---|---|---|---|---|---|---|---|---|---|---|---|---|---|---|---|---|---|---|---|---|---|---|---|---|---|---|---|---|---|---|---|---|---|---|---|---|---|---|---|---|---|---|---|---|---|---|---|---|---|---|---|---|---|---|---|---|---|---|\n",
       "| 100004643 | 2018-07-24 |  2164.96 |  2 |  209.35 |  2 |  5 | 1 | 0 | 0 |  4 | 0 |   0.00 |  1 |  16.26 | 0 | 0 | 0 | 0 | 1 | 60.06 | 0 |   0.0 | 0 |   0.00 | 0 | 0 | TRUE | FALSE | FALSE | FALSE | FALSE |  TRUE | FALSE | FALSE | FALSE | FALSE | FALSE |  TRUE | NA | NA | NA         | NA         | 1922000801 | 2018 | NA |    NA |   NA | 1098.55 | 1 | 104.30 | 1 |  5 | 1 | 0 | 0 | 4 | 0 |   0.00 | 1 | 16.26 | 0 | 0 | 0 | 0 | 0 |  0.00 | 0 |   0.00 | 0 |   0.00 | 0 | 0 | 0 | 0 |   0.00 | 0 | 0 | 0 | 0 | 0 | 0 | 0 | 0 |   0.0 | 0 | 0 | 0 | 0 | 0 | 0 |  209.35 |   0.00 |  16.26 | 0 | 0 | 60.06 |   0.0 |   0.00 | 0 | 104.30 |   0.00 |  16.26 | 0 | 0 |  0.00 |   0.00 |   0.00 | 0 |  269.41 |    0.00 | 104.30 |    0.00 |  3 | 0 | 1 | 0 | 13 | 34 | 240 | 2 | 1 | 77 | 0 | 0 | 3 | 3 | 3 | 3 | 3 | 3 | 3 | 3 | 3 | 3 | 3 | 3 | 0 | 0 | 0 | 0 | 0 | 0 | 0 | 0 | 0 | 0 | 0 | 0 | NA | ⋯ | 3  | 3  | 3  | 3  | 3  | 3  | 3  | 3  | 0  | 0  | 0  | 0  | 0  | 0  | 0  | 0  | 0  | 0  | 0  | 0  | NA |       NA | NA | FALSE | NA | 19 | 270 | 2 | 1 | 82 | 12 | 12 | FALSE | FALSE |   NA | 1 | 1-2 | 1 | 1-2 | 1922000801 |  2 | 06 | NA         | NA | NA | 1922000801 |  2 | 06 | 1639140775 |  2 | 11 | 1639140775 | 2 | 11 | NA         | NA | NA |      0.00 |      0.00 | 0 | FALSE |   0.0 |      0.0 | 0 | FALSE |   2164.96 |   1098.55 | 0.00000000 |   0 |   0 | 0.00000000 | 0.00 | 0.0000000 | 0.04925054 | 0.06811989 | 0.07415254 | NaN | NaN | NaN | NaN | NaN | NaN | NaN | NaN | NaN | 0.00000000 | 0.00000000 | 0.00000000 | 0.00000000 | 0.00000000 | 0.00000000 | 0.04925054 | 0.06811989 | 0.07415254 | 0.0000000 |   0 |   0 | 0.0000000 |   0 |   0 | 0.04925054 | 0.06811989 | 0.07415254 |       NaN |       NaN | NaN |       NaN |       NaN | NaN |       NaN |        NaN |        NaN | NaN | NaN | NaN |       NaN | NaN | NaN |       NaN |       NaN |      NaN | 0.00 | 0.08333333 | 0.0000000 | 0.00 | 0.1666667 | 0.0000000 | 0.0000000 | 0.12643678 | 0.00000000 |   0 | 0.08333333 | 0 |   0 | 0.1666667 | 0 |   0 | 0.12643678 | 0 | NaN | NaN | NaN | NaN | NaN | NaN |  NaN |        NaN |        NaN | NA |  2 |\n",
       "| 100005675 | 2020-07-06 |  4598.06 |  0 |    0.00 |  0 | 20 | 5 | 1 | 1 | 13 | 1 | 166.66 |  5 |  44.60 | 0 | 0 | 0 | 0 | 0 |  0.00 | 2 | 154.9 | 0 |   0.00 | 0 | 0 | TRUE | FALSE | FALSE | FALSE | FALSE | FALSE | FALSE | FALSE | FALSE | FALSE | FALSE |  TRUE | 2020-07-13 | NA | 1538172747 | NA         | 1477715811 | 2020 | NA |    NA |   NA | 2699.46 | 0 |   0.00 | 0 | 10 | 3 | 0 | 1 | 6 | 1 | 166.66 | 1 |  8.92 | 0 | 0 | 0 | 0 | 0 |  0.00 | 2 | 154.90 | 0 |   0.00 | 0 | 0 | 0 | 0 |   0.00 | 0 | 0 | 0 | 0 | 0 | 0 | 0 | 0 |   0.0 | 0 | 0 | 0 | 0 | 0 | 0 |    0.00 | 166.66 |  44.60 | 0 | 0 |  0.00 | 154.9 |   0.00 | 0 |   0.00 | 166.66 |   8.92 | 0 | 0 |  0.00 | 154.90 |   0.00 | 0 |  154.90 |  166.66 | 154.90 |  166.66 |  2 | 1 | 2 | 1 | 13 | 22 | 010 | 2 | 1 | 76 | 0 | 0 | 3 | 3 | 3 | 3 | 3 | 3 | 3 | 3 | 3 | 3 | 3 | 3 | 0 | 0 | 0 | 0 | 0 | 0 | 0 | 0 | 0 | 0 | 0 | 0 | NA | ⋯ | 3  | 3  | 3  | 0  | 0  | 0  | 0  | 0  | 0  | 0  | 0  | 0  | 0  | 0  | 0  | 0  | 0  | 0  | 0  | 0  | V  | 20200715 | 2020-07-15 | TRUE  | 2020-07-15 | 22 | 010 | 2 | 1 | 83 |  1 |  6 |    NA |    NA |    9 | 2 | 1-2 | 2 | 1-2 | NA         | NA | NA | NA         | NA | NA | NA         | NA | NA | 1558377663 |  5 | 11 | 1558377663 | 5 | 11 | NA         | NA | NA |      0.00 | 250422.85 | 1 |  TRUE |   0.0 | 250422.9 | 1 |  TRUE | 255020.91 | 253122.31 |        NaN | NaN | NaN |        NaN |  NaN |       NaN |        NaN |        NaN |        NaN | NaN | NaN | NaN | NaN | NaN | NaN | NaN | NaN | NaN |        NaN |        NaN |        NaN |        NaN |        NaN |        NaN |        NaN |        NaN |        NaN | 1.0000000 | NaN |   1 | 1.0000000 | NaN |   1 | 0.84615385 |        NaN | 0.85416667 | 1.0000000 | 0.1428571 |   1 | 1.0000000 | 0.2857143 |   1 | 1.0000000 | 0.20000000 | 1.00000000 | NaN | NaN | NaN |       NaN | NaN | NaN |       NaN |       NaN |      NaN |  NaN | 0.00000000 | 0.0000000 |  NaN | 0.0000000 | 0.0000000 |       NaN | 0.05555556 | 0.00000000 | NaN | 0.00000000 | 0 | NaN | 0.0000000 | 0 | NaN | 0.05555556 | 0 | NaN | NaN | NaN | NaN | NaN | NaN |  NaN |        NaN |        NaN | NA |  3 |\n",
       "| 100007109 | 2013-12-26 |  2257.14 | 19 | 1460.80 |  1 | 10 | 1 | 2 | 3 |  4 | 0 |   0.00 |  1 |  19.98 | 0 | 0 | 0 | 0 | 0 |  0.00 | 0 |   0.0 | 0 |   0.00 | 0 | 0 | TRUE | FALSE | FALSE | FALSE | FALSE |  TRUE | FALSE | FALSE | FALSE |  TRUE |  TRUE | FALSE | NA | NA | NA         | NA         | 1922185792 | 2013 | NA |    NA |   NA |  871.19 | 8 | 761.97 | 1 |  4 | 1 | 2 | 0 | 1 | 0 |   0.00 | 1 | 19.98 | 0 | 0 | 0 | 0 | 0 |  0.00 | 0 |   0.00 | 0 |   0.00 | 0 | 0 | 0 | 0 |   0.00 | 0 | 0 | 0 | 0 | 0 | 0 | 0 | 0 |   0.0 | 0 | 0 | 0 | 0 | 0 | 0 | 1460.80 |   0.00 |  19.98 | 0 | 0 |  0.00 |   0.0 |   0.00 | 0 | 761.97 |   0.00 |  19.98 | 0 | 0 |  0.00 |   0.00 |   0.00 | 0 | 1460.80 |    0.00 | 761.97 |    0.00 | 19 | 0 | 8 | 0 | 13 | 07 | 040 | 1 | 1 | 76 | 0 | 0 | B | B | B | B | B | B | B | B | B | B | B | B | 0 | 0 | 0 | 0 | 0 | 0 | 0 | 0 | 0 | 0 | 0 | 0 | NA | ⋯ | 0  | 0  | 0  | 0  | 0  | 0  | 0  | 0  | 0  | 0  | 0  | 0  | 0  | 0  | 0  | 0  | 0  | 0  | 0  | 0  | V  | 20200306 | 2020-03-06 | TRUE  | 2020-03-06 | 07 | 040 | 1 | 1 | 76 |  0 | 12 | FALSE | FALSE | 2262 | 2 | 1-2 | 3 | 3-4 | 1922185792 | 10 | 11 | 1922185792 | 10 | 11 | 1235111857 |  1 | 06 | 1922185792 |  6 | 11 | 1922185792 | 6 | 11 | 1356323349 |  2 | 06 |   1078.50 |      0.00 | 0 | FALSE |   0.0 |      0.0 | 0 | FALSE |   3335.64 |    871.19 | 0.00000000 |   0 |   0 | 0.00000000 | 0.00 | 0.0000000 | 0.00000000 | 0.00000000 | 0.00000000 |   0 |   0 |   0 |   0 |   0 |   0 |   0 |   0 |   0 | 0.00000000 | 0.08333333 | 0.08333333 | 0.00000000 | 0.08333333 | 0.08333333 | 0.00000000 | 0.06306306 | 0.06306306 | 0.0000000 |   0 |   0 | 0.0000000 |   0 |   0 | 0.00000000 | 0.00000000 | 0.00000000 |       NaN |       NaN | NaN |       NaN |       NaN | NaN |       NaN |        NaN |        NaN | NaN | NaN | NaN |       NaN | NaN | NaN |       NaN |       NaN |      NaN | 0.00 | 0.00000000 | 0.0000000 | 0.00 | 0.0000000 | 0.0000000 | 0.0000000 | 0.00000000 | 0.00000000 |   0 | 0.00000000 | 0 |   0 | 0.0000000 | 0 |   0 | 0.00000000 | 0 | NaN |   0 |   0 | NaN |   0 |   0 |  NaN | 0.00000000 | 0.00000000 | NA | NA |\n",
       "| 100008015 | 2013-02-18 | 13622.46 | 39 | 1909.86 | 28 | 26 | 3 | 5 | 4 | 14 | 0 |   0.00 |  6 |  92.64 | 0 | 0 | 0 | 0 | 1 | 83.54 | 0 |   0.0 | 0 |   0.00 | 0 | 0 | TRUE | FALSE | FALSE | FALSE | FALSE |  TRUE | FALSE | FALSE | FALSE | FALSE |  TRUE | FALSE | NA | NA | NA         | NA         | 1205894102 | 2013 | NA |    NA |   NA | 2126.04 | 6 | 576.64 | 4 |  5 | 2 | 1 | 0 | 2 | 0 |   0.00 | 4 | 75.81 | 0 | 0 | 0 | 0 | 1 | 83.54 | 0 |   0.00 | 0 |   0.00 | 0 | 0 | 0 | 0 |   0.00 | 0 | 0 | 0 | 0 | 0 | 0 | 0 | 0 |   0.0 | 0 | 0 | 0 | 0 | 0 | 0 | 1909.86 |   0.00 |  92.64 | 0 | 0 | 83.54 |   0.0 |   0.00 | 0 | 576.64 |   0.00 |  75.81 | 0 | 0 | 83.54 |   0.00 |   0.00 | 0 | 1993.40 |    0.00 | 660.18 |    0.00 | 40 | 0 | 7 | 0 | 13 | 22 | 130 | 1 | 1 | 76 | 0 | 0 | 3 | 3 | 3 | 3 | 3 | 3 | 3 | 3 | 3 | 3 | 3 | 3 | 0 | 0 | 0 | 0 | 0 | 0 | 0 | 0 | 0 | 0 | 0 | 0 | NA | ⋯ | 3  | 3  | 3  | 3  | 3  | 3  | 3  | 3  | 0  | 0  | 0  | 0  | 0  | 0  | 0  | 0  | 0  | 0  | 0  | 0  | NA |       NA | NA | FALSE | NA | 22 | 130 | 1 | 1 | 76 | 12 | 12 | FALSE | FALSE |   NA | 0 | 0   | 0 | 0   | 1013994185 | 28 | 06 | 1417934522 |  2 | 11 | 1013994185 | 28 | 06 | 1013994185 | 27 | 06 | 1417934522 | 2 | 11 | 1013994185 | 27 | 06 |   7092.44 |  18795.06 | 1 |  TRUE |   0.0 |      0.0 | 0 | FALSE |  39509.96 |   2126.04 | 0.00000000 |   0 |   0 | 0.00000000 | 0.00 | 0.0000000 | 0.10000000 | 0.08108108 | 0.05263158 |   0 |   0 |   0 |   0 |   0 |   0 |   0 |   0 |   0 | 0.00000000 | 0.00000000 | 0.00000000 | 0.00000000 | 0.00000000 | 0.00000000 | 0.10000000 | 0.08108108 | 0.05263158 |       NaN | NaN | NaN |       NaN | NaN | NaN |        NaN |        NaN |        NaN |       NaN |       NaN | NaN |       NaN |       NaN | NaN |       NaN |        NaN |        NaN | NaN | NaN | NaN |       NaN | NaN | NaN |       NaN |       NaN |      NaN | 0.00 | 0.00000000 | 0.0000000 | 0.00 | 0.0000000 | 0.0000000 | 0.1000000 | 0.08108108 | 0.05263158 |   0 | 0.00000000 | 0 |   0 | 0.0000000 | 0 |   0 | 0.00000000 | 0 |   0 |   0 |   0 |   0 |   0 |   0 | 0.10 | 0.08108108 | 0.05263158 | NA |  1 |\n",
       "| 100008543 | 2014-04-16 |  2149.56 | 12 |  869.89 |  2 | 22 | 4 | 5 | 1 | 12 | 0 |   0.00 |  3 |  25.29 | 0 | 0 | 0 | 0 | 0 |  0.00 | 0 |   0.0 | 0 |   0.00 | 0 | 0 | TRUE | FALSE | FALSE | FALSE | FALSE | FALSE | FALSE | FALSE | FALSE | FALSE |  TRUE | FALSE | NA | NA | NA         | NA         | 1033107701 | 2014 | NA |    NA |   NA |  178.71 | 2 | 146.81 | 1 |  4 | 3 | 1 | 0 | 0 | 0 |   0.00 | 0 |  0.00 | 0 | 0 | 0 | 0 | 0 |  0.00 | 0 |   0.00 | 0 |   0.00 | 0 | 0 | 0 | 0 | 490.65 | 0 | 0 | 0 | 0 | 0 | 0 | 0 | 0 | 126.3 | 0 | 0 | 0 | 0 | 0 | 0 |  869.89 |   0.00 | 515.94 | 0 | 0 |  0.00 |   0.0 |   0.00 | 0 | 146.81 |   0.00 | 126.30 | 0 | 0 |  0.00 |   0.00 |   0.00 | 0 |  869.89 |    0.00 | 146.81 |    0.00 | 12 | 0 | 2 | 0 | 13 | 49 | 090 | 1 | 1 | 76 | 0 | 0 | 3 | 3 | 3 | 3 | 3 | 3 | 3 | 3 | 3 | 3 | 3 | 3 | 0 | 0 | 0 | 0 | 0 | 0 | 0 | 0 | 0 | 0 | 0 | 0 | NA | ⋯ | 0  | 0  | 0  | 0  | 0  | 0  | 0  | 0  | 0  | 0  | 0  | 0  | 0  | 0  | 0  | 0  | 0  | 0  | 0  | 0  | V  | 20200206 | 2020-02-06 | TRUE  | 2020-02-06 | 49 | 090 | 1 | 1 | 77 | 12 | 12 | FALSE | FALSE | 2122 | 0 | 0   | 0 | 0   | 1033107701 |  4 | 08 | 1033107701 |  4 | 08 | 1700860954 |  2 | 06 | 1033107701 |  7 | 08 | 1033107701 | 7 | 08 | 1700860954 |  3 | 06 |   6337.03 |      0.00 | 0 | FALSE | 372.6 |      0.0 | 0 | FALSE |   8486.59 |    551.31 | 0.00000000 |   0 |   0 | 0.00000000 | 0.00 | 0.0000000 | 0.00000000 | 0.00000000 | 0.00000000 |   0 |   0 |   0 |   0 |   0 |   0 |   0 |   0 |   0 | 1.00000000 | 1.00000000 | 1.00000000 | 1.00000000 | 1.00000000 | 1.00000000 | 0.86000000 | 0.84375000 | 0.77906977 | 0.0000000 |   0 |   0 | 0.0000000 |   0 |   0 | 0.00000000 | 0.00000000 | 0.00000000 |       NaN |       NaN | NaN |       NaN |       NaN | NaN |       NaN |        NaN |        NaN | NaN | NaN | NaN |       NaN | NaN | NaN |       NaN |       NaN |      NaN | 0.00 | 0.00000000 | 0.0000000 | 0.00 | 0.0000000 | 0.0000000 | 0.0000000 | 0.00000000 | 0.00000000 |   0 | 0.00000000 | 0 |   0 | 0.0000000 | 0 |   0 | 0.00000000 | 0 |   1 |   1 |   1 |   1 |   1 |   1 | 0.86 | 0.84375000 | 0.77906977 | NA |  2 |\n",
       "| 100010653 | 2014-02-14 | 16861.51 | 16 | 1376.90 |  4 | 49 | 9 | 7 | 2 | 31 | 1 | 345.44 | 12 | 114.88 | 0 | 0 | 0 | 0 | 0 |  0.00 | 2 | 133.1 | 2 | 991.67 | 0 | 0 | TRUE |  TRUE | FALSE | FALSE | FALSE | FALSE |  TRUE | FALSE | FALSE | FALSE |  TRUE | FALSE | 2014-02-14 | 2014-02-24 | 1790758688 | 1114990025 | 1790758688 | 2014 | 10 | FALSE | TRUE | 3309.14 | 3 | 258.31 | 2 | 13 | 7 | 2 | 1 | 3 | 1 | 345.44 | 5 | 36.15 | 0 | 0 | 0 | 0 | 0 |  0.00 | 1 |  66.55 | 2 | 991.67 | 0 | 0 | 0 | 0 |   0.00 | 0 | 0 | 0 | 0 | 0 | 0 | 0 | 0 |   0.0 | 0 | 0 | 0 | 0 | 0 | 0 | 1376.90 | 345.44 | 114.88 | 0 | 0 |  0.00 | 133.1 | 991.67 | 0 | 258.31 | 345.44 |  36.15 | 0 | 0 |  0.00 |  66.55 | 991.67 | 0 | 1510.00 | 1337.11 | 324.86 | 1337.11 | 18 | 3 | 4 | 3 | 13 | 33 | 740 | 2 | 1 | 76 | 0 | 0 | 3 | 3 | 3 | 3 | 3 | 3 | 3 | 3 | 3 | 3 | 3 | 3 | 0 | 0 | 0 | 0 | 0 | 0 | 0 | 0 | 0 | 0 | 0 | 0 | NA | ⋯ | NA | NA | NA | NA | NA | NA | NA | NA | NA | NA | NA | NA | NA | NA | NA | NA | NA | NA | NA | NA | NA |       NA | 2018-05-29 | TRUE  | 2018-05-29 | 33 | 740 | 2 | 1 | 77 | 12 | 12 | FALSE | FALSE | 1565 | 3 | 3-4 | 4 | 3-4 | 1801899877 |  4 | 06 | 1518020502 |  2 | 11 | 1801899877 |  4 | 06 | 1023073103 |  3 | 29 | 1518020502 | 2 | 11 | NA         | NA | NA | 176109.78 | 311264.38 | 4 |  TRUE |   0.0 |      0.0 | 0 | FALSE | 504235.67 |   3309.14 | 0.08333333 |   0 |   0 | 0.08333333 | 0.25 | 0.1666667 | 0.08031088 | 0.15428571 | 0.10191083 |   0 |   0 |   0 |   0 |   0 |   0 |   0 |   0 |   0 | 0.08333333 | 0.00000000 | 0.00000000 | 0.08333333 | 0.25000000 | 0.16666667 | 0.08031088 | 0.15428571 | 0.10191083 | 0.1666667 |   0 |   0 | 0.1666667 |   0 |   0 | 0.11578947 | 0.04214559 | 0.04489796 | 0.1666667 | 0.0000000 |   0 | 0.1666667 | 0.0000000 |   0 | 0.1157895 | 0.04214559 | 0.04489796 |   0 |   0 |   0 | 0.1666667 |   0 |   0 | 0.0776699 | 0.1003521 | 0.118705 | 0.25 | 0.45454545 | 0.4166667 | 0.25 | 0.6363636 | 0.5833333 | 0.3769231 | 0.43103448 | 0.35211268 |   0 | 0.00000000 | 0 |   0 | 0.0000000 | 0 |   0 | 0.00000000 | 0 | NaN | NaN | NaN | NaN | NaN | NaN |  NaN |        NaN |        NaN | NA |  3 |\n",
       "\n"
      ],
      "text/plain": [
       "  DESY_SORT_KEY first_diagnosis tot_allowed_carrier office_visit_count office_visit_cost_carrier cardiology_visit_count distinct_clinicians distinct_cardiologists distinct_primary_care_physicians distinct_surgeons distinct_other_specialties catheterization_count catheterization_cost_carrier\n",
       "1 100004643     2018-07-24       2164.96             2                  209.35                    2                      5                  1                      0                                0                  4                         0                       0.00                      \n",
       "2 100005675     2020-07-06       4598.06             0                    0.00                    0                     20                  5                      1                                1                 13                         1                     166.66                      \n",
       "3 100007109     2013-12-26       2257.14            19                 1460.80                    1                     10                  1                      2                                3                  4                         0                       0.00                      \n",
       "4 100008015     2013-02-18      13622.46            39                 1909.86                   28                     26                  3                      5                                4                 14                         0                       0.00                      \n",
       "5 100008543     2014-04-16       2149.56            12                  869.89                    2                     22                  4                      5                                1                 12                         0                       0.00                      \n",
       "6 100010653     2014-02-14      16861.51            16                 1376.90                    4                     49                  9                      7                                2                 31                         1                     345.44                      \n",
       "  ecg_count ecg_cost_carrier cardiac_ct_count cardiac_ct_cost_carrier cardiac_mri_count cardiac_mri_cost_carrier stress_test_count stress_test_cost_carrier echocardiography_count echocardiography_cost_carrier angioplasty_count angioplasty_cost_carrier CABG_count CABG_cost_carrier stable_angina\n",
       "1  1         16.26           0                0                       0                 0                        1                 60.06                    0                        0.0                         0                   0.00                   0          0                 TRUE         \n",
       "2  5         44.60           0                0                       0                 0                        0                  0.00                    2                      154.9                         0                   0.00                   0          0                 TRUE         \n",
       "3  1         19.98           0                0                       0                 0                        0                  0.00                    0                        0.0                         0                   0.00                   0          0                 TRUE         \n",
       "4  6         92.64           0                0                       0                 0                        1                 83.54                    0                        0.0                         0                   0.00                   0          0                 TRUE         \n",
       "5  3         25.29           0                0                       0                 0                        0                  0.00                    0                        0.0                         0                   0.00                   0          0                 TRUE         \n",
       "6 12        114.88           0                0                       0                 0                        0                  0.00                    2                      133.1                         2                 991.67                   0          0                 TRUE         \n",
       "  unstable_angina MI    cardiac_arrest stroke hypertension copd  obesity depression diabetes icd_9_pure icd_10_pure catheterization_date angioplasty_date catheterization_doc_NPI angioplasty_doc_NPI diagnosing_doc_NPI year_first_diagnosed time_difference_angio_cath angioplasty_with_cath\n",
       "1 FALSE           FALSE FALSE          FALSE   TRUE        FALSE FALSE   FALSE      FALSE    FALSE       TRUE       <NA>                 <NA>             NA                      NA                  1922000801         2018                 NA                            NA                \n",
       "2 FALSE           FALSE FALSE          FALSE  FALSE        FALSE FALSE   FALSE      FALSE    FALSE       TRUE       2020-07-13           <NA>             1538172747              NA                  1477715811         2020                 NA                            NA                \n",
       "3 FALSE           FALSE FALSE          FALSE   TRUE        FALSE FALSE   FALSE       TRUE     TRUE      FALSE       <NA>                 <NA>             NA                      NA                  1922185792         2013                 NA                            NA                \n",
       "4 FALSE           FALSE FALSE          FALSE   TRUE        FALSE FALSE   FALSE      FALSE     TRUE      FALSE       <NA>                 <NA>             NA                      NA                  1205894102         2013                 NA                            NA                \n",
       "5 FALSE           FALSE FALSE          FALSE  FALSE        FALSE FALSE   FALSE      FALSE     TRUE      FALSE       <NA>                 <NA>             NA                      NA                  1033107701         2014                 NA                            NA                \n",
       "6  TRUE           FALSE FALSE          FALSE  FALSE         TRUE FALSE   FALSE      FALSE     TRUE      FALSE       2014-02-14           2014-02-24       1790758688              1114990025          1790758688         2014                 10                         FALSE                \n",
       "  angioplasty_during_year_after_cath tot_allowed_carrier_cardiology_related office_visit_count_cardiology_related office_visit_cost_carrier_cardiology_related cardiology_visit_count_cardiology_related distinct_clinicians_cardiology_related distinct_cardiologists_cardiology_related\n",
       "1   NA                               1098.55                                1                                     104.30                                       1                                          5                                     1                                        \n",
       "2   NA                               2699.46                                0                                       0.00                                       0                                         10                                     3                                        \n",
       "3   NA                                871.19                                8                                     761.97                                       1                                          4                                     1                                        \n",
       "4   NA                               2126.04                                6                                     576.64                                       4                                          5                                     2                                        \n",
       "5   NA                                178.71                                2                                     146.81                                       1                                          4                                     3                                        \n",
       "6 TRUE                               3309.14                                3                                     258.31                                       2                                         13                                     7                                        \n",
       "  distinct_primary_care_physicians_cardiology_related distinct_surgeons_cardiology_related distinct_other_specialties_cardiology_related catheterization_count_cardiology_related catheterization_cost_carrier_cardiology_related ecg_count_cardiology_related ecg_cost_carrier_cardiology_related\n",
       "1 0                                                   0                                    4                                             0                                          0.00                                          1                            16.26                              \n",
       "2 0                                                   1                                    6                                             1                                        166.66                                          1                             8.92                              \n",
       "3 2                                                   0                                    1                                             0                                          0.00                                          1                            19.98                              \n",
       "4 1                                                   0                                    2                                             0                                          0.00                                          4                            75.81                              \n",
       "5 1                                                   0                                    0                                             0                                          0.00                                          0                             0.00                              \n",
       "6 2                                                   1                                    3                                             1                                        345.44                                          5                            36.15                              \n",
       "  cardiac_ct_count_cardiology_related cardiac_ct_cost_carrier_cardiology_related cardiac_mri_count_cardiology_related cardiac_mri_cost_carrier_cardiology_related stress_test_count_cardiology_related stress_test_cost_carrier_cardiology_related echocardiography_count_cardiology_related\n",
       "1 0                                   0                                          0                                    0                                           0                                     0.00                                       0                                        \n",
       "2 0                                   0                                          0                                    0                                           0                                     0.00                                       2                                        \n",
       "3 0                                   0                                          0                                    0                                           0                                     0.00                                       0                                        \n",
       "4 0                                   0                                          0                                    0                                           1                                    83.54                                       0                                        \n",
       "5 0                                   0                                          0                                    0                                           0                                     0.00                                       0                                        \n",
       "6 0                                   0                                          0                                    0                                           0                                     0.00                                       1                                        \n",
       "  echocardiography_cost_carrier_cardiology_related angioplasty_count_cardiology_related angioplasty_cost_carrier_cardiology_related CABG_count_cardiology_related CABG_cost_carrier_cardiology_related office_visit_cost_outpatient catheterization_cost_outpatient ecg_cost_outpatient\n",
       "1   0.00                                           0                                      0.00                                      0                             0                                    0                            0                                 0.00             \n",
       "2 154.90                                           0                                      0.00                                      0                             0                                    0                            0                                 0.00             \n",
       "3   0.00                                           0                                      0.00                                      0                             0                                    0                            0                                 0.00             \n",
       "4   0.00                                           0                                      0.00                                      0                             0                                    0                            0                                 0.00             \n",
       "5   0.00                                           0                                      0.00                                      0                             0                                    0                            0                               490.65             \n",
       "6  66.55                                           2                                    991.67                                      0                             0                                    0                            0                                 0.00             \n",
       "  cardiac_ct_cost_outpatient cardiac_mri_cost_outpatient stress_test_cost_outpatient echocardiography_cost_outpatient angioplasty_cost_outpatient CABG_cost_outpatient office_visit_cost_outpatient_cardiology_related catheterization_cost_outpatient_cardiology_related\n",
       "1 0                          0                           0                           0                                0                           0                    0                                               0                                                 \n",
       "2 0                          0                           0                           0                                0                           0                    0                                               0                                                 \n",
       "3 0                          0                           0                           0                                0                           0                    0                                               0                                                 \n",
       "4 0                          0                           0                           0                                0                           0                    0                                               0                                                 \n",
       "5 0                          0                           0                           0                                0                           0                    0                                               0                                                 \n",
       "6 0                          0                           0                           0                                0                           0                    0                                               0                                                 \n",
       "  ecg_cost_outpatient_cardiology_related cardiac_ct_cost_outpatient_cardiology_related cardiac_mri_cost_outpatient_cardiology_related stress_test_cost_outpatient_cardiology_related echocardiography_cost_outpatient_cardiology_related angioplasty_cost_outpatient_cardiology_related\n",
       "1   0.0                                  0                                             0                                              0                                              0                                                   0                                             \n",
       "2   0.0                                  0                                             0                                              0                                              0                                                   0                                             \n",
       "3   0.0                                  0                                             0                                              0                                              0                                                   0                                             \n",
       "4   0.0                                  0                                             0                                              0                                              0                                                   0                                             \n",
       "5 126.3                                  0                                             0                                              0                                              0                                                   0                                             \n",
       "6   0.0                                  0                                             0                                              0                                              0                                                   0                                             \n",
       "  CABG_cost_outpatient_cardiology_related office_visit_cost catheterization_cost ecg_cost cardiac_ct_cost cardiac_mri_cost stress_test_cost echocardiography_cost angioplasty_cost CABG_cost office_visit_cost_cardiology_related catheterization_cost_cardiology_related ecg_cost_cardiology_related\n",
       "1 0                                        209.35             0.00                16.26   0               0                60.06              0.0                   0.00           0         104.30                                 0.00                                   16.26                     \n",
       "2 0                                          0.00           166.66                44.60   0               0                 0.00            154.9                   0.00           0           0.00                               166.66                                    8.92                     \n",
       "3 0                                       1460.80             0.00                19.98   0               0                 0.00              0.0                   0.00           0         761.97                                 0.00                                   19.98                     \n",
       "4 0                                       1909.86             0.00                92.64   0               0                83.54              0.0                   0.00           0         576.64                                 0.00                                   75.81                     \n",
       "5 0                                        869.89             0.00               515.94   0               0                 0.00              0.0                   0.00           0         146.81                                 0.00                                  126.30                     \n",
       "6 0                                       1376.90           345.44               114.88   0               0                 0.00            133.1                 991.67           0         258.31                               345.44                                   36.15                     \n",
       "  cardiac_ct_cost_cardiology_related cardiac_mri_cost_cardiology_related stress_test_cost_cardiology_related echocardiography_cost_cardiology_related angioplasty_cost_cardiology_related CABG_cost_cardiology_related tot_cheap_prcdr_cost tot_expensive_prcdr_cost\n",
       "1 0                                  0                                    0.00                                 0.00                                     0.00                              0                             269.41                 0.00                 \n",
       "2 0                                  0                                    0.00                               154.90                                     0.00                              0                             154.90               166.66                 \n",
       "3 0                                  0                                    0.00                                 0.00                                     0.00                              0                            1460.80                 0.00                 \n",
       "4 0                                  0                                   83.54                                 0.00                                     0.00                              0                            1993.40                 0.00                 \n",
       "5 0                                  0                                    0.00                                 0.00                                     0.00                              0                             869.89                 0.00                 \n",
       "6 0                                  0                                    0.00                                66.55                                   991.67                              0                            1510.00              1337.11                 \n",
       "  tot_cheap_prcdr_cost_cardiology_related tot_expensive_prcdr_cost_cardiology_related tot_cheap_prcdr_count tot_expensive_prcdr_count tot_cheap_prcdr_count_cardiology_related tot_expensive_prcdr_count_cardiology_related REFERENCE_YEAR_2013 STATE_CODE_2013 COUNTY_CODE_2013 SEX_CODE_2013\n",
       "1 104.30                                     0.00                                      3                    0                         1                                        0                                            13                  34              240              2            \n",
       "2 154.90                                   166.66                                      2                    1                         2                                        1                                            13                  22              010              2            \n",
       "3 761.97                                     0.00                                     19                    0                         8                                        0                                            13                  07              040              1            \n",
       "4 660.18                                     0.00                                     40                    0                         7                                        0                                            13                  22              130              1            \n",
       "5 146.81                                     0.00                                     12                    0                         2                                        0                                            13                  49              090              1            \n",
       "6 324.86                                  1337.11                                     18                    3                         4                                        3                                            13                  33              740              2            \n",
       "  RACE_CODE_2013 AGE_2013 ORIG_REASON_FOR_ENTITLEMENT_2013 CURR_REASON_FOR_ENTITLEMENT_2013 ENTITLEMENT_BUY_IN_IND01_2013 ENTITLEMENT_BUY_IN_IND02_2013 ENTITLEMENT_BUY_IN_IND03_2013 ENTITLEMENT_BUY_IN_IND04_2013 ENTITLEMENT_BUY_IN_IND05_2013 ENTITLEMENT_BUY_IN_IND06_2013\n",
       "1 1              77       0                                0                                3                             3                             3                             3                             3                             3                            \n",
       "2 1              76       0                                0                                3                             3                             3                             3                             3                             3                            \n",
       "3 1              76       0                                0                                B                             B                             B                             B                             B                             B                            \n",
       "4 1              76       0                                0                                3                             3                             3                             3                             3                             3                            \n",
       "5 1              76       0                                0                                3                             3                             3                             3                             3                             3                            \n",
       "6 1              76       0                                0                                3                             3                             3                             3                             3                             3                            \n",
       "  ENTITLEMENT_BUY_IN_IND07_2013 ENTITLEMENT_BUY_IN_IND08_2013 ENTITLEMENT_BUY_IN_IND09_2013 ENTITLEMENT_BUY_IN_IND10_2013 ENTITLEMENT_BUY_IN_IND11_2013 ENTITLEMENT_BUY_IN_IND12_2013 HMO_INDICATOR01_2013 HMO_INDICATOR02_2013 HMO_INDICATOR03_2013 HMO_INDICATOR04_2013 HMO_INDICATOR05_2013\n",
       "1 3                             3                             3                             3                             3                             3                             0                    0                    0                    0                    0                   \n",
       "2 3                             3                             3                             3                             3                             3                             0                    0                    0                    0                    0                   \n",
       "3 B                             B                             B                             B                             B                             B                             0                    0                    0                    0                    0                   \n",
       "4 3                             3                             3                             3                             3                             3                             0                    0                    0                    0                    0                   \n",
       "5 3                             3                             3                             3                             3                             3                             0                    0                    0                    0                    0                   \n",
       "6 3                             3                             3                             3                             3                             3                             0                    0                    0                    0                    0                   \n",
       "  HMO_INDICATOR06_2013 HMO_INDICATOR07_2013 HMO_INDICATOR08_2013 HMO_INDICATOR09_2013 HMO_INDICATOR10_2013 HMO_INDICATOR11_2013 HMO_INDICATOR12_2013 VALID_DATE_OF_DEATH_SWITCH_2013 ⋯ ENTITLEMENT_BUY_IN_IND05_2020 ENTITLEMENT_BUY_IN_IND06_2020 ENTITLEMENT_BUY_IN_IND07_2020\n",
       "1 0                    0                    0                    0                    0                    0                    0                    NA                              ⋯ 3                             3                             3                            \n",
       "2 0                    0                    0                    0                    0                    0                    0                    NA                              ⋯ 3                             3                             3                            \n",
       "3 0                    0                    0                    0                    0                    0                    0                    NA                              ⋯ 0                             0                             0                            \n",
       "4 0                    0                    0                    0                    0                    0                    0                    NA                              ⋯ 3                             3                             3                            \n",
       "5 0                    0                    0                    0                    0                    0                    0                    NA                              ⋯ 0                             0                             0                            \n",
       "6 0                    0                    0                    0                    0                    0                    0                    NA                              ⋯ NA                            NA                            NA                           \n",
       "  ENTITLEMENT_BUY_IN_IND08_2020 ENTITLEMENT_BUY_IN_IND09_2020 ENTITLEMENT_BUY_IN_IND10_2020 ENTITLEMENT_BUY_IN_IND11_2020 ENTITLEMENT_BUY_IN_IND12_2020 HMO_INDICATOR01_2020 HMO_INDICATOR02_2020 HMO_INDICATOR03_2020 HMO_INDICATOR04_2020 HMO_INDICATOR05_2020 HMO_INDICATOR06_2020 HMO_INDICATOR07_2020\n",
       "1 3                             3                             3                             3                             3                             0                    0                    0                    0                    0                    0                    0                   \n",
       "2 0                             0                             0                             0                             0                             0                    0                    0                    0                    0                    0                    0                   \n",
       "3 0                             0                             0                             0                             0                             0                    0                    0                    0                    0                    0                    0                   \n",
       "4 3                             3                             3                             3                             3                             0                    0                    0                    0                    0                    0                    0                   \n",
       "5 0                             0                             0                             0                             0                             0                    0                    0                    0                    0                    0                    0                   \n",
       "6 NA                            NA                            NA                            NA                            NA                            NA                   NA                   NA                   NA                   NA                   NA                   NA                  \n",
       "  HMO_INDICATOR08_2020 HMO_INDICATOR09_2020 HMO_INDICATOR10_2020 HMO_INDICATOR11_2020 HMO_INDICATOR12_2020 VALID_DATE_OF_DEATH_SWITCH_2020 DATE_OF_DEATH_2020 deate_of_death_collapsed death_validity_collapsed date_of_death_collapsed state_code_at_diagnosis county_code_at_diagnosis\n",
       "1 0                    0                    0                    0                    0                    NA                                    NA           <NA>                     FALSE                    <NA>                    19                      270                     \n",
       "2 0                    0                    0                    0                    0                    V                               20200715           2020-07-15               TRUE                     2020-07-15              22                      010                     \n",
       "3 0                    0                    0                    0                    0                    V                               20200306           2020-03-06               TRUE                     2020-03-06              07                      040                     \n",
       "4 0                    0                    0                    0                    0                    NA                                    NA           <NA>                     FALSE                    <NA>                    22                      130                     \n",
       "5 0                    0                    0                    0                    0                    V                               20200206           2020-02-06               TRUE                     2020-02-06              49                      090                     \n",
       "6 NA                   NA                   NA                   NA                   NA                   NA                                    NA           2018-05-29               TRUE                     2018-05-29              33                      740                     \n",
       "  sex_code_at_diagnosis race_code_at_diagnosis age_at_diagnosis ENTITLEMENT_BUY_IN_IND_sum HMO_INDICATOR_sum died_in_one_year_after_diagnosis died_in_two_years_after_diagnosis date_difference_diagnosis_death score index wscore windex most_common_physician_PRF_PHYSN_NPI most_common_physician_n\n",
       "1 2                     1                      82               12                         12                FALSE                            FALSE                               NA                            1     1-2   1      1-2    1922000801                           2                     \n",
       "2 2                     1                      83                1                          6                   NA                               NA                                9                            2     1-2   2      1-2    NA                                  NA                     \n",
       "3 1                     1                      76                0                         12                FALSE                            FALSE                             2262                            2     1-2   3      3-4    1922185792                          10                     \n",
       "4 1                     1                      76               12                         12                FALSE                            FALSE                               NA                            0     0     0      0      1013994185                          28                     \n",
       "5 1                     1                      77               12                         12                FALSE                            FALSE                             2122                            0     0     0      0      1033107701                           4                     \n",
       "6 2                     1                      77               12                         12                FALSE                            FALSE                             1565                            3     3-4   4      3-4    1801899877                           4                     \n",
       "  most_common_physician_PRVDR_SPCLTY most_common_primary_care_physician_PRF_PHYSN_NPI most_common_primary_care_physician_n most_common_primary_care_physician_PRVDR_SPCLTY most_common_cardiologist_PRF_PHYSN_NPI most_common_cardiologist_n most_common_cardiologist_PRVDR_SPCLTY\n",
       "1 06                                 NA                                               NA                                   NA                                              1922000801                              2                         06                                   \n",
       "2 NA                                 NA                                               NA                                   NA                                              NA                                     NA                         NA                                   \n",
       "3 11                                 1922185792                                       10                                   11                                              1235111857                              1                         06                                   \n",
       "4 06                                 1417934522                                        2                                   11                                              1013994185                             28                         06                                   \n",
       "5 08                                 1033107701                                        4                                   08                                              1700860954                              2                         06                                   \n",
       "6 06                                 1518020502                                        2                                   11                                              1801899877                              4                         06                                   \n",
       "  most_common_physician_2013_PRF_PHYSN_NPI most_common_physician_2013_n most_common_physician_2013_PRVDR_SPCLTY most_common_primary_care_physician_2013_PRF_PHYSN_NPI most_common_primary_care_physician_2013_n most_common_primary_care_physician_2013_PRVDR_SPCLTY\n",
       "1 1639140775                                2                           11                                      1639140775                                            2                                         11                                                  \n",
       "2 1558377663                                5                           11                                      1558377663                                            5                                         11                                                  \n",
       "3 1922185792                                6                           11                                      1922185792                                            6                                         11                                                  \n",
       "4 1013994185                               27                           06                                      1417934522                                            2                                         11                                                  \n",
       "5 1033107701                                7                           08                                      1033107701                                            7                                         08                                                  \n",
       "6 1023073103                                3                           29                                      1518020502                                            2                                         11                                                  \n",
       "  most_common_cardiologist_2013_PRF_PHYSN_NPI most_common_cardiologist_2013_n most_common_cardiologist_2013_PRVDR_SPCLTY tot_allowed_outpatient tot_allowed_inpatient number_of_hospitalizations was_hospitalized tot_allowed_outpatient_cardiology_related tot_allowed_inpatient_cardiology_related\n",
       "1 NA                                          NA                              NA                                              0.00                   0.00             0                          FALSE              0.0                                          0.0                                \n",
       "2 NA                                          NA                              NA                                              0.00              250422.85             1                           TRUE              0.0                                     250422.9                                \n",
       "3 1356323349                                   2                              06                                           1078.50                   0.00             0                          FALSE              0.0                                          0.0                                \n",
       "4 1013994185                                  27                              06                                           7092.44               18795.06             1                           TRUE              0.0                                          0.0                                \n",
       "5 1700860954                                   3                              06                                           6337.03                   0.00             0                          FALSE            372.6                                          0.0                                \n",
       "6 NA                                          NA                              NA                                         176109.78              311264.38             4                           TRUE              0.0                                          0.0                                \n",
       "  number_of_hospitalizations_cardiology_related was_hospitalized_cardiology_related total_exp total_exp_cardiology_related most_common_physician_prp_in_year_of_diagnosis_05_non_exclusive_HCPCS most_common_physician_prp_in_2013_05_non_exclusive_HCPCS\n",
       "1 0                                             FALSE                                 2164.96   1098.55                    0.00000000                                                              0                                                     \n",
       "2 1                                              TRUE                               255020.91 253122.31                           NaN                                                            NaN                                                     \n",
       "3 0                                             FALSE                                 3335.64    871.19                    0.00000000                                                              0                                                     \n",
       "4 0                                             FALSE                                39509.96   2126.04                    0.00000000                                                              0                                                     \n",
       "5 0                                             FALSE                                 8486.59    551.31                    0.00000000                                                              0                                                     \n",
       "6 0                                             FALSE                               504235.67   3309.14                    0.08333333                                                              0                                                     \n",
       "  most_common_physician_prp_in_year_before_diagnosis_05_non_exclusive_HCPCS most_common_physician_prp_in_year_of_diagnosis_03_non_exclusive_HCPCS most_common_physician_prp_in_2013_03_non_exclusive_HCPCS most_common_physician_prp_in_year_before_diagnosis_03_non_exclusive_HCPCS\n",
       "1   0                                                                       0.00000000                                                            0.00                                                     0.0000000                                                                \n",
       "2 NaN                                                                              NaN                                                             NaN                                                           NaN                                                                \n",
       "3   0                                                                       0.00000000                                                            0.00                                                     0.0000000                                                                \n",
       "4   0                                                                       0.00000000                                                            0.00                                                     0.0000000                                                                \n",
       "5   0                                                                       0.00000000                                                            0.00                                                     0.0000000                                                                \n",
       "6   0                                                                       0.08333333                                                            0.25                                                     0.1666667                                                                \n",
       "  most_common_physician_avg_in_year_of_diagnosis_non_exclusive_HCPCS most_common_physician_avg_in_2013_non_exclusive_HCPCS most_common_physician_avg_in_year_before_diagnosis_non_exclusive_HCPCS most_common_primary_care_physician_prp_in_year_of_diagnosis_05_non_exclusive_HCPCS\n",
       "1 0.04925054                                                         0.06811989                                            0.07415254                                                             NaN                                                                               \n",
       "2        NaN                                                                NaN                                                   NaN                                                             NaN                                                                               \n",
       "3 0.00000000                                                         0.00000000                                            0.00000000                                                               0                                                                               \n",
       "4 0.10000000                                                         0.08108108                                            0.05263158                                                               0                                                                               \n",
       "5 0.00000000                                                         0.00000000                                            0.00000000                                                               0                                                                               \n",
       "6 0.08031088                                                         0.15428571                                            0.10191083                                                               0                                                                               \n",
       "  most_common_primary_care_physician_prp_in_2013_05_non_exclusive_HCPCS most_common_primary_care_physician_prp_in_year_before_diagnosis_05_non_exclusive_HCPCS most_common_primary_care_physician_prp_in_year_of_diagnosis_03_non_exclusive_HCPCS\n",
       "1 NaN                                                                   NaN                                                                                    NaN                                                                               \n",
       "2 NaN                                                                   NaN                                                                                    NaN                                                                               \n",
       "3   0                                                                     0                                                                                      0                                                                               \n",
       "4   0                                                                     0                                                                                      0                                                                               \n",
       "5   0                                                                     0                                                                                      0                                                                               \n",
       "6   0                                                                     0                                                                                      0                                                                               \n",
       "  most_common_primary_care_physician_prp_in_2013_03_non_exclusive_HCPCS most_common_primary_care_physician_prp_in_year_before_diagnosis_03_non_exclusive_HCPCS most_common_primary_care_physician_avg_in_year_of_diagnosis_non_exclusive_HCPCS\n",
       "1 NaN                                                                   NaN                                                                                    NaN                                                                            \n",
       "2 NaN                                                                   NaN                                                                                    NaN                                                                            \n",
       "3   0                                                                     0                                                                                      0                                                                            \n",
       "4   0                                                                     0                                                                                      0                                                                            \n",
       "5   0                                                                     0                                                                                      0                                                                            \n",
       "6   0                                                                     0                                                                                      0                                                                            \n",
       "  most_common_primary_care_physician_avg_in_2013_non_exclusive_HCPCS most_common_primary_care_physician_avg_in_year_before_diagnosis_non_exclusive_HCPCS most_common_cardiologist_prp_in_year_of_diagnosis_05_non_exclusive_HCPCS most_common_cardiologist_prp_in_2013_05_non_exclusive_HCPCS\n",
       "1 NaN                                                                NaN                                                                                 0.00000000                                                               0.00000000                                                 \n",
       "2 NaN                                                                NaN                                                                                        NaN                                                                      NaN                                                 \n",
       "3   0                                                                  0                                                                                 0.00000000                                                               0.08333333                                                 \n",
       "4   0                                                                  0                                                                                 0.00000000                                                               0.00000000                                                 \n",
       "5   0                                                                  0                                                                                 1.00000000                                                               1.00000000                                                 \n",
       "6   0                                                                  0                                                                                 0.08333333                                                               0.00000000                                                 \n",
       "  most_common_cardiologist_prp_in_year_before_diagnosis_05_non_exclusive_HCPCS most_common_cardiologist_prp_in_year_of_diagnosis_03_non_exclusive_HCPCS most_common_cardiologist_prp_in_2013_03_non_exclusive_HCPCS most_common_cardiologist_prp_in_year_before_diagnosis_03_non_exclusive_HCPCS\n",
       "1 0.00000000                                                                   0.00000000                                                               0.00000000                                                  0.00000000                                                                  \n",
       "2        NaN                                                                          NaN                                                                      NaN                                                         NaN                                                                  \n",
       "3 0.08333333                                                                   0.00000000                                                               0.08333333                                                  0.08333333                                                                  \n",
       "4 0.00000000                                                                   0.00000000                                                               0.00000000                                                  0.00000000                                                                  \n",
       "5 1.00000000                                                                   1.00000000                                                               1.00000000                                                  1.00000000                                                                  \n",
       "6 0.00000000                                                                   0.08333333                                                               0.25000000                                                  0.16666667                                                                  \n",
       "  most_common_cardiologist_avg_in_year_of_diagnosis_non_exclusive_HCPCS most_common_cardiologist_avg_in_2013_non_exclusive_HCPCS most_common_cardiologist_avg_in_year_before_diagnosis_non_exclusive_HCPCS diagnosing_doc_prp_in_year_of_diagnosis_05_non_exclusive_HCPCS\n",
       "1 0.04925054                                                            0.06811989                                               0.07415254                                                                0.0000000                                                     \n",
       "2        NaN                                                                   NaN                                                      NaN                                                                1.0000000                                                     \n",
       "3 0.00000000                                                            0.06306306                                               0.06306306                                                                0.0000000                                                     \n",
       "4 0.10000000                                                            0.08108108                                               0.05263158                                                                      NaN                                                     \n",
       "5 0.86000000                                                            0.84375000                                               0.77906977                                                                0.0000000                                                     \n",
       "6 0.08031088                                                            0.15428571                                               0.10191083                                                                0.1666667                                                     \n",
       "  diagnosing_doc_prp_in_2013_05_non_exclusive_HCPCS diagnosing_doc_prp_in_year_before_diagnosis_05_non_exclusive_HCPCS diagnosing_doc_prp_in_year_of_diagnosis_03_non_exclusive_HCPCS diagnosing_doc_prp_in_2013_03_non_exclusive_HCPCS diagnosing_doc_prp_in_year_before_diagnosis_03_non_exclusive_HCPCS\n",
       "1   0                                                 0                                                                0.0000000                                                        0                                                 0                                                               \n",
       "2 NaN                                                 1                                                                1.0000000                                                      NaN                                                 1                                                               \n",
       "3   0                                                 0                                                                0.0000000                                                        0                                                 0                                                               \n",
       "4 NaN                                               NaN                                                                      NaN                                                      NaN                                               NaN                                                               \n",
       "5   0                                                 0                                                                0.0000000                                                        0                                                 0                                                               \n",
       "6   0                                                 0                                                                0.1666667                                                        0                                                 0                                                               \n",
       "  diagnosing_doc_avg_in_year_of_diagnosis_non_exclusive_HCPCS diagnosing_doc_avg_in_2013_non_exclusive_HCPCS diagnosing_doc_avg_in_year_before_diagnosis_non_exclusive_HCPCS catheterization_doc_prp_in_year_of_diagnosis_05_non_exclusive_HCPCS catheterization_doc_prp_in_2013_05_non_exclusive_HCPCS\n",
       "1 0.04925054                                                  0.06811989                                     0.07415254                                                            NaN                                                                 NaN                                             \n",
       "2 0.84615385                                                         NaN                                     0.85416667                                                      1.0000000                                                           0.1428571                                             \n",
       "3 0.00000000                                                  0.00000000                                     0.00000000                                                            NaN                                                                 NaN                                             \n",
       "4        NaN                                                         NaN                                            NaN                                                            NaN                                                                 NaN                                             \n",
       "5 0.00000000                                                  0.00000000                                     0.00000000                                                            NaN                                                                 NaN                                             \n",
       "6 0.11578947                                                  0.04214559                                     0.04489796                                                      0.1666667                                                           0.0000000                                             \n",
       "  catheterization_doc_prp_in_year_before_diagnosis_05_non_exclusive_HCPCS catheterization_doc_prp_in_year_of_diagnosis_03_non_exclusive_HCPCS catheterization_doc_prp_in_2013_03_non_exclusive_HCPCS catheterization_doc_prp_in_year_before_diagnosis_03_non_exclusive_HCPCS\n",
       "1 NaN                                                                           NaN                                                                 NaN                                              NaN                                                                    \n",
       "2   1                                                                     1.0000000                                                           0.2857143                                                1                                                                    \n",
       "3 NaN                                                                           NaN                                                                 NaN                                              NaN                                                                    \n",
       "4 NaN                                                                           NaN                                                                 NaN                                              NaN                                                                    \n",
       "5 NaN                                                                           NaN                                                                 NaN                                              NaN                                                                    \n",
       "6   0                                                                     0.1666667                                                           0.0000000                                                0                                                                    \n",
       "  catheterization_doc_avg_in_year_of_diagnosis_non_exclusive_HCPCS catheterization_doc_avg_in_2013_non_exclusive_HCPCS catheterization_doc_avg_in_year_before_diagnosis_non_exclusive_HCPCS angioplasty_doc_prp_in_year_of_diagnosis_05_non_exclusive_HCPCS\n",
       "1       NaN                                                               NaN                                                 NaN                                                           NaN                                                            \n",
       "2 1.0000000                                                        0.20000000                                          1.00000000                                                           NaN                                                            \n",
       "3       NaN                                                               NaN                                                 NaN                                                           NaN                                                            \n",
       "4       NaN                                                               NaN                                                 NaN                                                           NaN                                                            \n",
       "5       NaN                                                               NaN                                                 NaN                                                           NaN                                                            \n",
       "6 0.1157895                                                        0.04214559                                          0.04489796                                                             0                                                            \n",
       "  angioplasty_doc_prp_in_2013_05_non_exclusive_HCPCS angioplasty_doc_prp_in_year_before_diagnosis_05_non_exclusive_HCPCS angioplasty_doc_prp_in_year_of_diagnosis_03_non_exclusive_HCPCS angioplasty_doc_prp_in_2013_03_non_exclusive_HCPCS\n",
       "1 NaN                                                NaN                                                                       NaN                                                       NaN                                               \n",
       "2 NaN                                                NaN                                                                       NaN                                                       NaN                                               \n",
       "3 NaN                                                NaN                                                                       NaN                                                       NaN                                               \n",
       "4 NaN                                                NaN                                                                       NaN                                                       NaN                                               \n",
       "5 NaN                                                NaN                                                                       NaN                                                       NaN                                               \n",
       "6   0                                                  0                                                                 0.1666667                                                         0                                               \n",
       "  angioplasty_doc_prp_in_year_before_diagnosis_03_non_exclusive_HCPCS angioplasty_doc_avg_in_year_of_diagnosis_non_exclusive_HCPCS angioplasty_doc_avg_in_2013_non_exclusive_HCPCS angioplasty_doc_avg_in_year_before_diagnosis_non_exclusive_HCPCS\n",
       "1 NaN                                                                       NaN                                                          NaN                                            NaN                                                        \n",
       "2 NaN                                                                       NaN                                                          NaN                                            NaN                                                        \n",
       "3 NaN                                                                       NaN                                                          NaN                                            NaN                                                        \n",
       "4 NaN                                                                       NaN                                                          NaN                                            NaN                                                        \n",
       "5 NaN                                                                       NaN                                                          NaN                                            NaN                                                        \n",
       "6   0                                                                 0.0776699                                                    0.1003521                                       0.118705                                                        \n",
       "  most_common_physician_2013_prp_in_year_of_diagnosis_05_non_exclusive_HCPCS most_common_physician_2013_prp_in_2013_05_non_exclusive_HCPCS most_common_physician_2013_prp_in_year_before_diagnosis_05_non_exclusive_HCPCS most_common_physician_2013_prp_in_year_of_diagnosis_03_non_exclusive_HCPCS\n",
       "1 0.00                                                                       0.08333333                                                    0.0000000                                                                      0.00                                                                      \n",
       "2  NaN                                                                       0.00000000                                                    0.0000000                                                                       NaN                                                                      \n",
       "3 0.00                                                                       0.00000000                                                    0.0000000                                                                      0.00                                                                      \n",
       "4 0.00                                                                       0.00000000                                                    0.0000000                                                                      0.00                                                                      \n",
       "5 0.00                                                                       0.00000000                                                    0.0000000                                                                      0.00                                                                      \n",
       "6 0.25                                                                       0.45454545                                                    0.4166667                                                                      0.25                                                                      \n",
       "  most_common_physician_2013_prp_in_2013_03_non_exclusive_HCPCS most_common_physician_2013_prp_in_year_before_diagnosis_03_non_exclusive_HCPCS most_common_physician_2013_avg_in_year_of_diagnosis_non_exclusive_HCPCS most_common_physician_2013_avg_in_2013_non_exclusive_HCPCS\n",
       "1 0.1666667                                                     0.0000000                                                                      0.0000000                                                               0.12643678                                                \n",
       "2 0.0000000                                                     0.0000000                                                                            NaN                                                               0.05555556                                                \n",
       "3 0.0000000                                                     0.0000000                                                                      0.0000000                                                               0.00000000                                                \n",
       "4 0.0000000                                                     0.0000000                                                                      0.1000000                                                               0.08108108                                                \n",
       "5 0.0000000                                                     0.0000000                                                                      0.0000000                                                               0.00000000                                                \n",
       "6 0.6363636                                                     0.5833333                                                                      0.3769231                                                               0.43103448                                                \n",
       "  most_common_physician_2013_avg_in_year_before_diagnosis_non_exclusive_HCPCS most_common_primary_care_physician_2013_prp_in_year_of_diagnosis_05_non_exclusive_HCPCS most_common_primary_care_physician_2013_prp_in_2013_05_non_exclusive_HCPCS\n",
       "1 0.00000000                                                                    0                                                                                     0.08333333                                                                \n",
       "2 0.00000000                                                                  NaN                                                                                     0.00000000                                                                \n",
       "3 0.00000000                                                                    0                                                                                     0.00000000                                                                \n",
       "4 0.05263158                                                                    0                                                                                     0.00000000                                                                \n",
       "5 0.00000000                                                                    0                                                                                     0.00000000                                                                \n",
       "6 0.35211268                                                                    0                                                                                     0.00000000                                                                \n",
       "  most_common_primary_care_physician_2013_prp_in_year_before_diagnosis_05_non_exclusive_HCPCS most_common_primary_care_physician_2013_prp_in_year_of_diagnosis_03_non_exclusive_HCPCS most_common_primary_care_physician_2013_prp_in_2013_03_non_exclusive_HCPCS\n",
       "1 0                                                                                             0                                                                                     0.1666667                                                                 \n",
       "2 0                                                                                           NaN                                                                                     0.0000000                                                                 \n",
       "3 0                                                                                             0                                                                                     0.0000000                                                                 \n",
       "4 0                                                                                             0                                                                                     0.0000000                                                                 \n",
       "5 0                                                                                             0                                                                                     0.0000000                                                                 \n",
       "6 0                                                                                             0                                                                                     0.0000000                                                                 \n",
       "  most_common_primary_care_physician_2013_prp_in_year_before_diagnosis_03_non_exclusive_HCPCS most_common_primary_care_physician_2013_avg_in_year_of_diagnosis_non_exclusive_HCPCS most_common_primary_care_physician_2013_avg_in_2013_non_exclusive_HCPCS\n",
       "1 0                                                                                             0                                                                                  0.12643678                                                             \n",
       "2 0                                                                                           NaN                                                                                  0.05555556                                                             \n",
       "3 0                                                                                             0                                                                                  0.00000000                                                             \n",
       "4 0                                                                                             0                                                                                  0.00000000                                                             \n",
       "5 0                                                                                             0                                                                                  0.00000000                                                             \n",
       "6 0                                                                                             0                                                                                  0.00000000                                                             \n",
       "  most_common_primary_care_physician_2013_avg_in_year_before_diagnosis_non_exclusive_HCPCS most_common_cardiologist_2013_prp_in_year_of_diagnosis_05_non_exclusive_HCPCS most_common_cardiologist_2013_prp_in_2013_05_non_exclusive_HCPCS\n",
       "1 0                                                                                        NaN                                                                           NaN                                                             \n",
       "2 0                                                                                        NaN                                                                           NaN                                                             \n",
       "3 0                                                                                        NaN                                                                             0                                                             \n",
       "4 0                                                                                          0                                                                             0                                                             \n",
       "5 0                                                                                          1                                                                             1                                                             \n",
       "6 0                                                                                        NaN                                                                           NaN                                                             \n",
       "  most_common_cardiologist_2013_prp_in_year_before_diagnosis_05_non_exclusive_HCPCS most_common_cardiologist_2013_prp_in_year_of_diagnosis_03_non_exclusive_HCPCS most_common_cardiologist_2013_prp_in_2013_03_non_exclusive_HCPCS\n",
       "1 NaN                                                                               NaN                                                                           NaN                                                             \n",
       "2 NaN                                                                               NaN                                                                           NaN                                                             \n",
       "3   0                                                                               NaN                                                                             0                                                             \n",
       "4   0                                                                                 0                                                                             0                                                             \n",
       "5   1                                                                                 1                                                                             1                                                             \n",
       "6 NaN                                                                               NaN                                                                           NaN                                                             \n",
       "  most_common_cardiologist_2013_prp_in_year_before_diagnosis_03_non_exclusive_HCPCS most_common_cardiologist_2013_avg_in_year_of_diagnosis_non_exclusive_HCPCS most_common_cardiologist_2013_avg_in_2013_non_exclusive_HCPCS most_common_cardiologist_2013_avg_in_year_before_diagnosis_non_exclusive_HCPCS\n",
       "1 NaN                                                                                NaN                                                                              NaN                                                           NaN                                                                    \n",
       "2 NaN                                                                                NaN                                                                              NaN                                                           NaN                                                                    \n",
       "3   0                                                                                NaN                                                                       0.00000000                                                    0.00000000                                                                    \n",
       "4   0                                                                               0.10                                                                       0.08108108                                                    0.05263158                                                                    \n",
       "5   1                                                                               0.86                                                                       0.84375000                                                    0.77906977                                                                    \n",
       "6 NaN                                                                                NaN                                                                              NaN                                                           NaN                                                                    \n",
       "  MI_date RUCC_2013\n",
       "1 <NA>     2       \n",
       "2 <NA>     3       \n",
       "3 <NA>    NA       \n",
       "4 <NA>     1       \n",
       "5 <NA>     2       \n",
       "6 <NA>     3       "
      ]
     },
     "metadata": {},
     "output_type": "display_data"
    }
   ],
   "source": [
    "yearly_calculations_stable_angina[,SSACD:=as.integer(paste(state_code_at_diagnosis,county_code_at_diagnosis,sep=\"\"))]\n",
    "yearly_calculations_stable_angina=left_join(yearly_calculations_stable_angina,cross_walk_rural_urban,by=\"SSACD\")%>%\n",
    "mutate(FIPS.County.Code=as.character(FIPS.County.Code))%>%\n",
    "left_join(.,rural_urban_data,by=c(\"FIPS.County.Code\"=\"FIPS\"))%>%\n",
    "as.data.table()\n",
    "yearly_calculations_stable_angina[,c(\"SSACD\",\"County.Name\",\"State.x\",\"FIPS.County.Code\",\"CBSA\",\"CBSA.Name\",\"State.y\",\"County_Name\",\"Population_2010\",\"Description\"):=NULL]\n",
    "head(yearly_calculations_stable_angina)"
   ]
  },
  {
   "cell_type": "markdown",
   "id": "ac4075a8-4878-4b70-8134-8faed1f39495",
   "metadata": {
    "tags": []
   },
   "source": [
    "## Adding sex, race, and state names from codes"
   ]
  },
  {
   "cell_type": "code",
   "execution_count": 99,
   "id": "fc5aaa54-746a-4fdc-b012-c3415e6c511f",
   "metadata": {},
   "outputs": [],
   "source": [
    "add_personal_details=function(data){\n",
    "    \n",
    "  require(tidyverse)\n",
    "  require(dtplyr)\n",
    "  require(lubridate)\n",
    "  \n",
    "  result=data %>%\n",
    "  left_join(.,census_and_state_codes[,-1],by=c(\"state_code_at_diagnosis\"=\"state_code\"))%>%\n",
    "  left_join(.,race_codes,by=c(\"race_code_at_diagnosis\"=\"race_code\"))%>%\n",
    "  left_join(.,sex_codes,by=c(\"sex_code_at_diagnosis\"=\"sex_code\"))%>%\n",
    "  mutate(\n",
    "    age_group=case_when(\n",
    "      age_at_diagnosis<75 & age_at_diagnosis>64 ~ \"65-74\",\n",
    "      age_at_diagnosis>74 & age_at_diagnosis<85 ~ \"75-84\",\n",
    "      age_at_diagnosis>84 ~ \"85+\"\n",
    "    ),\n",
    "    urban=(RUCC_2013<=3)\n",
    "  )%>%\n",
    "  as.data.table()\n",
    "  \n",
    "  return(result)\n",
    "}"
   ]
  },
  {
   "cell_type": "code",
   "execution_count": 100,
   "id": "429c1510-8ea8-4e76-b13f-614cd4d0f703",
   "metadata": {},
   "outputs": [],
   "source": [
    "yearly_calculations_stable_angina=add_personal_details(yearly_calculations_stable_angina)\n",
    "#yearly_calculations_unstable_angina=add_personal_details(yearly_calculations_unstable_angina)"
   ]
  },
  {
   "cell_type": "code",
   "execution_count": 101,
   "id": "615b855c-d4b5-43e5-a50c-917ce80ef2e5",
   "metadata": {},
   "outputs": [
    {
     "data": {
      "text/html": [
       "<table class=\"dataframe\">\n",
       "<caption>A data.table: 10 × 5</caption>\n",
       "<thead>\n",
       "\t<tr><th scope=col>DESY_SORT_KEY</th><th scope=col>died_in_one_year_after_diagnosis</th><th scope=col>HMO_INDICATOR_sum</th><th scope=col>date_difference_diagnosis_death</th><th scope=col>V5</th></tr>\n",
       "\t<tr><th scope=col>&lt;int&gt;</th><th scope=col>&lt;lgl&gt;</th><th scope=col>&lt;dbl&gt;</th><th scope=col>&lt;int&gt;</th><th scope=col>&lt;dbl&gt;</th></tr>\n",
       "</thead>\n",
       "<tbody>\n",
       "\t<tr><td>100025905</td><td>TRUE</td><td> 9</td><td> 59</td><td> 1</td></tr>\n",
       "\t<tr><td>100031159</td><td>TRUE</td><td>11</td><td>183</td><td> 6</td></tr>\n",
       "\t<tr><td>100046407</td><td>TRUE</td><td> 9</td><td> 25</td><td> 0</td></tr>\n",
       "\t<tr><td>100078509</td><td>TRUE</td><td>12</td><td>215</td><td> 7</td></tr>\n",
       "\t<tr><td>100088049</td><td>TRUE</td><td>12</td><td>302</td><td>10</td></tr>\n",
       "\t<tr><td>100103847</td><td>TRUE</td><td> 8</td><td>127</td><td> 4</td></tr>\n",
       "\t<tr><td>100116211</td><td>TRUE</td><td> 8</td><td> 39</td><td> 1</td></tr>\n",
       "\t<tr><td>100147445</td><td>TRUE</td><td> 4</td><td>  6</td><td> 0</td></tr>\n",
       "\t<tr><td>100193467</td><td>TRUE</td><td>10</td><td> 57</td><td> 1</td></tr>\n",
       "\t<tr><td>100209373</td><td>TRUE</td><td>10</td><td> 44</td><td> 1</td></tr>\n",
       "</tbody>\n",
       "</table>\n"
      ],
      "text/latex": [
       "A data.table: 10 × 5\n",
       "\\begin{tabular}{lllll}\n",
       " DESY\\_SORT\\_KEY & died\\_in\\_one\\_year\\_after\\_diagnosis & HMO\\_INDICATOR\\_sum & date\\_difference\\_diagnosis\\_death & V5\\\\\n",
       " <int> & <lgl> & <dbl> & <int> & <dbl>\\\\\n",
       "\\hline\n",
       "\t 100025905 & TRUE &  9 &  59 &  1\\\\\n",
       "\t 100031159 & TRUE & 11 & 183 &  6\\\\\n",
       "\t 100046407 & TRUE &  9 &  25 &  0\\\\\n",
       "\t 100078509 & TRUE & 12 & 215 &  7\\\\\n",
       "\t 100088049 & TRUE & 12 & 302 & 10\\\\\n",
       "\t 100103847 & TRUE &  8 & 127 &  4\\\\\n",
       "\t 100116211 & TRUE &  8 &  39 &  1\\\\\n",
       "\t 100147445 & TRUE &  4 &   6 &  0\\\\\n",
       "\t 100193467 & TRUE & 10 &  57 &  1\\\\\n",
       "\t 100209373 & TRUE & 10 &  44 &  1\\\\\n",
       "\\end{tabular}\n"
      ],
      "text/markdown": [
       "\n",
       "A data.table: 10 × 5\n",
       "\n",
       "| DESY_SORT_KEY &lt;int&gt; | died_in_one_year_after_diagnosis &lt;lgl&gt; | HMO_INDICATOR_sum &lt;dbl&gt; | date_difference_diagnosis_death &lt;int&gt; | V5 &lt;dbl&gt; |\n",
       "|---|---|---|---|---|\n",
       "| 100025905 | TRUE |  9 |  59 |  1 |\n",
       "| 100031159 | TRUE | 11 | 183 |  6 |\n",
       "| 100046407 | TRUE |  9 |  25 |  0 |\n",
       "| 100078509 | TRUE | 12 | 215 |  7 |\n",
       "| 100088049 | TRUE | 12 | 302 | 10 |\n",
       "| 100103847 | TRUE |  8 | 127 |  4 |\n",
       "| 100116211 | TRUE |  8 |  39 |  1 |\n",
       "| 100147445 | TRUE |  4 |   6 |  0 |\n",
       "| 100193467 | TRUE | 10 |  57 |  1 |\n",
       "| 100209373 | TRUE | 10 |  44 |  1 |\n",
       "\n"
      ],
      "text/plain": [
       "   DESY_SORT_KEY died_in_one_year_after_diagnosis HMO_INDICATOR_sum date_difference_diagnosis_death V5\n",
       "1  100025905     TRUE                              9                 59                              1\n",
       "2  100031159     TRUE                             11                183                              6\n",
       "3  100046407     TRUE                              9                 25                              0\n",
       "4  100078509     TRUE                             12                215                              7\n",
       "5  100088049     TRUE                             12                302                             10\n",
       "6  100103847     TRUE                              8                127                              4\n",
       "7  100116211     TRUE                              8                 39                              1\n",
       "8  100147445     TRUE                              4                  6                              0\n",
       "9  100193467     TRUE                             10                 57                              1\n",
       "10 100209373     TRUE                             10                 44                              1"
      ]
     },
     "metadata": {},
     "output_type": "display_data"
    }
   ],
   "source": [
    "head(yearly_calculations_stable_angina[died_in_one_year_after_diagnosis==T,.(DESY_SORT_KEY,\n",
    "                                                                             died_in_one_year_after_diagnosis,\n",
    "                                                                             HMO_INDICATOR_sum,\n",
    "                                                                             date_difference_diagnosis_death,\n",
    "                                                                             floor(date_difference_diagnosis_death/30))],10)"
   ]
  },
  {
   "cell_type": "markdown",
   "id": "d0007ea2-d788-4ee8-8061-853e297740e9",
   "metadata": {},
   "source": [
    "## Filtering the data for analysis"
   ]
  },
  {
   "cell_type": "code",
   "execution_count": 102,
   "id": "f47725d4-9768-4bd8-8be8-fd8b81c9adcf",
   "metadata": {},
   "outputs": [],
   "source": [
    "data_for_modelling_filter=function(data){\n",
    "  library(tidyverse)\n",
    "  library(dtplyr)\n",
    "  \n",
    "  data%>%\n",
    "  filter(state_code_at_diagnosis %!in% non_us_state_codes &\n",
    "         age_at_diagnosis>=65&\n",
    "         ((died_in_one_year_after_diagnosis==T & HMO_INDICATOR_sum>=floor(date_difference_diagnosis_death/30)-1) |\n",
    "          (died_in_one_year_after_diagnosis==F & HMO_INDICATOR_sum==12))&\n",
    "         ((died_in_one_year_after_diagnosis==T & ENTITLEMENT_BUY_IN_IND_sum>=floor(date_difference_diagnosis_death/30)-1) |\n",
    "          (died_in_one_year_after_diagnosis==F & ENTITLEMENT_BUY_IN_IND_sum==12))&\n",
    "         year_first_diagnosed!=2013&\n",
    "         !is.na(most_common_cardiologist_PRF_PHYSN_NPI)&\n",
    "         (is.na(catheterization_date)|          \n",
    "          catheterization_date<MI_date|\n",
    "          is.na(MI_date)\n",
    "          )&\n",
    "          (is.na(angioplasty_date)|          \n",
    "          angioplasty_date<MI_date|\n",
    "          is.na(MI_date)\n",
    "         )\n",
    "        )%>%\n",
    "  as.data.table()\n",
    "}\n",
    "\n"
   ]
  },
  {
   "cell_type": "code",
   "execution_count": 103,
   "id": "f1957eb0-51bf-4e67-865f-0661e82b589a",
   "metadata": {},
   "outputs": [],
   "source": [
    "yearly_calculations_stable_angina=data_for_modelling_filter(yearly_calculations_stable_angina)\n",
    "#yearly_calculations_unstable_angina=data_for_modelling_filter(yearly_calculations_unstable_angina)"
   ]
  },
  {
   "cell_type": "code",
   "execution_count": 104,
   "id": "1a838ad5-ca21-454d-a0db-3d7b9993e064",
   "metadata": {
    "tags": []
   },
   "outputs": [
    {
     "data": {
      "text/html": [
       "14560"
      ],
      "text/latex": [
       "14560"
      ],
      "text/markdown": [
       "14560"
      ],
      "text/plain": [
       "[1] 14560"
      ]
     },
     "metadata": {},
     "output_type": "display_data"
    }
   ],
   "source": [
    "length(unique(yearly_calculations_stable_angina$DESY_SORT_KEY))"
   ]
  },
  {
   "cell_type": "code",
   "execution_count": 105,
   "id": "6e542637-1a27-4946-a3fb-78dfb58af040",
   "metadata": {
    "tags": []
   },
   "outputs": [
    {
     "data": {
      "text/html": [
       "23471"
      ],
      "text/latex": [
       "23471"
      ],
      "text/markdown": [
       "23471"
      ],
      "text/plain": [
       "[1] 23471"
      ]
     },
     "metadata": {},
     "output_type": "display_data"
    }
   ],
   "source": [
    "length(unique(yearly_calculations_unstable_angina$DESY_SORT_KEY))"
   ]
  },
  {
   "cell_type": "code",
   "execution_count": 106,
   "id": "980d2e33-3550-4830-8ff6-7934f1e548e1",
   "metadata": {},
   "outputs": [],
   "source": [
    "yearly_calculations_stable_angina[is.na(angioplasty_with_cath),angioplasty_with_cath:=F]\n",
    "yearly_calculations_unstable_angina[is.na(angioplasty_with_cath),angioplasty_with_cath:=F]\n",
    "yearly_calculations_stable_angina[is.na(angioplasty_during_year_after_cath),angioplasty_during_year_after_cath:=F]\n",
    "yearly_calculations_unstable_angina[is.na(angioplasty_during_year_after_cath),angioplasty_during_year_after_cath:=F]"
   ]
  }
 ],
 "metadata": {
  "kernelspec": {
   "display_name": "R",
   "language": "R",
   "name": "ir"
  },
  "language_info": {
   "codemirror_mode": "r",
   "file_extension": ".r",
   "mimetype": "text/x-r-source",
   "name": "R",
   "pygments_lexer": "r",
   "version": "4.2.0"
  }
 },
 "nbformat": 4,
 "nbformat_minor": 5
}
