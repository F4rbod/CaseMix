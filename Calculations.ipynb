{
 "cells": [
  {
   "cell_type": "markdown",
   "id": "8fc60b63-72f8-440f-8ecf-b2c8a703e6e9",
   "metadata": {
    "tags": []
   },
   "source": [
    "# Setting up the environment\n",
    "\n",
    "We'll load the needed libraries:\n"
   ]
  },
  {
   "cell_type": "code",
   "execution_count": 6,
   "id": "700e7ffd-09eb-4f1e-8c9d-16449c722c73",
   "metadata": {},
   "outputs": [
    {
     "name": "stderr",
     "output_type": "stream",
     "text": [
      "── \u001b[1mAttaching packages\u001b[22m ─────────────────────────────────────────────────────────────────────────────────────────────────────────────────────── tidyverse 1.3.1 ──\n",
      "\n",
      "\u001b[32m✔\u001b[39m \u001b[34mggplot2\u001b[39m 3.3.5     \u001b[32m✔\u001b[39m \u001b[34mpurrr  \u001b[39m 0.3.4\n",
      "\u001b[32m✔\u001b[39m \u001b[34mtibble \u001b[39m 3.1.6     \u001b[32m✔\u001b[39m \u001b[34mdplyr  \u001b[39m 1.0.8\n",
      "\u001b[32m✔\u001b[39m \u001b[34mtidyr  \u001b[39m 1.2.0     \u001b[32m✔\u001b[39m \u001b[34mstringr\u001b[39m 1.4.0\n",
      "\u001b[32m✔\u001b[39m \u001b[34mreadr  \u001b[39m 2.1.2     \u001b[32m✔\u001b[39m \u001b[34mforcats\u001b[39m 0.5.1\n",
      "\n",
      "── \u001b[1mConflicts\u001b[22m ────────────────────────────────────────────────────────────────────────────────────────────────────────────────────────── tidyverse_conflicts() ──\n",
      "\u001b[31m✖\u001b[39m \u001b[34mdplyr\u001b[39m::\u001b[32mfilter()\u001b[39m masks \u001b[34mstats\u001b[39m::filter()\n",
      "\u001b[31m✖\u001b[39m \u001b[34mdplyr\u001b[39m::\u001b[32mlag()\u001b[39m    masks \u001b[34mstats\u001b[39m::lag()\n",
      "\n",
      "\n",
      "Attaching package: ‘data.table’\n",
      "\n",
      "\n",
      "The following objects are masked from ‘package:dplyr’:\n",
      "\n",
      "    between, first, last\n",
      "\n",
      "\n",
      "The following object is masked from ‘package:purrr’:\n",
      "\n",
      "    transpose\n",
      "\n",
      "\n",
      "\n",
      "Attaching package: ‘reshape’\n",
      "\n",
      "\n",
      "The following object is masked from ‘package:data.table’:\n",
      "\n",
      "    melt\n",
      "\n",
      "\n",
      "The following object is masked from ‘package:dplyr’:\n",
      "\n",
      "    rename\n",
      "\n",
      "\n",
      "The following objects are masked from ‘package:tidyr’:\n",
      "\n",
      "    expand, smiths\n",
      "\n",
      "\n"
     ]
    }
   ],
   "source": [
    "options(repr.matrix.max.rows=100, repr.matrix.max.cols=300)\n",
    "options(repr.plot.width = 20, repr.plot.height = 15)\n",
    "options(width=300)\n",
    "\n",
    "numcores=8\n",
    "\n",
    "library(tidyverse)\n",
    "library(data.table)\n",
    "library(fst)\n",
    "library(comorbidity)\n",
    "library(reshape)\n",
    "library(dtplyr)\n",
    "library(haven)\n",
    "library(vroom)\n",
    "library(dplyr)\n",
    "`%!in%` = Negate(`%in%`)\n",
    "\n",
    "setDTthreads(numcores)"
   ]
  },
  {
   "cell_type": "markdown",
   "id": "aca6b5f1-4d6a-41dc-a78d-8ecd69abdec1",
   "metadata": {
    "tags": []
   },
   "source": [
    "# Codes\n",
    "\n",
    "First, we will add codes from ICD and Medicare:primary_care_specialty_codes"
   ]
  },
  {
   "cell_type": "code",
   "execution_count": 7,
   "id": "33b8775f-2883-4eea-a49a-4f7b77f86aa4",
   "metadata": {},
   "outputs": [],
   "source": [
    "#diagnosis codes\n",
    "\n",
    "office_visit_codes=c(\"99201\",\"99202\",\"99203\",\"99204\",\"99205\",\"99211\",\"99212\",\"99213\",\"99214\"\n",
    "                     ,\"99215\")\n",
    "\n",
    "IHD_icd_9_codes=c(410, 411, 412,413,414)\n",
    "IHD_icd_10_codes=c(\"I20\", \"I21\", \"I22\", \"I23\", \"I24\", \"I25\")\n",
    "\n",
    "non_us_state_codes=c(40,54,56,57,58,59,60,61,62,63,64,65,66,97,98,99)\n",
    "\n",
    "primary_care_specialty_codes=c(\"01\", \"08\", \"11\", \"38\")\n",
    "\n",
    "#http://www.icd9data.com/2015/Volume1/390-459/401-405/default.htm\n",
    "#https://www.icd10data.com/ICD10CM/Codes/I00-I99/I10-I16\n",
    "hypertension_icd_9_codes=c(\"401\",\"402\",\"403\",\"404\",\"405\")\n",
    "hypertension_icd_10_codes=c(\"I10\",\"I11\",\"I12\",\"I13\",\"I15\",\"I16\")\n",
    "\n",
    "#http://www.icd9data.com/2014/Volume1/290-319/295-299/296/default.htm\n",
    "#https://www.icd10data.com/ICD10CM/Codes/F01-F99/F30-F39\n",
    "depression_icd_9_codes=c(\"2962\",\"2963\")\n",
    "depression_icd_10_codes=c(\"F32\",\"F33\")\n",
    "\n",
    "#http://www.icd9data.com/2015/Volume1/240-279/249-259/default.htm\n",
    "#https://www.icd10data.com/ICD10CM/Codes/E00-E89/E08-E13\n",
    "diabetes_icd_9_codes=c(\"250\")\n",
    "diabetes_icd_10_codes=c(\"E08\",\"E09\",\"E10\",\"E11\",\"E13\")\n",
    "\n",
    "#http://www.icd9data.com/2014/Volume1/710-739/710-719/714/default.htm\n",
    "#https://www.icd10data.com/ICD10CM/Codes/M00-M99/M05-M14\n",
    "arthritis_icd_9_codes=c(\"714\")\n",
    "arthritis_icd_10_codes=c(\"M05\",\"M06\",\"M07\",\"M08\",\"M09\",\"M10\",\"M11\",\"M12\",\"M13\",\"M14\")\n",
    "\n",
    "\n",
    "\n"
   ]
  },
  {
   "cell_type": "markdown",
   "id": "7cea606a-44b7-4e78-b934-4082653f025c",
   "metadata": {
    "tags": []
   },
   "source": [
    "# Patient level calculations"
   ]
  },
  {
   "cell_type": "markdown",
   "id": "68e65d5b-6108-4a8f-a5c1-1edd174294b5",
   "metadata": {
    "tags": []
   },
   "source": [
    "## Yearly Calculators\n",
    "\n",
    "These are the main functions that calculate yearly expenditures for patients and their corresponding physicians.\\"
   ]
  },
  {
   "cell_type": "markdown",
   "id": "100463da-d595-4af8-8fb5-0438caf28d53",
   "metadata": {
    "tags": []
   },
   "source": [
    "### Read data from choose columns\n",
    "\n"
   ]
  },
  {
   "cell_type": "code",
   "execution_count": 3,
   "id": "6e36d11f-ce73-4b98-a279-3c12b6f344e6",
   "metadata": {},
   "outputs": [],
   "source": [
    "carrier_data_all_years = read_fst(\n",
    "    \"carrier_data_all_years.fst\", as.data.table = T,to = 1000000)"
   ]
  },
  {
   "cell_type": "code",
   "execution_count": 4,
   "id": "74e7a3bf-5eb6-4fba-9e10-445876d1aa96",
   "metadata": {
    "tags": []
   },
   "outputs": [],
   "source": [
    "outpatient_data_all_years = read_fst(\n",
    "    \"outpatient_data_all_years.fst\", as.data.table = T,to = 1000000)\n",
    "inpatient_data_all_years = read_fst(\n",
    "    \"inpatient_data_all_years.fst\", as.data.table = T,to = 1000000)"
   ]
  },
  {
   "cell_type": "code",
   "execution_count": 5,
   "id": "077fa9c8-f4f0-41b0-9d80-440c7e81ce15",
   "metadata": {
    "tags": []
   },
   "outputs": [],
   "source": [
    "mbsf_data = read_fst(\n",
    "  \"/work/postresearch/Shared/Projects/Data_fst/mbsf_data\", as.data.table = T,to = 1000000)\n",
    "revenue_center_outpatient_all_years = read_fst(\n",
    "  \"/work/postresearch/Shared/Projects/Data_fst/revenue_center_outpatient_all_years.fst\", as.data.table = T,to = 1000000)\n",
    "outpatient_and_revenue_center_data = read_fst(\n",
    "  \"/work/postresearch/Shared/Projects/Data_fst/outpatient_and_revenue_center_data.fst\", as.data.table = T,to = 1000000)"
   ]
  },
  {
   "cell_type": "code",
   "execution_count": 9,
   "id": "e2835e99-846d-4390-90e7-79a807547077",
   "metadata": {
    "tags": []
   },
   "outputs": [],
   "source": [
    "#carrier_sample = tail(carrier_data_all_years,1000000)\n",
    "#outpatient_sample = tail(outpatient_data_all_years,1000000)\n",
    "#inpatient_sample = tail(inpatient_data_all_years,1000000)\n",
    "#mbsf_sample = tail(mbsf_data,1000000)\n",
    "#revenue_center_outpatient_sample=tail(revenue_center_outpatient_all_years,1000000)\n",
    "#outpatient_and_revenue_center_data_sample=tail(outpatient_and_revenue_center_data,1000000)\n",
    "#head(carrier_sample)\n",
    "#head(outpatient_sample)\n",
    "#head(inpatient_sample)\n",
    "#head(mbsf_sample)\n",
    "#head(revenue_center_outpatient_sample)\n",
    "#head(outpatient_and_revenue_center_data_sample)"
   ]
  },
  {
   "cell_type": "markdown",
   "id": "f451aea9-2711-4a54-b939-1549783a2eba",
   "metadata": {
    "tags": []
   },
   "source": [
    "### Loading sample data (for pc)"
   ]
  },
  {
   "cell_type": "code",
   "execution_count": 2,
   "id": "612bc3ad-4fd8-41a0-8c55-e2a45011592d",
   "metadata": {},
   "outputs": [],
   "source": [
    "sample_data=readRDS(file = \"sample_data.RDS\")"
   ]
  },
  {
   "cell_type": "code",
   "execution_count": 9,
   "id": "cf4b6136-7150-4e85-8498-9f2d5327b6c5",
   "metadata": {},
   "outputs": [],
   "source": [
    "carrier_data_all_years=sample_data[[1]]\n",
    "outpatient_data_all_years=sample_data[[2]]\n",
    "inpatient_data_all_years=sample_data[[3]]\n",
    "mbsf_data=read_fst(\"mbsf_data_long.fst\")\n",
    "revenue_center_outpatient_all_years=sample_data[[5]]\n",
    "outpatient_and_revenue_center_data=sample_data[[6]]"
   ]
  },
  {
   "cell_type": "markdown",
   "id": "49f2391b-8fe9-417a-a991-1ac1adedcdb7",
   "metadata": {
    "tags": []
   },
   "source": [
    "### Patient yearly expenditures and use of services carrier\n",
    "\n",
    "I will first create a function that adds conditions of interest to the data.\n"
   ]
  },
  {
   "cell_type": "markdown",
   "id": "67c9078e-76e0-4da6-999e-77e6c8a9cc40",
   "metadata": {},
   "source": [
    "#### Finding conditions for each claim line"
   ]
  },
  {
   "cell_type": "code",
   "execution_count": 7,
   "id": "e02722bf-fc90-400e-9e29-faa6285560e4",
   "metadata": {
    "tags": []
   },
   "outputs": [
    {
     "name": "stderr",
     "output_type": "stream",
     "text": [
      "Loading required package: lubridate\n",
      "\n",
      "\n",
      "Attaching package: ‘lubridate’\n",
      "\n",
      "\n",
      "The following object is masked from ‘package:reshape’:\n",
      "\n",
      "    stamp\n",
      "\n",
      "\n",
      "The following objects are masked from ‘package:data.table’:\n",
      "\n",
      "    hour, isoweek, mday, minute, month, quarter, second, wday, week, yday, year\n",
      "\n",
      "\n",
      "The following objects are masked from ‘package:base’:\n",
      "\n",
      "    date, intersect, setdiff, union\n",
      "\n",
      "\n"
     ]
    },
    {
     "data": {
      "text/html": [
       "<table class=\"dataframe\">\n",
       "<caption>A data.table: 6 × 22</caption>\n",
       "<thead>\n",
       "\t<tr><th scope=col>DESY_SORT_KEY</th><th scope=col>CLAIM_NO</th><th scope=col>LINE_NUM</th><th scope=col>CLM_THRU_DT</th><th scope=col>LINE_PLACE_OF_SRVC_CD</th><th scope=col>HCPCS_CD</th><th scope=col>LINE_ICD_DGNS_VRSN_CD</th><th scope=col>LINE_ICD_DGNS_CD</th><th scope=col>LINE_ALOWD_CHRG_AMT</th><th scope=col>PRF_PHYSN_NPI</th><th scope=col>PRVDR_SPCLTY</th><th scope=col>PRVDR_STATE_CD</th><th scope=col>date</th><th scope=col>year</th><th scope=col>month_year</th><th scope=col>is_office_visit</th><th scope=col>is_by_primary_care_physician</th><th scope=col>is_hypertension</th><th scope=col>is_arthritis</th><th scope=col>is_IHD</th><th scope=col>is_diabetes</th><th scope=col>is_depression</th></tr>\n",
       "\t<tr><th scope=col>&lt;int&gt;</th><th scope=col>&lt;int&gt;</th><th scope=col>&lt;int&gt;</th><th scope=col>&lt;int&gt;</th><th scope=col>&lt;int&gt;</th><th scope=col>&lt;chr&gt;</th><th scope=col>&lt;int&gt;</th><th scope=col>&lt;chr&gt;</th><th scope=col>&lt;dbl&gt;</th><th scope=col>&lt;chr&gt;</th><th scope=col>&lt;chr&gt;</th><th scope=col>&lt;int&gt;</th><th scope=col>&lt;date&gt;</th><th scope=col>&lt;dbl&gt;</th><th scope=col>&lt;chr&gt;</th><th scope=col>&lt;lgl&gt;</th><th scope=col>&lt;lgl&gt;</th><th scope=col>&lt;lgl&gt;</th><th scope=col>&lt;lgl&gt;</th><th scope=col>&lt;lgl&gt;</th><th scope=col>&lt;lgl&gt;</th><th scope=col>&lt;lgl&gt;</th></tr>\n",
       "</thead>\n",
       "<tbody>\n",
       "\t<tr><td>100000015</td><td>2</td><td>1</td><td>20130425</td><td>22</td><td>94375</td><td>9</td><td>496  </td><td> 15.26</td><td>1073503884</td><td>29</td><td>22</td><td>2013-04-25</td><td>2013</td><td>2013-04</td><td>FALSE</td><td>FALSE</td><td>FALSE</td><td>FALSE</td><td>FALSE</td><td>FALSE</td><td>FALSE</td></tr>\n",
       "\t<tr><td>100000015</td><td>2</td><td>2</td><td>20130425</td><td>22</td><td>94726</td><td>9</td><td>496  </td><td> 13.54</td><td>1073503884</td><td>29</td><td>22</td><td>2013-04-25</td><td>2013</td><td>2013-04</td><td>FALSE</td><td>FALSE</td><td>FALSE</td><td>FALSE</td><td>FALSE</td><td>FALSE</td><td>FALSE</td></tr>\n",
       "\t<tr><td>100000015</td><td>2</td><td>3</td><td>20130425</td><td>22</td><td>94729</td><td>9</td><td>496  </td><td>  9.95</td><td>1073503884</td><td>29</td><td>22</td><td>2013-04-25</td><td>2013</td><td>2013-04</td><td>FALSE</td><td>FALSE</td><td>FALSE</td><td>FALSE</td><td>FALSE</td><td>FALSE</td><td>FALSE</td></tr>\n",
       "\t<tr><td>100000015</td><td>3</td><td>1</td><td>20130528</td><td>11</td><td>99214</td><td>9</td><td>41400</td><td>114.64</td><td>1285600932</td><td>11</td><td>22</td><td>2013-05-28</td><td>2013</td><td>2013-05</td><td> TRUE</td><td> TRUE</td><td>FALSE</td><td>FALSE</td><td> TRUE</td><td>FALSE</td><td>FALSE</td></tr>\n",
       "\t<tr><td>100000015</td><td>3</td><td>2</td><td>20130528</td><td>11</td><td>93000</td><td>9</td><td>41400</td><td> 20.08</td><td>1285600932</td><td>11</td><td>22</td><td>2013-05-28</td><td>2013</td><td>2013-05</td><td>FALSE</td><td> TRUE</td><td>FALSE</td><td>FALSE</td><td> TRUE</td><td>FALSE</td><td>FALSE</td></tr>\n",
       "\t<tr><td>100000015</td><td>4</td><td>1</td><td>20130719</td><td>22</td><td>99213</td><td>9</td><td>496  </td><td> 51.76</td><td>1659344091</td><td>29</td><td>22</td><td>2013-07-19</td><td>2013</td><td>2013-07</td><td> TRUE</td><td>FALSE</td><td>FALSE</td><td>FALSE</td><td>FALSE</td><td>FALSE</td><td>FALSE</td></tr>\n",
       "</tbody>\n",
       "</table>\n"
      ],
      "text/latex": [
       "A data.table: 6 × 22\n",
       "\\begin{tabular}{llllllllllllllllllllll}\n",
       " DESY\\_SORT\\_KEY & CLAIM\\_NO & LINE\\_NUM & CLM\\_THRU\\_DT & LINE\\_PLACE\\_OF\\_SRVC\\_CD & HCPCS\\_CD & LINE\\_ICD\\_DGNS\\_VRSN\\_CD & LINE\\_ICD\\_DGNS\\_CD & LINE\\_ALOWD\\_CHRG\\_AMT & PRF\\_PHYSN\\_NPI & PRVDR\\_SPCLTY & PRVDR\\_STATE\\_CD & date & year & month\\_year & is\\_office\\_visit & is\\_by\\_primary\\_care\\_physician & is\\_hypertension & is\\_arthritis & is\\_IHD & is\\_diabetes & is\\_depression\\\\\n",
       " <int> & <int> & <int> & <int> & <int> & <chr> & <int> & <chr> & <dbl> & <chr> & <chr> & <int> & <date> & <dbl> & <chr> & <lgl> & <lgl> & <lgl> & <lgl> & <lgl> & <lgl> & <lgl>\\\\\n",
       "\\hline\n",
       "\t 100000015 & 2 & 1 & 20130425 & 22 & 94375 & 9 & 496   &  15.26 & 1073503884 & 29 & 22 & 2013-04-25 & 2013 & 2013-04 & FALSE & FALSE & FALSE & FALSE & FALSE & FALSE & FALSE\\\\\n",
       "\t 100000015 & 2 & 2 & 20130425 & 22 & 94726 & 9 & 496   &  13.54 & 1073503884 & 29 & 22 & 2013-04-25 & 2013 & 2013-04 & FALSE & FALSE & FALSE & FALSE & FALSE & FALSE & FALSE\\\\\n",
       "\t 100000015 & 2 & 3 & 20130425 & 22 & 94729 & 9 & 496   &   9.95 & 1073503884 & 29 & 22 & 2013-04-25 & 2013 & 2013-04 & FALSE & FALSE & FALSE & FALSE & FALSE & FALSE & FALSE\\\\\n",
       "\t 100000015 & 3 & 1 & 20130528 & 11 & 99214 & 9 & 41400 & 114.64 & 1285600932 & 11 & 22 & 2013-05-28 & 2013 & 2013-05 &  TRUE &  TRUE & FALSE & FALSE &  TRUE & FALSE & FALSE\\\\\n",
       "\t 100000015 & 3 & 2 & 20130528 & 11 & 93000 & 9 & 41400 &  20.08 & 1285600932 & 11 & 22 & 2013-05-28 & 2013 & 2013-05 & FALSE &  TRUE & FALSE & FALSE &  TRUE & FALSE & FALSE\\\\\n",
       "\t 100000015 & 4 & 1 & 20130719 & 22 & 99213 & 9 & 496   &  51.76 & 1659344091 & 29 & 22 & 2013-07-19 & 2013 & 2013-07 &  TRUE & FALSE & FALSE & FALSE & FALSE & FALSE & FALSE\\\\\n",
       "\\end{tabular}\n"
      ],
      "text/markdown": [
       "\n",
       "A data.table: 6 × 22\n",
       "\n",
       "| DESY_SORT_KEY &lt;int&gt; | CLAIM_NO &lt;int&gt; | LINE_NUM &lt;int&gt; | CLM_THRU_DT &lt;int&gt; | LINE_PLACE_OF_SRVC_CD &lt;int&gt; | HCPCS_CD &lt;chr&gt; | LINE_ICD_DGNS_VRSN_CD &lt;int&gt; | LINE_ICD_DGNS_CD &lt;chr&gt; | LINE_ALOWD_CHRG_AMT &lt;dbl&gt; | PRF_PHYSN_NPI &lt;chr&gt; | PRVDR_SPCLTY &lt;chr&gt; | PRVDR_STATE_CD &lt;int&gt; | date &lt;date&gt; | year &lt;dbl&gt; | month_year &lt;chr&gt; | is_office_visit &lt;lgl&gt; | is_by_primary_care_physician &lt;lgl&gt; | is_hypertension &lt;lgl&gt; | is_arthritis &lt;lgl&gt; | is_IHD &lt;lgl&gt; | is_diabetes &lt;lgl&gt; | is_depression &lt;lgl&gt; |\n",
       "|---|---|---|---|---|---|---|---|---|---|---|---|---|---|---|---|---|---|---|---|---|---|\n",
       "| 100000015 | 2 | 1 | 20130425 | 22 | 94375 | 9 | 496   |  15.26 | 1073503884 | 29 | 22 | 2013-04-25 | 2013 | 2013-04 | FALSE | FALSE | FALSE | FALSE | FALSE | FALSE | FALSE |\n",
       "| 100000015 | 2 | 2 | 20130425 | 22 | 94726 | 9 | 496   |  13.54 | 1073503884 | 29 | 22 | 2013-04-25 | 2013 | 2013-04 | FALSE | FALSE | FALSE | FALSE | FALSE | FALSE | FALSE |\n",
       "| 100000015 | 2 | 3 | 20130425 | 22 | 94729 | 9 | 496   |   9.95 | 1073503884 | 29 | 22 | 2013-04-25 | 2013 | 2013-04 | FALSE | FALSE | FALSE | FALSE | FALSE | FALSE | FALSE |\n",
       "| 100000015 | 3 | 1 | 20130528 | 11 | 99214 | 9 | 41400 | 114.64 | 1285600932 | 11 | 22 | 2013-05-28 | 2013 | 2013-05 |  TRUE |  TRUE | FALSE | FALSE |  TRUE | FALSE | FALSE |\n",
       "| 100000015 | 3 | 2 | 20130528 | 11 | 93000 | 9 | 41400 |  20.08 | 1285600932 | 11 | 22 | 2013-05-28 | 2013 | 2013-05 | FALSE |  TRUE | FALSE | FALSE |  TRUE | FALSE | FALSE |\n",
       "| 100000015 | 4 | 1 | 20130719 | 22 | 99213 | 9 | 496   |  51.76 | 1659344091 | 29 | 22 | 2013-07-19 | 2013 | 2013-07 |  TRUE | FALSE | FALSE | FALSE | FALSE | FALSE | FALSE |\n",
       "\n"
      ],
      "text/plain": [
       "  DESY_SORT_KEY CLAIM_NO LINE_NUM CLM_THRU_DT LINE_PLACE_OF_SRVC_CD HCPCS_CD LINE_ICD_DGNS_VRSN_CD LINE_ICD_DGNS_CD LINE_ALOWD_CHRG_AMT PRF_PHYSN_NPI PRVDR_SPCLTY PRVDR_STATE_CD date       year month_year is_office_visit is_by_primary_care_physician is_hypertension is_arthritis is_IHD is_diabetes\n",
       "1 100000015     2        1        20130425    22                    94375    9                     496               15.26              1073503884    29           22             2013-04-25 2013 2013-04    FALSE           FALSE                        FALSE           FALSE        FALSE  FALSE      \n",
       "2 100000015     2        2        20130425    22                    94726    9                     496               13.54              1073503884    29           22             2013-04-25 2013 2013-04    FALSE           FALSE                        FALSE           FALSE        FALSE  FALSE      \n",
       "3 100000015     2        3        20130425    22                    94729    9                     496                9.95              1073503884    29           22             2013-04-25 2013 2013-04    FALSE           FALSE                        FALSE           FALSE        FALSE  FALSE      \n",
       "4 100000015     3        1        20130528    11                    99214    9                     41400            114.64              1285600932    11           22             2013-05-28 2013 2013-05     TRUE            TRUE                        FALSE           FALSE         TRUE  FALSE      \n",
       "5 100000015     3        2        20130528    11                    93000    9                     41400             20.08              1285600932    11           22             2013-05-28 2013 2013-05    FALSE            TRUE                        FALSE           FALSE         TRUE  FALSE      \n",
       "6 100000015     4        1        20130719    22                    99213    9                     496               51.76              1659344091    29           22             2013-07-19 2013 2013-07     TRUE           FALSE                        FALSE           FALSE        FALSE  FALSE      \n",
       "  is_depression\n",
       "1 FALSE        \n",
       "2 FALSE        \n",
       "3 FALSE        \n",
       "4 FALSE        \n",
       "5 FALSE        \n",
       "6 FALSE        "
      ]
     },
     "metadata": {},
     "output_type": "display_data"
    }
   ],
   "source": [
    "yearly_calculator_patient_conditions = function(data) {\n",
    "  \n",
    "  #requirements\n",
    "  require(data.table)\n",
    "  require(dtplyr)\n",
    "  require(tidyverse)\n",
    "  require(lubridate)\n",
    "  \n",
    "  data %>%\n",
    "    mutate(\n",
    "      is_office_visit = HCPCS_CD %in% office_visit_codes,\n",
    "      \n",
    "      is_by_primary_care_physician= PRVDR_SPCLTY %in% primary_care_specialty_codes,\n",
    "\n",
    "      is_hypertension= if_else(\n",
    "        LINE_ICD_DGNS_VRSN_CD == 0,\n",
    "        substr(LINE_ICD_DGNS_CD, 0, 3) %in% hypertension_icd_10_codes,\n",
    "        if_else(\n",
    "          LINE_ICD_DGNS_VRSN_CD == 9,\n",
    "          substr(LINE_ICD_DGNS_CD, 0, 3) %in% hypertension_icd_9_codes,NA)),\n",
    "      \n",
    "      is_arthritis= if_else(\n",
    "        LINE_ICD_DGNS_VRSN_CD == 0,\n",
    "        substr(LINE_ICD_DGNS_CD, 0, 3) %in% arthritis_icd_10_codes,\n",
    "        if_else(\n",
    "          LINE_ICD_DGNS_VRSN_CD == 9,\n",
    "          substr(LINE_ICD_DGNS_CD, 0, 3) %in% arthritis_icd_9_codes,NA)),\n",
    "      \n",
    "      is_IHD = if_else(\n",
    "        LINE_ICD_DGNS_VRSN_CD == 0,\n",
    "        substr(LINE_ICD_DGNS_CD, 0, 3) %in% IHD_icd_10_codes,\n",
    "        if_else(\n",
    "          LINE_ICD_DGNS_VRSN_CD == 9,\n",
    "          substr(LINE_ICD_DGNS_CD, 0, 3) %in% IHD_icd_9_codes,NA)),\n",
    "      \n",
    "      is_diabetes= if_else(\n",
    "        LINE_ICD_DGNS_VRSN_CD == 0,\n",
    "        substr(LINE_ICD_DGNS_CD, 0, 3) %in% diabetes_icd_10_codes,\n",
    "        if_else(\n",
    "          LINE_ICD_DGNS_VRSN_CD == 9,\n",
    "          substr(LINE_ICD_DGNS_CD, 0, 3) %in% diabetes_icd_9_codes,NA)),\n",
    "      \n",
    "      is_depression= if_else(\n",
    "        LINE_ICD_DGNS_VRSN_CD == 0,\n",
    "        substr(LINE_ICD_DGNS_CD, 0, 3) %in% depression_icd_10_codes,\n",
    "        if_else(\n",
    "          LINE_ICD_DGNS_VRSN_CD == 9,\n",
    "          substr(LINE_ICD_DGNS_CD, 0, 4) %in% depression_icd_9_codes,NA))\n",
    "\n",
    "      \n",
    "    ) %>%\n",
    "    as.data.table()\n",
    "}\n",
    "\n",
    "yearly_patient_conditions_carrier=yearly_calculator_patient_conditions(carrier_data_all_years)\n",
    "head(yearly_patient_conditions_carrier)\n"
   ]
  },
  {
   "cell_type": "markdown",
   "id": "e096caae-f181-4f25-8161-41b921b66bfd",
   "metadata": {
    "tags": []
   },
   "source": [
    "#### Summarizing patient data\n",
    "I will now summarise the data for each patient.\n"
   ]
  },
  {
   "cell_type": "code",
   "execution_count": 12,
   "id": "15c4ddb5-5f21-4158-9dfd-0e66e5dfffcc",
   "metadata": {},
   "outputs": [
    {
     "name": "stderr",
     "output_type": "stream",
     "text": [
      "`summarise()` has grouped output by 'DESY_SORT_KEY'. You can override using the `.groups` argument.\n"
     ]
    },
    {
     "data": {
      "text/html": [
       "<table class=\"dataframe\">\n",
       "<caption>A data.table: 6 × 14</caption>\n",
       "<thead>\n",
       "\t<tr><th scope=col>DESY_SORT_KEY</th><th scope=col>year</th><th scope=col>tot_allowed_carrier</th><th scope=col>office_visit_count</th><th scope=col>office_visit_cost_carrier</th><th scope=col>distinct_clinicians</th><th scope=col>distinct_primary_care_physicians</th><th scope=col>hypertension</th><th scope=col>arthritis</th><th scope=col>IHD</th><th scope=col>diabetes</th><th scope=col>depression</th><th scope=col>icd_9_pure</th><th scope=col>icd_10_pure</th></tr>\n",
       "\t<tr><th scope=col>&lt;int&gt;</th><th scope=col>&lt;dbl&gt;</th><th scope=col>&lt;dbl&gt;</th><th scope=col>&lt;int&gt;</th><th scope=col>&lt;dbl&gt;</th><th scope=col>&lt;int&gt;</th><th scope=col>&lt;int&gt;</th><th scope=col>&lt;lgl&gt;</th><th scope=col>&lt;lgl&gt;</th><th scope=col>&lt;lgl&gt;</th><th scope=col>&lt;lgl&gt;</th><th scope=col>&lt;lgl&gt;</th><th scope=col>&lt;lgl&gt;</th><th scope=col>&lt;lgl&gt;</th></tr>\n",
       "</thead>\n",
       "<tbody>\n",
       "\t<tr><td>100000015</td><td>2013</td><td> 1021.05</td><td> 4</td><td> 453.65</td><td> 7</td><td>1</td><td>FALSE</td><td>FALSE</td><td> TRUE</td><td>FALSE</td><td>FALSE</td><td>TRUE</td><td>FALSE</td></tr>\n",
       "\t<tr><td>100000019</td><td>2013</td><td>32873.53</td><td>46</td><td>5307.06</td><td>27</td><td>2</td><td> TRUE</td><td>FALSE</td><td>FALSE</td><td>FALSE</td><td>FALSE</td><td>TRUE</td><td>FALSE</td></tr>\n",
       "\t<tr><td>100000053</td><td>2013</td><td> 1880.87</td><td> 9</td><td> 866.48</td><td> 6</td><td>0</td><td>FALSE</td><td>FALSE</td><td>FALSE</td><td>FALSE</td><td>FALSE</td><td>TRUE</td><td>FALSE</td></tr>\n",
       "\t<tr><td>100000099</td><td>2013</td><td>10677.32</td><td>25</td><td>1598.26</td><td>29</td><td>5</td><td> TRUE</td><td>FALSE</td><td>FALSE</td><td>FALSE</td><td>FALSE</td><td>TRUE</td><td>FALSE</td></tr>\n",
       "\t<tr><td>100000129</td><td>2013</td><td>    0.00</td><td> 0</td><td>   0.00</td><td> 1</td><td>0</td><td>FALSE</td><td>FALSE</td><td>FALSE</td><td>FALSE</td><td>FALSE</td><td>TRUE</td><td>FALSE</td></tr>\n",
       "\t<tr><td>100000203</td><td>2013</td><td>11762.77</td><td>27</td><td>2802.06</td><td>21</td><td>4</td><td> TRUE</td><td>FALSE</td><td>FALSE</td><td>FALSE</td><td>FALSE</td><td>TRUE</td><td>FALSE</td></tr>\n",
       "</tbody>\n",
       "</table>\n"
      ],
      "text/latex": [
       "A data.table: 6 × 14\n",
       "\\begin{tabular}{llllllllllllll}\n",
       " DESY\\_SORT\\_KEY & year & tot\\_allowed\\_carrier & office\\_visit\\_count & office\\_visit\\_cost\\_carrier & distinct\\_clinicians & distinct\\_primary\\_care\\_physicians & hypertension & arthritis & IHD & diabetes & depression & icd\\_9\\_pure & icd\\_10\\_pure\\\\\n",
       " <int> & <dbl> & <dbl> & <int> & <dbl> & <int> & <int> & <lgl> & <lgl> & <lgl> & <lgl> & <lgl> & <lgl> & <lgl>\\\\\n",
       "\\hline\n",
       "\t 100000015 & 2013 &  1021.05 &  4 &  453.65 &  7 & 1 & FALSE & FALSE &  TRUE & FALSE & FALSE & TRUE & FALSE\\\\\n",
       "\t 100000019 & 2013 & 32873.53 & 46 & 5307.06 & 27 & 2 &  TRUE & FALSE & FALSE & FALSE & FALSE & TRUE & FALSE\\\\\n",
       "\t 100000053 & 2013 &  1880.87 &  9 &  866.48 &  6 & 0 & FALSE & FALSE & FALSE & FALSE & FALSE & TRUE & FALSE\\\\\n",
       "\t 100000099 & 2013 & 10677.32 & 25 & 1598.26 & 29 & 5 &  TRUE & FALSE & FALSE & FALSE & FALSE & TRUE & FALSE\\\\\n",
       "\t 100000129 & 2013 &     0.00 &  0 &    0.00 &  1 & 0 & FALSE & FALSE & FALSE & FALSE & FALSE & TRUE & FALSE\\\\\n",
       "\t 100000203 & 2013 & 11762.77 & 27 & 2802.06 & 21 & 4 &  TRUE & FALSE & FALSE & FALSE & FALSE & TRUE & FALSE\\\\\n",
       "\\end{tabular}\n"
      ],
      "text/markdown": [
       "\n",
       "A data.table: 6 × 14\n",
       "\n",
       "| DESY_SORT_KEY &lt;int&gt; | year &lt;dbl&gt; | tot_allowed_carrier &lt;dbl&gt; | office_visit_count &lt;int&gt; | office_visit_cost_carrier &lt;dbl&gt; | distinct_clinicians &lt;int&gt; | distinct_primary_care_physicians &lt;int&gt; | hypertension &lt;lgl&gt; | arthritis &lt;lgl&gt; | IHD &lt;lgl&gt; | diabetes &lt;lgl&gt; | depression &lt;lgl&gt; | icd_9_pure &lt;lgl&gt; | icd_10_pure &lt;lgl&gt; |\n",
       "|---|---|---|---|---|---|---|---|---|---|---|---|---|---|\n",
       "| 100000015 | 2013 |  1021.05 |  4 |  453.65 |  7 | 1 | FALSE | FALSE |  TRUE | FALSE | FALSE | TRUE | FALSE |\n",
       "| 100000019 | 2013 | 32873.53 | 46 | 5307.06 | 27 | 2 |  TRUE | FALSE | FALSE | FALSE | FALSE | TRUE | FALSE |\n",
       "| 100000053 | 2013 |  1880.87 |  9 |  866.48 |  6 | 0 | FALSE | FALSE | FALSE | FALSE | FALSE | TRUE | FALSE |\n",
       "| 100000099 | 2013 | 10677.32 | 25 | 1598.26 | 29 | 5 |  TRUE | FALSE | FALSE | FALSE | FALSE | TRUE | FALSE |\n",
       "| 100000129 | 2013 |     0.00 |  0 |    0.00 |  1 | 0 | FALSE | FALSE | FALSE | FALSE | FALSE | TRUE | FALSE |\n",
       "| 100000203 | 2013 | 11762.77 | 27 | 2802.06 | 21 | 4 |  TRUE | FALSE | FALSE | FALSE | FALSE | TRUE | FALSE |\n",
       "\n"
      ],
      "text/plain": [
       "  DESY_SORT_KEY year tot_allowed_carrier office_visit_count office_visit_cost_carrier distinct_clinicians distinct_primary_care_physicians hypertension arthritis IHD   diabetes depression icd_9_pure icd_10_pure\n",
       "1 100000015     2013  1021.05             4                  453.65                    7                  1                                FALSE        FALSE      TRUE FALSE    FALSE      TRUE       FALSE      \n",
       "2 100000019     2013 32873.53            46                 5307.06                   27                  2                                 TRUE        FALSE     FALSE FALSE    FALSE      TRUE       FALSE      \n",
       "3 100000053     2013  1880.87             9                  866.48                    6                  0                                FALSE        FALSE     FALSE FALSE    FALSE      TRUE       FALSE      \n",
       "4 100000099     2013 10677.32            25                 1598.26                   29                  5                                 TRUE        FALSE     FALSE FALSE    FALSE      TRUE       FALSE      \n",
       "5 100000129     2013     0.00             0                    0.00                    1                  0                                FALSE        FALSE     FALSE FALSE    FALSE      TRUE       FALSE      \n",
       "6 100000203     2013 11762.77            27                 2802.06                   21                  4                                 TRUE        FALSE     FALSE FALSE    FALSE      TRUE       FALSE      "
      ]
     },
     "metadata": {},
     "output_type": "display_data"
    }
   ],
   "source": [
    "summarise_carrier = function(data, time_frame = 365){\n",
    "  \n",
    "  data%>%\n",
    "    group_by(DESY_SORT_KEY,year) %>%\n",
    "    summarise(\n",
    "      #tot_allowed_carrier = sum(na.rm = T, LINE_ALOWD_CHRG_AMT),\n",
    "      \n",
    "      #office_visit_count = sum(na.rm = T, is_office_visit),\n",
    "      \n",
    "      #office_visit_cost_carrier = sum(na.rm = T, LINE_ALOWD_CHRG_AMT * is_office_visit),\n",
    "      \n",
    "      distinct_clinicians = length(unique(PRF_PHYSN_NPI)),\n",
    "      \n",
    "      distinct_primary_care_physicians = length(.[is_by_primary_care_physician, unique(PRF_PHYSN_NPI)]),\n",
    "\n",
    "      hypertension = sum(is_hypertension, na.rm = T) > 0,\n",
    "      \n",
    "      arthritis = sum(is_arthritis, na.rm = T) > 0,\n",
    "      \n",
    "      IHD = sum(is_IHD, na.rm = T) > 0,\n",
    "      \n",
    "      diabetes = sum(is_diabetes, na.rm = T) > 0,\n",
    "  \n",
    "      depression = sum(is_depression, na.rm = T) > 0,\n",
    "      \n",
    "      icd_9_pure = ifelse(prod(LINE_ICD_DGNS_VRSN_CD, na.rm = T) == 0, F, T),\n",
    "      \n",
    "      icd_10_pure = ifelse(sum(LINE_ICD_DGNS_VRSN_CD, na.rm = T) == 0, T, F),\n",
    "      \n",
    "    ) %>%\n",
    "    as.data.table()\n",
    "}\n",
    "\n",
    "\n",
    "summary_patient_by_year = summarise_carrier(yearly_patient_conditions_carrier)\n",
    "head(summary)\n"
   ]
  },
  {
   "cell_type": "code",
   "execution_count": null,
   "id": "81010465-c439-4ac4-9875-63f69689788e",
   "metadata": {},
   "outputs": [],
   "source": [
    "add_patient_characteristics = function(mbsf_data,summary_data){\n",
    "  require(dtplyr)\n",
    "  require(lubridate)\n",
    "  require(tidyverse)\n",
    "  data = left_join(summary_data,mbsf_data,by=\"DESY_SORT_KEY,year\") %>% as.data.frame()\n",
    "  \n",
    "  data %>%\n",
    "  mutate(\n",
    "    died_this_year=\n",
    "  )\n",
    "}\n",
    "\n",
    "summary_with_patient_characteristics=add_patient_characteristics(mbsf_data,summary_with_outpatient)\n",
    "head(summary_with_patient_characteristics)"
   ]
  },
  {
   "cell_type": "code",
   "execution_count": 10,
   "id": "055d9030-4847-4a04-baf1-84d30a0a0b8a",
   "metadata": {},
   "outputs": [
    {
     "data": {
      "text/html": [
       "<table class=\"dataframe\">\n",
       "<caption>A data.frame: 6 × 36</caption>\n",
       "<thead>\n",
       "\t<tr><th></th><th scope=col>DESY_SORT_KEY</th><th scope=col>REFERENCE_YEAR</th><th scope=col>STATE_CODE</th><th scope=col>COUNTY_CODE</th><th scope=col>SEX_CODE</th><th scope=col>RACE_CODE</th><th scope=col>AGE</th><th scope=col>ORIG_REASON_FOR_ENTITLEMENT</th><th scope=col>CURR_REASON_FOR_ENTITLEMENT</th><th scope=col>ENTITLEMENT_BUY_IN_IND01</th><th scope=col>ENTITLEMENT_BUY_IN_IND02</th><th scope=col>ENTITLEMENT_BUY_IN_IND03</th><th scope=col>ENTITLEMENT_BUY_IN_IND04</th><th scope=col>ENTITLEMENT_BUY_IN_IND05</th><th scope=col>ENTITLEMENT_BUY_IN_IND06</th><th scope=col>ENTITLEMENT_BUY_IN_IND07</th><th scope=col>ENTITLEMENT_BUY_IN_IND08</th><th scope=col>ENTITLEMENT_BUY_IN_IND09</th><th scope=col>ENTITLEMENT_BUY_IN_IND10</th><th scope=col>ENTITLEMENT_BUY_IN_IND11</th><th scope=col>ENTITLEMENT_BUY_IN_IND12</th><th scope=col>HMO_INDICATOR01</th><th scope=col>HMO_INDICATOR02</th><th scope=col>HMO_INDICATOR03</th><th scope=col>HMO_INDICATOR04</th><th scope=col>HMO_INDICATOR05</th><th scope=col>HMO_INDICATOR06</th><th scope=col>HMO_INDICATOR07</th><th scope=col>HMO_INDICATOR08</th><th scope=col>HMO_INDICATOR09</th><th scope=col>HMO_INDICATOR10</th><th scope=col>HMO_INDICATOR11</th><th scope=col>HMO_INDICATOR12</th><th scope=col>VALID_DATE_OF_DEATH_SWITCH</th><th scope=col>DATE_OF_DEATH</th><th scope=col>year</th></tr>\n",
       "\t<tr><th></th><th scope=col>&lt;int&gt;</th><th scope=col>&lt;dbl&gt;</th><th scope=col>&lt;chr&gt;</th><th scope=col>&lt;chr&gt;</th><th scope=col>&lt;dbl&gt;</th><th scope=col>&lt;dbl&gt;</th><th scope=col>&lt;dbl&gt;</th><th scope=col>&lt;dbl&gt;</th><th scope=col>&lt;dbl&gt;</th><th scope=col>&lt;chr&gt;</th><th scope=col>&lt;chr&gt;</th><th scope=col>&lt;chr&gt;</th><th scope=col>&lt;chr&gt;</th><th scope=col>&lt;chr&gt;</th><th scope=col>&lt;chr&gt;</th><th scope=col>&lt;chr&gt;</th><th scope=col>&lt;chr&gt;</th><th scope=col>&lt;chr&gt;</th><th scope=col>&lt;chr&gt;</th><th scope=col>&lt;chr&gt;</th><th scope=col>&lt;chr&gt;</th><th scope=col>&lt;chr&gt;</th><th scope=col>&lt;chr&gt;</th><th scope=col>&lt;chr&gt;</th><th scope=col>&lt;chr&gt;</th><th scope=col>&lt;chr&gt;</th><th scope=col>&lt;chr&gt;</th><th scope=col>&lt;chr&gt;</th><th scope=col>&lt;chr&gt;</th><th scope=col>&lt;chr&gt;</th><th scope=col>&lt;chr&gt;</th><th scope=col>&lt;chr&gt;</th><th scope=col>&lt;chr&gt;</th><th scope=col>&lt;chr&gt;</th><th scope=col>&lt;dbl&gt;</th><th scope=col>&lt;dbl&gt;</th></tr>\n",
       "</thead>\n",
       "<tbody>\n",
       "\t<tr><th scope=row>1</th><td>0</td><td>13</td><td>45</td><td>910</td><td>2</td><td>1</td><td>75</td><td>0</td><td>0</td><td>C</td><td>C</td><td>C</td><td>C</td><td>C</td><td>C</td><td>C</td><td>C</td><td>C</td><td>C</td><td>C</td><td>3</td><td>0</td><td>0</td><td>0</td><td>0</td><td>0</td><td>0</td><td>0</td><td>0</td><td>0</td><td>0</td><td>0</td><td>0</td><td>NA</td><td>NA</td><td>2013</td></tr>\n",
       "\t<tr><th scope=row>2</th><td>0</td><td>13</td><td>22</td><td>170</td><td>2</td><td>1</td><td>71</td><td>0</td><td>0</td><td>3</td><td>3</td><td>3</td><td>3</td><td>3</td><td>3</td><td>3</td><td>3</td><td>3</td><td>3</td><td>3</td><td>3</td><td>0</td><td>0</td><td>0</td><td>0</td><td>0</td><td>0</td><td>0</td><td>0</td><td>0</td><td>0</td><td>0</td><td>0</td><td>NA</td><td>NA</td><td>2013</td></tr>\n",
       "\t<tr><th scope=row>3</th><td>0</td><td>13</td><td>33</td><td>420</td><td>2</td><td>1</td><td>93</td><td>0</td><td>0</td><td>3</td><td>3</td><td>3</td><td>3</td><td>3</td><td>3</td><td>3</td><td>3</td><td>3</td><td>3</td><td>3</td><td>3</td><td>0</td><td>0</td><td>0</td><td>0</td><td>0</td><td>0</td><td>0</td><td>0</td><td>0</td><td>0</td><td>0</td><td>0</td><td>NA</td><td>NA</td><td>2013</td></tr>\n",
       "\t<tr><th scope=row>4</th><td>0</td><td>13</td><td>49</td><td>801</td><td>2</td><td>1</td><td>71</td><td>0</td><td>0</td><td>1</td><td>1</td><td>1</td><td>1</td><td>1</td><td>1</td><td>1</td><td>1</td><td>1</td><td>1</td><td>1</td><td>1</td><td>0</td><td>0</td><td>0</td><td>0</td><td>0</td><td>0</td><td>0</td><td>0</td><td>0</td><td>0</td><td>0</td><td>0</td><td>NA</td><td>NA</td><td>2013</td></tr>\n",
       "\t<tr><th scope=row>5</th><td>0</td><td>13</td><td>33</td><td>400</td><td>2</td><td>1</td><td>75</td><td>0</td><td>0</td><td>3</td><td>3</td><td>3</td><td>3</td><td>3</td><td>3</td><td>3</td><td>3</td><td>3</td><td>3</td><td>3</td><td>3</td><td>0</td><td>0</td><td>0</td><td>0</td><td>0</td><td>0</td><td>0</td><td>0</td><td>0</td><td>0</td><td>0</td><td>0</td><td>NA</td><td>NA</td><td>2013</td></tr>\n",
       "\t<tr><th scope=row>6</th><td>0</td><td>13</td><td>10</td><td>510</td><td>1</td><td>1</td><td>70</td><td>0</td><td>0</td><td>3</td><td>3</td><td>3</td><td>3</td><td>3</td><td>3</td><td>3</td><td>3</td><td>3</td><td>3</td><td>3</td><td>3</td><td>0</td><td>0</td><td>0</td><td>0</td><td>0</td><td>0</td><td>0</td><td>0</td><td>0</td><td>0</td><td>0</td><td>0</td><td>NA</td><td>NA</td><td>2013</td></tr>\n",
       "</tbody>\n",
       "</table>\n"
      ],
      "text/latex": [
       "A data.frame: 6 × 36\n",
       "\\begin{tabular}{r|llllllllllllllllllllllllllllllllllll}\n",
       "  & DESY\\_SORT\\_KEY & REFERENCE\\_YEAR & STATE\\_CODE & COUNTY\\_CODE & SEX\\_CODE & RACE\\_CODE & AGE & ORIG\\_REASON\\_FOR\\_ENTITLEMENT & CURR\\_REASON\\_FOR\\_ENTITLEMENT & ENTITLEMENT\\_BUY\\_IN\\_IND01 & ENTITLEMENT\\_BUY\\_IN\\_IND02 & ENTITLEMENT\\_BUY\\_IN\\_IND03 & ENTITLEMENT\\_BUY\\_IN\\_IND04 & ENTITLEMENT\\_BUY\\_IN\\_IND05 & ENTITLEMENT\\_BUY\\_IN\\_IND06 & ENTITLEMENT\\_BUY\\_IN\\_IND07 & ENTITLEMENT\\_BUY\\_IN\\_IND08 & ENTITLEMENT\\_BUY\\_IN\\_IND09 & ENTITLEMENT\\_BUY\\_IN\\_IND10 & ENTITLEMENT\\_BUY\\_IN\\_IND11 & ENTITLEMENT\\_BUY\\_IN\\_IND12 & HMO\\_INDICATOR01 & HMO\\_INDICATOR02 & HMO\\_INDICATOR03 & HMO\\_INDICATOR04 & HMO\\_INDICATOR05 & HMO\\_INDICATOR06 & HMO\\_INDICATOR07 & HMO\\_INDICATOR08 & HMO\\_INDICATOR09 & HMO\\_INDICATOR10 & HMO\\_INDICATOR11 & HMO\\_INDICATOR12 & VALID\\_DATE\\_OF\\_DEATH\\_SWITCH & DATE\\_OF\\_DEATH & year\\\\\n",
       "  & <int> & <dbl> & <chr> & <chr> & <dbl> & <dbl> & <dbl> & <dbl> & <dbl> & <chr> & <chr> & <chr> & <chr> & <chr> & <chr> & <chr> & <chr> & <chr> & <chr> & <chr> & <chr> & <chr> & <chr> & <chr> & <chr> & <chr> & <chr> & <chr> & <chr> & <chr> & <chr> & <chr> & <chr> & <chr> & <dbl> & <dbl>\\\\\n",
       "\\hline\n",
       "\t1 & 0 & 13 & 45 & 910 & 2 & 1 & 75 & 0 & 0 & C & C & C & C & C & C & C & C & C & C & C & 3 & 0 & 0 & 0 & 0 & 0 & 0 & 0 & 0 & 0 & 0 & 0 & 0 & NA & NA & 2013\\\\\n",
       "\t2 & 0 & 13 & 22 & 170 & 2 & 1 & 71 & 0 & 0 & 3 & 3 & 3 & 3 & 3 & 3 & 3 & 3 & 3 & 3 & 3 & 3 & 0 & 0 & 0 & 0 & 0 & 0 & 0 & 0 & 0 & 0 & 0 & 0 & NA & NA & 2013\\\\\n",
       "\t3 & 0 & 13 & 33 & 420 & 2 & 1 & 93 & 0 & 0 & 3 & 3 & 3 & 3 & 3 & 3 & 3 & 3 & 3 & 3 & 3 & 3 & 0 & 0 & 0 & 0 & 0 & 0 & 0 & 0 & 0 & 0 & 0 & 0 & NA & NA & 2013\\\\\n",
       "\t4 & 0 & 13 & 49 & 801 & 2 & 1 & 71 & 0 & 0 & 1 & 1 & 1 & 1 & 1 & 1 & 1 & 1 & 1 & 1 & 1 & 1 & 0 & 0 & 0 & 0 & 0 & 0 & 0 & 0 & 0 & 0 & 0 & 0 & NA & NA & 2013\\\\\n",
       "\t5 & 0 & 13 & 33 & 400 & 2 & 1 & 75 & 0 & 0 & 3 & 3 & 3 & 3 & 3 & 3 & 3 & 3 & 3 & 3 & 3 & 3 & 0 & 0 & 0 & 0 & 0 & 0 & 0 & 0 & 0 & 0 & 0 & 0 & NA & NA & 2013\\\\\n",
       "\t6 & 0 & 13 & 10 & 510 & 1 & 1 & 70 & 0 & 0 & 3 & 3 & 3 & 3 & 3 & 3 & 3 & 3 & 3 & 3 & 3 & 3 & 0 & 0 & 0 & 0 & 0 & 0 & 0 & 0 & 0 & 0 & 0 & 0 & NA & NA & 2013\\\\\n",
       "\\end{tabular}\n"
      ],
      "text/markdown": [
       "\n",
       "A data.frame: 6 × 36\n",
       "\n",
       "| <!--/--> | DESY_SORT_KEY &lt;int&gt; | REFERENCE_YEAR &lt;dbl&gt; | STATE_CODE &lt;chr&gt; | COUNTY_CODE &lt;chr&gt; | SEX_CODE &lt;dbl&gt; | RACE_CODE &lt;dbl&gt; | AGE &lt;dbl&gt; | ORIG_REASON_FOR_ENTITLEMENT &lt;dbl&gt; | CURR_REASON_FOR_ENTITLEMENT &lt;dbl&gt; | ENTITLEMENT_BUY_IN_IND01 &lt;chr&gt; | ENTITLEMENT_BUY_IN_IND02 &lt;chr&gt; | ENTITLEMENT_BUY_IN_IND03 &lt;chr&gt; | ENTITLEMENT_BUY_IN_IND04 &lt;chr&gt; | ENTITLEMENT_BUY_IN_IND05 &lt;chr&gt; | ENTITLEMENT_BUY_IN_IND06 &lt;chr&gt; | ENTITLEMENT_BUY_IN_IND07 &lt;chr&gt; | ENTITLEMENT_BUY_IN_IND08 &lt;chr&gt; | ENTITLEMENT_BUY_IN_IND09 &lt;chr&gt; | ENTITLEMENT_BUY_IN_IND10 &lt;chr&gt; | ENTITLEMENT_BUY_IN_IND11 &lt;chr&gt; | ENTITLEMENT_BUY_IN_IND12 &lt;chr&gt; | HMO_INDICATOR01 &lt;chr&gt; | HMO_INDICATOR02 &lt;chr&gt; | HMO_INDICATOR03 &lt;chr&gt; | HMO_INDICATOR04 &lt;chr&gt; | HMO_INDICATOR05 &lt;chr&gt; | HMO_INDICATOR06 &lt;chr&gt; | HMO_INDICATOR07 &lt;chr&gt; | HMO_INDICATOR08 &lt;chr&gt; | HMO_INDICATOR09 &lt;chr&gt; | HMO_INDICATOR10 &lt;chr&gt; | HMO_INDICATOR11 &lt;chr&gt; | HMO_INDICATOR12 &lt;chr&gt; | VALID_DATE_OF_DEATH_SWITCH &lt;chr&gt; | DATE_OF_DEATH &lt;dbl&gt; | year &lt;dbl&gt; |\n",
       "|---|---|---|---|---|---|---|---|---|---|---|---|---|---|---|---|---|---|---|---|---|---|---|---|---|---|---|---|---|---|---|---|---|---|---|---|---|\n",
       "| 1 | 0 | 13 | 45 | 910 | 2 | 1 | 75 | 0 | 0 | C | C | C | C | C | C | C | C | C | C | C | 3 | 0 | 0 | 0 | 0 | 0 | 0 | 0 | 0 | 0 | 0 | 0 | 0 | NA | NA | 2013 |\n",
       "| 2 | 0 | 13 | 22 | 170 | 2 | 1 | 71 | 0 | 0 | 3 | 3 | 3 | 3 | 3 | 3 | 3 | 3 | 3 | 3 | 3 | 3 | 0 | 0 | 0 | 0 | 0 | 0 | 0 | 0 | 0 | 0 | 0 | 0 | NA | NA | 2013 |\n",
       "| 3 | 0 | 13 | 33 | 420 | 2 | 1 | 93 | 0 | 0 | 3 | 3 | 3 | 3 | 3 | 3 | 3 | 3 | 3 | 3 | 3 | 3 | 0 | 0 | 0 | 0 | 0 | 0 | 0 | 0 | 0 | 0 | 0 | 0 | NA | NA | 2013 |\n",
       "| 4 | 0 | 13 | 49 | 801 | 2 | 1 | 71 | 0 | 0 | 1 | 1 | 1 | 1 | 1 | 1 | 1 | 1 | 1 | 1 | 1 | 1 | 0 | 0 | 0 | 0 | 0 | 0 | 0 | 0 | 0 | 0 | 0 | 0 | NA | NA | 2013 |\n",
       "| 5 | 0 | 13 | 33 | 400 | 2 | 1 | 75 | 0 | 0 | 3 | 3 | 3 | 3 | 3 | 3 | 3 | 3 | 3 | 3 | 3 | 3 | 0 | 0 | 0 | 0 | 0 | 0 | 0 | 0 | 0 | 0 | 0 | 0 | NA | NA | 2013 |\n",
       "| 6 | 0 | 13 | 10 | 510 | 1 | 1 | 70 | 0 | 0 | 3 | 3 | 3 | 3 | 3 | 3 | 3 | 3 | 3 | 3 | 3 | 3 | 0 | 0 | 0 | 0 | 0 | 0 | 0 | 0 | 0 | 0 | 0 | 0 | NA | NA | 2013 |\n",
       "\n"
      ],
      "text/plain": [
       "  DESY_SORT_KEY REFERENCE_YEAR STATE_CODE COUNTY_CODE SEX_CODE RACE_CODE AGE ORIG_REASON_FOR_ENTITLEMENT CURR_REASON_FOR_ENTITLEMENT ENTITLEMENT_BUY_IN_IND01 ENTITLEMENT_BUY_IN_IND02 ENTITLEMENT_BUY_IN_IND03 ENTITLEMENT_BUY_IN_IND04 ENTITLEMENT_BUY_IN_IND05 ENTITLEMENT_BUY_IN_IND06\n",
       "1 0             13             45         910         2        1         75  0                           0                           C                        C                        C                        C                        C                        C                       \n",
       "2 0             13             22         170         2        1         71  0                           0                           3                        3                        3                        3                        3                        3                       \n",
       "3 0             13             33         420         2        1         93  0                           0                           3                        3                        3                        3                        3                        3                       \n",
       "4 0             13             49         801         2        1         71  0                           0                           1                        1                        1                        1                        1                        1                       \n",
       "5 0             13             33         400         2        1         75  0                           0                           3                        3                        3                        3                        3                        3                       \n",
       "6 0             13             10         510         1        1         70  0                           0                           3                        3                        3                        3                        3                        3                       \n",
       "  ENTITLEMENT_BUY_IN_IND07 ENTITLEMENT_BUY_IN_IND08 ENTITLEMENT_BUY_IN_IND09 ENTITLEMENT_BUY_IN_IND10 ENTITLEMENT_BUY_IN_IND11 ENTITLEMENT_BUY_IN_IND12 HMO_INDICATOR01 HMO_INDICATOR02 HMO_INDICATOR03 HMO_INDICATOR04 HMO_INDICATOR05 HMO_INDICATOR06 HMO_INDICATOR07 HMO_INDICATOR08 HMO_INDICATOR09\n",
       "1 C                        C                        C                        C                        C                        3                        0               0               0               0               0               0               0               0               0              \n",
       "2 3                        3                        3                        3                        3                        3                        0               0               0               0               0               0               0               0               0              \n",
       "3 3                        3                        3                        3                        3                        3                        0               0               0               0               0               0               0               0               0              \n",
       "4 1                        1                        1                        1                        1                        1                        0               0               0               0               0               0               0               0               0              \n",
       "5 3                        3                        3                        3                        3                        3                        0               0               0               0               0               0               0               0               0              \n",
       "6 3                        3                        3                        3                        3                        3                        0               0               0               0               0               0               0               0               0              \n",
       "  HMO_INDICATOR10 HMO_INDICATOR11 HMO_INDICATOR12 VALID_DATE_OF_DEATH_SWITCH DATE_OF_DEATH year\n",
       "1 0               0               0               NA                         NA            2013\n",
       "2 0               0               0               NA                         NA            2013\n",
       "3 0               0               0               NA                         NA            2013\n",
       "4 0               0               0               NA                         NA            2013\n",
       "5 0               0               0               NA                         NA            2013\n",
       "6 0               0               0               NA                         NA            2013"
      ]
     },
     "metadata": {},
     "output_type": "display_data"
    }
   ],
   "source": [
    "head(mbsf_data)"
   ]
  },
  {
   "cell_type": "code",
   "execution_count": null,
   "id": "0b66bcd2-f000-482f-bf32-c3bcb79d690c",
   "metadata": {},
   "outputs": [],
   "source": []
  }
 ],
 "metadata": {
  "kernelspec": {
   "display_name": "R",
   "language": "R",
   "name": "ir"
  },
  "language_info": {
   "codemirror_mode": "r",
   "file_extension": ".r",
   "mimetype": "text/x-r-source",
   "name": "R",
   "pygments_lexer": "r",
   "version": "4.1.2"
  }
 },
 "nbformat": 4,
 "nbformat_minor": 5
}
